{
 "metadata": {
  "name": "",
  "signature": "sha256:2858c0de9f237768559acc0dfcb73566c13cfbfed6affb910e3c79007ae98806"
 },
 "nbformat": 3,
 "nbformat_minor": 0,
 "worksheets": [
  {
   "cells": [
    {
     "cell_type": "code",
     "collapsed": false,
     "input": [
      "import rdkit.Chem as Chem\n",
      "from rdkit.Chem import Draw\n",
      "from rdkit.Chem import PandasTools\n",
      "from rdkit.Chem.Draw import IPythonConsole # Enables RDKit IPython integration"
     ],
     "language": "python",
     "metadata": {},
     "outputs": [],
     "prompt_number": 1
    },
    {
     "cell_type": "code",
     "collapsed": false,
     "input": [
      "import pandas as pd"
     ],
     "language": "python",
     "metadata": {},
     "outputs": [],
     "prompt_number": 2
    },
    {
     "cell_type": "code",
     "collapsed": false,
     "input": [
      "df = pd.read_csv('/home/samo/Dropbox/programming/rdkitplayground/drugs.smi', delimiter=\"\\s\")"
     ],
     "language": "python",
     "metadata": {},
     "outputs": [
      {
       "output_type": "stream",
       "stream": "stderr",
       "text": [
        "/usr/lib/python2.7/site-packages/pandas/io/parsers.py:624: ParserWarning: Falling back to the 'python' engine because the 'c' engine does not support regex separators; you can avoid this warning by specifying engine='python'.\n",
        "  ParserWarning)\n"
       ]
      }
     ],
     "prompt_number": 3
    },
    {
     "cell_type": "code",
     "collapsed": false,
     "input": [
      "df.columns"
     ],
     "language": "python",
     "metadata": {},
     "outputs": [
      {
       "metadata": {},
       "output_type": "pyout",
       "prompt_number": 4,
       "text": [
        "Index([u'SMILES', u'Name'], dtype='object')"
       ]
      }
     ],
     "prompt_number": 4
    },
    {
     "cell_type": "code",
     "collapsed": false,
     "input": [
      "smiles = 'SMILES'\n",
      "names = 'Name'"
     ],
     "language": "python",
     "metadata": {},
     "outputs": [],
     "prompt_number": 5
    },
    {
     "cell_type": "code",
     "collapsed": false,
     "input": [
      "df = df[df[smiles].notnull()]"
     ],
     "language": "python",
     "metadata": {},
     "outputs": [],
     "prompt_number": 6
    },
    {
     "cell_type": "code",
     "collapsed": false,
     "input": [
      "PandasTools.AddMoleculeColumnToFrame(df, smilesCol=smiles)"
     ],
     "language": "python",
     "metadata": {},
     "outputs": [],
     "prompt_number": 7
    },
    {
     "cell_type": "code",
     "collapsed": false,
     "input": [
      "from rdkit.Chem import Descriptors\n",
      "df['logp'] = df['ROMol'].map(Descriptors.MolLogP)\n",
      "df['mw'] = df['ROMol'].map(Descriptors.MolWt)\n",
      "df['hac'] = df['ROMol'].map(Descriptors.HeavyAtomCount)"
     ],
     "language": "python",
     "metadata": {},
     "outputs": [],
     "prompt_number": 8
    },
    {
     "cell_type": "code",
     "collapsed": false,
     "input": [
      "len(df)"
     ],
     "language": "python",
     "metadata": {},
     "outputs": [
      {
       "metadata": {},
       "output_type": "pyout",
       "prompt_number": 9,
       "text": [
        "1033"
       ]
      }
     ],
     "prompt_number": 9
    },
    {
     "cell_type": "code",
     "collapsed": false,
     "input": [
      "df.dtypes"
     ],
     "language": "python",
     "metadata": {},
     "outputs": [
      {
       "metadata": {},
       "output_type": "pyout",
       "prompt_number": 10,
       "text": [
        "SMILES     object\n",
        "Name       object\n",
        "ROMol      object\n",
        "logp      float64\n",
        "mw        float64\n",
        "hac         int64\n",
        "dtype: object"
       ]
      }
     ],
     "prompt_number": 10
    },
    {
     "cell_type": "code",
     "collapsed": false,
     "input": [
      "df.head(1)"
     ],
     "language": "python",
     "metadata": {},
     "outputs": [
      {
       "html": [
        "<div style=\"max-height:1000px;max-width:1500px;overflow:auto;\">\n",
        "<table border=\"1\" class=\"dataframe\">\n",
        "  <thead>\n",
        "    <tr style=\"text-align: right;\">\n",
        "      <th></th>\n",
        "      <th>SMILES</th>\n",
        "      <th>Name</th>\n",
        "      <th>ROMol</th>\n",
        "      <th>logp</th>\n",
        "      <th>mw</th>\n",
        "      <th>hac</th>\n",
        "    </tr>\n",
        "  </thead>\n",
        "  <tbody>\n",
        "    <tr>\n",
        "      <th>0</th>\n",
        "      <td> Nc1nc(=O)c2c([nH]1)NCC(CNc1ccc(C(=O)NC(CCC(=O)O)C(=O)O)cc1)N2</td>\n",
        "      <td> DB00116</td>\n",
        "      <td> <img src=\"data:image/png;base64,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\" alt=\"Mol\"/></td>\n",
        "      <td>-0.282</td>\n",
        "      <td> 445.436</td>\n",
        "      <td> 32</td>\n",
        "    </tr>\n",
        "  </tbody>\n",
        "</table>\n",
        "</div>"
       ],
       "metadata": {},
       "output_type": "pyout",
       "prompt_number": 11,
       "text": [
        "                                                          SMILES     Name                                                                                                                                                                                                                                                                                                                                                                                                                                                                                                                                                                                                                                                                                                                                                                                                                                                                                                                                                                                                                                                                                                                                                                                                                                                                                                                                                                                                                                                                                                                                                                                                                                                                                                                                                                                                                                                                                                                                                                                                                                                                                                                                                                                                                                                                                                                                                                                                                                                                                                                                                                                                                                                                                                                                                                                                                                                                                                                                                                                                                                                                                                                                                                                                                                                                                                                                                                                                                                                                                                                                                                                                                                                                                                                                                                                                                                                                                                                                                                                                                                                                                                                                                                                                                                                                                                                                                                                                                                                                                                                                                                                                                                                                                                                                                                                                                                                                                                                                                                                                                                                                                                                                                                                                                                                                                                                                                                                                                                                                                                                                                                                                                                                                                                                                                                                                                                                                                                                                                                                                                                                                                                                                                                                                                                                                                                                                                                                                                                                                                                                                                                                                                                                                                                                                                                                                                                                                                                                                                                                                                                                                                                                                                                                                                                                                                                                                                                                                                                                                                                                                                                                                                                                                                                                                                                                                                                                                                                                                                                                                                                                                                                                                                                                                                                                                                                                                                                                                                                                                                                                                                                                                                                                                                                                                                                                                                                                                                                                                                                                                                                                                                                                                                                                                                                                                                                                                                                                                                                                                                                                                                                                                                                                                                                                                                                                                                                                                                                                                                                                                                                                                                                                                                                                                                                                                                                                                                                          ROMol   logp       mw  hac\n",
        "0  Nc1nc(=O)c2c([nH]1)NCC(CNc1ccc(C(=O)NC(CCC(=O)O)C(=O)O)cc1)N2  DB00116  <img src=\"data:image/png;base64,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\" alt=\"Mol\"/> -0.282  445.436   32"
       ]
      }
     ],
     "prompt_number": 11
    },
    {
     "cell_type": "code",
     "collapsed": false,
     "input": [
      "len(df)"
     ],
     "language": "python",
     "metadata": {},
     "outputs": [
      {
       "metadata": {},
       "output_type": "pyout",
       "prompt_number": 12,
       "text": [
        "1033"
       ]
      }
     ],
     "prompt_number": 12
    },
    {
     "cell_type": "code",
     "collapsed": false,
     "input": [
      "import numpy as np\n",
      "import os\n",
      "\n",
      "def SaveXlsxFromFrame(frame, outFile, molCol='ROMol', size=(300,300)):\n",
      "    \"\"\"\n",
      "    Saves pandas DataFrame as a xlsx file with embedded images.\n",
      "    It maps numpy data types to excel cell types:\n",
      "    int, float -> number\n",
      "    datetime -> datetime\n",
      "    object -> string (limited to 32k character due to xlsx limitations)\n",
      "    \n",
      "    Due to xlsxwriter limitations (other python xlsx writers have the same problem) \n",
      "    temporary image files have to be written to the hard drive.\n",
      "    \n",
      "    Cells with compound images are a bit larger than images due to excel.\n",
      "    Column width weirdness explained (from xlsxwriter docs):\n",
      "    The width corresponds to the column width value that is specified in Excel. \n",
      "    It is approximately equal to the length of a string in the default font of Calibri 11. \n",
      "    Unfortunately, there is no way to specify \u201cAutoFit\u201d for a column in the Excel file format.\n",
      "    This feature is only available at runtime from within Excel.\n",
      "    \"\"\"\n",
      "    \n",
      "    import xlsxwriter # don't want to make this a RDKit dependency\n",
      "       \n",
      "    cols = list(frame.columns)\n",
      "    print cols\n",
      "    cols.remove(molCol)\n",
      "    dataTypes = dict(frame.dtypes)\n",
      "\n",
      "    workbook = xlsxwriter.Workbook(outFile) # New workbook\n",
      "    worksheet = workbook.add_worksheet() # New work sheet\n",
      "    worksheet.set_column('A:A', size[0]/6.) # column width\n",
      "    \n",
      "    # Write first row with column names\n",
      "    c2 = 1\n",
      "    for x in cols:\n",
      "        worksheet.write_string(0, c2, x)\n",
      "        c2 += 1\n",
      "    \n",
      "    c = 1\n",
      "    tmpfiles = []\n",
      "    for index, row in frame.iterrows():\n",
      "        imfile = \"xlsx_tmp_img_%i.png\" %c\n",
      "        tmpfiles.append(imfile)\n",
      "        worksheet.set_row(c, height=size[1]) # looks like height is not in px?\n",
      "        Draw.MolToFile(row[molCol], imfile, size=size)  # has to save a file on disk in order for xlsxwriter to incorporate the image\n",
      "        worksheet.insert_image(c, 0, imfile)\n",
      "\n",
      "        c2 = 1\n",
      "        # Write data in columns and make some basic translation of numpy dtypes to excel data types\n",
      "        for x in cols:\n",
      "            if str(dataTypes[x]) == \"object\":\n",
      "                worksheet.write_string(c, c2, str(row[x])[:32000]) # string length is limited in xlsx\n",
      "            elif ('float' in str(dataTypes[x])) or ('int' in str(dataTypes[x])):\n",
      "                if (row[x] != np.nan) or (row[x] != np.inf):\n",
      "                    worksheet.write_number(c, c2, row[x])\n",
      "            elif 'datetime' in str(dataTypes[x]):\n",
      "                worksheet.write_datetime(c, c2, row[x])\n",
      "            c2 += 1\n",
      "        c += 1\n",
      "\n",
      "    workbook.close()\n",
      "    \n",
      "    for f in tmpfiles:\n",
      "        os.remove(f)\n",
      "    "
     ],
     "language": "python",
     "metadata": {},
     "outputs": [],
     "prompt_number": 13
    },
    {
     "cell_type": "markdown",
     "metadata": {},
     "source": [
      "#### Lets write selected columns and first 500 compounds"
     ]
    },
    {
     "cell_type": "code",
     "collapsed": false,
     "input": [
      "% time SaveXlsxFromFrame(df[['ROMol', smiles, names, 'logp', 'hac']][:500], 'demo.xlsx', size=(200,200))"
     ],
     "language": "python",
     "metadata": {},
     "outputs": [
      {
       "output_type": "stream",
       "stream": "stdout",
       "text": [
        "['ROMol', 'SMILES', 'Name', 'logp', 'hac']\n",
        "CPU times: user 4.34 s, sys: 107 ms, total: 4.45 s"
       ]
      },
      {
       "output_type": "stream",
       "stream": "stdout",
       "text": [
        "\n",
        "Wall time: 4.45 s\n"
       ]
      }
     ],
     "prompt_number": 14
    },
    {
     "cell_type": "markdown",
     "metadata": {},
     "source": [
      "\n",
      "\n",
      "Copyright (C) 2014 by Samo Turk, [BioMed X GmbH](http://bio.mx)\n",
      "\n",
      "This work is licensed under the Creative Commons Attribution-ShareAlike 3.0 License. To view a copy of this license, visit http://creativecommons.org/licenses/by-sa/3.0/ or send a letter to Creative Commons, 543 Howard Street, 5th Floor, San Francisco, California, 94105, USA.\n"
     ]
    }
   ],
   "metadata": {}
  }
 ]
}
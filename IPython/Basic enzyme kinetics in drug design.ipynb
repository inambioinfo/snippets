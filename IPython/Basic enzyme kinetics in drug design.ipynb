{
 "cells": [
  {
   "cell_type": "markdown",
   "metadata": {},
   "source": [
    "# Basic enzyme kinetics in drug design\n",
    "### How to estimate IC50 values"
   ]
  },
  {
   "cell_type": "code",
   "execution_count": 1,
   "metadata": {
    "collapsed": true
   },
   "outputs": [],
   "source": [
    "% matplotlib inline"
   ]
  },
  {
   "cell_type": "code",
   "execution_count": 2,
   "metadata": {
    "collapsed": true
   },
   "outputs": [],
   "source": [
    "import numpy as np\n",
    "import pandas as pd\n",
    "from scipy.stats import linregress\n",
    "import matplotlib.pyplot as plt"
   ]
  },
  {
   "cell_type": "code",
   "execution_count": 3,
   "metadata": {
    "collapsed": true
   },
   "outputs": [],
   "source": [
    "plt.style.use('bmh')"
   ]
  },
  {
   "cell_type": "markdown",
   "metadata": {},
   "source": [
    "#### Data from experiment\n",
    "Concentrations were varied from 100 to 0.25nM. Results were inhibition at certain concentration"
   ]
  },
  {
   "cell_type": "code",
   "execution_count": 4,
   "metadata": {
    "collapsed": true
   },
   "outputs": [],
   "source": [
    "concentrations = [100.00,55.00,30.25,16.64,9.15,5.03,2.77,1.52,0.84,0.46,0.25,]\n",
    "inhibitions = [0.9154582829,0.9025139059,0.8360481154,0.7489504283,0.6251563493,0.5068866746,\n",
    "               0.3277214548,0.2411145656,0.1478374906,0.0722193139,0.0637565619]"
   ]
  },
  {
   "cell_type": "code",
   "execution_count": 5,
   "metadata": {
    "collapsed": false
   },
   "outputs": [],
   "source": [
    "df = pd.DataFrame()"
   ]
  },
  {
   "cell_type": "code",
   "execution_count": 6,
   "metadata": {
    "collapsed": true
   },
   "outputs": [],
   "source": [
    "df['c'] = concentrations\n",
    "df['%inh'] = np.array(inhibitions)*100 # so that we have % inhibition"
   ]
  },
  {
   "cell_type": "code",
   "execution_count": 7,
   "metadata": {
    "collapsed": false
   },
   "outputs": [
    {
     "data": {
      "text/html": [
       "<div style=\"max-height:1000px;max-width:1500px;overflow:auto;\">\n",
       "<table border=\"1\" class=\"dataframe\">\n",
       "  <thead>\n",
       "    <tr style=\"text-align: right;\">\n",
       "      <th></th>\n",
       "      <th>c</th>\n",
       "      <th>%inh</th>\n",
       "    </tr>\n",
       "  </thead>\n",
       "  <tbody>\n",
       "    <tr>\n",
       "      <th>0</th>\n",
       "      <td>100.00</td>\n",
       "      <td>91.545828</td>\n",
       "    </tr>\n",
       "    <tr>\n",
       "      <th>1</th>\n",
       "      <td>55.00</td>\n",
       "      <td>90.251391</td>\n",
       "    </tr>\n",
       "    <tr>\n",
       "      <th>2</th>\n",
       "      <td>30.25</td>\n",
       "      <td>83.604812</td>\n",
       "    </tr>\n",
       "    <tr>\n",
       "      <th>3</th>\n",
       "      <td>16.64</td>\n",
       "      <td>74.895043</td>\n",
       "    </tr>\n",
       "    <tr>\n",
       "      <th>4</th>\n",
       "      <td>9.15</td>\n",
       "      <td>62.515635</td>\n",
       "    </tr>\n",
       "    <tr>\n",
       "      <th>5</th>\n",
       "      <td>5.03</td>\n",
       "      <td>50.688667</td>\n",
       "    </tr>\n",
       "    <tr>\n",
       "      <th>6</th>\n",
       "      <td>2.77</td>\n",
       "      <td>32.772145</td>\n",
       "    </tr>\n",
       "    <tr>\n",
       "      <th>7</th>\n",
       "      <td>1.52</td>\n",
       "      <td>24.111457</td>\n",
       "    </tr>\n",
       "    <tr>\n",
       "      <th>8</th>\n",
       "      <td>0.84</td>\n",
       "      <td>14.783749</td>\n",
       "    </tr>\n",
       "    <tr>\n",
       "      <th>9</th>\n",
       "      <td>0.46</td>\n",
       "      <td>7.221931</td>\n",
       "    </tr>\n",
       "    <tr>\n",
       "      <th>10</th>\n",
       "      <td>0.25</td>\n",
       "      <td>6.375656</td>\n",
       "    </tr>\n",
       "  </tbody>\n",
       "</table>\n",
       "</div>"
      ],
      "text/plain": [
       "         c       %inh\n",
       "0   100.00  91.545828\n",
       "1    55.00  90.251391\n",
       "2    30.25  83.604812\n",
       "3    16.64  74.895043\n",
       "4     9.15  62.515635\n",
       "5     5.03  50.688667\n",
       "6     2.77  32.772145\n",
       "7     1.52  24.111457\n",
       "8     0.84  14.783749\n",
       "9     0.46   7.221931\n",
       "10    0.25   6.375656"
      ]
     },
     "execution_count": 7,
     "metadata": {},
     "output_type": "execute_result"
    }
   ],
   "source": [
    "df"
   ]
  },
  {
   "cell_type": "code",
   "execution_count": 8,
   "metadata": {
    "collapsed": false
   },
   "outputs": [
    {
     "data": {
      "text/plain": [
       "<matplotlib.text.Text at 0x7ff542381350>"
      ]
     },
     "execution_count": 8,
     "metadata": {},
     "output_type": "execute_result"
    },
    {
     "data": {
      "image/png": "[encoded data removed]",
      "text/plain": [
       "<matplotlib.figure.Figure at 0x7ff5423ba690>"
      ]
     },
     "metadata": {},
     "output_type": "display_data"
    }
   ],
   "source": [
    "plt.scatter(df['c'], df['%inh'])\n",
    "plt.xlabel('c')\n",
    "plt.ylabel('%inh')"
   ]
  },
  {
   "cell_type": "markdown",
   "metadata": {},
   "source": [
    "### How to calculate $IC_{50}$\n",
    "$\\log\\left( {\\%inh\\over 100-\\%inh} \\right) = n\\log({c}) - \\log({Kd}).$\n",
    "\n",
    "* n - Hill coefficient, ideally for classical competitive inhibitors equals to 1.  \n",
    "* n > Positively cooperative binding\n",
    "* n < Negatively cooperative binding\n",
    "* High **n** values indicate **aggregators!** (Shoichet, J. Med. Chem. 2006, 49, 7274-7277)\n"
   ]
  },
  {
   "cell_type": "code",
   "execution_count": 9,
   "metadata": {
    "collapsed": true
   },
   "outputs": [],
   "source": [
    "df['logc'] = df['c'].map(np.log10)\n",
    "df['%inh/(100-%inh)'] = df.apply(lambda x: np.log10(x['%inh']/(100-x['%inh'])), axis=1)"
   ]
  },
  {
   "cell_type": "markdown",
   "metadata": {},
   "source": [
    "Sigmoid curve, **linear part from 20 to 80% inhibition**"
   ]
  },
  {
   "cell_type": "code",
   "execution_count": 10,
   "metadata": {
    "collapsed": false
   },
   "outputs": [
    {
     "data": {
      "text/plain": [
       "<matplotlib.text.Text at 0x7ff542286790>"
      ]
     },
     "execution_count": 10,
     "metadata": {},
     "output_type": "execute_result"
    },
    {
     "data": {
      "image/png": "[encoded data removed]",
      "text/plain": [
       "<matplotlib.figure.Figure at 0x7ff5423ba9d0>"
      ]
     },
     "metadata": {},
     "output_type": "display_data"
    }
   ],
   "source": [
    "plt.scatter(df['logc'], df['%inh'])\n",
    "plt.xlabel('logc')\n",
    "plt.ylabel('%inh')"
   ]
  },
  {
   "cell_type": "code",
   "execution_count": 11,
   "metadata": {
    "collapsed": false
   },
   "outputs": [
    {
     "data": {
      "text/plain": [
       "<matplotlib.text.Text at 0x7ff54229bcd0>"
      ]
     },
     "execution_count": 11,
     "metadata": {},
     "output_type": "execute_result"
    },
    {
     "data": {
      "image/png": "[encoded data removed]",
      "text/plain": [
       "<matplotlib.figure.Figure at 0x7ff5422087d0>"
      ]
     },
     "metadata": {},
     "output_type": "display_data"
    }
   ],
   "source": [
    "plt.scatter(df['logc'], df['%inh/(100-%inh)'])\n",
    "plt.xlabel('logc')\n",
    "plt.ylabel('%inh/(100-%inh)')"
   ]
  },
  {
   "cell_type": "markdown",
   "metadata": {},
   "source": [
    "### Calculate slope (n) and intercept (-log(Kd))"
   ]
  },
  {
   "cell_type": "markdown",
   "metadata": {},
   "source": [
    "For all points"
   ]
  },
  {
   "cell_type": "code",
   "execution_count": 12,
   "metadata": {
    "collapsed": false
   },
   "outputs": [
    {
     "name": "stdout",
     "output_type": "stream",
     "text": [
      "Slope: 0.916173, intercept: -0.681531 and R-squared: 0.993312\n"
     ]
    }
   ],
   "source": [
    "slope, intercept, r_value, p, stderr = linregress(df['logc'], df['%inh/(100-%inh)'])\n",
    "print(\"Slope: %f, intercept: %f and R-squared: %f\" % (slope, intercept, r_value**2))"
   ]
  },
  {
   "cell_type": "markdown",
   "metadata": {},
   "source": [
    "With linear part only"
   ]
  },
  {
   "cell_type": "code",
   "execution_count": 13,
   "metadata": {
    "collapsed": false
   },
   "outputs": [
    {
     "name": "stdout",
     "output_type": "stream",
     "text": [
      "Slope: 0.945964, intercept: -0.686931 and R-squared: 0.995574\n"
     ]
    }
   ],
   "source": [
    "slope, intercept, r_value, p, stderr = linregress(list(df['logc'])[1:14], list(df['%inh/(100-%inh)'])[1:14])\n",
    "print(\"Slope: %f, intercept: %f and R-squared: %f\" % (slope, intercept, r_value**2))"
   ]
  },
  {
   "cell_type": "code",
   "execution_count": 14,
   "metadata": {
    "collapsed": false
   },
   "outputs": [
    {
     "data": {
      "text/plain": [
       "<matplotlib.text.Text at 0x7ff542109a90>"
      ]
     },
     "execution_count": 14,
     "metadata": {},
     "output_type": "execute_result"
    },
    {
     "data": {
      "image/png": "[encoded data removed]",
      "text/plain": [
       "<matplotlib.figure.Figure at 0x7ff542172050>"
      ]
     },
     "metadata": {},
     "output_type": "display_data"
    }
   ],
   "source": [
    "plt.scatter(df['logc'], df['%inh/(100-%inh)'])\n",
    "plt.plot(df['logc'], df['logc']*slope + intercept, 'r')\n",
    "plt.xlabel('logc')\n",
    "plt.ylabel('%inh/(100-%inh)')"
   ]
  },
  {
   "cell_type": "markdown",
   "metadata": {},
   "source": [
    "$\\log\\left( {\\%inh\\over 100-\\%inh} \\right) = k\\log({c}) - \\log({Kd}).$\n",
    "\n",
    "$IC_{50}$ is the concentration at y = 0; $ 0 = 0.91*\\log10(c) + 0.681531$"
   ]
  },
  {
   "cell_type": "code",
   "execution_count": 15,
   "metadata": {
    "collapsed": false
   },
   "outputs": [
    {
     "data": {
      "text/plain": [
       "5.609642242823899"
      ]
     },
     "execution_count": 15,
     "metadata": {},
     "output_type": "execute_result"
    }
   ],
   "source": [
    "10**(0.681531/0.91)"
   ]
  },
  {
   "cell_type": "markdown",
   "metadata": {},
   "source": [
    "In an ideal case with n=1 then $Kd=IC_{50}$.  \n",
    "Kd:"
   ]
  },
  {
   "cell_type": "code",
   "execution_count": 16,
   "metadata": {
    "collapsed": false
   },
   "outputs": [
    {
     "data": {
      "text/plain": [
       "4.803203643499094"
      ]
     },
     "execution_count": 16,
     "metadata": {},
     "output_type": "execute_result"
    }
   ],
   "source": [
    "10**0.681531"
   ]
  },
  {
   "cell_type": "markdown",
   "metadata": {},
   "source": [
    "###And relation to Ki:\n",
    "$K_i = \\frac{IC_{50}}{1+\\frac{[S]}{K_m}}$\n",
    "\n",
    "Assuming [S] = Km"
   ]
  },
  {
   "cell_type": "code",
   "execution_count": 17,
   "metadata": {
    "collapsed": false
   },
   "outputs": [
    {
     "data": {
      "text/plain": [
       "2.80482"
      ]
     },
     "execution_count": 17,
     "metadata": {},
     "output_type": "execute_result"
    }
   ],
   "source": [
    "5.60964/(1+50/50)"
   ]
  },
  {
   "cell_type": "markdown",
   "metadata": {},
   "source": [
    "## Calculating $IC_{50}$ from one or two points\n",
    "You have to make some assumptions\n",
    "* n = 1, $IC_{50}$ = Kd\n",
    "* you are in the linear part of the curve  \n",
    "<br>\n",
    "Equation then looks like:  \n",
    "$IC_{50} = 10^{\\log10(c)-\\log10(\\%inh/(100-\\%inh))}$  \n",
    "<br>\n",
    "You can reduce it to:  \n",
    "$IC_{50} = {c * (100-\\%inh)\\over \\%inh}$"
   ]
  },
  {
   "cell_type": "code",
   "execution_count": 18,
   "metadata": {
    "collapsed": true
   },
   "outputs": [],
   "source": [
    "def calcIC50(c, inh):\n",
    "    return c*(100-inh)/inh"
   ]
  },
  {
   "cell_type": "code",
   "execution_count": 19,
   "metadata": {
    "collapsed": false
   },
   "outputs": [],
   "source": [
    "df['IC50'] = df.apply(lambda x: calcIC50(x['c'],x['%inh']), axis = 1)"
   ]
  },
  {
   "cell_type": "markdown",
   "metadata": {},
   "source": [
    "It works well except at the extremes. People would generally use the above assumptions if %inh is between 20 and 80%."
   ]
  },
  {
   "cell_type": "code",
   "execution_count": 20,
   "metadata": {
    "collapsed": false
   },
   "outputs": [
    {
     "data": {
      "text/html": [
       "<div style=\"max-height:1000px;max-width:1500px;overflow:auto;\">\n",
       "<table border=\"1\" class=\"dataframe\">\n",
       "  <thead>\n",
       "    <tr style=\"text-align: right;\">\n",
       "      <th></th>\n",
       "      <th>c</th>\n",
       "      <th>%inh</th>\n",
       "      <th>logc</th>\n",
       "      <th>%inh/(100-%inh)</th>\n",
       "      <th>IC50</th>\n",
       "    </tr>\n",
       "  </thead>\n",
       "  <tbody>\n",
       "    <tr>\n",
       "      <th>0</th>\n",
       "      <td>100.00</td>\n",
       "      <td>91.545828</td>\n",
       "      <td>2.000000</td>\n",
       "      <td>1.034567</td>\n",
       "      <td>9.234907</td>\n",
       "    </tr>\n",
       "    <tr>\n",
       "      <th>1</th>\n",
       "      <td>55.00</td>\n",
       "      <td>90.251391</td>\n",
       "      <td>1.740363</td>\n",
       "      <td>0.966511</td>\n",
       "      <td>5.940889</td>\n",
       "    </tr>\n",
       "    <tr>\n",
       "      <th>2</th>\n",
       "      <td>30.25</td>\n",
       "      <td>83.604812</td>\n",
       "      <td>1.480725</td>\n",
       "      <td>0.707515</td>\n",
       "      <td>5.932128</td>\n",
       "    </tr>\n",
       "    <tr>\n",
       "      <th>3</th>\n",
       "      <td>16.64</td>\n",
       "      <td>74.895043</td>\n",
       "      <td>1.221153</td>\n",
       "      <td>0.474694</td>\n",
       "      <td>5.577759</td>\n",
       "    </tr>\n",
       "    <tr>\n",
       "      <th>4</th>\n",
       "      <td>9.15</td>\n",
       "      <td>62.515635</td>\n",
       "      <td>0.961421</td>\n",
       "      <td>0.222138</td>\n",
       "      <td>5.486339</td>\n",
       "    </tr>\n",
       "    <tr>\n",
       "      <th>5</th>\n",
       "      <td>5.03</td>\n",
       "      <td>50.688667</td>\n",
       "      <td>0.701568</td>\n",
       "      <td>0.011964</td>\n",
       "      <td>4.893323</td>\n",
       "    </tr>\n",
       "    <tr>\n",
       "      <th>6</th>\n",
       "      <td>2.77</td>\n",
       "      <td>32.772145</td>\n",
       "      <td>0.442480</td>\n",
       "      <td>-0.312044</td>\n",
       "      <td>5.682300</td>\n",
       "    </tr>\n",
       "    <tr>\n",
       "      <th>7</th>\n",
       "      <td>1.52</td>\n",
       "      <td>24.111457</td>\n",
       "      <td>0.181844</td>\n",
       "      <td>-0.497953</td>\n",
       "      <td>4.784057</td>\n",
       "    </tr>\n",
       "    <tr>\n",
       "      <th>8</th>\n",
       "      <td>0.84</td>\n",
       "      <td>14.783749</td>\n",
       "      <td>-0.075721</td>\n",
       "      <td>-0.760738</td>\n",
       "      <td>4.841915</td>\n",
       "    </tr>\n",
       "    <tr>\n",
       "      <th>9</th>\n",
       "      <td>0.46</td>\n",
       "      <td>7.221931</td>\n",
       "      <td>-0.337242</td>\n",
       "      <td>-1.108792</td>\n",
       "      <td>5.909487</td>\n",
       "    </tr>\n",
       "    <tr>\n",
       "      <th>10</th>\n",
       "      <td>0.25</td>\n",
       "      <td>6.375656</td>\n",
       "      <td>-0.602060</td>\n",
       "      <td>-1.166864</td>\n",
       "      <td>3.671165</td>\n",
       "    </tr>\n",
       "  </tbody>\n",
       "</table>\n",
       "</div>"
      ],
      "text/plain": [
       "         c       %inh      logc  %inh/(100-%inh)      IC50\n",
       "0   100.00  91.545828  2.000000         1.034567  9.234907\n",
       "1    55.00  90.251391  1.740363         0.966511  5.940889\n",
       "2    30.25  83.604812  1.480725         0.707515  5.932128\n",
       "3    16.64  74.895043  1.221153         0.474694  5.577759\n",
       "4     9.15  62.515635  0.961421         0.222138  5.486339\n",
       "5     5.03  50.688667  0.701568         0.011964  4.893323\n",
       "6     2.77  32.772145  0.442480        -0.312044  5.682300\n",
       "7     1.52  24.111457  0.181844        -0.497953  4.784057\n",
       "8     0.84  14.783749 -0.075721        -0.760738  4.841915\n",
       "9     0.46   7.221931 -0.337242        -1.108792  5.909487\n",
       "10    0.25   6.375656 -0.602060        -1.166864  3.671165"
      ]
     },
     "execution_count": 20,
     "metadata": {},
     "output_type": "execute_result"
    }
   ],
   "source": [
    "df"
   ]
  },
  {
   "cell_type": "code",
   "execution_count": 21,
   "metadata": {
    "collapsed": true
   },
   "outputs": [],
   "source": [
    "def calc_inh(c, ic50):\n",
    "    return 100*c/(ic50+c)"
   ]
  },
  {
   "cell_type": "markdown",
   "metadata": {},
   "source": [
    "Data in [PKIS](https://www.ebi.ac.uk/chembldb/extra/PKIS/) is at two different concentrations (1 and 0.1 $\\mu$M).  \n",
    "In an ideal case %inh at higher concentration is around 80 and lower around 20%. Then you can use average of estimated IC50s."
   ]
  },
  {
   "cell_type": "code",
   "execution_count": 22,
   "metadata": {
    "collapsed": false,
    "scrolled": false
   },
   "outputs": [
    {
     "data": {
      "text/plain": [
       "250"
      ]
     },
     "execution_count": 22,
     "metadata": {},
     "output_type": "execute_result"
    }
   ],
   "source": [
    "calcIC50(1000, 80) # IC50"
   ]
  },
  {
   "cell_type": "code",
   "execution_count": 23,
   "metadata": {
    "collapsed": false
   },
   "outputs": [
    {
     "data": {
      "text/plain": [
       "28"
      ]
     },
     "execution_count": 23,
     "metadata": {},
     "output_type": "execute_result"
    }
   ],
   "source": [
    "calc_inh(100, 250) # %inh"
   ]
  },
  {
   "cell_type": "markdown",
   "metadata": {},
   "source": [
    "Potent inhibitors have $IC_{50} < 10 nM $ and even at 100 $\\mu$M enzyme is completely inhibited (more than 90%) which means estimations are not very reliable because we are not in the linear part."
   ]
  },
  {
   "cell_type": "code",
   "execution_count": 24,
   "metadata": {
    "collapsed": false
   },
   "outputs": [
    {
     "data": {
      "text/plain": [
       "98"
      ]
     },
     "execution_count": 24,
     "metadata": {},
     "output_type": "execute_result"
    }
   ],
   "source": [
    "calc_inh(100, 2) # %inh"
   ]
  },
  {
   "cell_type": "markdown",
   "metadata": {},
   "source": [
    "With this method and data points at 1 and 0.1 $\\mu$M you still correctly calculate values for 25nM inhibitor"
   ]
  },
  {
   "cell_type": "code",
   "execution_count": 25,
   "metadata": {
    "collapsed": false
   },
   "outputs": [
    {
     "data": {
      "text/plain": [
       "[(100, 0), (95, 5), (90, 10), (86, 15), (83, 20), (80, 25)]"
      ]
     },
     "execution_count": 25,
     "metadata": {},
     "output_type": "execute_result"
    }
   ],
   "source": [
    "[(calc_inh(100,x),x) for x in range(0,30,5)]"
   ]
  },
  {
   "cell_type": "markdown",
   "metadata": {},
   "source": [
    "%inh higher than 80 are unreliable"
   ]
  },
  {
   "cell_type": "code",
   "execution_count": 26,
   "metadata": {
    "collapsed": false
   },
   "outputs": [
    {
     "data": {
      "text/plain": [
       "0.010001000100015117"
      ]
     },
     "execution_count": 26,
     "metadata": {},
     "output_type": "execute_result"
    }
   ],
   "source": [
    "calcIC50(100, 99.99) # IC50"
   ]
  },
  {
   "cell_type": "markdown",
   "metadata": {},
   "source": [
    "Safe estimation: $c/10$  \n",
    "It is still obvious that you have a really potent inhibitor.\n"
   ]
  },
  {
   "cell_type": "code",
   "execution_count": 27,
   "metadata": {
    "collapsed": false
   },
   "outputs": [
    {
     "data": {
      "text/plain": [
       "10"
      ]
     },
     "execution_count": 27,
     "metadata": {},
     "output_type": "execute_result"
    }
   ],
   "source": [
    "100/10"
   ]
  },
  {
   "cell_type": "markdown",
   "metadata": {},
   "source": [
    "%inh higher lower than 20 are also unreliable"
   ]
  },
  {
   "cell_type": "code",
   "execution_count": 28,
   "metadata": {
    "collapsed": false
   },
   "outputs": [
    {
     "data": {
      "text/plain": [
       "[(25, 3000), (22, 3500), (20, 4000), (18, 4500), (16, 5000), (15, 5500)]"
      ]
     },
     "execution_count": 28,
     "metadata": {},
     "output_type": "execute_result"
    }
   ],
   "source": [
    "[(calc_inh(1000,x),x) for x in range(3000,6000,500)]"
   ]
  },
  {
   "cell_type": "markdown",
   "metadata": {},
   "source": [
    "Safe estimation: $c*10$  \n",
    "Still obvious you have inactive compound"
   ]
  },
  {
   "cell_type": "code",
   "execution_count": 29,
   "metadata": {
    "collapsed": false
   },
   "outputs": [
    {
     "data": {
      "text/plain": [
       "10000"
      ]
     },
     "execution_count": 29,
     "metadata": {},
     "output_type": "execute_result"
    }
   ],
   "source": [
    "1000*10"
   ]
  },
  {
   "cell_type": "markdown",
   "metadata": {},
   "source": [
    "Now you understand why some data sets have pIC50s at the extremes always the same discrete value"
   ]
  },
  {
   "cell_type": "code",
   "execution_count": 30,
   "metadata": {
    "collapsed": false
   },
   "outputs": [
    {
     "data": {
      "text/plain": [
       "-5.0"
      ]
     },
     "execution_count": 30,
     "metadata": {},
     "output_type": "execute_result"
    }
   ],
   "source": [
    "np.log10(0.000001*10)"
   ]
  },
  {
   "cell_type": "markdown",
   "metadata": {},
   "source": [
    "## Final rules:\n",
    "* %inh at lower concentration ~20 and at higher ~80: $IC_{50} = ({c_1 * (100-\\%inh_1)\\over \\%inh_1}+{c_2 * (100-\\%inh_2)\\over \\%inh_2})/2$\n",
    "* %inh at one concentration between 20 and 80:  $IC_{50} = {c * (100-\\%inh)\\over \\%inh}$\n",
    "* %inh at lower concentration > 80: $c/10$, c = lowest c\n",
    "* %inh at higher concentration < 20: $c*10$, c = highest c\n"
   ]
  },
  {
   "cell_type": "code",
   "execution_count": null,
   "metadata": {
    "collapsed": true
   },
   "outputs": [],
   "source": []
  },
  {
   "cell_type": "markdown",
   "metadata": {},
   "source": [
    "\n",
    "\n",
    "Copyright (C) 2013, 2014 by Samo Turk, BioMed X GmbH\n",
    "\n",
    "This work is licensed under the Creative Commons Attribution-ShareAlike 3.0 License. To view a copy of this license, visit http://creativecommons.org/licenses/by-sa/3.0/ or send a letter to Creative Commons, 543 Howard Street, 5th Floor, San Francisco, California, 94105, USA.\n"
   ]
  },
  {
   "cell_type": "code",
   "execution_count": null,
   "metadata": {
    "collapsed": true
   },
   "outputs": [],
   "source": []
  }
 ],
 "metadata": {
  "kernelspec": {
   "display_name": "Python 2",
   "language": "python",
   "name": "python2"
  },
  "language_info": {
   "codemirror_mode": {
    "name": "ipython",
    "version": 2
   },
   "file_extension": ".py",
   "mimetype": "text/x-python",
   "name": "python",
   "nbconvert_exporter": "python",
   "pygments_lexer": "ipython2",
   "version": "2.7.9"
  }
 },
 "nbformat": 4,
 "nbformat_minor": 0
}

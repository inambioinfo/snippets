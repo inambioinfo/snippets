{
 "metadata": {
  "name": "",
  "signature": "sha256:fc2dba531f27a061e197afabc5a225669dab5cbfa401784398d2df8f5e8d2af9"
 },
 "nbformat": 3,
 "nbformat_minor": 0,
 "worksheets": [
  {
   "cells": [
    {
     "cell_type": "markdown",
     "metadata": {},
     "source": [
      "# Demo of SaveXlsxFromFrame function"
     ]
    },
    {
     "cell_type": "code",
     "collapsed": false,
     "input": [
      "import rdkit.Chem as Chem\n",
      "from rdkit.Chem import Draw\n",
      "from rdkit.Chem import PandasTools\n",
      "from rdkit.Chem.Draw import IPythonConsole # Enables RDKit IPython integration\n",
      "import pandas as pd"
     ],
     "language": "python",
     "metadata": {},
     "outputs": [],
     "prompt_number": 1
    },
    {
     "cell_type": "markdown",
     "metadata": {},
     "source": [
      "Load data"
     ]
    },
    {
     "cell_type": "code",
     "collapsed": false,
     "input": [
      "df = pd.read_csv('drugs.smi', delimiter=\"\\s\")"
     ],
     "language": "python",
     "metadata": {},
     "outputs": [
      {
       "output_type": "stream",
       "stream": "stderr",
       "text": [
        "/usr/lib/python2.7/site-packages/pandas/io/parsers.py:624: ParserWarning: Falling back to the 'python' engine because the 'c' engine does not support regex separators; you can avoid this warning by specifying engine='python'.\n",
        "  ParserWarning)\n"
       ]
      }
     ],
     "prompt_number": 2
    },
    {
     "cell_type": "code",
     "collapsed": false,
     "input": [
      "df.columns"
     ],
     "language": "python",
     "metadata": {},
     "outputs": [
      {
       "metadata": {},
       "output_type": "pyout",
       "prompt_number": 3,
       "text": [
        "Index([u'SMILES', u'Name'], dtype='object')"
       ]
      }
     ],
     "prompt_number": 3
    },
    {
     "cell_type": "code",
     "collapsed": false,
     "input": [
      "smiles = 'SMILES'\n",
      "names = 'Name'"
     ],
     "language": "python",
     "metadata": {},
     "outputs": [],
     "prompt_number": 4
    },
    {
     "cell_type": "code",
     "collapsed": false,
     "input": [
      "df = df[df[smiles].notnull()]"
     ],
     "language": "python",
     "metadata": {},
     "outputs": [],
     "prompt_number": 5
    },
    {
     "cell_type": "markdown",
     "metadata": {},
     "source": [
      "Add mol objects"
     ]
    },
    {
     "cell_type": "code",
     "collapsed": false,
     "input": [
      "PandasTools.AddMoleculeColumnToFrame(df, smilesCol=smiles)"
     ],
     "language": "python",
     "metadata": {},
     "outputs": [],
     "prompt_number": 6
    },
    {
     "cell_type": "markdown",
     "metadata": {},
     "source": [
      "Add some columns with number"
     ]
    },
    {
     "cell_type": "code",
     "collapsed": false,
     "input": [
      "from rdkit.Chem import Descriptors\n",
      "df['logp'] = df['ROMol'].map(Descriptors.MolLogP)\n",
      "df['mw'] = df['ROMol'].map(Descriptors.MolWt)\n",
      "df['hac'] = df['ROMol'].map(Descriptors.HeavyAtomCount)"
     ],
     "language": "python",
     "metadata": {},
     "outputs": [],
     "prompt_number": 7
    },
    {
     "cell_type": "code",
     "collapsed": false,
     "input": [
      "len(df)"
     ],
     "language": "python",
     "metadata": {},
     "outputs": [
      {
       "metadata": {},
       "output_type": "pyout",
       "prompt_number": 8,
       "text": [
        "1000"
       ]
      }
     ],
     "prompt_number": 8
    },
    {
     "cell_type": "markdown",
     "metadata": {},
     "source": [
      "Check dtypes of columns"
     ]
    },
    {
     "cell_type": "code",
     "collapsed": false,
     "input": [
      "df.dtypes"
     ],
     "language": "python",
     "metadata": {},
     "outputs": [
      {
       "metadata": {},
       "output_type": "pyout",
       "prompt_number": 9,
       "text": [
        "SMILES     object\n",
        "Name       object\n",
        "ROMol      object\n",
        "logp      float64\n",
        "mw        float64\n",
        "hac         int64\n",
        "dtype: object"
       ]
      }
     ],
     "prompt_number": 9
    },
    {
     "cell_type": "code",
     "collapsed": false,
     "input": [
      "df.head(1)"
     ],
     "language": "python",
     "metadata": {},
     "outputs": [
      {
       "html": [
        "<div style=\"max-height:1000px;max-width:1500px;overflow:auto;\">\n",
        "<table border=\"1\" class=\"dataframe\">\n",
        "  <thead>\n",
        "    <tr style=\"text-align: right;\">\n",
        "      <th></th>\n",
        "      <th>SMILES</th>\n",
        "      <th>Name</th>\n",
        "      <th>ROMol</th>\n",
        "      <th>logp</th>\n",
        "      <th>mw</th>\n",
        "      <th>hac</th>\n",
        "    </tr>\n",
        "  </thead>\n",
        "  <tbody>\n",
        "    <tr>\n",
        "      <th>0</th>\n",
        "      <td> NC1=NCC(c2ccccc2)O1</td>\n",
        "      <td> CHEMBL106258</td>\n",
        "      <td> <img src=\"data:image/png;base64,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\" alt=\"Mol\"/></td>\n",
        "      <td> 1.0726</td>\n",
        "      <td> 162.192</td>\n",
        "      <td> 12</td>\n",
        "    </tr>\n",
        "  </tbody>\n",
        "</table>\n",
        "</div>"
       ],
       "metadata": {},
       "output_type": "pyout",
       "prompt_number": 10,
       "text": [
        "                SMILES          Name                                                                                                                                                                                                                                                                                                                                                                                                                                                                                                                                                                                                                                                                                                                                                                                                                                                                                                                                                                                                                                                                                                                                                                                                                                                                                                                                                                                                                                                                                                                                                                                                                                                                                                                                                                                                                                                                                                                                                                                                                                                                                                                                                                                                                                                                                                                                                                                                                                                                                                                                                                                                                                                                                                                                                                                                                                                                                                                                                                                                                                                                                                                                                                                                                                                                                                                                                                                                                                                                                                                                                                                                                                                                                                                                                                                                                                                                                                                                                                                                                                                                                                                                                                                                                                                                                                                                                                                                                                                                                                                                                                                                                                                                                                                                                                                                                                                                                                                                                                                                                                                                                                                                                                                                                                                                                                                                                                                                                                                                                                                                                                                                                                                                                                                                                                                                                                                                                                                                                                                                                                                                                                                                                                                                                                                                                                                                                                                                                                                                                                                                                                                                                                                                                                                                                                                                                                                                                                                                                                                                                                                                                                                                                                                                                                                                                                                                                                                                                                                                                                                                                                                                                                                                                                                                                                                                                                                                                                                                                                                                                                                                                                                                                                                                                                                                                                                                                                                                                                                                                                                                                                                                                                                                                                                                                                                                                                                                                                                                                                                                                                                                                                                                                                                                                                                                                                                                                                                                                                                                                                                                                                                                                                                                                                                                                                                                                                                                                                                                                                                                                                                                                                                                                                                                                                                                                                                                                                                                                                                                                                                                                                                                                                              ROMol    logp       mw  hac\n",
        "0  NC1=NCC(c2ccccc2)O1  CHEMBL106258  <img src=\"data:image/png;base64,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\" alt=\"Mol\"/>  1.0726  162.192   12"
       ]
      }
     ],
     "prompt_number": 10
    },
    {
     "cell_type": "code",
     "collapsed": false,
     "input": [
      "len(df)"
     ],
     "language": "python",
     "metadata": {},
     "outputs": [
      {
       "metadata": {},
       "output_type": "pyout",
       "prompt_number": 11,
       "text": [
        "1000"
       ]
      }
     ],
     "prompt_number": 11
    },
    {
     "cell_type": "code",
     "collapsed": false,
     "input": [
      "import numpy as np\n",
      "import os\n",
      "from cStringIO import StringIO\n",
      "\n",
      "def SaveXlsxFromFrame(frame, outFile, molCol='ROMol', size=(300,300)):\n",
      "    \"\"\"\n",
      "    Saves pandas DataFrame as a xlsx file with embedded images.\n",
      "    It maps numpy data types to excel cell types:\n",
      "    int, float -> number\n",
      "    datetime -> datetime\n",
      "    object -> string (limited to 32k character - xlsx limitations)\n",
      " \n",
      "    Cells with compound images are a bit larger than images due to excel.\n",
      "    Column width weirdness explained (from xlsxwriter docs):\n",
      "    The width corresponds to the column width value that is specified in Excel. \n",
      "    It is approximately equal to the length of a string in the default font of Calibri 11. \n",
      "    Unfortunately, there is no way to specify \u201cAutoFit\u201d for a column in the Excel file format.\n",
      "    This feature is only available at runtime from within Excel.\n",
      "    \"\"\"\n",
      "    \n",
      "    import xlsxwriter # don't want to make this a RDKit dependency\n",
      "       \n",
      "    cols = list(frame.columns)\n",
      "    print cols\n",
      "    cols.remove(molCol)\n",
      "    dataTypes = dict(frame.dtypes)\n",
      "\n",
      "    workbook = xlsxwriter.Workbook(outFile) # New workbook\n",
      "    worksheet = workbook.add_worksheet() # New work sheet\n",
      "    worksheet.set_column('A:A', size[0]/6.) # column width\n",
      "    \n",
      "    # Write first row with column names\n",
      "    c2 = 1\n",
      "    for x in cols:\n",
      "        worksheet.write_string(0, c2, x)\n",
      "        c2 += 1\n",
      "    \n",
      "    c = 1\n",
      "    for index, row in frame.iterrows():\n",
      "        image_data = StringIO()\n",
      "        img = Draw.MolToImage(row[molCol], size=size)\n",
      "        img.save(image_data, format='PNG')\n",
      "        \n",
      "        worksheet.set_row(c, height=size[1]) # looks like height is not in px?\n",
      "        worksheet.insert_image(c, 0, \"f\", {'image_data': image_data})\n",
      "\n",
      "        c2 = 1\n",
      "        for x in cols:\n",
      "            if str(dataTypes[x]) == \"object\":\n",
      "                worksheet.write_string(c, c2, str(row[x])[:32000]) # string length is limited in xlsx\n",
      "            elif ('float' in str(dataTypes[x])) or ('int' in str(dataTypes[x])):\n",
      "                if (row[x] != np.nan) or (row[x] != np.inf):\n",
      "                    worksheet.write_number(c, c2, row[x])\n",
      "            elif 'datetime' in str(dataTypes[x]):\n",
      "                worksheet.write_datetime(c, c2, row[x])\n",
      "            c2 += 1\n",
      "        c += 1\n",
      "\n",
      "    workbook.close()\n",
      "    image_data.close()"
     ],
     "language": "python",
     "metadata": {},
     "outputs": [],
     "prompt_number": 12
    },
    {
     "cell_type": "markdown",
     "metadata": {},
     "source": [
      "#### Lets write selected columns and first 500 compounds"
     ]
    },
    {
     "cell_type": "code",
     "collapsed": false,
     "input": [
      "% time SaveXlsxFromFrame(df[['ROMol', smiles, names, 'logp', 'hac']][:500], 'demo.xlsx', size=(200,200))"
     ],
     "language": "python",
     "metadata": {},
     "outputs": [
      {
       "output_type": "stream",
       "stream": "stdout",
       "text": [
        "['ROMol', 'SMILES', 'Name', 'logp', 'hac']\n",
        "CPU times: user 4.25 s, sys: 46.7 ms, total: 4.3 s"
       ]
      },
      {
       "output_type": "stream",
       "stream": "stdout",
       "text": [
        "\n",
        "Wall time: 4.3 s\n"
       ]
      }
     ],
     "prompt_number": 13
    },
    {
     "cell_type": "markdown",
     "metadata": {},
     "source": [
      "\n",
      "\n",
      "Copyright (C) 2014 by Samo Turk, [BioMed X GmbH](http://bio.mx)\n",
      "\n",
      "This work is licensed under the Creative Commons Attribution-ShareAlike 3.0 License. To view a copy of this license, visit http://creativecommons.org/licenses/by-sa/3.0/ or send a letter to Creative Commons, 543 Howard Street, 5th Floor, San Francisco, California, 94105, USA.\n"
     ]
    }
   ],
   "metadata": {}
  }
 ]
}
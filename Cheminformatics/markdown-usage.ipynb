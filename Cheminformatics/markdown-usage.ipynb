{
 "cells": [
  {
   "cell_type": "markdown",
   "metadata": {},
   "source": [
    "# BioMed X web page\n",
    "## Internal presentation on Markdown usage on our web page\n",
    "###[http://bio.mx/](http://bio.mx/)\n",
    "\n",
    "### Team pages\n",
    "Thank you all for helping. Great thanks to **Marco Tidona** for coding!\n",
    "\n",
    "### Notes and missing stuff\n",
    "- Use Twitter!\n",
    "- Each group should be able to update their own page\n",
    "\n",
    "##### More info on http://192.168.96.60/dokuwiki/doku.php?id=admin:web-page\n",
    "<br>  \n",
    "<br>\n",
    "<br>\n",
    "<br>\n",
    "<br>\n",
    "<br>\n",
    "<br>\n",
    "<br>\n",
    "<br>\n",
    "<br>\n",
    "  \n",
    "  "
   ]
  },
  {
   "cell_type": "markdown",
   "metadata": {},
   "source": [
    "# Markdown\n",
    "- Plain text formating syntax\n",
    "- You can format text without html knowledge\n",
    "- http://daringfireball.net/projects/markdown/\n",
    "- http://192.168.96.60/dokuwiki/doku.php?id=admin:web-page\n",
    "<br>  \n",
    "<br>\n",
    "<br>\n",
    "<br>\n",
    "<br>\n",
    "<br>\n",
    "<br>\n",
    "<br>"
   ]
  },
  {
   "cell_type": "markdown",
   "metadata": {},
   "source": [
    "# Headings\n",
    "\n",
    "# Header 1\n",
    "## Header 2\n",
    "### Header 3 (in our case names)\n",
    "#### Header 4 (persons position)\n",
    "##### Header 5 (previous work & contact)"
   ]
  },
  {
   "cell_type": "markdown",
   "metadata": {},
   "source": [
    "# Lists\n",
    "- list item 1\n",
    "- list item 2"
   ]
  },
  {
   "cell_type": "markdown",
   "metadata": {},
   "source": [
    "# Links\n",
    "[LINK](www.google.com)  \n",
    "E-mail: <turk@bio.mx> "
   ]
  },
  {
   "cell_type": "markdown",
   "metadata": {},
   "source": [
    "# Images\n",
    "![My Image](http://bio.mx/img/logo-main.png)"
   ]
  },
  {
   "cell_type": "markdown",
   "metadata": {},
   "source": [
    "# Normal text is easy. You just write\n",
    "**important** *italic*  \n",
    "\n",
    "Two spaces and enter introduce new lines.  \n",
    "**See new line.**  \n",
    "If you miss spaces and have just enter there will be no new line.\n",
    "**See no new line.**"
   ]
  },
  {
   "cell_type": "code",
   "execution_count": 0,
   "metadata": {
    "collapsed": false
   },
   "outputs": [],
   "source": []
  }
 ],
 "metadata": {
  "kernelspec": {
   "display_name": "Python 2",
   "language": "python",
   "name": "python2"
  },
  "language_info": {
   "codemirror_mode": {
    "name": "ipython",
    "version": 2
   },
   "file_extension": ".py",
   "mimetype": "text/x-python",
   "name": "python",
   "nbconvert_exporter": "python",
   "pygments_lexer": "ipython2",
   "version": "2.7.10"
  }
 },
 "nbformat": 4,
 "nbformat_minor": 0
}

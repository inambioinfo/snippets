{
 "cells": [
  {
   "cell_type": "markdown",
   "metadata": {},
   "source": [
    "# Scaffold analysis in Python with RDKit and pandas\n",
    "### Presentation/tutorial given at 28th Molecular Modelling Workshop, 2014 in Erlangen\n",
    "\n",
    "### Dr. Samo Turk\n",
    "#### BioMed X Innovation Center, Heidelberg  \n",
    "<img src=\"files/biomedx.png\">  \n",
    "  "
   ]
  },
  {
   "cell_type": "markdown",
   "metadata": {},
   "source": [
    "  "
   ]
  },
  {
   "cell_type": "markdown",
   "metadata": {},
   "source": [
    "<p style=\"font-size:20px;\"><strong>Python</strong></p>\n",
    "<p style=\"font-size:20px;\">[Python](http://www.python.org/) very popular programming language especially in science.</p>\n",
    "\n",
    "<p style=\"font-size:20px;\"><strong>pandas</strong></p>\n",
    "<p style=\"font-size:20px;\">[Pandas](http://pandas.pydata.org/) is an open source, BSD-licensed library providing high-performance, easy-to-use data structures and data analysis tools for the Python programming language.  \n",
    "No need for R!</p>\n",
    "\n",
    "<p style=\"font-size:20px;\"><strong>RDKit</strong></p>\n",
    "<p style=\"font-size:20px;\">[RDKit](http://www.rdkit.org/) is an open source chemistry toolkit.</p>\n",
    "\n",
    "<p style=\"font-size:20px;\"><strong>IPython</strong></p>\n",
    "<p style=\"font-size:20px;\">[IPython](http://ipython.org/) interactive python shell. Has web-based interactive computational environment IPython Notebook.</p>\n",
    "\n",
    "### These are not slides but an interactive tutorial! https://github.com/Team-SKI/snippets\n",
    "<br>\n",
    "<br>\n",
    "<br>\n",
    "<br>\n",
    "<br>\n",
    "<br>"
   ]
  },
  {
   "cell_type": "code",
   "execution_count": 1,
   "metadata": {
    "collapsed": false
   },
   "outputs": [],
   "source": [
    "import pandas as pd\n",
    "import rdkit.Chem as Chem\n",
    "from rdkit.Chem import PandasTools\n",
    "from rdkit.Chem import Draw\n",
    "from rdkit.Chem import Descriptors\n",
    "from rdkit.Chem.Draw import IPythonConsole # Enables RDKit IPython integration"
   ]
  },
  {
   "cell_type": "markdown",
   "metadata": {},
   "source": [
    "### IPython and RDKit\n",
    "RDKit provides IPython integration"
   ]
  },
  {
   "cell_type": "code",
   "execution_count": 2,
   "metadata": {
    "collapsed": false
   },
   "outputs": [],
   "source": [
    "mol = Chem.MolFromSmiles('O=C(O[C@@H]1[C@H]3C(=C/[C@H](C)C1)\\C=C/[C@@H]([C@@H]3CC[C@H]2OC(=O)C[C@H](O)C2)C)[C@@H](C)CC')"
   ]
  },
  {
   "cell_type": "code",
   "execution_count": 3,
   "metadata": {
    "collapsed": false
   },
   "outputs": [
    {
     "data": {
      "image/png": "[encoded data removed]",
      "text/plain": [
       "<rdkit.Chem.rdchem.Mol at 0x7f7d959c1de0>"
      ]
     },
     "execution_count": 3,
     "metadata": {},
     "output_type": "execute_result"
    }
   ],
   "source": [
    "mol"
   ]
  },
  {
   "cell_type": "code",
   "execution_count": 4,
   "metadata": {
    "collapsed": false
   },
   "outputs": [
    {
     "data": {
      "text/plain": [
       "1"
      ]
     },
     "execution_count": 4,
     "metadata": {},
     "output_type": "execute_result"
    }
   ],
   "source": [
    "Descriptors.NumHDonors(mol)"
   ]
  },
  {
   "cell_type": "code",
   "execution_count": 5,
   "metadata": {
    "collapsed": false
   },
   "outputs": [
    {
     "data": {
      "text/plain": [
       "4.195500000000004"
      ]
     },
     "execution_count": 5,
     "metadata": {},
     "output_type": "execute_result"
    }
   ],
   "source": [
    "Descriptors.MolLogP(mol)"
   ]
  },
  {
   "cell_type": "markdown",
   "metadata": {},
   "source": [
    "### RDKit and pandas\n",
    "#### PandasTools.py"
   ]
  },
  {
   "cell_type": "markdown",
   "metadata": {},
   "source": [
    "Load 'approved drugs' downloaded from www.drugbank.ca:   \n",
    "**`% time`** *is a ipython magic function that tells you how much time did certain operation take to finish. It will be used to give you a feeling about speed of certain functions*"
   ]
  },
  {
   "cell_type": "code",
   "execution_count": 6,
   "metadata": {
    "collapsed": false
   },
   "outputs": [
    {
     "name": "stderr",
     "output_type": "stream",
     "text": [
      "RDKit WARNING: [16:08:33]  S group DAT ignored on line 1483\n",
      "RDKit WARNING: [16:08:33]  S group DAT ignored on line 1483\n",
      "RDKit WARNING: [16:08:33]  S group DAT ignored on line 1483\n",
      "RDKit WARNING: [16:08:33]  S group DAT ignored on line 1483\n",
      "RDKit WARNING: [16:08:33]  S group DAT ignored on line 11272\n",
      "RDKit WARNING: [16:08:33]  S group DAT ignored on line 11272\n",
      "RDKit WARNING: [16:08:33]  S group DAT ignored on line 11272\n",
      "RDKit WARNING: [16:08:33]  S group DAT ignored on line 11272\n",
      "RDKit WARNING: [16:08:34] Warning: conflicting stereochemistry at atom 5 ignored.\n",
      "RDKit WARNING: [16:08:34] Warning: conflicting stereochemistry at atom 5 ignored.\n",
      "RDKit WARNING: [16:08:34]  S group GEN ignored on line 78888\n",
      "RDKit ERROR: [16:08:34]  Unhandled CTAB feature: S group COP on line: 102547. Molecule skipped.\n",
      "RDKit ERROR: [16:08:34]  Unhandled CTAB feature: S group SRU on line: 106792. Molecule skipped.\n",
      "RDKit ERROR: [16:08:34]  Unhandled CTAB feature: S group SRU on line: 129779. Molecule skipped.\n",
      "RDKit ERROR: [16:08:34]  Unhandled CTAB feature: S group SRU on line: 156484. Molecule skipped.\n",
      "RDKit WARNING: [16:08:34] Warning: conflicting stereochemistry at atom 7 ignored.\n",
      "RDKit WARNING: [16:08:34] Warning: conflicting stereochemistry at atom 7 ignored.\n",
      "RDKit ERROR: [16:08:34]  Unhandled CTAB feature: S group SRU on line: 185268. Molecule skipped.\n",
      "RDKit WARNING: [16:08:34]  S group SUP ignored on line 192653\n"
     ]
    },
    {
     "name": "stdout",
     "output_type": "stream",
     "text": [
      "CPU times: user 1.12 s, sys: 23.3 ms, total: 1.14 s\n",
      "Wall time: 1.14 s\n"
     ]
    },
    {
     "name": "stderr",
     "output_type": "stream",
     "text": [
      "RDKit WARNING: [16:08:35]  S group MUL ignored on line 197940\n",
      "RDKit ERROR: [16:08:35]  Unhandled CTAB feature: S group SRU on line: 199516. Molecule skipped.\n"
     ]
    }
   ],
   "source": [
    "% time cpds = PandasTools.LoadSDF('approved.sdf', includeFingerprints=False)"
   ]
  },
  {
   "cell_type": "code",
   "execution_count": 7,
   "metadata": {
    "collapsed": false
   },
   "outputs": [
    {
     "data": {
      "text/plain": [
       "Index([u'ALOGPS_LOGP', u'ALOGPS_LOGS', u'ALOGPS_SOLUBILITY', u'BRANDS', u'CHEMICAL_FORMULA', u'DRUGBANK_ID', u'DRUG_GROUPS', u'EXACT_MASS', u'GENERIC_NAME', u'ID', u'INCHI_IDENTIFIER', u'INCHI_KEY', u'IUPAC_NAME', u'JCHEM_ACCEPTOR_COUNT', u'JCHEM_ACIDIC_PKA', u'JCHEM_BASIC_PKA', u'JCHEM_DONOR_COUNT', u'JCHEM_LOGP', u'JCHEM_PHYSIOLOGICAL_CHARGE', u'JCHEM_POLARIZABILITY', u'JCHEM_POLAR_SURFACE_AREA', u'JCHEM_REFRACTIVITY', u'JCHEM_ROTATABLE_BOND_COUNT', u'MOLECULAR_WEIGHT', u'ROMol', u'SALTS', u'SMILES', u'SYNONYMS'], dtype='object')"
      ]
     },
     "execution_count": 7,
     "metadata": {},
     "output_type": "execute_result"
    }
   ],
   "source": [
    "cpds.columns"
   ]
  },
  {
   "cell_type": "code",
   "execution_count": 8,
   "metadata": {
    "collapsed": false
   },
   "outputs": [
    {
     "data": {
      "text/plain": [
       "1485"
      ]
     },
     "execution_count": 8,
     "metadata": {},
     "output_type": "execute_result"
    }
   ],
   "source": [
    "len(cpds)"
   ]
  },
  {
   "cell_type": "markdown",
   "metadata": {},
   "source": [
    "Assign the values of molnames and smiles (makes it easier to use this notebook on other sets with different col names)"
   ]
  },
  {
   "cell_type": "code",
   "execution_count": 9,
   "metadata": {
    "collapsed": false
   },
   "outputs": [],
   "source": [
    "molnames = 'DRUGBANK_ID'\n",
    "smiles = 'SMILES'"
   ]
  },
  {
   "cell_type": "markdown",
   "metadata": {},
   "source": [
    "Keep only columns 'DRUGBANK_ID', 'SMILES' and 'ROMol'"
   ]
  },
  {
   "cell_type": "code",
   "execution_count": 10,
   "metadata": {
    "collapsed": false
   },
   "outputs": [],
   "source": [
    "cpds = cpds[[molnames, smiles, 'ROMol']]"
   ]
  },
  {
   "cell_type": "code",
   "execution_count": 11,
   "metadata": {
    "collapsed": false
   },
   "outputs": [
    {
     "data": {
      "text/plain": [
       "Index([u'DRUGBANK_ID', u'SMILES', u'ROMol'], dtype='object')"
      ]
     },
     "execution_count": 11,
     "metadata": {},
     "output_type": "execute_result"
    }
   ],
   "source": [
    "cpds.columns"
   ]
  },
  {
   "cell_type": "code",
   "execution_count": 12,
   "metadata": {
    "collapsed": false
   },
   "outputs": [
    {
     "data": {
      "text/html": [
       "<table border=\"1\" class=\"dataframe\">\n",
       "  <thead>\n",
       "    <tr style=\"text-align: right;\">\n",
       "      <th></th>\n",
       "      <th>DRUGBANK_ID</th>\n",
       "      <th>SMILES</th>\n",
       "      <th>ROMol</th>\n",
       "    </tr>\n",
       "  </thead>\n",
       "  <tbody>\n",
       "    <tr>\n",
       "      <th>0</th>\n",
       "      <td>DB00014</td>\n",
       "      <td>CC(C)C[C@H](NC(=O)[C@@H](COC(C)(C)C)NC(=O)[C@H](CC1=CC=C(O)C=C1)NC(=O)[C@H](CO)NC(=O)[C@H](CC1=CNC2=CC=CC=C12)NC(=O)[C@H](CC1=CN=CN1)NC(=O)[C@@H]1CCC(=O)N1)C(=O)N[C@@H](CCCN=C(N)N)C(=O)N1CCC[C@H]1C(=O)NNC(N)=O</td>\n",
       "      <td><img src=\"data:image/png;base64,iVBORw0KGgoAAAANSUhEUgAAAMgAAADICAYAAACtWK6eAAAi2klEQVR4nO3dd1hUV/oH8O9IRwJIVFBBJYqoKIkogm0taKLGhko0UfcXjYktGn1cS4qSddeyJrq6qDGrK2JJlDjWWCIWBGKBgA17iUa6BVCqMPP9/TEBBoFhhnZn4Hyeh8cb59x73xvn5dx7zrnnyEgSgiCUqp7UAQiCPhMJIggaiAQRBA1EggiCBiJBBEEDkSCCoIFIEEHQQCSIIGggEkQQNBAJIggaiAQRBA1EggiCBiJBBEEDkSCCoIFIEEHQQCSIIGggEkQQNBAJIggaiAQRBA1EggiCBvqRIGfOAM2bq37OnJE6GkEoJNOLWU3c3YFlywCZDPj8c+DKFakjEgQA+pIgFhZAejpAAra2QHa21BEJAgDAWOoAAACtWwPHj6tqEBcXqaMRhEL6kSBr1wL/93+q7W3bpI1FENToxy1WgZQUIDcXcHKSOhJBAKAPrViHDgFDhqi2ly0DvvhC2ngEQY30CWJqCpw7p9p2cAASEqSNRxDUSJ4g8Y6OGNKqFXJychDs5IQOSUmSxiOTAYsXF20LdZvkCWLRpAkOR0Xh0aNHsLC2xsM//pA6JKxfD9y+LXUUgj6QvBWrQYMGWLBgAd555x08fvwYH3zwATIzFahf30iymKZMAaZPV23HxQGOjpKFIkhM8hrk2LFjWL9+PUaPHo2dO3ciLg5wdTXCDz9IF9P8+UB0tGq7eXNgyJB4rF69Gg8fPpQuKEEalNCmTZtoYmLCNWvWFP5ddja5YgW5alVROYBctKhoW/3PV7crq+BYy5ertm/eJAMCLrBTp040MTHhL7/8UnUnE/SeZAni7+9PU1NTbt++vdyyAGlnR966VT0J8r//kenpJf9+61byxo2i/37//fc5ffr0yp1MMCg1/gySn5+PqVOnIjg4GEeOHIGPj49W+6k/FxSoilamXbueY+ZMa3TvDlhbq8cJBAYCCxcmwsFhMD7++GM4OLSFqalp5U8qGIwa70m/d+8e+vfvjx07dqBHjx5a7SOTAampgLMzkJamGtMok6n+LPi8Ildx//59eHl5YfXqUzAxuQYbGxsMGjSoWJn4+FT89FMQjI2NERPzKSwtgXXrdD+XYJhq/CH9tddeQ1JSEnJycnTaz9YWWLCgamM5c+YMXF1dMWFCRzx79gwffPBBiQfxZs0aYPbs2fj000+r9uSCQZBkLNZHH32E5ORk/Pzzz+WWjY0FbGyqZ3jWtWvX0LVrV+zYsQO+vr4YMWIEnj59itDQUBgZSdfMLOgRKR58rl69ynr16vH69evllh00iPzqq+qLJSAggLa2tnzw4AEfP37Mpk2b0t/fv9SyNdmaJugHyf5J3377bU6bNk1jGaVSSS+vizxwIK/a4lAqlRw2bBh79erF/Px8hoaG0sTEhKdOnSpRtrpb0wT9I9k/6bFjx2hpacknT56UWebOnTsEwJSUlGqN5fHjx2zSpAm//vprkuTs2bOL9c0UAMjPPyd9fIoniPqPULtI+j7Im2++ibFjx+Lzzz9Heno64uPjkZiYiISEBMTHx+P8+fOIjY3F3bt3qz2WkJAQDB48GMePH0fXrl1x8uQzbNvmhHr1gOBgVZnqak0T9JiU2bl582a6u7vT0tKSAAiAVlZWbNu2Lfv06cPx48fz999/r7F4ZsyYwVatWtHCwoI+PhM4eTJ57FjR56/2sqv/3avbQu0g+RuF0dHRePHiBRwcHODo6AgrK6sSZR4+fIgdO3bgyy+/rNZYdu/ejRkzZkAul6Nnz56iJUuQfjRv586dyy0TFBSEhg0bAgByc3NhZmZWZlmZDFi0CFiypOiWR9vboH379sHPzw+9e/fW+TqEWkrqKkwXycnJ9PT05DH1+55XVLSlKSsri1ZWVgwJCanCiAVDJ/lwd239/vvv6NGjB4YOHQoPDw8MHDgQP/98CWvWFL0BWKCscVuaxm798ssvsLCwQN++fas8dsFwSX6LpS0bGxt4enqiQYMGaNu2LdLS0pCdbQsjo13o2bN42fnzVS1N6tRvsUojl8sxbNgw8dwhFCd1Faat/Px82tnZ0c7OjosXL6abmxtvqI9F/1PpLU37S3yuLicnhzY2Njxy5Eh1hC4YMIO5xVKcO4eV7dtj69at6NKlCxISEtCqVasS5QpqioULAYVCic8++wwmJn7Iy8sr9rm6/fv3w8jICP3796/OSxAMkMHcYpkGB+Mje3tg6FA8nz4dByZNgomJSZnlc3JyMG7cOOzduxeAqqm4devWyMjIQExMDKKiohAVFYXIyEg8ePAA//3vfzUeT6ibJO8H0dqFC4CxMdCxI2BvDwQFAcOGlVk8KysLJ06cwOnTp3Hq1Cl06dIFFy5cwM2bN2FmZgYPDw94eXnB29sb3t7ecBQzMwilMJwEKaBUAr/9ploywdxcq10CAgKwYcMGzJw5E97e3nB3d4exscFUnoKEDOYZpHCRnZYtVcsjaJkcABAcHIz33nsP06dPh4eHh0gOQWuGU4NUcJGdhIQEODk54eLFi3B3d6/mIIXaxnASpIKL7Kxfvx7r1q3DjRs3qjc+oVYynHuNCi6yI5fL4evrW42BCbWZ4SSIDovsZGRk4NKlS8jMzERYWBi++eabGghQqI0M5xarPE+fAnPmANHR6GdmhvM3b6JXr164d+9ejbxwJdROhtOKVRr15aMvX1Y9p8yYgR2bNiE9PR1jxoxB06ZNkZ+fL3WkgoEy7BqktJatvDyk3byJvVFRCAsLQ3T0ZfTt+wPWrm0n1vsQdGbYCfJqy9afS7jFNWiA/tbW6NatG8aOXYIJE5xw4ADQrZvUAQuGxnAe0kvzasvWwIGAuzscO3fGTVvbwmJ37xafd1cQtGXYNcipU8VbtrR42akyr+QKdY9hJ0gFyGSAnZ1q3VBXV5EggmaGfYtVQdW1lIJQ+9TJGqQ2T/724sULxMXFwdXVFfXqGXYrvj6oM/8Hb6stW1sdSylIQaFQ4OrVq9i8eTMmT56Mjh07wtbWFu+88w58fHx0XmJCKKlO1CA5OTlwdXWFqakp/Pz84Ofnh06dOkkdVoWlpKRg4sSJCA8PR1ZWFtq3bw9PT094enqia9euaNGiBXx8fODo6Ij9+/eL4f2VUCcSBAC2bt2KR48eIT09HSEhIQgPD4e1gbb9Dh8+HCQxb948eHh4oH79+oWfbd++HaNGjUJaWhq6d++OAQMGYNOmTZoPeOYMMGFCwQGAgonzatO9Z0XV2PQQEtuyZQt79uzJN998U+pQKuXZs2c0MTHh+fPnmZyczFWrVvHly5ckyczMTLq5uXHo0KHMy8vjtWvXaGdnV+Z6J4U6diQPHSJ//lm1XUBMPCzd8gdSycjIqJkThYaSTk6qn9DQKjvs9u3b2bx5cyqVSm7YsIGurq7FPk9JSaGLiwvff/99KhQKhoWF0dzcnAEBAUWFlEry+nWy4P+FuTmZm0vm5Ki2C4i1HWp+ldua9PDhw8KZS+rVq4dhw4ahe/fuNXPymTOBDRtUtyYzZ2r9BmR55HI5Ro4cCZlMVritrlGjRjh69Ch69OiBhQsXYuXKldiyZQs+/PBDnDt3DikpKdj28CGa3LkDhIQA/ftrftemvBn3ajupM7Sq5OXl8fDhw/z666/57rvvsnHjxgTAFi1acMyYMRw/fjytra0ZExNTMwGV9Vu5Ep4/f05zc3OGh4czJSWFRkZGjI6OLrVsVFQUraysuGrVKpJkr1692K1bNy5btowpZ86Qz54VFT55knR0VP2or6wlbrFqzy3WypUr6ejoyCFDhnDFihUMDw/n8+fPi5WZN28eGzZsWOqMjFWuQ4fS7+srYdeuXWzatCkVCgU3b97MVq1aaSy/f/9+bt68menp6TQzM2NoFd7q1RW1IkFyc3Npa2vL/fv3ayynVCo5ceJEOjo68o8//tBYttILdpb1W7mCFAoFR4wYwRkzZpAkBw0axPnz52u1786dO9mkSRMqFIpKx1HX1IpnkBMnTkCpVGLgwIEay8lkMnz//fcYPnw4Bg8ejLCwMDRo0KDM8uvXA+PH6xBIfj5w755qkFe/fsCjRzrsXNyjR48Kn5+ioqLw22+/4fXXX4ednR0AoEePHhgyZIhWx5LL5Rg+fLjoWa8IqTO0KkyaNIljx47VunxmZia7d+/Ov/zlL3z8+DFDQ0O5enUm/fzIgkqoQgt2Hj9OWlmRWVnkjRvklSs6XUdSUhKHDBlCBwcHAmDTpk3p6+vLf/3rXwwNDeWFCxdoa2vLpUuXlnkMhULB69evMygoiImJiXzx4gUtLCzEuicVZPA1SH5+Pg4cOICNGzdqvc+LFy/w4sULGBsbw8HBAa+99hpGjDiNNm3eQsuWReVKLqPwEtnZSpibm5faqHP59Gm0HTYMZhYWqvH01taADnENHjwYTZs2RUBAALy8vODk5FSizL59+zBo0CDY29vjo48+AqCaGK+glomOjkZmZibat28PFxcXxMXFwcrKSqx7UlFSZyipaoF68eJFhfY9fvw469evz8zMTK332bBhA9u1a0eSXLhwIUePHl2izKvLKDx//pzAAC5ZsqTY5wXy8/PZqFEj7t69mzk5OTzcuzdfHj2qdUw3b96kTCbTatHSffv20dTUlHK5nCTZs2dPDhs2jEuXLuXJkyeLNU6MGTOGkydP1joOoTjJE+T48eNs37493dzcOGrUKN6/f1+n/adMmcJRo0bptM9TX19eXrmSJNmje3f+4x//0Fg+MTGRHh4eBFBmr/SdO3fYvHlzXrt2jfv27aOdnV1hD7c2li9fzs6dO2td/rvvvqOFhQXDw8OL/X18fDz37t3L+fPns3fv3vT09OSJEye0Pq5QnGQJcuXKFfbr14/m5ub09/fn5cuX6efnRxMTE86aNYupqaka909LS+MPP/xAFxcXrlu3TvsTp6SQRkbkpUvko0d8ZmfHJxqafRUKBd3d3SmTybhs2bJi5z9x4gSXLVtGX19fOjo6EgA7derEfv36cd68edrHRLJLly7Fjq+NuXPnsmHDhvzyyy85evRoOjk5EQAdHBw4dOhQLlmyhL/++qtOxxSKq/EESUlJ4SeffEJjY2NOmDChsLk1Pj6eJHnixAl26NCBdnZ2XLNmDfPz8wv3TUhI4MaNG/nOO+/Q1NSUTZo0YefOndmnTx/tmzDz8siICNX2+vWq/opyJCQkFPYhnD17lq6urpTJZLSysmLv3r25YMEC7tu3jwkJCYyNjeXAgQu5aJH2Tar37t0jAN6+fVvrfUgWDjfx8fHhwoULKZfLy22+FnRTowmyZ88eOjg40MXFhYcOHSKpGnw3a9YsmpmZFXbg5eTkcPny5bSysqKXlxfnzZtHb29v1qtXjy1atOCcOXMYHh7OrKwspqamskWLFuUPyCuNQkEmJmpdPD8/n/b29vzkk094+fLlYsmrLiKC7NNH1YmujW+++Ybu7u5axyHUnBpLkKysLHbp0oWLFi1ibm4uc3Jy6O/vTysrKw4cOLDU3u2EhAS+/fbbbNOmDT///HNGRUUVfrZu3Tr269ePCoWC4eHhNDU15SltO+QqOJDw5MmTtLCwqHCDQlm8vLz497//vUqPKVSNGkuQ9PR0AuCtW7cYHh7ODh060NHRkTt37qRSqSxW9uzZs2zZsiVJcvXq1ezZs2eJ46WkpLBJkyaFNYe/vz8dHR355MmT8oMpa3h3OaZPn84RI0ZoXb6Apl55pVJJYEDhmClBv0iSICEhIfT39y+zaTY0NJSWlpYky04Qkjx9+jRNTEx46tQpKhQK9u3blyNHjiw/mAoMJCy4vdq+fbtW5dUBpJ0deetWWcNWttPU1FSssquHJEmQ8mibICT5xRdfFNYc9+7do7W1NYOCgjSfoAIDCcPCwmhmZsa0tDStyqsrv1deyfXr19PS0pJnz54t/4DV9K6JUJLB96T7+/sjJCQEs2fPRlBQENq0aYO0tDTNO+mwlEIBuVyO/v37w8bGpkJxluyVV3/VQobp06fj/v37GDZsGCIiIuDq6goAeJmeDtOYGCA6Gpg0STWpVzW9ayKUoqYyUb0GSU1NZVJSUplldalBSFUz6fnz5/nvf8fR29uHKSkpVRq7Uqlks2bNuGXLlgrt/2qvvPrfqW8rlUr+9a9/pbOzM7/99lu6uLjQ1dmZtLQk//IX1fguslreNRFKJ8nwzq1bt6JNmzZYuXIlcnNzK328N954A40aeWHBgmZYsuQEGjVqVAVRFlEoFHB2dsaTJ08qtH9BTbFwYdG2+vwH6jXJ999/DycnJwQGBmL27Nn4cc8e1QReZ84AbduqCha8AXjihE6rbQm6q/EEef78OWbPno29e/dix44daNWqFbZt2waqfWPatm1bOBPH48ePkZ6eXu6X8403VEupDxhQ9TEbGxtj1qxZSDl6FPjpp6o/gRpzc3Ps378fMpkM3bt3R75CgUc//AB88gkwa5aq0Nq1wLRpwNSpqm2h+tRUVaVQKDhp0iQ2bNiQ3333HfPz85mbm8uVK1fS2tqaPj4+xXqBnzx5wunTp9PY2JgtWrSgkZERP/roF27aVPS2aKVfatJVQAA5aFAVH7Skc+fO0czMjLa2tqxXrx4D/PzIiRPJnTur/dxCcTXak65QKBgUFER7e/tivelJSUmcO3cuMzIymJ2dTX9/f9avX5/du3dnZGQklUolw8PDOW9eOp2cir4n5TefVstFVMNBi/v73xM5bZqcly9fLvHasFCzJBmsmJGRQX9/f5qZmbF///6MjY0lSQYHB7N169Z0cnJicHBwiQ5EUjVjTcEIjwq91FRVympqrWSGKpWqQwYGVj5EofIkHe5+9epV+vj40NzcnL1796aJiQk/++wzPlOfcUMDgExNJW1ta7AGKVBNk60pFOTBg+TTp1UQo1BpejH16L59+/DkyRP07NkT7dq103q/gtkwV6xQLVFYozO1v7r8W3Z20UnV6RCAWNxH/+hFghikjh2B5cuLLyAKVOobLRb30T8G35MumQr0xmtDLO6jX0QNokdqYnGfTZs2oV+/fmjVqlWl460LxERJeqbk4j5XoFQqq+z4GzduxNGjR6vseLWdSBA98uqQlF27dsHMrCsiIiKKfV4ZXbt2RVRUVOUPVEeIBNFT//73vzFu3DjY29uXOrYsLy8PUVFRWLduHSIiIqDtnbKnpyciIyOrOtxaSzyD6KHr16/D29sbzs7OOHLkCJo1a4aHDx/i/PnzuHDhAi5cuICYmBjk5eWhXbt2ePz4MaZNnQr/r78u99hXr17Fm2++iWfPnsHW1rbar8XQiQTRU5mZmVAoFDAzM8OUKVMQFBSEVq1aFa5F6OnpWbj8WkR4OPL+9jf0nTwZ+PhjjcdVKBSwtbXF/v374ePjU0NXY7hEM6+eKlh38MCBAzh8+DCSkpJgb29fatmevXoBf/sbEBZW7nGNjIzg4eGByMjIwgTJzc3FpUuXEBUVhaioKMTHx+PEiRNVdzEGTCSIniuYmb2s5Cjk56f6KVDGwpz5+flwdnaGXC4vnEH+8uXLMDU1RadOneDp6YmBAwdCqVSK2eAhbrH02suXL9G4cWP8+OOPGDRokG47u7sDy5apOk9mzwaGD8e9u3fR8fhxvHz5EnZ2dhg1alTh7Vr79u1hZGRULddhyESC6LEjR45g/PjxSE5OhomJiW47q48Ve+01YMQIKDp3RriXFxo3bgw3NzfExcWhWbNm1RN8LSFusfSYXC7H0KFDdU8OoPjCnG3bAsHBMALQ58+P7e3tERkZCV9f3yqMuPYRCaJPHj5E5NWr2H36NJ48eYLDhw9jy5YtFTtWOWPFPD09ERUVJRKkHOIpTCpnzgDNm6t+zpwBPDyAli1x53//Q1xcHCwtLZGTk4MBFX3JvmAJuEePgFIWz+natavoMNSGBO+gCGTJF64uXCg2kXZiYiIbNGjAQ4d+rpbTHzt2jDY2NmJhz3KIh3SpvPrCVUoKcO4cGB2NMdHRCIuIQK9eb+PKla8RFPQGvL2r9vTPnj1Dw4YNce3aNZ1eUqtrxDOIVNQfol1cgIsXgdGjIfPyQl8fH3wwfjy6deuG776zx9OnVX96Ozs7tG7dGrdu3RIJooGoQaRy6lTxh+jevVW1iYa+iKp+JTcvL69iLWR1iEgQA1LXX8nV9heETAaYmgITJ+q0yHDp5xQJYjgKXn+PjAROniz6Mqirzf+auvyCiI0FunUDXryo3DnFM4iB0TxLfM3HU9O0fWf/0CFg5MjKn0/UIAZE0mmO9IC27+wvXaoanxkRATRsWMlzigTRf4GBgbC3t4ePjw/MzMykDkcy2v6CUK9RsrMBc/OKn1P0pBsApVKJ5cuXw97eHmPHjsWNGzekDqlGZWcDubnaLyOhPvlsZZIDEM8gBiE1NRXW1taYPXs2TE1NYWFhIXVINWrpUiAmBjhypObPLWoQAzBlyhSMGzcOV69exaeffoqWLVtKHVKRV8eU6UAmAxYvLtpW/7Ng+8GDhwgJOYMZM6ooXl1JM8JF0EVubm7NnlCXRUIruKQ2qd3yFaNGjWa3bt14+vRp3a6hioiHdD2TlZWFs2fPIiIiAtHR0YiOjsazZ88wYMAA7Nq1q/Bd9Wql/jai+rzDpSlrEm8tlN+vk4Zvv92B+Pj72LNnD27evAlLS8uKXlXFSJKWQjF5eXlctmwZvb29aW5uTmNjY7711lucOnUqAwMDGRUVRQ8PD/bt25c5OTnVH5Aui4RWYEntApqWr0hLSyPQgOHh4czKyuJ3w4fz5cqVul9LJYkE0QNLlixhly5duHLlSp45c4YZGRklyqSkpNDFxYVjx47Vaoh6pZan0+VLf/Ik6eio+jl1iszOLje2V2Moa/VfGWbx23HjVIum/Pgj6eCgStoaJBJED3To0IGrV68ut9zdu3dpb2/PefPmlVu2UsvTvfql19atW2TjxmRcXLlFz5/X4rv+5InqIgIDVUtvJSRoH0sVEQkisevXr1Mmk/HRo0dalY+KiqKVlVWJhMrKKv79qdDydIsWkb//rvtFHDxI7tpFkszz8eHxBQvK3UWhUN3FlSs4mDx3TveYqohIEIn985//ZNeuXXXaJyAggKamppw7dy6nTJnCMWMO09iY9PUtKqPz8nTXr5MyGfnoERkTQ06erPqtrY2NG8lGjfjw+nVevniRxsbGjIyMLFGs0qsS69K6VkVEK5bEPDw8MHbsWMyfP1+r8nl5eXBwcMCHH36IO3fuIDMzE++99wXc3Hzg4QEUNPK8OiwjLS0dtrZRIPsX+7xA8H/+A8vISAzZsUM1IvLSJdULXdpQKDBr5EgEnjoFX19fJCQkwM3NDc7Oi5Gb+zr69AG8vKpguL4urWtVpUbSUCjVnTt3KJPJeP/+fa33uXLyJFs4OTEnJ4e7d++mvb098wuW/S1DfHw83d3d6ebmVurKwST51ltvceWfrUQTBg1i7Nat2l8IyYMHD7J58+b8+OOPaWJiwjZt2vC99/5g//7k7t2qMpVelViX1rUqIoaaSEgul+Ott96C86vj1zXo+OOPeNCzJ2BmhvTISHz0/vsaZ0S8dOkSBg8ejOTkZKxduxayV8aG5+bmIjo6Gk2aNMEff/yB7du344fjx/FNYKBO1xIWFgZ7e3tMnDgRCxYswMWLFzF6tFOJcpUarv/qa8o1oUbSUGBOTg7Dw8O5Zs0aTpgwge3bt2eTJk04fPhw3Q40YAC5Zw+ZkUFaWqpanDSYP38+mzVrxp07d5JUtYTt3LmTs2bNopeXF01NTWliYsJOnTrx3XffpYWFBRct+pfO16dUKrl9+3Y6OTkxJiam1DLlNeuW+22saOtaJYgEqWaLFy9mv379aG1tTQB0cnLiyJEjuXz5cm7dupV2dnb09/fX/cB376qS5eXLcosWdC4ePHiQzs7O7NGjB2fNmsWgoCDGxsYWu0VbsWI/7e3zefu29qGkpaUx8c8pi7J16AcxBCJBqtlnn33GRYsW8eDBg4VfInVhYWE0NzdnQECAdgesREtOly5duGLFCo1llEpy3jxVl4a2Dh06xEaNGpV6fYZOJIgeOHDgAE1NTSmXy8svXMHBgffu3aNMJuPvOvZzlNY0W5r4+HidjmsoRDOvnvj+++8xZ84chISEoEePHmUXrODgwFWrVmHXrl06L+D5atNsVJRqjruMjAu4fTsEOTk5mDZtWq2dJV60YumJKVOm4MGDBxg+fDgiIiLQtm3b0gtWsCVHLpdj1KhRFYytaKKE4cOBvDygb99rSE0NQ0ZGBo4cOYKYmJgKHVvvSV2FCUUUCgXnzp3LO3fulF2oAi05Dx8+pEwm421dnrz/VFqPvLrk5GSam5szJCRE52MbAnGLVQesXbsWgYGBuHTpks77ljZRwqsmT56MxMREHD58uPLB6hmRIHXAkCFD4OrqilWrVlXL8a9duwZ3d3fExsbWunl+xTvpdYCXlxcOHjyIlJQUnfYLCVFN31keNzc3vP322/jPf/5TwQj1l0iQOmDhwoVwcXGBj48PUlNTtd4vJETVYKaNOXPmYNu2bXhaHVPRS0gkSB1gYmKCPXv2wNraGr6+vsjJydFqv6SkBfDxCdeq7IABA+Do6IitW7dWIlL9IxKkjrC0tMTBgweRnJyMMWPGQKFQaCyfn58PuXwd2rfP1+r4oaGhSExMhLu7e1WEqzdEgtQhr7/+OkJCQnDx4kXMKGeiqZcvX6JLly7YsWMHHj9+rLHs5s2bMXDgQCxbtqziayrqK2lbmQUp/Pbbb7S1teWlS5c0lrt16xaHDBlCS0tL+vv7lzoQ0d/fnxYWFty7d291hSspkSB1kFKpZIsWLRgYGKhV+ZCQELq5udHJyYlBQUEkVZ2aM2fOpI2NjWSTutUE0Q9SB0VGRqJXr15ITk6Gra2tVvtkZ2dj1apVWLFiBXr37g0LCwuEhYXh8OHD8PT0rN6AJSSeQeoguVyO/v37a50cAGBhYYGvvvoKN2/eRIMGDWBhYYFff/21VicHIHrS66Q33ngDX331FSZNmiR1KHpPJEgdc/HiRXTt2hVJSUl4/fXXpQ5H74lbrDpGLpejb9++Ijm0JBKkjvnpp58q/F5IXSQSpA5RKpVo3rw57t+/L3UoBkMkSB1Sr149LFiwAGfP/oHAQKXU4RgE8ZBeBwUHA3PmALduAVZWUkej30SC1FHPnwPW1lJHof/ELVYdpZ4cpS2mKaiIGkQoddZ1QUXUIAKA4lP7CEVEDSJAJgNSU1WzrqeliRpEnahBBACqSRoXLJA6Cv0jEqSOIYFu3VRrk+flqZp8c3NVny1cKGqPV4kEqWOio+Px9OkduLoCJ08CH38MKEWfYZlEgtQxO3Z8g7Zt58LGBjh37ijGjbsPc3Opo9JfYvLqOsbPzw8kkZeXh/XrJ2DTpk0A3pA6LL0lahADpd6hV7AtkwFmZsDUqUX/rd4BeO8eEBfnjT179sDT0xNWVlZo3759zQZuYEQzr4Eqa/nk2FjVQ/iLFyU7AOvVA9q0Afr2/RvatHHEkSNH8Npr7bB581o0aCDdtegzkSAG6tUhIQX/isuXAzdvAkFBRcuJR0aqHsjT04sPMcnKysaAASZo1coY27bVXOyGRCSIgSqtBlm6FNi+HYiIABo21K4DMCVF1Yrl4FCj4RsM8QxSi3z1lWoIe6NGQMH0u+V1ADZuXJQcpQ1a1OZZpzYTNYhQqLRBi9o869RmoplXKKa0QYulDYE/dAgYObJmYpKSqEGEQqU9s2jzrFObiQQRCpW2HmFpCaJeo2Rno1b3xIsEEQQNRCuWIGggEkQQNBAJIggaiAQRBA1EggiCBiJBBEEDkSCCoIFIEEHQQCSIIGggEkQQNBAJIggaiAQRBA1EggiCBiJBBEEDkSCCoIFIEEHQQCSIIGggEkQQNBAJIggaiAQRBA3+H0Fa4+FSDx+hAAAAAElFTkSuQmCC\" alt=\"Mol\"/></td>\n",
       "    </tr>\n",
       "    <tr>\n",
       "      <th>1</th>\n",
       "      <td>DB00035</td>\n",
       "      <td>NC(=O)CC[C@@H]1NC(=O)[C@H](CC2=CC=CC=C2)NC(=O)[C@H](CC2=CC=C(O)C=C2)NC(=O)CCSSC[C@H](NC(=O)[C@H](CC(N)=O)NC1=O)C(=O)N1CCC[C@H]1C(=O)N[C@@H](CCCNC(N)=N)C(=O)NCC(N)=O</td>\n",
       "      <td><img src=\"data:image/png;base64,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\" alt=\"Mol\"/></td>\n",
       "    </tr>\n",
       "  </tbody>\n",
       "</table>"
      ],
      "text/plain": [
       "  DRUGBANK_ID                                                                                                                                                                                                             SMILES                                                                                                                                                                                                                                                                                                                                                                                                                                                                                                                                                                                                                                                                                                                                                                                                                                                                                                                                                                                                                                                                                                                                                                                                                                                                                                                                                                                                                                                                                                                                                                                                                                                                                                                                                                                                                                                                                                                                                                                                                                                                                                                                                                                                                                                                                                                                                                                                                                                                                                                                                                                                                                                                                                                                                                                                                                                                                                                                                                                                                                                                                                                                                                                                                                                                                                                                                                                                                                                                                                                                                                                                                                                                                                                                                                                                                                                                                                                                                                                                                                                                                                                                                                                                                                                                                                                                                                                                                                                                                                                                                                                                                                                                                                                                                                                                                                                                                                                                                                                                                                                                                                                                                                                                                                                                                                                                                                                                                                                                                                                                                                                                                                                                                                                                                                                                                                                                                                                                                                                                                                                                                                                                                                                                                                                                                                                                                                                                                                                                                                                                                                                                                                                                                                                                                                                                                                                                                                                                                                                                                                                                                                                                                                                                                                                                                                                                                                                                                                                                                                                                                                                                                                                                                                                                                                                                                                                                                                                                                                                                                                                                                                                                                                                                                                                                                                                                                                                                                                                                                                                                                                                                                                                                                                                                                                                                                                                                                                                                                                                                                                                                                                                                                                                                                                                                                                                                                                                                                                                                                                                                                                                                                                                                                                                                                                                                                                                                                                                                                                                                                                                                                                                                                                                                                                                                                                                                                                                                                                                                                                                                                                                                                                                                                                                                                                                                                                                                                                                                                                                                                                                                                                                                                                                                                                                                                                                                                                                                                                                                                                                                                                                                                                                                                                                                                                                                                                                                                                                                                                                                                                                                                                                                                                                                                                                                                                                                                                                                                                                                                                              ROMol\n",
       "0     DB00014  CC(C)C[C@H](NC(=O)[C@@H](COC(C)(C)C)NC(=O)[C@H](CC1=CC=C(O)C=C1)NC(=O)[C@H](CO)NC(=O)[C@H](CC1=CNC2=CC=CC=C12)NC(=O)[C@H](CC1=CN=CN1)NC(=O)[C@@H]1CCC(=O)N1)C(=O)N[C@@H](CCCN=C(N)N)C(=O)N1CCC[C@H]1C(=O)NNC(N)=O  <img src=\"data:image/png;base64,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\" alt=\"Mol\"/>\n",
       "1     DB00035                                               NC(=O)CC[C@@H]1NC(=O)[C@H](CC2=CC=CC=C2)NC(=O)[C@H](CC2=CC=C(O)C=C2)NC(=O)CCSSC[C@H](NC(=O)[C@H](CC(N)=O)NC1=O)C(=O)N1CCC[C@H]1C(=O)N[C@@H](CCCNC(N)=N)C(=O)NCC(N)=O                                                                                                                                                                                                                                                                                                                                                                                                                                                                                                                                                                                                                                                                                                                                                                                                                                                                                                                                                                                                                                                                                                                                                                                                                                                                                                                                                                                                                                                                                                                                                                                                                                                              <img src=\"data:image/png;base64,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\" alt=\"Mol\"/>"
      ]
     },
     "execution_count": 12,
     "metadata": {},
     "output_type": "execute_result"
    }
   ],
   "source": [
    "cpds.head(2)"
   ]
  },
  {
   "cell_type": "markdown",
   "metadata": {},
   "source": [
    "Look at two columns and only first 2 lines:"
   ]
  },
  {
   "cell_type": "code",
   "execution_count": 13,
   "metadata": {
    "collapsed": false
   },
   "outputs": [
    {
     "data": {
      "text/html": [
       "<table border=\"1\" class=\"dataframe\">\n",
       "  <thead>\n",
       "    <tr style=\"text-align: right;\">\n",
       "      <th></th>\n",
       "      <th>DRUGBANK_ID</th>\n",
       "      <th>ROMol</th>\n",
       "    </tr>\n",
       "  </thead>\n",
       "  <tbody>\n",
       "    <tr>\n",
       "      <th>0</th>\n",
       "      <td>DB00014</td>\n",
       "      <td><img src=\"data:image/png;base64,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\" alt=\"Mol\"/></td>\n",
       "    </tr>\n",
       "    <tr>\n",
       "      <th>1</th>\n",
       "      <td>DB00035</td>\n",
       "      <td><img src=\"data:image/png;base64,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\" alt=\"Mol\"/></td>\n",
       "    </tr>\n",
       "  </tbody>\n",
       "</table>"
      ],
      "text/plain": [
       "  DRUGBANK_ID                                                                                                                                                                                                                                                                                                                                                                                                                                                                                                                                                                                                                                                                                                                                                                                                                                                                                                                                                                                                                                                                                                                                                                                                                                                                                                                                                                                                                                                                                                                                                                                                                                                                                                                                                                                                                                                                                                                                                                                                                                                                                                                                                                                                                                                                                                                                                                                                                                                                                                                                                                                                                                                                                                                                                                                                                                                                                                                                                                                                                                                                                                                                                                                                                                                                                                                                                                                                                                                                                                                                                                                                                                                                                                                                                                                                                                                                                                                                                                                                                                                                                                                                                                                                                                                                                                                                                                                                                                                                                                                                                                                                                                                                                                                                                                                                                                                                                                                                                                                                                                                                                                                                                                                                                                                                                                                                                                                                                                                                                                                                                                                                                                                                                                                                                                                                                                                                                                                                                                                                                                                                                                                                                                                                                                                                                                                                                                                                                                                                                                                                                                                                                                                                                                                                                                                                                                                                                                                                                                                                                                                                                                                                                                                                                                                                                                                                                                                                                                                                                                                                                                                                                                                                                                                                                                                                                                                                                                                                                                                                                                                                                                                                                                                                                                                                                                                                                                                                                                                                                                                                                                                                                                                                                                                                                                                                                                                                                                                                                                                                                                                                                                                                                                                                                                                                                                                                                                                                                                                                                                                                                                                                                                                                                                                                                                                                                                                                                                                                                                                                                                                                                                                                                                                                                                                                                                                                                                                                                                                                                                                                                                                                                                                                                                                                                                                                                                                                                                                                                                                                                                                                                                                                                                                                                                                                                                                                                                                                                                                                                                                                                                                                                                                                                                                                                                                                                                                                                                                                                                                                                                                                                                                                                                                                                                                                                                                                                                                                                                                                                                              ROMol\n",
       "0     DB00014  <img src=\"data:image/png;base64,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\" alt=\"Mol\"/>\n",
       "1     DB00035                                                                                                                                                                                                                                                                                                                                                                                                                                                                                                                                                                                                                                                                                                                                                                                                                                                                                                                                                                                                                                                                                                                                                                                                                                                                                                                                                                                                                                                                                                                                                                                                                                                              <img src=\"data:image/png;base64,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\" alt=\"Mol\"/>"
      ]
     },
     "execution_count": 13,
     "metadata": {},
     "output_type": "execute_result"
    }
   ],
   "source": [
    "cpds[[molnames, 'ROMol']].head(2)"
   ]
  },
  {
   "cell_type": "markdown",
   "metadata": {},
   "source": [
    "Remove lines with NaN (empty) values and duplicates"
   ]
  },
  {
   "cell_type": "code",
   "execution_count": 14,
   "metadata": {
    "collapsed": false
   },
   "outputs": [
    {
     "data": {
      "text/plain": [
       "1482"
      ]
     },
     "execution_count": 14,
     "metadata": {},
     "output_type": "execute_result"
    }
   ],
   "source": [
    "cpds = cpds.dropna()\n",
    "cpds = cpds.drop_duplicates(molnames)\n",
    "cpds = cpds.drop_duplicates(smiles)\n",
    "len(cpds)"
   ]
  },
  {
   "cell_type": "markdown",
   "metadata": {},
   "source": [
    "### Descriptors\n",
    "Add some descriptors"
   ]
  },
  {
   "cell_type": "code",
   "execution_count": 15,
   "metadata": {
    "collapsed": false
   },
   "outputs": [],
   "source": [
    "from rdkit.Chem import Descriptors\n",
    "cpds['logp'] = cpds['ROMol'].map(Descriptors.MolLogP)\n",
    "cpds['mw'] = cpds['ROMol'].map(Descriptors.MolWt)"
   ]
  },
  {
   "cell_type": "markdown",
   "metadata": {},
   "source": [
    "Remove compounds with logp >= 5 and MW >= 500"
   ]
  },
  {
   "cell_type": "code",
   "execution_count": 16,
   "metadata": {
    "collapsed": false
   },
   "outputs": [
    {
     "data": {
      "text/plain": [
       "1158"
      ]
     },
     "execution_count": 16,
     "metadata": {},
     "output_type": "execute_result"
    }
   ],
   "source": [
    "cpds = cpds[cpds['logp'] <= 5]\n",
    "cpds = cpds[cpds['mw'] <= 500]\n",
    "len(cpds)"
   ]
  },
  {
   "cell_type": "code",
   "execution_count": 17,
   "metadata": {
    "collapsed": false
   },
   "outputs": [
    {
     "data": {
      "text/html": [
       "<table border=\"1\" class=\"dataframe\">\n",
       "  <thead>\n",
       "    <tr style=\"text-align: right;\">\n",
       "      <th></th>\n",
       "      <th>DRUGBANK_ID</th>\n",
       "      <th>logp</th>\n",
       "      <th>mw</th>\n",
       "      <th>SMILES</th>\n",
       "    </tr>\n",
       "  </thead>\n",
       "  <tbody>\n",
       "    <tr>\n",
       "      <th>6</th>\n",
       "      <td>DB00116</td>\n",
       "      <td>-0.2820</td>\n",
       "      <td>445.436</td>\n",
       "      <td>NC1=NC(=O)C2=C(NCC(CNC3=CC=C(C=C3)C(=O)N[C@@H](CCC(O)=O)C(O)=O)N2)N1</td>\n",
       "    </tr>\n",
       "    <tr>\n",
       "      <th>7</th>\n",
       "      <td>DB00117</td>\n",
       "      <td>-0.6359</td>\n",
       "      <td>155.157</td>\n",
       "      <td>N[C@@H](CC1=CN=CN1)C(O)=O</td>\n",
       "    </tr>\n",
       "    <tr>\n",
       "      <th>8</th>\n",
       "      <td>DB00118</td>\n",
       "      <td>-1.9222</td>\n",
       "      <td>399.453</td>\n",
       "      <td>C[S+](CC[C@H](N)C(O)=O)C[C@H]1O[C@H]([C@H](O)[C@@H]1O)N1C=NC2=C(N)N=CN=C12</td>\n",
       "    </tr>\n",
       "    <tr>\n",
       "      <th>9</th>\n",
       "      <td>DB00119</td>\n",
       "      <td>-0.3400</td>\n",
       "      <td>88.062</td>\n",
       "      <td>CC(=O)C(O)=O</td>\n",
       "    </tr>\n",
       "    <tr>\n",
       "      <th>10</th>\n",
       "      <td>DB00120</td>\n",
       "      <td>0.6410</td>\n",
       "      <td>165.192</td>\n",
       "      <td>N[C@@H](CC1=CC=CC=C1)C(O)=O</td>\n",
       "    </tr>\n",
       "  </tbody>\n",
       "</table>"
      ],
      "text/plain": [
       "   DRUGBANK_ID    logp       mw                                                                      SMILES\n",
       "6      DB00116 -0.2820  445.436        NC1=NC(=O)C2=C(NCC(CNC3=CC=C(C=C3)C(=O)N[C@@H](CCC(O)=O)C(O)=O)N2)N1\n",
       "7      DB00117 -0.6359  155.157                                                   N[C@@H](CC1=CN=CN1)C(O)=O\n",
       "8      DB00118 -1.9222  399.453  C[S+](CC[C@H](N)C(O)=O)C[C@H]1O[C@H]([C@H](O)[C@@H]1O)N1C=NC2=C(N)N=CN=C12\n",
       "9      DB00119 -0.3400   88.062                                                                CC(=O)C(O)=O\n",
       "10     DB00120  0.6410  165.192                                                 N[C@@H](CC1=CC=CC=C1)C(O)=O"
      ]
     },
     "execution_count": 17,
     "metadata": {},
     "output_type": "execute_result"
    }
   ],
   "source": [
    "cpds[[molnames, 'logp', 'mw', smiles]].head()"
   ]
  },
  {
   "cell_type": "markdown",
   "metadata": {},
   "source": [
    "### Matplotlib and pylab\n",
    "IPython has matplotlib integration"
   ]
  },
  {
   "cell_type": "code",
   "execution_count": 18,
   "metadata": {
    "collapsed": false
   },
   "outputs": [
    {
     "name": "stderr",
     "output_type": "stream",
     "text": [
      "/home/samo/anaconda/lib/python2.7/site-packages/matplotlib/font_manager.py:273: UserWarning: Matplotlib is building the font cache using fc-list. This may take a moment.\n",
      "  warnings.warn('Matplotlib is building the font cache using fc-list. This may take a moment.')\n"
     ]
    }
   ],
   "source": [
    "%matplotlib inline"
   ]
  },
  {
   "cell_type": "code",
   "execution_count": 19,
   "metadata": {
    "collapsed": false
   },
   "outputs": [],
   "source": [
    "import pylab\n",
    "import numpy as np\n",
    "import matplotlib as plt"
   ]
  },
  {
   "cell_type": "markdown",
   "metadata": {},
   "source": [
    "##### Distribution on molecular weights\n",
    "Bin the data and plot it"
   ]
  },
  {
   "cell_type": "code",
   "execution_count": 20,
   "metadata": {
    "collapsed": false
   },
   "outputs": [
    {
     "data": {
      "text/plain": [
       "<function matplotlib.pyplot.show>"
      ]
     },
     "execution_count": 20,
     "metadata": {},
     "output_type": "execute_result"
    },
    {
     "data": {
      "image/png": "[encoded data removed]",
      "text/plain": [
       "<matplotlib.figure.Figure at 0x7f7d90e3d3d0>"
      ]
     },
     "metadata": {},
     "output_type": "display_data"
    }
   ],
   "source": [
    "bins = np.linspace(cpds['mw'].min(), cpds['mw'].max(), 20)\n",
    "pylab.hist(list(cpds['mw']), bins) # list() used for pandas 0.13!\n",
    "pylab.show"
   ]
  },
  {
   "cell_type": "markdown",
   "metadata": {},
   "source": [
    "### Alternative visualisation of a table\n",
    "Default takes a lot of space"
   ]
  },
  {
   "cell_type": "code",
   "execution_count": 21,
   "metadata": {
    "collapsed": false
   },
   "outputs": [
    {
     "data": {
      "text/html": [
       "<table border=\"1\" class=\"dataframe\">\n",
       "  <thead>\n",
       "    <tr style=\"text-align: right;\">\n",
       "      <th></th>\n",
       "      <th>DRUGBANK_ID</th>\n",
       "      <th>SMILES</th>\n",
       "      <th>ROMol</th>\n",
       "      <th>logp</th>\n",
       "      <th>mw</th>\n",
       "    </tr>\n",
       "  </thead>\n",
       "  <tbody>\n",
       "    <tr>\n",
       "      <th>6</th>\n",
       "      <td>DB00116</td>\n",
       "      <td>NC1=NC(=O)C2=C(NCC(CNC3=CC=C(C=C3)C(=O)N[C@@H](CCC(O)=O)C(O)=O)N2)N1</td>\n",
       "      <td><img src=\"data:image/png;base64,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\" alt=\"Mol\"/></td>\n",
       "      <td>-0.282</td>\n",
       "      <td>445.436</td>\n",
       "    </tr>\n",
       "  </tbody>\n",
       "</table>"
      ],
      "text/plain": [
       "  DRUGBANK_ID                                                                SMILES                                                                                                                                                                                                                                                                                                                                                                                                                                                                                                                                                                                                                                                                                                                                                                                                                                                                                                                                                                                                                                                                                                                                                                                                                                                                                                                                                                                                                                                                                                                                                                                                                                                                                                                                                                                                                                                                                                                                                                                                                                                                                                                                                                                                                                                                                                                                                                                                                                                                                                                                                                                                                                                                                                                                                                                                                                                                                                                                                                                                                                                                                                                                                                                                                                                                                                                                                                                                                                                                                                                                                                                                                                                                                                                                                                                                                                                                                                                                                                                                                                                                                                                                                                                                                                                                                                                                                                                                                                                                                                                                                                                                                                                                                                                                                                                                                                                                                                                                                                                                                                                                                                                                                                                                                                                                                                                                                                                                                                                                                                                                                                                                                                                                                                                                                                                                                                                                                                                                                                                                                                                                                                                                                                                                                                                                                                              ROMol   logp       mw\n",
       "6     DB00116  NC1=NC(=O)C2=C(NCC(CNC3=CC=C(C=C3)C(=O)N[C@@H](CCC(O)=O)C(O)=O)N2)N1  <img src=\"data:image/png;base64,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\" alt=\"Mol\"/> -0.282  445.436"
      ]
     },
     "execution_count": 21,
     "metadata": {},
     "output_type": "execute_result"
    }
   ],
   "source": [
    "cpds.head(1)"
   ]
  },
  {
   "cell_type": "markdown",
   "metadata": {},
   "source": [
    "### FrameToGridImage(pandasFrame, legendsCol=, molsPerRow=)\n",
    "With this function you can visualize a dataframe (or part of it) as a single image"
   ]
  },
  {
   "cell_type": "code",
   "execution_count": 22,
   "metadata": {
    "collapsed": false
   },
   "outputs": [
    {
     "data": {
      "image/svg+xml": [
       "<svg baseProfile=\"full\" height=\"400px\" version=\"1.1\" width=\"800px\" xml:space=\"preserve\" xmlns:rdkit=\"http://www.rdkit.org/xml\" xmlns:svg=\"http://www.w3.org/2000/svg\" xmlns:xlink=\"http://www.w3.org/1999/xlink\">\n",
       "<g transform=\"translate(0,0)\"><rect height=\"200\" style=\"opacity:1.0;fill:#FFFFFF;stroke:none\" width=\"200\" x=\"0\" y=\"0\"> </rect>\n",
       "<path d=\"M 152.334,120.791 154.264,116.463\" style=\"fill:none;fill-rule:evenodd;stroke:#FF0000;stroke-width:2px;stroke-linecap:butt;stroke-linejoin:miter;stroke-opacity:1\"/>\n",
       "<path d=\"M 154.264,116.463 156.194,112.134\" style=\"fill:none;fill-rule:evenodd;stroke:#000000;stroke-width:2px;stroke-linecap:butt;stroke-linejoin:miter;stroke-opacity:1\"/>\n",
       "<path d=\"M 150.216,119.847 152.146,115.518\" style=\"fill:none;fill-rule:evenodd;stroke:#FF0000;stroke-width:2px;stroke-linecap:butt;stroke-linejoin:miter;stroke-opacity:1\"/>\n",
       "<path d=\"M 152.146,115.518 154.076,111.189\" style=\"fill:none;fill-rule:evenodd;stroke:#000000;stroke-width:2px;stroke-linecap:butt;stroke-linejoin:miter;stroke-opacity:1\"/>\n",
       "<path d=\"M 59.1629,83.9824 61.8671,87.7079\" style=\"fill:none;fill-rule:evenodd;stroke:#FF0000;stroke-width:2px;stroke-linecap:butt;stroke-linejoin:miter;stroke-opacity:1\"/>\n",
       "<path d=\"M 61.8671,87.7079 64.5713,91.4334\" style=\"fill:none;fill-rule:evenodd;stroke:#000000;stroke-width:2px;stroke-linecap:butt;stroke-linejoin:miter;stroke-opacity:1\"/>\n",
       "<path d=\"M 61.0396,82.6202 63.7438,86.3457\" style=\"fill:none;fill-rule:evenodd;stroke:#FF0000;stroke-width:2px;stroke-linecap:butt;stroke-linejoin:miter;stroke-opacity:1\"/>\n",
       "<path d=\"M 63.7438,86.3457 66.448,90.0712\" style=\"fill:none;fill-rule:evenodd;stroke:#000000;stroke-width:2px;stroke-linecap:butt;stroke-linejoin:miter;stroke-opacity:1\"/>\n",
       "<path d=\"M 43.7426,118.96 47.1032,116.521\" style=\"fill:none;fill-rule:evenodd;stroke:#FF0000;stroke-width:2px;stroke-linecap:butt;stroke-linejoin:miter;stroke-opacity:1\"/>\n",
       "<path d=\"M 47.1032,116.521 50.4638,114.081\" style=\"fill:none;fill-rule:evenodd;stroke:#000000;stroke-width:2px;stroke-linecap:butt;stroke-linejoin:miter;stroke-opacity:1\"/>\n",
       "<path d=\"M 59.7214,116.939 55.3287,114.981\" style=\"fill:none;fill-rule:evenodd;stroke:#FF0000;stroke-width:2px;stroke-linecap:butt;stroke-linejoin:miter;stroke-opacity:1\"/>\n",
       "<path d=\"M 55.3287,114.981 50.9359,113.022\" style=\"fill:none;fill-rule:evenodd;stroke:#000000;stroke-width:2px;stroke-linecap:butt;stroke-linejoin:miter;stroke-opacity:1\"/>\n",
       "<path d=\"M 58.7772,119.057 54.3845,117.099\" style=\"fill:none;fill-rule:evenodd;stroke:#FF0000;stroke-width:2px;stroke-linecap:butt;stroke-linejoin:miter;stroke-opacity:1\"/>\n",
       "<path d=\"M 54.3845,117.099 49.9918,115.141\" style=\"fill:none;fill-rule:evenodd;stroke:#000000;stroke-width:2px;stroke-linecap:butt;stroke-linejoin:miter;stroke-opacity:1\"/>\n",
       "<path d=\"M 13.9735,88.1288 16.6777,91.8543\" style=\"fill:none;fill-rule:evenodd;stroke:#FF0000;stroke-width:2px;stroke-linecap:butt;stroke-linejoin:miter;stroke-opacity:1\"/>\n",
       "<path d=\"M 16.6777,91.8543 19.3819,95.5798\" style=\"fill:none;fill-rule:evenodd;stroke:#000000;stroke-width:2px;stroke-linecap:butt;stroke-linejoin:miter;stroke-opacity:1\"/>\n",
       "<path d=\"M 16.5816,104.71 18.5113,100.381\" style=\"fill:none;fill-rule:evenodd;stroke:#FF0000;stroke-width:2px;stroke-linecap:butt;stroke-linejoin:miter;stroke-opacity:1\"/>\n",
       "<path d=\"M 18.5113,100.381 20.441,96.0519\" style=\"fill:none;fill-rule:evenodd;stroke:#000000;stroke-width:2px;stroke-linecap:butt;stroke-linejoin:miter;stroke-opacity:1\"/>\n",
       "<path d=\"M 14.4635,103.766 16.3932,99.4367\" style=\"fill:none;fill-rule:evenodd;stroke:#FF0000;stroke-width:2px;stroke-linecap:butt;stroke-linejoin:miter;stroke-opacity:1\"/>\n",
       "<path d=\"M 16.3932,99.4367 18.3229,95.1078\" style=\"fill:none;fill-rule:evenodd;stroke:#000000;stroke-width:2px;stroke-linecap:butt;stroke-linejoin:miter;stroke-opacity:1\"/>\n",
       "<path d=\"M 135.389,101.552 132.685,97.8269\" style=\"fill:none;fill-rule:evenodd;stroke:#0000FF;stroke-width:2px;stroke-linecap:butt;stroke-linejoin:miter;stroke-opacity:1\"/>\n",
       "<path d=\"M 132.685,97.8269 129.98,94.1014\" style=\"fill:none;fill-rule:evenodd;stroke:#000000;stroke-width:2px;stroke-linecap:butt;stroke-linejoin:miter;stroke-opacity:1\"/>\n",
       "<path d=\"M 140.142,103.134 144.233,102.706\" style=\"fill:none;fill-rule:evenodd;stroke:#0000FF;stroke-width:2px;stroke-linecap:butt;stroke-linejoin:miter;stroke-opacity:1\"/>\n",
       "<path d=\"M 144.233,102.706 148.324,102.278\" style=\"fill:none;fill-rule:evenodd;stroke:#000000;stroke-width:2px;stroke-linecap:butt;stroke-linejoin:miter;stroke-opacity:1\"/>\n",
       "<path d=\"M 142.883,82.6547 138.792,83.0828\" style=\"fill:none;fill-rule:evenodd;stroke:#0000FF;stroke-width:2px;stroke-linecap:butt;stroke-linejoin:miter;stroke-opacity:1\"/>\n",
       "<path d=\"M 138.792,83.0828 134.701,83.511\" style=\"fill:none;fill-rule:evenodd;stroke:#000000;stroke-width:2px;stroke-linecap:butt;stroke-linejoin:miter;stroke-opacity:1\"/>\n",
       "<path d=\"M 147.636,84.2366 150.34,87.9621\" style=\"fill:none;fill-rule:evenodd;stroke:#0000FF;stroke-width:2px;stroke-linecap:butt;stroke-linejoin:miter;stroke-opacity:1\"/>\n",
       "<path d=\"M 150.34,87.9621 153.044,91.6876\" style=\"fill:none;fill-rule:evenodd;stroke:#000000;stroke-width:2px;stroke-linecap:butt;stroke-linejoin:miter;stroke-opacity:1\"/>\n",
       "<path d=\"M 113.04,87.8572 115.744,91.5827\" style=\"fill:none;fill-rule:evenodd;stroke:#0000FF;stroke-width:2px;stroke-linecap:butt;stroke-linejoin:miter;stroke-opacity:1\"/>\n",
       "<path d=\"M 115.744,91.5827 118.449,95.3082\" style=\"fill:none;fill-rule:evenodd;stroke:#000000;stroke-width:2px;stroke-linecap:butt;stroke-linejoin:miter;stroke-opacity:1\"/>\n",
       "<path d=\"M 108.287,86.2753 104.196,86.7035\" style=\"fill:none;fill-rule:evenodd;stroke:#0000FF;stroke-width:2px;stroke-linecap:butt;stroke-linejoin:miter;stroke-opacity:1\"/>\n",
       "<path d=\"M 104.196,86.7035 100.105,87.1316\" style=\"fill:none;fill-rule:evenodd;stroke:#000000;stroke-width:2px;stroke-linecap:butt;stroke-linejoin:miter;stroke-opacity:1\"/>\n",
       "<path d=\"M 161.226,90.8313 157.135,91.2594\" style=\"fill:none;fill-rule:evenodd;stroke:#0000FF;stroke-width:2px;stroke-linecap:butt;stroke-linejoin:miter;stroke-opacity:1\"/>\n",
       "<path d=\"M 157.135,91.2594 153.044,91.6876\" style=\"fill:none;fill-rule:evenodd;stroke:#000000;stroke-width:2px;stroke-linecap:butt;stroke-linejoin:miter;stroke-opacity:1\"/>\n",
       "<path d=\"M 165.979,92.4132 168.683,96.1387\" style=\"fill:none;fill-rule:evenodd;stroke:#0000FF;stroke-width:2px;stroke-linecap:butt;stroke-linejoin:miter;stroke-opacity:1\"/>\n",
       "<path d=\"M 168.683,96.1387 171.387,99.8642\" style=\"fill:none;fill-rule:evenodd;stroke:#000000;stroke-width:2px;stroke-linecap:butt;stroke-linejoin:miter;stroke-opacity:1\"/>\n",
       "<path d=\"M 164.992,110.63 160.063,111.146\" style=\"fill:none;fill-rule:evenodd;stroke:#0000FF;stroke-width:2px;stroke-linecap:butt;stroke-linejoin:miter;stroke-opacity:1\"/>\n",
       "<path d=\"M 160.063,111.146 155.135,111.661\" style=\"fill:none;fill-rule:evenodd;stroke:#000000;stroke-width:2px;stroke-linecap:butt;stroke-linejoin:miter;stroke-opacity:1\"/>\n",
       "<path d=\"M 167.528,108.522 169.458,104.193\" style=\"fill:none;fill-rule:evenodd;stroke:#0000FF;stroke-width:2px;stroke-linecap:butt;stroke-linejoin:miter;stroke-opacity:1\"/>\n",
       "<path d=\"M 169.458,104.193 171.387,99.8642\" style=\"fill:none;fill-rule:evenodd;stroke:#000000;stroke-width:2px;stroke-linecap:butt;stroke-linejoin:miter;stroke-opacity:1\"/>\n",
       "<path d=\"M 165.989,106.279 167.34,103.249\" style=\"fill:none;fill-rule:evenodd;stroke:#0000FF;stroke-width:2px;stroke-linecap:butt;stroke-linejoin:miter;stroke-opacity:1\"/>\n",
       "<path d=\"M 167.34,103.249 168.69,100.219\" style=\"fill:none;fill-rule:evenodd;stroke:#000000;stroke-width:2px;stroke-linecap:butt;stroke-linejoin:miter;stroke-opacity:1\"/>\n",
       "<path d=\"M 57.4389,101.693 53.3479,102.121\" style=\"fill:none;fill-rule:evenodd;stroke:#0000FF;stroke-width:2px;stroke-linecap:butt;stroke-linejoin:miter;stroke-opacity:1\"/>\n",
       "<path d=\"M 53.3479,102.121 49.2569,102.55\" style=\"fill:none;fill-rule:evenodd;stroke:#000000;stroke-width:2px;stroke-linecap:butt;stroke-linejoin:miter;stroke-opacity:1\"/>\n",
       "<path d=\"M 61.6503,99.4102 63.58,95.0812\" style=\"fill:none;fill-rule:evenodd;stroke:#0000FF;stroke-width:2px;stroke-linecap:butt;stroke-linejoin:miter;stroke-opacity:1\"/>\n",
       "<path d=\"M 63.58,95.0812 65.5096,90.7523\" style=\"fill:none;fill-rule:evenodd;stroke:#000000;stroke-width:2px;stroke-linecap:butt;stroke-linejoin:miter;stroke-opacity:1\"/>\n",
       "<path d=\"M 178.924,99.0754 175.156,99.4698\" style=\"fill:none;fill-rule:evenodd;stroke:#0000FF;stroke-width:2px;stroke-linecap:butt;stroke-linejoin:miter;stroke-opacity:1\"/>\n",
       "<path d=\"M 175.156,99.4698 171.387,99.8642\" style=\"fill:none;fill-rule:evenodd;stroke:#000000;stroke-width:2px;stroke-linecap:butt;stroke-linejoin:miter;stroke-opacity:1\"/>\n",
       "<path d=\"M 129.98,94.1014 134.701,83.511\" style=\"fill:none;fill-rule:evenodd;stroke:#000000;stroke-width:2px;stroke-linecap:butt;stroke-linejoin:miter;stroke-opacity:1\"/>\n",
       "<path d=\"M 129.98,94.1014 118.449,95.3082\" style=\"fill:none;fill-rule:evenodd;stroke:#000000;stroke-width:2px;stroke-linecap:butt;stroke-linejoin:miter;stroke-opacity:1\"/>\n",
       "<path d=\"M 148.324,102.278 153.044,91.6876\" style=\"fill:none;fill-rule:evenodd;stroke:#000000;stroke-width:2px;stroke-linecap:butt;stroke-linejoin:miter;stroke-opacity:1\"/>\n",
       "<path d=\"M 146.914,99.7453 150.218,92.332\" style=\"fill:none;fill-rule:evenodd;stroke:#000000;stroke-width:2px;stroke-linecap:butt;stroke-linejoin:miter;stroke-opacity:1\"/>\n",
       "<path d=\"M 148.324,102.278 155.135,111.661\" style=\"fill:none;fill-rule:evenodd;stroke:#000000;stroke-width:2px;stroke-linecap:butt;stroke-linejoin:miter;stroke-opacity:1\"/>\n",
       "<path d=\"M 100.105,87.1316 93.2943,77.7481\" style=\"fill:none;fill-rule:evenodd;stroke:#000000;stroke-width:2px;stroke-linecap:butt;stroke-linejoin:miter;stroke-opacity:1\"/>\n",
       "<path d=\"M 97.2071,87.0863 92.4392,80.5179\" style=\"fill:none;fill-rule:evenodd;stroke:#000000;stroke-width:2px;stroke-linecap:butt;stroke-linejoin:miter;stroke-opacity:1\"/>\n",
       "<path d=\"M 100.105,87.1316 95.3847,97.722\" style=\"fill:none;fill-rule:evenodd;stroke:#000000;stroke-width:2px;stroke-linecap:butt;stroke-linejoin:miter;stroke-opacity:1\"/>\n",
       "<path d=\"M 49.2569,102.55 37.725,103.756\" style=\"fill:none;fill-rule:evenodd;stroke:#000000;stroke-width:2px;stroke-linecap:butt;stroke-linejoin:miter;stroke-opacity:1\"/>\n",
       "<path d=\"M 49.2569,102.55 50.4638,114.081\" style=\"fill:none;fill-rule:evenodd;stroke:#000000;stroke-width:2px;stroke-linecap:butt;stroke-linejoin:miter;stroke-opacity:1\"/>\n",
       "<path d=\"M 49.2569,102.55 49.4055,92.8294 47.0991,93.0708 49.2569,102.55\" style=\"fill:#000000;fill-rule:evenoddstroke:#000000;stroke-width:2px;stroke-linecap:butt;stroke-linejoin:miter;stroke-opacity:1\"/>\n",
       "<path d=\"M 37.725,103.756 30.9139,94.3729\" style=\"fill:none;fill-rule:evenodd;stroke:#000000;stroke-width:2px;stroke-linecap:butt;stroke-linejoin:miter;stroke-opacity:1\"/>\n",
       "<path d=\"M 93.2943,77.7481 81.7623,78.955\" style=\"fill:none;fill-rule:evenodd;stroke:#000000;stroke-width:2px;stroke-linecap:butt;stroke-linejoin:miter;stroke-opacity:1\"/>\n",
       "<path d=\"M 95.3847,97.722 83.8527,98.9289\" style=\"fill:none;fill-rule:evenodd;stroke:#000000;stroke-width:2px;stroke-linecap:butt;stroke-linejoin:miter;stroke-opacity:1\"/>\n",
       "<path d=\"M 93.4135,95.5967 85.3411,96.4415\" style=\"fill:none;fill-rule:evenodd;stroke:#000000;stroke-width:2px;stroke-linecap:butt;stroke-linejoin:miter;stroke-opacity:1\"/>\n",
       "<path d=\"M 77.0416,89.5454 81.7623,78.955\" style=\"fill:none;fill-rule:evenodd;stroke:#000000;stroke-width:2px;stroke-linecap:butt;stroke-linejoin:miter;stroke-opacity:1\"/>\n",
       "<path d=\"M 79.8678,88.901 83.1723,81.4877\" style=\"fill:none;fill-rule:evenodd;stroke:#000000;stroke-width:2px;stroke-linecap:butt;stroke-linejoin:miter;stroke-opacity:1\"/>\n",
       "<path d=\"M 77.0416,89.5454 83.8527,98.9289\" style=\"fill:none;fill-rule:evenodd;stroke:#000000;stroke-width:2px;stroke-linecap:butt;stroke-linejoin:miter;stroke-opacity:1\"/>\n",
       "<path d=\"M 77.0416,89.5454 65.5096,90.7523\" style=\"fill:none;fill-rule:evenodd;stroke:#000000;stroke-width:2px;stroke-linecap:butt;stroke-linejoin:miter;stroke-opacity:1\"/>\n",
       "<path d=\"M 30.9139,94.3729 19.3819,95.5798\" style=\"fill:none;fill-rule:evenodd;stroke:#000000;stroke-width:2px;stroke-linecap:butt;stroke-linejoin:miter;stroke-opacity:1\"/>\n",
       "<text style=\"font-size:3px;font-style:normal;font-weight:normal;fill-opacity:1;stroke:none;font-family:sans-serif;text-anchor:start;fill:#FF0000\" x=\"148.609\" y=\"124.184\"><tspan>O</tspan></text>\n",
       "<text style=\"font-size:3px;font-style:normal;font-weight:normal;fill-opacity:1;stroke:none;font-family:sans-serif;text-anchor:start;fill:#FF0000\" x=\"56.8936\" y=\"83.3013\"><tspan>O</tspan></text>\n",
       "<text style=\"font-size:3px;font-style:normal;font-weight:normal;fill-opacity:1;stroke:none;font-family:sans-serif;text-anchor:start;fill:#FF0000\" x=\"37.6005\" y=\"122.825\"><tspan>HO</tspan></text>\n",
       "<text style=\"font-size:3px;font-style:normal;font-weight:normal;fill-opacity:1;stroke:none;font-family:sans-serif;text-anchor:start;fill:#FF0000\" x=\"59.2493\" y=\"120.735\"><tspan>O</tspan></text>\n",
       "<text style=\"font-size:3px;font-style:normal;font-weight:normal;fill-opacity:1;stroke:none;font-family:sans-serif;text-anchor:start;fill:#FF0000\" x=\"9.09091\" y=\"88.1288\"><tspan>OH</tspan></text>\n",
       "<text style=\"font-size:3px;font-style:normal;font-weight:normal;fill-opacity:1;stroke:none;font-family:sans-serif;text-anchor:start;fill:#FF0000\" x=\"12.8563\" y=\"108.103\"><tspan>O</tspan></text>\n",
       "<text style=\"font-size:3px;font-style:normal;font-weight:normal;fill-opacity:1;stroke:none;font-family:sans-serif;text-anchor:start;fill:#0000FF\" x=\"133.442\" y=\"105.417\"><tspan>NH</tspan></text>\n",
       "<text style=\"font-size:3px;font-style:normal;font-weight:normal;fill-opacity:1;stroke:none;font-family:sans-serif;text-anchor:start;fill:#0000FF\" x=\"142.883\" y=\"84.2366\"><tspan>NH</tspan></text>\n",
       "<text style=\"font-size:3px;font-style:normal;font-weight:normal;fill-opacity:1;stroke:none;font-family:sans-serif;text-anchor:start;fill:#0000FF\" x=\"108.287\" y=\"87.8572\"><tspan>NH</tspan></text>\n",
       "<text style=\"font-size:3px;font-style:normal;font-weight:normal;fill-opacity:1;stroke:none;font-family:sans-serif;text-anchor:start;fill:#0000FF\" x=\"161.226\" y=\"92.4132\"><tspan>NH</tspan></text>\n",
       "<text style=\"font-size:3px;font-style:normal;font-weight:normal;fill-opacity:1;stroke:none;font-family:sans-serif;text-anchor:start;fill:#0000FF\" x=\"164.992\" y=\"112.387\"><tspan>N</tspan></text>\n",
       "<text style=\"font-size:3px;font-style:normal;font-weight:normal;fill-opacity:1;stroke:none;font-family:sans-serif;text-anchor:start;fill:#0000FF\" x=\"57.4389\" y=\"103.275\"><tspan>NH</tspan></text>\n",
       "<text style=\"font-size:3px;font-style:normal;font-weight:normal;fill-opacity:1;stroke:none;font-family:sans-serif;text-anchor:start;fill:#0000FF\" x=\"178.924\" y=\"100.783\"><tspan>NH</tspan><tspan style=\"baseline-shift:sub;font-size:2.25px;\">2</tspan><tspan/></text>\n",
       "<text style=\"font-size:3px;font-style:normal;font-weight:normal;fill-opacity:1;stroke:none;font-family:sans-serif;text-anchor:start;fill:#000000\" x=\"46.3751\" y=\"92.9501\"><tspan>H</tspan></text>\n",
       "<text style=\"font-size:12px;font-style:normal;font-weight:normal;fill-opacity:1;stroke:none;font-family:sans-serif;text-anchor:start;fill:#000000\" x=\"69.9712\" y=\"194\"><tspan>DB00116</tspan></text>\n",
       "</g>\n",
       "<g transform=\"translate(200,0)\"><rect height=\"200\" style=\"opacity:1.0;fill:#FFFFFF;stroke:none\" width=\"200\" x=\"0\" y=\"0\"> </rect>\n",
       "<path d=\"M 161.395,100.108 150.786,96.5232\" style=\"fill:none;fill-rule:evenodd;stroke:#FF0000;stroke-width:2px;stroke-linecap:butt;stroke-linejoin:miter;stroke-opacity:1\"/>\n",
       "<path d=\"M 150.786,96.5232 140.177,92.9389\" style=\"fill:none;fill-rule:evenodd;stroke:#000000;stroke-width:2px;stroke-linecap:butt;stroke-linejoin:miter;stroke-opacity:1\"/>\n",
       "<path d=\"M 131.617,66.905 134.29,80.244\" style=\"fill:none;fill-rule:evenodd;stroke:#FF0000;stroke-width:2px;stroke-linecap:butt;stroke-linejoin:miter;stroke-opacity:1\"/>\n",
       "<path d=\"M 134.29,80.244 136.963,93.583\" style=\"fill:none;fill-rule:evenodd;stroke:#000000;stroke-width:2px;stroke-linecap:butt;stroke-linejoin:miter;stroke-opacity:1\"/>\n",
       "<path d=\"M 138.045,65.6168 140.718,78.9558\" style=\"fill:none;fill-rule:evenodd;stroke:#FF0000;stroke-width:2px;stroke-linecap:butt;stroke-linejoin:miter;stroke-opacity:1\"/>\n",
       "<path d=\"M 140.718,78.9558 143.391,92.2948\" style=\"fill:none;fill-rule:evenodd;stroke:#000000;stroke-width:2px;stroke-linecap:butt;stroke-linejoin:miter;stroke-opacity:1\"/>\n",
       "<path d=\"M 43.5961,79.6608 52.6841,88.0375\" style=\"fill:none;fill-rule:evenodd;stroke:#0000FF;stroke-width:2px;stroke-linecap:butt;stroke-linejoin:miter;stroke-opacity:1\"/>\n",
       "<path d=\"M 52.6841,88.0375 61.772,96.4143\" style=\"fill:none;fill-rule:evenodd;stroke:#000000;stroke-width:2px;stroke-linecap:butt;stroke-linejoin:miter;stroke-opacity:1\"/>\n",
       "<path d=\"M 28.198,79.5191 18.6445,84.8873\" style=\"fill:none;fill-rule:evenodd;stroke:#0000FF;stroke-width:2px;stroke-linecap:butt;stroke-linejoin:miter;stroke-opacity:1\"/>\n",
       "<path d=\"M 18.6445,84.8873 9.09091,90.2555\" style=\"fill:none;fill-rule:evenodd;stroke:#000000;stroke-width:2px;stroke-linecap:butt;stroke-linejoin:miter;stroke-opacity:1\"/>\n",
       "<path d=\"M 131.926,133.193 123.744,123.89\" style=\"fill:none;fill-rule:evenodd;stroke:#0000FF;stroke-width:2px;stroke-linecap:butt;stroke-linejoin:miter;stroke-opacity:1\"/>\n",
       "<path d=\"M 123.744,123.89 115.562,114.588\" style=\"fill:none;fill-rule:evenodd;stroke:#000000;stroke-width:2px;stroke-linecap:butt;stroke-linejoin:miter;stroke-opacity:1\"/>\n",
       "<path d=\"M 20.2675,122.951 34.1791,124.577\" style=\"fill:none;fill-rule:evenodd;stroke:#0000FF;stroke-width:2px;stroke-linecap:butt;stroke-linejoin:miter;stroke-opacity:1\"/>\n",
       "<path d=\"M 34.1791,124.577 48.0908,126.203\" style=\"fill:none;fill-rule:evenodd;stroke:#000000;stroke-width:2px;stroke-linecap:butt;stroke-linejoin:miter;stroke-opacity:1\"/>\n",
       "<path d=\"M 14.4372,116.934 11.7641,103.595\" style=\"fill:none;fill-rule:evenodd;stroke:#0000FF;stroke-width:2px;stroke-linecap:butt;stroke-linejoin:miter;stroke-opacity:1\"/>\n",
       "<path d=\"M 11.7641,103.595 9.09091,90.2555\" style=\"fill:none;fill-rule:evenodd;stroke:#000000;stroke-width:2px;stroke-linecap:butt;stroke-linejoin:miter;stroke-opacity:1\"/>\n",
       "<path d=\"M 20.0635,111.644 18.1923,102.306\" style=\"fill:none;fill-rule:evenodd;stroke:#0000FF;stroke-width:2px;stroke-linecap:butt;stroke-linejoin:miter;stroke-opacity:1\"/>\n",
       "<path d=\"M 18.1923,102.306 16.3211,92.969\" style=\"fill:none;fill-rule:evenodd;stroke:#000000;stroke-width:2px;stroke-linecap:butt;stroke-linejoin:miter;stroke-opacity:1\"/>\n",
       "<path d=\"M 93.9135,89.9731 115.562,114.588\" style=\"fill:none;fill-rule:evenodd;stroke:#000000;stroke-width:2px;stroke-linecap:butt;stroke-linejoin:miter;stroke-opacity:1\"/>\n",
       "<path d=\"M 93.9135,89.9731 61.772,96.4143\" style=\"fill:none;fill-rule:evenodd;stroke:#000000;stroke-width:2px;stroke-linecap:butt;stroke-linejoin:miter;stroke-opacity:1\"/>\n",
       "<path d=\"M 115.562,114.588 140.177,92.9389\" style=\"fill:none;fill-rule:evenodd;stroke:#000000;stroke-width:2px;stroke-linecap:butt;stroke-linejoin:miter;stroke-opacity:1\"/>\n",
       "<path d=\"M 113.358,116.09 113.791,116.582\" style=\"fill:none;fill-rule:evenodd;stroke:#000000;stroke-width:1px;stroke-linecap:butt;stroke-linejoin:miter;stroke-opacity:1\"/>\n",
       "<path d=\"M 111.154,117.592 112.019,118.577\" style=\"fill:none;fill-rule:evenodd;stroke:#000000;stroke-width:1px;stroke-linecap:butt;stroke-linejoin:miter;stroke-opacity:1\"/>\n",
       "<path d=\"M 108.949,119.095 110.248,120.571\" style=\"fill:none;fill-rule:evenodd;stroke:#000000;stroke-width:1px;stroke-linecap:butt;stroke-linejoin:miter;stroke-opacity:1\"/>\n",
       "<path d=\"M 106.745,120.597 108.477,122.566\" style=\"fill:none;fill-rule:evenodd;stroke:#000000;stroke-width:1px;stroke-linecap:butt;stroke-linejoin:miter;stroke-opacity:1\"/>\n",
       "<path d=\"M 104.54,122.099 106.705,124.561\" style=\"fill:none;fill-rule:evenodd;stroke:#000000;stroke-width:1px;stroke-linecap:butt;stroke-linejoin:miter;stroke-opacity:1\"/>\n",
       "<path d=\"M 102.336,123.601 104.934,126.555\" style=\"fill:none;fill-rule:evenodd;stroke:#000000;stroke-width:1px;stroke-linecap:butt;stroke-linejoin:miter;stroke-opacity:1\"/>\n",
       "<path d=\"M 100.131,125.104 103.162,128.55\" style=\"fill:none;fill-rule:evenodd;stroke:#000000;stroke-width:1px;stroke-linecap:butt;stroke-linejoin:miter;stroke-opacity:1\"/>\n",
       "<path d=\"M 97.927,126.606 101.391,130.544\" style=\"fill:none;fill-rule:evenodd;stroke:#000000;stroke-width:1px;stroke-linecap:butt;stroke-linejoin:miter;stroke-opacity:1\"/>\n",
       "<path d=\"M 95.7226,128.108 99.6194,132.539\" style=\"fill:none;fill-rule:evenodd;stroke:#000000;stroke-width:1px;stroke-linecap:butt;stroke-linejoin:miter;stroke-opacity:1\"/>\n",
       "<path d=\"M 93.5182,129.61 97.848,134.533\" style=\"fill:none;fill-rule:evenodd;stroke:#000000;stroke-width:1px;stroke-linecap:butt;stroke-linejoin:miter;stroke-opacity:1\"/>\n",
       "<path d=\"M 61.772,96.4143 48.0908,126.203\" style=\"fill:none;fill-rule:evenodd;stroke:#000000;stroke-width:2px;stroke-linecap:butt;stroke-linejoin:miter;stroke-opacity:1\"/>\n",
       "<path d=\"M 53.7621,98.1464 44.1852,118.999\" style=\"fill:none;fill-rule:evenodd;stroke:#000000;stroke-width:2px;stroke-linecap:butt;stroke-linejoin:miter;stroke-opacity:1\"/>\n",
       "<text style=\"font-size:10px;font-style:normal;font-weight:normal;fill-opacity:1;stroke:none;font-family:sans-serif;text-anchor:start;fill:#FF0000\" x=\"161.395\" y=\"108.895\"><tspan>OH</tspan></text>\n",
       "<text style=\"font-size:10px;font-style:normal;font-weight:normal;fill-opacity:1;stroke:none;font-family:sans-serif;text-anchor:start;fill:#FF0000\" x=\"128.633\" y=\"66.2609\"><tspan>O</tspan></text>\n",
       "<text style=\"font-size:10px;font-style:normal;font-weight:normal;fill-opacity:1;stroke:none;font-family:sans-serif;text-anchor:start;fill:#0000FF\" x=\"28.198\" y=\"79.6608\"><tspan>NH</tspan></text>\n",
       "<text style=\"font-size:10px;font-style:normal;font-weight:normal;fill-opacity:1;stroke:none;font-family:sans-serif;text-anchor:start;fill:#0000FF\" x=\"125.917\" y=\"145.212\"><tspan>NH</tspan><tspan style=\"baseline-shift:sub;font-size:7.5px;\">2</tspan><tspan/></text>\n",
       "<text style=\"font-size:10px;font-style:normal;font-weight:normal;fill-opacity:1;stroke:none;font-family:sans-serif;text-anchor:start;fill:#0000FF\" x=\"10.7967\" y=\"127.86\"><tspan>N</tspan></text>\n",
       "<text style=\"font-size:10px;font-style:normal;font-weight:normal;fill-opacity:1;stroke:none;font-family:sans-serif;text-anchor:start;fill:#000000\" x=\"86.2123\" y=\"141.7\"><tspan>H</tspan></text>\n",
       "<text style=\"font-size:12px;font-style:normal;font-weight:normal;fill-opacity:1;stroke:none;font-family:sans-serif;text-anchor:start;fill:#000000\" x=\"69.9712\" y=\"194\"><tspan>DB00117</tspan></text>\n",
       "</g>\n",
       "<g transform=\"translate(400,0)\"><rect height=\"200\" style=\"opacity:1.0;fill:#FFFFFF;stroke:none\" width=\"200\" x=\"0\" y=\"0\"> </rect>\n",
       "<path d=\"M 80.2798,93.7657 84.2543,98.3346\" style=\"fill:none;fill-rule:evenodd;stroke:#CCCC00;stroke-width:2px;stroke-linecap:butt;stroke-linejoin:miter;stroke-opacity:1\"/>\n",
       "<path d=\"M 84.2543,98.3346 88.2288,102.904\" style=\"fill:none;fill-rule:evenodd;stroke:#000000;stroke-width:2px;stroke-linecap:butt;stroke-linejoin:miter;stroke-opacity:1\"/>\n",
       "<path d=\"M 74.6584,91.4304 68.3413,92.6606\" style=\"fill:none;fill-rule:evenodd;stroke:#CCCC00;stroke-width:2px;stroke-linecap:butt;stroke-linejoin:miter;stroke-opacity:1\"/>\n",
       "<path d=\"M 68.3413,92.6606 62.0242,93.8908\" style=\"fill:none;fill-rule:evenodd;stroke:#000000;stroke-width:2px;stroke-linecap:butt;stroke-linejoin:miter;stroke-opacity:1\"/>\n",
       "<path d=\"M 78.7371,87.8994 80.8344,81.8013\" style=\"fill:none;fill-rule:evenodd;stroke:#CCCC00;stroke-width:2px;stroke-linecap:butt;stroke-linejoin:miter;stroke-opacity:1\"/>\n",
       "<path d=\"M 80.8344,81.8013 82.9317,75.7033\" style=\"fill:none;fill-rule:evenodd;stroke:#000000;stroke-width:2px;stroke-linecap:butt;stroke-linejoin:miter;stroke-opacity:1\"/>\n",
       "<path d=\"M 116.167,94.6469 110.05,97.2461\" style=\"fill:none;fill-rule:evenodd;stroke:#FF0000;stroke-width:2px;stroke-linecap:butt;stroke-linejoin:miter;stroke-opacity:1\"/>\n",
       "<path d=\"M 110.05,97.2461 103.933,99.8452\" style=\"fill:none;fill-rule:evenodd;stroke:#000000;stroke-width:2px;stroke-linecap:butt;stroke-linejoin:miter;stroke-opacity:1\"/>\n",
       "<path d=\"M 120.978,96.2553 125.068,100.957\" style=\"fill:none;fill-rule:evenodd;stroke:#FF0000;stroke-width:2px;stroke-linecap:butt;stroke-linejoin:miter;stroke-opacity:1\"/>\n",
       "<path d=\"M 125.068,100.957 129.158,105.66\" style=\"fill:none;fill-rule:evenodd;stroke:#000000;stroke-width:2px;stroke-linecap:butt;stroke-linejoin:miter;stroke-opacity:1\"/>\n",
       "<path d=\"M 103.715,128.997 104.524,122.39\" style=\"fill:none;fill-rule:evenodd;stroke:#FF0000;stroke-width:2px;stroke-linecap:butt;stroke-linejoin:miter;stroke-opacity:1\"/>\n",
       "<path d=\"M 104.524,122.39 105.333,115.783\" style=\"fill:none;fill-rule:evenodd;stroke:#000000;stroke-width:2px;stroke-linecap:butt;stroke-linejoin:miter;stroke-opacity:1\"/>\n",
       "<path d=\"M 130.624,123.896 125.774,121.636\" style=\"fill:none;fill-rule:evenodd;stroke:#FF0000;stroke-width:2px;stroke-linecap:butt;stroke-linejoin:miter;stroke-opacity:1\"/>\n",
       "<path d=\"M 125.774,121.636 120.923,119.377\" style=\"fill:none;fill-rule:evenodd;stroke:#000000;stroke-width:2px;stroke-linecap:butt;stroke-linejoin:miter;stroke-opacity:1\"/>\n",
       "<path d=\"M 29.8721,108.416 34.375,104.499\" style=\"fill:none;fill-rule:evenodd;stroke:#FF0000;stroke-width:2px;stroke-linecap:butt;stroke-linejoin:miter;stroke-opacity:1\"/>\n",
       "<path d=\"M 34.375,104.499 38.8778,100.582\" style=\"fill:none;fill-rule:evenodd;stroke:#000000;stroke-width:2px;stroke-linecap:butt;stroke-linejoin:miter;stroke-opacity:1\"/>\n",
       "<path d=\"M 52.037,103.416 45.7176,101.243\" style=\"fill:none;fill-rule:evenodd;stroke:#FF0000;stroke-width:2px;stroke-linecap:butt;stroke-linejoin:miter;stroke-opacity:1\"/>\n",
       "<path d=\"M 45.7176,101.243 39.3982,99.0692\" style=\"fill:none;fill-rule:evenodd;stroke:#000000;stroke-width:2px;stroke-linecap:butt;stroke-linejoin:miter;stroke-opacity:1\"/>\n",
       "<path d=\"M 50.9963,106.442 44.6769,104.269\" style=\"fill:none;fill-rule:evenodd;stroke:#FF0000;stroke-width:2px;stroke-linecap:butt;stroke-linejoin:miter;stroke-opacity:1\"/>\n",
       "<path d=\"M 44.6769,104.269 38.3575,102.095\" style=\"fill:none;fill-rule:evenodd;stroke:#000000;stroke-width:2px;stroke-linecap:butt;stroke-linejoin:miter;stroke-opacity:1\"/>\n",
       "<path d=\"M 137.755,96.4351 133.457,101.047\" style=\"fill:none;fill-rule:evenodd;stroke:#0000FF;stroke-width:2px;stroke-linecap:butt;stroke-linejoin:miter;stroke-opacity:1\"/>\n",
       "<path d=\"M 133.457,101.047 129.158,105.66\" style=\"fill:none;fill-rule:evenodd;stroke:#000000;stroke-width:2px;stroke-linecap:butt;stroke-linejoin:miter;stroke-opacity:1\"/>\n",
       "<path d=\"M 142.377,94.2379 149.162,95.0685\" style=\"fill:none;fill-rule:evenodd;stroke:#0000FF;stroke-width:2px;stroke-linecap:butt;stroke-linejoin:miter;stroke-opacity:1\"/>\n",
       "<path d=\"M 149.162,95.0685 155.946,95.8992\" style=\"fill:none;fill-rule:evenodd;stroke:#000000;stroke-width:2px;stroke-linecap:butt;stroke-linejoin:miter;stroke-opacity:1\"/>\n",
       "<path d=\"M 139.546,91.2884 138.277,84.7696\" style=\"fill:none;fill-rule:evenodd;stroke:#0000FF;stroke-width:2px;stroke-linecap:butt;stroke-linejoin:miter;stroke-opacity:1\"/>\n",
       "<path d=\"M 138.277,84.7696 137.007,78.2509\" style=\"fill:none;fill-rule:evenodd;stroke:#000000;stroke-width:2px;stroke-linecap:butt;stroke-linejoin:miter;stroke-opacity:1\"/>\n",
       "<path d=\"M 148.687,71.7716 142.847,75.0112\" style=\"fill:none;fill-rule:evenodd;stroke:#0000FF;stroke-width:2px;stroke-linecap:butt;stroke-linejoin:miter;stroke-opacity:1\"/>\n",
       "<path d=\"M 142.847,75.0112 137.007,78.2509\" style=\"fill:none;fill-rule:evenodd;stroke:#000000;stroke-width:2px;stroke-linecap:butt;stroke-linejoin:miter;stroke-opacity:1\"/>\n",
       "<path d=\"M 148.487,75.5416 144.399,77.8093\" style=\"fill:none;fill-rule:evenodd;stroke:#0000FF;stroke-width:2px;stroke-linecap:butt;stroke-linejoin:miter;stroke-opacity:1\"/>\n",
       "<path d=\"M 144.399,77.8093 140.312,80.0771\" style=\"fill:none;fill-rule:evenodd;stroke:#000000;stroke-width:2px;stroke-linecap:butt;stroke-linejoin:miter;stroke-opacity:1\"/>\n",
       "<path d=\"M 153.309,72.6432 158.006,77.0199\" style=\"fill:none;fill-rule:evenodd;stroke:#0000FF;stroke-width:2px;stroke-linecap:butt;stroke-linejoin:miter;stroke-opacity:1\"/>\n",
       "<path d=\"M 158.006,77.0199 162.703,81.3967\" style=\"fill:none;fill-rule:evenodd;stroke:#000000;stroke-width:2px;stroke-linecap:butt;stroke-linejoin:miter;stroke-opacity:1\"/>\n",
       "<path d=\"M 163.259,106.335 159.603,101.117\" style=\"fill:none;fill-rule:evenodd;stroke:#0000FF;stroke-width:2px;stroke-linecap:butt;stroke-linejoin:miter;stroke-opacity:1\"/>\n",
       "<path d=\"M 159.603,101.117 155.946,95.8992\" style=\"fill:none;fill-rule:evenodd;stroke:#000000;stroke-width:2px;stroke-linecap:butt;stroke-linejoin:miter;stroke-opacity:1\"/>\n",
       "<path d=\"M 167.439,108.799 174.252,108.2\" style=\"fill:none;fill-rule:evenodd;stroke:#0000FF;stroke-width:2px;stroke-linecap:butt;stroke-linejoin:miter;stroke-opacity:1\"/>\n",
       "<path d=\"M 174.252,108.2 181.065,107.602\" style=\"fill:none;fill-rule:evenodd;stroke:#000000;stroke-width:2px;stroke-linecap:butt;stroke-linejoin:miter;stroke-opacity:1\"/>\n",
       "<path d=\"M 169.203,105.432 173.972,105.013\" style=\"fill:none;fill-rule:evenodd;stroke:#0000FF;stroke-width:2px;stroke-linecap:butt;stroke-linejoin:miter;stroke-opacity:1\"/>\n",
       "<path d=\"M 173.972,105.013 178.741,104.594\" style=\"fill:none;fill-rule:evenodd;stroke:#000000;stroke-width:2px;stroke-linecap:butt;stroke-linejoin:miter;stroke-opacity:1\"/>\n",
       "<path d=\"M 25.6278,86.8629 30.7237,85.8705\" style=\"fill:none;fill-rule:evenodd;stroke:#0000FF;stroke-width:2px;stroke-linecap:butt;stroke-linejoin:miter;stroke-opacity:1\"/>\n",
       "<path d=\"M 30.7237,85.8705 35.8195,84.8781\" style=\"fill:none;fill-rule:evenodd;stroke:#000000;stroke-width:2px;stroke-linecap:butt;stroke-linejoin:miter;stroke-opacity:1\"/>\n",
       "<path d=\"M 185.953,90.4327 182.297,85.2147\" style=\"fill:none;fill-rule:evenodd;stroke:#0000FF;stroke-width:2px;stroke-linecap:butt;stroke-linejoin:miter;stroke-opacity:1\"/>\n",
       "<path d=\"M 182.297,85.2147 178.64,79.9967\" style=\"fill:none;fill-rule:evenodd;stroke:#000000;stroke-width:2px;stroke-linecap:butt;stroke-linejoin:miter;stroke-opacity:1\"/>\n",
       "<path d=\"M 182.236,90.7035 179.676,87.0509\" style=\"fill:none;fill-rule:evenodd;stroke:#0000FF;stroke-width:2px;stroke-linecap:butt;stroke-linejoin:miter;stroke-opacity:1\"/>\n",
       "<path d=\"M 179.676,87.0509 177.117,83.3984\" style=\"fill:none;fill-rule:evenodd;stroke:#000000;stroke-width:2px;stroke-linecap:butt;stroke-linejoin:miter;stroke-opacity:1\"/>\n",
       "<path d=\"M 186.579,95.7657 183.822,101.684\" style=\"fill:none;fill-rule:evenodd;stroke:#0000FF;stroke-width:2px;stroke-linecap:butt;stroke-linejoin:miter;stroke-opacity:1\"/>\n",
       "<path d=\"M 183.822,101.684 181.065,107.602\" style=\"fill:none;fill-rule:evenodd;stroke:#000000;stroke-width:2px;stroke-linecap:butt;stroke-linejoin:miter;stroke-opacity:1\"/>\n",
       "<path d=\"M 184.03,68.4274 181.335,74.2121\" style=\"fill:none;fill-rule:evenodd;stroke:#0000FF;stroke-width:2px;stroke-linecap:butt;stroke-linejoin:miter;stroke-opacity:1\"/>\n",
       "<path d=\"M 181.335,74.2121 178.64,79.9967\" style=\"fill:none;fill-rule:evenodd;stroke:#000000;stroke-width:2px;stroke-linecap:butt;stroke-linejoin:miter;stroke-opacity:1\"/>\n",
       "<path d=\"M 103.933,99.8452 105.333,115.783\" style=\"fill:none;fill-rule:evenodd;stroke:#000000;stroke-width:2px;stroke-linecap:butt;stroke-linejoin:miter;stroke-opacity:1\"/>\n",
       "<path d=\"M 103.933,99.8452 88.2288,102.904\" style=\"fill:none;fill-rule:evenodd;stroke:#000000;stroke-width:2px;stroke-linecap:butt;stroke-linejoin:miter;stroke-opacity:1\"/>\n",
       "<path d=\"M 103.699,98.5352 103.393,98.6289\" style=\"fill:none;fill-rule:evenodd;stroke:#000000;stroke-width:1px;stroke-linecap:butt;stroke-linejoin:miter;stroke-opacity:1\"/>\n",
       "<path d=\"M 103.465,97.2252 102.854,97.4125\" style=\"fill:none;fill-rule:evenodd;stroke:#000000;stroke-width:1px;stroke-linecap:butt;stroke-linejoin:miter;stroke-opacity:1\"/>\n",
       "<path d=\"M 103.232,95.9152 102.314,96.1962\" style=\"fill:none;fill-rule:evenodd;stroke:#000000;stroke-width:1px;stroke-linecap:butt;stroke-linejoin:miter;stroke-opacity:1\"/>\n",
       "<path d=\"M 102.998,94.6052 101.774,94.9798\" style=\"fill:none;fill-rule:evenodd;stroke:#000000;stroke-width:1px;stroke-linecap:butt;stroke-linejoin:miter;stroke-opacity:1\"/>\n",
       "<path d=\"M 102.764,93.2952 101.235,93.7635\" style=\"fill:none;fill-rule:evenodd;stroke:#000000;stroke-width:1px;stroke-linecap:butt;stroke-linejoin:miter;stroke-opacity:1\"/>\n",
       "<path d=\"M 102.531,91.9852 100.695,92.5471\" style=\"fill:none;fill-rule:evenodd;stroke:#000000;stroke-width:1px;stroke-linecap:butt;stroke-linejoin:miter;stroke-opacity:1\"/>\n",
       "<path d=\"M 102.297,90.6751 100.155,91.3308\" style=\"fill:none;fill-rule:evenodd;stroke:#000000;stroke-width:1px;stroke-linecap:butt;stroke-linejoin:miter;stroke-opacity:1\"/>\n",
       "<path d=\"M 102.063,89.3651 99.6156,90.1144\" style=\"fill:none;fill-rule:evenodd;stroke:#000000;stroke-width:1px;stroke-linecap:butt;stroke-linejoin:miter;stroke-opacity:1\"/>\n",
       "<path d=\"M 101.83,88.0551 99.0759,88.8981\" style=\"fill:none;fill-rule:evenodd;stroke:#000000;stroke-width:1px;stroke-linecap:butt;stroke-linejoin:miter;stroke-opacity:1\"/>\n",
       "<path d=\"M 101.596,86.7451 98.5363,87.6817\" style=\"fill:none;fill-rule:evenodd;stroke:#000000;stroke-width:1px;stroke-linecap:butt;stroke-linejoin:miter;stroke-opacity:1\"/>\n",
       "<path d=\"M 105.333,115.783 120.923,119.377\" style=\"fill:none;fill-rule:evenodd;stroke:#000000;stroke-width:2px;stroke-linecap:butt;stroke-linejoin:miter;stroke-opacity:1\"/>\n",
       "<path d=\"M 105.333,115.783 91.6747,113.949 91.62,117.149 105.333,115.783\" style=\"fill:#000000;fill-rule:evenoddstroke:#000000;stroke-width:2px;stroke-linecap:butt;stroke-linejoin:miter;stroke-opacity:1\"/>\n",
       "<path d=\"M 120.923,119.377 129.158,105.66\" style=\"fill:none;fill-rule:evenodd;stroke:#000000;stroke-width:2px;stroke-linecap:butt;stroke-linejoin:miter;stroke-opacity:1\"/>\n",
       "<path d=\"M 120.923,119.377 115.124,131.319 118.15,132.36 120.923,119.377\" style=\"fill:#000000;fill-rule:evenoddstroke:#000000;stroke-width:2px;stroke-linecap:butt;stroke-linejoin:miter;stroke-opacity:1\"/>\n",
       "<path d=\"M 130.109,106.576 130.302,106.32\" style=\"fill:none;fill-rule:evenodd;stroke:#000000;stroke-width:1px;stroke-linecap:butt;stroke-linejoin:miter;stroke-opacity:1\"/>\n",
       "<path d=\"M 131.06,107.492 131.445,106.981\" style=\"fill:none;fill-rule:evenodd;stroke:#000000;stroke-width:1px;stroke-linecap:butt;stroke-linejoin:miter;stroke-opacity:1\"/>\n",
       "<path d=\"M 132.011,108.408 132.588,107.641\" style=\"fill:none;fill-rule:evenodd;stroke:#000000;stroke-width:1px;stroke-linecap:butt;stroke-linejoin:miter;stroke-opacity:1\"/>\n",
       "<path d=\"M 132.961,109.324 133.731,108.302\" style=\"fill:none;fill-rule:evenodd;stroke:#000000;stroke-width:1px;stroke-linecap:butt;stroke-linejoin:miter;stroke-opacity:1\"/>\n",
       "<path d=\"M 133.912,110.241 134.874,108.963\" style=\"fill:none;fill-rule:evenodd;stroke:#000000;stroke-width:1px;stroke-linecap:butt;stroke-linejoin:miter;stroke-opacity:1\"/>\n",
       "<path d=\"M 134.863,111.157 136.018,109.623\" style=\"fill:none;fill-rule:evenodd;stroke:#000000;stroke-width:1px;stroke-linecap:butt;stroke-linejoin:miter;stroke-opacity:1\"/>\n",
       "<path d=\"M 135.814,112.073 137.161,110.284\" style=\"fill:none;fill-rule:evenodd;stroke:#000000;stroke-width:1px;stroke-linecap:butt;stroke-linejoin:miter;stroke-opacity:1\"/>\n",
       "<path d=\"M 136.764,112.989 138.304,110.944\" style=\"fill:none;fill-rule:evenodd;stroke:#000000;stroke-width:1px;stroke-linecap:butt;stroke-linejoin:miter;stroke-opacity:1\"/>\n",
       "<path d=\"M 137.715,113.905 139.447,111.605\" style=\"fill:none;fill-rule:evenodd;stroke:#000000;stroke-width:1px;stroke-linecap:butt;stroke-linejoin:miter;stroke-opacity:1\"/>\n",
       "<path d=\"M 138.666,114.821 140.591,112.265\" style=\"fill:none;fill-rule:evenodd;stroke:#000000;stroke-width:1px;stroke-linecap:butt;stroke-linejoin:miter;stroke-opacity:1\"/>\n",
       "<path d=\"M 62.0242,93.8908 51.5236,81.8198\" style=\"fill:none;fill-rule:evenodd;stroke:#000000;stroke-width:2px;stroke-linecap:butt;stroke-linejoin:miter;stroke-opacity:1\"/>\n",
       "<path d=\"M 155.946,95.8992 162.703,81.3967\" style=\"fill:none;fill-rule:evenodd;stroke:#000000;stroke-width:2px;stroke-linecap:butt;stroke-linejoin:miter;stroke-opacity:1\"/>\n",
       "<path d=\"M 154.059,92.3725 158.789,82.2208\" style=\"fill:none;fill-rule:evenodd;stroke:#000000;stroke-width:2px;stroke-linecap:butt;stroke-linejoin:miter;stroke-opacity:1\"/>\n",
       "<path d=\"M 51.5236,81.8198 35.8195,84.8781\" style=\"fill:none;fill-rule:evenodd;stroke:#000000;stroke-width:2px;stroke-linecap:butt;stroke-linejoin:miter;stroke-opacity:1\"/>\n",
       "<path d=\"M 162.703,81.3967 178.64,79.9967\" style=\"fill:none;fill-rule:evenodd;stroke:#000000;stroke-width:2px;stroke-linecap:butt;stroke-linejoin:miter;stroke-opacity:1\"/>\n",
       "<path d=\"M 35.8195,84.8781 38.8778,100.582\" style=\"fill:none;fill-rule:evenodd;stroke:#000000;stroke-width:2px;stroke-linecap:butt;stroke-linejoin:miter;stroke-opacity:1\"/>\n",
       "<path d=\"M 35.7227,83.5438 35.4086,83.6049\" style=\"fill:none;fill-rule:evenodd;stroke:#000000;stroke-width:1px;stroke-linecap:butt;stroke-linejoin:miter;stroke-opacity:1\"/>\n",
       "<path d=\"M 35.6258,82.2094 34.9977,82.3317\" style=\"fill:none;fill-rule:evenodd;stroke:#000000;stroke-width:1px;stroke-linecap:butt;stroke-linejoin:miter;stroke-opacity:1\"/>\n",
       "<path d=\"M 35.529,80.8751 34.5867,81.0586\" style=\"fill:none;fill-rule:evenodd;stroke:#000000;stroke-width:1px;stroke-linecap:butt;stroke-linejoin:miter;stroke-opacity:1\"/>\n",
       "<path d=\"M 35.4321,79.5407 34.1758,79.7854\" style=\"fill:none;fill-rule:evenodd;stroke:#000000;stroke-width:1px;stroke-linecap:butt;stroke-linejoin:miter;stroke-opacity:1\"/>\n",
       "<path d=\"M 35.3353,78.2064 33.7649,78.5122\" style=\"fill:none;fill-rule:evenodd;stroke:#000000;stroke-width:1px;stroke-linecap:butt;stroke-linejoin:miter;stroke-opacity:1\"/>\n",
       "<path d=\"M 35.2384,76.8721 33.3539,77.2391\" style=\"fill:none;fill-rule:evenodd;stroke:#000000;stroke-width:1px;stroke-linecap:butt;stroke-linejoin:miter;stroke-opacity:1\"/>\n",
       "<path d=\"M 35.1415,75.5377 32.943,75.9659\" style=\"fill:none;fill-rule:evenodd;stroke:#000000;stroke-width:1px;stroke-linecap:butt;stroke-linejoin:miter;stroke-opacity:1\"/>\n",
       "<path d=\"M 35.0447,74.2034 32.532,74.6927\" style=\"fill:none;fill-rule:evenodd;stroke:#000000;stroke-width:1px;stroke-linecap:butt;stroke-linejoin:miter;stroke-opacity:1\"/>\n",
       "<path d=\"M 34.9478,72.869 32.1211,73.4195\" style=\"fill:none;fill-rule:evenodd;stroke:#000000;stroke-width:1px;stroke-linecap:butt;stroke-linejoin:miter;stroke-opacity:1\"/>\n",
       "<path d=\"M 34.851,71.5347 31.7102,72.1464\" style=\"fill:none;fill-rule:evenodd;stroke:#000000;stroke-width:1px;stroke-linecap:butt;stroke-linejoin:miter;stroke-opacity:1\"/>\n",
       "<text style=\"font-size:5px;font-style:normal;font-weight:normal;fill-opacity:1;stroke:none;font-family:sans-serif;text-anchor:start;fill:#CCCC00\" x=\"74.6584\" y=\"93.7657\"><tspan>S</tspan><tspan style=\"baseline-shift:super;font-size:3.75px;\">+</tspan><tspan/></text>\n",
       "<text style=\"font-size:5px;font-style:normal;font-weight:normal;fill-opacity:1;stroke:none;font-family:sans-serif;text-anchor:start;fill:#FF0000\" x=\"116.167\" y=\"96.2553\"><tspan>O</tspan></text>\n",
       "<text style=\"font-size:5px;font-style:normal;font-weight:normal;fill-opacity:1;stroke:none;font-family:sans-serif;text-anchor:start;fill:#FF0000\" x=\"98.587\" y=\"134.33\"><tspan>OH</tspan></text>\n",
       "<text style=\"font-size:5px;font-style:normal;font-weight:normal;fill-opacity:1;stroke:none;font-family:sans-serif;text-anchor:start;fill:#FF0000\" x=\"130.624\" y=\"128.799\"><tspan>OH</tspan></text>\n",
       "<text style=\"font-size:5px;font-style:normal;font-weight:normal;fill-opacity:1;stroke:none;font-family:sans-serif;text-anchor:start;fill:#FF0000\" x=\"22.0052\" y=\"113.749\"><tspan>HO</tspan></text>\n",
       "<text style=\"font-size:5px;font-style:normal;font-weight:normal;fill-opacity:1;stroke:none;font-family:sans-serif;text-anchor:start;fill:#FF0000\" x=\"51.5166\" y=\"108.452\"><tspan>O</tspan></text>\n",
       "<text style=\"font-size:5px;font-style:normal;font-weight:normal;fill-opacity:1;stroke:none;font-family:sans-serif;text-anchor:start;fill:#0000FF\" x=\"137.755\" y=\"96.6214\"><tspan>N</tspan></text>\n",
       "<text style=\"font-size:5px;font-style:normal;font-weight:normal;fill-opacity:1;stroke:none;font-family:sans-serif;text-anchor:start;fill:#0000FF\" x=\"148.687\" y=\"73.156\"><tspan>N</tspan></text>\n",
       "<text style=\"font-size:5px;font-style:normal;font-weight:normal;fill-opacity:1;stroke:none;font-family:sans-serif;text-anchor:start;fill:#0000FF\" x=\"162.816\" y=\"111.668\"><tspan>N</tspan></text>\n",
       "<text style=\"font-size:5px;font-style:normal;font-weight:normal;fill-opacity:1;stroke:none;font-family:sans-serif;text-anchor:start;fill:#0000FF\" x=\"14.6032\" y=\"90.8695\"><tspan>H</tspan><tspan style=\"baseline-shift:sub;font-size:3.75px;\">2</tspan><tspan>N</tspan></text>\n",
       "<text style=\"font-size:5px;font-style:normal;font-weight:normal;fill-opacity:1;stroke:none;font-family:sans-serif;text-anchor:start;fill:#0000FF\" x=\"185.51\" y=\"95.7657\"><tspan>N</tspan></text>\n",
       "<text style=\"font-size:5px;font-style:normal;font-weight:normal;fill-opacity:1;stroke:none;font-family:sans-serif;text-anchor:start;fill:#0000FF\" x=\"179.885\" y=\"68.4274\"><tspan>NH</tspan><tspan style=\"baseline-shift:sub;font-size:3.75px;\">2</tspan><tspan/></text>\n",
       "<text style=\"font-size:5px;font-style:normal;font-weight:normal;fill-opacity:1;stroke:none;font-family:sans-serif;text-anchor:start;fill:#000000\" x=\"96.9386\" y=\"87.2134\"><tspan>H</tspan></text>\n",
       "<text style=\"font-size:5px;font-style:normal;font-weight:normal;fill-opacity:1;stroke:none;font-family:sans-serif;text-anchor:start;fill:#000000\" x=\"87.0249\" y=\"118.176\"><tspan>H</tspan></text>\n",
       "<text style=\"font-size:5px;font-style:normal;font-weight:normal;fill-opacity:1;stroke:none;font-family:sans-serif;text-anchor:start;fill:#000000\" x=\"113.408\" y=\"137.172\"><tspan>H</tspan></text>\n",
       "<text style=\"font-size:5px;font-style:normal;font-weight:normal;fill-opacity:1;stroke:none;font-family:sans-serif;text-anchor:start;fill:#000000\" x=\"139.628\" y=\"117.95\"><tspan>H</tspan></text>\n",
       "<text style=\"font-size:5px;font-style:normal;font-weight:normal;fill-opacity:1;stroke:none;font-family:sans-serif;text-anchor:start;fill:#000000\" x=\"30.4501\" y=\"71.8405\"><tspan>H</tspan></text>\n",
       "<text style=\"font-size:12px;font-style:normal;font-weight:normal;fill-opacity:1;stroke:none;font-family:sans-serif;text-anchor:start;fill:#000000\" x=\"69.9712\" y=\"194\"><tspan>DB00118</tspan></text>\n",
       "</g>\n",
       "<g transform=\"translate(600,0)\"><rect height=\"200\" style=\"opacity:1.0;fill:#FFFFFF;stroke:none\" width=\"200\" x=\"0\" y=\"0\"> </rect>\n",
       "<path d=\"M 161.565,48.2217 146.618,74.1109\" style=\"fill:none;fill-rule:evenodd;stroke:#FF0000;stroke-width:2px;stroke-linecap:butt;stroke-linejoin:miter;stroke-opacity:1\"/>\n",
       "<path d=\"M 146.618,74.1109 131.671,100\" style=\"fill:none;fill-rule:evenodd;stroke:#000000;stroke-width:2px;stroke-linecap:butt;stroke-linejoin:miter;stroke-opacity:1\"/>\n",
       "<path d=\"M 21.3281,51.9236 36.2752,77.8127\" style=\"fill:none;fill-rule:evenodd;stroke:#FF0000;stroke-width:2px;stroke-linecap:butt;stroke-linejoin:miter;stroke-opacity:1\"/>\n",
       "<path d=\"M 36.2752,77.8127 51.2223,103.702\" style=\"fill:none;fill-rule:evenodd;stroke:#000000;stroke-width:2px;stroke-linecap:butt;stroke-linejoin:miter;stroke-opacity:1\"/>\n",
       "<path d=\"M 34.1516,44.5199 49.0987,70.409\" style=\"fill:none;fill-rule:evenodd;stroke:#FF0000;stroke-width:2px;stroke-linecap:butt;stroke-linejoin:miter;stroke-opacity:1\"/>\n",
       "<path d=\"M 49.0987,70.409 64.0458,96.2982\" style=\"fill:none;fill-rule:evenodd;stroke:#000000;stroke-width:2px;stroke-linecap:butt;stroke-linejoin:miter;stroke-opacity:1\"/>\n",
       "<path d=\"M 167.977,148.076 153.03,122.187\" style=\"fill:none;fill-rule:evenodd;stroke:#FF0000;stroke-width:2px;stroke-linecap:butt;stroke-linejoin:miter;stroke-opacity:1\"/>\n",
       "<path d=\"M 153.03,122.187 138.083,96.2982\" style=\"fill:none;fill-rule:evenodd;stroke:#000000;stroke-width:2px;stroke-linecap:butt;stroke-linejoin:miter;stroke-opacity:1\"/>\n",
       "<path d=\"M 155.153,155.48 140.206,129.591\" style=\"fill:none;fill-rule:evenodd;stroke:#FF0000;stroke-width:2px;stroke-linecap:butt;stroke-linejoin:miter;stroke-opacity:1\"/>\n",
       "<path d=\"M 140.206,129.591 125.259,103.702\" style=\"fill:none;fill-rule:evenodd;stroke:#000000;stroke-width:2px;stroke-linecap:butt;stroke-linejoin:miter;stroke-opacity:1\"/>\n",
       "<path d=\"M 57.634,100 20.6156,164.118\" style=\"fill:none;fill-rule:evenodd;stroke:#000000;stroke-width:2px;stroke-linecap:butt;stroke-linejoin:miter;stroke-opacity:1\"/>\n",
       "<path d=\"M 57.634,100 131.671,100\" style=\"fill:none;fill-rule:evenodd;stroke:#000000;stroke-width:2px;stroke-linecap:butt;stroke-linejoin:miter;stroke-opacity:1\"/>\n",
       "<text style=\"font-size:24px;font-style:normal;font-weight:normal;fill-opacity:1;stroke:none;font-family:sans-serif;text-anchor:start;fill:#FF0000\" x=\"146.469\" y=\"48.2217\"><tspan>OH</tspan></text>\n",
       "<text style=\"font-size:24px;font-style:normal;font-weight:normal;fill-opacity:1;stroke:none;font-family:sans-serif;text-anchor:start;fill:#FF0000\" x=\"9.09091\" y=\"48.2217\"><tspan>O</tspan></text>\n",
       "<text style=\"font-size:24px;font-style:normal;font-weight:normal;fill-opacity:1;stroke:none;font-family:sans-serif;text-anchor:start;fill:#FF0000\" x=\"157.164\" y=\"176.457\"><tspan>O</tspan></text>\n",
       "<text style=\"font-size:12px;font-style:normal;font-weight:normal;fill-opacity:1;stroke:none;font-family:sans-serif;text-anchor:start;fill:#000000\" x=\"69.9712\" y=\"194\"><tspan>DB00119</tspan></text>\n",
       "</g>\n",
       "<g transform=\"translate(0,200)\"><rect height=\"200\" style=\"opacity:1.0;fill:#FFFFFF;stroke:none\" width=\"200\" x=\"0\" y=\"0\"> </rect>\n",
       "<path d=\"M 36.831,99.7848 46.7778,103.2\" style=\"fill:none;fill-rule:evenodd;stroke:#FF0000;stroke-width:2px;stroke-linecap:butt;stroke-linejoin:miter;stroke-opacity:1\"/>\n",
       "<path d=\"M 46.7778,103.2 56.7246,106.615\" style=\"fill:none;fill-rule:evenodd;stroke:#000000;stroke-width:2px;stroke-linecap:butt;stroke-linejoin:miter;stroke-opacity:1\"/>\n",
       "<path d=\"M 64.6514,131.128 62.2,118.576\" style=\"fill:none;fill-rule:evenodd;stroke:#FF0000;stroke-width:2px;stroke-linecap:butt;stroke-linejoin:miter;stroke-opacity:1\"/>\n",
       "<path d=\"M 62.2,118.576 59.7485,106.024\" style=\"fill:none;fill-rule:evenodd;stroke:#000000;stroke-width:2px;stroke-linecap:butt;stroke-linejoin:miter;stroke-opacity:1\"/>\n",
       "<path d=\"M 58.6037,132.309 56.1522,119.757\" style=\"fill:none;fill-rule:evenodd;stroke:#FF0000;stroke-width:2px;stroke-linecap:butt;stroke-linejoin:miter;stroke-opacity:1\"/>\n",
       "<path d=\"M 56.1522,119.757 53.7008,107.205\" style=\"fill:none;fill-rule:evenodd;stroke:#000000;stroke-width:2px;stroke-linecap:butt;stroke-linejoin:miter;stroke-opacity:1\"/>\n",
       "<path d=\"M 64.6443,68.7949 72.3018,77.588\" style=\"fill:none;fill-rule:evenodd;stroke:#0000FF;stroke-width:2px;stroke-linecap:butt;stroke-linejoin:miter;stroke-opacity:1\"/>\n",
       "<path d=\"M 72.3018,77.588 79.9592,86.381\" style=\"fill:none;fill-rule:evenodd;stroke:#000000;stroke-width:2px;stroke-linecap:butt;stroke-linejoin:miter;stroke-opacity:1\"/>\n",
       "<path d=\"M 100.193,109.616 79.9592,86.381\" style=\"fill:none;fill-rule:evenodd;stroke:#000000;stroke-width:2px;stroke-linecap:butt;stroke-linejoin:miter;stroke-opacity:1\"/>\n",
       "<path d=\"M 100.193,109.616 130.432,103.71\" style=\"fill:none;fill-rule:evenodd;stroke:#000000;stroke-width:2px;stroke-linecap:butt;stroke-linejoin:miter;stroke-opacity:1\"/>\n",
       "<path d=\"M 79.9592,86.381 56.7246,106.615\" style=\"fill:none;fill-rule:evenodd;stroke:#000000;stroke-width:2px;stroke-linecap:butt;stroke-linejoin:miter;stroke-opacity:1\"/>\n",
       "<path d=\"M 82.0399,84.9775 81.6352,84.5128\" style=\"fill:none;fill-rule:evenodd;stroke:#000000;stroke-width:1px;stroke-linecap:butt;stroke-linejoin:miter;stroke-opacity:1\"/>\n",
       "<path d=\"M 84.1206,83.5741 83.3113,82.6447\" style=\"fill:none;fill-rule:evenodd;stroke:#000000;stroke-width:1px;stroke-linecap:butt;stroke-linejoin:miter;stroke-opacity:1\"/>\n",
       "<path d=\"M 86.2014,82.1706 84.9873,80.7766\" style=\"fill:none;fill-rule:evenodd;stroke:#000000;stroke-width:1px;stroke-linecap:butt;stroke-linejoin:miter;stroke-opacity:1\"/>\n",
       "<path d=\"M 88.2821,80.7672 86.6634,78.9084\" style=\"fill:none;fill-rule:evenodd;stroke:#000000;stroke-width:1px;stroke-linecap:butt;stroke-linejoin:miter;stroke-opacity:1\"/>\n",
       "<path d=\"M 90.3628,79.3637 88.3394,77.0403\" style=\"fill:none;fill-rule:evenodd;stroke:#000000;stroke-width:1px;stroke-linecap:butt;stroke-linejoin:miter;stroke-opacity:1\"/>\n",
       "<path d=\"M 92.4435,77.9603 90.0154,75.1721\" style=\"fill:none;fill-rule:evenodd;stroke:#000000;stroke-width:1px;stroke-linecap:butt;stroke-linejoin:miter;stroke-opacity:1\"/>\n",
       "<path d=\"M 94.5242,76.5568 91.6915,73.304\" style=\"fill:none;fill-rule:evenodd;stroke:#000000;stroke-width:1px;stroke-linecap:butt;stroke-linejoin:miter;stroke-opacity:1\"/>\n",
       "<path d=\"M 96.605,75.1534 93.3675,71.4359\" style=\"fill:none;fill-rule:evenodd;stroke:#000000;stroke-width:1px;stroke-linecap:butt;stroke-linejoin:miter;stroke-opacity:1\"/>\n",
       "<path d=\"M 98.6857,73.7499 95.0436,69.5677\" style=\"fill:none;fill-rule:evenodd;stroke:#000000;stroke-width:1px;stroke-linecap:butt;stroke-linejoin:miter;stroke-opacity:1\"/>\n",
       "<path d=\"M 100.766,72.3465 96.7196,67.6996\" style=\"fill:none;fill-rule:evenodd;stroke:#000000;stroke-width:1px;stroke-linecap:butt;stroke-linejoin:miter;stroke-opacity:1\"/>\n",
       "<path d=\"M 130.432,103.71 140.437,74.5694\" style=\"fill:none;fill-rule:evenodd;stroke:#000000;stroke-width:2px;stroke-linecap:butt;stroke-linejoin:miter;stroke-opacity:1\"/>\n",
       "<path d=\"M 137.761,101.34 144.764,80.9414\" style=\"fill:none;fill-rule:evenodd;stroke:#000000;stroke-width:2px;stroke-linecap:butt;stroke-linejoin:miter;stroke-opacity:1\"/>\n",
       "<path d=\"M 130.432,103.71 150.666,126.944\" style=\"fill:none;fill-rule:evenodd;stroke:#000000;stroke-width:2px;stroke-linecap:butt;stroke-linejoin:miter;stroke-opacity:1\"/>\n",
       "<path d=\"M 140.437,74.5694 170.675,68.6636\" style=\"fill:none;fill-rule:evenodd;stroke:#000000;stroke-width:2px;stroke-linecap:butt;stroke-linejoin:miter;stroke-opacity:1\"/>\n",
       "<path d=\"M 150.666,126.944 180.904,121.038\" style=\"fill:none;fill-rule:evenodd;stroke:#000000;stroke-width:2px;stroke-linecap:butt;stroke-linejoin:miter;stroke-opacity:1\"/>\n",
       "<path d=\"M 154.02,120.011 175.187,115.877\" style=\"fill:none;fill-rule:evenodd;stroke:#000000;stroke-width:2px;stroke-linecap:butt;stroke-linejoin:miter;stroke-opacity:1\"/>\n",
       "<path d=\"M 170.675,68.6636 190.909,91.8981\" style=\"fill:none;fill-rule:evenodd;stroke:#000000;stroke-width:2px;stroke-linecap:butt;stroke-linejoin:miter;stroke-opacity:1\"/>\n",
       "<path d=\"M 169.063,76.1955 183.227,92.4597\" style=\"fill:none;fill-rule:evenodd;stroke:#000000;stroke-width:2px;stroke-linecap:butt;stroke-linejoin:miter;stroke-opacity:1\"/>\n",
       "<path d=\"M 180.904,121.038 190.909,91.8981\" style=\"fill:none;fill-rule:evenodd;stroke:#000000;stroke-width:2px;stroke-linecap:butt;stroke-linejoin:miter;stroke-opacity:1\"/>\n",
       "<text style=\"font-size:10px;font-style:normal;font-weight:normal;fill-opacity:1;stroke:none;font-family:sans-serif;text-anchor:start;fill:#FF0000\" x=\"18.3376\" y=\"101.745\"><tspan>HO</tspan></text>\n",
       "<text style=\"font-size:10px;font-style:normal;font-weight:normal;fill-opacity:1;stroke:none;font-family:sans-serif;text-anchor:start;fill:#FF0000\" x=\"57.8345\" y=\"141.989\"><tspan>O</tspan></text>\n",
       "<text style=\"font-size:10px;font-style:normal;font-weight:normal;fill-opacity:1;stroke:none;font-family:sans-serif;text-anchor:start;fill:#0000FF\" x=\"49.1101\" y=\"68.7949\"><tspan>H</tspan><tspan style=\"baseline-shift:sub;font-size:7.5px;\">2</tspan><tspan>N</tspan></text>\n",
       "<text style=\"font-size:10px;font-style:normal;font-weight:normal;fill-opacity:1;stroke:none;font-family:sans-serif;text-anchor:start;fill:#000000\" x=\"98.743\" y=\"71.2821\"><tspan>H</tspan></text>\n",
       "<text style=\"font-size:12px;font-style:normal;font-weight:normal;fill-opacity:1;stroke:none;font-family:sans-serif;text-anchor:start;fill:#000000\" x=\"69.9712\" y=\"194\"><tspan>DB00120</tspan></text>\n",
       "</g>\n",
       "<g transform=\"translate(200,200)\"><rect height=\"200\" style=\"opacity:1.0;fill:#FFFFFF;stroke:none\" width=\"200\" x=\"0\" y=\"0\"> </rect>\n",
       "<path d=\"M 57.42,138.751 62.7946,132.232\" style=\"fill:none;fill-rule:evenodd;stroke:#CCCC00;stroke-width:2px;stroke-linecap:butt;stroke-linejoin:miter;stroke-opacity:1\"/>\n",
       "<path d=\"M 62.7946,132.232 68.1692,125.712\" style=\"fill:none;fill-rule:evenodd;stroke:#000000;stroke-width:2px;stroke-linecap:butt;stroke-linejoin:miter;stroke-opacity:1\"/>\n",
       "<path d=\"M 51.712,141.089 43.1902,137.732\" style=\"fill:none;fill-rule:evenodd;stroke:#CCCC00;stroke-width:2px;stroke-linecap:butt;stroke-linejoin:miter;stroke-opacity:1\"/>\n",
       "<path d=\"M 43.1902,137.732 34.6684,134.375\" style=\"fill:none;fill-rule:evenodd;stroke:#000000;stroke-width:2px;stroke-linecap:butt;stroke-linejoin:miter;stroke-opacity:1\"/>\n",
       "<path d=\"M 31.5841,61.8862 33.8003,70.4564\" style=\"fill:none;fill-rule:evenodd;stroke:#FF0000;stroke-width:2px;stroke-linecap:butt;stroke-linejoin:miter;stroke-opacity:1\"/>\n",
       "<path d=\"M 33.8003,70.4564 36.0166,79.0266\" style=\"fill:none;fill-rule:evenodd;stroke:#000000;stroke-width:2px;stroke-linecap:butt;stroke-linejoin:miter;stroke-opacity:1\"/>\n",
       "<path d=\"M 35.725,60.8154 37.9413,69.3856\" style=\"fill:none;fill-rule:evenodd;stroke:#FF0000;stroke-width:2px;stroke-linecap:butt;stroke-linejoin:miter;stroke-opacity:1\"/>\n",
       "<path d=\"M 37.9413,69.3856 40.1576,77.9557\" style=\"fill:none;fill-rule:evenodd;stroke:#000000;stroke-width:2px;stroke-linecap:butt;stroke-linejoin:miter;stroke-opacity:1\"/>\n",
       "<path d=\"M 171.654,106.76 164.915,104.105\" style=\"fill:none;fill-rule:evenodd;stroke:#FF0000;stroke-width:2px;stroke-linecap:butt;stroke-linejoin:miter;stroke-opacity:1\"/>\n",
       "<path d=\"M 164.915,104.105 158.175,101.45\" style=\"fill:none;fill-rule:evenodd;stroke:#000000;stroke-width:2px;stroke-linecap:butt;stroke-linejoin:miter;stroke-opacity:1\"/>\n",
       "<path d=\"M 153.432,84.1794 154.746,92.9727\" style=\"fill:none;fill-rule:evenodd;stroke:#FF0000;stroke-width:2px;stroke-linecap:butt;stroke-linejoin:miter;stroke-opacity:1\"/>\n",
       "<path d=\"M 154.746,92.9727 156.06,101.766\" style=\"fill:none;fill-rule:evenodd;stroke:#000000;stroke-width:2px;stroke-linecap:butt;stroke-linejoin:miter;stroke-opacity:1\"/>\n",
       "<path d=\"M 157.662,83.5472 158.976,92.3405\" style=\"fill:none;fill-rule:evenodd;stroke:#FF0000;stroke-width:2px;stroke-linecap:butt;stroke-linejoin:miter;stroke-opacity:1\"/>\n",
       "<path d=\"M 158.976,92.3405 160.29,101.134\" style=\"fill:none;fill-rule:evenodd;stroke:#000000;stroke-width:2px;stroke-linecap:butt;stroke-linejoin:miter;stroke-opacity:1\"/>\n",
       "<path d=\"M 57.7666,89.8936 57.2228,98.7844\" style=\"fill:none;fill-rule:evenodd;stroke:#0000FF;stroke-width:2px;stroke-linecap:butt;stroke-linejoin:miter;stroke-opacity:1\"/>\n",
       "<path d=\"M 57.2228,98.7844 56.6789,107.675\" style=\"fill:none;fill-rule:evenodd;stroke:#000000;stroke-width:2px;stroke-linecap:butt;stroke-linejoin:miter;stroke-opacity:1\"/>\n",
       "<path d=\"M 51.806,83.8954 44.9466,81.1933\" style=\"fill:none;fill-rule:evenodd;stroke:#0000FF;stroke-width:2px;stroke-linecap:butt;stroke-linejoin:miter;stroke-opacity:1\"/>\n",
       "<path d=\"M 44.9466,81.1933 38.0871,78.4912\" style=\"fill:none;fill-rule:evenodd;stroke:#000000;stroke-width:2px;stroke-linecap:butt;stroke-linejoin:miter;stroke-opacity:1\"/>\n",
       "<path d=\"M 26.7545,98.5571 31.3644,105.793\" style=\"fill:none;fill-rule:evenodd;stroke:#0000FF;stroke-width:2px;stroke-linecap:butt;stroke-linejoin:miter;stroke-opacity:1\"/>\n",
       "<path d=\"M 31.3644,105.793 35.9742,113.029\" style=\"fill:none;fill-rule:evenodd;stroke:#000000;stroke-width:2px;stroke-linecap:butt;stroke-linejoin:miter;stroke-opacity:1\"/>\n",
       "<path d=\"M 27.4221,91.4285 32.7546,84.9598\" style=\"fill:none;fill-rule:evenodd;stroke:#0000FF;stroke-width:2px;stroke-linecap:butt;stroke-linejoin:miter;stroke-opacity:1\"/>\n",
       "<path d=\"M 32.7546,84.9598 38.0871,78.4912\" style=\"fill:none;fill-rule:evenodd;stroke:#000000;stroke-width:2px;stroke-linecap:butt;stroke-linejoin:miter;stroke-opacity:1\"/>\n",
       "<path d=\"M 56.6789,107.675 35.9742,113.029\" style=\"fill:none;fill-rule:evenodd;stroke:#000000;stroke-width:2px;stroke-linecap:butt;stroke-linejoin:miter;stroke-opacity:1\"/>\n",
       "<path d=\"M 56.6789,107.675 68.1692,125.712\" style=\"fill:none;fill-rule:evenodd;stroke:#000000;stroke-width:2px;stroke-linecap:butt;stroke-linejoin:miter;stroke-opacity:1\"/>\n",
       "<path d=\"M 56.6789,107.675 74.8296,105.19 73.7587,101.049 56.6789,107.675\" style=\"fill:#000000;fill-rule:evenoddstroke:#000000;stroke-width:2px;stroke-linecap:butt;stroke-linejoin:miter;stroke-opacity:1\"/>\n",
       "<path d=\"M 35.9742,113.029 34.6684,134.375\" style=\"fill:none;fill-rule:evenodd;stroke:#000000;stroke-width:2px;stroke-linecap:butt;stroke-linejoin:miter;stroke-opacity:1\"/>\n",
       "<path d=\"M 35.9742,113.029 17.8235,115.514 18.8944,119.655 35.9742,113.029\" style=\"fill:#000000;fill-rule:evenoddstroke:#000000;stroke-width:2px;stroke-linecap:butt;stroke-linejoin:miter;stroke-opacity:1\"/>\n",
       "<path d=\"M 68.1692,125.712 84.906,112.399\" style=\"fill:none;fill-rule:evenodd;stroke:#000000;stroke-width:2px;stroke-linecap:butt;stroke-linejoin:miter;stroke-opacity:1\"/>\n",
       "<path d=\"M 68.1692,125.712 78.5438,139.321 81.5945,136.323 68.1692,125.712\" style=\"fill:#000000;fill-rule:evenoddstroke:#000000;stroke-width:2px;stroke-linecap:butt;stroke-linejoin:miter;stroke-opacity:1\"/>\n",
       "<path d=\"M 84.906,112.399 104.804,120.237\" style=\"fill:none;fill-rule:evenodd;stroke:#000000;stroke-width:2px;stroke-linecap:butt;stroke-linejoin:miter;stroke-opacity:1\"/>\n",
       "<path d=\"M 104.804,120.237 121.54,106.925\" style=\"fill:none;fill-rule:evenodd;stroke:#000000;stroke-width:2px;stroke-linecap:butt;stroke-linejoin:miter;stroke-opacity:1\"/>\n",
       "<path d=\"M 121.54,106.925 141.438,114.763\" style=\"fill:none;fill-rule:evenodd;stroke:#000000;stroke-width:2px;stroke-linecap:butt;stroke-linejoin:miter;stroke-opacity:1\"/>\n",
       "<path d=\"M 141.438,114.763 158.175,101.45\" style=\"fill:none;fill-rule:evenodd;stroke:#000000;stroke-width:2px;stroke-linecap:butt;stroke-linejoin:miter;stroke-opacity:1\"/>\n",
       "<text style=\"font-size:7px;font-style:normal;font-weight:normal;fill-opacity:1;stroke:none;font-family:sans-serif;text-anchor:start;fill:#CCCC00\" x=\"51.712\" y=\"145.778\"><tspan>S</tspan></text>\n",
       "<text style=\"font-size:7px;font-style:normal;font-weight:normal;fill-opacity:1;stroke:none;font-family:sans-serif;text-anchor:start;fill:#FF0000\" x=\"29.4038\" y=\"61.3508\"><tspan>O</tspan></text>\n",
       "<text style=\"font-size:7px;font-style:normal;font-weight:normal;fill-opacity:1;stroke:none;font-family:sans-serif;text-anchor:start;fill:#FF0000\" x=\"171.654\" y=\"112.852\"><tspan>OH</tspan></text>\n",
       "<text style=\"font-size:7px;font-style:normal;font-weight:normal;fill-opacity:1;stroke:none;font-family:sans-serif;text-anchor:start;fill:#FF0000\" x=\"151.685\" y=\"83.8633\"><tspan>O</tspan></text>\n",
       "<text style=\"font-size:7px;font-style:normal;font-weight:normal;fill-opacity:1;stroke:none;font-family:sans-serif;text-anchor:start;fill:#0000FF\" x=\"51.806\" y=\"89.8936\"><tspan>NH</tspan></text>\n",
       "<text style=\"font-size:7px;font-style:normal;font-weight:normal;fill-opacity:1;stroke:none;font-family:sans-serif;text-anchor:start;fill:#0000FF\" x=\"18.3052\" y=\"98.5571\"><tspan>NH</tspan></text>\n",
       "<text style=\"font-size:7px;font-style:normal;font-weight:normal;fill-opacity:1;stroke:none;font-family:sans-serif;text-anchor:start;fill:#000000\" x=\"74.2942\" y=\"105.885\"><tspan>H</tspan></text>\n",
       "<text style=\"font-size:7px;font-style:normal;font-weight:normal;fill-opacity:1;stroke:none;font-family:sans-serif;text-anchor:start;fill:#000000\" x=\"12.1802\" y=\"121.948\"><tspan>H</tspan></text>\n",
       "<text style=\"font-size:7px;font-style:normal;font-weight:normal;fill-opacity:1;stroke:none;font-family:sans-serif;text-anchor:start;fill:#000000\" x=\"80.0692\" y=\"144.53\"><tspan>H</tspan></text>\n",
       "<text style=\"font-size:12px;font-style:normal;font-weight:normal;fill-opacity:1;stroke:none;font-family:sans-serif;text-anchor:start;fill:#000000\" x=\"69.9712\" y=\"194\"><tspan>DB00121</tspan></text>\n",
       "</g>\n",
       "<g transform=\"translate(400,200)\"><rect height=\"200\" style=\"opacity:1.0;fill:#FFFFFF;stroke:none\" width=\"200\" x=\"0\" y=\"0\"> </rect>\n",
       "<path d=\"M 48.3456,100.447 62.0224,94.9353\" style=\"fill:none;fill-rule:evenodd;stroke:#FF0000;stroke-width:2px;stroke-linecap:butt;stroke-linejoin:miter;stroke-opacity:1\"/>\n",
       "<path d=\"M 62.0224,94.9353 75.6993,89.4237\" style=\"fill:none;fill-rule:evenodd;stroke:#000000;stroke-width:2px;stroke-linecap:butt;stroke-linejoin:miter;stroke-opacity:1\"/>\n",
       "<path d=\"M 141.625,103.565 125.828,109.93\" style=\"fill:none;fill-rule:evenodd;stroke:#0000FF;stroke-width:2px;stroke-linecap:butt;stroke-linejoin:miter;stroke-opacity:1\"/>\n",
       "<path d=\"M 125.828,109.93 110.032,116.296\" style=\"fill:none;fill-rule:evenodd;stroke:#000000;stroke-width:2px;stroke-linecap:butt;stroke-linejoin:miter;stroke-opacity:1\"/>\n",
       "<path d=\"M 153.692,107.993 160.229,124.216\" style=\"fill:none;fill-rule:evenodd;stroke:#0000FF;stroke-width:2px;stroke-linecap:butt;stroke-linejoin:miter;stroke-opacity:1\"/>\n",
       "<path d=\"M 160.229,124.216 166.767,140.439\" style=\"fill:none;fill-rule:evenodd;stroke:#000000;stroke-width:2px;stroke-linecap:butt;stroke-linejoin:miter;stroke-opacity:1\"/>\n",
       "<path d=\"M 147.249,92.0069 140.712,75.7841\" style=\"fill:none;fill-rule:evenodd;stroke:#0000FF;stroke-width:2px;stroke-linecap:butt;stroke-linejoin:miter;stroke-opacity:1\"/>\n",
       "<path d=\"M 140.712,75.7841 134.174,59.5613\" style=\"fill:none;fill-rule:evenodd;stroke:#000000;stroke-width:2px;stroke-linecap:butt;stroke-linejoin:miter;stroke-opacity:1\"/>\n",
       "<path d=\"M 159.316,96.4354 175.112,90.0695\" style=\"fill:none;fill-rule:evenodd;stroke:#0000FF;stroke-width:2px;stroke-linecap:butt;stroke-linejoin:miter;stroke-opacity:1\"/>\n",
       "<path d=\"M 175.112,90.0695 190.909,83.7036\" style=\"fill:none;fill-rule:evenodd;stroke:#000000;stroke-width:2px;stroke-linecap:butt;stroke-linejoin:miter;stroke-opacity:1\"/>\n",
       "<path d=\"M 110.032,116.296 75.6993,89.4237\" style=\"fill:none;fill-rule:evenodd;stroke:#000000;stroke-width:2px;stroke-linecap:butt;stroke-linejoin:miter;stroke-opacity:1\"/>\n",
       "<text style=\"font-size:14px;font-style:normal;font-weight:normal;fill-opacity:1;stroke:none;font-family:sans-serif;text-anchor:start;fill:#FF0000\" x=\"22.1758\" y=\"112.987\"><tspan>HO</tspan></text>\n",
       "<text style=\"font-size:14px;font-style:normal;font-weight:normal;fill-opacity:1;stroke:none;font-family:sans-serif;text-anchor:start;fill:#0000FF\" x=\"141.625\" y=\"107.993\"><tspan>N</tspan><tspan style=\"baseline-shift:super;font-size:10.5px;\">+</tspan><tspan/></text>\n",
       "<text style=\"font-size:12px;font-style:normal;font-weight:normal;fill-opacity:1;stroke:none;font-family:sans-serif;text-anchor:start;fill:#000000\" x=\"69.9712\" y=\"194\"><tspan>DB00122</tspan></text>\n",
       "</g>\n",
       "<g transform=\"translate(600,200)\"><rect height=\"200\" style=\"opacity:1.0;fill:#FFFFFF;stroke:none\" width=\"200\" x=\"0\" y=\"0\"> </rect>\n",
       "<path d=\"M 32.0507,109.39 40.9618,109.786\" style=\"fill:none;fill-rule:evenodd;stroke:#FF0000;stroke-width:2px;stroke-linecap:butt;stroke-linejoin:miter;stroke-opacity:1\"/>\n",
       "<path d=\"M 40.9618,109.786 49.8729,110.182\" style=\"fill:none;fill-rule:evenodd;stroke:#000000;stroke-width:2px;stroke-linecap:butt;stroke-linejoin:miter;stroke-opacity:1\"/>\n",
       "<path d=\"M 61.6846,127.385 56.9102,118.195\" style=\"fill:none;fill-rule:evenodd;stroke:#FF0000;stroke-width:2px;stroke-linecap:butt;stroke-linejoin:miter;stroke-opacity:1\"/>\n",
       "<path d=\"M 56.9102,118.195 52.1358,109.006\" style=\"fill:none;fill-rule:evenodd;stroke:#000000;stroke-width:2px;stroke-linecap:butt;stroke-linejoin:miter;stroke-opacity:1\"/>\n",
       "<path d=\"M 57.1589,129.736 52.3845,120.547\" style=\"fill:none;fill-rule:evenodd;stroke:#FF0000;stroke-width:2px;stroke-linecap:butt;stroke-linejoin:miter;stroke-opacity:1\"/>\n",
       "<path d=\"M 52.3845,120.547 47.61,111.358\" style=\"fill:none;fill-rule:evenodd;stroke:#000000;stroke-width:2px;stroke-linecap:butt;stroke-linejoin:miter;stroke-opacity:1\"/>\n",
       "<path d=\"M 49.4208,79.6424 56.5061,84.164\" style=\"fill:none;fill-rule:evenodd;stroke:#0000FF;stroke-width:2px;stroke-linecap:butt;stroke-linejoin:miter;stroke-opacity:1\"/>\n",
       "<path d=\"M 56.5061,84.164 63.5913,88.6857\" style=\"fill:none;fill-rule:evenodd;stroke:#000000;stroke-width:2px;stroke-linecap:butt;stroke-linejoin:miter;stroke-opacity:1\"/>\n",
       "<path d=\"M 166.012,101.652 158.926,97.1302\" style=\"fill:none;fill-rule:evenodd;stroke:#0000FF;stroke-width:2px;stroke-linecap:butt;stroke-linejoin:miter;stroke-opacity:1\"/>\n",
       "<path d=\"M 158.926,97.1302 151.841,92.6085\" style=\"fill:none;fill-rule:evenodd;stroke:#000000;stroke-width:2px;stroke-linecap:butt;stroke-linejoin:miter;stroke-opacity:1\"/>\n",
       "<path d=\"M 107.716,90.6471 85.0876,102.404\" style=\"fill:none;fill-rule:evenodd;stroke:#000000;stroke-width:2px;stroke-linecap:butt;stroke-linejoin:miter;stroke-opacity:1\"/>\n",
       "<path d=\"M 107.716,90.6471 129.212,104.366\" style=\"fill:none;fill-rule:evenodd;stroke:#000000;stroke-width:2px;stroke-linecap:butt;stroke-linejoin:miter;stroke-opacity:1\"/>\n",
       "<path d=\"M 85.0876,102.404 63.5913,88.6857\" style=\"fill:none;fill-rule:evenodd;stroke:#000000;stroke-width:2px;stroke-linecap:butt;stroke-linejoin:miter;stroke-opacity:1\"/>\n",
       "<path d=\"M 129.212,104.366 151.841,92.6085\" style=\"fill:none;fill-rule:evenodd;stroke:#000000;stroke-width:2px;stroke-linecap:butt;stroke-linejoin:miter;stroke-opacity:1\"/>\n",
       "<path d=\"M 63.5913,88.6857 49.8729,110.182\" style=\"fill:none;fill-rule:evenodd;stroke:#000000;stroke-width:2px;stroke-linecap:butt;stroke-linejoin:miter;stroke-opacity:1\"/>\n",
       "<path d=\"M 64.9069,87.0983 64.477,86.8239\" style=\"fill:none;fill-rule:evenodd;stroke:#000000;stroke-width:1px;stroke-linecap:butt;stroke-linejoin:miter;stroke-opacity:1\"/>\n",
       "<path d=\"M 66.2225,85.5108 65.3626,84.9621\" style=\"fill:none;fill-rule:evenodd;stroke:#000000;stroke-width:1px;stroke-linecap:butt;stroke-linejoin:miter;stroke-opacity:1\"/>\n",
       "<path d=\"M 67.5381,83.9234 66.2483,83.1003\" style=\"fill:none;fill-rule:evenodd;stroke:#000000;stroke-width:1px;stroke-linecap:butt;stroke-linejoin:miter;stroke-opacity:1\"/>\n",
       "<path d=\"M 68.8536,82.336 67.1339,81.2385\" style=\"fill:none;fill-rule:evenodd;stroke:#000000;stroke-width:1px;stroke-linecap:butt;stroke-linejoin:miter;stroke-opacity:1\"/>\n",
       "<path d=\"M 70.1692,80.7486 68.0196,79.3767\" style=\"fill:none;fill-rule:evenodd;stroke:#000000;stroke-width:1px;stroke-linecap:butt;stroke-linejoin:miter;stroke-opacity:1\"/>\n",
       "<path d=\"M 71.4848,79.1611 68.9052,77.5149\" style=\"fill:none;fill-rule:evenodd;stroke:#000000;stroke-width:1px;stroke-linecap:butt;stroke-linejoin:miter;stroke-opacity:1\"/>\n",
       "<path d=\"M 72.8004,77.5737 69.7909,75.6531\" style=\"fill:none;fill-rule:evenodd;stroke:#000000;stroke-width:1px;stroke-linecap:butt;stroke-linejoin:miter;stroke-opacity:1\"/>\n",
       "<path d=\"M 74.1159,75.9863 70.6765,73.7913\" style=\"fill:none;fill-rule:evenodd;stroke:#000000;stroke-width:1px;stroke-linecap:butt;stroke-linejoin:miter;stroke-opacity:1\"/>\n",
       "<path d=\"M 75.4315,74.3989 71.5622,71.9295\" style=\"fill:none;fill-rule:evenodd;stroke:#000000;stroke-width:1px;stroke-linecap:butt;stroke-linejoin:miter;stroke-opacity:1\"/>\n",
       "<path d=\"M 76.7471,72.8114 72.4478,70.0677\" style=\"fill:none;fill-rule:evenodd;stroke:#000000;stroke-width:1px;stroke-linecap:butt;stroke-linejoin:miter;stroke-opacity:1\"/>\n",
       "<text style=\"font-size:8px;font-style:normal;font-weight:normal;fill-opacity:1;stroke:none;font-family:sans-serif;text-anchor:start;fill:#FF0000\" x=\"16.7442\" y=\"113.3\"><tspan>HO</tspan></text>\n",
       "<text style=\"font-size:8px;font-style:normal;font-weight:normal;fill-opacity:1;stroke:none;font-family:sans-serif;text-anchor:start;fill:#FF0000\" x=\"57.6605\" y=\"137.061\"><tspan>O</tspan></text>\n",
       "<text style=\"font-size:8px;font-style:normal;font-weight:normal;fill-opacity:1;stroke:none;font-family:sans-serif;text-anchor:start;fill:#0000FF\" x=\"33.3092\" y=\"79.6424\"><tspan>H</tspan><tspan style=\"baseline-shift:sub;font-size:6px;\">2</tspan><tspan>N</tspan></text>\n",
       "<text style=\"font-size:8px;font-style:normal;font-weight:normal;fill-opacity:1;stroke:none;font-family:sans-serif;text-anchor:start;fill:#0000FF\" x=\"164.551\" y=\"111.002\"><tspan>NH</tspan><tspan style=\"baseline-shift:sub;font-size:6px;\">2</tspan><tspan/></text>\n",
       "<text style=\"font-size:8px;font-style:normal;font-weight:normal;fill-opacity:1;stroke:none;font-family:sans-serif;text-anchor:start;fill:#000000\" x=\"73.626\" y=\"71.4396\"><tspan>H</tspan></text>\n",
       "<text style=\"font-size:12px;font-style:normal;font-weight:normal;fill-opacity:1;stroke:none;font-family:sans-serif;text-anchor:start;fill:#000000\" x=\"69.9712\" y=\"194\"><tspan>DB00123</tspan></text>\n",
       "</g></svg>"
      ],
      "text/plain": [
       "<IPython.core.display.SVG object>"
      ]
     },
     "execution_count": 22,
     "metadata": {},
     "output_type": "execute_result"
    }
   ],
   "source": [
    "PandasTools.FrameToGridImage(cpds.head(8), legendsCol=molnames, molsPerRow=4)"
   ]
  },
  {
   "cell_type": "markdown",
   "metadata": {},
   "source": [
    "You can define different colums as legends"
   ]
  },
  {
   "cell_type": "code",
   "execution_count": 23,
   "metadata": {
    "collapsed": false
   },
   "outputs": [
    {
     "data": {
      "image/svg+xml": [
       "<svg baseProfile=\"full\" height=\"400px\" version=\"1.1\" width=\"600px\" xml:space=\"preserve\" xmlns:rdkit=\"http://www.rdkit.org/xml\" xmlns:svg=\"http://www.w3.org/2000/svg\" xmlns:xlink=\"http://www.w3.org/1999/xlink\">\n",
       "<g transform=\"translate(0,0)\"><rect height=\"200\" style=\"opacity:1.0;fill:#FFFFFF;stroke:none\" width=\"200\" x=\"0\" y=\"0\"> </rect>\n",
       "<path d=\"M 21.5376,127.934 9.09091,118.738\" style=\"fill:none;fill-rule:evenodd;stroke:#000000;stroke-width:2px;stroke-linecap:butt;stroke-linejoin:miter;stroke-opacity:1\"/>\n",
       "<path d=\"M 21.5098,124.065 12.7972,117.628\" style=\"fill:none;fill-rule:evenodd;stroke:#000000;stroke-width:2px;stroke-linecap:butt;stroke-linejoin:miter;stroke-opacity:1\"/>\n",
       "<path d=\"M 21.5376,127.934 35.7251,121.753\" style=\"fill:none;fill-rule:evenodd;stroke:#000000;stroke-width:2px;stroke-linecap:butt;stroke-linejoin:miter;stroke-opacity:1\"/>\n",
       "<path d=\"M 9.09091,118.738 10.8317,103.361\" style=\"fill:none;fill-rule:evenodd;stroke:#000000;stroke-width:2px;stroke-linecap:butt;stroke-linejoin:miter;stroke-opacity:1\"/>\n",
       "<path d=\"M 10.8317,103.361 25.0192,97.1796\" style=\"fill:none;fill-rule:evenodd;stroke:#000000;stroke-width:2px;stroke-linecap:butt;stroke-linejoin:miter;stroke-opacity:1\"/>\n",
       "<path d=\"M 14.196,105.271 24.1273,100.944\" style=\"fill:none;fill-rule:evenodd;stroke:#000000;stroke-width:2px;stroke-linecap:butt;stroke-linejoin:miter;stroke-opacity:1\"/>\n",
       "<path d=\"M 25.0192,97.1796 37.4659,106.376\" style=\"fill:none;fill-rule:evenodd;stroke:#000000;stroke-width:2px;stroke-linecap:butt;stroke-linejoin:miter;stroke-opacity:1\"/>\n",
       "<path d=\"M 25.0192,97.1796 26.76,81.8023\" style=\"fill:none;fill-rule:evenodd;stroke:#000000;stroke-width:2px;stroke-linecap:butt;stroke-linejoin:miter;stroke-opacity:1\"/>\n",
       "<path d=\"M 37.4659,106.376 35.7251,121.753\" style=\"fill:none;fill-rule:evenodd;stroke:#000000;stroke-width:2px;stroke-linecap:butt;stroke-linejoin:miter;stroke-opacity:1\"/>\n",
       "<path d=\"M 34.1293,108.334 32.9108,119.098\" style=\"fill:none;fill-rule:evenodd;stroke:#000000;stroke-width:2px;stroke-linecap:butt;stroke-linejoin:miter;stroke-opacity:1\"/>\n",
       "<path d=\"M 37.4659,106.376 43.4419,103.772\" style=\"fill:none;fill-rule:evenodd;stroke:#000000;stroke-width:2px;stroke-linecap:butt;stroke-linejoin:miter;stroke-opacity:1\"/>\n",
       "<path d=\"M 43.4419,103.772 49.4178,101.169\" style=\"fill:none;fill-rule:evenodd;stroke:#0000FF;stroke-width:2px;stroke-linecap:butt;stroke-linejoin:miter;stroke-opacity:1\"/>\n",
       "<path d=\"M 26.76,81.8023 32.736,79.1988\" style=\"fill:none;fill-rule:evenodd;stroke:#000000;stroke-width:2px;stroke-linecap:butt;stroke-linejoin:miter;stroke-opacity:1\"/>\n",
       "<path d=\"M 32.736,79.1988 38.7119,76.5952\" style=\"fill:none;fill-rule:evenodd;stroke:#0000FF;stroke-width:2px;stroke-linecap:butt;stroke-linejoin:miter;stroke-opacity:1\"/>\n",
       "<path d=\"M 29.789,83.8587 33.9722,82.0363\" style=\"fill:none;fill-rule:evenodd;stroke:#000000;stroke-width:2px;stroke-linecap:butt;stroke-linejoin:miter;stroke-opacity:1\"/>\n",
       "<path d=\"M 33.9722,82.0363 38.1554,80.2138\" style=\"fill:none;fill-rule:evenodd;stroke:#0000FF;stroke-width:2px;stroke-linecap:butt;stroke-linejoin:miter;stroke-opacity:1\"/>\n",
       "<path d=\"M 26.76,81.8023 14.3133,72.6061\" style=\"fill:none;fill-rule:evenodd;stroke:#000000;stroke-width:2px;stroke-linecap:butt;stroke-linejoin:miter;stroke-opacity:1\"/>\n",
       "<path d=\"M 43.183,77.273 48.2886,81.0452\" style=\"fill:none;fill-rule:evenodd;stroke:#0000FF;stroke-width:2px;stroke-linecap:butt;stroke-linejoin:miter;stroke-opacity:1\"/>\n",
       "<path d=\"M 48.2886,81.0452 53.3942,84.8175\" style=\"fill:none;fill-rule:evenodd;stroke:#000000;stroke-width:2px;stroke-linecap:butt;stroke-linejoin:miter;stroke-opacity:1\"/>\n",
       "<path d=\"M 53.3942,84.8175 52.6698,91.2165\" style=\"fill:none;fill-rule:evenodd;stroke:#000000;stroke-width:2px;stroke-linecap:butt;stroke-linejoin:miter;stroke-opacity:1\"/>\n",
       "<path d=\"M 52.6698,91.2165 51.9454,97.6155\" style=\"fill:none;fill-rule:evenodd;stroke:#0000FF;stroke-width:2px;stroke-linecap:butt;stroke-linejoin:miter;stroke-opacity:1\"/>\n",
       "<path d=\"M 50.1014,86.389 49.5943,90.8683\" style=\"fill:none;fill-rule:evenodd;stroke:#000000;stroke-width:2px;stroke-linecap:butt;stroke-linejoin:miter;stroke-opacity:1\"/>\n",
       "<path d=\"M 49.5943,90.8683 49.0872,95.3476\" style=\"fill:none;fill-rule:evenodd;stroke:#0000FF;stroke-width:2px;stroke-linecap:butt;stroke-linejoin:miter;stroke-opacity:1\"/>\n",
       "<path d=\"M 53.3942,84.8175 67.5817,78.6364\" style=\"fill:none;fill-rule:evenodd;stroke:#000000;stroke-width:2px;stroke-linecap:butt;stroke-linejoin:miter;stroke-opacity:1\"/>\n",
       "<path d=\"M 67.5817,78.6364 72.6872,82.4087\" style=\"fill:none;fill-rule:evenodd;stroke:#000000;stroke-width:2px;stroke-linecap:butt;stroke-linejoin:miter;stroke-opacity:1\"/>\n",
       "<path d=\"M 72.6872,82.4087 77.7928,86.1809\" style=\"fill:none;fill-rule:evenodd;stroke:#0000FF;stroke-width:2px;stroke-linecap:butt;stroke-linejoin:miter;stroke-opacity:1\"/>\n",
       "<path d=\"M 79.7364,90.4119 79.012,96.8109\" style=\"fill:none;fill-rule:evenodd;stroke:#0000FF;stroke-width:2px;stroke-linecap:butt;stroke-linejoin:miter;stroke-opacity:1\"/>\n",
       "<path d=\"M 79.012,96.8109 78.2876,103.21\" style=\"fill:none;fill-rule:evenodd;stroke:#000000;stroke-width:2px;stroke-linecap:butt;stroke-linejoin:miter;stroke-opacity:1\"/>\n",
       "<path d=\"M 82.2639,86.8587 88.2399,84.2551\" style=\"fill:none;fill-rule:evenodd;stroke:#0000FF;stroke-width:2px;stroke-linecap:butt;stroke-linejoin:miter;stroke-opacity:1\"/>\n",
       "<path d=\"M 88.2399,84.2551 94.2158,81.6516\" style=\"fill:none;fill-rule:evenodd;stroke:#000000;stroke-width:2px;stroke-linecap:butt;stroke-linejoin:miter;stroke-opacity:1\"/>\n",
       "<path d=\"M 78.2876,103.21 83.3931,106.982\" style=\"fill:none;fill-rule:evenodd;stroke:#000000;stroke-width:2px;stroke-linecap:butt;stroke-linejoin:miter;stroke-opacity:1\"/>\n",
       "<path d=\"M 83.3931,106.982 88.4987,110.754\" style=\"fill:none;fill-rule:evenodd;stroke:#0000FF;stroke-width:2px;stroke-linecap:butt;stroke-linejoin:miter;stroke-opacity:1\"/>\n",
       "<path d=\"M 77.6694,101.791 71.7802,104.357\" style=\"fill:none;fill-rule:evenodd;stroke:#000000;stroke-width:2px;stroke-linecap:butt;stroke-linejoin:miter;stroke-opacity:1\"/>\n",
       "<path d=\"M 71.7802,104.357 65.8909,106.923\" style=\"fill:none;fill-rule:evenodd;stroke:#FF0000;stroke-width:2px;stroke-linecap:butt;stroke-linejoin:miter;stroke-opacity:1\"/>\n",
       "<path d=\"M 78.9057,104.629 73.0164,107.194\" style=\"fill:none;fill-rule:evenodd;stroke:#000000;stroke-width:2px;stroke-linecap:butt;stroke-linejoin:miter;stroke-opacity:1\"/>\n",
       "<path d=\"M 73.0164,107.194 67.1271,109.76\" style=\"fill:none;fill-rule:evenodd;stroke:#FF0000;stroke-width:2px;stroke-linecap:butt;stroke-linejoin:miter;stroke-opacity:1\"/>\n",
       "<path d=\"M 92.9698,111.432 98.9458,108.829\" style=\"fill:none;fill-rule:evenodd;stroke:#0000FF;stroke-width:2px;stroke-linecap:butt;stroke-linejoin:miter;stroke-opacity:1\"/>\n",
       "<path d=\"M 98.9458,108.829 104.922,106.225\" style=\"fill:none;fill-rule:evenodd;stroke:#000000;stroke-width:2px;stroke-linecap:butt;stroke-linejoin:miter;stroke-opacity:1\"/>\n",
       "<path d=\"M 90.4423,114.985 89.7178,121.384\" style=\"fill:none;fill-rule:evenodd;stroke:#0000FF;stroke-width:2px;stroke-linecap:butt;stroke-linejoin:miter;stroke-opacity:1\"/>\n",
       "<path d=\"M 89.7178,121.384 88.9934,127.783\" style=\"fill:none;fill-rule:evenodd;stroke:#000000;stroke-width:2px;stroke-linecap:butt;stroke-linejoin:miter;stroke-opacity:1\"/>\n",
       "<path d=\"M 104.922,106.225 106.663,90.8478\" style=\"fill:none;fill-rule:evenodd;stroke:#000000;stroke-width:2px;stroke-linecap:butt;stroke-linejoin:miter;stroke-opacity:1\"/>\n",
       "<path d=\"M 102.107,103.57 103.326,92.8062\" style=\"fill:none;fill-rule:evenodd;stroke:#000000;stroke-width:2px;stroke-linecap:butt;stroke-linejoin:miter;stroke-opacity:1\"/>\n",
       "<path d=\"M 104.922,106.225 110.847,108.92\" style=\"fill:none;fill-rule:evenodd;stroke:#000000;stroke-width:2px;stroke-linecap:butt;stroke-linejoin:miter;stroke-opacity:1\"/>\n",
       "<path d=\"M 110.847,108.92 116.773,111.616\" style=\"fill:none;fill-rule:evenodd;stroke:#0000FF;stroke-width:2px;stroke-linecap:butt;stroke-linejoin:miter;stroke-opacity:1\"/>\n",
       "<path d=\"M 106.663,90.8478 94.2158,81.6516\" style=\"fill:none;fill-rule:evenodd;stroke:#000000;stroke-width:2px;stroke-linecap:butt;stroke-linejoin:miter;stroke-opacity:1\"/>\n",
       "<path d=\"M 106.663,90.8478 113.126,89.5279\" style=\"fill:none;fill-rule:evenodd;stroke:#000000;stroke-width:2px;stroke-linecap:butt;stroke-linejoin:miter;stroke-opacity:1\"/>\n",
       "<path d=\"M 113.126,89.5279 119.59,88.2081\" style=\"fill:none;fill-rule:evenodd;stroke:#0000FF;stroke-width:2px;stroke-linecap:butt;stroke-linejoin:miter;stroke-opacity:1\"/>\n",
       "<path d=\"M 95.7536,81.8257 96.478,75.4267\" style=\"fill:none;fill-rule:evenodd;stroke:#000000;stroke-width:2px;stroke-linecap:butt;stroke-linejoin:miter;stroke-opacity:1\"/>\n",
       "<path d=\"M 96.478,75.4267 97.2024,69.0277\" style=\"fill:none;fill-rule:evenodd;stroke:#FF0000;stroke-width:2px;stroke-linecap:butt;stroke-linejoin:miter;stroke-opacity:1\"/>\n",
       "<path d=\"M 92.6781,81.4775 93.4025,75.0785\" style=\"fill:none;fill-rule:evenodd;stroke:#000000;stroke-width:2px;stroke-linecap:butt;stroke-linejoin:miter;stroke-opacity:1\"/>\n",
       "<path d=\"M 93.4025,75.0785 94.1269,68.6795\" style=\"fill:none;fill-rule:evenodd;stroke:#FF0000;stroke-width:2px;stroke-linecap:butt;stroke-linejoin:miter;stroke-opacity:1\"/>\n",
       "<path d=\"M 121.244,110.189 125.35,105.702\" style=\"fill:none;fill-rule:evenodd;stroke:#0000FF;stroke-width:2px;stroke-linecap:butt;stroke-linejoin:miter;stroke-opacity:1\"/>\n",
       "<path d=\"M 125.35,105.702 129.455,101.215\" style=\"fill:none;fill-rule:evenodd;stroke:#000000;stroke-width:2px;stroke-linecap:butt;stroke-linejoin:miter;stroke-opacity:1\"/>\n",
       "<path d=\"M 120.192,106.754 123.066,103.613\" style=\"fill:none;fill-rule:evenodd;stroke:#0000FF;stroke-width:2px;stroke-linecap:butt;stroke-linejoin:miter;stroke-opacity:1\"/>\n",
       "<path d=\"M 123.066,103.613 125.94,100.472\" style=\"fill:none;fill-rule:evenodd;stroke:#000000;stroke-width:2px;stroke-linecap:butt;stroke-linejoin:miter;stroke-opacity:1\"/>\n",
       "<path d=\"M 129.455,101.215 126.371,95.773\" style=\"fill:none;fill-rule:evenodd;stroke:#000000;stroke-width:2px;stroke-linecap:butt;stroke-linejoin:miter;stroke-opacity:1\"/>\n",
       "<path d=\"M 126.371,95.773 123.287,90.3308\" style=\"fill:none;fill-rule:evenodd;stroke:#0000FF;stroke-width:2px;stroke-linecap:butt;stroke-linejoin:miter;stroke-opacity:1\"/>\n",
       "<path d=\"M 129.455,101.215 136.026,101.959\" style=\"fill:none;fill-rule:evenodd;stroke:#000000;stroke-width:2px;stroke-linecap:butt;stroke-linejoin:miter;stroke-opacity:1\"/>\n",
       "<path d=\"M 136.026,101.959 142.597,102.703\" style=\"fill:none;fill-rule:evenodd;stroke:#0000FF;stroke-width:2px;stroke-linecap:butt;stroke-linejoin:miter;stroke-opacity:1\"/>\n",
       "<path d=\"M 122.998,85.1723 125.615,79.4186\" style=\"fill:none;fill-rule:evenodd;stroke:#0000FF;stroke-width:2px;stroke-linecap:butt;stroke-linejoin:miter;stroke-opacity:1\"/>\n",
       "<path d=\"M 125.615,79.4186 128.233,73.6649\" style=\"fill:none;fill-rule:evenodd;stroke:#000000;stroke-width:2px;stroke-linecap:butt;stroke-linejoin:miter;stroke-opacity:1\"/>\n",
       "<path d=\"M 145.956,105.535 148.485,111.339\" style=\"fill:none;fill-rule:evenodd;stroke:#0000FF;stroke-width:2px;stroke-linecap:butt;stroke-linejoin:miter;stroke-opacity:1\"/>\n",
       "<path d=\"M 148.485,111.339 151.014,117.144\" style=\"fill:none;fill-rule:evenodd;stroke:#000000;stroke-width:2px;stroke-linecap:butt;stroke-linejoin:miter;stroke-opacity:1\"/>\n",
       "<path d=\"M 146.738,100.377 150.383,95.4431\" style=\"fill:none;fill-rule:evenodd;stroke:#0000FF;stroke-width:2px;stroke-linecap:butt;stroke-linejoin:miter;stroke-opacity:1\"/>\n",
       "<path d=\"M 150.383,95.4431 154.029,90.5093\" style=\"fill:none;fill-rule:evenodd;stroke:#000000;stroke-width:2px;stroke-linecap:butt;stroke-linejoin:miter;stroke-opacity:1\"/>\n",
       "<path d=\"M 151.014,117.144 166.391,118.884\" style=\"fill:none;fill-rule:evenodd;stroke:#000000;stroke-width:2px;stroke-linecap:butt;stroke-linejoin:miter;stroke-opacity:1\"/>\n",
       "<path d=\"M 166.391,118.884 175.587,106.438\" style=\"fill:none;fill-rule:evenodd;stroke:#000000;stroke-width:2px;stroke-linecap:butt;stroke-linejoin:miter;stroke-opacity:1\"/>\n",
       "<path d=\"M 166.391,118.884 170.652,121.005\" style=\"fill:none;fill-rule:evenodd;stroke:#000000;stroke-width:2px;stroke-linecap:butt;stroke-linejoin:miter;stroke-opacity:1\"/>\n",
       "<path d=\"M 170.652,121.005 174.913,123.126\" style=\"fill:none;fill-rule:evenodd;stroke:#0000FF;stroke-width:2px;stroke-linecap:butt;stroke-linejoin:miter;stroke-opacity:1\"/>\n",
       "<path d=\"M 165.88,120.067 166.177,120.154\" style=\"fill:none;fill-rule:evenodd;stroke:#000000;stroke-width:1px;stroke-linecap:butt;stroke-linejoin:miter;stroke-opacity:1\"/>\n",
       "<path d=\"M 165.369,121.249 165.963,121.424\" style=\"fill:none;fill-rule:evenodd;stroke:#000000;stroke-width:1px;stroke-linecap:butt;stroke-linejoin:miter;stroke-opacity:1\"/>\n",
       "<path d=\"M 164.859,122.431 165.749,122.694\" style=\"fill:none;fill-rule:evenodd;stroke:#000000;stroke-width:1px;stroke-linecap:butt;stroke-linejoin:miter;stroke-opacity:1\"/>\n",
       "<path d=\"M 164.348,123.614 165.535,123.965\" style=\"fill:none;fill-rule:evenodd;stroke:#000000;stroke-width:1px;stroke-linecap:butt;stroke-linejoin:miter;stroke-opacity:1\"/>\n",
       "<path d=\"M 163.837,124.796 165.322,125.235\" style=\"fill:none;fill-rule:evenodd;stroke:#000000;stroke-width:1px;stroke-linecap:butt;stroke-linejoin:miter;stroke-opacity:1\"/>\n",
       "<path d=\"M 163.327,125.979 165.108,126.505\" style=\"fill:none;fill-rule:evenodd;stroke:#000000;stroke-width:1px;stroke-linecap:butt;stroke-linejoin:miter;stroke-opacity:1\"/>\n",
       "<path d=\"M 162.816,127.161 164.894,127.775\" style=\"fill:none;fill-rule:evenodd;stroke:#000000;stroke-width:1px;stroke-linecap:butt;stroke-linejoin:miter;stroke-opacity:1\"/>\n",
       "<path d=\"M 162.305,128.343 164.68,129.045\" style=\"fill:none;fill-rule:evenodd;stroke:#000000;stroke-width:1px;stroke-linecap:butt;stroke-linejoin:miter;stroke-opacity:1\"/>\n",
       "<path d=\"M 161.795,129.526 164.466,130.315\" style=\"fill:none;fill-rule:evenodd;stroke:#000000;stroke-width:1px;stroke-linecap:butt;stroke-linejoin:miter;stroke-opacity:1\"/>\n",
       "<path d=\"M 161.284,130.708 164.252,131.585\" style=\"fill:none;fill-rule:evenodd;stroke:#000000;stroke-width:1px;stroke-linecap:butt;stroke-linejoin:miter;stroke-opacity:1\"/>\n",
       "<path d=\"M 175.587,106.438 169.406,92.2501\" style=\"fill:none;fill-rule:evenodd;stroke:#000000;stroke-width:2px;stroke-linecap:butt;stroke-linejoin:miter;stroke-opacity:1\"/>\n",
       "<path d=\"M 169.406,92.2501 154.029,90.5093\" style=\"fill:none;fill-rule:evenodd;stroke:#000000;stroke-width:2px;stroke-linecap:butt;stroke-linejoin:miter;stroke-opacity:1\"/>\n",
       "<path d=\"M 128.233,73.6649 143.636,72.1705\" style=\"fill:none;fill-rule:evenodd;stroke:#000000;stroke-width:2px;stroke-linecap:butt;stroke-linejoin:miter;stroke-opacity:1\"/>\n",
       "<path d=\"M 143.636,72.1705 159.039,70.6762\" style=\"fill:none;fill-rule:evenodd;stroke:#000000;stroke-width:2px;stroke-linecap:butt;stroke-linejoin:miter;stroke-opacity:1\"/>\n",
       "<path d=\"M 146.245,75.027 157.027,73.9809\" style=\"fill:none;fill-rule:evenodd;stroke:#000000;stroke-width:2px;stroke-linecap:butt;stroke-linejoin:miter;stroke-opacity:1\"/>\n",
       "<path d=\"M 145.647,68.8657 156.429,67.8197\" style=\"fill:none;fill-rule:evenodd;stroke:#000000;stroke-width:2px;stroke-linecap:butt;stroke-linejoin:miter;stroke-opacity:1\"/>\n",
       "<path d=\"M 159.039,70.6762 174.442,69.1818\" style=\"fill:none;fill-rule:evenodd;stroke:#000000;stroke-width:2px;stroke-linecap:butt;stroke-linejoin:miter;stroke-opacity:1\"/>\n",
       "<text style=\"font-size:5px;font-style:normal;font-weight:normal;fill-opacity:1;stroke:none;font-family:sans-serif;text-anchor:start;fill:#0000FF\" x=\"38.7119\" y=\"78.2005\"><tspan>N</tspan></text>\n",
       "<text style=\"font-size:5px;font-style:normal;font-weight:normal;fill-opacity:1;stroke:none;font-family:sans-serif;text-anchor:start;fill:#0000FF\" x=\"49.4178\" y=\"102.774\"><tspan>N</tspan></text>\n",
       "<text style=\"font-size:5px;font-style:normal;font-weight:normal;fill-opacity:1;stroke:none;font-family:sans-serif;text-anchor:start;fill:#0000FF\" x=\"77.7928\" y=\"90.4119\"><tspan>N</tspan></text>\n",
       "<text style=\"font-size:5px;font-style:normal;font-weight:normal;fill-opacity:1;stroke:none;font-family:sans-serif;text-anchor:start;fill:#0000FF\" x=\"88.4987\" y=\"114.985\"><tspan>N</tspan></text>\n",
       "<text style=\"font-size:5px;font-style:normal;font-weight:normal;fill-opacity:1;stroke:none;font-family:sans-serif;text-anchor:start;fill:#FF0000\" x=\"93.5477\" y=\"68.8536\"><tspan>O</tspan></text>\n",
       "<text style=\"font-size:5px;font-style:normal;font-weight:normal;fill-opacity:1;stroke:none;font-family:sans-serif;text-anchor:start;fill:#FF0000\" x=\"61.6911\" y=\"111.97\"><tspan>O</tspan></text>\n",
       "<text style=\"font-size:5px;font-style:normal;font-weight:normal;fill-opacity:1;stroke:none;font-family:sans-serif;text-anchor:start;fill:#0000FF\" x=\"116.773\" y=\"115.212\"><tspan>N</tspan></text>\n",
       "<text style=\"font-size:5px;font-style:normal;font-weight:normal;fill-opacity:1;stroke:none;font-family:sans-serif;text-anchor:start;fill:#0000FF\" x=\"119.59\" y=\"90.3308\"><tspan>N</tspan></text>\n",
       "<text style=\"font-size:5px;font-style:normal;font-weight:normal;fill-opacity:1;stroke:none;font-family:sans-serif;text-anchor:start;fill:#0000FF\" x=\"142.597\" y=\"105.535\"><tspan>N</tspan></text>\n",
       "<text style=\"font-size:5px;font-style:normal;font-weight:normal;fill-opacity:1;stroke:none;font-family:sans-serif;text-anchor:start;fill:#0000FF\" x=\"174.913\" y=\"128.617\"><tspan>NH</tspan><tspan style=\"baseline-shift:sub;font-size:3.75px;\">2</tspan><tspan/></text>\n",
       "<text style=\"font-size:5px;font-style:normal;font-weight:normal;fill-opacity:1;stroke:none;font-family:sans-serif;text-anchor:start;fill:#000000\" x=\"159.771\" y=\"136.305\"><tspan>H</tspan></text>\n",
       "<text style=\"font-size:12px;font-style:normal;font-weight:normal;fill-opacity:1;stroke:none;font-family:sans-serif;text-anchor:start;fill:#000000\" x=\"73.9688\" y=\"194\"><tspan>472.553</tspan></text>\n",
       "</g>\n",
       "<g transform=\"translate(200,0)\"><rect height=\"200\" style=\"opacity:1.0;fill:#FFFFFF;stroke:none\" width=\"200\" x=\"0\" y=\"0\"> </rect>\n",
       "<path d=\"M 17.5504,115.8 9.09091,103.135\" style=\"fill:none;fill-rule:evenodd;stroke:#000000;stroke-width:2px;stroke-linecap:butt;stroke-linejoin:miter;stroke-opacity:1\"/>\n",
       "<path d=\"M 18.8144,112.208 12.8928,103.343\" style=\"fill:none;fill-rule:evenodd;stroke:#000000;stroke-width:2px;stroke-linecap:butt;stroke-linejoin:miter;stroke-opacity:1\"/>\n",
       "<path d=\"M 17.5504,115.8 32.748,114.806\" style=\"fill:none;fill-rule:evenodd;stroke:#000000;stroke-width:2px;stroke-linecap:butt;stroke-linejoin:miter;stroke-opacity:1\"/>\n",
       "<path d=\"M 9.09091,103.135 15.829,89.4767\" style=\"fill:none;fill-rule:evenodd;stroke:#000000;stroke-width:2px;stroke-linecap:butt;stroke-linejoin:miter;stroke-opacity:1\"/>\n",
       "<path d=\"M 15.829,89.4767 31.0266,88.4828\" style=\"fill:none;fill-rule:evenodd;stroke:#000000;stroke-width:2px;stroke-linecap:butt;stroke-linejoin:miter;stroke-opacity:1\"/>\n",
       "<path d=\"M 18.3074,92.3671 28.9457,91.6714\" style=\"fill:none;fill-rule:evenodd;stroke:#000000;stroke-width:2px;stroke-linecap:butt;stroke-linejoin:miter;stroke-opacity:1\"/>\n",
       "<path d=\"M 31.0266,88.4828 39.4861,101.147\" style=\"fill:none;fill-rule:evenodd;stroke:#000000;stroke-width:2px;stroke-linecap:butt;stroke-linejoin:miter;stroke-opacity:1\"/>\n",
       "<path d=\"M 39.4861,101.147 32.748,114.806\" style=\"fill:none;fill-rule:evenodd;stroke:#000000;stroke-width:2px;stroke-linecap:butt;stroke-linejoin:miter;stroke-opacity:1\"/>\n",
       "<path d=\"M 35.7437,101.848 31.0271,111.409\" style=\"fill:none;fill-rule:evenodd;stroke:#000000;stroke-width:2px;stroke-linecap:butt;stroke-linejoin:miter;stroke-opacity:1\"/>\n",
       "<path d=\"M 39.4861,101.147 54.6837,100.153\" style=\"fill:none;fill-rule:evenodd;stroke:#000000;stroke-width:2px;stroke-linecap:butt;stroke-linejoin:miter;stroke-opacity:1\"/>\n",
       "<path d=\"M 54.6837,100.153 69.8813,99.1596\" style=\"fill:none;fill-rule:evenodd;stroke:#000000;stroke-width:2px;stroke-linecap:butt;stroke-linejoin:miter;stroke-opacity:1\"/>\n",
       "<path d=\"M 54.6837,100.153 55.0976,106.483\" style=\"fill:none;fill-rule:evenodd;stroke:#000000;stroke-width:2px;stroke-linecap:butt;stroke-linejoin:miter;stroke-opacity:1\"/>\n",
       "<path d=\"M 55.0976,106.483 55.5116,112.813\" style=\"fill:none;fill-rule:evenodd;stroke:#FF0000;stroke-width:2px;stroke-linecap:butt;stroke-linejoin:miter;stroke-opacity:1\"/>\n",
       "<path d=\"M 54.6837,100.153 55.3756,87.3948 52.336,87.5936 54.6837,100.153\" style=\"fill:#000000;fill-rule:evenoddstroke:#000000;stroke-width:2px;stroke-linecap:butt;stroke-linejoin:miter;stroke-opacity:1\"/>\n",
       "<path d=\"M 69.8813,99.1596 72.6242,93.5995\" style=\"fill:none;fill-rule:evenodd;stroke:#000000;stroke-width:2px;stroke-linecap:butt;stroke-linejoin:miter;stroke-opacity:1\"/>\n",
       "<path d=\"M 72.6242,93.5995 75.3671,88.0394\" style=\"fill:none;fill-rule:evenodd;stroke:#0000FF;stroke-width:2px;stroke-linecap:butt;stroke-linejoin:miter;stroke-opacity:1\"/>\n",
       "<path d=\"M 81.0196,85.2133 86.4183,84.8603\" style=\"fill:none;fill-rule:evenodd;stroke:#0000FF;stroke-width:2px;stroke-linecap:butt;stroke-linejoin:miter;stroke-opacity:1\"/>\n",
       "<path d=\"M 86.4183,84.8603 91.817,84.5072\" style=\"fill:none;fill-rule:evenodd;stroke:#000000;stroke-width:2px;stroke-linecap:butt;stroke-linejoin:miter;stroke-opacity:1\"/>\n",
       "<path d=\"M 91.817,84.5072 98.555,70.8488\" style=\"fill:none;fill-rule:evenodd;stroke:#000000;stroke-width:2px;stroke-linecap:butt;stroke-linejoin:miter;stroke-opacity:1\"/>\n",
       "<path d=\"M 98.555,70.8488 113.753,69.8549\" style=\"fill:none;fill-rule:evenodd;stroke:#000000;stroke-width:2px;stroke-linecap:butt;stroke-linejoin:miter;stroke-opacity:1\"/>\n",
       "<path d=\"M 113.753,69.8549 122.212,82.5194\" style=\"fill:none;fill-rule:evenodd;stroke:#000000;stroke-width:2px;stroke-linecap:butt;stroke-linejoin:miter;stroke-opacity:1\"/>\n",
       "<path d=\"M 117.554,70.0626 123.476,78.9278\" style=\"fill:none;fill-rule:evenodd;stroke:#000000;stroke-width:2px;stroke-linecap:butt;stroke-linejoin:miter;stroke-opacity:1\"/>\n",
       "<path d=\"M 113.753,69.8549 120.491,56.1964\" style=\"fill:none;fill-rule:evenodd;stroke:#000000;stroke-width:2px;stroke-linecap:butt;stroke-linejoin:miter;stroke-opacity:1\"/>\n",
       "<path d=\"M 122.212,82.5194 137.41,81.5255\" style=\"fill:none;fill-rule:evenodd;stroke:#000000;stroke-width:2px;stroke-linecap:butt;stroke-linejoin:miter;stroke-opacity:1\"/>\n",
       "<path d=\"M 137.41,81.5255 144.148,67.8671\" style=\"fill:none;fill-rule:evenodd;stroke:#000000;stroke-width:2px;stroke-linecap:butt;stroke-linejoin:miter;stroke-opacity:1\"/>\n",
       "<path d=\"M 135.689,78.1291 140.405,68.5682\" style=\"fill:none;fill-rule:evenodd;stroke:#000000;stroke-width:2px;stroke-linecap:butt;stroke-linejoin:miter;stroke-opacity:1\"/>\n",
       "<path d=\"M 144.148,67.8671 135.688,55.2025\" style=\"fill:none;fill-rule:evenodd;stroke:#000000;stroke-width:2px;stroke-linecap:butt;stroke-linejoin:miter;stroke-opacity:1\"/>\n",
       "<path d=\"M 144.148,67.8671 149.547,67.514\" style=\"fill:none;fill-rule:evenodd;stroke:#000000;stroke-width:2px;stroke-linecap:butt;stroke-linejoin:miter;stroke-opacity:1\"/>\n",
       "<path d=\"M 149.547,67.514 154.945,67.1609\" style=\"fill:none;fill-rule:evenodd;stroke:#0000FF;stroke-width:2px;stroke-linecap:butt;stroke-linejoin:miter;stroke-opacity:1\"/>\n",
       "<path d=\"M 135.688,55.2025 120.491,56.1964\" style=\"fill:none;fill-rule:evenodd;stroke:#000000;stroke-width:2px;stroke-linecap:butt;stroke-linejoin:miter;stroke-opacity:1\"/>\n",
       "<path d=\"M 133.607,58.3911 122.969,59.0868\" style=\"fill:none;fill-rule:evenodd;stroke:#000000;stroke-width:2px;stroke-linecap:butt;stroke-linejoin:miter;stroke-opacity:1\"/>\n",
       "<path d=\"M 161.041,69.4115 164.423,74.4746\" style=\"fill:none;fill-rule:evenodd;stroke:#0000FF;stroke-width:2px;stroke-linecap:butt;stroke-linejoin:miter;stroke-opacity:1\"/>\n",
       "<path d=\"M 164.423,74.4746 167.805,79.5377\" style=\"fill:none;fill-rule:evenodd;stroke:#000000;stroke-width:2px;stroke-linecap:butt;stroke-linejoin:miter;stroke-opacity:1\"/>\n",
       "<path d=\"M 167.904,81.0575 174.318,80.6381\" style=\"fill:none;fill-rule:evenodd;stroke:#000000;stroke-width:2px;stroke-linecap:butt;stroke-linejoin:miter;stroke-opacity:1\"/>\n",
       "<path d=\"M 174.318,80.6381 180.731,80.2186\" style=\"fill:none;fill-rule:evenodd;stroke:#FF0000;stroke-width:2px;stroke-linecap:butt;stroke-linejoin:miter;stroke-opacity:1\"/>\n",
       "<path d=\"M 167.706,78.018 174.119,77.5985\" style=\"fill:none;fill-rule:evenodd;stroke:#000000;stroke-width:2px;stroke-linecap:butt;stroke-linejoin:miter;stroke-opacity:1\"/>\n",
       "<path d=\"M 174.119,77.5985 180.532,77.1791\" style=\"fill:none;fill-rule:evenodd;stroke:#FF0000;stroke-width:2px;stroke-linecap:butt;stroke-linejoin:miter;stroke-opacity:1\"/>\n",
       "<path d=\"M 167.805,79.5377 161.067,93.1962\" style=\"fill:none;fill-rule:evenodd;stroke:#000000;stroke-width:2px;stroke-linecap:butt;stroke-linejoin:miter;stroke-opacity:1\"/>\n",
       "<path d=\"M 161.067,93.1962 169.526,105.861\" style=\"fill:none;fill-rule:evenodd;stroke:#000000;stroke-width:2px;stroke-linecap:butt;stroke-linejoin:miter;stroke-opacity:1\"/>\n",
       "<path d=\"M 169.526,105.861 184.745,106.461\" style=\"fill:none;fill-rule:evenodd;stroke:#000000;stroke-width:2px;stroke-linecap:butt;stroke-linejoin:miter;stroke-opacity:1\"/>\n",
       "<path d=\"M 171.689,108.994 182.342,109.414\" style=\"fill:none;fill-rule:evenodd;stroke:#000000;stroke-width:2px;stroke-linecap:butt;stroke-linejoin:miter;stroke-opacity:1\"/>\n",
       "<path d=\"M 169.526,105.861 167.358,111.736\" style=\"fill:none;fill-rule:evenodd;stroke:#000000;stroke-width:2px;stroke-linecap:butt;stroke-linejoin:miter;stroke-opacity:1\"/>\n",
       "<path d=\"M 167.358,111.736 165.19,117.61\" style=\"fill:none;fill-rule:evenodd;stroke:#0000FF;stroke-width:2px;stroke-linecap:butt;stroke-linejoin:miter;stroke-opacity:1\"/>\n",
       "<path d=\"M 184.745,106.461 186.453,112.521\" style=\"fill:none;fill-rule:evenodd;stroke:#000000;stroke-width:2px;stroke-linecap:butt;stroke-linejoin:miter;stroke-opacity:1\"/>\n",
       "<path d=\"M 186.453,112.521 188.161,118.581\" style=\"fill:none;fill-rule:evenodd;stroke:#CCCC00;stroke-width:2px;stroke-linecap:butt;stroke-linejoin:miter;stroke-opacity:1\"/>\n",
       "<path d=\"M 186.844,122.477 181.528,126.028\" style=\"fill:none;fill-rule:evenodd;stroke:#CCCC00;stroke-width:2px;stroke-linecap:butt;stroke-linejoin:miter;stroke-opacity:1\"/>\n",
       "<path d=\"M 181.528,126.028 176.212,129.579\" style=\"fill:none;fill-rule:evenodd;stroke:#000000;stroke-width:2px;stroke-linecap:butt;stroke-linejoin:miter;stroke-opacity:1\"/>\n",
       "<path d=\"M 176.212,129.579 171.333,125.731\" style=\"fill:none;fill-rule:evenodd;stroke:#000000;stroke-width:2px;stroke-linecap:butt;stroke-linejoin:miter;stroke-opacity:1\"/>\n",
       "<path d=\"M 171.333,125.731 166.453,121.884\" style=\"fill:none;fill-rule:evenodd;stroke:#0000FF;stroke-width:2px;stroke-linecap:butt;stroke-linejoin:miter;stroke-opacity:1\"/>\n",
       "<path d=\"M 176.634,126.033 173.219,123.34\" style=\"fill:none;fill-rule:evenodd;stroke:#000000;stroke-width:2px;stroke-linecap:butt;stroke-linejoin:miter;stroke-opacity:1\"/>\n",
       "<path d=\"M 173.219,123.34 169.803,120.646\" style=\"fill:none;fill-rule:evenodd;stroke:#0000FF;stroke-width:2px;stroke-linecap:butt;stroke-linejoin:miter;stroke-opacity:1\"/>\n",
       "<path d=\"M 176.212,129.579 175.967,135.792\" style=\"fill:none;fill-rule:evenodd;stroke:#000000;stroke-width:2px;stroke-linecap:butt;stroke-linejoin:miter;stroke-opacity:1\"/>\n",
       "<path d=\"M 175.967,135.792 175.722,142.005\" style=\"fill:none;fill-rule:evenodd;stroke:#0000FF;stroke-width:2px;stroke-linecap:butt;stroke-linejoin:miter;stroke-opacity:1\"/>\n",
       "<text style=\"font-size:5px;font-style:normal;font-weight:normal;fill-opacity:1;stroke:none;font-family:sans-serif;text-anchor:start;fill:#0000FF\" x=\"72.2192\" y=\"88.0394\"><tspan>NH</tspan></text>\n",
       "<text style=\"font-size:5px;font-style:normal;font-weight:normal;fill-opacity:1;stroke:none;font-family:sans-serif;text-anchor:start;fill:#0000FF\" x=\"154.945\" y=\"69.4115\"><tspan>NH</tspan></text>\n",
       "<text style=\"font-size:5px;font-style:normal;font-weight:normal;fill-opacity:1;stroke:none;font-family:sans-serif;text-anchor:start;fill:#FF0000\" x=\"180.632\" y=\"81.0822\"><tspan>O</tspan></text>\n",
       "<text style=\"font-size:5px;font-style:normal;font-weight:normal;fill-opacity:1;stroke:none;font-family:sans-serif;text-anchor:start;fill:#FF0000\" x=\"51.1067\" y=\"117.889\"><tspan>OH</tspan></text>\n",
       "<text style=\"font-size:5px;font-style:normal;font-weight:normal;fill-opacity:1;stroke:none;font-family:sans-serif;text-anchor:start;fill:#CCCC00\" x=\"186.844\" y=\"123.658\"><tspan>S</tspan></text>\n",
       "<text style=\"font-size:5px;font-style:normal;font-weight:normal;fill-opacity:1;stroke:none;font-family:sans-serif;text-anchor:start;fill:#0000FF\" x=\"162.053\" y=\"122.687\"><tspan>N</tspan></text>\n",
       "<text style=\"font-size:5px;font-style:normal;font-weight:normal;fill-opacity:1;stroke:none;font-family:sans-serif;text-anchor:start;fill:#0000FF\" x=\"170.365\" y=\"147.59\"><tspan>NH</tspan><tspan style=\"baseline-shift:sub;font-size:3.75px;\">2</tspan><tspan/></text>\n",
       "<text style=\"font-size:5px;font-style:normal;font-weight:normal;fill-opacity:1;stroke:none;font-family:sans-serif;text-anchor:start;fill:#000000\" x=\"51.4897\" y=\"87.4942\"><tspan>H</tspan></text>\n",
       "<text style=\"font-size:12px;font-style:normal;font-weight:normal;fill-opacity:1;stroke:none;font-family:sans-serif;text-anchor:start;fill:#000000\" x=\"73.9688\" y=\"194\"><tspan>396.516</tspan></text>\n",
       "</g>\n",
       "<g transform=\"translate(400,0)\"><rect height=\"200\" style=\"opacity:1.0;fill:#FFFFFF;stroke:none\" width=\"200\" x=\"0\" y=\"0\"> </rect>\n",
       "<path d=\"M 96.2684,83.5418 93.7015,89.3756\" style=\"fill:none;fill-rule:evenodd;stroke:#000000;stroke-width:2px;stroke-linecap:butt;stroke-linejoin:miter;stroke-opacity:1\"/>\n",
       "<path d=\"M 93.7015,89.3756 91.1346,95.2093\" style=\"fill:none;fill-rule:evenodd;stroke:#0000FF;stroke-width:2px;stroke-linecap:butt;stroke-linejoin:miter;stroke-opacity:1\"/>\n",
       "<path d=\"M 96.2684,83.5418 111.775,85.1032\" style=\"fill:none;fill-rule:evenodd;stroke:#000000;stroke-width:2px;stroke-linecap:butt;stroke-linejoin:miter;stroke-opacity:1\"/>\n",
       "<path d=\"M 96.2684,83.5418 81.4255,78.7906\" style=\"fill:none;fill-rule:evenodd;stroke:#000000;stroke-width:2px;stroke-linecap:butt;stroke-linejoin:miter;stroke-opacity:1\"/>\n",
       "<path d=\"M 96.2684,83.5418 99.442,68.2836\" style=\"fill:none;fill-rule:evenodd;stroke:#000000;stroke-width:2px;stroke-linecap:butt;stroke-linejoin:miter;stroke-opacity:1\"/>\n",
       "<path d=\"M 92.2431,99.8162 96.931,104\" style=\"fill:none;fill-rule:evenodd;stroke:#0000FF;stroke-width:2px;stroke-linecap:butt;stroke-linejoin:miter;stroke-opacity:1\"/>\n",
       "<path d=\"M 96.931,104 101.619,108.184\" style=\"fill:none;fill-rule:evenodd;stroke:#000000;stroke-width:2px;stroke-linecap:butt;stroke-linejoin:miter;stroke-opacity:1\"/>\n",
       "<path d=\"M 87.7404,98.2956 81.2511,99.7046\" style=\"fill:none;fill-rule:evenodd;stroke:#0000FF;stroke-width:2px;stroke-linecap:butt;stroke-linejoin:miter;stroke-opacity:1\"/>\n",
       "<path d=\"M 81.2511,99.7046 74.7618,101.114\" style=\"fill:none;fill-rule:evenodd;stroke:#000000;stroke-width:2px;stroke-linecap:butt;stroke-linejoin:miter;stroke-opacity:1\"/>\n",
       "<path d=\"M 101.619,108.184 107.225,104.915\" style=\"fill:none;fill-rule:evenodd;stroke:#000000;stroke-width:2px;stroke-linecap:butt;stroke-linejoin:miter;stroke-opacity:1\"/>\n",
       "<path d=\"M 107.225,104.915 112.83,101.646\" style=\"fill:none;fill-rule:evenodd;stroke:#0000FF;stroke-width:2px;stroke-linecap:butt;stroke-linejoin:miter;stroke-opacity:1\"/>\n",
       "<path d=\"M 100.068,108.028 99.4184,114.483\" style=\"fill:none;fill-rule:evenodd;stroke:#000000;stroke-width:2px;stroke-linecap:butt;stroke-linejoin:miter;stroke-opacity:1\"/>\n",
       "<path d=\"M 99.4184,114.483 98.7685,120.937\" style=\"fill:none;fill-rule:evenodd;stroke:#CCCC00;stroke-width:2px;stroke-linecap:butt;stroke-linejoin:miter;stroke-opacity:1\"/>\n",
       "<path d=\"M 103.17,108.341 102.52,114.795\" style=\"fill:none;fill-rule:evenodd;stroke:#000000;stroke-width:2px;stroke-linecap:butt;stroke-linejoin:miter;stroke-opacity:1\"/>\n",
       "<path d=\"M 102.52,114.795 101.87,121.249\" style=\"fill:none;fill-rule:evenodd;stroke:#CCCC00;stroke-width:2px;stroke-linecap:butt;stroke-linejoin:miter;stroke-opacity:1\"/>\n",
       "<path d=\"M 114.518,97.7356 113.146,91.4194\" style=\"fill:none;fill-rule:evenodd;stroke:#0000FF;stroke-width:2px;stroke-linecap:butt;stroke-linejoin:miter;stroke-opacity:1\"/>\n",
       "<path d=\"M 113.146,91.4194 111.775,85.1032\" style=\"fill:none;fill-rule:evenodd;stroke:#000000;stroke-width:2px;stroke-linecap:butt;stroke-linejoin:miter;stroke-opacity:1\"/>\n",
       "<path d=\"M 117.333,101.324 123.34,103.967\" style=\"fill:none;fill-rule:evenodd;stroke:#0000FF;stroke-width:2px;stroke-linecap:butt;stroke-linejoin:miter;stroke-opacity:1\"/>\n",
       "<path d=\"M 123.34,103.967 129.347,106.61\" style=\"fill:none;fill-rule:evenodd;stroke:#000000;stroke-width:2px;stroke-linecap:butt;stroke-linejoin:miter;stroke-opacity:1\"/>\n",
       "<path d=\"M 112.937,86.1409 116.967,81.6261\" style=\"fill:none;fill-rule:evenodd;stroke:#000000;stroke-width:2px;stroke-linecap:butt;stroke-linejoin:miter;stroke-opacity:1\"/>\n",
       "<path d=\"M 116.967,81.6261 120.997,77.1112\" style=\"fill:none;fill-rule:evenodd;stroke:#FF0000;stroke-width:2px;stroke-linecap:butt;stroke-linejoin:miter;stroke-opacity:1\"/>\n",
       "<path d=\"M 110.612,84.0654 114.642,79.5506\" style=\"fill:none;fill-rule:evenodd;stroke:#000000;stroke-width:2px;stroke-linecap:butt;stroke-linejoin:miter;stroke-opacity:1\"/>\n",
       "<path d=\"M 114.642,79.5506 118.671,75.0357\" style=\"fill:none;fill-rule:evenodd;stroke:#FF0000;stroke-width:2px;stroke-linecap:butt;stroke-linejoin:miter;stroke-opacity:1\"/>\n",
       "<path d=\"M 129.347,106.61 131.043,122.102\" style=\"fill:none;fill-rule:evenodd;stroke:#000000;stroke-width:2px;stroke-linecap:butt;stroke-linejoin:miter;stroke-opacity:1\"/>\n",
       "<path d=\"M 132.699,108.594 133.887,119.439\" style=\"fill:none;fill-rule:evenodd;stroke:#000000;stroke-width:2px;stroke-linecap:butt;stroke-linejoin:miter;stroke-opacity:1\"/>\n",
       "<path d=\"M 129.347,106.61 141.915,97.3943\" style=\"fill:none;fill-rule:evenodd;stroke:#000000;stroke-width:2px;stroke-linecap:butt;stroke-linejoin:miter;stroke-opacity:1\"/>\n",
       "<path d=\"M 131.043,122.102 145.308,128.379\" style=\"fill:none;fill-rule:evenodd;stroke:#000000;stroke-width:2px;stroke-linecap:butt;stroke-linejoin:miter;stroke-opacity:1\"/>\n",
       "<path d=\"M 141.915,97.3943 156.18,103.671\" style=\"fill:none;fill-rule:evenodd;stroke:#000000;stroke-width:2px;stroke-linecap:butt;stroke-linejoin:miter;stroke-opacity:1\"/>\n",
       "<path d=\"M 142.799,101.189 152.785,105.582\" style=\"fill:none;fill-rule:evenodd;stroke:#000000;stroke-width:2px;stroke-linecap:butt;stroke-linejoin:miter;stroke-opacity:1\"/>\n",
       "<path d=\"M 156.18,103.671 157.876,119.163\" style=\"fill:none;fill-rule:evenodd;stroke:#000000;stroke-width:2px;stroke-linecap:butt;stroke-linejoin:miter;stroke-opacity:1\"/>\n",
       "<path d=\"M 156.18,103.671 168.748,94.4554\" style=\"fill:none;fill-rule:evenodd;stroke:#000000;stroke-width:2px;stroke-linecap:butt;stroke-linejoin:miter;stroke-opacity:1\"/>\n",
       "<path d=\"M 157.876,119.163 145.308,128.379\" style=\"fill:none;fill-rule:evenodd;stroke:#000000;stroke-width:2px;stroke-linecap:butt;stroke-linejoin:miter;stroke-opacity:1\"/>\n",
       "<path d=\"M 154.148,118.032 145.35,124.483\" style=\"fill:none;fill-rule:evenodd;stroke:#000000;stroke-width:2px;stroke-linecap:butt;stroke-linejoin:miter;stroke-opacity:1\"/>\n",
       "<path d=\"M 157.876,119.163 172.141,125.44\" style=\"fill:none;fill-rule:evenodd;stroke:#000000;stroke-width:2px;stroke-linecap:butt;stroke-linejoin:miter;stroke-opacity:1\"/>\n",
       "<path d=\"M 172.141,125.44 178.148,128.083\" style=\"fill:none;fill-rule:evenodd;stroke:#000000;stroke-width:2px;stroke-linecap:butt;stroke-linejoin:miter;stroke-opacity:1\"/>\n",
       "<path d=\"M 178.148,128.083 184.155,130.726\" style=\"fill:none;fill-rule:evenodd;stroke:#0000FF;stroke-width:2px;stroke-linecap:butt;stroke-linejoin:miter;stroke-opacity:1\"/>\n",
       "<path d=\"M 172.688,129.086 177.794,131.332\" style=\"fill:none;fill-rule:evenodd;stroke:#000000;stroke-width:2px;stroke-linecap:butt;stroke-linejoin:miter;stroke-opacity:1\"/>\n",
       "<path d=\"M 177.794,131.332 182.9,133.579\" style=\"fill:none;fill-rule:evenodd;stroke:#0000FF;stroke-width:2px;stroke-linecap:butt;stroke-linejoin:miter;stroke-opacity:1\"/>\n",
       "<path d=\"M 175.199,123.38 180.305,125.626\" style=\"fill:none;fill-rule:evenodd;stroke:#000000;stroke-width:2px;stroke-linecap:butt;stroke-linejoin:miter;stroke-opacity:1\"/>\n",
       "<path d=\"M 180.305,125.626 185.41,127.873\" style=\"fill:none;fill-rule:evenodd;stroke:#0000FF;stroke-width:2px;stroke-linecap:butt;stroke-linejoin:miter;stroke-opacity:1\"/>\n",
       "<path d=\"M 168.748,94.4554 174.079,90.5462\" style=\"fill:none;fill-rule:evenodd;stroke:#000000;stroke-width:2px;stroke-linecap:butt;stroke-linejoin:miter;stroke-opacity:1\"/>\n",
       "<path d=\"M 174.079,90.5462 179.411,86.6369\" style=\"fill:none;fill-rule:evenodd;stroke:#33CCCC;stroke-width:2px;stroke-linecap:butt;stroke-linejoin:miter;stroke-opacity:1\"/>\n",
       "<path d=\"M 168.748,94.4554 165.093,89.4701\" style=\"fill:none;fill-rule:evenodd;stroke:#000000;stroke-width:2px;stroke-linecap:butt;stroke-linejoin:miter;stroke-opacity:1\"/>\n",
       "<path d=\"M 165.093,89.4701 161.437,84.4847\" style=\"fill:none;fill-rule:evenodd;stroke:#33CCCC;stroke-width:2px;stroke-linecap:butt;stroke-linejoin:miter;stroke-opacity:1\"/>\n",
       "<path d=\"M 168.748,94.4554 172.403,99.4408\" style=\"fill:none;fill-rule:evenodd;stroke:#000000;stroke-width:2px;stroke-linecap:butt;stroke-linejoin:miter;stroke-opacity:1\"/>\n",
       "<path d=\"M 172.403,99.4408 176.059,104.426\" style=\"fill:none;fill-rule:evenodd;stroke:#33CCCC;stroke-width:2px;stroke-linecap:butt;stroke-linejoin:miter;stroke-opacity:1\"/>\n",
       "<path d=\"M 74.7618,101.114 64.2831,89.5775\" style=\"fill:none;fill-rule:evenodd;stroke:#000000;stroke-width:2px;stroke-linecap:butt;stroke-linejoin:miter;stroke-opacity:1\"/>\n",
       "<path d=\"M 70.8828,101.479 63.5476,93.4037\" style=\"fill:none;fill-rule:evenodd;stroke:#000000;stroke-width:2px;stroke-linecap:butt;stroke-linejoin:miter;stroke-opacity:1\"/>\n",
       "<path d=\"M 74.7618,101.114 70.0106,115.957\" style=\"fill:none;fill-rule:evenodd;stroke:#000000;stroke-width:2px;stroke-linecap:butt;stroke-linejoin:miter;stroke-opacity:1\"/>\n",
       "<path d=\"M 64.2831,89.5775 49.0531,92.8843\" style=\"fill:none;fill-rule:evenodd;stroke:#000000;stroke-width:2px;stroke-linecap:butt;stroke-linejoin:miter;stroke-opacity:1\"/>\n",
       "<path d=\"M 49.0531,92.8843 44.3019,107.727\" style=\"fill:none;fill-rule:evenodd;stroke:#000000;stroke-width:2px;stroke-linecap:butt;stroke-linejoin:miter;stroke-opacity:1\"/>\n",
       "<path d=\"M 51.309,96.061 47.9832,106.451\" style=\"fill:none;fill-rule:evenodd;stroke:#000000;stroke-width:2px;stroke-linecap:butt;stroke-linejoin:miter;stroke-opacity:1\"/>\n",
       "<path d=\"M 49.0531,92.8843 44.7664,88.165\" style=\"fill:none;fill-rule:evenodd;stroke:#000000;stroke-width:2px;stroke-linecap:butt;stroke-linejoin:miter;stroke-opacity:1\"/>\n",
       "<path d=\"M 44.7664,88.165 40.4796,83.4457\" style=\"fill:none;fill-rule:evenodd;stroke:#33CCCC;stroke-width:2px;stroke-linecap:butt;stroke-linejoin:miter;stroke-opacity:1\"/>\n",
       "<path d=\"M 44.3019,107.727 54.7807,119.263\" style=\"fill:none;fill-rule:evenodd;stroke:#000000;stroke-width:2px;stroke-linecap:butt;stroke-linejoin:miter;stroke-opacity:1\"/>\n",
       "<path d=\"M 44.3019,107.727 29.072,111.034\" style=\"fill:none;fill-rule:evenodd;stroke:#000000;stroke-width:2px;stroke-linecap:butt;stroke-linejoin:miter;stroke-opacity:1\"/>\n",
       "<path d=\"M 54.7807,119.263 70.0106,115.957\" style=\"fill:none;fill-rule:evenodd;stroke:#000000;stroke-width:2px;stroke-linecap:butt;stroke-linejoin:miter;stroke-opacity:1\"/>\n",
       "<path d=\"M 56.4038,115.721 67.0648,113.407\" style=\"fill:none;fill-rule:evenodd;stroke:#000000;stroke-width:2px;stroke-linecap:butt;stroke-linejoin:miter;stroke-opacity:1\"/>\n",
       "<path d=\"M 29.072,111.034 27.1121,117.157\" style=\"fill:none;fill-rule:evenodd;stroke:#000000;stroke-width:2px;stroke-linecap:butt;stroke-linejoin:miter;stroke-opacity:1\"/>\n",
       "<path d=\"M 27.1121,117.157 25.1523,123.279\" style=\"fill:none;fill-rule:evenodd;stroke:#0000FF;stroke-width:2px;stroke-linecap:butt;stroke-linejoin:miter;stroke-opacity:1\"/>\n",
       "<path d=\"M 30.2256,109.986 26.166,105.517\" style=\"fill:none;fill-rule:evenodd;stroke:#000000;stroke-width:2px;stroke-linecap:butt;stroke-linejoin:miter;stroke-opacity:1\"/>\n",
       "<path d=\"M 26.166,105.517 22.1063,101.048\" style=\"fill:none;fill-rule:evenodd;stroke:#FF0000;stroke-width:2px;stroke-linecap:butt;stroke-linejoin:miter;stroke-opacity:1\"/>\n",
       "<path d=\"M 27.9184,112.082 23.8587,107.613\" style=\"fill:none;fill-rule:evenodd;stroke:#000000;stroke-width:2px;stroke-linecap:butt;stroke-linejoin:miter;stroke-opacity:1\"/>\n",
       "<path d=\"M 23.8587,107.613 19.7991,103.143\" style=\"fill:none;fill-rule:evenodd;stroke:#FF0000;stroke-width:2px;stroke-linecap:butt;stroke-linejoin:miter;stroke-opacity:1\"/>\n",
       "<path d=\"M 19.8181,126.855 14.4545,128.019\" style=\"fill:none;fill-rule:evenodd;stroke:#0000FF;stroke-width:2px;stroke-linecap:butt;stroke-linejoin:miter;stroke-opacity:1\"/>\n",
       "<path d=\"M 14.4545,128.019 9.09091,129.184\" style=\"fill:none;fill-rule:evenodd;stroke:#000000;stroke-width:2px;stroke-linecap:butt;stroke-linejoin:miter;stroke-opacity:1\"/>\n",
       "<text style=\"font-size:5px;font-style:normal;font-weight:normal;fill-opacity:1;stroke:none;font-family:sans-serif;text-anchor:start;fill:#0000FF\" x=\"87.7404\" y=\"100.404\"><tspan>N</tspan></text>\n",
       "<text style=\"font-size:5px;font-style:normal;font-weight:normal;fill-opacity:1;stroke:none;font-family:sans-serif;text-anchor:start;fill:#0000FF\" x=\"112.83\" y=\"102.931\"><tspan>N</tspan></text>\n",
       "<text style=\"font-size:5px;font-style:normal;font-weight:normal;fill-opacity:1;stroke:none;font-family:sans-serif;text-anchor:start;fill:#FF0000\" x=\"119.726\" y=\"76.0734\"><tspan>O</tspan></text>\n",
       "<text style=\"font-size:5px;font-style:normal;font-weight:normal;fill-opacity:1;stroke:none;font-family:sans-serif;text-anchor:start;fill:#0000FF\" x=\"184.155\" y=\"134.314\"><tspan>N</tspan></text>\n",
       "<text style=\"font-size:5px;font-style:normal;font-weight:normal;fill-opacity:1;stroke:none;font-family:sans-serif;text-anchor:start;fill:#33CCCC\" x=\"179.411\" y=\"87.8374\"><tspan>F</tspan></text>\n",
       "<text style=\"font-size:5px;font-style:normal;font-weight:normal;fill-opacity:1;stroke:none;font-family:sans-serif;text-anchor:start;fill:#33CCCC\" x=\"157.627\" y=\"84.4847\"><tspan>F</tspan></text>\n",
       "<text style=\"font-size:5px;font-style:normal;font-weight:normal;fill-opacity:1;stroke:none;font-family:sans-serif;text-anchor:start;fill:#33CCCC\" x=\"176.058\" y=\"109.621\"><tspan>F</tspan></text>\n",
       "<text style=\"font-size:5px;font-style:normal;font-weight:normal;fill-opacity:1;stroke:none;font-family:sans-serif;text-anchor:start;fill:#CCCC00\" x=\"97.9777\" y=\"126.288\"><tspan>S</tspan></text>\n",
       "<text style=\"font-size:5px;font-style:normal;font-weight:normal;fill-opacity:1;stroke:none;font-family:sans-serif;text-anchor:start;fill:#0000FF\" x=\"19.8181\" y=\"128.474\"><tspan>NH</tspan></text>\n",
       "<text style=\"font-size:5px;font-style:normal;font-weight:normal;fill-opacity:1;stroke:none;font-family:sans-serif;text-anchor:start;fill:#FF0000\" x=\"16.1673\" y=\"102.095\"><tspan>O</tspan></text>\n",
       "<text style=\"font-size:5px;font-style:normal;font-weight:normal;fill-opacity:1;stroke:none;font-family:sans-serif;text-anchor:start;fill:#33CCCC\" x=\"36.6692\" y=\"83.9457\"><tspan>F</tspan></text>\n",
       "<text style=\"font-size:12px;font-style:normal;font-weight:normal;fill-opacity:1;stroke:none;font-family:sans-serif;text-anchor:start;fill:#000000\" x=\"73.9688\" y=\"194\"><tspan>464.444</tspan></text>\n",
       "</g>\n",
       "<g transform=\"translate(0,200)\"><rect height=\"200\" style=\"opacity:1.0;fill:#FFFFFF;stroke:none\" width=\"200\" x=\"0\" y=\"0\"> </rect>\n",
       "<path d=\"M 53.3928,90.6609 64.3127,109.516\" style=\"fill:none;fill-rule:evenodd;stroke:#000000;stroke-width:2px;stroke-linecap:butt;stroke-linejoin:miter;stroke-opacity:1\"/>\n",
       "<path d=\"M 53.3928,90.6609 32.0863,95.2199\" style=\"fill:none;fill-rule:evenodd;stroke:#000000;stroke-width:2px;stroke-linecap:butt;stroke-linejoin:miter;stroke-opacity:1\"/>\n",
       "<path d=\"M 53.3928,90.6609 64.2617,71.7765\" style=\"fill:none;fill-rule:evenodd;stroke:#000000;stroke-width:2px;stroke-linecap:butt;stroke-linejoin:miter;stroke-opacity:1\"/>\n",
       "<path d=\"M 52.2858,88.7716 51.9336,89.0282\" style=\"fill:none;fill-rule:evenodd;stroke:#000000;stroke-width:1px;stroke-linecap:butt;stroke-linejoin:miter;stroke-opacity:1\"/>\n",
       "<path d=\"M 51.1788,86.8823 50.4744,87.3955\" style=\"fill:none;fill-rule:evenodd;stroke:#000000;stroke-width:1px;stroke-linecap:butt;stroke-linejoin:miter;stroke-opacity:1\"/>\n",
       "<path d=\"M 50.0718,84.993 49.0152,85.7628\" style=\"fill:none;fill-rule:evenodd;stroke:#000000;stroke-width:1px;stroke-linecap:butt;stroke-linejoin:miter;stroke-opacity:1\"/>\n",
       "<path d=\"M 48.9648,83.1036 47.556,84.1301\" style=\"fill:none;fill-rule:evenodd;stroke:#000000;stroke-width:1px;stroke-linecap:butt;stroke-linejoin:miter;stroke-opacity:1\"/>\n",
       "<path d=\"M 47.8578,81.2143 46.0968,82.4974\" style=\"fill:none;fill-rule:evenodd;stroke:#000000;stroke-width:1px;stroke-linecap:butt;stroke-linejoin:miter;stroke-opacity:1\"/>\n",
       "<path d=\"M 46.7508,79.325 44.6376,80.8647\" style=\"fill:none;fill-rule:evenodd;stroke:#000000;stroke-width:1px;stroke-linecap:butt;stroke-linejoin:miter;stroke-opacity:1\"/>\n",
       "<path d=\"M 45.6438,77.4356 43.1784,79.232\" style=\"fill:none;fill-rule:evenodd;stroke:#000000;stroke-width:1px;stroke-linecap:butt;stroke-linejoin:miter;stroke-opacity:1\"/>\n",
       "<path d=\"M 44.5368,75.5463 41.7192,77.5993\" style=\"fill:none;fill-rule:evenodd;stroke:#000000;stroke-width:1px;stroke-linecap:butt;stroke-linejoin:miter;stroke-opacity:1\"/>\n",
       "<path d=\"M 43.4298,73.657 40.26,75.9666\" style=\"fill:none;fill-rule:evenodd;stroke:#000000;stroke-width:1px;stroke-linecap:butt;stroke-linejoin:miter;stroke-opacity:1\"/>\n",
       "<path d=\"M 42.3229,71.7677 38.8008,74.3339\" style=\"fill:none;fill-rule:evenodd;stroke:#000000;stroke-width:1px;stroke-linecap:butt;stroke-linejoin:miter;stroke-opacity:1\"/>\n",
       "<path d=\"M 64.3127,109.516 49.7551,125.728\" style=\"fill:none;fill-rule:evenodd;stroke:#000000;stroke-width:2px;stroke-linecap:butt;stroke-linejoin:miter;stroke-opacity:1\"/>\n",
       "<path d=\"M 64.3127,109.516 86.1016,109.486\" style=\"fill:none;fill-rule:evenodd;stroke:#000000;stroke-width:2px;stroke-linecap:butt;stroke-linejoin:miter;stroke-opacity:1\"/>\n",
       "<path d=\"M 64.3127,109.516 64.5146,117.593 68.6802,116.314 64.3127,109.516\" style=\"fill:#000000;fill-rule:evenoddstroke:#000000;stroke-width:2px;stroke-linecap:butt;stroke-linejoin:miter;stroke-opacity:1\"/>\n",
       "<path d=\"M 49.7551,125.728 29.838,116.892\" style=\"fill:none;fill-rule:evenodd;stroke:#000000;stroke-width:2px;stroke-linecap:butt;stroke-linejoin:miter;stroke-opacity:1\"/>\n",
       "<path d=\"M 29.838,116.892 32.0863,95.2199\" style=\"fill:none;fill-rule:evenodd;stroke:#000000;stroke-width:2px;stroke-linecap:butt;stroke-linejoin:miter;stroke-opacity:1\"/>\n",
       "<path d=\"M 33.542,93.5987 27.1319,87.8427\" style=\"fill:none;fill-rule:evenodd;stroke:#000000;stroke-width:2px;stroke-linecap:butt;stroke-linejoin:miter;stroke-opacity:1\"/>\n",
       "<path d=\"M 27.1319,87.8427 20.7218,82.0867\" style=\"fill:none;fill-rule:evenodd;stroke:#FF0000;stroke-width:2px;stroke-linecap:butt;stroke-linejoin:miter;stroke-opacity:1\"/>\n",
       "<path d=\"M 30.6305,96.8411 24.2204,91.0851\" style=\"fill:none;fill-rule:evenodd;stroke:#000000;stroke-width:2px;stroke-linecap:butt;stroke-linejoin:miter;stroke-opacity:1\"/>\n",
       "<path d=\"M 24.2204,91.0851 17.8102,85.3291\" style=\"fill:none;fill-rule:evenodd;stroke:#FF0000;stroke-width:2px;stroke-linecap:butt;stroke-linejoin:miter;stroke-opacity:1\"/>\n",
       "<path d=\"M 64.2617,71.7765 86.0505,71.7471\" style=\"fill:none;fill-rule:evenodd;stroke:#000000;stroke-width:2px;stroke-linecap:butt;stroke-linejoin:miter;stroke-opacity:1\"/>\n",
       "<path d=\"M 86.0505,71.7471 96.9704,90.602\" style=\"fill:none;fill-rule:evenodd;stroke:#000000;stroke-width:2px;stroke-linecap:butt;stroke-linejoin:miter;stroke-opacity:1\"/>\n",
       "<path d=\"M 96.9704,90.602 86.1016,109.486\" style=\"fill:none;fill-rule:evenodd;stroke:#000000;stroke-width:2px;stroke-linecap:butt;stroke-linejoin:miter;stroke-opacity:1\"/>\n",
       "<path d=\"M 96.9704,90.602 118.759,90.5725\" style=\"fill:none;fill-rule:evenodd;stroke:#000000;stroke-width:2px;stroke-linecap:butt;stroke-linejoin:miter;stroke-opacity:1\"/>\n",
       "<path d=\"M 96.9704,90.602 102.453,83.2318 98.4389,81.5347 96.9704,90.602\" style=\"fill:#000000;fill-rule:evenoddstroke:#000000;stroke-width:2px;stroke-linecap:butt;stroke-linejoin:miter;stroke-opacity:1\"/>\n",
       "<path d=\"M 86.1016,109.486 97.0215,128.341\" style=\"fill:none;fill-rule:evenodd;stroke:#000000;stroke-width:2px;stroke-linecap:butt;stroke-linejoin:miter;stroke-opacity:1\"/>\n",
       "<path d=\"M 85.1054,110.723 85.9081,111.063\" style=\"fill:none;fill-rule:evenodd;stroke:#000000;stroke-width:1px;stroke-linecap:butt;stroke-linejoin:miter;stroke-opacity:1\"/>\n",
       "<path d=\"M 84.1091,111.96 85.7146,112.639\" style=\"fill:none;fill-rule:evenodd;stroke:#000000;stroke-width:1px;stroke-linecap:butt;stroke-linejoin:miter;stroke-opacity:1\"/>\n",
       "<path d=\"M 83.1129,113.197 85.5211,114.216\" style=\"fill:none;fill-rule:evenodd;stroke:#000000;stroke-width:1px;stroke-linecap:butt;stroke-linejoin:miter;stroke-opacity:1\"/>\n",
       "<path d=\"M 82.1167,114.435 85.3277,115.792\" style=\"fill:none;fill-rule:evenodd;stroke:#000000;stroke-width:1px;stroke-linecap:butt;stroke-linejoin:miter;stroke-opacity:1\"/>\n",
       "<path d=\"M 81.1205,115.672 85.1342,117.369\" style=\"fill:none;fill-rule:evenodd;stroke:#000000;stroke-width:1px;stroke-linecap:butt;stroke-linejoin:miter;stroke-opacity:1\"/>\n",
       "<path d=\"M 118.759,90.5725 129.679,109.427\" style=\"fill:none;fill-rule:evenodd;stroke:#000000;stroke-width:2px;stroke-linecap:butt;stroke-linejoin:miter;stroke-opacity:1\"/>\n",
       "<path d=\"M 118.759,90.5725 129.628,71.6881\" style=\"fill:none;fill-rule:evenodd;stroke:#000000;stroke-width:2px;stroke-linecap:butt;stroke-linejoin:miter;stroke-opacity:1\"/>\n",
       "<path d=\"M 118.152,88.0344 117.35,88.376\" style=\"fill:none;fill-rule:evenodd;stroke:#000000;stroke-width:1px;stroke-linecap:butt;stroke-linejoin:miter;stroke-opacity:1\"/>\n",
       "<path d=\"M 117.544,85.4963 115.94,86.1795\" style=\"fill:none;fill-rule:evenodd;stroke:#000000;stroke-width:1px;stroke-linecap:butt;stroke-linejoin:miter;stroke-opacity:1\"/>\n",
       "<path d=\"M 116.936,82.9582 114.531,83.983\" style=\"fill:none;fill-rule:evenodd;stroke:#000000;stroke-width:1px;stroke-linecap:butt;stroke-linejoin:miter;stroke-opacity:1\"/>\n",
       "<path d=\"M 116.329,80.42 113.121,81.7865\" style=\"fill:none;fill-rule:evenodd;stroke:#000000;stroke-width:1px;stroke-linecap:butt;stroke-linejoin:miter;stroke-opacity:1\"/>\n",
       "<path d=\"M 115.721,77.8819 111.712,79.5899\" style=\"fill:none;fill-rule:evenodd;stroke:#000000;stroke-width:1px;stroke-linecap:butt;stroke-linejoin:miter;stroke-opacity:1\"/>\n",
       "<path d=\"M 129.679,109.427 118.81,128.312\" style=\"fill:none;fill-rule:evenodd;stroke:#000000;stroke-width:2px;stroke-linecap:butt;stroke-linejoin:miter;stroke-opacity:1\"/>\n",
       "<path d=\"M 129.679,109.427 151.468,109.398\" style=\"fill:none;fill-rule:evenodd;stroke:#000000;stroke-width:2px;stroke-linecap:butt;stroke-linejoin:miter;stroke-opacity:1\"/>\n",
       "<path d=\"M 132.942,105.065 148.194,105.045\" style=\"fill:none;fill-rule:evenodd;stroke:#000000;stroke-width:2px;stroke-linecap:butt;stroke-linejoin:miter;stroke-opacity:1\"/>\n",
       "<path d=\"M 118.81,128.312 97.0215,128.341\" style=\"fill:none;fill-rule:evenodd;stroke:#000000;stroke-width:2px;stroke-linecap:butt;stroke-linejoin:miter;stroke-opacity:1\"/>\n",
       "<path d=\"M 129.628,71.6881 151.417,71.6587\" style=\"fill:none;fill-rule:evenodd;stroke:#000000;stroke-width:2px;stroke-linecap:butt;stroke-linejoin:miter;stroke-opacity:1\"/>\n",
       "<path d=\"M 151.417,71.6587 162.337,90.5136\" style=\"fill:none;fill-rule:evenodd;stroke:#000000;stroke-width:2px;stroke-linecap:butt;stroke-linejoin:miter;stroke-opacity:1\"/>\n",
       "<path d=\"M 162.337,90.5136 151.468,109.398\" style=\"fill:none;fill-rule:evenodd;stroke:#000000;stroke-width:2px;stroke-linecap:butt;stroke-linejoin:miter;stroke-opacity:1\"/>\n",
       "<path d=\"M 162.34,92.6925 171.538,92.68\" style=\"fill:none;fill-rule:evenodd;stroke:#000000;stroke-width:2px;stroke-linecap:butt;stroke-linejoin:miter;stroke-opacity:1\"/>\n",
       "<path d=\"M 171.538,92.68 180.737,92.6676\" style=\"fill:none;fill-rule:evenodd;stroke:#FF0000;stroke-width:2px;stroke-linecap:butt;stroke-linejoin:miter;stroke-opacity:1\"/>\n",
       "<path d=\"M 162.334,88.3347 171.532,88.3223\" style=\"fill:none;fill-rule:evenodd;stroke:#000000;stroke-width:2px;stroke-linecap:butt;stroke-linejoin:miter;stroke-opacity:1\"/>\n",
       "<path d=\"M 171.532,88.3223 180.731,88.3098\" style=\"fill:none;fill-rule:evenodd;stroke:#FF0000;stroke-width:2px;stroke-linecap:butt;stroke-linejoin:miter;stroke-opacity:1\"/>\n",
       "<path d=\"M 151.468,109.398 155.876,117.01\" style=\"fill:none;fill-rule:evenodd;stroke:#000000;stroke-width:2px;stroke-linecap:butt;stroke-linejoin:miter;stroke-opacity:1\"/>\n",
       "<path d=\"M 155.876,117.01 160.285,124.621\" style=\"fill:none;fill-rule:evenodd;stroke:#FF0000;stroke-width:2px;stroke-linecap:butt;stroke-linejoin:miter;stroke-opacity:1\"/>\n",
       "<text style=\"font-size:7px;font-style:normal;font-weight:normal;fill-opacity:1;stroke:none;font-family:sans-serif;text-anchor:start;fill:#FF0000\" x=\"180.734\" y=\"94.1156\"><tspan>O</tspan></text>\n",
       "<text style=\"font-size:7px;font-style:normal;font-weight:normal;fill-opacity:1;stroke:none;font-family:sans-serif;text-anchor:start;fill:#FF0000\" x=\"12.4826\" y=\"84.2937\"><tspan>O</tspan></text>\n",
       "<text style=\"font-size:7px;font-style:normal;font-weight:normal;fill-opacity:1;stroke:none;font-family:sans-serif;text-anchor:start;fill:#FF0000\" x=\"155.849\" y=\"131.884\"><tspan>OH</tspan></text>\n",
       "<text style=\"font-size:7px;font-style:normal;font-weight:normal;fill-opacity:1;stroke:none;font-family:sans-serif;text-anchor:start;fill:#000000\" x=\"64.5654\" y=\"124.216\"><tspan>H</tspan></text>\n",
       "<text style=\"font-size:7px;font-style:normal;font-weight:normal;fill-opacity:1;stroke:none;font-family:sans-serif;text-anchor:start;fill:#000000\" x=\"98.8337\" y=\"82.3833\"><tspan>H</tspan></text>\n",
       "<text style=\"font-size:7px;font-style:normal;font-weight:normal;fill-opacity:1;stroke:none;font-family:sans-serif;text-anchor:start;fill:#000000\" x=\"78.4442\" y=\"123.783\"><tspan>H</tspan></text>\n",
       "<text style=\"font-size:12px;font-style:normal;font-weight:normal;fill-opacity:1;stroke:none;font-family:sans-serif;text-anchor:start;fill:#000000\" x=\"73.9688\" y=\"194\"><tspan>302.414</tspan></text>\n",
       "</g>\n",
       "<g transform=\"translate(200,200)\"><rect height=\"200\" style=\"opacity:1.0;fill:#FFFFFF;stroke:none\" width=\"200\" x=\"0\" y=\"0\"> </rect>\n",
       "<path d=\"M 170.896,94.909 161.683,85.197\" style=\"fill:none;fill-rule:evenodd;stroke:#000000;stroke-width:2px;stroke-linecap:butt;stroke-linejoin:miter;stroke-opacity:1\"/>\n",
       "<path d=\"M 170.896,94.909 167.091,107.743\" style=\"fill:none;fill-rule:evenodd;stroke:#000000;stroke-width:2px;stroke-linecap:butt;stroke-linejoin:miter;stroke-opacity:1\"/>\n",
       "<path d=\"M 170.896,94.909 174.876,96.8947\" style=\"fill:none;fill-rule:evenodd;stroke:#000000;stroke-width:2px;stroke-linecap:butt;stroke-linejoin:miter;stroke-opacity:1\"/>\n",
       "<path d=\"M 174.876,96.8947 178.857,98.8803\" style=\"fill:none;fill-rule:evenodd;stroke:#FF0000;stroke-width:2px;stroke-linecap:butt;stroke-linejoin:miter;stroke-opacity:1\"/>\n",
       "<path d=\"M 170.896,94.909 178.285,87.1775 176.133,85.5846 170.896,94.909\" style=\"fill:#000000;fill-rule:evenoddstroke:#000000;stroke-width:2px;stroke-linecap:butt;stroke-linejoin:miter;stroke-opacity:1\"/>\n",
       "<path d=\"M 161.683,85.197 148.666,88.3192\" style=\"fill:none;fill-rule:evenodd;stroke:#000000;stroke-width:2px;stroke-linecap:butt;stroke-linejoin:miter;stroke-opacity:1\"/>\n",
       "<path d=\"M 161.683,85.197 165.579,82.6195\" style=\"fill:none;fill-rule:evenodd;stroke:#000000;stroke-width:2px;stroke-linecap:butt;stroke-linejoin:miter;stroke-opacity:1\"/>\n",
       "<path d=\"M 165.579,82.6195 169.475,80.042\" style=\"fill:none;fill-rule:evenodd;stroke:#FF0000;stroke-width:2px;stroke-linecap:butt;stroke-linejoin:miter;stroke-opacity:1\"/>\n",
       "<path d=\"M 161.369,84.139 161.124,84.2457\" style=\"fill:none;fill-rule:evenodd;stroke:#000000;stroke-width:1px;stroke-linecap:butt;stroke-linejoin:miter;stroke-opacity:1\"/>\n",
       "<path d=\"M 161.055,83.0811 160.564,83.2945\" style=\"fill:none;fill-rule:evenodd;stroke:#000000;stroke-width:1px;stroke-linecap:butt;stroke-linejoin:miter;stroke-opacity:1\"/>\n",
       "<path d=\"M 160.742,82.0231 160.005,82.3432\" style=\"fill:none;fill-rule:evenodd;stroke:#000000;stroke-width:1px;stroke-linecap:butt;stroke-linejoin:miter;stroke-opacity:1\"/>\n",
       "<path d=\"M 160.428,80.9652 159.446,81.392\" style=\"fill:none;fill-rule:evenodd;stroke:#000000;stroke-width:1px;stroke-linecap:butt;stroke-linejoin:miter;stroke-opacity:1\"/>\n",
       "<path d=\"M 160.114,79.9072 158.886,80.4407\" style=\"fill:none;fill-rule:evenodd;stroke:#000000;stroke-width:1px;stroke-linecap:butt;stroke-linejoin:miter;stroke-opacity:1\"/>\n",
       "<path d=\"M 159.8,78.8492 158.327,79.4895\" style=\"fill:none;fill-rule:evenodd;stroke:#000000;stroke-width:1px;stroke-linecap:butt;stroke-linejoin:miter;stroke-opacity:1\"/>\n",
       "<path d=\"M 159.487,77.7913 157.768,78.5382\" style=\"fill:none;fill-rule:evenodd;stroke:#000000;stroke-width:1px;stroke-linecap:butt;stroke-linejoin:miter;stroke-opacity:1\"/>\n",
       "<path d=\"M 159.173,76.7333 157.208,77.5869\" style=\"fill:none;fill-rule:evenodd;stroke:#000000;stroke-width:1px;stroke-linecap:butt;stroke-linejoin:miter;stroke-opacity:1\"/>\n",
       "<path d=\"M 158.859,75.6753 156.649,76.6357\" style=\"fill:none;fill-rule:evenodd;stroke:#000000;stroke-width:1px;stroke-linecap:butt;stroke-linejoin:miter;stroke-opacity:1\"/>\n",
       "<path d=\"M 158.545,74.6174 156.09,75.6844\" style=\"fill:none;fill-rule:evenodd;stroke:#000000;stroke-width:1px;stroke-linecap:butt;stroke-linejoin:miter;stroke-opacity:1\"/>\n",
       "<path d=\"M 148.666,88.3192 144.861,101.153\" style=\"fill:none;fill-rule:evenodd;stroke:#000000;stroke-width:2px;stroke-linecap:butt;stroke-linejoin:miter;stroke-opacity:1\"/>\n",
       "<path d=\"M 148.666,88.3192 148.327,82.754\" style=\"fill:none;fill-rule:evenodd;stroke:#000000;stroke-width:2px;stroke-linecap:butt;stroke-linejoin:miter;stroke-opacity:1\"/>\n",
       "<path d=\"M 148.327,82.754 147.988,77.1888\" style=\"fill:none;fill-rule:evenodd;stroke:#FF0000;stroke-width:2px;stroke-linecap:butt;stroke-linejoin:miter;stroke-opacity:1\"/>\n",
       "<path d=\"M 148.666,88.3192 141.929,84.3691 140.991,86.8766 148.666,88.3192\" style=\"fill:#000000;fill-rule:evenoddstroke:#000000;stroke-width:2px;stroke-linecap:butt;stroke-linejoin:miter;stroke-opacity:1\"/>\n",
       "<path d=\"M 144.861,101.153 148.426,104.911\" style=\"fill:none;fill-rule:evenodd;stroke:#000000;stroke-width:2px;stroke-linecap:butt;stroke-linejoin:miter;stroke-opacity:1\"/>\n",
       "<path d=\"M 148.426,104.911 151.99,108.669\" style=\"fill:none;fill-rule:evenodd;stroke:#FF0000;stroke-width:2px;stroke-linecap:butt;stroke-linejoin:miter;stroke-opacity:1\"/>\n",
       "<path d=\"M 144.861,101.153 132.883,95.178\" style=\"fill:none;fill-rule:evenodd;stroke:#000000;stroke-width:2px;stroke-linecap:butt;stroke-linejoin:miter;stroke-opacity:1\"/>\n",
       "<path d=\"M 144.122,101.927 144.338,102.086\" style=\"fill:none;fill-rule:evenodd;stroke:#000000;stroke-width:1px;stroke-linecap:butt;stroke-linejoin:miter;stroke-opacity:1\"/>\n",
       "<path d=\"M 143.384,102.7 143.814,103.018\" style=\"fill:none;fill-rule:evenodd;stroke:#000000;stroke-width:1px;stroke-linecap:butt;stroke-linejoin:miter;stroke-opacity:1\"/>\n",
       "<path d=\"M 142.645,103.473 143.29,103.951\" style=\"fill:none;fill-rule:evenodd;stroke:#000000;stroke-width:1px;stroke-linecap:butt;stroke-linejoin:miter;stroke-opacity:1\"/>\n",
       "<path d=\"M 141.906,104.246 142.767,104.883\" style=\"fill:none;fill-rule:evenodd;stroke:#000000;stroke-width:1px;stroke-linecap:butt;stroke-linejoin:miter;stroke-opacity:1\"/>\n",
       "<path d=\"M 141.167,105.019 142.243,105.816\" style=\"fill:none;fill-rule:evenodd;stroke:#000000;stroke-width:1px;stroke-linecap:butt;stroke-linejoin:miter;stroke-opacity:1\"/>\n",
       "<path d=\"M 140.428,105.792 141.719,106.748\" style=\"fill:none;fill-rule:evenodd;stroke:#000000;stroke-width:1px;stroke-linecap:butt;stroke-linejoin:miter;stroke-opacity:1\"/>\n",
       "<path d=\"M 139.689,106.565 141.195,107.681\" style=\"fill:none;fill-rule:evenodd;stroke:#000000;stroke-width:1px;stroke-linecap:butt;stroke-linejoin:miter;stroke-opacity:1\"/>\n",
       "<path d=\"M 138.95,107.339 140.672,108.613\" style=\"fill:none;fill-rule:evenodd;stroke:#000000;stroke-width:1px;stroke-linecap:butt;stroke-linejoin:miter;stroke-opacity:1\"/>\n",
       "<path d=\"M 138.211,108.112 140.148,109.545\" style=\"fill:none;fill-rule:evenodd;stroke:#000000;stroke-width:1px;stroke-linecap:butt;stroke-linejoin:miter;stroke-opacity:1\"/>\n",
       "<path d=\"M 137.472,108.885 139.624,110.478\" style=\"fill:none;fill-rule:evenodd;stroke:#000000;stroke-width:1px;stroke-linecap:butt;stroke-linejoin:miter;stroke-opacity:1\"/>\n",
       "<path d=\"M 156.158,110.366 161.624,109.054\" style=\"fill:none;fill-rule:evenodd;stroke:#FF0000;stroke-width:2px;stroke-linecap:butt;stroke-linejoin:miter;stroke-opacity:1\"/>\n",
       "<path d=\"M 161.624,109.054 167.091,107.743\" style=\"fill:none;fill-rule:evenodd;stroke:#000000;stroke-width:2px;stroke-linecap:butt;stroke-linejoin:miter;stroke-opacity:1\"/>\n",
       "<path d=\"M 167.091,107.743 167.905,121.105\" style=\"fill:none;fill-rule:evenodd;stroke:#000000;stroke-width:2px;stroke-linecap:butt;stroke-linejoin:miter;stroke-opacity:1\"/>\n",
       "<path d=\"M 168.212,108.006 168.243,107.74\" style=\"fill:none;fill-rule:evenodd;stroke:#000000;stroke-width:1px;stroke-linecap:butt;stroke-linejoin:miter;stroke-opacity:1\"/>\n",
       "<path d=\"M 169.334,108.269 169.395,107.737\" style=\"fill:none;fill-rule:evenodd;stroke:#000000;stroke-width:1px;stroke-linecap:butt;stroke-linejoin:miter;stroke-opacity:1\"/>\n",
       "<path d=\"M 170.455,108.531 170.546,107.733\" style=\"fill:none;fill-rule:evenodd;stroke:#000000;stroke-width:1px;stroke-linecap:butt;stroke-linejoin:miter;stroke-opacity:1\"/>\n",
       "<path d=\"M 171.577,108.794 171.698,107.73\" style=\"fill:none;fill-rule:evenodd;stroke:#000000;stroke-width:1px;stroke-linecap:butt;stroke-linejoin:miter;stroke-opacity:1\"/>\n",
       "<path d=\"M 172.698,109.057 172.85,107.727\" style=\"fill:none;fill-rule:evenodd;stroke:#000000;stroke-width:1px;stroke-linecap:butt;stroke-linejoin:miter;stroke-opacity:1\"/>\n",
       "<path d=\"M 173.82,109.32 174.002,107.724\" style=\"fill:none;fill-rule:evenodd;stroke:#000000;stroke-width:1px;stroke-linecap:butt;stroke-linejoin:miter;stroke-opacity:1\"/>\n",
       "<path d=\"M 174.941,109.582 175.154,107.72\" style=\"fill:none;fill-rule:evenodd;stroke:#000000;stroke-width:1px;stroke-linecap:butt;stroke-linejoin:miter;stroke-opacity:1\"/>\n",
       "<path d=\"M 176.062,109.845 176.305,107.717\" style=\"fill:none;fill-rule:evenodd;stroke:#000000;stroke-width:1px;stroke-linecap:butt;stroke-linejoin:miter;stroke-opacity:1\"/>\n",
       "<path d=\"M 177.184,110.108 177.457,107.714\" style=\"fill:none;fill-rule:evenodd;stroke:#000000;stroke-width:1px;stroke-linecap:butt;stroke-linejoin:miter;stroke-opacity:1\"/>\n",
       "<path d=\"M 178.305,110.371 178.609,107.711\" style=\"fill:none;fill-rule:evenodd;stroke:#000000;stroke-width:1px;stroke-linecap:butt;stroke-linejoin:miter;stroke-opacity:1\"/>\n",
       "<path d=\"M 167.905,121.105 171.886,123.09\" style=\"fill:none;fill-rule:evenodd;stroke:#000000;stroke-width:2px;stroke-linecap:butt;stroke-linejoin:miter;stroke-opacity:1\"/>\n",
       "<path d=\"M 171.886,123.09 175.866,125.076\" style=\"fill:none;fill-rule:evenodd;stroke:#FF0000;stroke-width:2px;stroke-linecap:butt;stroke-linejoin:miter;stroke-opacity:1\"/>\n",
       "<path d=\"M 132.883,95.178 132.068,81.8165\" style=\"fill:none;fill-rule:evenodd;stroke:#000000;stroke-width:2px;stroke-linecap:butt;stroke-linejoin:miter;stroke-opacity:1\"/>\n",
       "<path d=\"M 130.088,93.3367 129.518,83.9836\" style=\"fill:none;fill-rule:evenodd;stroke:#000000;stroke-width:2px;stroke-linecap:butt;stroke-linejoin:miter;stroke-opacity:1\"/>\n",
       "<path d=\"M 132.883,95.178 121.719,102.564\" style=\"fill:none;fill-rule:evenodd;stroke:#000000;stroke-width:2px;stroke-linecap:butt;stroke-linejoin:miter;stroke-opacity:1\"/>\n",
       "<path d=\"M 132.068,81.8165 120.09,75.8411\" style=\"fill:none;fill-rule:evenodd;stroke:#000000;stroke-width:2px;stroke-linecap:butt;stroke-linejoin:miter;stroke-opacity:1\"/>\n",
       "<path d=\"M 120.09,75.8411 108.926,83.2271\" style=\"fill:none;fill-rule:evenodd;stroke:#000000;stroke-width:2px;stroke-linecap:butt;stroke-linejoin:miter;stroke-opacity:1\"/>\n",
       "<path d=\"M 119.892,79.1818 112.077,84.352\" style=\"fill:none;fill-rule:evenodd;stroke:#000000;stroke-width:2px;stroke-linecap:butt;stroke-linejoin:miter;stroke-opacity:1\"/>\n",
       "<path d=\"M 108.926,83.2271 109.74,96.5886\" style=\"fill:none;fill-rule:evenodd;stroke:#000000;stroke-width:2px;stroke-linecap:butt;stroke-linejoin:miter;stroke-opacity:1\"/>\n",
       "<path d=\"M 108.926,83.2271 96.9471,77.2517\" style=\"fill:none;fill-rule:evenodd;stroke:#000000;stroke-width:2px;stroke-linecap:butt;stroke-linejoin:miter;stroke-opacity:1\"/>\n",
       "<path d=\"M 109.74,96.5886 121.719,102.564\" style=\"fill:none;fill-rule:evenodd;stroke:#000000;stroke-width:2px;stroke-linecap:butt;stroke-linejoin:miter;stroke-opacity:1\"/>\n",
       "<path d=\"M 112.732,95.0892 121.117,99.272\" style=\"fill:none;fill-rule:evenodd;stroke:#000000;stroke-width:2px;stroke-linecap:butt;stroke-linejoin:miter;stroke-opacity:1\"/>\n",
       "<path d=\"M 109.74,96.5886 98.5759,103.975\" style=\"fill:none;fill-rule:evenodd;stroke:#000000;stroke-width:2px;stroke-linecap:butt;stroke-linejoin:miter;stroke-opacity:1\"/>\n",
       "<path d=\"M 98.5759,103.975 86.5973,97.9992\" style=\"fill:none;fill-rule:evenodd;stroke:#000000;stroke-width:2px;stroke-linecap:butt;stroke-linejoin:miter;stroke-opacity:1\"/>\n",
       "<path d=\"M 86.5973,97.9992 81.553,100.624\" style=\"fill:none;fill-rule:evenodd;stroke:#000000;stroke-width:2px;stroke-linecap:butt;stroke-linejoin:miter;stroke-opacity:1\"/>\n",
       "<path d=\"M 81.553,100.624 76.5087,103.248\" style=\"fill:none;fill-rule:evenodd;stroke:#CCCC00;stroke-width:2px;stroke-linecap:butt;stroke-linejoin:miter;stroke-opacity:1\"/>\n",
       "<path d=\"M 86.5973,97.9992 84.3907,84.796\" style=\"fill:none;fill-rule:evenodd;stroke:#000000;stroke-width:2px;stroke-linecap:butt;stroke-linejoin:miter;stroke-opacity:1\"/>\n",
       "<path d=\"M 83.6257,96.46 82.0811,87.2178\" style=\"fill:none;fill-rule:evenodd;stroke:#000000;stroke-width:2px;stroke-linecap:butt;stroke-linejoin:miter;stroke-opacity:1\"/>\n",
       "<path d=\"M 72.9358,102.421 69.0561,98.6073\" style=\"fill:none;fill-rule:evenodd;stroke:#CCCC00;stroke-width:2px;stroke-linecap:butt;stroke-linejoin:miter;stroke-opacity:1\"/>\n",
       "<path d=\"M 69.0561,98.6073 65.1764,94.7932\" style=\"fill:none;fill-rule:evenodd;stroke:#000000;stroke-width:2px;stroke-linecap:butt;stroke-linejoin:miter;stroke-opacity:1\"/>\n",
       "<path d=\"M 65.1764,94.7932 71.1519,82.8146\" style=\"fill:none;fill-rule:evenodd;stroke:#000000;stroke-width:2px;stroke-linecap:butt;stroke-linejoin:miter;stroke-opacity:1\"/>\n",
       "<path d=\"M 68.4685,94.1915 72.6513,85.8065\" style=\"fill:none;fill-rule:evenodd;stroke:#000000;stroke-width:2px;stroke-linecap:butt;stroke-linejoin:miter;stroke-opacity:1\"/>\n",
       "<path d=\"M 65.1764,94.7932 51.9733,96.9998\" style=\"fill:none;fill-rule:evenodd;stroke:#000000;stroke-width:2px;stroke-linecap:butt;stroke-linejoin:miter;stroke-opacity:1\"/>\n",
       "<path d=\"M 71.1519,82.8146 84.3907,84.796\" style=\"fill:none;fill-rule:evenodd;stroke:#000000;stroke-width:2px;stroke-linecap:butt;stroke-linejoin:miter;stroke-opacity:1\"/>\n",
       "<path d=\"M 51.9733,96.9998 43.4607,86.6688\" style=\"fill:none;fill-rule:evenodd;stroke:#000000;stroke-width:2px;stroke-linecap:butt;stroke-linejoin:miter;stroke-opacity:1\"/>\n",
       "<path d=\"M 48.6302,97.1526 42.6714,89.921\" style=\"fill:none;fill-rule:evenodd;stroke:#000000;stroke-width:2px;stroke-linecap:butt;stroke-linejoin:miter;stroke-opacity:1\"/>\n",
       "<path d=\"M 51.9733,96.9998 47.2827,109.537\" style=\"fill:none;fill-rule:evenodd;stroke:#000000;stroke-width:2px;stroke-linecap:butt;stroke-linejoin:miter;stroke-opacity:1\"/>\n",
       "<path d=\"M 43.4607,86.6688 30.2576,88.8754\" style=\"fill:none;fill-rule:evenodd;stroke:#000000;stroke-width:2px;stroke-linecap:butt;stroke-linejoin:miter;stroke-opacity:1\"/>\n",
       "<path d=\"M 30.2576,88.8754 25.567,101.413\" style=\"fill:none;fill-rule:evenodd;stroke:#000000;stroke-width:2px;stroke-linecap:butt;stroke-linejoin:miter;stroke-opacity:1\"/>\n",
       "<path d=\"M 32.0615,91.6942 28.7781,100.47\" style=\"fill:none;fill-rule:evenodd;stroke:#000000;stroke-width:2px;stroke-linecap:butt;stroke-linejoin:miter;stroke-opacity:1\"/>\n",
       "<path d=\"M 25.567,101.413 34.0795,111.744\" style=\"fill:none;fill-rule:evenodd;stroke:#000000;stroke-width:2px;stroke-linecap:butt;stroke-linejoin:miter;stroke-opacity:1\"/>\n",
       "<path d=\"M 25.567,101.413 19.7836,102.38\" style=\"fill:none;fill-rule:evenodd;stroke:#000000;stroke-width:2px;stroke-linecap:butt;stroke-linejoin:miter;stroke-opacity:1\"/>\n",
       "<path d=\"M 19.7836,102.38 14.0003,103.346\" style=\"fill:none;fill-rule:evenodd;stroke:#33CCCC;stroke-width:2px;stroke-linecap:butt;stroke-linejoin:miter;stroke-opacity:1\"/>\n",
       "<path d=\"M 34.0795,111.744 47.2827,109.537\" style=\"fill:none;fill-rule:evenodd;stroke:#000000;stroke-width:2px;stroke-linecap:butt;stroke-linejoin:miter;stroke-opacity:1\"/>\n",
       "<path d=\"M 35.6187,108.772 44.8609,107.228\" style=\"fill:none;fill-rule:evenodd;stroke:#000000;stroke-width:2px;stroke-linecap:butt;stroke-linejoin:miter;stroke-opacity:1\"/>\n",
       "<text style=\"font-size:4px;font-style:normal;font-weight:normal;fill-opacity:1;stroke:none;font-family:sans-serif;text-anchor:start;fill:#FF0000\" x=\"151.99\" y=\"113.096\"><tspan>O</tspan></text>\n",
       "<text style=\"font-size:4px;font-style:normal;font-weight:normal;fill-opacity:1;stroke:none;font-family:sans-serif;text-anchor:start;fill:#FF0000\" x=\"168.83\" y=\"80.042\"><tspan>OH</tspan></text>\n",
       "<text style=\"font-size:4px;font-style:normal;font-weight:normal;fill-opacity:1;stroke:none;font-family:sans-serif;text-anchor:start;fill:#FF0000\" x=\"143.834\" y=\"77.1888\"><tspan>OH</tspan></text>\n",
       "<text style=\"font-size:4px;font-style:normal;font-weight:normal;fill-opacity:1;stroke:none;font-family:sans-serif;text-anchor:start;fill:#FF0000\" x=\"178.857\" y=\"103.115\"><tspan>OH</tspan></text>\n",
       "<text style=\"font-size:4px;font-style:normal;font-weight:normal;fill-opacity:1;stroke:none;font-family:sans-serif;text-anchor:start;fill:#FF0000\" x=\"175.866\" y=\"129.311\"><tspan>OH</tspan></text>\n",
       "<text style=\"font-size:4px;font-style:normal;font-weight:normal;fill-opacity:1;stroke:none;font-family:sans-serif;text-anchor:start;fill:#CCCC00\" x=\"72.9358\" y=\"106.409\"><tspan>S</tspan></text>\n",
       "<text style=\"font-size:4px;font-style:normal;font-weight:normal;fill-opacity:1;stroke:none;font-family:sans-serif;text-anchor:start;fill:#33CCCC\" x=\"10.7274\" y=\"105.851\"><tspan>F</tspan></text>\n",
       "<text style=\"font-size:4px;font-style:normal;font-weight:normal;fill-opacity:1;stroke:none;font-family:sans-serif;text-anchor:start;fill:#000000\" x=\"176.927\" y=\"86.3811\"><tspan>H</tspan></text>\n",
       "<text style=\"font-size:4px;font-style:normal;font-weight:normal;fill-opacity:1;stroke:none;font-family:sans-serif;text-anchor:start;fill:#000000\" x=\"154.414\" y=\"75.1509\"><tspan>H</tspan></text>\n",
       "<text style=\"font-size:4px;font-style:normal;font-weight:normal;fill-opacity:1;stroke:none;font-family:sans-serif;text-anchor:start;fill:#000000\" x=\"137.593\" y=\"87.1303\"><tspan>H</tspan></text>\n",
       "<text style=\"font-size:4px;font-style:normal;font-weight:normal;fill-opacity:1;stroke:none;font-family:sans-serif;text-anchor:start;fill:#000000\" x=\"134.963\" y=\"114.143\"><tspan>H</tspan></text>\n",
       "<text style=\"font-size:4px;font-style:normal;font-weight:normal;fill-opacity:1;stroke:none;font-family:sans-serif;text-anchor:start;fill:#000000\" x=\"178.457\" y=\"111.492\"><tspan>H</tspan></text>\n",
       "<text style=\"font-size:12px;font-style:normal;font-weight:normal;fill-opacity:1;stroke:none;font-family:sans-serif;text-anchor:start;fill:#000000\" x=\"73.9688\" y=\"194\"><tspan>444.524</tspan></text>\n",
       "</g>\n",
       "<g transform=\"translate(400,200)\"><rect height=\"200\" style=\"opacity:1.0;fill:#FFFFFF;stroke:none\" width=\"200\" x=\"0\" y=\"0\"> </rect>\n",
       "<path d=\"M 108.743,101.424 98.5147,101.008\" style=\"fill:none;fill-rule:evenodd;stroke:#0000FF;stroke-width:2px;stroke-linecap:butt;stroke-linejoin:miter;stroke-opacity:1\"/>\n",
       "<path d=\"M 98.5147,101.008 88.2862,100.592\" style=\"fill:none;fill-rule:evenodd;stroke:#000000;stroke-width:2px;stroke-linecap:butt;stroke-linejoin:miter;stroke-opacity:1\"/>\n",
       "<path d=\"M 114.858,105.553 120.165,113.518\" style=\"fill:none;fill-rule:evenodd;stroke:#0000FF;stroke-width:2px;stroke-linecap:butt;stroke-linejoin:miter;stroke-opacity:1\"/>\n",
       "<path d=\"M 120.165,113.518 125.471,121.483\" style=\"fill:none;fill-rule:evenodd;stroke:#000000;stroke-width:2px;stroke-linecap:butt;stroke-linejoin:miter;stroke-opacity:1\"/>\n",
       "<path d=\"M 115.354,97.5753 121.199,90.1819\" style=\"fill:none;fill-rule:evenodd;stroke:#0000FF;stroke-width:2px;stroke-linecap:butt;stroke-linejoin:miter;stroke-opacity:1\"/>\n",
       "<path d=\"M 121.199,90.1819 127.044,82.7885\" style=\"fill:none;fill-rule:evenodd;stroke:#000000;stroke-width:2px;stroke-linecap:butt;stroke-linejoin:miter;stroke-opacity:1\"/>\n",
       "<path d=\"M 88.2862,100.592 77.1708,79.3954\" style=\"fill:none;fill-rule:evenodd;stroke:#000000;stroke-width:2px;stroke-linecap:butt;stroke-linejoin:miter;stroke-opacity:1\"/>\n",
       "<path d=\"M 88.2862,100.592 75.4869,120.817\" style=\"fill:none;fill-rule:evenodd;stroke:#000000;stroke-width:2px;stroke-linecap:butt;stroke-linejoin:miter;stroke-opacity:1\"/>\n",
       "<path d=\"M 125.471,121.483 148.516,115.018\" style=\"fill:none;fill-rule:evenodd;stroke:#000000;stroke-width:2px;stroke-linecap:butt;stroke-linejoin:miter;stroke-opacity:1\"/>\n",
       "<path d=\"M 123.227,120.652 119.808,129.879\" style=\"fill:none;fill-rule:evenodd;stroke:#000000;stroke-width:2px;stroke-linecap:butt;stroke-linejoin:miter;stroke-opacity:1\"/>\n",
       "<path d=\"M 119.808,129.879 116.39,139.106\" style=\"fill:none;fill-rule:evenodd;stroke:#FF0000;stroke-width:2px;stroke-linecap:butt;stroke-linejoin:miter;stroke-opacity:1\"/>\n",
       "<path d=\"M 127.715,122.315 124.297,131.542\" style=\"fill:none;fill-rule:evenodd;stroke:#000000;stroke-width:2px;stroke-linecap:butt;stroke-linejoin:miter;stroke-opacity:1\"/>\n",
       "<path d=\"M 124.297,131.542 120.878,140.769\" style=\"fill:none;fill-rule:evenodd;stroke:#FF0000;stroke-width:2px;stroke-linecap:butt;stroke-linejoin:miter;stroke-opacity:1\"/>\n",
       "<path d=\"M 127.044,82.7885 149.488,91.1031\" style=\"fill:none;fill-rule:evenodd;stroke:#000000;stroke-width:2px;stroke-linecap:butt;stroke-linejoin:miter;stroke-opacity:1\"/>\n",
       "<path d=\"M 129.348,82.1419 126.675,72.6142\" style=\"fill:none;fill-rule:evenodd;stroke:#000000;stroke-width:2px;stroke-linecap:butt;stroke-linejoin:miter;stroke-opacity:1\"/>\n",
       "<path d=\"M 126.675,72.6142 124.002,63.0864\" style=\"fill:none;fill-rule:evenodd;stroke:#FF0000;stroke-width:2px;stroke-linecap:butt;stroke-linejoin:miter;stroke-opacity:1\"/>\n",
       "<path d=\"M 124.74,83.435 122.066,73.9072\" style=\"fill:none;fill-rule:evenodd;stroke:#000000;stroke-width:2px;stroke-linecap:butt;stroke-linejoin:miter;stroke-opacity:1\"/>\n",
       "<path d=\"M 122.066,73.9072 119.393,64.3795\" style=\"fill:none;fill-rule:evenodd;stroke:#FF0000;stroke-width:2px;stroke-linecap:butt;stroke-linejoin:miter;stroke-opacity:1\"/>\n",
       "<path d=\"M 77.1708,79.3954 68.671,79.0498\" style=\"fill:none;fill-rule:evenodd;stroke:#000000;stroke-width:2px;stroke-linecap:butt;stroke-linejoin:miter;stroke-opacity:1\"/>\n",
       "<path d=\"M 68.671,79.0498 60.1712,78.7043\" style=\"fill:none;fill-rule:evenodd;stroke:#0000FF;stroke-width:2px;stroke-linecap:butt;stroke-linejoin:miter;stroke-opacity:1\"/>\n",
       "<path d=\"M 79.1933,80.6753 84.3306,72.5575\" style=\"fill:none;fill-rule:evenodd;stroke:#000000;stroke-width:2px;stroke-linecap:butt;stroke-linejoin:miter;stroke-opacity:1\"/>\n",
       "<path d=\"M 84.3306,72.5575 89.468,64.4398\" style=\"fill:none;fill-rule:evenodd;stroke:#FF0000;stroke-width:2px;stroke-linecap:butt;stroke-linejoin:miter;stroke-opacity:1\"/>\n",
       "<path d=\"M 75.1483,78.1154 80.2857,69.9977\" style=\"fill:none;fill-rule:evenodd;stroke:#000000;stroke-width:2px;stroke-linecap:butt;stroke-linejoin:miter;stroke-opacity:1\"/>\n",
       "<path d=\"M 80.2857,69.9977 85.4231,61.8799\" style=\"fill:none;fill-rule:evenodd;stroke:#FF0000;stroke-width:2px;stroke-linecap:butt;stroke-linejoin:miter;stroke-opacity:1\"/>\n",
       "<path d=\"M 75.4869,120.817 51.5723,119.845\" style=\"fill:none;fill-rule:evenodd;stroke:#000000;stroke-width:2px;stroke-linecap:butt;stroke-linejoin:miter;stroke-opacity:1\"/>\n",
       "<path d=\"M 148.516,115.018 168.74,127.817\" style=\"fill:none;fill-rule:evenodd;stroke:#000000;stroke-width:2px;stroke-linecap:butt;stroke-linejoin:miter;stroke-opacity:1\"/>\n",
       "<path d=\"M 154.109,112.893 168.266,121.852\" style=\"fill:none;fill-rule:evenodd;stroke:#000000;stroke-width:2px;stroke-linecap:butt;stroke-linejoin:miter;stroke-opacity:1\"/>\n",
       "<path d=\"M 148.516,115.018 149.488,91.1031\" style=\"fill:none;fill-rule:evenodd;stroke:#000000;stroke-width:2px;stroke-linecap:butt;stroke-linejoin:miter;stroke-opacity:1\"/>\n",
       "<path d=\"M 149.488,91.1031 170.685,79.9877\" style=\"fill:none;fill-rule:evenodd;stroke:#000000;stroke-width:2px;stroke-linecap:butt;stroke-linejoin:miter;stroke-opacity:1\"/>\n",
       "<path d=\"M 154.89,93.6752 169.728,85.8944\" style=\"fill:none;fill-rule:evenodd;stroke:#000000;stroke-width:2px;stroke-linecap:butt;stroke-linejoin:miter;stroke-opacity:1\"/>\n",
       "<path d=\"M 50.7317,82.4122 45.5943,90.53\" style=\"fill:none;fill-rule:evenodd;stroke:#0000FF;stroke-width:2px;stroke-linecap:butt;stroke-linejoin:miter;stroke-opacity:1\"/>\n",
       "<path d=\"M 45.5943,90.53 40.4569,98.6477\" style=\"fill:none;fill-rule:evenodd;stroke:#000000;stroke-width:2px;stroke-linecap:butt;stroke-linejoin:miter;stroke-opacity:1\"/>\n",
       "<path d=\"M 51.5723,119.845 40.4569,98.6477\" style=\"fill:none;fill-rule:evenodd;stroke:#000000;stroke-width:2px;stroke-linecap:butt;stroke-linejoin:miter;stroke-opacity:1\"/>\n",
       "<path d=\"M 168.74,127.817 189.937,116.702\" style=\"fill:none;fill-rule:evenodd;stroke:#000000;stroke-width:2px;stroke-linecap:butt;stroke-linejoin:miter;stroke-opacity:1\"/>\n",
       "<path d=\"M 170.685,79.9877 190.909,92.787\" style=\"fill:none;fill-rule:evenodd;stroke:#000000;stroke-width:2px;stroke-linecap:butt;stroke-linejoin:miter;stroke-opacity:1\"/>\n",
       "<path d=\"M 170.685,79.9877 171.081,70.2244\" style=\"fill:none;fill-rule:evenodd;stroke:#000000;stroke-width:2px;stroke-linecap:butt;stroke-linejoin:miter;stroke-opacity:1\"/>\n",
       "<path d=\"M 171.081,70.2244 171.478,60.4611\" style=\"fill:none;fill-rule:evenodd;stroke:#0000FF;stroke-width:2px;stroke-linecap:butt;stroke-linejoin:miter;stroke-opacity:1\"/>\n",
       "<path d=\"M 40.5541,96.2563 30.4596,95.8459\" style=\"fill:none;fill-rule:evenodd;stroke:#000000;stroke-width:2px;stroke-linecap:butt;stroke-linejoin:miter;stroke-opacity:1\"/>\n",
       "<path d=\"M 30.4596,95.8459 20.3652,95.4355\" style=\"fill:none;fill-rule:evenodd;stroke:#FF0000;stroke-width:2px;stroke-linecap:butt;stroke-linejoin:miter;stroke-opacity:1\"/>\n",
       "<path d=\"M 40.3597,101.039 30.2652,100.629\" style=\"fill:none;fill-rule:evenodd;stroke:#000000;stroke-width:2px;stroke-linecap:butt;stroke-linejoin:miter;stroke-opacity:1\"/>\n",
       "<path d=\"M 30.2652,100.629 20.1707,100.218\" style=\"fill:none;fill-rule:evenodd;stroke:#FF0000;stroke-width:2px;stroke-linecap:butt;stroke-linejoin:miter;stroke-opacity:1\"/>\n",
       "<path d=\"M 189.937,116.702 190.909,92.787\" style=\"fill:none;fill-rule:evenodd;stroke:#000000;stroke-width:2px;stroke-linecap:butt;stroke-linejoin:miter;stroke-opacity:1\"/>\n",
       "<path d=\"M 185.3,112.92 185.98,96.1798\" style=\"fill:none;fill-rule:evenodd;stroke:#000000;stroke-width:2px;stroke-linecap:butt;stroke-linejoin:miter;stroke-opacity:1\"/>\n",
       "<text style=\"font-size:7px;font-style:normal;font-weight:normal;fill-opacity:1;stroke:none;font-family:sans-serif;text-anchor:start;fill:#0000FF\" x=\"108.743\" y=\"105.553\"><tspan>N</tspan></text>\n",
       "<text style=\"font-size:7px;font-style:normal;font-weight:normal;fill-opacity:1;stroke:none;font-family:sans-serif;text-anchor:start;fill:#FF0000\" x=\"113.431\" y=\"147.916\"><tspan>O</tspan></text>\n",
       "<text style=\"font-size:7px;font-style:normal;font-weight:normal;fill-opacity:1;stroke:none;font-family:sans-serif;text-anchor:start;fill:#FF0000\" x=\"116.853\" y=\"63.7329\"><tspan>O</tspan></text>\n",
       "<text style=\"font-size:7px;font-style:normal;font-weight:normal;fill-opacity:1;stroke:none;font-family:sans-serif;text-anchor:start;fill:#0000FF\" x=\"46.3412\" y=\"82.4122\"><tspan>NH</tspan></text>\n",
       "<text style=\"font-size:7px;font-style:normal;font-weight:normal;fill-opacity:1;stroke:none;font-family:sans-serif;text-anchor:start;fill:#FF0000\" x=\"86.2444\" y=\"63.1599\"><tspan>O</tspan></text>\n",
       "<text style=\"font-size:7px;font-style:normal;font-weight:normal;fill-opacity:1;stroke:none;font-family:sans-serif;text-anchor:start;fill:#FF0000\" x=\"12.8166\" y=\"101.665\"><tspan>O</tspan></text>\n",
       "<text style=\"font-size:7px;font-style:normal;font-weight:normal;fill-opacity:1;stroke:none;font-family:sans-serif;text-anchor:start;fill:#0000FF\" x=\"163.41\" y=\"60.4611\"><tspan>NH</tspan><tspan style=\"baseline-shift:sub;font-size:5.25px;\">2</tspan><tspan/></text>\n",
       "<text style=\"font-size:12px;font-style:normal;font-weight:normal;fill-opacity:1;stroke:none;font-family:sans-serif;text-anchor:start;fill:#000000\" x=\"73.9688\" y=\"194\"><tspan>273.248</tspan></text>\n",
       "</g></svg>"
      ],
      "text/plain": [
       "<IPython.core.display.SVG object>"
      ]
     },
     "execution_count": 23,
     "metadata": {},
     "output_type": "execute_result"
    }
   ],
   "source": [
    "PandasTools.FrameToGridImage(cpds.tail(6), legendsCol='mw', molsPerRow=3)"
   ]
  },
  {
   "cell_type": "markdown",
   "metadata": {},
   "source": [
    "<br>\n",
    "<br>\n",
    "<br>\n",
    "<br>\n",
    "<br>\n",
    "<br>\n",
    "## Murcko scaffold decomposition \n",
    "Bemis, G. W.; Murcko, M. A. “The Properties of Known Drugs. 1. Molecular Frameworks.” J. Med. Chem. 39:2887-93 (1996).  \n",
    "\n",
    "Decomposition of molecules to scaffolds or generic frameworks\n",
    "\n",
    "**Functionality present in RDKit. Added it to PandasTools**\n",
    "<br>\n",
    "<br>\n",
    "<br>\n",
    "<br>\n",
    "<br>\n",
    "<br>"
   ]
  },
  {
   "cell_type": "code",
   "execution_count": 24,
   "metadata": {
    "collapsed": false
   },
   "outputs": [],
   "source": [
    "from rdkit.Chem.Scaffolds import MurckoScaffold"
   ]
  },
  {
   "cell_type": "markdown",
   "metadata": {},
   "source": [
    "How it works with RDKit:"
   ]
  },
  {
   "cell_type": "code",
   "execution_count": 25,
   "metadata": {
    "collapsed": false
   },
   "outputs": [],
   "source": [
    "scaffold = MurckoScaffold.GetScaffoldForMol(mol)\n",
    "generic = MurckoScaffold.MakeScaffoldGeneric(MurckoScaffold.GetScaffoldForMol(mol))"
   ]
  },
  {
   "cell_type": "code",
   "execution_count": 26,
   "metadata": {
    "collapsed": false
   },
   "outputs": [
    {
     "data": {
      "image/png": "[encoded data removed]",
      "text/plain": [
       "<rdkit.Chem.rdchem.Mol at 0x7f7d959c1de0>"
      ]
     },
     "execution_count": 26,
     "metadata": {},
     "output_type": "execute_result"
    }
   ],
   "source": [
    "mol"
   ]
  },
  {
   "cell_type": "code",
   "execution_count": 27,
   "metadata": {
    "collapsed": false
   },
   "outputs": [
    {
     "data": {
      "image/png": "[encoded data removed]",
      "text/plain": [
       "<rdkit.Chem.rdchem.Mol at 0x7f7d954c8a60>"
      ]
     },
     "execution_count": 27,
     "metadata": {},
     "output_type": "execute_result"
    }
   ],
   "source": [
    "scaffold"
   ]
  },
  {
   "cell_type": "code",
   "execution_count": 28,
   "metadata": {
    "collapsed": false
   },
   "outputs": [
    {
     "data": {
      "image/png": "[encoded data removed]",
      "text/plain": [
       "<rdkit.Chem.rdchem.Mol at 0x7f7d8e6fdd00>"
      ]
     },
     "execution_count": 28,
     "metadata": {},
     "output_type": "execute_result"
    }
   ],
   "source": [
    "generic"
   ]
  },
  {
   "cell_type": "markdown",
   "metadata": {},
   "source": [
    "### AddMurckoToFrame(pandasFrame, MurcoCol=, Generic=False)  \n",
    "Returns SMILES of scaffolds (or generic frameworks)"
   ]
  },
  {
   "cell_type": "code",
   "execution_count": 29,
   "metadata": {
    "collapsed": false
   },
   "outputs": [
    {
     "name": "stdout",
     "output_type": "stream",
     "text": [
      "CPU times: user 420 ms, sys: 33.3 ms, total: 453 ms\n",
      "Wall time: 450 ms\n"
     ]
    }
   ],
   "source": [
    "% time PandasTools.AddMurckoToFrame(cpds)"
   ]
  },
  {
   "cell_type": "code",
   "execution_count": 30,
   "metadata": {
    "collapsed": false
   },
   "outputs": [
    {
     "name": "stdout",
     "output_type": "stream",
     "text": [
      "CPU times: user 883 ms, sys: 13.3 ms, total: 897 ms\n",
      "Wall time: 880 ms\n"
     ]
    }
   ],
   "source": [
    "% time PandasTools.AddMurckoToFrame(cpds, MurckoCol='Murcko_GENERIC', Generic=True)"
   ]
  },
  {
   "cell_type": "code",
   "execution_count": 31,
   "metadata": {
    "collapsed": false
   },
   "outputs": [
    {
     "data": {
      "text/html": [
       "<table border=\"1\" class=\"dataframe\">\n",
       "  <thead>\n",
       "    <tr style=\"text-align: right;\">\n",
       "      <th></th>\n",
       "      <th>DRUGBANK_ID</th>\n",
       "      <th>SMILES</th>\n",
       "      <th>ROMol</th>\n",
       "      <th>logp</th>\n",
       "      <th>mw</th>\n",
       "      <th>Murcko_SMILES</th>\n",
       "      <th>Murcko_GENERIC</th>\n",
       "    </tr>\n",
       "  </thead>\n",
       "  <tbody>\n",
       "    <tr>\n",
       "      <th>6</th>\n",
       "      <td>DB00116</td>\n",
       "      <td>NC1=NC(=O)C2=C(NCC(CNC3=CC=C(C=C3)C(=O)N[C@@H](CCC(O)=O)C(O)=O)N2)N1</td>\n",
       "      <td><img src=\"data:image/png;base64,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\" alt=\"Mol\"/></td>\n",
       "      <td>-0.282</td>\n",
       "      <td>445.436</td>\n",
       "      <td>O=c1nc[nH]c2c1NC(CNc1ccccc1)CN2</td>\n",
       "      <td>CC1CCCC2CCC(CCC3CCCCC3)CC12</td>\n",
       "    </tr>\n",
       "  </tbody>\n",
       "</table>"
      ],
      "text/plain": [
       "  DRUGBANK_ID                                                                SMILES                                                                                                                                                                                                                                                                                                                                                                                                                                                                                                                                                                                                                                                                                                                                                                                                                                                                                                                                                                                                                                                                                                                                                                                                                                                                                                                                                                                                                                                                                                                                                                                                                                                                                                                                                                                                                                                                                                                                                                                                                                                                                                                                                                                                                                                                                                                                                                                                                                                                                                                                                                                                                                                                                                                                                                                                                                                                                                                                                                                                                                                                                                                                                                                                                                                                                                                                                                                                                                                                                                                                                                                                                                                                                                                                                                                                                                                                                                                                                                                                                                                                                                                                                                                                                                                                                                                                                                                                                                                                                                                                                                                                                                                                                                                                                                                                                                                                                                                                                                                                                                                                                                                                                                                                                                                                                                                                                                                                                                                                                                                                                                                                                                                                                                                                                                                                                                                                                                                                                                                                                                                                                                                                                                                                                                                                                                              ROMol   logp       mw                    Murcko_SMILES               Murcko_GENERIC\n",
       "6     DB00116  NC1=NC(=O)C2=C(NCC(CNC3=CC=C(C=C3)C(=O)N[C@@H](CCC(O)=O)C(O)=O)N2)N1  <img src=\"data:image/png;base64,iVBORw0KGgoAAAANSUhEUgAAAMgAAADICAYAAACtWK6eAAARaklEQVR4nO3dfVBU9f4H8M8KiCAi4GWSB594EC3F0Qa7XjVCEc2xG2NXa0rqDwhGTPxNDyB2vWpPmmOlNNZ4yylqMt00B/SajyWG6f15RUVIUxxLuYkQEhpPIvu+f2y77CL7Zdld2IXer5kdzznLfvgynvees3vO5xwNAAgRtauPswdA5MoYECIFBoRIgQEhUmBAiBQYECIFBoRIgQEhUmBAiBQYECIFBoRIgQEhUmBAiBQYECIFBoRIgQEhUmBAiBQYECIFBoRIgQEhUmBAiBQYECIFBoRIgQEhUmBAiBQYECIFBoRIgQEhUmBAiBQYECIFBoRIgQEhUmBAiBQYECIFBoRIgQEhUmBAiBQYECIFBoRIgQEhUmBAiBQYECIFBoRIgQEhUmBAiBQYECIFBoRIgQEhUmBAiBQYECIFBoRIgQEhUmBAiBQYECIFBoRIgQEhUmBAiBQYECIFBoS6T0GByNCh+kdBQdfV02jan7aBBgDsqkBkrehokTfe0K+02dkixcUijY0i/fo5rp6Ift6wWptO24ABoe7j5SVSW6tfYf38RKqqREaPFlmwQGTZMpEBA+yr19CgX952q2HHKs5dLOo+EREi+/eLHDwoEhkp4uMjsmmTSH6+SFSU4OOPRafTqWu0tFiuZwqwKxgmdYi6yaFDQGio/vH1163Lm5uB999H7sMPIyYmBkePHr37tQ0NwGuvAWPGAI2N6nqmq7WdqzgDQs6xdSvQ1GS2qLa2Fi+99BI8PT3x5JNP4sqVKwCAhrw8ICwMCAkBPvsM0Om6bZj8DELdr6JCZMIEkf79RdatE3n0UbOny8rK5MUXX5TExETZsmWLDLl9WzZPnqz/nNK/f7cOlZ9BqPsNHixy4YLIvHkiTzwhVx9/XEpKSoxPh4WFyYgRIyQ1NVUCAgJk+ccfi7z+ereHQ4QBIWfx8dF/Rfv997Ljnntk/Pjx8txzz0l1dbUcOnRICgsLpaCgQLZu3SrDhw932jAZEHKuESPk/3JyZP/+/VJYWCgjR46Ub7/9Vurq6mTSpEnOHp24O3sARCIicXFxcvLkSfnoo48E+i+PnD0kEeEWhFyIm5ubpKSkiLe3NwNCZIlGo2FAiCxhQIgUGBAiBQaESIEBIVJgQIgUNBpNx6e9dxMGhFzOxYsXXSYgPJJOLqO8vFyWLl0qX3zxhWzbts3ZwxERbkHIBdy8eVOWLFki4eHh0qdPH7l06ZIkJiY6e1giwi0IOZFOp5MPP/xQVq1aJQEBAbJ3716Ji4tz9rDMcAtCljn6Mj0mvvvuO3nggQckMzNTMjMz5dSpUy4XDhFuQUhl8WKR997TXyVk8eLWy+rY4erVq/LCCy/Izp07JT09Xfbu3SuDBg1ywGC7BltuyTJLl9WxUWVlpURHR0twcLDk5OTIlClTHDPOLsQtCFlmuKyORnP3ZXVs8Omnn0pISIicOHFC+vTpGXv3DAhZtmGDyDPP6Kc/+cTuchqNRnx8fHpMOEQYEFKZNk3k6lWHlXOlU0is1XOiTN3nnXdEiopa5z//XGTPHrvLMiDUO2zeLHL2bOt8fr7I11/bXZYBod6h7RXR7bxCemsZBoR6IwaEqNX2++6TH0zu2bE7JEQOOeBgHgNCvcKr587J0fp64/y2a9dkV1WV3XUZEOoV2q7IjlqxHR6QbrgFG4+D0F16TEC64FyxthiQXiIvL09OnDghoaGh8uyzz4qbm5vNtRISEqS5uVlSUlJEo9FIZGSkBAcHd6pGUVGRvP322zJw4EDx9fUVPz8/qayslJaWFtmxY4c89thjNo/P6OJFkYQE/RcIf/ub+XN2bjmMuutGJNQ1zp07h4SEBONNZwYNGoTo6Gh8bXrHpU64fv06kpOT4ebmhrlz52LKlCnw9vbGqlWrUF9fb3UdnU6HiRMnQkSMj9jYWCxfvhxeXl6IjY1FUVGRTWM0GjMG2LUL2L0bGDu2dTnvMEWVlZVISkpCnz59kJSUhPLycgDAb7/9hhUrVqBfv36Ij4/H2bNnrarX0NCAFStWwNvbGzNnzsT3339vfG7btm0YNmwYEhM3YOtW62/wdOzYMWg0GmNAvvnmGwBAVVUVMjIy4O7ujnnz5uHy5cvWFTx8GJg+Hbh5Uz/PW7BRW83NzVi/fj38/f0xbtw4HD58uN2fu3LlCpKSkuDh4YHU1FRUVVVZrKnVahEeHo4RI0YgPz+/3Z+pr6/H6tWNGDAAmDoVsPbNf8GCBcatR1tFRUWIjY2Fl5cXsrKycNOw4rd17Rrw1FOAhwewZAlQW2vdL3cABqQH2bdvH0aNGoXAwEDk5uaipaXF7Pny8nIcOnTIbNnx48cxadIkBAQEYP369bhz547xuZKSEkyfPh0DBgzAmjVrrNqFunYNSE0FRo4EDKVEgOXLW6dN/y0vL4dI/7vGZSo/Px/h4eEIDg7Gpk2bjH9XQ0MDVq9ejZRp04D4eKC0tMPxOVrPCsjhw8CQIfqHhXfO3ujy5cuYM2cO3NzckJGRgRs3bpg939jYiDfeeAM+Pj5ITEy86/U6nQ5arRZDhw7F6NGjsX37dmRkZKBv375mu2ed0dDQOi0CBAQAP/xwd0D00zs7rFdXV2fcxZs6dSrefPNNDB8+HGFhYdi5s+PXd5WeFZCxY9v/UNaL3bx5E7GxsYiJicHx48fNntPpdMjNzUVISIhy98igpqYGzz//PEJCQhAZGYmDBw86ZIwiQHa2/uOBaUBMH9YoKirCokWLsGDBAjzyyCPIzs5GcnIy6urqHDJOW/SsgPTrp791cGOjfvoP4MKFCxAR1NTUmC0/ffo0HnzwQfj4+Ch3j3Q6HQ4cOIBbt24Zl40aNQq5ubkOG6MIUFMD+PlZ2oJYV+fLL7/EkCFDjPNlZWXt/u3dqWcdSTe0gB486JAW0J5A8/v3+YZ/q6qq5Omnn5YJEybIsGHD5Pz585KVlSVeXl7tvr6lpUVmzJghly5dMqupcdRxgt/5+YlkZdlXo70DlCLi1NNTetaBQge3gPYEbVeSnJwcOXHihOzZs0dmzpzZ6dcbljlypTOUWrpU/zBd1nZaxRUD0jO2IP/8p/6oqaEFdMMGEZOzTXuztitJdna2FBcXWxWO9l5vWObMlc6SSE9PSZ8wwTg/UKORrNhY6ceAdOC118w73DZv1u9q/QG0XcG9vb3Fw8PD5tcblrliQO5tbpZl//mPcT5Ao5E1BQXizYBQR2xdoXtSQNrtZBRxSLOWrRgQF+eoD9MMiG16REB2RUdLuaencf7I0KFSOnCgE0fUfdpuAW7fvt3pe2d01enrDhcUJPLII63z3t4i8+aJmPzfd7ceEZBFxcXy/01Nxvk3r1yR7bW1ThxR92kbkLfeektiYmLkyJEjdtV0yYBMmCDywQet84MGiWi1Ik58M+wRAekqGo3IP/7ROm36b9tpZ2kbkIULF8qMGTMkISFBZsyYIaWlpVbV6BFbEIMuvKp8Z/2hAyIisnGjyIULzh6FZW0D4ufnJ2vWrJGzZ8+Kv7+/jB8/XtLS0uSXX36xWOPixYsybtw44zz0Z1B07cDtYegUfP99/bQT9YiAxMTESHV1tWRnZ8uyZcskIiJChg4d6pDaaWki6enmyzQa27Ye+/btk9GjR8uYMWNk5cqV0mDn1dDLysokLS1Nhg0bJsnJyXLBJMmRkZGi1Wrlq6++kmPHjklUVJRs2LBB7ty5c1edsLAw8fT0lOrqaklPT5eamhqZNWuWXWPrUoZOwfh4/bQzdcsJLXaoqKhASkoK3NzcMGvWLERGRmLw4MHYvHnzXad7W+PXX1unHXUO0c8//4ykpCS4ubkhOTkZOTk5CA0NxciRI7F79+5Oj/HWLWDpUiA2NhmPP/44zpw5g4yMDHh4eCApKQkVFRVmP9/U1IS1a9fC19cX06dPv6ueoRmqf//+mDVrFs6fP9/pMXUrS52CTuCyAWlqAtata0FY2Ejcf//9KCwsBAC0tLQgNzcXgYGBGDVqFPbs2WNVvZYW4IMPgEGDgH379MsMAVi92raA3Lp1C1lZWfDy8sLs2bPNVry6ujq8+uqrmD59IRISgDNnrBomAGDOHGD8eODIkTtmy0+ePImpU6fCx8cHK1asQGNjo9nzFRUV2Lt3r9kyrVaLiIgIq872dRmWOgWdwCUDsmuXviFn8GBgy5YL7W4pbty4YWzbnDNnDsrKyizWO3UK+POfAX9/4N13gebmjsdQXKx/A7MkNzcXoaGhCA8PV654P/8MPPMM4O4OpKQA1693/LuvXWttRmpPfn4+hg8fjoiICGi1WgvjL8a0adM6PNuX1FwiIG070vr2BTIzreusPH/+PGbPng0PDw9kZGSg1uRF1dXVSE9Px0MPLUJqKqDoOr3Lli3AgAFAQkILzp49Z1xeXFyMhx56CL6+vli/fj1u375tVb1//xuIiwOuXGn9Oy114bWdbk99fT3WrFkDHx8fxMXF4fTp0wD0/d6pqanG3TFbmqGolcsExLQj7eLFztcwtG0GBQVh48aNWL16Nfz8/DB58mSc6cz+jYlr14Bly76Fu7s7nnrqKSxevBienp6YP38+fvrpJ5tqGnTchWddnbKyMiQmJsLDwwPz5s1DUFAQoqKirN71JDWXCUjbjjRb1NXVYeXKlfDz84O/vz82btxo0wf5tk6dOoWYmBiMGzcOBQUFdtcDHNeFZ3Dw4EG8/PLLWLt2LZqamhwyRgJc4iaeGo1ITY3IiBEiv/7a+VNvzp07J/fcc48EBASIiMgTTzwhgYGB8u677zpsjJmZmfLjjz+KVqt1SL32/mbTU5EcdEF1spPLHAexpyNt/vz5kpeXZ5x3c3MTd3fX7wVzRBcedS2XCIhpR9of5V2zvb/Zli486louEZCxY0WOH2+db2gQaW523niIDFwiID/+aH6P+vh4/ak4RM7mEgEhclUMCJGCSwTkvvtmibv7KeN8aOgi8fbe7sQREem5REBKS4/KnTu/GufLy09Lff1/nTcgot+5RECIXJXLHE1raWkxTiclJUl0dLTVr92xY4cEBgaa1WqvcYio05x5nsulS5cwd+5chIaGIioqCvv377erXkNDA1555ZUuORdr4sSJeOedd+yuRT2LUwJSW9uErKwseHp6Ij4+HkePHsWSJUvg4eGBRx99FGVlVztVT6fTn57+l7+UYcyYsdi+fTu0Wi2GDBmCqKgoHDhwwKZxXr0KZGd/i759+2LhwoWorq62qQ71XN0aEJ0O+OQTIChIh4cffgZ5eXlmz5eWluKvf52L4ODryMpqvRVdR44fB3x9gXXrANP2DHv6QT76CPDy0veDlJS4eIsqdZluC8iZM8Dkyfr+73Xr9C21lvzrX8C99wJBQcDnn1tX37TXvK3Tp/X31etMR2FJibqjkP4YbA5Ie809hm7AtLTWedOuubQ0oLLSuvrNzcB77wGbNpn/Hlu78HQ64LPPgJAQwHBjJXu7+qj3s7kfxFLvQkmJyKRJIrdu6ZcHBIgcOyYSFWX/Gart1etsD0VjY+udExxRj3o3u77mbe/aUbt2icyd2zrf3nWn7GHpOlbWantbEXvrUe/m0C3I66+LfPqpSGGhyJ/+ZH+nYHu/05FdeOzqo4449Ej63/8u8sMPIoGB+l0ZEcd3zbl6PepdXKInnchV8VwsIgUGhEiBASFSYECIFBgQIgUGhEiBASFSYECIFBgQIgUGhEiBASFSYECIFBgQIgUGhEiBASFSYECIFBgQIgUGhEiBASFSYECIFBgQIgUGhEiBASFSYECIFBgQIgUGhEiBASFSYECIFBgQIgUGhEiBASFSYECIFBgQIgUGhEiBASFSYECIFBgQIgUGhEiBASFSYECIFBgQIgUGhEiBASFSYECIFBgQIgUGhEiBASFSYECIFBgQIgUGhEiBASFSYECIFBgQIgUGhEiBASFSYECIFBgQIgUGhEjhfygAIk03bgicAAAAAElFTkSuQmCC\" alt=\"Mol\"/> -0.282  445.436  O=c1nc[nH]c2c1NC(CNc1ccccc1)CN2  CC1CCCC2CCC(CCC3CCCCC3)CC12"
      ]
     },
     "execution_count": 31,
     "metadata": {},
     "output_type": "execute_result"
    }
   ],
   "source": [
    "cpds.head(1)"
   ]
  },
  {
   "cell_type": "markdown",
   "metadata": {},
   "source": [
    "Now we can use pandas groupby() functionality and group by scaffolds and create a **new frame** with scaffolds sorted by number of members"
   ]
  },
  {
   "cell_type": "code",
   "execution_count": 32,
   "metadata": {
    "collapsed": false
   },
   "outputs": [
    {
     "name": "stderr",
     "output_type": "stream",
     "text": [
      "-c:1: FutureWarning: sort(columns=....) is deprecated, use sort_values(by=.....)\n"
     ]
    }
   ],
   "source": [
    "sortedScaffolds = cpds.groupby(['Murcko_SMILES']).count().sort(smiles, ascending=False)"
   ]
  },
  {
   "cell_type": "code",
   "execution_count": 33,
   "metadata": {
    "collapsed": false
   },
   "outputs": [
    {
     "data": {
      "text/html": [
       "<table border=\"1\" class=\"dataframe\">\n",
       "  <thead>\n",
       "    <tr style=\"text-align: right;\">\n",
       "      <th></th>\n",
       "      <th>count</th>\n",
       "      <th>Murcko_SMILES</th>\n",
       "    </tr>\n",
       "  </thead>\n",
       "  <tbody>\n",
       "    <tr>\n",
       "      <th>0</th>\n",
       "      <td>114</td>\n",
       "      <td>c1ccccc1</td>\n",
       "    </tr>\n",
       "    <tr>\n",
       "      <th>1</th>\n",
       "      <td>111</td>\n",
       "      <td></td>\n",
       "    </tr>\n",
       "    <tr>\n",
       "      <th>2</th>\n",
       "      <td>18</td>\n",
       "      <td>O=C1C=CC2C(=C1)CCC1C3CCCC3CCC21</td>\n",
       "    </tr>\n",
       "    <tr>\n",
       "      <th>3</th>\n",
       "      <td>12</td>\n",
       "      <td>O=C1C=C2CCC3C4CCCC4CCC3C2CC1</td>\n",
       "    </tr>\n",
       "    <tr>\n",
       "      <th>4</th>\n",
       "      <td>12</td>\n",
       "      <td>O=C1CN=C(c2ccccc2)c2ccccc2N1</td>\n",
       "    </tr>\n",
       "  </tbody>\n",
       "</table>"
      ],
      "text/plain": [
       "   count                    Murcko_SMILES\n",
       "0    114                         c1ccccc1\n",
       "1    111                                 \n",
       "2     18  O=C1C=CC2C(=C1)CCC1C3CCCC3CCC21\n",
       "3     12     O=C1C=C2CCC3C4CCCC4CCC3C2CC1\n",
       "4     12     O=C1CN=C(c2ccccc2)c2ccccc2N1"
      ]
     },
     "execution_count": 33,
     "metadata": {},
     "output_type": "execute_result"
    }
   ],
   "source": [
    "sortedScaffolds = sortedScaffolds[[smiles]] # Keep only smiles column\n",
    "sortedScaffolds = sortedScaffolds.rename(columns={smiles:'count'}) # rename smiles column to count\n",
    "sortedScaffolds['Murcko_SMILES'] = sortedScaffolds.index # actual SMILES are only in index column, move it\n",
    "sortedScaffolds.index = range(len(sortedScaffolds))\n",
    "sortedScaffolds.head()"
   ]
  },
  {
   "cell_type": "markdown",
   "metadata": {},
   "source": [
    "Add RDKit's ROMol column to scaffolds dataframe so we can visualize it"
   ]
  },
  {
   "cell_type": "code",
   "execution_count": 34,
   "metadata": {
    "collapsed": false
   },
   "outputs": [],
   "source": [
    "PandasTools.AddMoleculeColumnToFrame(sortedScaffolds, smilesCol='Murcko_SMILES')"
   ]
  },
  {
   "cell_type": "code",
   "execution_count": 35,
   "metadata": {
    "collapsed": false
   },
   "outputs": [
    {
     "data": {
      "text/html": [
       "<table border=\"1\" class=\"dataframe\">\n",
       "  <thead>\n",
       "    <tr style=\"text-align: right;\">\n",
       "      <th></th>\n",
       "      <th>count</th>\n",
       "      <th>Murcko_SMILES</th>\n",
       "      <th>ROMol</th>\n",
       "    </tr>\n",
       "  </thead>\n",
       "  <tbody>\n",
       "    <tr>\n",
       "      <th>0</th>\n",
       "      <td>114</td>\n",
       "      <td>c1ccccc1</td>\n",
       "      <td><img src=\"data:image/png;base64,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\" alt=\"Mol\"/></td>\n",
       "    </tr>\n",
       "  </tbody>\n",
       "</table>"
      ],
      "text/plain": [
       "   count Murcko_SMILES                                                                                                                                                                                                                                                                                                                                                                                                                                                                                                                                                                                                                                                                                                                                                                                                                                                                                                                                                                                                                                                                                                                                                                                                                                                                                                                                                                                                                                                                                                                                                                                                                                                                                                                                                                                                                                                                                                                                                                                                                                                                                                                                                                                                                                                                                                                                                                                                                                                                                                                                                                                                                                                                                                                                                                                                                                                                                                                                                                                                                                                                                                                                                                                                                                                                                                                                                                                                                                                                                                                                                                                                                                                                                                                                                                                                                                                                                                                                                                                                                                                                                                                                                                                                                                                                                                                                                                                                                                                                                                                                                                                                                                                                                                                                                                                                                                                                          ROMol\n",
       "0    114      c1ccccc1  <img src=\"data:image/png;base64,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\" alt=\"Mol\"/>"
      ]
     },
     "execution_count": 35,
     "metadata": {},
     "output_type": "execute_result"
    }
   ],
   "source": [
    "sortedScaffolds.head(1)"
   ]
  },
  {
   "cell_type": "code",
   "execution_count": 36,
   "metadata": {
    "collapsed": false
   },
   "outputs": [
    {
     "data": {
      "image/svg+xml": [
       "<svg baseProfile=\"full\" height=\"400px\" version=\"1.1\" width=\"800px\" xml:space=\"preserve\" xmlns:rdkit=\"http://www.rdkit.org/xml\" xmlns:svg=\"http://www.w3.org/2000/svg\" xmlns:xlink=\"http://www.w3.org/1999/xlink\">\n",
       "<g transform=\"translate(0,0)\"><rect height=\"200\" style=\"opacity:1.0;fill:#FFFFFF;stroke:none\" width=\"200\" x=\"0\" y=\"0\"> </rect>\n",
       "<path d=\"M 190.909,100 145.455,178.73\" style=\"fill:none;fill-rule:evenodd;stroke:#000000;stroke-width:2px;stroke-linecap:butt;stroke-linejoin:miter;stroke-opacity:1\"/>\n",
       "<path d=\"M 168.345,102.719 136.527,157.829\" style=\"fill:none;fill-rule:evenodd;stroke:#000000;stroke-width:2px;stroke-linecap:butt;stroke-linejoin:miter;stroke-opacity:1\"/>\n",
       "<path d=\"M 190.909,100 145.455,21.2704\" style=\"fill:none;fill-rule:evenodd;stroke:#000000;stroke-width:2px;stroke-linecap:butt;stroke-linejoin:miter;stroke-opacity:1\"/>\n",
       "<path d=\"M 145.455,178.73 54.5455,178.73\" style=\"fill:none;fill-rule:evenodd;stroke:#000000;stroke-width:2px;stroke-linecap:butt;stroke-linejoin:miter;stroke-opacity:1\"/>\n",
       "<path d=\"M 54.5455,178.73 9.09091,100\" style=\"fill:none;fill-rule:evenodd;stroke:#000000;stroke-width:2px;stroke-linecap:butt;stroke-linejoin:miter;stroke-opacity:1\"/>\n",
       "<path d=\"M 63.4732,157.829 31.655,102.719\" style=\"fill:none;fill-rule:evenodd;stroke:#000000;stroke-width:2px;stroke-linecap:butt;stroke-linejoin:miter;stroke-opacity:1\"/>\n",
       "<path d=\"M 9.09091,100 54.5455,21.2704\" style=\"fill:none;fill-rule:evenodd;stroke:#000000;stroke-width:2px;stroke-linecap:butt;stroke-linejoin:miter;stroke-opacity:1\"/>\n",
       "<path d=\"M 54.5455,21.2704 145.455,21.2704\" style=\"fill:none;fill-rule:evenodd;stroke:#000000;stroke-width:2px;stroke-linecap:butt;stroke-linejoin:miter;stroke-opacity:1\"/>\n",
       "<path d=\"M 68.1818,39.4522 131.818,39.4522\" style=\"fill:none;fill-rule:evenodd;stroke:#000000;stroke-width:2px;stroke-linecap:butt;stroke-linejoin:miter;stroke-opacity:1\"/>\n",
       "</g>\n",
       "<g transform=\"translate(200,0)\"><rect height=\"200\" style=\"opacity:1.0;fill:#FFFFFF;stroke:none\" width=\"200\" x=\"0\" y=\"0\"> </rect>\n",
       "</g>\n",
       "<g transform=\"translate(400,0)\"><rect height=\"200\" style=\"opacity:1.0;fill:#FFFFFF;stroke:none\" width=\"200\" x=\"0\" y=\"0\"> </rect>\n",
       "<path d=\"M 179.837,98.2929 169.658,97.1433\" style=\"fill:none;fill-rule:evenodd;stroke:#FF0000;stroke-width:2px;stroke-linecap:butt;stroke-linejoin:miter;stroke-opacity:1\"/>\n",
       "<path d=\"M 169.658,97.1433 159.478,95.9936\" style=\"fill:none;fill-rule:evenodd;stroke:#000000;stroke-width:2px;stroke-linecap:butt;stroke-linejoin:miter;stroke-opacity:1\"/>\n",
       "<path d=\"M 179.292,103.121 169.112,101.971\" style=\"fill:none;fill-rule:evenodd;stroke:#FF0000;stroke-width:2px;stroke-linecap:butt;stroke-linejoin:miter;stroke-opacity:1\"/>\n",
       "<path d=\"M 169.112,101.971 158.933,100.822\" style=\"fill:none;fill-rule:evenodd;stroke:#000000;stroke-width:2px;stroke-linecap:butt;stroke-linejoin:miter;stroke-opacity:1\"/>\n",
       "<path d=\"M 159.206,98.4077 149.497,76.1385\" style=\"fill:none;fill-rule:evenodd;stroke:#000000;stroke-width:2px;stroke-linecap:butt;stroke-linejoin:miter;stroke-opacity:1\"/>\n",
       "<path d=\"M 159.206,98.4077 144.775,117.95\" style=\"fill:none;fill-rule:evenodd;stroke:#000000;stroke-width:2px;stroke-linecap:butt;stroke-linejoin:miter;stroke-opacity:1\"/>\n",
       "<path d=\"M 149.497,76.1385 125.357,73.4122\" style=\"fill:none;fill-rule:evenodd;stroke:#000000;stroke-width:2px;stroke-linecap:butt;stroke-linejoin:miter;stroke-opacity:1\"/>\n",
       "<path d=\"M 145.33,80.5576 128.432,78.6491\" style=\"fill:none;fill-rule:evenodd;stroke:#000000;stroke-width:2px;stroke-linecap:butt;stroke-linejoin:miter;stroke-opacity:1\"/>\n",
       "<path d=\"M 125.357,73.4122 110.926,92.955\" style=\"fill:none;fill-rule:evenodd;stroke:#000000;stroke-width:2px;stroke-linecap:butt;stroke-linejoin:miter;stroke-opacity:1\"/>\n",
       "<path d=\"M 110.926,92.955 120.634,115.224\" style=\"fill:none;fill-rule:evenodd;stroke:#000000;stroke-width:2px;stroke-linecap:butt;stroke-linejoin:miter;stroke-opacity:1\"/>\n",
       "<path d=\"M 110.926,92.955 86.7854,90.2286\" style=\"fill:none;fill-rule:evenodd;stroke:#000000;stroke-width:2px;stroke-linecap:butt;stroke-linejoin:miter;stroke-opacity:1\"/>\n",
       "<path d=\"M 120.634,115.224 144.775,117.95\" style=\"fill:none;fill-rule:evenodd;stroke:#000000;stroke-width:2px;stroke-linecap:butt;stroke-linejoin:miter;stroke-opacity:1\"/>\n",
       "<path d=\"M 124.801,110.805 141.699,112.713\" style=\"fill:none;fill-rule:evenodd;stroke:#000000;stroke-width:2px;stroke-linecap:butt;stroke-linejoin:miter;stroke-opacity:1\"/>\n",
       "<path d=\"M 120.634,115.224 106.203,134.767\" style=\"fill:none;fill-rule:evenodd;stroke:#000000;stroke-width:2px;stroke-linecap:butt;stroke-linejoin:miter;stroke-opacity:1\"/>\n",
       "<path d=\"M 106.203,134.767 82.0632,132.041\" style=\"fill:none;fill-rule:evenodd;stroke:#000000;stroke-width:2px;stroke-linecap:butt;stroke-linejoin:miter;stroke-opacity:1\"/>\n",
       "<path d=\"M 82.0632,132.041 72.3542,109.771\" style=\"fill:none;fill-rule:evenodd;stroke:#000000;stroke-width:2px;stroke-linecap:butt;stroke-linejoin:miter;stroke-opacity:1\"/>\n",
       "<path d=\"M 72.3542,109.771 48.2141,107.045\" style=\"fill:none;fill-rule:evenodd;stroke:#000000;stroke-width:2px;stroke-linecap:butt;stroke-linejoin:miter;stroke-opacity:1\"/>\n",
       "<path d=\"M 72.3542,109.771 86.7854,90.2286\" style=\"fill:none;fill-rule:evenodd;stroke:#000000;stroke-width:2px;stroke-linecap:butt;stroke-linejoin:miter;stroke-opacity:1\"/>\n",
       "<path d=\"M 48.2141,107.045 30.0351,123.16\" style=\"fill:none;fill-rule:evenodd;stroke:#000000;stroke-width:2px;stroke-linecap:butt;stroke-linejoin:miter;stroke-opacity:1\"/>\n",
       "<path d=\"M 48.2141,107.045 38.5051,84.7759\" style=\"fill:none;fill-rule:evenodd;stroke:#000000;stroke-width:2px;stroke-linecap:butt;stroke-linejoin:miter;stroke-opacity:1\"/>\n",
       "<path d=\"M 30.0351,123.16 9.09091,110.851\" style=\"fill:none;fill-rule:evenodd;stroke:#000000;stroke-width:2px;stroke-linecap:butt;stroke-linejoin:miter;stroke-opacity:1\"/>\n",
       "<path d=\"M 9.09091,110.851 14.3257,87.1281\" style=\"fill:none;fill-rule:evenodd;stroke:#000000;stroke-width:2px;stroke-linecap:butt;stroke-linejoin:miter;stroke-opacity:1\"/>\n",
       "<path d=\"M 14.3257,87.1281 38.5051,84.7759\" style=\"fill:none;fill-rule:evenodd;stroke:#000000;stroke-width:2px;stroke-linecap:butt;stroke-linejoin:miter;stroke-opacity:1\"/>\n",
       "<path d=\"M 38.5051,84.7759 52.9363,65.2331\" style=\"fill:none;fill-rule:evenodd;stroke:#000000;stroke-width:2px;stroke-linecap:butt;stroke-linejoin:miter;stroke-opacity:1\"/>\n",
       "<path d=\"M 52.9363,65.2331 77.0764,67.9595\" style=\"fill:none;fill-rule:evenodd;stroke:#000000;stroke-width:2px;stroke-linecap:butt;stroke-linejoin:miter;stroke-opacity:1\"/>\n",
       "<path d=\"M 77.0764,67.9595 86.7854,90.2286\" style=\"fill:none;fill-rule:evenodd;stroke:#000000;stroke-width:2px;stroke-linecap:butt;stroke-linejoin:miter;stroke-opacity:1\"/>\n",
       "<text style=\"font-size:8px;font-style:normal;font-weight:normal;fill-opacity:1;stroke:none;font-family:sans-serif;text-anchor:start;fill:#FF0000\" x=\"179.564\" y=\"105.183\"><tspan>O</tspan></text>\n",
       "</g>\n",
       "<g transform=\"translate(600,0)\"><rect height=\"200\" style=\"opacity:1.0;fill:#FFFFFF;stroke:none\" width=\"200\" x=\"0\" y=\"0\"> </rect>\n",
       "<path d=\"M 179.837,98.2929 169.658,97.1433\" style=\"fill:none;fill-rule:evenodd;stroke:#FF0000;stroke-width:2px;stroke-linecap:butt;stroke-linejoin:miter;stroke-opacity:1\"/>\n",
       "<path d=\"M 169.658,97.1433 159.478,95.9936\" style=\"fill:none;fill-rule:evenodd;stroke:#000000;stroke-width:2px;stroke-linecap:butt;stroke-linejoin:miter;stroke-opacity:1\"/>\n",
       "<path d=\"M 179.292,103.121 169.112,101.971\" style=\"fill:none;fill-rule:evenodd;stroke:#FF0000;stroke-width:2px;stroke-linecap:butt;stroke-linejoin:miter;stroke-opacity:1\"/>\n",
       "<path d=\"M 169.112,101.971 158.933,100.822\" style=\"fill:none;fill-rule:evenodd;stroke:#000000;stroke-width:2px;stroke-linecap:butt;stroke-linejoin:miter;stroke-opacity:1\"/>\n",
       "<path d=\"M 159.206,98.4077 144.775,117.95\" style=\"fill:none;fill-rule:evenodd;stroke:#000000;stroke-width:2px;stroke-linecap:butt;stroke-linejoin:miter;stroke-opacity:1\"/>\n",
       "<path d=\"M 159.206,98.4077 149.497,76.1385\" style=\"fill:none;fill-rule:evenodd;stroke:#000000;stroke-width:2px;stroke-linecap:butt;stroke-linejoin:miter;stroke-opacity:1\"/>\n",
       "<path d=\"M 144.775,117.95 120.634,115.224\" style=\"fill:none;fill-rule:evenodd;stroke:#000000;stroke-width:2px;stroke-linecap:butt;stroke-linejoin:miter;stroke-opacity:1\"/>\n",
       "<path d=\"M 141.699,112.713 124.801,110.805\" style=\"fill:none;fill-rule:evenodd;stroke:#000000;stroke-width:2px;stroke-linecap:butt;stroke-linejoin:miter;stroke-opacity:1\"/>\n",
       "<path d=\"M 120.634,115.224 106.203,134.767\" style=\"fill:none;fill-rule:evenodd;stroke:#000000;stroke-width:2px;stroke-linecap:butt;stroke-linejoin:miter;stroke-opacity:1\"/>\n",
       "<path d=\"M 120.634,115.224 110.926,92.955\" style=\"fill:none;fill-rule:evenodd;stroke:#000000;stroke-width:2px;stroke-linecap:butt;stroke-linejoin:miter;stroke-opacity:1\"/>\n",
       "<path d=\"M 106.203,134.767 82.0632,132.041\" style=\"fill:none;fill-rule:evenodd;stroke:#000000;stroke-width:2px;stroke-linecap:butt;stroke-linejoin:miter;stroke-opacity:1\"/>\n",
       "<path d=\"M 82.0632,132.041 72.3542,109.771\" style=\"fill:none;fill-rule:evenodd;stroke:#000000;stroke-width:2px;stroke-linecap:butt;stroke-linejoin:miter;stroke-opacity:1\"/>\n",
       "<path d=\"M 72.3542,109.771 48.2141,107.045\" style=\"fill:none;fill-rule:evenodd;stroke:#000000;stroke-width:2px;stroke-linecap:butt;stroke-linejoin:miter;stroke-opacity:1\"/>\n",
       "<path d=\"M 72.3542,109.771 86.7854,90.2286\" style=\"fill:none;fill-rule:evenodd;stroke:#000000;stroke-width:2px;stroke-linecap:butt;stroke-linejoin:miter;stroke-opacity:1\"/>\n",
       "<path d=\"M 48.2141,107.045 30.0351,123.16\" style=\"fill:none;fill-rule:evenodd;stroke:#000000;stroke-width:2px;stroke-linecap:butt;stroke-linejoin:miter;stroke-opacity:1\"/>\n",
       "<path d=\"M 48.2141,107.045 38.5051,84.7759\" style=\"fill:none;fill-rule:evenodd;stroke:#000000;stroke-width:2px;stroke-linecap:butt;stroke-linejoin:miter;stroke-opacity:1\"/>\n",
       "<path d=\"M 30.0351,123.16 9.09091,110.851\" style=\"fill:none;fill-rule:evenodd;stroke:#000000;stroke-width:2px;stroke-linecap:butt;stroke-linejoin:miter;stroke-opacity:1\"/>\n",
       "<path d=\"M 9.09091,110.851 14.3257,87.1281\" style=\"fill:none;fill-rule:evenodd;stroke:#000000;stroke-width:2px;stroke-linecap:butt;stroke-linejoin:miter;stroke-opacity:1\"/>\n",
       "<path d=\"M 14.3257,87.1281 38.5051,84.7759\" style=\"fill:none;fill-rule:evenodd;stroke:#000000;stroke-width:2px;stroke-linecap:butt;stroke-linejoin:miter;stroke-opacity:1\"/>\n",
       "<path d=\"M 38.5051,84.7759 52.9363,65.2331\" style=\"fill:none;fill-rule:evenodd;stroke:#000000;stroke-width:2px;stroke-linecap:butt;stroke-linejoin:miter;stroke-opacity:1\"/>\n",
       "<path d=\"M 52.9363,65.2331 77.0764,67.9595\" style=\"fill:none;fill-rule:evenodd;stroke:#000000;stroke-width:2px;stroke-linecap:butt;stroke-linejoin:miter;stroke-opacity:1\"/>\n",
       "<path d=\"M 77.0764,67.9595 86.7854,90.2286\" style=\"fill:none;fill-rule:evenodd;stroke:#000000;stroke-width:2px;stroke-linecap:butt;stroke-linejoin:miter;stroke-opacity:1\"/>\n",
       "<path d=\"M 86.7854,90.2286 110.926,92.955\" style=\"fill:none;fill-rule:evenodd;stroke:#000000;stroke-width:2px;stroke-linecap:butt;stroke-linejoin:miter;stroke-opacity:1\"/>\n",
       "<path d=\"M 110.926,92.955 125.357,73.4122\" style=\"fill:none;fill-rule:evenodd;stroke:#000000;stroke-width:2px;stroke-linecap:butt;stroke-linejoin:miter;stroke-opacity:1\"/>\n",
       "<path d=\"M 125.357,73.4122 149.497,76.1385\" style=\"fill:none;fill-rule:evenodd;stroke:#000000;stroke-width:2px;stroke-linecap:butt;stroke-linejoin:miter;stroke-opacity:1\"/>\n",
       "<text style=\"font-size:8px;font-style:normal;font-weight:normal;fill-opacity:1;stroke:none;font-family:sans-serif;text-anchor:start;fill:#FF0000\" x=\"179.564\" y=\"105.183\"><tspan>O</tspan></text>\n",
       "</g>\n",
       "<g transform=\"translate(0,200)\"><rect height=\"200\" style=\"opacity:1.0;fill:#FFFFFF;stroke:none\" width=\"200\" x=\"0\" y=\"0\"> </rect>\n",
       "<path d=\"M 24.0512,155.715 34.2092,149.668\" style=\"fill:none;fill-rule:evenodd;stroke:#FF0000;stroke-width:2px;stroke-linecap:butt;stroke-linejoin:miter;stroke-opacity:1\"/>\n",
       "<path d=\"M 34.2092,149.668 44.3672,143.622\" style=\"fill:none;fill-rule:evenodd;stroke:#000000;stroke-width:2px;stroke-linecap:butt;stroke-linejoin:miter;stroke-opacity:1\"/>\n",
       "<path d=\"M 21.0975,150.753 31.2555,144.706\" style=\"fill:none;fill-rule:evenodd;stroke:#FF0000;stroke-width:2px;stroke-linecap:butt;stroke-linejoin:miter;stroke-opacity:1\"/>\n",
       "<path d=\"M 31.2555,144.706 41.4135,138.659\" style=\"fill:none;fill-rule:evenodd;stroke:#000000;stroke-width:2px;stroke-linecap:butt;stroke-linejoin:miter;stroke-opacity:1\"/>\n",
       "<path d=\"M 42.8903,141.14 66.9611,157.086\" style=\"fill:none;fill-rule:evenodd;stroke:#000000;stroke-width:2px;stroke-linecap:butt;stroke-linejoin:miter;stroke-opacity:1\"/>\n",
       "<path d=\"M 42.8903,141.14 41.8323,129.166\" style=\"fill:none;fill-rule:evenodd;stroke:#000000;stroke-width:2px;stroke-linecap:butt;stroke-linejoin:miter;stroke-opacity:1\"/>\n",
       "<path d=\"M 41.8323,129.166 40.7744,117.191\" style=\"fill:none;fill-rule:evenodd;stroke:#0000FF;stroke-width:2px;stroke-linecap:butt;stroke-linejoin:miter;stroke-opacity:1\"/>\n",
       "<path d=\"M 66.9611,157.086 78.613,153.321\" style=\"fill:none;fill-rule:evenodd;stroke:#000000;stroke-width:2px;stroke-linecap:butt;stroke-linejoin:miter;stroke-opacity:1\"/>\n",
       "<path d=\"M 78.613,153.321 90.2648,149.556\" style=\"fill:none;fill-rule:evenodd;stroke:#0000FF;stroke-width:2px;stroke-linecap:butt;stroke-linejoin:miter;stroke-opacity:1\"/>\n",
       "<path d=\"M 96.2508,143.397 100.438,132.295\" style=\"fill:none;fill-rule:evenodd;stroke:#0000FF;stroke-width:2px;stroke-linecap:butt;stroke-linejoin:miter;stroke-opacity:1\"/>\n",
       "<path d=\"M 100.438,132.295 104.625,121.193\" style=\"fill:none;fill-rule:evenodd;stroke:#000000;stroke-width:2px;stroke-linecap:butt;stroke-linejoin:miter;stroke-opacity:1\"/>\n",
       "<path d=\"M 92.1039,138.028 95.035,130.257\" style=\"fill:none;fill-rule:evenodd;stroke:#0000FF;stroke-width:2px;stroke-linecap:butt;stroke-linejoin:miter;stroke-opacity:1\"/>\n",
       "<path d=\"M 95.035,130.257 97.9661,122.486\" style=\"fill:none;fill-rule:evenodd;stroke:#000000;stroke-width:2px;stroke-linecap:butt;stroke-linejoin:miter;stroke-opacity:1\"/>\n",
       "<path d=\"M 104.625,121.193 133.387,118.652\" style=\"fill:none;fill-rule:evenodd;stroke:#000000;stroke-width:2px;stroke-linecap:butt;stroke-linejoin:miter;stroke-opacity:1\"/>\n",
       "<path d=\"M 104.625,121.193 89.8569,96.3828\" style=\"fill:none;fill-rule:evenodd;stroke:#000000;stroke-width:2px;stroke-linecap:butt;stroke-linejoin:miter;stroke-opacity:1\"/>\n",
       "<path d=\"M 133.387,118.652 149.968,142.29\" style=\"fill:none;fill-rule:evenodd;stroke:#000000;stroke-width:2px;stroke-linecap:butt;stroke-linejoin:miter;stroke-opacity:1\"/>\n",
       "<path d=\"M 140.601,118.881 152.208,135.428\" style=\"fill:none;fill-rule:evenodd;stroke:#000000;stroke-width:2px;stroke-linecap:butt;stroke-linejoin:miter;stroke-opacity:1\"/>\n",
       "<path d=\"M 133.387,118.652 145.567,92.4736\" style=\"fill:none;fill-rule:evenodd;stroke:#000000;stroke-width:2px;stroke-linecap:butt;stroke-linejoin:miter;stroke-opacity:1\"/>\n",
       "<path d=\"M 149.968,142.29 178.729,139.748\" style=\"fill:none;fill-rule:evenodd;stroke:#000000;stroke-width:2px;stroke-linecap:butt;stroke-linejoin:miter;stroke-opacity:1\"/>\n",
       "<path d=\"M 178.729,139.748 190.909,113.57\" style=\"fill:none;fill-rule:evenodd;stroke:#000000;stroke-width:2px;stroke-linecap:butt;stroke-linejoin:miter;stroke-opacity:1\"/>\n",
       "<path d=\"M 175.32,133.386 183.846,115.061\" style=\"fill:none;fill-rule:evenodd;stroke:#000000;stroke-width:2px;stroke-linecap:butt;stroke-linejoin:miter;stroke-opacity:1\"/>\n",
       "<path d=\"M 190.909,113.57 174.328,89.9325\" style=\"fill:none;fill-rule:evenodd;stroke:#000000;stroke-width:2px;stroke-linecap:butt;stroke-linejoin:miter;stroke-opacity:1\"/>\n",
       "<path d=\"M 174.328,89.9325 145.567,92.4736\" style=\"fill:none;fill-rule:evenodd;stroke:#000000;stroke-width:2px;stroke-linecap:butt;stroke-linejoin:miter;stroke-opacity:1\"/>\n",
       "<path d=\"M 170.522,96.0659 150.389,97.8447\" style=\"fill:none;fill-rule:evenodd;stroke:#000000;stroke-width:2px;stroke-linecap:butt;stroke-linejoin:miter;stroke-opacity:1\"/>\n",
       "<path d=\"M 89.8569,96.3828 107.557,73.5709\" style=\"fill:none;fill-rule:evenodd;stroke:#000000;stroke-width:2px;stroke-linecap:butt;stroke-linejoin:miter;stroke-opacity:1\"/>\n",
       "<path d=\"M 87.9495,89.421 100.339,73.4527\" style=\"fill:none;fill-rule:evenodd;stroke:#000000;stroke-width:2px;stroke-linecap:butt;stroke-linejoin:miter;stroke-opacity:1\"/>\n",
       "<path d=\"M 89.8569,96.3828 61.2513,92.4602\" style=\"fill:none;fill-rule:evenodd;stroke:#000000;stroke-width:2px;stroke-linecap:butt;stroke-linejoin:miter;stroke-opacity:1\"/>\n",
       "<path d=\"M 107.557,73.5709 96.651,46.8365\" style=\"fill:none;fill-rule:evenodd;stroke:#000000;stroke-width:2px;stroke-linecap:butt;stroke-linejoin:miter;stroke-opacity:1\"/>\n",
       "<path d=\"M 96.651,46.8365 68.0454,42.9139\" style=\"fill:none;fill-rule:evenodd;stroke:#000000;stroke-width:2px;stroke-linecap:butt;stroke-linejoin:miter;stroke-opacity:1\"/>\n",
       "<path d=\"M 91.5757,51.9692 71.5517,49.2234\" style=\"fill:none;fill-rule:evenodd;stroke:#000000;stroke-width:2px;stroke-linecap:butt;stroke-linejoin:miter;stroke-opacity:1\"/>\n",
       "<path d=\"M 68.0454,42.9139 50.3456,65.7257\" style=\"fill:none;fill-rule:evenodd;stroke:#000000;stroke-width:2px;stroke-linecap:butt;stroke-linejoin:miter;stroke-opacity:1\"/>\n",
       "<path d=\"M 50.3456,65.7257 61.2513,92.4602\" style=\"fill:none;fill-rule:evenodd;stroke:#000000;stroke-width:2px;stroke-linecap:butt;stroke-linejoin:miter;stroke-opacity:1\"/>\n",
       "<path d=\"M 57.3283,67.5548 64.9623,86.2689\" style=\"fill:none;fill-rule:evenodd;stroke:#000000;stroke-width:2px;stroke-linecap:butt;stroke-linejoin:miter;stroke-opacity:1\"/>\n",
       "<path d=\"M 61.2513,92.4602 53.3251,100.014\" style=\"fill:none;fill-rule:evenodd;stroke:#000000;stroke-width:2px;stroke-linecap:butt;stroke-linejoin:miter;stroke-opacity:1\"/>\n",
       "<path d=\"M 53.3251,100.014 45.3989,107.567\" style=\"fill:none;fill-rule:evenodd;stroke:#0000FF;stroke-width:2px;stroke-linecap:butt;stroke-linejoin:miter;stroke-opacity:1\"/>\n",
       "<text style=\"font-size:9px;font-style:normal;font-weight:normal;fill-opacity:1;stroke:none;font-family:sans-serif;text-anchor:start;fill:#FF0000\" x=\"13.5854\" y=\"160.721\"><tspan>O</tspan></text>\n",
       "<text style=\"font-size:9px;font-style:normal;font-weight:normal;fill-opacity:1;stroke:none;font-family:sans-serif;text-anchor:start;fill:#0000FF\" x=\"90.2648\" y=\"153.021\"><tspan>N</tspan></text>\n",
       "<text style=\"font-size:9px;font-style:normal;font-weight:normal;fill-opacity:1;stroke:none;font-family:sans-serif;text-anchor:start;fill:#0000FF\" x=\"32.0073\" y=\"117.191\"><tspan>NH</tspan></text>\n",
       "</g>\n",
       "<g transform=\"translate(200,200)\"><rect height=\"200\" style=\"opacity:1.0;fill:#FFFFFF;stroke:none\" width=\"200\" x=\"0\" y=\"0\"> </rect>\n",
       "<path d=\"M 167.325,94.9498 146.005,94.9498\" style=\"fill:none;fill-rule:evenodd;stroke:#FF0000;stroke-width:2px;stroke-linecap:butt;stroke-linejoin:miter;stroke-opacity:1\"/>\n",
       "<path d=\"M 146.005,94.9498 124.685,94.9498\" style=\"fill:none;fill-rule:evenodd;stroke:#000000;stroke-width:2px;stroke-linecap:butt;stroke-linejoin:miter;stroke-opacity:1\"/>\n",
       "<path d=\"M 167.325,105.05 146.005,105.05\" style=\"fill:none;fill-rule:evenodd;stroke:#FF0000;stroke-width:2px;stroke-linecap:butt;stroke-linejoin:miter;stroke-opacity:1\"/>\n",
       "<path d=\"M 146.005,105.05 124.685,105.05\" style=\"fill:none;fill-rule:evenodd;stroke:#000000;stroke-width:2px;stroke-linecap:butt;stroke-linejoin:miter;stroke-opacity:1\"/>\n",
       "<path d=\"M 124.685,100 99.4342,143.736\" style=\"fill:none;fill-rule:evenodd;stroke:#000000;stroke-width:2px;stroke-linecap:butt;stroke-linejoin:miter;stroke-opacity:1\"/>\n",
       "<path d=\"M 124.685,100 114.489,82.3406\" style=\"fill:none;fill-rule:evenodd;stroke:#000000;stroke-width:2px;stroke-linecap:butt;stroke-linejoin:miter;stroke-opacity:1\"/>\n",
       "<path d=\"M 114.489,82.3406 104.294,64.6812\" style=\"fill:none;fill-rule:evenodd;stroke:#0000FF;stroke-width:2px;stroke-linecap:butt;stroke-linejoin:miter;stroke-opacity:1\"/>\n",
       "<path d=\"M 99.4342,143.736 48.9325,143.736\" style=\"fill:none;fill-rule:evenodd;stroke:#000000;stroke-width:2px;stroke-linecap:butt;stroke-linejoin:miter;stroke-opacity:1\"/>\n",
       "<path d=\"M 44.5589,141.211 34.3632,158.87\" style=\"fill:none;fill-rule:evenodd;stroke:#000000;stroke-width:2px;stroke-linecap:butt;stroke-linejoin:miter;stroke-opacity:1\"/>\n",
       "<path d=\"M 34.3632,158.87 24.1676,176.529\" style=\"fill:none;fill-rule:evenodd;stroke:#FF0000;stroke-width:2px;stroke-linecap:butt;stroke-linejoin:miter;stroke-opacity:1\"/>\n",
       "<path d=\"M 53.306,146.261 43.1104,163.92\" style=\"fill:none;fill-rule:evenodd;stroke:#000000;stroke-width:2px;stroke-linecap:butt;stroke-linejoin:miter;stroke-opacity:1\"/>\n",
       "<path d=\"M 43.1104,163.92 32.9147,181.58\" style=\"fill:none;fill-rule:evenodd;stroke:#FF0000;stroke-width:2px;stroke-linecap:butt;stroke-linejoin:miter;stroke-opacity:1\"/>\n",
       "<path d=\"M 48.9325,143.736 38.7368,126.076\" style=\"fill:none;fill-rule:evenodd;stroke:#000000;stroke-width:2px;stroke-linecap:butt;stroke-linejoin:miter;stroke-opacity:1\"/>\n",
       "<path d=\"M 38.7368,126.076 28.5412,108.417\" style=\"fill:none;fill-rule:evenodd;stroke:#0000FF;stroke-width:2px;stroke-linecap:butt;stroke-linejoin:miter;stroke-opacity:1\"/>\n",
       "<path d=\"M 28.5412,91.5831 38.7368,73.9237\" style=\"fill:none;fill-rule:evenodd;stroke:#0000FF;stroke-width:2px;stroke-linecap:butt;stroke-linejoin:miter;stroke-opacity:1\"/>\n",
       "<path d=\"M 38.7368,73.9237 48.9325,56.2643\" style=\"fill:none;fill-rule:evenodd;stroke:#000000;stroke-width:2px;stroke-linecap:butt;stroke-linejoin:miter;stroke-opacity:1\"/>\n",
       "<path d=\"M 53.306,53.7392 43.1104,36.0798\" style=\"fill:none;fill-rule:evenodd;stroke:#000000;stroke-width:2px;stroke-linecap:butt;stroke-linejoin:miter;stroke-opacity:1\"/>\n",
       "<path d=\"M 43.1104,36.0798 32.9147,18.4204\" style=\"fill:none;fill-rule:evenodd;stroke:#FF0000;stroke-width:2px;stroke-linecap:butt;stroke-linejoin:miter;stroke-opacity:1\"/>\n",
       "<path d=\"M 44.5589,58.7893 34.3632,41.1299\" style=\"fill:none;fill-rule:evenodd;stroke:#000000;stroke-width:2px;stroke-linecap:butt;stroke-linejoin:miter;stroke-opacity:1\"/>\n",
       "<path d=\"M 34.3632,41.1299 24.1676,23.4706\" style=\"fill:none;fill-rule:evenodd;stroke:#FF0000;stroke-width:2px;stroke-linecap:butt;stroke-linejoin:miter;stroke-opacity:1\"/>\n",
       "<path d=\"M 48.9325,56.2643 66.888,56.2643\" style=\"fill:none;fill-rule:evenodd;stroke:#000000;stroke-width:2px;stroke-linecap:butt;stroke-linejoin:miter;stroke-opacity:1\"/>\n",
       "<path d=\"M 66.888,56.2643 84.8434,56.2643\" style=\"fill:none;fill-rule:evenodd;stroke:#0000FF;stroke-width:2px;stroke-linecap:butt;stroke-linejoin:miter;stroke-opacity:1\"/>\n",
       "<text style=\"font-size:16px;font-style:normal;font-weight:normal;fill-opacity:1;stroke:none;font-family:sans-serif;text-anchor:start;fill:#FF0000\" x=\"167.325\" y=\"108.417\"><tspan>O</tspan></text>\n",
       "<text style=\"font-size:16px;font-style:normal;font-weight:normal;fill-opacity:1;stroke:none;font-family:sans-serif;text-anchor:start;fill:#FF0000\" x=\"15.8204\" y=\"195.888\"><tspan>O</tspan></text>\n",
       "<text style=\"font-size:16px;font-style:normal;font-weight:normal;fill-opacity:1;stroke:none;font-family:sans-serif;text-anchor:start;fill:#0000FF\" x=\"9.09091\" y=\"108.417\"><tspan>NH</tspan></text>\n",
       "<text style=\"font-size:16px;font-style:normal;font-weight:normal;fill-opacity:1;stroke:none;font-family:sans-serif;text-anchor:start;fill:#FF0000\" x=\"15.8204\" y=\"20.9455\"><tspan>O</tspan></text>\n",
       "<text style=\"font-size:16px;font-style:normal;font-weight:normal;fill-opacity:1;stroke:none;font-family:sans-serif;text-anchor:start;fill:#0000FF\" x=\"84.8434\" y=\"64.6812\"><tspan>NH</tspan></text>\n",
       "</g>\n",
       "<g transform=\"translate(400,200)\"><rect height=\"200\" style=\"opacity:1.0;fill:#FFFFFF;stroke:none\" width=\"200\" x=\"0\" y=\"0\"> </rect>\n",
       "<path d=\"M 9.09091,117.495 9.09091,82.5045\" style=\"fill:none;fill-rule:evenodd;stroke:#000000;stroke-width:2px;stroke-linecap:butt;stroke-linejoin:miter;stroke-opacity:1\"/>\n",
       "<path d=\"M 16.0891,112.247 16.0891,87.7532\" style=\"fill:none;fill-rule:evenodd;stroke:#000000;stroke-width:2px;stroke-linecap:butt;stroke-linejoin:miter;stroke-opacity:1\"/>\n",
       "<path d=\"M 9.09091,117.495 39.3939,134.991\" style=\"fill:none;fill-rule:evenodd;stroke:#000000;stroke-width:2px;stroke-linecap:butt;stroke-linejoin:miter;stroke-opacity:1\"/>\n",
       "<path d=\"M 9.09091,82.5045 39.3939,65.0091\" style=\"fill:none;fill-rule:evenodd;stroke:#000000;stroke-width:2px;stroke-linecap:butt;stroke-linejoin:miter;stroke-opacity:1\"/>\n",
       "<path d=\"M 39.3939,65.0091 69.697,82.5045\" style=\"fill:none;fill-rule:evenodd;stroke:#000000;stroke-width:2px;stroke-linecap:butt;stroke-linejoin:miter;stroke-opacity:1\"/>\n",
       "<path d=\"M 40.4403,73.694 61.6524,85.9408\" style=\"fill:none;fill-rule:evenodd;stroke:#000000;stroke-width:2px;stroke-linecap:butt;stroke-linejoin:miter;stroke-opacity:1\"/>\n",
       "<path d=\"M 69.697,82.5045 100,65.0091\" style=\"fill:none;fill-rule:evenodd;stroke:#000000;stroke-width:2px;stroke-linecap:butt;stroke-linejoin:miter;stroke-opacity:1\"/>\n",
       "<path d=\"M 69.697,82.5045 69.697,117.495\" style=\"fill:none;fill-rule:evenodd;stroke:#000000;stroke-width:2px;stroke-linecap:butt;stroke-linejoin:miter;stroke-opacity:1\"/>\n",
       "<path d=\"M 100,65.0091 130.303,82.5045\" style=\"fill:none;fill-rule:evenodd;stroke:#000000;stroke-width:2px;stroke-linecap:butt;stroke-linejoin:miter;stroke-opacity:1\"/>\n",
       "<path d=\"M 130.303,82.5045 130.303,117.495\" style=\"fill:none;fill-rule:evenodd;stroke:#000000;stroke-width:2px;stroke-linecap:butt;stroke-linejoin:miter;stroke-opacity:1\"/>\n",
       "<path d=\"M 137.301,87.7532 137.301,112.247\" style=\"fill:none;fill-rule:evenodd;stroke:#000000;stroke-width:2px;stroke-linecap:butt;stroke-linejoin:miter;stroke-opacity:1\"/>\n",
       "<path d=\"M 130.303,82.5045 160.606,65.0091\" style=\"fill:none;fill-rule:evenodd;stroke:#000000;stroke-width:2px;stroke-linecap:butt;stroke-linejoin:miter;stroke-opacity:1\"/>\n",
       "<path d=\"M 130.303,117.495 160.606,134.991\" style=\"fill:none;fill-rule:evenodd;stroke:#000000;stroke-width:2px;stroke-linecap:butt;stroke-linejoin:miter;stroke-opacity:1\"/>\n",
       "<path d=\"M 160.606,134.991 190.909,117.495\" style=\"fill:none;fill-rule:evenodd;stroke:#000000;stroke-width:2px;stroke-linecap:butt;stroke-linejoin:miter;stroke-opacity:1\"/>\n",
       "<path d=\"M 161.652,126.306 182.865,114.059\" style=\"fill:none;fill-rule:evenodd;stroke:#000000;stroke-width:2px;stroke-linecap:butt;stroke-linejoin:miter;stroke-opacity:1\"/>\n",
       "<path d=\"M 190.909,117.495 190.909,82.5045\" style=\"fill:none;fill-rule:evenodd;stroke:#000000;stroke-width:2px;stroke-linecap:butt;stroke-linejoin:miter;stroke-opacity:1\"/>\n",
       "<path d=\"M 190.909,82.5045 160.606,65.0091\" style=\"fill:none;fill-rule:evenodd;stroke:#000000;stroke-width:2px;stroke-linecap:butt;stroke-linejoin:miter;stroke-opacity:1\"/>\n",
       "<path d=\"M 182.865,85.9408 161.652,73.694\" style=\"fill:none;fill-rule:evenodd;stroke:#000000;stroke-width:2px;stroke-linecap:butt;stroke-linejoin:miter;stroke-opacity:1\"/>\n",
       "<path d=\"M 69.697,117.495 39.3939,134.991\" style=\"fill:none;fill-rule:evenodd;stroke:#000000;stroke-width:2px;stroke-linecap:butt;stroke-linejoin:miter;stroke-opacity:1\"/>\n",
       "<path d=\"M 61.6524,114.059 40.4403,126.306\" style=\"fill:none;fill-rule:evenodd;stroke:#000000;stroke-width:2px;stroke-linecap:butt;stroke-linejoin:miter;stroke-opacity:1\"/>\n",
       "</g>\n",
       "<g transform=\"translate(600,200)\"><rect height=\"200\" style=\"opacity:1.0;fill:#FFFFFF;stroke:none\" width=\"200\" x=\"0\" y=\"0\"> </rect>\n",
       "<path d=\"M 190.909,100 148.517,173.426\" style=\"fill:none;fill-rule:evenodd;stroke:#000000;stroke-width:2px;stroke-linecap:butt;stroke-linejoin:miter;stroke-opacity:1\"/>\n",
       "<path d=\"M 169.865,102.535 140.19,153.934\" style=\"fill:none;fill-rule:evenodd;stroke:#000000;stroke-width:2px;stroke-linecap:butt;stroke-linejoin:miter;stroke-opacity:1\"/>\n",
       "<path d=\"M 190.909,100 148.517,26.5739\" style=\"fill:none;fill-rule:evenodd;stroke:#000000;stroke-width:2px;stroke-linecap:butt;stroke-linejoin:miter;stroke-opacity:1\"/>\n",
       "<path d=\"M 148.517,173.426 63.7314,173.426\" style=\"fill:none;fill-rule:evenodd;stroke:#000000;stroke-width:2px;stroke-linecap:butt;stroke-linejoin:miter;stroke-opacity:1\"/>\n",
       "<path d=\"M 63.7314,173.426 46.6143,143.778\" style=\"fill:none;fill-rule:evenodd;stroke:#000000;stroke-width:2px;stroke-linecap:butt;stroke-linejoin:miter;stroke-opacity:1\"/>\n",
       "<path d=\"M 46.6143,143.778 29.4972,114.131\" style=\"fill:none;fill-rule:evenodd;stroke:#0000FF;stroke-width:2px;stroke-linecap:butt;stroke-linejoin:miter;stroke-opacity:1\"/>\n",
       "<path d=\"M 73.2815,156.053 61.2995,135.3\" style=\"fill:none;fill-rule:evenodd;stroke:#000000;stroke-width:2px;stroke-linecap:butt;stroke-linejoin:miter;stroke-opacity:1\"/>\n",
       "<path d=\"M 61.2995,135.3 49.3176,114.547\" style=\"fill:none;fill-rule:evenodd;stroke:#0000FF;stroke-width:2px;stroke-linecap:butt;stroke-linejoin:miter;stroke-opacity:1\"/>\n",
       "<path d=\"M 29.4972,85.8691 46.6143,56.2215\" style=\"fill:none;fill-rule:evenodd;stroke:#0000FF;stroke-width:2px;stroke-linecap:butt;stroke-linejoin:miter;stroke-opacity:1\"/>\n",
       "<path d=\"M 46.6143,56.2215 63.7314,26.5739\" style=\"fill:none;fill-rule:evenodd;stroke:#000000;stroke-width:2px;stroke-linecap:butt;stroke-linejoin:miter;stroke-opacity:1\"/>\n",
       "<path d=\"M 63.7314,26.5739 148.517,26.5739\" style=\"fill:none;fill-rule:evenodd;stroke:#000000;stroke-width:2px;stroke-linecap:butt;stroke-linejoin:miter;stroke-opacity:1\"/>\n",
       "<path d=\"M 76.4491,43.5309 135.799,43.5309\" style=\"fill:none;fill-rule:evenodd;stroke:#000000;stroke-width:2px;stroke-linecap:butt;stroke-linejoin:miter;stroke-opacity:1\"/>\n",
       "<text style=\"font-size:28px;font-style:normal;font-weight:normal;fill-opacity:1;stroke:none;font-family:sans-serif;text-anchor:start;fill:#0000FF\" x=\"9.09091\" y=\"114.131\"><tspan>N</tspan></text>\n",
       "</g></svg>"
      ],
      "text/plain": [
       "<IPython.core.display.SVG object>"
      ]
     },
     "execution_count": 36,
     "metadata": {},
     "output_type": "execute_result"
    }
   ],
   "source": [
    "PandasTools.FrameToGridImage(sortedScaffolds.dropna().head(8), molsPerRow=4) #dropna drops compounds without scaffold"
   ]
  },
  {
   "cell_type": "markdown",
   "metadata": {},
   "source": [
    "We can also retrieve all compounds with certain scaffold from original table  \n",
    "Benzodiazepine scaffold is #4, SMILES: *O=C1CN=C(c2ccccc2)c2ccccc2N1*"
   ]
  },
  {
   "cell_type": "code",
   "execution_count": 37,
   "metadata": {
    "collapsed": false
   },
   "outputs": [
    {
     "data": {
      "text/html": [
       "<table border=\"1\" class=\"dataframe\">\n",
       "  <thead>\n",
       "    <tr style=\"text-align: right;\">\n",
       "      <th></th>\n",
       "      <th>DRUGBANK_ID</th>\n",
       "      <th>SMILES</th>\n",
       "      <th>ROMol</th>\n",
       "      <th>logp</th>\n",
       "      <th>mw</th>\n",
       "      <th>Murcko_SMILES</th>\n",
       "      <th>Murcko_GENERIC</th>\n",
       "    </tr>\n",
       "  </thead>\n",
       "  <tbody>\n",
       "    <tr>\n",
       "      <th>74</th>\n",
       "      <td>DB00186</td>\n",
       "      <td>OC1N=C(C2=CC=CC=C2Cl)C2=C(NC1=O)C=CC(Cl)=C2</td>\n",
       "      <td><img src=\"data:image/png;base64,iVBORw0KGgoAAAANSUhEUgAAAMgAAADICAYAAACtWK6eAAAZvElEQVR4nO3de1BTZ/oH8C/3uwiEuyAgUi8IOl6qaNUV1NXV7U10V6tt1WJrp5nW7pZO2/ml7exO4+7OyozT3c1qVWztWLpapdYLWLeKYOUmN7uCoC0K5Q4KQrg+vz8iqCU5hJDkJOT5zDhqzsl5HyBf3vOenLyvFRERGGNqWYtdAGOmjAPCmAAOCGMCOCCMCeCAMCaAA8KYAA4IYwI4IIwJ4IAwJoADwpgADghjAjggjAnggDAmgAPCmAAOCGMCOCCMCeCAMCaAA8KYAA4IYwI4IIwJ4IAwJoADwpgADghjAjggjAnggDAmgAPCmAAOCGMCOCCMCeCAMCaAA8KYAA4IYwI4IIwJ4IAwJoADwpgAyw3IiRNAZCTg4KD6+5tvxK7ogaFqs7JS/zxNjzPdkSUqKCDy9iZKTSW6c4fo669V/y8sFLsy7WrT9GOz0B+nIVkRWeAinuvWAYsWAdu3P3js44+BjAzg8GHx6gK0q83KClD3Y9P0ONOZZQYkNBS4cAEICnrw2K1bqhfmjRvi1QVoVxsHxGgsMyCOjsCdO6pz/H6dncDYsUBHh2hlAdCuNqGxhgX+OA3JMgfp/v5AXd2jj9XVqR4Xm7a1qUYcj/5hemeZAZk9G/j660cfS01VPS42U67NEol5hUA0V66orgx9/bXqStGJE6r/X7kidmXa1cZXsYzGcr+jx48TTZlCZGen+js1VeyKHhiqNg6I0VjmIH0oBw4APj7AypViV8JEZpljkKH8+CPwhz8AfX3Ga5PIuO0xrXBA1JFKgdu3VYNjY0lNBWJi+GqUibHcgDQ0ABcvqt/m6Qm88grw4YfGecESAe+/D8TG8v1UJsZyA3LkCLB2LaBUqt++Ywdw7RqQlmb4Wk6fBsrLVW0yk2K5Adm8GbC3B/79b/XbfX2BLVuAP//Z8LV8+CGwbRvg5WX4ttiwWG5A7OxUA/G//hXo6lK/z44dqCkvR/nly4ar47vvgMJC4I9/NFwbTGeWfZlXqQTCwlS/wbduVbvL5hdfRF19PU6cOGGYGpYuBSZNAnbvNszx2YhYbg8CqG4MfP114KOPgJ4etbu8+957OHPmDHJycvTe/JW8PLzf1we8+abej830w7J7EEB152xICDr27IHTmjVqd1m/fj2USiWOHj2q16ZXr14NPz8/7NmzR6/HZXok5tv4puKzv/yFZsyYQX19fWq3X716lWxsbKioqEhvbebm5pKtrS1VVFTo7ZhM/7gHAdDU1ISQkBAcPHgQTz31lNp9nnrqKbi4uODQoUN6aXPNmjVwdHTEZ599ppfjMcPggNyXmJiI9PR05OXlwUrNm3WXLl3CokWLUF5ejuDg4BG1VVxcjBkzZqC4uBiTJ08e0bGYYXFA7qutrUVoaCi++uorLF++XO0+mZmZiImJURug4diwYQM6Ojr0PqZh+scBechrr72GwsJCXLhwAQBQUlIChUKBi5puSdEBEaG+vh779+/HsmXL9HZcZhgckIfcunUL4eHhOHv2LKZOnYrZs2dj5syZWLp0qd7aICLs3bsXY8eOxalTp2BjY6O3YzP944D8wscff4xFixbhlVdegZ2dHdLS0mBra6vXNpqamjB79mysXr0aSUlJej020y8OiBpvvPEGjh8/jpycHHgZ6P6owsJCxMTEYPfu3di8ebNB2mB6YPwry6Zt37595OzsTFeM8Pn0Q4cOkaOjI2VnZxu8LaYb7kEeUlLSjd/+direeectbNVwb5a+bd++HWVltUhJOQJPT6M0yYaBA3Jfc7NqZp3Vq+9i164xRmu3q6sLK1b0wtbWCSdPAjxmNy0cEKjuU1y+XPXBvrQ0QM9j8iE1NqrC+eSTwK5dxm2bCTPyS8E0JSYCN28COTnGDweg+pzU0aPA/PlAVBTw4ovGr4GpZ9m3u0M1w8+//qV6gYr5gb7p01Ufbnz1VSA3V7w62KMs+hRLqQQmTABkMiAhQexqVF55Bbh+HTh7VuxKGGDhAQGAmhrAz0/sKh7o6gLa2sBXtEyExQeEMSGjfgxiZQU8/rj6x9X9W9M+YtGmfmY4oz4gAODhAXzxhdhV6M7c6zdno/4Uy8oKKC4GnnkGKClRTYXV/3j/V27KK5ppUz8zHIvoQSIjgV/9SrUWpjky9/rNmUX0IERAba3qXL6gQLXc3y97EE3E/u5oUz8zHIvoQQDVTKIJCZpnEjX1Jf+Gqp8ZhsX0IIBqkdjoaCA9HQgJMZ8xyFD1M8OxmB4EAJycVO+av/OO2JXoxtzrN0cW1YMAqn/PnQtkZ5tfDwKor58ZzqgPCGMjYVGnWIDqDbcrV8Su4oGSEtV7HJqWJzx9WrVCAhOHxQXk8GHg88/FruKBc+eAykrAWsNP4m9/A+5P08VEYHEBmT8fyMwUu4oHsrJUa3eq09MDfP+95u3M8CwuIDExQH6+5qUJje3iRc0BKCoCOjtVg3ImDosLyMyZqitDpvCpvcpKoKpK1aupk5UFTJsGuLoaty72gMUFxMFBFRJTOM3KyWlFcHAvgoLUb8/M5NMrsVlcQADVb+ysLLGrAC5ceA/z5z+vcXtWlubehRmHRQZkwYIW9PR8ArHfArp48SLmzVPzaSgA1dUNCAr6FHPn9hq5KvYwiwzIvHk9OHXqJZSVlYlWQ2tr68D8vOpkZHyLn356B6GhPJOcmCwyIBKJBOHh4cgS8TwrOzsbTk5OiI6OVrv90qVLmDdvnpGrYr9kkQEBgJiYGFy6dEm09jMzMzFnzhyNSytkZWVp7F2Y8Vh0QMTsQQIDA/H73/9e7bb29nYUFBRwQEyAxd6sWFJSgqioKDQ0NMDTxCahOn/+PFauXImWlhbY2dmJXY5Fs9geZOrUqRg7diwuX74sdimDZGVlYdasWRwOE2CxAampqcG4ceOwe/duXLt2TexyBly8eBGnTp2Cu7u76JehmYUG5ODBg5g6dSrGjFGtAxIZGYl169ahsLBQtJrS0tKwaNEixMXFQSKR4NKlS3j66adx9+5d0WpisKwl2MrKyuiJJ54gLy8vSklJGXi8oqKCpFIpOTg40Pz58yk1NdUo9XR3d1NycjJFRkbS2LFjSSaTUX19PRERVVVV0dy5cyk4OJhycnKMUg8bzCIC0tvbS3K5nJydnemZZ56hn3/+We1+P/30E0mlUnJycqKYmBhKTU2lvr4+vdejVCopKSmJwsLCyMvLi+RyOd29e1ftfi+99BI5OjrSgQMH9F4HG9qoD8i1a9coJiaGJBLJI72GkNraWpLJZOTu7k5RUVGUnJxMPT09I66lvb2dkpKSKDg4mAIDAykpKYna2tqGfJ5CoSB7e3tKSEigrq6uEdfBtDdqA9LT00NyuZycnJxozZo1VFtbO+xjNDQ0kEwmIw8PD5owYQIpFArq7u4e9nFaWlpIJpORj48PhYeHU3JyMnV2dg7rGJmZmeTv708LFy6kmpqaYdegq56eHiooKDBqm6ZkVAbkhx9+oLlz51JAQIBexhOtra2UlJRE/v7+FBISQklJSdTR0THk8xobG0kmk5GXlxdNmjSJkpOTR9QDVFVV0bx582jcuHF0+fJlnY+jjYqKCnr33XcpMDCQPD09yc3NjY4ePWrQNk3RqApIV1cXyWQycnR0pISEBGpqatK4ry6nTEqlkhQKBY0bN458fX1JLpfTvXv3Bu1XXV1NUqmUXF1daebMmZSamkq9vb3Dbk+dzs5OSkhIIAcHB9q7d69ejtmvtbWVFAoFzZw5k6ysrCguLo5SUlJIqVTSp59+Sk5OThZ3mjdqApKfn0/R0dE0btw4+uabb4bcf9euXTRnzhw6duzYsAfinZ2dlJycTBERESSRSEgmk1FzczPdunVr4MX7+OOPG2yQT/TouGS4p2u/lJGRQQkJCTRmzBgKCgoimUxGZWVlg/bLy8uj8ePH08KFC3U6ZTVHZh+Qzs5OSkxMJDs7O0pISKDm5matnnfnzh2Sy+Xk5eVFoaGhWp82Pay/RwkLCyMfHx9ycnLSOXS6yM3NpeDgYJo/fz5VV1cP67kNDQ0kl8tpypQpZGtrS/Hx8ZSenj5kz1pfX09LliyhoKAgys7OHkn5ZsGsA5Kbm0vTpk2joKAgOnXqlE7HaGtro6SkJAoMDKTg4GBKSkpSe9okpLu7m5YtW0Zr1qzRqYaRqKuro8WLF1NAQABlZWUJ7tvX10fp6ekUHx9PDg4OFBYWRnK5nKqqqobVZnd3NyUmJpKjoyPt379/BNWbPrMMiFKpfKTXuHPnzoiP2X/aNHHiRPL29h44bdLWjh076He/+92I69BF/wvWwcGBFArFoO01NTUkl8tp4sSJ5OTkRBs3bqT09PQRj4s+++yzUT8uMcuAvPnmm+Tv72+Qd7x7e3spJSWFJk+eTG5ubiSVSjW+sfiwnTt30uLFi/Vez3AcPHhwIAB3796llJQUiouLIxsbG4qKiiKFQiF44eKXtAlQfn4+hYSEGP3ys7GYZUACAgLo888/N2gbvb29lJqaSnPmzCEXFxeSSqV069YtjfsnJyfT5MmTDVqTNs6fP0/e3t40ceJEcnBwoHXr1unUW2RkZNC0adOotLR0yH37xyXjxo0bdeMSswxIZGSkxlsvysvLaefOnXptLyMjg2JjY8ne3p42btyo9grP6dOnydPTU6/t6uqjjz6iiIiIgfu6dNF/m4urq6tWdyA8PC7Zt2+fzu2aGrMMyMKFC+nvf/+72m3nz58nZ2dng7R7+vRpeuKJJyg6OnrQtitXrpCVldWIL7nqwxtvvEHr1q3Ty7EUCgU5ODiQVCrV6i6CQ4cOkbOz86gZl5jl7e4eHh5obm7WuK29vR2dnZ16b3f58uW4cOECzp07N2ibr68viAh1dXV6b3e4ysrKEBERoZdjJSQkIDMzE8eOHUNcXNyQX9/69etx8eJFpKWlITY2FrW1tXqpQyyjMiAA0NLSYrD21X1E18fHB9bW1ibxgigtLdUYkLNnzyIsLGxYx5s5cyZyc3NhbW2NWbNmIScnR3D/GTNmICcnB/b29pg1axays7OH1Z4pGbUB0bTdUGxsbODl5SV6QDo7O3Hz5k089thjardfu3YNXl5ewz6ut7c30tLSsH79eixcuBAHDhwQ3F8ikeDkyZNYuXIllixZguPHjw+7TVMw6gLi4uICe3t7NDU1Gbkq1WmW2AG5ceMGent7NfYgZWVlGsMzFFtbW8jlcuzZswfbt2/Htm3b0N3drXF/e3t7KBQKvPrqq9i3b59ObYpt1AVEm+2GYgoBKSsrg6+vL9zd3TVuH+n45LnnnkNmZqbW4wwfHx+DnvIaklkGxNPTU7CHECsgfn5+ogektLRUsIcYaru2fjnOEJodRl9tisEsA2LKPUhNTY3R232Y0CmUUqlEZWWl3q5wSSQSnD59Ghs2bMDixYvxySefaKxJX20am9kGRKjL9vT0tOhTLE0vxvLychCRXl+s/eOS3bt3QyqVqp1CiXsQI/Pw8EBXVxfu3buncbulBkToEm9paSkCAwPh4uKi93a3bt2KGzduYNKkSY88fufOHdTU1HAPYkz9l3I1jUMsNSAtLS2oq6vT+Nt6JFewtOHr6zvosevXr8POzm7Y772YCrMNiJWVleB7IYa8zFtdXY1//OMfgx739fVFU1MTurq6DNa2kLKyMsEXoxhjgdLSUoSGhprtNKpmGRA7Ozu4uLgIBsRQPUhKSgqmTZuGI0eODLqdxc/PD0SE+vp6g7Q9lNLSUoSEhGh8MYoxFjDnATpgpgEBhENgiEF6Q0MDnn32WWzZsgW7du3Ct99+CwcHh0f28fb2FvV2k6FOocTqQcx1gA6M0oDouwdJTU3F1KlTUVdXh6KiImzatEntfra2tvD09BQtIEID9MbGRjQ2NnIPMkxmHRBDD9Lb2tqwadMmxMfHY8eOHfjvf/+L0NBQweeI+V6IUA9SWloKR0dHhISEGK0eIjL4hQFDU7/+lxkQOo0aO3YsOjo6oFQq4ejoqNPxMzIy8Pzzz8PBwQGZmZmYNWvWkM+5desWXF1ddboZcKT6+voEf1uXlZVhwoQJsLY23u/Eqqoq3Lt3z6wDYtY9iKaAREZGgoh0CkdXVxfefvttxMbGYu3atbhy5YpW4Th06BCioqIQFBSEJUuWDLvdkbp9+zY6OjoEL/GKMf5wd3eHn5+fUdvVJ7PtQTw8PFBdXa3XYxYVFeG5555Dc3MzTp48ibi4uCGfU11djS1btiAnJwd79+7Fs88+q9eatFVWVoYxY8bA399f7XYfHx8EBwfrvd22tjZ88cUXCAoKwrJlywbVNHHiRL23aVSifp5xBL788kuaO3euXmYv7F8ewdHRkTZu3EgtLS1aPe/o0aPk7e1Nq1atEm1Gj66uLjpy5AjNnTuXpk+fPuw5rnSVk5NDCQkJ5ObmRgEBAWo/h/7666/Thg0bjFKPoZhtQDo7O+mtt94iNzc3io6OpsOHD+s0z1NlZSXFxsaSp6en1ssjNDU1UXx8PLm4uJBCoTDKLIq/VF5eTm+//Tb5+fmRh4cHvfzyy7R48WLy8/OjjIwMg7RZV1dHcrmcIiIiBubDysjI0Ph9X7FiBX3wwQcGqcVYzDYg/fpnXg8ICKDx48dTUlIStbe3a/38FStW0IIFC+jGjRta7X/u3DkaP348zZ8/nyoqKnQtWyfKPiV99d1XA3NdLVmyhA4dOjQwZWpfXx/J5XKyt7cnuVyul+A+PBujvb09RUdHk0Kh0GpSvbCwMDp8+PCIaxCT2Qekn1KppOTkZAoPDycfHx+SyWRanSrV1tZqNdO7UqkcWKZNLpfrtE6INpA7+EdS3F5Mr1e+TpICCcWmxNJ7770nGM6TJ0+Sh4cHrVu3TqsFetSprKwkmUxG4eHh5OrqSgkJCZSbm6v18zs6Osja2pry8/N1at9UjJqA9Ovq6qLk5GSaNGkSjRkzhhITE6mxsXFEx8zLy6MpU6ZQRESEXtbl+KblG4q+Gk32efY0oXgC7W/YP7CtPyB13XUk/1lOk0smk1O+E228uZHS76RTH2nXK1y/fp2mTZtGUVFRVF5ertVzuru7H5mNMS4ujpKTk9UuDzeUq1evkpWVlc4BNRWjLiD9+mdGnDVrFrm6upJUKqXbt28P6xg9PT0kk8nIzs6OpFLpsE7dNCloLyDvAm/6qvkrau1tpXJlOb1w84WB7cgFKfuUJCmQUHBRMH1Q/QHd6tQ8o6OQtrY2Wrt2LY0ZM4aOHTsmuG9JSQk99thj5OrqSlu3bqXvv/9epzaJVKdlf/rTnygwMFDnY5iKURuQh6Wnp9O8efMGZka8fv36kM8pKysbWKXqzJkzeqslviKe/ln3T43b+3uQgvYC6iX9LLrTv5ZIYmKixgH1vXv36JNPPqHW1lad26mpqaGdO3dSREQEubm50YkTJ3Q+lqmwiID0y8jIoFWrVpGdnR1t3LiR/ve//w3ap6+vj5KSksjZ2ZmefvrpEU3fqU5IUQhVdlZq3K5uDKIP3333Hfn4+NCqVau0voytja6urkGnZf2rUo0GFhWQfvn5+RQfH082Nja0atWqgXXIq6qqaPny5eTh4aH1Jd/hcshzIGWf5hePoQJCpBp4z549myIiIujq1asjOlZxcTFJpVLy9fUlHx8fSkxMVDtnsbmzyID0u3z5Mj355JNkY2NDS5cuJT8/P5ozZ45WM5rrKqQoRHBMYciAEKmuLm3evJnc3NzoP//5z7Ce29bWNrCGoY2NDcXHx1NqaqpJzEdsKBYdkH7FxcUUExNDa9asMdjl237xFfGkqB+8yE0/Qweknzbjkn55eXmUkJBA7u7uNH78eJLL5YJLQYwmHJD7XnjhBXrttdcM3k5BewH5FvrSseZjA1exXrz54sB2YwWESDUm8/PzoxUrVgxaWKexsVHtGob6Wq3XXJjt3bz6JpFIjPJR2WinaOwbvw+yahm8Crzw6+u/xiK3RQZvV50FCxYgNzcXzc3NmDNnDoqKinD27FmsXbsWgYGBUCgU2LRpEyorK5GSkoK4uDij3i5vCqyIiMQuwhTI5XJ8++23SE9PF7sUo2tvb8e2bduQnZ2NiooKLF++HC+99BJWrVoFW1uzveFbLyz7q3+IRCJBQ0OD2GWIwtnZGZ9++ilu3rwJW1tbBAUFiV2SyeCA3GesUyxTNtTHiS2RZZ1QCrDkHoRpxgG5zzvSG4FfBqK1t1XsUpgJ4YDcJ3GV4EbADTT0cC/CHuCA3Odh6wEbKxsOCHsEB+Q+a1jD08YT9T2WPVBnj+KAPERiK+EehD2CA/IQDgj7JQ7IQyS2EjT2NIpdBjMhfKvJQ37s+hFu1m7wsjX+1KHMNHFAGBPAp1hasMqzErsEJhIOyH0n75zE9B+mwyHfAeEl4TjQeEDskpgJ4IAAKOwoxAs/voD3A95H4/RGnJl4Budbz4tdFjMBPAYBsPbGWixxW4KXvV9Wu90qzwo00+K/TRaJexAAOfdy8Bv334hdBjNBHBAAP3f/DB87H7HLYCaIAwLA384f9d18DxYbjAMCYLbLbJy8e1LsMpgJ4oAAeNf/Xfxf9f/heMtxtPW1oaKzApt/3Cx2WcwEcEBgWlPxMNPCl3kZE8A9CGMCOCCMCeCAMCaAA8KYAA4IYwI4IIwJ4IAwJoADwpgADghjAjggjAnggDAmgAPCmAAOCGMCOCCMCeCAMCaAA8KYAA4IYwI4IIwJ4IAwJoADwpgADghjAjggjAnggDAmgAPCmAAOCGMCOCCMCeCAMCaAA8KYAA4IYwI4IIwJ4IAwJoADwpgADghjAjggjAn4fz1G9xInORoOAAAAAElFTkSuQmCC\" alt=\"Mol\"/></td>\n",
       "      <td>3.1013</td>\n",
       "      <td>321.163</td>\n",
       "      <td>O=C1CN=C(c2ccccc2)c2ccccc2N1</td>\n",
       "      <td>CC1CCC(C2CCCCC2)C2CCCCC2C1</td>\n",
       "    </tr>\n",
       "  </tbody>\n",
       "</table>"
      ],
      "text/plain": [
       "   DRUGBANK_ID                                       SMILES                                                                                                                                                                                                                                                                                                                                                                                                                                                                                                                                                                                                                                                                                                                                                                                                                                                                                                                                                                                                                                                                                                                                                                                                                                                                                                                                                                                                                                                                                                                                                                                                                                                                                                                                                                                                                                                                                                                                                                                                                                                                                                                                                                                                                                                                                                                                                                                                                                                                                                                                                                                                                                                                                                                                                                                                                                                                                                                                                                                                                                                                                                                                                                                                                                                                                                                                                                                                                                                                                                                                                                                                                                                                                                                                                                                                                                                                                                                                                                                                                                                                                                                                                                                                                                                                                                                                                                                                                                                                                                                                                                                                                                                                                                                                                                                                                                                                                                                                                                                                                                                                                                                                                                                                                                                                                                                                                                                                                                                                                                                                                                                                                                                                                                                                                                                                                                                                                                                                                                                                                                                                                                                                                                                                                                                                                                                                                                                                                                                                                                                                                                                                                                                                                                                                                                                                                                                                                                                                                                                                                                                                                                                                                                                                                                                                                                                                                                                                                                                                                                                                                                                                                                                                                                                                                                                                                                                                                                                                                                                                                                                                                                                                                                                                                                                                                                                                                                                                                                                                                                                                                                                                                                                                                                                                                                                                                                                                                                                                                                                                                                                                                                                                                                                                                                                                      ROMol    logp       mw                 Murcko_SMILES              Murcko_GENERIC\n",
       "74     DB00186  OC1N=C(C2=CC=CC=C2Cl)C2=C(NC1=O)C=CC(Cl)=C2  <img src=\"data:image/png;base64,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\" alt=\"Mol\"/>  3.1013  321.163  O=C1CN=C(c2ccccc2)c2ccccc2N1  CC1CCC(C2CCCCC2)C2CCCCC2C1"
      ]
     },
     "execution_count": 37,
     "metadata": {},
     "output_type": "execute_result"
    }
   ],
   "source": [
    "cpds[cpds['Murcko_SMILES'] == 'O=C1CN=C(c2ccccc2)c2ccccc2N1'].head(1)"
   ]
  },
  {
   "cell_type": "markdown",
   "metadata": {},
   "source": [
    "### Aligning compounds to scaffolds\n",
    "### AlignToScaffold(dataframe, molCol=, scaffoldCol=)"
   ]
  },
  {
   "cell_type": "markdown",
   "metadata": {},
   "source": [
    "Lets get all benzodiazepines in seperate frame"
   ]
  },
  {
   "cell_type": "code",
   "execution_count": 38,
   "metadata": {
    "collapsed": false
   },
   "outputs": [],
   "source": [
    "somemols = cpds.groupby('Murcko_SMILES').get_group('O=C1CN=C(c2ccccc2)c2ccccc2N1')"
   ]
  },
  {
   "cell_type": "markdown",
   "metadata": {},
   "source": [
    "Note how molecules are not alignied"
   ]
  },
  {
   "cell_type": "code",
   "execution_count": 39,
   "metadata": {
    "collapsed": false
   },
   "outputs": [
    {
     "data": {
      "image/svg+xml": [
       "<svg baseProfile=\"full\" height=\"200px\" version=\"1.1\" width=\"800px\" xml:space=\"preserve\" xmlns:rdkit=\"http://www.rdkit.org/xml\" xmlns:svg=\"http://www.w3.org/2000/svg\" xmlns:xlink=\"http://www.w3.org/1999/xlink\">\n",
       "<g transform=\"translate(0,0)\"><rect height=\"200\" style=\"opacity:1.0;fill:#FFFFFF;stroke:none\" width=\"200\" x=\"0\" y=\"0\"> </rect>\n",
       "<path d=\"M 127.723,31.5901 119.872,38.6579\" style=\"fill:none;fill-rule:evenodd;stroke:#00CC00;stroke-width:2px;stroke-linecap:butt;stroke-linejoin:miter;stroke-opacity:1\"/>\n",
       "<path d=\"M 119.872,38.6579 112.021,45.7257\" style=\"fill:none;fill-rule:evenodd;stroke:#000000;stroke-width:2px;stroke-linecap:butt;stroke-linejoin:miter;stroke-opacity:1\"/>\n",
       "<path d=\"M 133.794,164.786 140.242,155.627\" style=\"fill:none;fill-rule:evenodd;stroke:#00CC00;stroke-width:2px;stroke-linecap:butt;stroke-linejoin:miter;stroke-opacity:1\"/>\n",
       "<path d=\"M 140.242,155.627 146.689,146.469\" style=\"fill:none;fill-rule:evenodd;stroke:#000000;stroke-width:2px;stroke-linecap:butt;stroke-linejoin:miter;stroke-opacity:1\"/>\n",
       "<path d=\"M 57.3552,168.41 60.9414,157.375\" style=\"fill:none;fill-rule:evenodd;stroke:#FF0000;stroke-width:2px;stroke-linecap:butt;stroke-linejoin:miter;stroke-opacity:1\"/>\n",
       "<path d=\"M 60.9414,157.375 64.5277,146.341\" style=\"fill:none;fill-rule:evenodd;stroke:#000000;stroke-width:2px;stroke-linecap:butt;stroke-linejoin:miter;stroke-opacity:1\"/>\n",
       "<path d=\"M 23.2184,137.771 34.1998,133.651\" style=\"fill:none;fill-rule:evenodd;stroke:#FF0000;stroke-width:2px;stroke-linecap:butt;stroke-linejoin:miter;stroke-opacity:1\"/>\n",
       "<path d=\"M 34.1998,133.651 45.1812,129.53\" style=\"fill:none;fill-rule:evenodd;stroke:#000000;stroke-width:2px;stroke-linecap:butt;stroke-linejoin:miter;stroke-opacity:1\"/>\n",
       "<path d=\"M 21.2416,132.502 32.223,128.382\" style=\"fill:none;fill-rule:evenodd;stroke:#FF0000;stroke-width:2px;stroke-linecap:butt;stroke-linejoin:miter;stroke-opacity:1\"/>\n",
       "<path d=\"M 32.223,128.382 43.2044,124.262\" style=\"fill:none;fill-rule:evenodd;stroke:#000000;stroke-width:2px;stroke-linecap:butt;stroke-linejoin:miter;stroke-opacity:1\"/>\n",
       "<path d=\"M 53.8224,94.1842 62.0111,88.7798\" style=\"fill:none;fill-rule:evenodd;stroke:#0000FF;stroke-width:2px;stroke-linecap:butt;stroke-linejoin:miter;stroke-opacity:1\"/>\n",
       "<path d=\"M 62.0111,88.7798 70.1998,83.3754\" style=\"fill:none;fill-rule:evenodd;stroke:#000000;stroke-width:2px;stroke-linecap:butt;stroke-linejoin:miter;stroke-opacity:1\"/>\n",
       "<path d=\"M 46.2947,103.563 45.2438,115.229\" style=\"fill:none;fill-rule:evenodd;stroke:#0000FF;stroke-width:2px;stroke-linecap:butt;stroke-linejoin:miter;stroke-opacity:1\"/>\n",
       "<path d=\"M 45.2438,115.229 44.1928,126.896\" style=\"fill:none;fill-rule:evenodd;stroke:#000000;stroke-width:2px;stroke-linecap:butt;stroke-linejoin:miter;stroke-opacity:1\"/>\n",
       "<path d=\"M 95.2114,137.877 101.027,128.146\" style=\"fill:none;fill-rule:evenodd;stroke:#0000FF;stroke-width:2px;stroke-linecap:butt;stroke-linejoin:miter;stroke-opacity:1\"/>\n",
       "<path d=\"M 101.027,128.146 106.842,118.415\" style=\"fill:none;fill-rule:evenodd;stroke:#000000;stroke-width:2px;stroke-linecap:butt;stroke-linejoin:miter;stroke-opacity:1\"/>\n",
       "<path d=\"M 92.1256,132.071 96.1963,125.259\" style=\"fill:none;fill-rule:evenodd;stroke:#0000FF;stroke-width:2px;stroke-linecap:butt;stroke-linejoin:miter;stroke-opacity:1\"/>\n",
       "<path d=\"M 96.1963,125.259 100.267,118.447\" style=\"fill:none;fill-rule:evenodd;stroke:#000000;stroke-width:2px;stroke-linecap:butt;stroke-linejoin:miter;stroke-opacity:1\"/>\n",
       "<path d=\"M 88.3448,143.117 76.4362,144.729\" style=\"fill:none;fill-rule:evenodd;stroke:#0000FF;stroke-width:2px;stroke-linecap:butt;stroke-linejoin:miter;stroke-opacity:1\"/>\n",
       "<path d=\"M 76.4362,144.729 64.5277,146.341\" style=\"fill:none;fill-rule:evenodd;stroke:#000000;stroke-width:2px;stroke-linecap:butt;stroke-linejoin:miter;stroke-opacity:1\"/>\n",
       "<path d=\"M 96.9579,92.072 106.842,118.415\" style=\"fill:none;fill-rule:evenodd;stroke:#000000;stroke-width:2px;stroke-linecap:butt;stroke-linejoin:miter;stroke-opacity:1\"/>\n",
       "<path d=\"M 96.9579,92.072 70.1998,83.3754\" style=\"fill:none;fill-rule:evenodd;stroke:#000000;stroke-width:2px;stroke-linecap:butt;stroke-linejoin:miter;stroke-opacity:1\"/>\n",
       "<path d=\"M 91.2049,96.1192 72.4742,90.0315\" style=\"fill:none;fill-rule:evenodd;stroke:#000000;stroke-width:2px;stroke-linecap:butt;stroke-linejoin:miter;stroke-opacity:1\"/>\n",
       "<path d=\"M 96.9579,92.072 117.868,73.2472\" style=\"fill:none;fill-rule:evenodd;stroke:#000000;stroke-width:2px;stroke-linecap:butt;stroke-linejoin:miter;stroke-opacity:1\"/>\n",
       "<path d=\"M 106.842,118.415 134.864,120.939\" style=\"fill:none;fill-rule:evenodd;stroke:#000000;stroke-width:2px;stroke-linecap:butt;stroke-linejoin:miter;stroke-opacity:1\"/>\n",
       "<path d=\"M 70.1998,83.3754 64.3523,55.854\" style=\"fill:none;fill-rule:evenodd;stroke:#000000;stroke-width:2px;stroke-linecap:butt;stroke-linejoin:miter;stroke-opacity:1\"/>\n",
       "<path d=\"M 134.864,120.939 146.689,146.469\" style=\"fill:none;fill-rule:evenodd;stroke:#000000;stroke-width:2px;stroke-linecap:butt;stroke-linejoin:miter;stroke-opacity:1\"/>\n",
       "<path d=\"M 141.744,122.403 150.022,140.275\" style=\"fill:none;fill-rule:evenodd;stroke:#000000;stroke-width:2px;stroke-linecap:butt;stroke-linejoin:miter;stroke-opacity:1\"/>\n",
       "<path d=\"M 134.864,120.939 151.062,97.933\" style=\"fill:none;fill-rule:evenodd;stroke:#000000;stroke-width:2px;stroke-linecap:butt;stroke-linejoin:miter;stroke-opacity:1\"/>\n",
       "<path d=\"M 64.5277,146.341 44.1928,126.896\" style=\"fill:none;fill-rule:evenodd;stroke:#000000;stroke-width:2px;stroke-linecap:butt;stroke-linejoin:miter;stroke-opacity:1\"/>\n",
       "<path d=\"M 117.868,73.2472 112.021,45.7257\" style=\"fill:none;fill-rule:evenodd;stroke:#000000;stroke-width:2px;stroke-linecap:butt;stroke-linejoin:miter;stroke-opacity:1\"/>\n",
       "<path d=\"M 111.487,70.2884 107.394,51.0234\" style=\"fill:none;fill-rule:evenodd;stroke:#000000;stroke-width:2px;stroke-linecap:butt;stroke-linejoin:miter;stroke-opacity:1\"/>\n",
       "<path d=\"M 64.3523,55.854 85.2628,37.0291\" style=\"fill:none;fill-rule:evenodd;stroke:#000000;stroke-width:2px;stroke-linecap:butt;stroke-linejoin:miter;stroke-opacity:1\"/>\n",
       "<path d=\"M 71.2538,57.2123 85.8912,44.0349\" style=\"fill:none;fill-rule:evenodd;stroke:#000000;stroke-width:2px;stroke-linecap:butt;stroke-linejoin:miter;stroke-opacity:1\"/>\n",
       "<path d=\"M 112.021,45.7257 85.2628,37.0291\" style=\"fill:none;fill-rule:evenodd;stroke:#000000;stroke-width:2px;stroke-linecap:butt;stroke-linejoin:miter;stroke-opacity:1\"/>\n",
       "<path d=\"M 146.689,146.469 174.712,148.993\" style=\"fill:none;fill-rule:evenodd;stroke:#000000;stroke-width:2px;stroke-linecap:butt;stroke-linejoin:miter;stroke-opacity:1\"/>\n",
       "<path d=\"M 151.062,97.933 179.084,100.457\" style=\"fill:none;fill-rule:evenodd;stroke:#000000;stroke-width:2px;stroke-linecap:butt;stroke-linejoin:miter;stroke-opacity:1\"/>\n",
       "<path d=\"M 154.76,103.916 174.376,105.683\" style=\"fill:none;fill-rule:evenodd;stroke:#000000;stroke-width:2px;stroke-linecap:butt;stroke-linejoin:miter;stroke-opacity:1\"/>\n",
       "<path d=\"M 174.712,148.993 190.909,125.988\" style=\"fill:none;fill-rule:evenodd;stroke:#000000;stroke-width:2px;stroke-linecap:butt;stroke-linejoin:miter;stroke-opacity:1\"/>\n",
       "<path d=\"M 172.54,142.303 183.878,126.199\" style=\"fill:none;fill-rule:evenodd;stroke:#000000;stroke-width:2px;stroke-linecap:butt;stroke-linejoin:miter;stroke-opacity:1\"/>\n",
       "<path d=\"M 179.084,100.457 190.909,125.988\" style=\"fill:none;fill-rule:evenodd;stroke:#000000;stroke-width:2px;stroke-linecap:butt;stroke-linejoin:miter;stroke-opacity:1\"/>\n",
       "<text style=\"font-size:9px;font-style:normal;font-weight:normal;fill-opacity:1;stroke:none;font-family:sans-serif;text-anchor:start;fill:#00CC00\" x=\"127.617\" y=\"31.5901\"><tspan>Cl</tspan></text>\n",
       "<text style=\"font-size:9px;font-style:normal;font-weight:normal;fill-opacity:1;stroke:none;font-family:sans-serif;text-anchor:start;fill:#00CC00\" x=\"125.178\" y=\"174.164\"><tspan>Cl</tspan></text>\n",
       "<text style=\"font-size:9px;font-style:normal;font-weight:normal;fill-opacity:1;stroke:none;font-family:sans-serif;text-anchor:start;fill:#FF0000\" x=\"47.387\" y=\"177.788\"><tspan>OH</tspan></text>\n",
       "<text style=\"font-size:9px;font-style:normal;font-weight:normal;fill-opacity:1;stroke:none;font-family:sans-serif;text-anchor:start;fill:#FF0000\" x=\"13.4706\" y=\"141.469\"><tspan>O</tspan></text>\n",
       "<text style=\"font-size:9px;font-style:normal;font-weight:normal;fill-opacity:1;stroke:none;font-family:sans-serif;text-anchor:start;fill:#0000FF\" x=\"38.5883\" y=\"103.563\"><tspan>NH</tspan></text>\n",
       "<text style=\"font-size:9px;font-style:normal;font-weight:normal;fill-opacity:1;stroke:none;font-family:sans-serif;text-anchor:start;fill:#0000FF\" x=\"88.3448\" y=\"147.256\"><tspan>N</tspan></text>\n",
       "</g>\n",
       "<g transform=\"translate(200,0)\"><rect height=\"200\" style=\"opacity:1.0;fill:#FFFFFF;stroke:none\" width=\"200\" x=\"0\" y=\"0\"> </rect>\n",
       "<path d=\"M 127.824,31.6368 119.969,38.6927\" style=\"fill:none;fill-rule:evenodd;stroke:#00CC00;stroke-width:2px;stroke-linecap:butt;stroke-linejoin:miter;stroke-opacity:1\"/>\n",
       "<path d=\"M 119.969,38.6927 112.114,45.7486\" style=\"fill:none;fill-rule:evenodd;stroke:#000000;stroke-width:2px;stroke-linecap:butt;stroke-linejoin:miter;stroke-opacity:1\"/>\n",
       "<path d=\"M 57.3179,168.363 60.9158,157.334\" style=\"fill:none;fill-rule:evenodd;stroke:#FF0000;stroke-width:2px;stroke-linecap:butt;stroke-linejoin:miter;stroke-opacity:1\"/>\n",
       "<path d=\"M 60.9158,157.334 64.5136,146.305\" style=\"fill:none;fill-rule:evenodd;stroke:#000000;stroke-width:2px;stroke-linecap:butt;stroke-linejoin:miter;stroke-opacity:1\"/>\n",
       "<path d=\"M 23.2146,137.691 34.2007,133.583\" style=\"fill:none;fill-rule:evenodd;stroke:#FF0000;stroke-width:2px;stroke-linecap:butt;stroke-linejoin:miter;stroke-opacity:1\"/>\n",
       "<path d=\"M 34.2007,133.583 45.1868,129.474\" style=\"fill:none;fill-rule:evenodd;stroke:#000000;stroke-width:2px;stroke-linecap:butt;stroke-linejoin:miter;stroke-opacity:1\"/>\n",
       "<path d=\"M 21.2437,132.421 32.2298,128.312\" style=\"fill:none;fill-rule:evenodd;stroke:#FF0000;stroke-width:2px;stroke-linecap:butt;stroke-linejoin:miter;stroke-opacity:1\"/>\n",
       "<path d=\"M 32.2298,128.312 43.2159,124.204\" style=\"fill:none;fill-rule:evenodd;stroke:#000000;stroke-width:2px;stroke-linecap:butt;stroke-linejoin:miter;stroke-opacity:1\"/>\n",
       "<path d=\"M 50.8204,96.1454 60.5374,89.7477\" style=\"fill:none;fill-rule:evenodd;stroke:#0000FF;stroke-width:2px;stroke-linecap:butt;stroke-linejoin:miter;stroke-opacity:1\"/>\n",
       "<path d=\"M 60.5374,89.7477 70.2544,83.35\" style=\"fill:none;fill-rule:evenodd;stroke:#000000;stroke-width:2px;stroke-linecap:butt;stroke-linejoin:miter;stroke-opacity:1\"/>\n",
       "<path d=\"M 46.3287,103.51 45.265,115.175\" style=\"fill:none;fill-rule:evenodd;stroke:#0000FF;stroke-width:2px;stroke-linecap:butt;stroke-linejoin:miter;stroke-opacity:1\"/>\n",
       "<path d=\"M 45.265,115.175 44.2014,126.839\" style=\"fill:none;fill-rule:evenodd;stroke:#000000;stroke-width:2px;stroke-linecap:butt;stroke-linejoin:miter;stroke-opacity:1\"/>\n",
       "<path d=\"M 42.6921,96.3866 32.6569,90.3748\" style=\"fill:none;fill-rule:evenodd;stroke:#0000FF;stroke-width:2px;stroke-linecap:butt;stroke-linejoin:miter;stroke-opacity:1\"/>\n",
       "<path d=\"M 32.6569,90.3748 22.6216,84.363\" style=\"fill:none;fill-rule:evenodd;stroke:#000000;stroke-width:2px;stroke-linecap:butt;stroke-linejoin:miter;stroke-opacity:1\"/>\n",
       "<path d=\"M 95.2065,137.873 101.031,128.15\" style=\"fill:none;fill-rule:evenodd;stroke:#0000FF;stroke-width:2px;stroke-linecap:butt;stroke-linejoin:miter;stroke-opacity:1\"/>\n",
       "<path d=\"M 101.031,128.15 106.856,118.427\" style=\"fill:none;fill-rule:evenodd;stroke:#000000;stroke-width:2px;stroke-linecap:butt;stroke-linejoin:miter;stroke-opacity:1\"/>\n",
       "<path d=\"M 92.127,132.064 96.2042,125.258\" style=\"fill:none;fill-rule:evenodd;stroke:#0000FF;stroke-width:2px;stroke-linecap:butt;stroke-linejoin:miter;stroke-opacity:1\"/>\n",
       "<path d=\"M 96.2042,125.258 100.281,118.452\" style=\"fill:none;fill-rule:evenodd;stroke:#000000;stroke-width:2px;stroke-linecap:butt;stroke-linejoin:miter;stroke-opacity:1\"/>\n",
       "<path d=\"M 88.3333,143.107 76.4234,144.706\" style=\"fill:none;fill-rule:evenodd;stroke:#0000FF;stroke-width:2px;stroke-linecap:butt;stroke-linejoin:miter;stroke-opacity:1\"/>\n",
       "<path d=\"M 76.4234,144.706 64.5136,146.305\" style=\"fill:none;fill-rule:evenodd;stroke:#000000;stroke-width:2px;stroke-linecap:butt;stroke-linejoin:miter;stroke-opacity:1\"/>\n",
       "<path d=\"M 70.2544,83.35 97.0012,92.0754\" style=\"fill:none;fill-rule:evenodd;stroke:#000000;stroke-width:2px;stroke-linecap:butt;stroke-linejoin:miter;stroke-opacity:1\"/>\n",
       "<path d=\"M 72.5213,90.0082 91.2441,96.1159\" style=\"fill:none;fill-rule:evenodd;stroke:#000000;stroke-width:2px;stroke-linecap:butt;stroke-linejoin:miter;stroke-opacity:1\"/>\n",
       "<path d=\"M 70.2544,83.35 64.4374,55.8239\" style=\"fill:none;fill-rule:evenodd;stroke:#000000;stroke-width:2px;stroke-linecap:butt;stroke-linejoin:miter;stroke-opacity:1\"/>\n",
       "<path d=\"M 97.0012,92.0754 106.856,118.427\" style=\"fill:none;fill-rule:evenodd;stroke:#000000;stroke-width:2px;stroke-linecap:butt;stroke-linejoin:miter;stroke-opacity:1\"/>\n",
       "<path d=\"M 97.0012,92.0754 117.931,73.2746\" style=\"fill:none;fill-rule:evenodd;stroke:#000000;stroke-width:2px;stroke-linecap:butt;stroke-linejoin:miter;stroke-opacity:1\"/>\n",
       "<path d=\"M 106.856,118.427 134.874,120.982\" style=\"fill:none;fill-rule:evenodd;stroke:#000000;stroke-width:2px;stroke-linecap:butt;stroke-linejoin:miter;stroke-opacity:1\"/>\n",
       "<path d=\"M 64.5136,146.305 44.2014,126.839\" style=\"fill:none;fill-rule:evenodd;stroke:#000000;stroke-width:2px;stroke-linecap:butt;stroke-linejoin:miter;stroke-opacity:1\"/>\n",
       "<path d=\"M 134.874,120.982 146.67,146.523\" style=\"fill:none;fill-rule:evenodd;stroke:#000000;stroke-width:2px;stroke-linecap:butt;stroke-linejoin:miter;stroke-opacity:1\"/>\n",
       "<path d=\"M 141.751,122.454 150.009,140.333\" style=\"fill:none;fill-rule:evenodd;stroke:#000000;stroke-width:2px;stroke-linecap:butt;stroke-linejoin:miter;stroke-opacity:1\"/>\n",
       "<path d=\"M 134.874,120.982 151.095,97.9952\" style=\"fill:none;fill-rule:evenodd;stroke:#000000;stroke-width:2px;stroke-linecap:butt;stroke-linejoin:miter;stroke-opacity:1\"/>\n",
       "<path d=\"M 117.931,73.2746 112.114,45.7486\" style=\"fill:none;fill-rule:evenodd;stroke:#000000;stroke-width:2px;stroke-linecap:butt;stroke-linejoin:miter;stroke-opacity:1\"/>\n",
       "<path d=\"M 111.553,70.3091 107.481,51.0409\" style=\"fill:none;fill-rule:evenodd;stroke:#000000;stroke-width:2px;stroke-linecap:butt;stroke-linejoin:miter;stroke-opacity:1\"/>\n",
       "<path d=\"M 64.4374,55.8239 85.3671,37.0232\" style=\"fill:none;fill-rule:evenodd;stroke:#000000;stroke-width:2px;stroke-linecap:butt;stroke-linejoin:miter;stroke-opacity:1\"/>\n",
       "<path d=\"M 71.337,57.1898 85.9878,44.0293\" style=\"fill:none;fill-rule:evenodd;stroke:#000000;stroke-width:2px;stroke-linecap:butt;stroke-linejoin:miter;stroke-opacity:1\"/>\n",
       "<path d=\"M 112.114,45.7486 85.3671,37.0232\" style=\"fill:none;fill-rule:evenodd;stroke:#000000;stroke-width:2px;stroke-linecap:butt;stroke-linejoin:miter;stroke-opacity:1\"/>\n",
       "<path d=\"M 146.67,146.523 174.688,149.078\" style=\"fill:none;fill-rule:evenodd;stroke:#000000;stroke-width:2px;stroke-linecap:butt;stroke-linejoin:miter;stroke-opacity:1\"/>\n",
       "<path d=\"M 151.095,97.9952 179.113,100.55\" style=\"fill:none;fill-rule:evenodd;stroke:#000000;stroke-width:2px;stroke-linecap:butt;stroke-linejoin:miter;stroke-opacity:1\"/>\n",
       "<path d=\"M 154.787,103.982 174.399,105.77\" style=\"fill:none;fill-rule:evenodd;stroke:#000000;stroke-width:2px;stroke-linecap:butt;stroke-linejoin:miter;stroke-opacity:1\"/>\n",
       "<path d=\"M 174.688,149.078 190.909,126.092\" style=\"fill:none;fill-rule:evenodd;stroke:#000000;stroke-width:2px;stroke-linecap:butt;stroke-linejoin:miter;stroke-opacity:1\"/>\n",
       "<path d=\"M 172.524,142.386 183.879,126.295\" style=\"fill:none;fill-rule:evenodd;stroke:#000000;stroke-width:2px;stroke-linecap:butt;stroke-linejoin:miter;stroke-opacity:1\"/>\n",
       "<path d=\"M 179.113,100.55 190.909,126.092\" style=\"fill:none;fill-rule:evenodd;stroke:#000000;stroke-width:2px;stroke-linecap:butt;stroke-linejoin:miter;stroke-opacity:1\"/>\n",
       "<text style=\"font-size:9px;font-style:normal;font-weight:normal;fill-opacity:1;stroke:none;font-family:sans-serif;text-anchor:start;fill:#00CC00\" x=\"127.73\" y=\"31.6368\"><tspan>Cl</tspan></text>\n",
       "<text style=\"font-size:9px;font-style:normal;font-weight:normal;fill-opacity:1;stroke:none;font-family:sans-serif;text-anchor:start;fill:#FF0000\" x=\"47.3447\" y=\"177.741\"><tspan>OH</tspan></text>\n",
       "<text style=\"font-size:9px;font-style:normal;font-weight:normal;fill-opacity:1;stroke:none;font-family:sans-serif;text-anchor:start;fill:#FF0000\" x=\"13.4703\" y=\"141.383\"><tspan>O</tspan></text>\n",
       "<text style=\"font-size:9px;font-style:normal;font-weight:normal;fill-opacity:1;stroke:none;font-family:sans-serif;text-anchor:start;fill:#0000FF\" x=\"42.6921\" y=\"103.51\"><tspan>N</tspan></text>\n",
       "<text style=\"font-size:9px;font-style:normal;font-weight:normal;fill-opacity:1;stroke:none;font-family:sans-serif;text-anchor:start;fill:#0000FF\" x=\"88.3333\" y=\"147.251\"><tspan>N</tspan></text>\n",
       "</g>\n",
       "<g transform=\"translate(400,0)\"><rect height=\"200\" style=\"opacity:1.0;fill:#FFFFFF;stroke:none\" width=\"200\" x=\"0\" y=\"0\"> </rect>\n",
       "<path d=\"M 176.353,52.0757 166.063,53.5434\" style=\"fill:none;fill-rule:evenodd;stroke:#00CC00;stroke-width:2px;stroke-linecap:butt;stroke-linejoin:miter;stroke-opacity:1\"/>\n",
       "<path d=\"M 166.063,53.5434 155.772,55.0111\" style=\"fill:none;fill-rule:evenodd;stroke:#000000;stroke-width:2px;stroke-linecap:butt;stroke-linejoin:miter;stroke-opacity:1\"/>\n",
       "<path d=\"M 41.451,79.5512 51.9513,82.0356\" style=\"fill:none;fill-rule:evenodd;stroke:#FF0000;stroke-width:2px;stroke-linecap:butt;stroke-linejoin:miter;stroke-opacity:1\"/>\n",
       "<path d=\"M 51.9513,82.0356 62.4516,84.5199\" style=\"fill:none;fill-rule:evenodd;stroke:#000000;stroke-width:2px;stroke-linecap:butt;stroke-linejoin:miter;stroke-opacity:1\"/>\n",
       "<path d=\"M 42.6339,74.5513 53.1342,77.0357\" style=\"fill:none;fill-rule:evenodd;stroke:#FF0000;stroke-width:2px;stroke-linecap:butt;stroke-linejoin:miter;stroke-opacity:1\"/>\n",
       "<path d=\"M 53.1342,77.0357 63.6345,79.52\" style=\"fill:none;fill-rule:evenodd;stroke:#000000;stroke-width:2px;stroke-linecap:butt;stroke-linejoin:miter;stroke-opacity:1\"/>\n",
       "<path d=\"M 32.2209,116.49 40.2853,119.729\" style=\"fill:none;fill-rule:evenodd;stroke:#FF0000;stroke-width:2px;stroke-linecap:butt;stroke-linejoin:miter;stroke-opacity:1\"/>\n",
       "<path d=\"M 40.2853,119.729 48.3497,122.968\" style=\"fill:none;fill-rule:evenodd;stroke:#000000;stroke-width:2px;stroke-linecap:butt;stroke-linejoin:miter;stroke-opacity:1\"/>\n",
       "<path d=\"M 53.9096,143.756 52.4013,133.18\" style=\"fill:none;fill-rule:evenodd;stroke:#FF0000;stroke-width:2px;stroke-linecap:butt;stroke-linejoin:miter;stroke-opacity:1\"/>\n",
       "<path d=\"M 52.4013,133.18 50.8929,122.605\" style=\"fill:none;fill-rule:evenodd;stroke:#000000;stroke-width:2px;stroke-linecap:butt;stroke-linejoin:miter;stroke-opacity:1\"/>\n",
       "<path d=\"M 48.8232,144.481 47.3148,133.906\" style=\"fill:none;fill-rule:evenodd;stroke:#FF0000;stroke-width:2px;stroke-linecap:butt;stroke-linejoin:miter;stroke-opacity:1\"/>\n",
       "<path d=\"M 47.3148,133.906 45.8064,123.33\" style=\"fill:none;fill-rule:evenodd;stroke:#000000;stroke-width:2px;stroke-linecap:butt;stroke-linejoin:miter;stroke-opacity:1\"/>\n",
       "<path d=\"M 86.6411,62.1212 95.7745,62.1936\" style=\"fill:none;fill-rule:evenodd;stroke:#0000FF;stroke-width:2px;stroke-linecap:butt;stroke-linejoin:miter;stroke-opacity:1\"/>\n",
       "<path d=\"M 95.7745,62.1936 104.908,62.266\" style=\"fill:none;fill-rule:evenodd;stroke:#000000;stroke-width:2px;stroke-linecap:butt;stroke-linejoin:miter;stroke-opacity:1\"/>\n",
       "<path d=\"M 75.7486,66.3441 69.3959,74.182\" style=\"fill:none;fill-rule:evenodd;stroke:#0000FF;stroke-width:2px;stroke-linecap:butt;stroke-linejoin:miter;stroke-opacity:1\"/>\n",
       "<path d=\"M 69.3959,74.182 63.0431,82.0199\" style=\"fill:none;fill-rule:evenodd;stroke:#000000;stroke-width:2px;stroke-linecap:butt;stroke-linejoin:miter;stroke-opacity:1\"/>\n",
       "<path d=\"M 95.3286,116.688 105.09,112.083\" style=\"fill:none;fill-rule:evenodd;stroke:#0000FF;stroke-width:2px;stroke-linecap:butt;stroke-linejoin:miter;stroke-opacity:1\"/>\n",
       "<path d=\"M 105.09,112.083 114.851,107.477\" style=\"fill:none;fill-rule:evenodd;stroke:#000000;stroke-width:2px;stroke-linecap:butt;stroke-linejoin:miter;stroke-opacity:1\"/>\n",
       "<path d=\"M 96.0644,110.66 102.897,107.436\" style=\"fill:none;fill-rule:evenodd;stroke:#0000FF;stroke-width:2px;stroke-linecap:butt;stroke-linejoin:miter;stroke-opacity:1\"/>\n",
       "<path d=\"M 102.897,107.436 109.73,104.212\" style=\"fill:none;fill-rule:evenodd;stroke:#000000;stroke-width:2px;stroke-linecap:butt;stroke-linejoin:miter;stroke-opacity:1\"/>\n",
       "<path d=\"M 87.9064,116.616 78.2337,111.863\" style=\"fill:none;fill-rule:evenodd;stroke:#0000FF;stroke-width:2px;stroke-linecap:butt;stroke-linejoin:miter;stroke-opacity:1\"/>\n",
       "<path d=\"M 78.2337,111.863 68.5609,107.11\" style=\"fill:none;fill-rule:evenodd;stroke:#000000;stroke-width:2px;stroke-linecap:butt;stroke-linejoin:miter;stroke-opacity:1\"/>\n",
       "<path d=\"M 120.765,82.4773 114.851,107.477\" style=\"fill:none;fill-rule:evenodd;stroke:#000000;stroke-width:2px;stroke-linecap:butt;stroke-linejoin:miter;stroke-opacity:1\"/>\n",
       "<path d=\"M 120.765,82.4773 104.908,62.266\" style=\"fill:none;fill-rule:evenodd;stroke:#000000;stroke-width:2px;stroke-linecap:butt;stroke-linejoin:miter;stroke-opacity:1\"/>\n",
       "<path d=\"M 114.345,82.6171 103.244,68.4692\" style=\"fill:none;fill-rule:evenodd;stroke:#000000;stroke-width:2px;stroke-linecap:butt;stroke-linejoin:miter;stroke-opacity:1\"/>\n",
       "<path d=\"M 120.765,82.4773 146.198,78.8498\" style=\"fill:none;fill-rule:evenodd;stroke:#000000;stroke-width:2px;stroke-linecap:butt;stroke-linejoin:miter;stroke-opacity:1\"/>\n",
       "<path d=\"M 114.851,107.477 134.808,123.653\" style=\"fill:none;fill-rule:evenodd;stroke:#000000;stroke-width:2px;stroke-linecap:butt;stroke-linejoin:miter;stroke-opacity:1\"/>\n",
       "<path d=\"M 104.908,62.266 114.483,38.4272\" style=\"fill:none;fill-rule:evenodd;stroke:#000000;stroke-width:2px;stroke-linecap:butt;stroke-linejoin:miter;stroke-opacity:1\"/>\n",
       "<path d=\"M 68.5609,107.11 63.0431,82.0199\" style=\"fill:none;fill-rule:evenodd;stroke:#000000;stroke-width:2px;stroke-linecap:butt;stroke-linejoin:miter;stroke-opacity:1\"/>\n",
       "<path d=\"M 68.5609,107.11 48.3497,122.968\" style=\"fill:none;fill-rule:evenodd;stroke:#000000;stroke-width:2px;stroke-linecap:butt;stroke-linejoin:miter;stroke-opacity:1\"/>\n",
       "<path d=\"M 134.808,123.653 130.778,149.024\" style=\"fill:none;fill-rule:evenodd;stroke:#000000;stroke-width:2px;stroke-linecap:butt;stroke-linejoin:miter;stroke-opacity:1\"/>\n",
       "<path d=\"M 139.278,128.264 136.457,146.025\" style=\"fill:none;fill-rule:evenodd;stroke:#000000;stroke-width:2px;stroke-linecap:butt;stroke-linejoin:miter;stroke-opacity:1\"/>\n",
       "<path d=\"M 134.808,123.653 158.796,114.457\" style=\"fill:none;fill-rule:evenodd;stroke:#000000;stroke-width:2px;stroke-linecap:butt;stroke-linejoin:miter;stroke-opacity:1\"/>\n",
       "<path d=\"M 146.198,78.8498 155.772,55.0111\" style=\"fill:none;fill-rule:evenodd;stroke:#000000;stroke-width:2px;stroke-linecap:butt;stroke-linejoin:miter;stroke-opacity:1\"/>\n",
       "<path d=\"M 142.866,73.3591 149.569,56.6719\" style=\"fill:none;fill-rule:evenodd;stroke:#000000;stroke-width:2px;stroke-linecap:butt;stroke-linejoin:miter;stroke-opacity:1\"/>\n",
       "<path d=\"M 114.483,38.4272 139.915,34.7998\" style=\"fill:none;fill-rule:evenodd;stroke:#000000;stroke-width:2px;stroke-linecap:butt;stroke-linejoin:miter;stroke-opacity:1\"/>\n",
       "<path d=\"M 119.023,42.9696 136.825,40.4303\" style=\"fill:none;fill-rule:evenodd;stroke:#000000;stroke-width:2px;stroke-linecap:butt;stroke-linejoin:miter;stroke-opacity:1\"/>\n",
       "<path d=\"M 155.772,55.0111 139.915,34.7998\" style=\"fill:none;fill-rule:evenodd;stroke:#000000;stroke-width:2px;stroke-linecap:butt;stroke-linejoin:miter;stroke-opacity:1\"/>\n",
       "<path d=\"M 130.778,149.024 150.736,165.2\" style=\"fill:none;fill-rule:evenodd;stroke:#000000;stroke-width:2px;stroke-linecap:butt;stroke-linejoin:miter;stroke-opacity:1\"/>\n",
       "<path d=\"M 158.796,114.457 178.753,130.633\" style=\"fill:none;fill-rule:evenodd;stroke:#000000;stroke-width:2px;stroke-linecap:butt;stroke-linejoin:miter;stroke-opacity:1\"/>\n",
       "<path d=\"M 158.554,120.875 172.524,132.198\" style=\"fill:none;fill-rule:evenodd;stroke:#000000;stroke-width:2px;stroke-linecap:butt;stroke-linejoin:miter;stroke-opacity:1\"/>\n",
       "<path d=\"M 150.736,165.2 174.723,156.004\" style=\"fill:none;fill-rule:evenodd;stroke:#000000;stroke-width:2px;stroke-linecap:butt;stroke-linejoin:miter;stroke-opacity:1\"/>\n",
       "<path d=\"M 152.495,159.023 169.286,152.586\" style=\"fill:none;fill-rule:evenodd;stroke:#000000;stroke-width:2px;stroke-linecap:butt;stroke-linejoin:miter;stroke-opacity:1\"/>\n",
       "<path d=\"M 178.753,130.633 174.723,156.004\" style=\"fill:none;fill-rule:evenodd;stroke:#000000;stroke-width:2px;stroke-linecap:butt;stroke-linejoin:miter;stroke-opacity:1\"/>\n",
       "<text style=\"font-size:8px;font-style:normal;font-weight:normal;fill-opacity:1;stroke:none;font-family:sans-serif;text-anchor:start;fill:#00CC00\" x=\"176.353\" y=\"55.6652\"><tspan>Cl</tspan></text>\n",
       "<text style=\"font-size:8px;font-style:normal;font-weight:normal;fill-opacity:1;stroke:none;font-family:sans-serif;text-anchor:start;fill:#FF0000\" x=\"34.0446\" y=\"80.3868\"><tspan>O</tspan></text>\n",
       "<text style=\"font-size:8px;font-style:normal;font-weight:normal;fill-opacity:1;stroke:none;font-family:sans-serif;text-anchor:start;fill:#FF0000\" x=\"16.8009\" y=\"117.675\"><tspan>HO</tspan></text>\n",
       "<text style=\"font-size:8px;font-style:normal;font-weight:normal;fill-opacity:1;stroke:none;font-family:sans-serif;text-anchor:start;fill:#FF0000\" x=\"47.9782\" y=\"152.682\"><tspan>O</tspan></text>\n",
       "<text style=\"font-size:8px;font-style:normal;font-weight:normal;fill-opacity:1;stroke:none;font-family:sans-serif;text-anchor:start;fill:#0000FF\" x=\"71.7968\" y=\"66.3441\"><tspan>NH</tspan></text>\n",
       "<text style=\"font-size:8px;font-style:normal;font-weight:normal;fill-opacity:1;stroke:none;font-family:sans-serif;text-anchor:start;fill:#0000FF\" x=\"87.9064\" y=\"122.721\"><tspan>N</tspan></text>\n",
       "</g>\n",
       "<g transform=\"translate(600,0)\"><rect height=\"200\" style=\"opacity:1.0;fill:#FFFFFF;stroke:none\" width=\"200\" x=\"0\" y=\"0\"> </rect>\n",
       "<path d=\"M 139.646,140.145 134.911,134.395\" style=\"fill:none;fill-rule:evenodd;stroke:#00CC00;stroke-width:2px;stroke-linecap:butt;stroke-linejoin:miter;stroke-opacity:1\"/>\n",
       "<path d=\"M 134.911,134.395 130.177,128.644\" style=\"fill:none;fill-rule:evenodd;stroke:#000000;stroke-width:2px;stroke-linecap:butt;stroke-linejoin:miter;stroke-opacity:1\"/>\n",
       "<path d=\"M 153.115,110.391 157.3,104.043\" style=\"fill:none;fill-rule:evenodd;stroke:#33CCCC;stroke-width:2px;stroke-linecap:butt;stroke-linejoin:miter;stroke-opacity:1\"/>\n",
       "<path d=\"M 157.3,104.043 161.485,97.6941\" style=\"fill:none;fill-rule:evenodd;stroke:#000000;stroke-width:2px;stroke-linecap:butt;stroke-linejoin:miter;stroke-opacity:1\"/>\n",
       "<path d=\"M 78.4534,61.6984 85.2749,65.4963\" style=\"fill:none;fill-rule:evenodd;stroke:#FF0000;stroke-width:2px;stroke-linecap:butt;stroke-linejoin:miter;stroke-opacity:1\"/>\n",
       "<path d=\"M 85.2749,65.4963 92.0964,69.2943\" style=\"fill:none;fill-rule:evenodd;stroke:#000000;stroke-width:2px;stroke-linecap:butt;stroke-linejoin:miter;stroke-opacity:1\"/>\n",
       "<path d=\"M 80.3019,58.3782 87.1234,62.1762\" style=\"fill:none;fill-rule:evenodd;stroke:#FF0000;stroke-width:2px;stroke-linecap:butt;stroke-linejoin:miter;stroke-opacity:1\"/>\n",
       "<path d=\"M 87.1234,62.1762 93.945,65.9742\" style=\"fill:none;fill-rule:evenodd;stroke:#000000;stroke-width:2px;stroke-linecap:butt;stroke-linejoin:miter;stroke-opacity:1\"/>\n",
       "<path d=\"M 89.1514,87.7281 81.7354,90.7728\" style=\"fill:none;fill-rule:evenodd;stroke:#0000FF;stroke-width:2px;stroke-linecap:butt;stroke-linejoin:miter;stroke-opacity:1\"/>\n",
       "<path d=\"M 81.7354,90.7728 74.3195,93.8174\" style=\"fill:none;fill-rule:evenodd;stroke:#000000;stroke-width:2px;stroke-linecap:butt;stroke-linejoin:miter;stroke-opacity:1\"/>\n",
       "<path d=\"M 94.6408,89.0695 100.332,94.1878\" style=\"fill:none;fill-rule:evenodd;stroke:#0000FF;stroke-width:2px;stroke-linecap:butt;stroke-linejoin:miter;stroke-opacity:1\"/>\n",
       "<path d=\"M 100.332,94.1878 106.024,99.3062\" style=\"fill:none;fill-rule:evenodd;stroke:#000000;stroke-width:2px;stroke-linecap:butt;stroke-linejoin:miter;stroke-opacity:1\"/>\n",
       "<path d=\"M 92.0839,83.4345 92.5523,75.5344\" style=\"fill:none;fill-rule:evenodd;stroke:#0000FF;stroke-width:2px;stroke-linecap:butt;stroke-linejoin:miter;stroke-opacity:1\"/>\n",
       "<path d=\"M 92.5523,75.5344 93.0207,67.6343\" style=\"fill:none;fill-rule:evenodd;stroke:#000000;stroke-width:2px;stroke-linecap:butt;stroke-linejoin:miter;stroke-opacity:1\"/>\n",
       "<path d=\"M 44.45,88.2931 51.8659,85.2485\" style=\"fill:none;fill-rule:evenodd;stroke:#0000FF;stroke-width:2px;stroke-linecap:butt;stroke-linejoin:miter;stroke-opacity:1\"/>\n",
       "<path d=\"M 51.8659,85.2485 59.2818,82.2038\" style=\"fill:none;fill-rule:evenodd;stroke:#000000;stroke-width:2px;stroke-linecap:butt;stroke-linejoin:miter;stroke-opacity:1\"/>\n",
       "<path d=\"M 38.9605,87.3003 32.814,82.5533\" style=\"fill:none;fill-rule:evenodd;stroke:#0000FF;stroke-width:2px;stroke-linecap:butt;stroke-linejoin:miter;stroke-opacity:1\"/>\n",
       "<path d=\"M 32.814,82.5533 26.6675,77.8064\" style=\"fill:none;fill-rule:evenodd;stroke:#000000;stroke-width:2px;stroke-linecap:butt;stroke-linejoin:miter;stroke-opacity:1\"/>\n",
       "<path d=\"M 41.2782,92.5867 40.2223,100.418\" style=\"fill:none;fill-rule:evenodd;stroke:#0000FF;stroke-width:2px;stroke-linecap:butt;stroke-linejoin:miter;stroke-opacity:1\"/>\n",
       "<path d=\"M 40.2223,100.418 39.1664,108.25\" style=\"fill:none;fill-rule:evenodd;stroke:#000000;stroke-width:2px;stroke-linecap:butt;stroke-linejoin:miter;stroke-opacity:1\"/>\n",
       "<path d=\"M 128.092,65.1715 131.05,72.3764\" style=\"fill:none;fill-rule:evenodd;stroke:#0000FF;stroke-width:2px;stroke-linecap:butt;stroke-linejoin:miter;stroke-opacity:1\"/>\n",
       "<path d=\"M 131.05,72.3764 134.008,79.5813\" style=\"fill:none;fill-rule:evenodd;stroke:#000000;stroke-width:2px;stroke-linecap:butt;stroke-linejoin:miter;stroke-opacity:1\"/>\n",
       "<path d=\"M 125.464,68.7762 127.535,73.8196\" style=\"fill:none;fill-rule:evenodd;stroke:#0000FF;stroke-width:2px;stroke-linecap:butt;stroke-linejoin:miter;stroke-opacity:1\"/>\n",
       "<path d=\"M 127.535,73.8196 129.605,78.8631\" style=\"fill:none;fill-rule:evenodd;stroke:#000000;stroke-width:2px;stroke-linecap:butt;stroke-linejoin:miter;stroke-opacity:1\"/>\n",
       "<path d=\"M 124.047,61.2047 116.299,58.9463\" style=\"fill:none;fill-rule:evenodd;stroke:#0000FF;stroke-width:2px;stroke-linecap:butt;stroke-linejoin:miter;stroke-opacity:1\"/>\n",
       "<path d=\"M 116.299,58.9463 108.551,56.6878\" style=\"fill:none;fill-rule:evenodd;stroke:#000000;stroke-width:2px;stroke-linecap:butt;stroke-linejoin:miter;stroke-opacity:1\"/>\n",
       "<path d=\"M 74.3195,93.8174 59.2818,82.2038\" style=\"fill:none;fill-rule:evenodd;stroke:#000000;stroke-width:2px;stroke-linecap:butt;stroke-linejoin:miter;stroke-opacity:1\"/>\n",
       "<path d=\"M 106.024,99.3062 124.766,96.182\" style=\"fill:none;fill-rule:evenodd;stroke:#000000;stroke-width:2px;stroke-linecap:butt;stroke-linejoin:miter;stroke-opacity:1\"/>\n",
       "<path d=\"M 108.21,95.0892 121.329,92.9023\" style=\"fill:none;fill-rule:evenodd;stroke:#000000;stroke-width:2px;stroke-linecap:butt;stroke-linejoin:miter;stroke-opacity:1\"/>\n",
       "<path d=\"M 106.024,99.3062 99.3586,117.099\" style=\"fill:none;fill-rule:evenodd;stroke:#000000;stroke-width:2px;stroke-linecap:butt;stroke-linejoin:miter;stroke-opacity:1\"/>\n",
       "<path d=\"M 26.6675,77.8064 9.09091,85.0226\" style=\"fill:none;fill-rule:evenodd;stroke:#000000;stroke-width:2px;stroke-linecap:butt;stroke-linejoin:miter;stroke-opacity:1\"/>\n",
       "<path d=\"M 39.1664,108.25 21.5898,115.466\" style=\"fill:none;fill-rule:evenodd;stroke:#000000;stroke-width:2px;stroke-linecap:butt;stroke-linejoin:miter;stroke-opacity:1\"/>\n",
       "<path d=\"M 124.766,96.182 134.008,79.5813\" style=\"fill:none;fill-rule:evenodd;stroke:#000000;stroke-width:2px;stroke-linecap:butt;stroke-linejoin:miter;stroke-opacity:1\"/>\n",
       "<path d=\"M 124.766,96.182 136.842,110.851\" style=\"fill:none;fill-rule:evenodd;stroke:#000000;stroke-width:2px;stroke-linecap:butt;stroke-linejoin:miter;stroke-opacity:1\"/>\n",
       "<path d=\"M 93.0207,67.6343 108.551,56.6878\" style=\"fill:none;fill-rule:evenodd;stroke:#000000;stroke-width:2px;stroke-linecap:butt;stroke-linejoin:miter;stroke-opacity:1\"/>\n",
       "<path d=\"M 134.008,79.5813 152.975,80.7059\" style=\"fill:none;fill-rule:evenodd;stroke:#000000;stroke-width:2px;stroke-linecap:butt;stroke-linejoin:miter;stroke-opacity:1\"/>\n",
       "<path d=\"M 99.3586,117.099 111.435,131.768\" style=\"fill:none;fill-rule:evenodd;stroke:#000000;stroke-width:2px;stroke-linecap:butt;stroke-linejoin:miter;stroke-opacity:1\"/>\n",
       "<path d=\"M 104.104,116.884 112.557,127.152\" style=\"fill:none;fill-rule:evenodd;stroke:#000000;stroke-width:2px;stroke-linecap:butt;stroke-linejoin:miter;stroke-opacity:1\"/>\n",
       "<path d=\"M 136.842,110.851 130.177,128.644\" style=\"fill:none;fill-rule:evenodd;stroke:#000000;stroke-width:2px;stroke-linecap:butt;stroke-linejoin:miter;stroke-opacity:1\"/>\n",
       "<path d=\"M 132.284,112.187 127.618,124.642\" style=\"fill:none;fill-rule:evenodd;stroke:#000000;stroke-width:2px;stroke-linecap:butt;stroke-linejoin:miter;stroke-opacity:1\"/>\n",
       "<path d=\"M 152.975,80.7059 161.485,97.6941\" style=\"fill:none;fill-rule:evenodd;stroke:#000000;stroke-width:2px;stroke-linecap:butt;stroke-linejoin:miter;stroke-opacity:1\"/>\n",
       "<path d=\"M 157.649,81.5522 163.606,93.4439\" style=\"fill:none;fill-rule:evenodd;stroke:#000000;stroke-width:2px;stroke-linecap:butt;stroke-linejoin:miter;stroke-opacity:1\"/>\n",
       "<path d=\"M 152.975,80.7059 163.433,64.8423\" style=\"fill:none;fill-rule:evenodd;stroke:#000000;stroke-width:2px;stroke-linecap:butt;stroke-linejoin:miter;stroke-opacity:1\"/>\n",
       "<path d=\"M 111.435,131.768 130.177,128.644\" style=\"fill:none;fill-rule:evenodd;stroke:#000000;stroke-width:2px;stroke-linecap:butt;stroke-linejoin:miter;stroke-opacity:1\"/>\n",
       "<path d=\"M 161.485,97.6941 180.452,98.8187\" style=\"fill:none;fill-rule:evenodd;stroke:#000000;stroke-width:2px;stroke-linecap:butt;stroke-linejoin:miter;stroke-opacity:1\"/>\n",
       "<path d=\"M 163.433,64.8423 182.4,65.9669\" style=\"fill:none;fill-rule:evenodd;stroke:#000000;stroke-width:2px;stroke-linecap:butt;stroke-linejoin:miter;stroke-opacity:1\"/>\n",
       "<path d=\"M 166.053,68.8044 179.33,69.5916\" style=\"fill:none;fill-rule:evenodd;stroke:#000000;stroke-width:2px;stroke-linecap:butt;stroke-linejoin:miter;stroke-opacity:1\"/>\n",
       "<path d=\"M 180.452,98.8187 190.909,82.9551\" style=\"fill:none;fill-rule:evenodd;stroke:#000000;stroke-width:2px;stroke-linecap:butt;stroke-linejoin:miter;stroke-opacity:1\"/>\n",
       "<path d=\"M 178.848,94.3477 186.168,83.2432\" style=\"fill:none;fill-rule:evenodd;stroke:#000000;stroke-width:2px;stroke-linecap:butt;stroke-linejoin:miter;stroke-opacity:1\"/>\n",
       "<path d=\"M 182.4,65.9669 190.909,82.9551\" style=\"fill:none;fill-rule:evenodd;stroke:#000000;stroke-width:2px;stroke-linecap:butt;stroke-linejoin:miter;stroke-opacity:1\"/>\n",
       "<text style=\"font-size:6px;font-style:normal;font-weight:normal;fill-opacity:1;stroke:none;font-family:sans-serif;text-anchor:start;fill:#00CC00\" x=\"138.664\" y=\"146.479\"><tspan>Cl</tspan></text>\n",
       "<text style=\"font-size:6px;font-style:normal;font-weight:normal;fill-opacity:1;stroke:none;font-family:sans-serif;text-anchor:start;fill:#33CCCC\" x=\"148.705\" y=\"116.724\"><tspan>F</tspan></text>\n",
       "<text style=\"font-size:6px;font-style:normal;font-weight:normal;fill-opacity:1;stroke:none;font-family:sans-serif;text-anchor:start;fill:#FF0000\" x=\"73.4624\" y=\"61.5583\"><tspan>O</tspan></text>\n",
       "<text style=\"font-size:6px;font-style:normal;font-weight:normal;fill-opacity:1;stroke:none;font-family:sans-serif;text-anchor:start;fill:#0000FF\" x=\"89.1514\" y=\"89.7679\"><tspan>N</tspan></text>\n",
       "<text style=\"font-size:6px;font-style:normal;font-weight:normal;fill-opacity:1;stroke:none;font-family:sans-serif;text-anchor:start;fill:#0000FF\" x=\"38.9605\" y=\"92.5867\"><tspan>N</tspan></text>\n",
       "<text style=\"font-size:6px;font-style:normal;font-weight:normal;fill-opacity:1;stroke:none;font-family:sans-serif;text-anchor:start;fill:#0000FF\" x=\"124.047\" y=\"65.1715\"><tspan>N</tspan></text>\n",
       "</g></svg>"
      ],
      "text/plain": [
       "<IPython.core.display.SVG object>"
      ]
     },
     "execution_count": 39,
     "metadata": {},
     "output_type": "execute_result"
    }
   ],
   "source": [
    "PandasTools.FrameToGridImage(somemols.head(4), molsPerRow=4)"
   ]
  },
  {
   "cell_type": "markdown",
   "metadata": {},
   "source": [
    "Align them to scaffold"
   ]
  },
  {
   "cell_type": "code",
   "execution_count": 40,
   "metadata": {
    "collapsed": false
   },
   "outputs": [
    {
     "name": "stderr",
     "output_type": "stream",
     "text": [
      "/home/samo/anaconda/lib/python2.7/site-packages/rdkit/Chem/PandasTools.py:483: SettingWithCopyWarning: \n",
      "A value is trying to be set on a copy of a slice from a DataFrame.\n",
      "Try using .loc[row_indexer,col_indexer] = value instead\n",
      "\n",
      "See the caveats in the documentation: http://pandas.pydata.org/pandas-docs/stable/indexing.html#indexing-view-versus-copy\n",
      "  frame[molCol] = frame.apply(lambda x: AlignMol(x[molCol],x[scaffoldCol]), axis=1)\n"
     ]
    }
   ],
   "source": [
    "PandasTools.AlignToScaffold(somemols, molCol='ROMol', scaffoldCol='Murcko_SMILES')"
   ]
  },
  {
   "cell_type": "code",
   "execution_count": 41,
   "metadata": {
    "collapsed": false
   },
   "outputs": [
    {
     "data": {
      "image/svg+xml": [
       "<svg baseProfile=\"full\" height=\"200px\" version=\"1.1\" width=\"800px\" xml:space=\"preserve\" xmlns:rdkit=\"http://www.rdkit.org/xml\" xmlns:svg=\"http://www.w3.org/2000/svg\" xmlns:xlink=\"http://www.w3.org/1999/xlink\">\n",
       "<g transform=\"translate(0,0)\"><rect height=\"200\" style=\"opacity:1.0;fill:#FFFFFF;stroke:none\" width=\"200\" x=\"0\" y=\"0\"> </rect>\n",
       "<path d=\"M 127.723,31.5901 119.872,38.6579\" style=\"fill:none;fill-rule:evenodd;stroke:#00CC00;stroke-width:2px;stroke-linecap:butt;stroke-linejoin:miter;stroke-opacity:1\"/>\n",
       "<path d=\"M 119.872,38.6579 112.021,45.7257\" style=\"fill:none;fill-rule:evenodd;stroke:#000000;stroke-width:2px;stroke-linecap:butt;stroke-linejoin:miter;stroke-opacity:1\"/>\n",
       "<path d=\"M 133.794,164.786 140.242,155.627\" style=\"fill:none;fill-rule:evenodd;stroke:#00CC00;stroke-width:2px;stroke-linecap:butt;stroke-linejoin:miter;stroke-opacity:1\"/>\n",
       "<path d=\"M 140.242,155.627 146.689,146.469\" style=\"fill:none;fill-rule:evenodd;stroke:#000000;stroke-width:2px;stroke-linecap:butt;stroke-linejoin:miter;stroke-opacity:1\"/>\n",
       "<path d=\"M 57.3552,168.41 60.9414,157.375\" style=\"fill:none;fill-rule:evenodd;stroke:#FF0000;stroke-width:2px;stroke-linecap:butt;stroke-linejoin:miter;stroke-opacity:1\"/>\n",
       "<path d=\"M 60.9414,157.375 64.5277,146.341\" style=\"fill:none;fill-rule:evenodd;stroke:#000000;stroke-width:2px;stroke-linecap:butt;stroke-linejoin:miter;stroke-opacity:1\"/>\n",
       "<path d=\"M 23.2184,137.771 34.1998,133.651\" style=\"fill:none;fill-rule:evenodd;stroke:#FF0000;stroke-width:2px;stroke-linecap:butt;stroke-linejoin:miter;stroke-opacity:1\"/>\n",
       "<path d=\"M 34.1998,133.651 45.1812,129.53\" style=\"fill:none;fill-rule:evenodd;stroke:#000000;stroke-width:2px;stroke-linecap:butt;stroke-linejoin:miter;stroke-opacity:1\"/>\n",
       "<path d=\"M 21.2416,132.502 32.223,128.382\" style=\"fill:none;fill-rule:evenodd;stroke:#FF0000;stroke-width:2px;stroke-linecap:butt;stroke-linejoin:miter;stroke-opacity:1\"/>\n",
       "<path d=\"M 32.223,128.382 43.2044,124.262\" style=\"fill:none;fill-rule:evenodd;stroke:#000000;stroke-width:2px;stroke-linecap:butt;stroke-linejoin:miter;stroke-opacity:1\"/>\n",
       "<path d=\"M 53.8224,94.1842 62.0111,88.7798\" style=\"fill:none;fill-rule:evenodd;stroke:#0000FF;stroke-width:2px;stroke-linecap:butt;stroke-linejoin:miter;stroke-opacity:1\"/>\n",
       "<path d=\"M 62.0111,88.7798 70.1998,83.3754\" style=\"fill:none;fill-rule:evenodd;stroke:#000000;stroke-width:2px;stroke-linecap:butt;stroke-linejoin:miter;stroke-opacity:1\"/>\n",
       "<path d=\"M 46.2947,103.563 45.2438,115.229\" style=\"fill:none;fill-rule:evenodd;stroke:#0000FF;stroke-width:2px;stroke-linecap:butt;stroke-linejoin:miter;stroke-opacity:1\"/>\n",
       "<path d=\"M 45.2438,115.229 44.1928,126.896\" style=\"fill:none;fill-rule:evenodd;stroke:#000000;stroke-width:2px;stroke-linecap:butt;stroke-linejoin:miter;stroke-opacity:1\"/>\n",
       "<path d=\"M 95.2114,137.877 101.027,128.146\" style=\"fill:none;fill-rule:evenodd;stroke:#0000FF;stroke-width:2px;stroke-linecap:butt;stroke-linejoin:miter;stroke-opacity:1\"/>\n",
       "<path d=\"M 101.027,128.146 106.842,118.415\" style=\"fill:none;fill-rule:evenodd;stroke:#000000;stroke-width:2px;stroke-linecap:butt;stroke-linejoin:miter;stroke-opacity:1\"/>\n",
       "<path d=\"M 92.1256,132.071 96.1963,125.259\" style=\"fill:none;fill-rule:evenodd;stroke:#0000FF;stroke-width:2px;stroke-linecap:butt;stroke-linejoin:miter;stroke-opacity:1\"/>\n",
       "<path d=\"M 96.1963,125.259 100.267,118.447\" style=\"fill:none;fill-rule:evenodd;stroke:#000000;stroke-width:2px;stroke-linecap:butt;stroke-linejoin:miter;stroke-opacity:1\"/>\n",
       "<path d=\"M 88.3448,143.117 76.4362,144.729\" style=\"fill:none;fill-rule:evenodd;stroke:#0000FF;stroke-width:2px;stroke-linecap:butt;stroke-linejoin:miter;stroke-opacity:1\"/>\n",
       "<path d=\"M 76.4362,144.729 64.5277,146.341\" style=\"fill:none;fill-rule:evenodd;stroke:#000000;stroke-width:2px;stroke-linecap:butt;stroke-linejoin:miter;stroke-opacity:1\"/>\n",
       "<path d=\"M 96.9579,92.072 106.842,118.415\" style=\"fill:none;fill-rule:evenodd;stroke:#000000;stroke-width:2px;stroke-linecap:butt;stroke-linejoin:miter;stroke-opacity:1\"/>\n",
       "<path d=\"M 96.9579,92.072 70.1998,83.3754\" style=\"fill:none;fill-rule:evenodd;stroke:#000000;stroke-width:2px;stroke-linecap:butt;stroke-linejoin:miter;stroke-opacity:1\"/>\n",
       "<path d=\"M 91.2049,96.1192 72.4742,90.0315\" style=\"fill:none;fill-rule:evenodd;stroke:#000000;stroke-width:2px;stroke-linecap:butt;stroke-linejoin:miter;stroke-opacity:1\"/>\n",
       "<path d=\"M 96.9579,92.072 117.868,73.2472\" style=\"fill:none;fill-rule:evenodd;stroke:#000000;stroke-width:2px;stroke-linecap:butt;stroke-linejoin:miter;stroke-opacity:1\"/>\n",
       "<path d=\"M 106.842,118.415 134.864,120.939\" style=\"fill:none;fill-rule:evenodd;stroke:#000000;stroke-width:2px;stroke-linecap:butt;stroke-linejoin:miter;stroke-opacity:1\"/>\n",
       "<path d=\"M 70.1998,83.3754 64.3523,55.854\" style=\"fill:none;fill-rule:evenodd;stroke:#000000;stroke-width:2px;stroke-linecap:butt;stroke-linejoin:miter;stroke-opacity:1\"/>\n",
       "<path d=\"M 134.864,120.939 146.689,146.469\" style=\"fill:none;fill-rule:evenodd;stroke:#000000;stroke-width:2px;stroke-linecap:butt;stroke-linejoin:miter;stroke-opacity:1\"/>\n",
       "<path d=\"M 141.744,122.403 150.022,140.275\" style=\"fill:none;fill-rule:evenodd;stroke:#000000;stroke-width:2px;stroke-linecap:butt;stroke-linejoin:miter;stroke-opacity:1\"/>\n",
       "<path d=\"M 134.864,120.939 151.062,97.933\" style=\"fill:none;fill-rule:evenodd;stroke:#000000;stroke-width:2px;stroke-linecap:butt;stroke-linejoin:miter;stroke-opacity:1\"/>\n",
       "<path d=\"M 64.5277,146.341 44.1928,126.896\" style=\"fill:none;fill-rule:evenodd;stroke:#000000;stroke-width:2px;stroke-linecap:butt;stroke-linejoin:miter;stroke-opacity:1\"/>\n",
       "<path d=\"M 117.868,73.2472 112.021,45.7257\" style=\"fill:none;fill-rule:evenodd;stroke:#000000;stroke-width:2px;stroke-linecap:butt;stroke-linejoin:miter;stroke-opacity:1\"/>\n",
       "<path d=\"M 111.487,70.2884 107.394,51.0234\" style=\"fill:none;fill-rule:evenodd;stroke:#000000;stroke-width:2px;stroke-linecap:butt;stroke-linejoin:miter;stroke-opacity:1\"/>\n",
       "<path d=\"M 64.3523,55.854 85.2628,37.0291\" style=\"fill:none;fill-rule:evenodd;stroke:#000000;stroke-width:2px;stroke-linecap:butt;stroke-linejoin:miter;stroke-opacity:1\"/>\n",
       "<path d=\"M 71.2538,57.2123 85.8912,44.0349\" style=\"fill:none;fill-rule:evenodd;stroke:#000000;stroke-width:2px;stroke-linecap:butt;stroke-linejoin:miter;stroke-opacity:1\"/>\n",
       "<path d=\"M 112.021,45.7257 85.2628,37.0291\" style=\"fill:none;fill-rule:evenodd;stroke:#000000;stroke-width:2px;stroke-linecap:butt;stroke-linejoin:miter;stroke-opacity:1\"/>\n",
       "<path d=\"M 146.689,146.469 174.712,148.993\" style=\"fill:none;fill-rule:evenodd;stroke:#000000;stroke-width:2px;stroke-linecap:butt;stroke-linejoin:miter;stroke-opacity:1\"/>\n",
       "<path d=\"M 151.062,97.933 179.084,100.457\" style=\"fill:none;fill-rule:evenodd;stroke:#000000;stroke-width:2px;stroke-linecap:butt;stroke-linejoin:miter;stroke-opacity:1\"/>\n",
       "<path d=\"M 154.76,103.916 174.376,105.683\" style=\"fill:none;fill-rule:evenodd;stroke:#000000;stroke-width:2px;stroke-linecap:butt;stroke-linejoin:miter;stroke-opacity:1\"/>\n",
       "<path d=\"M 174.712,148.993 190.909,125.988\" style=\"fill:none;fill-rule:evenodd;stroke:#000000;stroke-width:2px;stroke-linecap:butt;stroke-linejoin:miter;stroke-opacity:1\"/>\n",
       "<path d=\"M 172.54,142.303 183.878,126.199\" style=\"fill:none;fill-rule:evenodd;stroke:#000000;stroke-width:2px;stroke-linecap:butt;stroke-linejoin:miter;stroke-opacity:1\"/>\n",
       "<path d=\"M 179.084,100.457 190.909,125.988\" style=\"fill:none;fill-rule:evenodd;stroke:#000000;stroke-width:2px;stroke-linecap:butt;stroke-linejoin:miter;stroke-opacity:1\"/>\n",
       "<text style=\"font-size:9px;font-style:normal;font-weight:normal;fill-opacity:1;stroke:none;font-family:sans-serif;text-anchor:start;fill:#00CC00\" x=\"127.617\" y=\"31.5901\"><tspan>Cl</tspan></text>\n",
       "<text style=\"font-size:9px;font-style:normal;font-weight:normal;fill-opacity:1;stroke:none;font-family:sans-serif;text-anchor:start;fill:#00CC00\" x=\"125.178\" y=\"174.164\"><tspan>Cl</tspan></text>\n",
       "<text style=\"font-size:9px;font-style:normal;font-weight:normal;fill-opacity:1;stroke:none;font-family:sans-serif;text-anchor:start;fill:#FF0000\" x=\"47.387\" y=\"177.788\"><tspan>OH</tspan></text>\n",
       "<text style=\"font-size:9px;font-style:normal;font-weight:normal;fill-opacity:1;stroke:none;font-family:sans-serif;text-anchor:start;fill:#FF0000\" x=\"13.4706\" y=\"141.469\"><tspan>O</tspan></text>\n",
       "<text style=\"font-size:9px;font-style:normal;font-weight:normal;fill-opacity:1;stroke:none;font-family:sans-serif;text-anchor:start;fill:#0000FF\" x=\"38.5883\" y=\"103.563\"><tspan>NH</tspan></text>\n",
       "<text style=\"font-size:9px;font-style:normal;font-weight:normal;fill-opacity:1;stroke:none;font-family:sans-serif;text-anchor:start;fill:#0000FF\" x=\"88.3448\" y=\"147.256\"><tspan>N</tspan></text>\n",
       "</g>\n",
       "<g transform=\"translate(200,0)\"><rect height=\"200\" style=\"opacity:1.0;fill:#FFFFFF;stroke:none\" width=\"200\" x=\"0\" y=\"0\"> </rect>\n",
       "<path d=\"M 127.824,31.6368 119.969,38.6927\" style=\"fill:none;fill-rule:evenodd;stroke:#00CC00;stroke-width:2px;stroke-linecap:butt;stroke-linejoin:miter;stroke-opacity:1\"/>\n",
       "<path d=\"M 119.969,38.6927 112.114,45.7486\" style=\"fill:none;fill-rule:evenodd;stroke:#000000;stroke-width:2px;stroke-linecap:butt;stroke-linejoin:miter;stroke-opacity:1\"/>\n",
       "<path d=\"M 57.3179,168.363 60.9158,157.334\" style=\"fill:none;fill-rule:evenodd;stroke:#FF0000;stroke-width:2px;stroke-linecap:butt;stroke-linejoin:miter;stroke-opacity:1\"/>\n",
       "<path d=\"M 60.9158,157.334 64.5136,146.305\" style=\"fill:none;fill-rule:evenodd;stroke:#000000;stroke-width:2px;stroke-linecap:butt;stroke-linejoin:miter;stroke-opacity:1\"/>\n",
       "<path d=\"M 23.2146,137.691 34.2007,133.583\" style=\"fill:none;fill-rule:evenodd;stroke:#FF0000;stroke-width:2px;stroke-linecap:butt;stroke-linejoin:miter;stroke-opacity:1\"/>\n",
       "<path d=\"M 34.2007,133.583 45.1868,129.474\" style=\"fill:none;fill-rule:evenodd;stroke:#000000;stroke-width:2px;stroke-linecap:butt;stroke-linejoin:miter;stroke-opacity:1\"/>\n",
       "<path d=\"M 21.2437,132.421 32.2298,128.312\" style=\"fill:none;fill-rule:evenodd;stroke:#FF0000;stroke-width:2px;stroke-linecap:butt;stroke-linejoin:miter;stroke-opacity:1\"/>\n",
       "<path d=\"M 32.2298,128.312 43.2159,124.204\" style=\"fill:none;fill-rule:evenodd;stroke:#000000;stroke-width:2px;stroke-linecap:butt;stroke-linejoin:miter;stroke-opacity:1\"/>\n",
       "<path d=\"M 50.8204,96.1454 60.5374,89.7477\" style=\"fill:none;fill-rule:evenodd;stroke:#0000FF;stroke-width:2px;stroke-linecap:butt;stroke-linejoin:miter;stroke-opacity:1\"/>\n",
       "<path d=\"M 60.5374,89.7477 70.2544,83.35\" style=\"fill:none;fill-rule:evenodd;stroke:#000000;stroke-width:2px;stroke-linecap:butt;stroke-linejoin:miter;stroke-opacity:1\"/>\n",
       "<path d=\"M 46.3287,103.51 45.265,115.175\" style=\"fill:none;fill-rule:evenodd;stroke:#0000FF;stroke-width:2px;stroke-linecap:butt;stroke-linejoin:miter;stroke-opacity:1\"/>\n",
       "<path d=\"M 45.265,115.175 44.2014,126.839\" style=\"fill:none;fill-rule:evenodd;stroke:#000000;stroke-width:2px;stroke-linecap:butt;stroke-linejoin:miter;stroke-opacity:1\"/>\n",
       "<path d=\"M 42.6921,96.3866 32.6569,90.3748\" style=\"fill:none;fill-rule:evenodd;stroke:#0000FF;stroke-width:2px;stroke-linecap:butt;stroke-linejoin:miter;stroke-opacity:1\"/>\n",
       "<path d=\"M 32.6569,90.3748 22.6216,84.363\" style=\"fill:none;fill-rule:evenodd;stroke:#000000;stroke-width:2px;stroke-linecap:butt;stroke-linejoin:miter;stroke-opacity:1\"/>\n",
       "<path d=\"M 95.2065,137.873 101.031,128.15\" style=\"fill:none;fill-rule:evenodd;stroke:#0000FF;stroke-width:2px;stroke-linecap:butt;stroke-linejoin:miter;stroke-opacity:1\"/>\n",
       "<path d=\"M 101.031,128.15 106.856,118.427\" style=\"fill:none;fill-rule:evenodd;stroke:#000000;stroke-width:2px;stroke-linecap:butt;stroke-linejoin:miter;stroke-opacity:1\"/>\n",
       "<path d=\"M 92.127,132.064 96.2042,125.258\" style=\"fill:none;fill-rule:evenodd;stroke:#0000FF;stroke-width:2px;stroke-linecap:butt;stroke-linejoin:miter;stroke-opacity:1\"/>\n",
       "<path d=\"M 96.2042,125.258 100.281,118.452\" style=\"fill:none;fill-rule:evenodd;stroke:#000000;stroke-width:2px;stroke-linecap:butt;stroke-linejoin:miter;stroke-opacity:1\"/>\n",
       "<path d=\"M 88.3333,143.107 76.4234,144.706\" style=\"fill:none;fill-rule:evenodd;stroke:#0000FF;stroke-width:2px;stroke-linecap:butt;stroke-linejoin:miter;stroke-opacity:1\"/>\n",
       "<path d=\"M 76.4234,144.706 64.5136,146.305\" style=\"fill:none;fill-rule:evenodd;stroke:#000000;stroke-width:2px;stroke-linecap:butt;stroke-linejoin:miter;stroke-opacity:1\"/>\n",
       "<path d=\"M 70.2544,83.35 97.0012,92.0754\" style=\"fill:none;fill-rule:evenodd;stroke:#000000;stroke-width:2px;stroke-linecap:butt;stroke-linejoin:miter;stroke-opacity:1\"/>\n",
       "<path d=\"M 72.5213,90.0082 91.2441,96.1159\" style=\"fill:none;fill-rule:evenodd;stroke:#000000;stroke-width:2px;stroke-linecap:butt;stroke-linejoin:miter;stroke-opacity:1\"/>\n",
       "<path d=\"M 70.2544,83.35 64.4374,55.8239\" style=\"fill:none;fill-rule:evenodd;stroke:#000000;stroke-width:2px;stroke-linecap:butt;stroke-linejoin:miter;stroke-opacity:1\"/>\n",
       "<path d=\"M 97.0012,92.0754 106.856,118.427\" style=\"fill:none;fill-rule:evenodd;stroke:#000000;stroke-width:2px;stroke-linecap:butt;stroke-linejoin:miter;stroke-opacity:1\"/>\n",
       "<path d=\"M 97.0012,92.0754 117.931,73.2746\" style=\"fill:none;fill-rule:evenodd;stroke:#000000;stroke-width:2px;stroke-linecap:butt;stroke-linejoin:miter;stroke-opacity:1\"/>\n",
       "<path d=\"M 106.856,118.427 134.874,120.982\" style=\"fill:none;fill-rule:evenodd;stroke:#000000;stroke-width:2px;stroke-linecap:butt;stroke-linejoin:miter;stroke-opacity:1\"/>\n",
       "<path d=\"M 64.5136,146.305 44.2014,126.839\" style=\"fill:none;fill-rule:evenodd;stroke:#000000;stroke-width:2px;stroke-linecap:butt;stroke-linejoin:miter;stroke-opacity:1\"/>\n",
       "<path d=\"M 134.874,120.982 146.67,146.523\" style=\"fill:none;fill-rule:evenodd;stroke:#000000;stroke-width:2px;stroke-linecap:butt;stroke-linejoin:miter;stroke-opacity:1\"/>\n",
       "<path d=\"M 141.751,122.454 150.009,140.333\" style=\"fill:none;fill-rule:evenodd;stroke:#000000;stroke-width:2px;stroke-linecap:butt;stroke-linejoin:miter;stroke-opacity:1\"/>\n",
       "<path d=\"M 134.874,120.982 151.095,97.9952\" style=\"fill:none;fill-rule:evenodd;stroke:#000000;stroke-width:2px;stroke-linecap:butt;stroke-linejoin:miter;stroke-opacity:1\"/>\n",
       "<path d=\"M 117.931,73.2746 112.114,45.7486\" style=\"fill:none;fill-rule:evenodd;stroke:#000000;stroke-width:2px;stroke-linecap:butt;stroke-linejoin:miter;stroke-opacity:1\"/>\n",
       "<path d=\"M 111.553,70.3091 107.481,51.0409\" style=\"fill:none;fill-rule:evenodd;stroke:#000000;stroke-width:2px;stroke-linecap:butt;stroke-linejoin:miter;stroke-opacity:1\"/>\n",
       "<path d=\"M 64.4374,55.8239 85.3671,37.0232\" style=\"fill:none;fill-rule:evenodd;stroke:#000000;stroke-width:2px;stroke-linecap:butt;stroke-linejoin:miter;stroke-opacity:1\"/>\n",
       "<path d=\"M 71.337,57.1898 85.9878,44.0293\" style=\"fill:none;fill-rule:evenodd;stroke:#000000;stroke-width:2px;stroke-linecap:butt;stroke-linejoin:miter;stroke-opacity:1\"/>\n",
       "<path d=\"M 112.114,45.7486 85.3671,37.0232\" style=\"fill:none;fill-rule:evenodd;stroke:#000000;stroke-width:2px;stroke-linecap:butt;stroke-linejoin:miter;stroke-opacity:1\"/>\n",
       "<path d=\"M 146.67,146.523 174.688,149.078\" style=\"fill:none;fill-rule:evenodd;stroke:#000000;stroke-width:2px;stroke-linecap:butt;stroke-linejoin:miter;stroke-opacity:1\"/>\n",
       "<path d=\"M 151.095,97.9952 179.113,100.55\" style=\"fill:none;fill-rule:evenodd;stroke:#000000;stroke-width:2px;stroke-linecap:butt;stroke-linejoin:miter;stroke-opacity:1\"/>\n",
       "<path d=\"M 154.787,103.982 174.399,105.77\" style=\"fill:none;fill-rule:evenodd;stroke:#000000;stroke-width:2px;stroke-linecap:butt;stroke-linejoin:miter;stroke-opacity:1\"/>\n",
       "<path d=\"M 174.688,149.078 190.909,126.092\" style=\"fill:none;fill-rule:evenodd;stroke:#000000;stroke-width:2px;stroke-linecap:butt;stroke-linejoin:miter;stroke-opacity:1\"/>\n",
       "<path d=\"M 172.524,142.386 183.879,126.295\" style=\"fill:none;fill-rule:evenodd;stroke:#000000;stroke-width:2px;stroke-linecap:butt;stroke-linejoin:miter;stroke-opacity:1\"/>\n",
       "<path d=\"M 179.113,100.55 190.909,126.092\" style=\"fill:none;fill-rule:evenodd;stroke:#000000;stroke-width:2px;stroke-linecap:butt;stroke-linejoin:miter;stroke-opacity:1\"/>\n",
       "<text style=\"font-size:9px;font-style:normal;font-weight:normal;fill-opacity:1;stroke:none;font-family:sans-serif;text-anchor:start;fill:#00CC00\" x=\"127.73\" y=\"31.6368\"><tspan>Cl</tspan></text>\n",
       "<text style=\"font-size:9px;font-style:normal;font-weight:normal;fill-opacity:1;stroke:none;font-family:sans-serif;text-anchor:start;fill:#FF0000\" x=\"47.3447\" y=\"177.741\"><tspan>OH</tspan></text>\n",
       "<text style=\"font-size:9px;font-style:normal;font-weight:normal;fill-opacity:1;stroke:none;font-family:sans-serif;text-anchor:start;fill:#FF0000\" x=\"13.4703\" y=\"141.383\"><tspan>O</tspan></text>\n",
       "<text style=\"font-size:9px;font-style:normal;font-weight:normal;fill-opacity:1;stroke:none;font-family:sans-serif;text-anchor:start;fill:#0000FF\" x=\"42.6921\" y=\"103.51\"><tspan>N</tspan></text>\n",
       "<text style=\"font-size:9px;font-style:normal;font-weight:normal;fill-opacity:1;stroke:none;font-family:sans-serif;text-anchor:start;fill:#0000FF\" x=\"88.3333\" y=\"147.251\"><tspan>N</tspan></text>\n",
       "</g>\n",
       "<g transform=\"translate(400,0)\"><rect height=\"200\" style=\"opacity:1.0;fill:#FFFFFF;stroke:none\" width=\"200\" x=\"0\" y=\"0\"> </rect>\n",
       "<path d=\"M 176.353,52.0757 166.063,53.5434\" style=\"fill:none;fill-rule:evenodd;stroke:#00CC00;stroke-width:2px;stroke-linecap:butt;stroke-linejoin:miter;stroke-opacity:1\"/>\n",
       "<path d=\"M 166.063,53.5434 155.772,55.0111\" style=\"fill:none;fill-rule:evenodd;stroke:#000000;stroke-width:2px;stroke-linecap:butt;stroke-linejoin:miter;stroke-opacity:1\"/>\n",
       "<path d=\"M 41.451,79.5512 51.9513,82.0356\" style=\"fill:none;fill-rule:evenodd;stroke:#FF0000;stroke-width:2px;stroke-linecap:butt;stroke-linejoin:miter;stroke-opacity:1\"/>\n",
       "<path d=\"M 51.9513,82.0356 62.4516,84.5199\" style=\"fill:none;fill-rule:evenodd;stroke:#000000;stroke-width:2px;stroke-linecap:butt;stroke-linejoin:miter;stroke-opacity:1\"/>\n",
       "<path d=\"M 42.6339,74.5513 53.1342,77.0357\" style=\"fill:none;fill-rule:evenodd;stroke:#FF0000;stroke-width:2px;stroke-linecap:butt;stroke-linejoin:miter;stroke-opacity:1\"/>\n",
       "<path d=\"M 53.1342,77.0357 63.6345,79.52\" style=\"fill:none;fill-rule:evenodd;stroke:#000000;stroke-width:2px;stroke-linecap:butt;stroke-linejoin:miter;stroke-opacity:1\"/>\n",
       "<path d=\"M 32.2209,116.49 40.2853,119.729\" style=\"fill:none;fill-rule:evenodd;stroke:#FF0000;stroke-width:2px;stroke-linecap:butt;stroke-linejoin:miter;stroke-opacity:1\"/>\n",
       "<path d=\"M 40.2853,119.729 48.3497,122.968\" style=\"fill:none;fill-rule:evenodd;stroke:#000000;stroke-width:2px;stroke-linecap:butt;stroke-linejoin:miter;stroke-opacity:1\"/>\n",
       "<path d=\"M 53.9096,143.756 52.4013,133.18\" style=\"fill:none;fill-rule:evenodd;stroke:#FF0000;stroke-width:2px;stroke-linecap:butt;stroke-linejoin:miter;stroke-opacity:1\"/>\n",
       "<path d=\"M 52.4013,133.18 50.8929,122.605\" style=\"fill:none;fill-rule:evenodd;stroke:#000000;stroke-width:2px;stroke-linecap:butt;stroke-linejoin:miter;stroke-opacity:1\"/>\n",
       "<path d=\"M 48.8232,144.481 47.3148,133.906\" style=\"fill:none;fill-rule:evenodd;stroke:#FF0000;stroke-width:2px;stroke-linecap:butt;stroke-linejoin:miter;stroke-opacity:1\"/>\n",
       "<path d=\"M 47.3148,133.906 45.8064,123.33\" style=\"fill:none;fill-rule:evenodd;stroke:#000000;stroke-width:2px;stroke-linecap:butt;stroke-linejoin:miter;stroke-opacity:1\"/>\n",
       "<path d=\"M 86.6411,62.1212 95.7745,62.1936\" style=\"fill:none;fill-rule:evenodd;stroke:#0000FF;stroke-width:2px;stroke-linecap:butt;stroke-linejoin:miter;stroke-opacity:1\"/>\n",
       "<path d=\"M 95.7745,62.1936 104.908,62.266\" style=\"fill:none;fill-rule:evenodd;stroke:#000000;stroke-width:2px;stroke-linecap:butt;stroke-linejoin:miter;stroke-opacity:1\"/>\n",
       "<path d=\"M 75.7486,66.3441 69.3959,74.182\" style=\"fill:none;fill-rule:evenodd;stroke:#0000FF;stroke-width:2px;stroke-linecap:butt;stroke-linejoin:miter;stroke-opacity:1\"/>\n",
       "<path d=\"M 69.3959,74.182 63.0431,82.0199\" style=\"fill:none;fill-rule:evenodd;stroke:#000000;stroke-width:2px;stroke-linecap:butt;stroke-linejoin:miter;stroke-opacity:1\"/>\n",
       "<path d=\"M 95.3286,116.688 105.09,112.083\" style=\"fill:none;fill-rule:evenodd;stroke:#0000FF;stroke-width:2px;stroke-linecap:butt;stroke-linejoin:miter;stroke-opacity:1\"/>\n",
       "<path d=\"M 105.09,112.083 114.851,107.477\" style=\"fill:none;fill-rule:evenodd;stroke:#000000;stroke-width:2px;stroke-linecap:butt;stroke-linejoin:miter;stroke-opacity:1\"/>\n",
       "<path d=\"M 96.0644,110.66 102.897,107.436\" style=\"fill:none;fill-rule:evenodd;stroke:#0000FF;stroke-width:2px;stroke-linecap:butt;stroke-linejoin:miter;stroke-opacity:1\"/>\n",
       "<path d=\"M 102.897,107.436 109.73,104.212\" style=\"fill:none;fill-rule:evenodd;stroke:#000000;stroke-width:2px;stroke-linecap:butt;stroke-linejoin:miter;stroke-opacity:1\"/>\n",
       "<path d=\"M 87.9064,116.616 78.2337,111.863\" style=\"fill:none;fill-rule:evenodd;stroke:#0000FF;stroke-width:2px;stroke-linecap:butt;stroke-linejoin:miter;stroke-opacity:1\"/>\n",
       "<path d=\"M 78.2337,111.863 68.5609,107.11\" style=\"fill:none;fill-rule:evenodd;stroke:#000000;stroke-width:2px;stroke-linecap:butt;stroke-linejoin:miter;stroke-opacity:1\"/>\n",
       "<path d=\"M 120.765,82.4773 114.851,107.477\" style=\"fill:none;fill-rule:evenodd;stroke:#000000;stroke-width:2px;stroke-linecap:butt;stroke-linejoin:miter;stroke-opacity:1\"/>\n",
       "<path d=\"M 120.765,82.4773 104.908,62.266\" style=\"fill:none;fill-rule:evenodd;stroke:#000000;stroke-width:2px;stroke-linecap:butt;stroke-linejoin:miter;stroke-opacity:1\"/>\n",
       "<path d=\"M 114.345,82.6171 103.244,68.4692\" style=\"fill:none;fill-rule:evenodd;stroke:#000000;stroke-width:2px;stroke-linecap:butt;stroke-linejoin:miter;stroke-opacity:1\"/>\n",
       "<path d=\"M 120.765,82.4773 146.198,78.8498\" style=\"fill:none;fill-rule:evenodd;stroke:#000000;stroke-width:2px;stroke-linecap:butt;stroke-linejoin:miter;stroke-opacity:1\"/>\n",
       "<path d=\"M 114.851,107.477 134.808,123.653\" style=\"fill:none;fill-rule:evenodd;stroke:#000000;stroke-width:2px;stroke-linecap:butt;stroke-linejoin:miter;stroke-opacity:1\"/>\n",
       "<path d=\"M 104.908,62.266 114.483,38.4272\" style=\"fill:none;fill-rule:evenodd;stroke:#000000;stroke-width:2px;stroke-linecap:butt;stroke-linejoin:miter;stroke-opacity:1\"/>\n",
       "<path d=\"M 68.5609,107.11 63.0431,82.0199\" style=\"fill:none;fill-rule:evenodd;stroke:#000000;stroke-width:2px;stroke-linecap:butt;stroke-linejoin:miter;stroke-opacity:1\"/>\n",
       "<path d=\"M 68.5609,107.11 48.3497,122.968\" style=\"fill:none;fill-rule:evenodd;stroke:#000000;stroke-width:2px;stroke-linecap:butt;stroke-linejoin:miter;stroke-opacity:1\"/>\n",
       "<path d=\"M 134.808,123.653 130.778,149.024\" style=\"fill:none;fill-rule:evenodd;stroke:#000000;stroke-width:2px;stroke-linecap:butt;stroke-linejoin:miter;stroke-opacity:1\"/>\n",
       "<path d=\"M 139.278,128.264 136.457,146.025\" style=\"fill:none;fill-rule:evenodd;stroke:#000000;stroke-width:2px;stroke-linecap:butt;stroke-linejoin:miter;stroke-opacity:1\"/>\n",
       "<path d=\"M 134.808,123.653 158.796,114.457\" style=\"fill:none;fill-rule:evenodd;stroke:#000000;stroke-width:2px;stroke-linecap:butt;stroke-linejoin:miter;stroke-opacity:1\"/>\n",
       "<path d=\"M 146.198,78.8498 155.772,55.0111\" style=\"fill:none;fill-rule:evenodd;stroke:#000000;stroke-width:2px;stroke-linecap:butt;stroke-linejoin:miter;stroke-opacity:1\"/>\n",
       "<path d=\"M 142.866,73.3591 149.569,56.6719\" style=\"fill:none;fill-rule:evenodd;stroke:#000000;stroke-width:2px;stroke-linecap:butt;stroke-linejoin:miter;stroke-opacity:1\"/>\n",
       "<path d=\"M 114.483,38.4272 139.915,34.7998\" style=\"fill:none;fill-rule:evenodd;stroke:#000000;stroke-width:2px;stroke-linecap:butt;stroke-linejoin:miter;stroke-opacity:1\"/>\n",
       "<path d=\"M 119.023,42.9696 136.825,40.4303\" style=\"fill:none;fill-rule:evenodd;stroke:#000000;stroke-width:2px;stroke-linecap:butt;stroke-linejoin:miter;stroke-opacity:1\"/>\n",
       "<path d=\"M 155.772,55.0111 139.915,34.7998\" style=\"fill:none;fill-rule:evenodd;stroke:#000000;stroke-width:2px;stroke-linecap:butt;stroke-linejoin:miter;stroke-opacity:1\"/>\n",
       "<path d=\"M 130.778,149.024 150.736,165.2\" style=\"fill:none;fill-rule:evenodd;stroke:#000000;stroke-width:2px;stroke-linecap:butt;stroke-linejoin:miter;stroke-opacity:1\"/>\n",
       "<path d=\"M 158.796,114.457 178.753,130.633\" style=\"fill:none;fill-rule:evenodd;stroke:#000000;stroke-width:2px;stroke-linecap:butt;stroke-linejoin:miter;stroke-opacity:1\"/>\n",
       "<path d=\"M 158.554,120.875 172.524,132.198\" style=\"fill:none;fill-rule:evenodd;stroke:#000000;stroke-width:2px;stroke-linecap:butt;stroke-linejoin:miter;stroke-opacity:1\"/>\n",
       "<path d=\"M 150.736,165.2 174.723,156.004\" style=\"fill:none;fill-rule:evenodd;stroke:#000000;stroke-width:2px;stroke-linecap:butt;stroke-linejoin:miter;stroke-opacity:1\"/>\n",
       "<path d=\"M 152.495,159.023 169.286,152.586\" style=\"fill:none;fill-rule:evenodd;stroke:#000000;stroke-width:2px;stroke-linecap:butt;stroke-linejoin:miter;stroke-opacity:1\"/>\n",
       "<path d=\"M 178.753,130.633 174.723,156.004\" style=\"fill:none;fill-rule:evenodd;stroke:#000000;stroke-width:2px;stroke-linecap:butt;stroke-linejoin:miter;stroke-opacity:1\"/>\n",
       "<text style=\"font-size:8px;font-style:normal;font-weight:normal;fill-opacity:1;stroke:none;font-family:sans-serif;text-anchor:start;fill:#00CC00\" x=\"176.353\" y=\"55.6652\"><tspan>Cl</tspan></text>\n",
       "<text style=\"font-size:8px;font-style:normal;font-weight:normal;fill-opacity:1;stroke:none;font-family:sans-serif;text-anchor:start;fill:#FF0000\" x=\"34.0446\" y=\"80.3868\"><tspan>O</tspan></text>\n",
       "<text style=\"font-size:8px;font-style:normal;font-weight:normal;fill-opacity:1;stroke:none;font-family:sans-serif;text-anchor:start;fill:#FF0000\" x=\"16.8009\" y=\"117.675\"><tspan>HO</tspan></text>\n",
       "<text style=\"font-size:8px;font-style:normal;font-weight:normal;fill-opacity:1;stroke:none;font-family:sans-serif;text-anchor:start;fill:#FF0000\" x=\"47.9782\" y=\"152.682\"><tspan>O</tspan></text>\n",
       "<text style=\"font-size:8px;font-style:normal;font-weight:normal;fill-opacity:1;stroke:none;font-family:sans-serif;text-anchor:start;fill:#0000FF\" x=\"71.7968\" y=\"66.3441\"><tspan>NH</tspan></text>\n",
       "<text style=\"font-size:8px;font-style:normal;font-weight:normal;fill-opacity:1;stroke:none;font-family:sans-serif;text-anchor:start;fill:#0000FF\" x=\"87.9064\" y=\"122.721\"><tspan>N</tspan></text>\n",
       "</g>\n",
       "<g transform=\"translate(600,0)\"><rect height=\"200\" style=\"opacity:1.0;fill:#FFFFFF;stroke:none\" width=\"200\" x=\"0\" y=\"0\"> </rect>\n",
       "<path d=\"M 139.646,140.145 134.911,134.395\" style=\"fill:none;fill-rule:evenodd;stroke:#00CC00;stroke-width:2px;stroke-linecap:butt;stroke-linejoin:miter;stroke-opacity:1\"/>\n",
       "<path d=\"M 134.911,134.395 130.177,128.644\" style=\"fill:none;fill-rule:evenodd;stroke:#000000;stroke-width:2px;stroke-linecap:butt;stroke-linejoin:miter;stroke-opacity:1\"/>\n",
       "<path d=\"M 153.115,110.391 157.3,104.043\" style=\"fill:none;fill-rule:evenodd;stroke:#33CCCC;stroke-width:2px;stroke-linecap:butt;stroke-linejoin:miter;stroke-opacity:1\"/>\n",
       "<path d=\"M 157.3,104.043 161.485,97.6941\" style=\"fill:none;fill-rule:evenodd;stroke:#000000;stroke-width:2px;stroke-linecap:butt;stroke-linejoin:miter;stroke-opacity:1\"/>\n",
       "<path d=\"M 78.4534,61.6984 85.2749,65.4963\" style=\"fill:none;fill-rule:evenodd;stroke:#FF0000;stroke-width:2px;stroke-linecap:butt;stroke-linejoin:miter;stroke-opacity:1\"/>\n",
       "<path d=\"M 85.2749,65.4963 92.0964,69.2943\" style=\"fill:none;fill-rule:evenodd;stroke:#000000;stroke-width:2px;stroke-linecap:butt;stroke-linejoin:miter;stroke-opacity:1\"/>\n",
       "<path d=\"M 80.3019,58.3782 87.1234,62.1762\" style=\"fill:none;fill-rule:evenodd;stroke:#FF0000;stroke-width:2px;stroke-linecap:butt;stroke-linejoin:miter;stroke-opacity:1\"/>\n",
       "<path d=\"M 87.1234,62.1762 93.945,65.9742\" style=\"fill:none;fill-rule:evenodd;stroke:#000000;stroke-width:2px;stroke-linecap:butt;stroke-linejoin:miter;stroke-opacity:1\"/>\n",
       "<path d=\"M 89.1514,87.7281 81.7354,90.7728\" style=\"fill:none;fill-rule:evenodd;stroke:#0000FF;stroke-width:2px;stroke-linecap:butt;stroke-linejoin:miter;stroke-opacity:1\"/>\n",
       "<path d=\"M 81.7354,90.7728 74.3195,93.8174\" style=\"fill:none;fill-rule:evenodd;stroke:#000000;stroke-width:2px;stroke-linecap:butt;stroke-linejoin:miter;stroke-opacity:1\"/>\n",
       "<path d=\"M 94.6408,89.0695 100.332,94.1878\" style=\"fill:none;fill-rule:evenodd;stroke:#0000FF;stroke-width:2px;stroke-linecap:butt;stroke-linejoin:miter;stroke-opacity:1\"/>\n",
       "<path d=\"M 100.332,94.1878 106.024,99.3062\" style=\"fill:none;fill-rule:evenodd;stroke:#000000;stroke-width:2px;stroke-linecap:butt;stroke-linejoin:miter;stroke-opacity:1\"/>\n",
       "<path d=\"M 92.0839,83.4345 92.5523,75.5344\" style=\"fill:none;fill-rule:evenodd;stroke:#0000FF;stroke-width:2px;stroke-linecap:butt;stroke-linejoin:miter;stroke-opacity:1\"/>\n",
       "<path d=\"M 92.5523,75.5344 93.0207,67.6343\" style=\"fill:none;fill-rule:evenodd;stroke:#000000;stroke-width:2px;stroke-linecap:butt;stroke-linejoin:miter;stroke-opacity:1\"/>\n",
       "<path d=\"M 44.45,88.2931 51.8659,85.2485\" style=\"fill:none;fill-rule:evenodd;stroke:#0000FF;stroke-width:2px;stroke-linecap:butt;stroke-linejoin:miter;stroke-opacity:1\"/>\n",
       "<path d=\"M 51.8659,85.2485 59.2818,82.2038\" style=\"fill:none;fill-rule:evenodd;stroke:#000000;stroke-width:2px;stroke-linecap:butt;stroke-linejoin:miter;stroke-opacity:1\"/>\n",
       "<path d=\"M 38.9605,87.3003 32.814,82.5533\" style=\"fill:none;fill-rule:evenodd;stroke:#0000FF;stroke-width:2px;stroke-linecap:butt;stroke-linejoin:miter;stroke-opacity:1\"/>\n",
       "<path d=\"M 32.814,82.5533 26.6675,77.8064\" style=\"fill:none;fill-rule:evenodd;stroke:#000000;stroke-width:2px;stroke-linecap:butt;stroke-linejoin:miter;stroke-opacity:1\"/>\n",
       "<path d=\"M 41.2782,92.5867 40.2223,100.418\" style=\"fill:none;fill-rule:evenodd;stroke:#0000FF;stroke-width:2px;stroke-linecap:butt;stroke-linejoin:miter;stroke-opacity:1\"/>\n",
       "<path d=\"M 40.2223,100.418 39.1664,108.25\" style=\"fill:none;fill-rule:evenodd;stroke:#000000;stroke-width:2px;stroke-linecap:butt;stroke-linejoin:miter;stroke-opacity:1\"/>\n",
       "<path d=\"M 128.092,65.1715 131.05,72.3764\" style=\"fill:none;fill-rule:evenodd;stroke:#0000FF;stroke-width:2px;stroke-linecap:butt;stroke-linejoin:miter;stroke-opacity:1\"/>\n",
       "<path d=\"M 131.05,72.3764 134.008,79.5813\" style=\"fill:none;fill-rule:evenodd;stroke:#000000;stroke-width:2px;stroke-linecap:butt;stroke-linejoin:miter;stroke-opacity:1\"/>\n",
       "<path d=\"M 125.464,68.7762 127.535,73.8196\" style=\"fill:none;fill-rule:evenodd;stroke:#0000FF;stroke-width:2px;stroke-linecap:butt;stroke-linejoin:miter;stroke-opacity:1\"/>\n",
       "<path d=\"M 127.535,73.8196 129.605,78.8631\" style=\"fill:none;fill-rule:evenodd;stroke:#000000;stroke-width:2px;stroke-linecap:butt;stroke-linejoin:miter;stroke-opacity:1\"/>\n",
       "<path d=\"M 124.047,61.2047 116.299,58.9463\" style=\"fill:none;fill-rule:evenodd;stroke:#0000FF;stroke-width:2px;stroke-linecap:butt;stroke-linejoin:miter;stroke-opacity:1\"/>\n",
       "<path d=\"M 116.299,58.9463 108.551,56.6878\" style=\"fill:none;fill-rule:evenodd;stroke:#000000;stroke-width:2px;stroke-linecap:butt;stroke-linejoin:miter;stroke-opacity:1\"/>\n",
       "<path d=\"M 74.3195,93.8174 59.2818,82.2038\" style=\"fill:none;fill-rule:evenodd;stroke:#000000;stroke-width:2px;stroke-linecap:butt;stroke-linejoin:miter;stroke-opacity:1\"/>\n",
       "<path d=\"M 106.024,99.3062 124.766,96.182\" style=\"fill:none;fill-rule:evenodd;stroke:#000000;stroke-width:2px;stroke-linecap:butt;stroke-linejoin:miter;stroke-opacity:1\"/>\n",
       "<path d=\"M 108.21,95.0892 121.329,92.9023\" style=\"fill:none;fill-rule:evenodd;stroke:#000000;stroke-width:2px;stroke-linecap:butt;stroke-linejoin:miter;stroke-opacity:1\"/>\n",
       "<path d=\"M 106.024,99.3062 99.3586,117.099\" style=\"fill:none;fill-rule:evenodd;stroke:#000000;stroke-width:2px;stroke-linecap:butt;stroke-linejoin:miter;stroke-opacity:1\"/>\n",
       "<path d=\"M 26.6675,77.8064 9.09091,85.0226\" style=\"fill:none;fill-rule:evenodd;stroke:#000000;stroke-width:2px;stroke-linecap:butt;stroke-linejoin:miter;stroke-opacity:1\"/>\n",
       "<path d=\"M 39.1664,108.25 21.5898,115.466\" style=\"fill:none;fill-rule:evenodd;stroke:#000000;stroke-width:2px;stroke-linecap:butt;stroke-linejoin:miter;stroke-opacity:1\"/>\n",
       "<path d=\"M 124.766,96.182 134.008,79.5813\" style=\"fill:none;fill-rule:evenodd;stroke:#000000;stroke-width:2px;stroke-linecap:butt;stroke-linejoin:miter;stroke-opacity:1\"/>\n",
       "<path d=\"M 124.766,96.182 136.842,110.851\" style=\"fill:none;fill-rule:evenodd;stroke:#000000;stroke-width:2px;stroke-linecap:butt;stroke-linejoin:miter;stroke-opacity:1\"/>\n",
       "<path d=\"M 93.0207,67.6343 108.551,56.6878\" style=\"fill:none;fill-rule:evenodd;stroke:#000000;stroke-width:2px;stroke-linecap:butt;stroke-linejoin:miter;stroke-opacity:1\"/>\n",
       "<path d=\"M 134.008,79.5813 152.975,80.7059\" style=\"fill:none;fill-rule:evenodd;stroke:#000000;stroke-width:2px;stroke-linecap:butt;stroke-linejoin:miter;stroke-opacity:1\"/>\n",
       "<path d=\"M 99.3586,117.099 111.435,131.768\" style=\"fill:none;fill-rule:evenodd;stroke:#000000;stroke-width:2px;stroke-linecap:butt;stroke-linejoin:miter;stroke-opacity:1\"/>\n",
       "<path d=\"M 104.104,116.884 112.557,127.152\" style=\"fill:none;fill-rule:evenodd;stroke:#000000;stroke-width:2px;stroke-linecap:butt;stroke-linejoin:miter;stroke-opacity:1\"/>\n",
       "<path d=\"M 136.842,110.851 130.177,128.644\" style=\"fill:none;fill-rule:evenodd;stroke:#000000;stroke-width:2px;stroke-linecap:butt;stroke-linejoin:miter;stroke-opacity:1\"/>\n",
       "<path d=\"M 132.284,112.187 127.618,124.642\" style=\"fill:none;fill-rule:evenodd;stroke:#000000;stroke-width:2px;stroke-linecap:butt;stroke-linejoin:miter;stroke-opacity:1\"/>\n",
       "<path d=\"M 152.975,80.7059 161.485,97.6941\" style=\"fill:none;fill-rule:evenodd;stroke:#000000;stroke-width:2px;stroke-linecap:butt;stroke-linejoin:miter;stroke-opacity:1\"/>\n",
       "<path d=\"M 157.649,81.5522 163.606,93.4439\" style=\"fill:none;fill-rule:evenodd;stroke:#000000;stroke-width:2px;stroke-linecap:butt;stroke-linejoin:miter;stroke-opacity:1\"/>\n",
       "<path d=\"M 152.975,80.7059 163.433,64.8423\" style=\"fill:none;fill-rule:evenodd;stroke:#000000;stroke-width:2px;stroke-linecap:butt;stroke-linejoin:miter;stroke-opacity:1\"/>\n",
       "<path d=\"M 111.435,131.768 130.177,128.644\" style=\"fill:none;fill-rule:evenodd;stroke:#000000;stroke-width:2px;stroke-linecap:butt;stroke-linejoin:miter;stroke-opacity:1\"/>\n",
       "<path d=\"M 161.485,97.6941 180.452,98.8187\" style=\"fill:none;fill-rule:evenodd;stroke:#000000;stroke-width:2px;stroke-linecap:butt;stroke-linejoin:miter;stroke-opacity:1\"/>\n",
       "<path d=\"M 163.433,64.8423 182.4,65.9669\" style=\"fill:none;fill-rule:evenodd;stroke:#000000;stroke-width:2px;stroke-linecap:butt;stroke-linejoin:miter;stroke-opacity:1\"/>\n",
       "<path d=\"M 166.053,68.8044 179.33,69.5916\" style=\"fill:none;fill-rule:evenodd;stroke:#000000;stroke-width:2px;stroke-linecap:butt;stroke-linejoin:miter;stroke-opacity:1\"/>\n",
       "<path d=\"M 180.452,98.8187 190.909,82.9551\" style=\"fill:none;fill-rule:evenodd;stroke:#000000;stroke-width:2px;stroke-linecap:butt;stroke-linejoin:miter;stroke-opacity:1\"/>\n",
       "<path d=\"M 178.848,94.3477 186.168,83.2432\" style=\"fill:none;fill-rule:evenodd;stroke:#000000;stroke-width:2px;stroke-linecap:butt;stroke-linejoin:miter;stroke-opacity:1\"/>\n",
       "<path d=\"M 182.4,65.9669 190.909,82.9551\" style=\"fill:none;fill-rule:evenodd;stroke:#000000;stroke-width:2px;stroke-linecap:butt;stroke-linejoin:miter;stroke-opacity:1\"/>\n",
       "<text style=\"font-size:6px;font-style:normal;font-weight:normal;fill-opacity:1;stroke:none;font-family:sans-serif;text-anchor:start;fill:#00CC00\" x=\"138.664\" y=\"146.479\"><tspan>Cl</tspan></text>\n",
       "<text style=\"font-size:6px;font-style:normal;font-weight:normal;fill-opacity:1;stroke:none;font-family:sans-serif;text-anchor:start;fill:#33CCCC\" x=\"148.705\" y=\"116.724\"><tspan>F</tspan></text>\n",
       "<text style=\"font-size:6px;font-style:normal;font-weight:normal;fill-opacity:1;stroke:none;font-family:sans-serif;text-anchor:start;fill:#FF0000\" x=\"73.4624\" y=\"61.5583\"><tspan>O</tspan></text>\n",
       "<text style=\"font-size:6px;font-style:normal;font-weight:normal;fill-opacity:1;stroke:none;font-family:sans-serif;text-anchor:start;fill:#0000FF\" x=\"89.1514\" y=\"89.7679\"><tspan>N</tspan></text>\n",
       "<text style=\"font-size:6px;font-style:normal;font-weight:normal;fill-opacity:1;stroke:none;font-family:sans-serif;text-anchor:start;fill:#0000FF\" x=\"38.9605\" y=\"92.5867\"><tspan>N</tspan></text>\n",
       "<text style=\"font-size:6px;font-style:normal;font-weight:normal;fill-opacity:1;stroke:none;font-family:sans-serif;text-anchor:start;fill:#0000FF\" x=\"124.047\" y=\"65.1715\"><tspan>N</tspan></text>\n",
       "</g></svg>"
      ],
      "text/plain": [
       "<IPython.core.display.SVG object>"
      ]
     },
     "execution_count": 41,
     "metadata": {},
     "output_type": "execute_result"
    }
   ],
   "source": [
    "PandasTools.FrameToGridImage(somemols.head(4), molsPerRow=4)"
   ]
  },
  {
   "cell_type": "markdown",
   "metadata": {},
   "source": [
    "  \n",
    "  \n",
    "  "
   ]
  },
  {
   "cell_type": "markdown",
   "metadata": {},
   "source": [
    "<br>\n",
    "<br>\n",
    "<br>\n",
    "<br>\n",
    "<br>\n",
    "<br>\n",
    "\n",
    "### Check our GitHub https://github.com/Team-SKI/snippets\n",
    "### Check our web page http://www.bio.mx.\n",
    "<img src=\"files/biomedx.png\">  \n",
    "<br>\n",
    "\n",
    "<img src=\"files/rdkit.png\">  \n",
    "<br>\n",
    "\n",
    "<img src=\"files/merck.jpeg\">  \n",
    "<br>\n",
    "\n",
    "# Thank you!\n",
    "\n",
    "<br>\n",
    "<br>\n",
    "<br>\n",
    "<br>\n",
    "<br>\n",
    "<br>"
   ]
  },
  {
   "cell_type": "markdown",
   "metadata": {},
   "source": [
    "Copyright (C) 2014 by Samo Turk, [BioMed X GmbH](http://bio.mx/)\n",
    "\n",
    "This work is licensed under the Creative Commons Attribution-ShareAlike 3.0 License. To view a copy of this license, visit http://creativecommons.org/licenses/by-sa/3.0/ or send a letter to Creative Commons, 543 Howard Street, 5th Floor, San Francisco, California, 94105, USA."
   ]
  }
 ],
 "metadata": {
  "kernelspec": {
   "display_name": "Python 2",
   "language": "python2",
   "name": "python2"
  },
  "language_info": {
   "codemirror_mode": {
    "name": "ipython",
    "version": 2
   },
   "file_extension": ".py",
   "mimetype": "text/x-python",
   "name": "python",
   "nbconvert_exporter": "python",
   "pygments_lexer": "ipython2",
   "version": "2.7.12"
  }
 },
 "nbformat": 4,
 "nbformat_minor": 0
}

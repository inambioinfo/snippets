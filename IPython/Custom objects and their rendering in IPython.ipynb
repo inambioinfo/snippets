{
 "metadata": {
  "name": "",
  "signature": "sha256:6113a291fc996e38c8767d374ad1aca15a88541f19c056b90f69a0eb88d5c1cf"
 },
 "nbformat": 3,
 "nbformat_minor": 0,
 "worksheets": [
  {
   "cells": [
    {
     "cell_type": "markdown",
     "metadata": {},
     "source": [
      "# Custom objects and their rendering in IPython\n",
      "### Example of how to use object representations"
     ]
    },
    {
     "cell_type": "code",
     "collapsed": false,
     "input": [
      "import rdkit.Chem as Chem\n",
      "from rdkit.Chem import PandasTools\n",
      "from rdkit.Chem import Draw\n",
      "from rdkit.Chem import Descriptors\n",
      "from rdkit.Chem.Draw import IPythonConsole # Enables RDKit IPython integration"
     ],
     "language": "python",
     "metadata": {},
     "outputs": [],
     "prompt_number": 1
    },
    {
     "cell_type": "markdown",
     "metadata": {},
     "source": [
      "### Lets say you need to create a custom object and you'd like to control the default representation"
     ]
    },
    {
     "cell_type": "markdown",
     "metadata": {},
     "source": [
      "We'll create an object that can store multiple molecules"
     ]
    },
    {
     "cell_type": "code",
     "collapsed": false,
     "input": [
      "class primitiveMolsObject():\n",
      "    def __init__(self, mols=None):\n",
      "        self.mols = mols\n",
      "        self.num = len(mols) # Return number of mols"
     ],
     "language": "python",
     "metadata": {},
     "outputs": [],
     "prompt_number": 2
    },
    {
     "cell_type": "markdown",
     "metadata": {},
     "source": [
      "Get some mols and put them in a list"
     ]
    },
    {
     "cell_type": "code",
     "collapsed": false,
     "input": [
      "mol1 = Chem.MolFromSmiles('NC(=O)CS(=O)C(c1ccccc1)c1ccccc1')"
     ],
     "language": "python",
     "metadata": {},
     "outputs": [],
     "prompt_number": 3
    },
    {
     "cell_type": "code",
     "collapsed": false,
     "input": [
      "mol2 = Chem.MolFromSmiles('CCC(OC(C)=O)C(CC(C)N(C)C)(c1ccccc1)c1ccccc1')"
     ],
     "language": "python",
     "metadata": {},
     "outputs": [],
     "prompt_number": 4
    },
    {
     "cell_type": "code",
     "collapsed": false,
     "input": [
      "mol3 = Chem.MolFromSmiles(' Cc1ccccc1C(OCCN(C)C)c1ccccc1')"
     ],
     "language": "python",
     "metadata": {},
     "outputs": [],
     "prompt_number": 5
    },
    {
     "cell_type": "code",
     "collapsed": false,
     "input": [
      "mols = [mol1, mol2, mol3]"
     ],
     "language": "python",
     "metadata": {},
     "outputs": [],
     "prompt_number": 6
    },
    {
     "cell_type": "markdown",
     "metadata": {},
     "source": [
      "Create model instance wih your mols"
     ]
    },
    {
     "cell_type": "code",
     "collapsed": false,
     "input": [
      "MyMols = primitiveMolsObject(mols)"
     ],
     "language": "python",
     "metadata": {},
     "outputs": [],
     "prompt_number": 7
    },
    {
     "cell_type": "code",
     "collapsed": false,
     "input": [
      "MyMols"
     ],
     "language": "python",
     "metadata": {},
     "outputs": [
      {
       "metadata": {},
       "output_type": "pyout",
       "prompt_number": 8,
       "text": [
        "<__main__.primitiveMolsObject instance at 0x7f6cd9567908>"
       ]
      }
     ],
     "prompt_number": 8
    },
    {
     "cell_type": "markdown",
     "metadata": {},
     "source": [
      "Default rendering gives very little info about contents"
     ]
    },
    {
     "cell_type": "code",
     "collapsed": false,
     "input": [
      "MyMols.mols"
     ],
     "language": "python",
     "metadata": {},
     "outputs": [
      {
       "metadata": {},
       "output_type": "pyout",
       "prompt_number": 9,
       "text": [
        "[<rdkit.Chem.rdchem.Mol at 0x7f6cdfcb8bb0>,\n",
        " <rdkit.Chem.rdchem.Mol at 0x7f6cdfc36d70>,\n",
        " <rdkit.Chem.rdchem.Mol at 0x7f6cdfc36d00>]"
       ]
      }
     ],
     "prompt_number": 9
    },
    {
     "cell_type": "code",
     "collapsed": false,
     "input": [
      "MyMols.num"
     ],
     "language": "python",
     "metadata": {},
     "outputs": [
      {
       "metadata": {},
       "output_type": "pyout",
       "prompt_number": 10,
       "text": [
        "3"
       ]
      }
     ],
     "prompt_number": 10
    },
    {
     "cell_type": "markdown",
     "metadata": {},
     "source": [
      "### Luckily default representations of objects in ipython can be easily controled with \\_repr\\_html\\_"
     ]
    },
    {
     "cell_type": "markdown",
     "metadata": {},
     "source": [
      "Lets define the object again, this time with functions that control representation"
     ]
    },
    {
     "cell_type": "code",
     "collapsed": false,
     "input": [
      "class primitiveMolsObject2():\n",
      "    def __init__(self, mols=None):\n",
      "        self.mols = mols\n",
      "        self.num = len(mols) # Return number of mols\n",
      "    \n",
      "    def _repr_html_(self):\n",
      "        # Default representation in IPython\n",
      "        smilesString = ''\n",
      "        for mol in mols:\n",
      "            smilesString += Chem.MolToSmiles(mol) + \", \" \n",
      "        return smilesString #'<img src=\"data:image/png;base64,%s\" alt=\"Mol\"/>' %s"
     ],
     "language": "python",
     "metadata": {},
     "outputs": [],
     "prompt_number": 11
    },
    {
     "cell_type": "code",
     "collapsed": false,
     "input": [
      "MyMols2 = primitiveMolsObject2(mols)"
     ],
     "language": "python",
     "metadata": {},
     "outputs": [],
     "prompt_number": 12
    },
    {
     "cell_type": "markdown",
     "metadata": {},
     "source": [
      "Much better! We can acually see what hides behind an object"
     ]
    },
    {
     "cell_type": "code",
     "collapsed": false,
     "input": [
      "MyMols2"
     ],
     "language": "python",
     "metadata": {},
     "outputs": [
      {
       "html": [
        "NC(=O)CS(=O)C(c1ccccc1)c1ccccc1, CCC(OC(C)=O)C(CC(C)N(C)C)(c1ccccc1)c1ccccc1, Cc1ccccc1C(OCCN(C)C)c1ccccc1, "
       ],
       "metadata": {},
       "output_type": "pyout",
       "prompt_number": 13,
       "text": [
        "<__main__.primitiveMolsObject2 instance at 0x7f6cd958c050>"
       ]
      }
     ],
     "prompt_number": 13
    },
    {
     "cell_type": "markdown",
     "metadata": {},
     "source": [
      "#### Or we can add graphic representation"
     ]
    },
    {
     "cell_type": "code",
     "collapsed": false,
     "input": [
      "from base64 import b64encode\n",
      "from StringIO import StringIO\n",
      "\n",
      "class primitiveMolsObject3():\n",
      "    def __init__(self, mols=None):\n",
      "        self.mols = mols\n",
      "        self.num = len(mols) # Return number of mols\n",
      "    \n",
      "    def _repr_html_(self):\n",
      "        # Default representation in IPython\n",
      "        sio = StringIO()\n",
      "        Draw.MolsToGridImage(self.mols).save(sio,format='PNG')\n",
      "        s = b64encode(sio.getvalue()) # Encode in base64\n",
      "        return '<img src=\"data:image/png;base64,%s\" alt=\"Mol\"/>' %s"
     ],
     "language": "python",
     "metadata": {},
     "outputs": [],
     "prompt_number": 14
    },
    {
     "cell_type": "code",
     "collapsed": false,
     "input": [
      "MyOtherMols = primitiveMolsObject3(mols)"
     ],
     "language": "python",
     "metadata": {},
     "outputs": [],
     "prompt_number": 15
    },
    {
     "cell_type": "markdown",
     "metadata": {},
     "source": [
      "Much better! We can acually see what hides behind an object"
     ]
    },
    {
     "cell_type": "code",
     "collapsed": false,
     "input": [
      "MyOtherMols"
     ],
     "language": "python",
     "metadata": {},
     "outputs": [
      {
       "html": [
        "<img src=\"data:image/png;base64,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\" alt=\"Mol\"/>"
       ],
       "metadata": {},
       "output_type": "pyout",
       "prompt_number": 16,
       "text": [
        "<__main__.primitiveMolsObject3 instance at 0x7f6cd958cbd8>"
       ]
      }
     ],
     "prompt_number": 16
    },
    {
     "cell_type": "markdown",
     "metadata": {},
     "source": [
      "Copyright (C) 2014 by Samo Turk, BioMed X GmbH\n",
      "\n",
      "This work is licensed under the Creative Commons Attribution-ShareAlike 3.0 License. To view a copy of this license, visit http://creativecommons.org/licenses/by-sa/3.0/ or send a letter to Creative Commons, 543 Howard Street, 5th Floor, San Francisco, California, 94105, USA.\n"
     ]
    }
   ],
   "metadata": {}
  }
 ]
}
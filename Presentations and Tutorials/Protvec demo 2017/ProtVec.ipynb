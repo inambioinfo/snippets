{
 "cells": [
  {
   "cell_type": "markdown",
   "metadata": {
    "slideshow": {
     "slide_type": "slide"
    }
   },
   "source": [
    "## ProtVec: A Continuous Distributed Representation of Biological Sequences"
   ]
  },
  {
   "cell_type": "markdown",
   "metadata": {
    "slideshow": {
     "slide_type": "fragment"
    }
   },
   "source": [
    "[Asgari and Mofrad (2015)](http://journals.plos.org/plosone/article?id=10.1371/journal.pone.0141287)"
   ]
  },
  {
   "cell_type": "markdown",
   "metadata": {
    "slideshow": {
     "slide_type": "fragment"
    }
   },
   "source": [
    "### **Based on Word2Vec algorithm**  \n",
    "[Word2Vec tutorial](https://www.tensorflow.org/tutorials/word2vec) and [Word2Vec summary](https://en.wikipedia.org/wiki/Word2vec )  \n",
    "\n",
    "\n",
    "- computationally-efficient predictive model for learning word embeddings from raw text\n",
    "- reconstruct linguistic contexts of words\n",
    "\n",
    "- Continuous Bag-of-Words model (CBOW) and the Skip-gram model\n",
    "\n",
    "\n",
    "- CBOW predicts target words (e.g. 'mat') from source context words\n",
    "- Skip-gram does the inverse and predicts source context words from the target words\n",
    "\n"
   ]
  },
  {
   "cell_type": "markdown",
   "metadata": {
    "slideshow": {
     "slide_type": "subslide"
    }
   },
   "source": [
    "- Continuous Bag-of-Words model (CBOW) and the Skip-gram model (window size = 2)\n",
    "\n",
    "\n",
    "- CBOW predicts target words (e.g. 'mat') from source context words\n",
    "- Skip-gram does the inverse and predicts source context words from the target words\n",
    "\n",
    "    \n",
    "![Alt text](figures/Skip_gram_cbow.png)\n",
    "    "
   ]
  },
  {
   "cell_type": "markdown",
   "metadata": {
    "slideshow": {
     "slide_type": "subslide"
    }
   },
   "source": [
    "- words are represented as vectors\n",
    "  - closely related words are also close in vector space\n",
    "\n",
    "![Alt text](figures/relationships_plus_vectors2.png)"
   ]
  },
  {
   "cell_type": "markdown",
   "metadata": {
    "slideshow": {
     "slide_type": "subslide"
    }
   },
   "source": [
    "![Alt text](figures/proteinsequence.png)"
   ]
  },
  {
   "cell_type": "markdown",
   "metadata": {
    "slideshow": {
     "slide_type": "slide"
    }
   },
   "source": [
    "![Alt text](figures/protein_words.png)"
   ]
  },
  {
   "cell_type": "markdown",
   "metadata": {
    "slideshow": {
     "slide_type": "fragment"
    }
   },
   "source": [
    "![Alt text](figures/Protein_sentences.png)"
   ]
  },
  {
   "cell_type": "markdown",
   "metadata": {
    "slideshow": {
     "slide_type": "subslide"
    }
   },
   "source": [
    "![Alt text](figures/Protein_sentences2.png)"
   ]
  },
  {
   "cell_type": "markdown",
   "metadata": {},
   "source": [
    "# Definitions:\n",
    "\n",
    "![Alt text](figures/table_overview_vocab2.png)"
   ]
  },
  {
   "cell_type": "code",
   "execution_count": 1,
   "metadata": {
    "slideshow": {
     "slide_type": "skip"
    }
   },
   "outputs": [],
   "source": [
    "import sys"
   ]
  },
  {
   "cell_type": "markdown",
   "metadata": {
    "slideshow": {
     "slide_type": "slide"
    }
   },
   "source": [
    "Word2vec representation of proteins"
   ]
  },
  {
   "cell_type": "code",
   "execution_count": 2,
   "metadata": {
    "slideshow": {
     "slide_type": "skip"
    }
   },
   "outputs": [],
   "source": [
    "sys.path.append('./')\n",
    "\n",
    "from helpers import nGram, DfVec"
   ]
  },
  {
   "cell_type": "markdown",
   "metadata": {
    "slideshow": {
     "slide_type": "fragment"
    }
   },
   "source": [
    "[Biovec: Github repository](https://github.com/kyu999/biovec)  \n"
   ]
  },
  {
   "cell_type": "code",
   "execution_count": 3,
   "metadata": {},
   "outputs": [],
   "source": [
    "sys.path.append('./biovec')"
   ]
  },
  {
   "cell_type": "code",
   "execution_count": 4,
   "metadata": {
    "slideshow": {
     "slide_type": "fragment"
    }
   },
   "outputs": [],
   "source": [
    "import biovec"
   ]
  },
  {
   "cell_type": "code",
   "execution_count": 5,
   "metadata": {
    "slideshow": {
     "slide_type": "fragment"
    }
   },
   "outputs": [
    {
     "data": {
      "text/html": [
       "<samp><b><span style=\"color: Red\">ATA</span><span style=\"color: Maroon\">TQS</span><span style=\"color: Yellow\">QSM</span><span style=\"color: Olive\">TEE</span><span style=\"color: Lime\">LIP</span><span style=\"color: Green\">DFT</span><span style=\"color: Aqua\">PAL</span>\n",
       " <span style=\"color: Red\">TAT</span><span style=\"color: Maroon\">QSQ</span><span style=\"color: Yellow\">SMT</span><span style=\"color: Olive\">EEL</span><span style=\"color: Lime\">IPD</span><span style=\"color: Green\">FTP</span><span style=\"color: Aqua\">ALQ</span>\n",
       "  <span style=\"color: Red\">ATQ</span><span style=\"color: Maroon\">SQS</span><span style=\"color: Yellow\">MTE</span><span style=\"color: Olive\">ELI</span><span style=\"color: Lime\">PDF</span><span style=\"color: Green\">TPA</span>\n",
       "</b></samp>"
      ],
      "text/plain": [
       "n-gram with 3 sentences"
      ]
     },
     "execution_count": 5,
     "metadata": {},
     "output_type": "execute_result"
    }
   ],
   "source": [
    "nGram(biovec.models.split_ngrams('ATATQSQSMTEELIPDFTPALQ',3))"
   ]
  },
  {
   "cell_type": "markdown",
   "metadata": {
    "slideshow": {
     "slide_type": "subslide"
    }
   },
   "source": [
    "Load protein sequence file, generate corpus and train word2vec model"
   ]
  },
  {
   "cell_type": "code",
   "execution_count": 6,
   "metadata": {
    "scrolled": false,
    "slideshow": {
     "slide_type": "fragment"
    }
   },
   "outputs": [
    {
     "name": "stdout",
     "output_type": "stream",
     "text": [
      "Generate Corpus file from fasta file...\n",
      "......................................................................................"
     ]
    }
   ],
   "source": [
    "# train on 500 protein sequences\n",
    "pv = biovec.ProtVec('data/uniprot_sprot_small.fasta')"
   ]
  },
  {
   "cell_type": "markdown",
   "metadata": {
    "slideshow": {
     "slide_type": "skip"
    }
   },
   "source": [
    "Save model to outputfile"
   ]
  },
  {
   "cell_type": "code",
   "execution_count": 7,
   "metadata": {
    "collapsed": true,
    "slideshow": {
     "slide_type": "skip"
    }
   },
   "outputs": [],
   "source": [
    "pv.save('trained_models/model_SwissProt_small')"
   ]
  },
  {
   "cell_type": "markdown",
   "metadata": {
    "slideshow": {
     "slide_type": "slide"
    }
   },
   "source": [
    "**Load model trained on whole SwissProt**"
   ]
  },
  {
   "cell_type": "code",
   "execution_count": 8,
   "metadata": {
    "slideshow": {
     "slide_type": "fragment"
    }
   },
   "outputs": [],
   "source": [
    "pv2 = biovec.models.load_protvec('trained_models/swissprot_reviewed_protvec')"
   ]
  },
  {
   "cell_type": "markdown",
   "metadata": {
    "slideshow": {
     "slide_type": "fragment"
    }
   },
   "source": [
    "**Number of unique triplets in SwissProt protein sequences**\n",
    "- 551,754 proteins as of 14/07/2016"
   ]
  },
  {
   "cell_type": "code",
   "execution_count": 9,
   "metadata": {
    "slideshow": {
     "slide_type": "fragment"
    }
   },
   "outputs": [
    {
     "data": {
      "text/plain": [
       "19602"
      ]
     },
     "execution_count": 9,
     "metadata": {},
     "output_type": "execute_result"
    }
   ],
   "source": [
    "pv2.corpus_count"
   ]
  },
  {
   "cell_type": "code",
   "execution_count": 10,
   "metadata": {
    "scrolled": true,
    "slideshow": {
     "slide_type": "subslide"
    }
   },
   "outputs": [
    {
     "name": "stdout",
     "output_type": "stream",
     "text": [
      "(u'HEL', 25379)\n",
      "(u'HEM', 6270)\n",
      "(u'HEN', 10164)\n",
      "(u'SPX', 14)\n",
      "(u'SPY', 19716)\n",
      "(u'SPZ', 2)\n",
      "(u'SPP', 35834)\n",
      "(u'SPQ', 28341)\n",
      "(u'SPR', 33820)\n",
      "(u'SPS', 58983)\n"
     ]
    }
   ],
   "source": [
    "for word, vocab_obj in pv2.wv.vocab.items()[:10]:\n",
    "    print(word, vocab_obj.count)\n",
    "    "
   ]
  },
  {
   "cell_type": "markdown",
   "metadata": {
    "slideshow": {
     "slide_type": "slide"
    }
   },
   "source": [
    "Use model to generate vector for 3-gram (\"word\")"
   ]
  },
  {
   "cell_type": "code",
   "execution_count": 11,
   "metadata": {
    "slideshow": {
     "slide_type": "fragment"
    }
   },
   "outputs": [
    {
     "data": {
      "text/plain": [
       "array([ 0.07199927, -0.17778611, -0.21824333,  0.27787745,  0.05371263,\n",
       "       -0.10400327,  0.02377583, -0.0887413 , -0.06109211, -0.05816383,\n",
       "        0.06203544, -0.02728248, -0.130863  ,  0.11067314,  0.02590071,\n",
       "       -0.02414334, -0.17260185, -0.09142881, -0.15863536,  0.25554031,\n",
       "        0.18589509,  0.26383272, -0.17130192, -0.06085125,  0.06586117,\n",
       "        0.29733598,  0.08048982,  0.0138846 ,  0.00434317,  0.07395428,\n",
       "       -0.06488879, -0.04518017, -0.05234578, -0.0608374 , -0.01443057,\n",
       "       -0.1358099 , -0.05305588, -0.07165639, -0.08355775,  0.08682172,\n",
       "       -0.11579227,  0.17069615, -0.12699088, -0.06393623, -0.25057083,\n",
       "        0.05186024,  0.03241514, -0.05236005,  0.0952641 , -0.09119482,\n",
       "        0.00891929, -0.0472044 ,  0.20187795,  0.1509369 , -0.02013177,\n",
       "       -0.15396126, -0.17301483, -0.1410501 , -0.04455834,  0.05537254,\n",
       "        0.009409  , -0.09073627,  0.02759676, -0.00838915, -0.15126441,\n",
       "       -0.21351872,  0.03616622, -0.02116963, -0.14021651, -0.16511638,\n",
       "       -0.10704015,  0.16301343, -0.26479068,  0.01483645, -0.01431275,\n",
       "       -0.17264214,  0.00402677,  0.13981414,  0.06101454,  0.01911691,\n",
       "       -0.01917105, -0.05374978,  0.15697169, -0.05011881, -0.24429983,\n",
       "       -0.35538471, -0.07393362, -0.2599929 ,  0.21639314,  0.06784239,\n",
       "       -0.08006469,  0.20843878,  0.01917003,  0.0023179 ,  0.01642302,\n",
       "       -0.15046911,  0.01635709, -0.01980101, -0.00783952,  0.10003735], dtype=float32)"
      ]
     },
     "execution_count": 11,
     "metadata": {},
     "output_type": "execute_result"
    }
   ],
   "source": [
    "pv[\"SDS\"]"
   ]
  },
  {
   "cell_type": "markdown",
   "metadata": {
    "slideshow": {
     "slide_type": "subslide"
    }
   },
   "source": [
    "Encode protein as sum of possible sentences"
   ]
  },
  {
   "cell_type": "code",
   "execution_count": 12,
   "metadata": {
    "slideshow": {
     "slide_type": "fragment"
    }
   },
   "outputs": [
    {
     "data": {
      "text/plain": [
       "array([  4.68553257e+00,  -2.75733203e-01,  -6.00899935e-01,\n",
       "        -2.32942414e+00,   3.69190884e+00,   1.20364714e+00,\n",
       "         3.21482921e+00,   8.26907039e-01,  -2.80144858e+00,\n",
       "         4.24059296e+00,   2.33630538e+00,   1.99242878e+00,\n",
       "        -1.75492674e-01,  -1.36675763e+00,  -1.37515903e-01,\n",
       "        -3.05941582e+00,   6.12935245e-01,  -2.91317677e+00,\n",
       "        -3.39738178e+00,  -2.10831833e+00,  -2.32825470e+00,\n",
       "        -6.69668794e-01,  -3.03118372e+00,   6.32648051e-01,\n",
       "        -4.99482453e-03,  -2.73134887e-01,  -4.11112309e+00,\n",
       "         4.59184027e+00,   4.11478877e-01,   9.35785472e-04,\n",
       "        -4.73659337e-01,  -7.85629377e-02,   2.17600250e+00,\n",
       "         1.62492299e+00,   1.04783225e+00,  -1.37927711e-01,\n",
       "         1.78160560e+00,   1.92866004e+00,   1.85238868e-02,\n",
       "         2.07188654e+00,   3.56623411e+00,   1.03589153e+00,\n",
       "         2.29612327e+00,   6.40555024e-01,  -9.52317059e-01,\n",
       "         6.12652206e+00,  -5.67247868e+00,  -5.70953250e-01,\n",
       "        -1.52678132e+00,  -2.65592694e+00,   1.87092602e+00,\n",
       "         1.07185936e+00,  -6.61540508e-01,  -1.72899652e+00,\n",
       "         2.05547094e+00,   1.13462079e+00,  -7.43898153e-01,\n",
       "        -4.90768671e-01,   3.04736662e+00,   3.34149218e+00,\n",
       "         1.53921056e+00,  -1.71060848e+00,   2.29783297e+00,\n",
       "         1.61522102e+00,  -1.64494962e-02,   3.85223389e+00,\n",
       "        -3.63515615e+00,   9.30504203e-02,  -2.34111166e+00,\n",
       "         1.45874178e+00,  -1.01483488e+00,  -2.70793647e-01,\n",
       "         6.48828208e-01,  -1.79022640e-01,   2.05878687e+00,\n",
       "         6.36593342e-01,   5.13281167e-01,   2.30874634e+00,\n",
       "        -5.54438710e-01,  -1.27579904e+00,   1.47414660e+00,\n",
       "         6.86583757e-01,   4.90829021e-01,  -3.90453905e-01,\n",
       "         1.48580849e+00,  -6.84610367e-01,  -7.16548562e-02,\n",
       "         1.12589478e+00,   7.35349476e-01,  -9.81474280e-01,\n",
       "         1.65605009e+00,   3.35226321e+00,   1.46971965e+00,\n",
       "        -1.22478199e+00,   1.79338932e+00,  -2.01244855e+00,\n",
       "         2.42645478e+00,  -3.31947565e-01,  -1.71771681e+00,\n",
       "         4.98568487e+00], dtype=float32)"
      ]
     },
     "execution_count": 12,
     "metadata": {},
     "output_type": "execute_result"
    }
   ],
   "source": [
    "sum(pv2.to_vecs(\"ATATQSQSMTEELIPDFTPALQ\"))"
   ]
  },
  {
   "cell_type": "markdown",
   "metadata": {
    "slideshow": {
     "slide_type": "slide"
    }
   },
   "source": [
    "# Paper Results:\n",
    "- n-grams with similar properties are also close in vector space\n",
    "- family classification with vector representation: 93 % weigthed accuracy"
   ]
  },
  {
   "cell_type": "markdown",
   "metadata": {
    "collapsed": true,
    "slideshow": {
     "slide_type": "fragment"
    }
   },
   "source": [
    "### Import protein information for encoding as vectors"
   ]
  },
  {
   "cell_type": "code",
   "execution_count": 13,
   "metadata": {
    "collapsed": true,
    "slideshow": {
     "slide_type": "skip"
    }
   },
   "outputs": [],
   "source": [
    "import pandas as pd"
   ]
  },
  {
   "cell_type": "markdown",
   "metadata": {
    "slideshow": {
     "slide_type": "fragment"
    }
   },
   "source": [
    "Load data set"
   ]
  },
  {
   "cell_type": "code",
   "execution_count": 14,
   "metadata": {
    "slideshow": {
     "slide_type": "fragment"
    }
   },
   "outputs": [],
   "source": [
    "infile = 'data/family_classification_and_sequence_small.tab'\n"
   ]
  },
  {
   "cell_type": "code",
   "execution_count": 15,
   "metadata": {
    "slideshow": {
     "slide_type": "fragment"
    }
   },
   "outputs": [],
   "source": [
    "df = pd.read_csv(infile,delimiter='\\t')"
   ]
  },
  {
   "cell_type": "code",
   "execution_count": 16,
   "metadata": {
    "slideshow": {
     "slide_type": "fragment"
    }
   },
   "outputs": [
    {
     "data": {
      "text/html": [
       "<div>\n",
       "<table border=\"1\" class=\"dataframe\">\n",
       "  <thead>\n",
       "    <tr style=\"text-align: right;\">\n",
       "      <th></th>\n",
       "      <th>Unnamed: 0</th>\n",
       "      <th>SwissProtAccessionID</th>\n",
       "      <th>LongID</th>\n",
       "      <th>ProteinName</th>\n",
       "      <th>FamilyID</th>\n",
       "      <th>FamilyDescription</th>\n",
       "      <th>sequence</th>\n",
       "    </tr>\n",
       "  </thead>\n",
       "  <tbody>\n",
       "    <tr>\n",
       "      <th>0</th>\n",
       "      <td>0</td>\n",
       "      <td>Q65P94</td>\n",
       "      <td>R14Z1_BACLD</td>\n",
       "      <td>30S ribosomal protein S14 type Z 1</td>\n",
       "      <td>Ribosomal_S14</td>\n",
       "      <td>Ribosomal protein S14p/S29e</td>\n",
       "      <td>MAKKSMIAKQKRTPKFKVQEYTRCERCGRPHSVIRKFKLCRICFRE...</td>\n",
       "    </tr>\n",
       "    <tr>\n",
       "      <th>1</th>\n",
       "      <td>1</td>\n",
       "      <td>Q65IJ4</td>\n",
       "      <td>R14Z2_BACLD</td>\n",
       "      <td>30S ribosomal protein S14 type Z 2</td>\n",
       "      <td>Ribosomal_S14</td>\n",
       "      <td>Ribosomal protein S14p/S29e</td>\n",
       "      <td>MAKTSMIVKQKREQKFKVREYTRCERCGRPHSVIRKFKLCRICFRE...</td>\n",
       "    </tr>\n",
       "    <tr>\n",
       "      <th>2</th>\n",
       "      <td>2</td>\n",
       "      <td>Q3V536</td>\n",
       "      <td>RR14_ACOCL</td>\n",
       "      <td>30S ribosomal protein S14, chloroplastic</td>\n",
       "      <td>Ribosomal_S14</td>\n",
       "      <td>Ribosomal protein S14p/S29e</td>\n",
       "      <td>MARKGLIEREKKRKKLEQKYHSIRGSSKKEIRKVPSLSDKWEIHGK...</td>\n",
       "    </tr>\n",
       "  </tbody>\n",
       "</table>\n",
       "</div>"
      ],
      "text/plain": [
       "   Unnamed: 0 SwissProtAccessionID       LongID  \\\n",
       "0           0               Q65P94  R14Z1_BACLD   \n",
       "1           1               Q65IJ4  R14Z2_BACLD   \n",
       "2           2               Q3V536   RR14_ACOCL   \n",
       "\n",
       "                                ProteinName       FamilyID  \\\n",
       "0        30S ribosomal protein S14 type Z 1  Ribosomal_S14   \n",
       "1        30S ribosomal protein S14 type Z 2  Ribosomal_S14   \n",
       "2  30S ribosomal protein S14, chloroplastic  Ribosomal_S14   \n",
       "\n",
       "             FamilyDescription  \\\n",
       "0  Ribosomal protein S14p/S29e   \n",
       "1  Ribosomal protein S14p/S29e   \n",
       "2  Ribosomal protein S14p/S29e   \n",
       "\n",
       "                                            sequence  \n",
       "0  MAKKSMIAKQKRTPKFKVQEYTRCERCGRPHSVIRKFKLCRICFRE...  \n",
       "1  MAKTSMIVKQKREQKFKVREYTRCERCGRPHSVIRKFKLCRICFRE...  \n",
       "2  MARKGLIEREKKRKKLEQKYHSIRGSSKKEIRKVPSLSDKWEIHGK...  "
      ]
     },
     "execution_count": 16,
     "metadata": {},
     "output_type": "execute_result"
    }
   ],
   "source": [
    "df.head(3)"
   ]
  },
  {
   "cell_type": "markdown",
   "metadata": {
    "slideshow": {
     "slide_type": "slide"
    }
   },
   "source": [
    "Generate vectors for protein sequences"
   ]
  },
  {
   "cell_type": "code",
   "execution_count": 17,
   "metadata": {
    "slideshow": {
     "slide_type": "fragment"
    }
   },
   "outputs": [
    {
     "name": "stdout",
     "output_type": "stream",
     "text": [
      "('number of proteins skipped: ', 0)\n"
     ]
    }
   ],
   "source": [
    "all_vectors = []\n",
    "i=0\n",
    "    \n",
    "for sequence in df['sequence']:\n",
    "\n",
    "    try:\n",
    "        vector = DfVec(sum(pv2.to_vecs(sequence)))\n",
    "        all_vectors.append(vector) # split strings after whitespace\n",
    "\n",
    "    except:\n",
    "        i+=1\n",
    "        pass\n",
    "    \n",
    "print('number of proteins skipped: ',i)\n",
    "        \n",
    "df['Protein_vector'] = all_vectors # safe unique words in df"
   ]
  },
  {
   "cell_type": "code",
   "execution_count": 18,
   "metadata": {
    "slideshow": {
     "slide_type": "skip"
    }
   },
   "outputs": [
    {
     "data": {
      "text/html": [
       "<div>\n",
       "<table border=\"1\" class=\"dataframe\">\n",
       "  <thead>\n",
       "    <tr style=\"text-align: right;\">\n",
       "      <th></th>\n",
       "      <th>Unnamed: 0</th>\n",
       "      <th>SwissProtAccessionID</th>\n",
       "      <th>LongID</th>\n",
       "      <th>ProteinName</th>\n",
       "      <th>FamilyID</th>\n",
       "      <th>FamilyDescription</th>\n",
       "      <th>sequence</th>\n",
       "      <th>Protein_vector</th>\n",
       "    </tr>\n",
       "  </thead>\n",
       "  <tbody>\n",
       "    <tr>\n",
       "      <th>0</th>\n",
       "      <td>0</td>\n",
       "      <td>Q65P94</td>\n",
       "      <td>R14Z1_BACLD</td>\n",
       "      <td>30S ribosomal protein S14 type Z 1</td>\n",
       "      <td>Ribosomal_S14</td>\n",
       "      <td>Ribosomal protein S14p/S29e</td>\n",
       "      <td>MAKKSMIAKQKRTPKFKVQEYTRCERCGRPHSVIRKFKLCRICFRE...</td>\n",
       "      <td>100 dimensional vector</td>\n",
       "    </tr>\n",
       "    <tr>\n",
       "      <th>1</th>\n",
       "      <td>1</td>\n",
       "      <td>Q65IJ4</td>\n",
       "      <td>R14Z2_BACLD</td>\n",
       "      <td>30S ribosomal protein S14 type Z 2</td>\n",
       "      <td>Ribosomal_S14</td>\n",
       "      <td>Ribosomal protein S14p/S29e</td>\n",
       "      <td>MAKTSMIVKQKREQKFKVREYTRCERCGRPHSVIRKFKLCRICFRE...</td>\n",
       "      <td>100 dimensional vector</td>\n",
       "    </tr>\n",
       "  </tbody>\n",
       "</table>\n",
       "</div>"
      ],
      "text/plain": [
       "   Unnamed: 0 SwissProtAccessionID       LongID  \\\n",
       "0           0               Q65P94  R14Z1_BACLD   \n",
       "1           1               Q65IJ4  R14Z2_BACLD   \n",
       "\n",
       "                          ProteinName       FamilyID  \\\n",
       "0  30S ribosomal protein S14 type Z 1  Ribosomal_S14   \n",
       "1  30S ribosomal protein S14 type Z 2  Ribosomal_S14   \n",
       "\n",
       "             FamilyDescription  \\\n",
       "0  Ribosomal protein S14p/S29e   \n",
       "1  Ribosomal protein S14p/S29e   \n",
       "\n",
       "                                            sequence          Protein_vector  \n",
       "0  MAKKSMIAKQKRTPKFKVQEYTRCERCGRPHSVIRKFKLCRICFRE...  100 dimensional vector  \n",
       "1  MAKTSMIVKQKREQKFKVREYTRCERCGRPHSVIRKFKLCRICFRE...  100 dimensional vector  "
      ]
     },
     "execution_count": 18,
     "metadata": {},
     "output_type": "execute_result"
    }
   ],
   "source": [
    "df.head(2)"
   ]
  },
  {
   "cell_type": "markdown",
   "metadata": {
    "slideshow": {
     "slide_type": "slide"
    }
   },
   "source": [
    "# Cluster proteins by classes"
   ]
  },
  {
   "cell_type": "markdown",
   "metadata": {
    "slideshow": {
     "slide_type": "fragment"
    }
   },
   "source": [
    "1) Proteins in same class are also close in vector space"
   ]
  },
  {
   "cell_type": "markdown",
   "metadata": {
    "slideshow": {
     "slide_type": "fragment"
    }
   },
   "source": [
    "##### Apply PCA and t-SNE to reduce dimensionality"
   ]
  },
  {
   "cell_type": "code",
   "execution_count": 19,
   "metadata": {
    "scrolled": true,
    "slideshow": {
     "slide_type": "skip"
    }
   },
   "outputs": [],
   "source": [
    "from sklearn.decomposition import PCA\n",
    "from sklearn.manifold import TSNE\n",
    "import seaborn as sns\n",
    "from __future__ import print_function\n",
    "% matplotlib inline\n",
    "import numpy as np"
   ]
  },
  {
   "cell_type": "code",
   "execution_count": 20,
   "metadata": {
    "collapsed": true,
    "slideshow": {
     "slide_type": "fragment"
    }
   },
   "outputs": [],
   "source": [
    "vector_array =[x.vec for x in df['Protein_vector']]"
   ]
  },
  {
   "cell_type": "code",
   "execution_count": 21,
   "metadata": {
    "slideshow": {
     "slide_type": "fragment"
    }
   },
   "outputs": [
    {
     "name": "stdout",
     "output_type": "stream",
     "text": [
      "0:00:22.599605\n"
     ]
    }
   ],
   "source": [
    "from datetime import datetime\n",
    "startTime = datetime.now()\n",
    "\n",
    "pca_model = PCA(n_components=30,random_state=0)\n",
    "tsne_model = TSNE(n_components=2, random_state=0,perplexity=30, n_iter=1000)\n",
    "tsne_pca = tsne_model.fit_transform(pca_model.fit_transform(vector_array))\n",
    "print (datetime.now() - startTime)"
   ]
  },
  {
   "cell_type": "markdown",
   "metadata": {
    "slideshow": {
     "slide_type": "skip"
    }
   },
   "source": [
    "Save result of PCA / t-SNE in dataframe"
   ]
  },
  {
   "cell_type": "code",
   "execution_count": 22,
   "metadata": {
    "collapsed": true,
    "slideshow": {
     "slide_type": "skip"
    }
   },
   "outputs": [],
   "source": [
    "df['PCA-t-SNE-c1'] = tsne_pca.T[0]\n",
    "df['PCA-t-SNE-c2'] = tsne_pca.T[1]"
   ]
  },
  {
   "cell_type": "markdown",
   "metadata": {
    "slideshow": {
     "slide_type": "subslide"
    }
   },
   "source": [
    "Encode class string as integer"
   ]
  },
  {
   "cell_type": "code",
   "execution_count": 23,
   "metadata": {
    "collapsed": true,
    "slideshow": {
     "slide_type": "fragment"
    }
   },
   "outputs": [],
   "source": [
    "from sklearn.preprocessing import LabelEncoder"
   ]
  },
  {
   "cell_type": "code",
   "execution_count": 24,
   "metadata": {
    "slideshow": {
     "slide_type": "fragment"
    }
   },
   "outputs": [],
   "source": [
    "encoder = LabelEncoder()\n",
    "encoder.fit(df['FamilyID'])\n",
    "encoded_y = encoder.transform(df['FamilyID'])\n",
    "df['class'] = encoded_y"
   ]
  },
  {
   "cell_type": "code",
   "execution_count": 25,
   "metadata": {
    "slideshow": {
     "slide_type": "fragment"
    }
   },
   "outputs": [
    {
     "data": {
      "text/plain": [
       "array([2, 2, 2, ..., 0, 0, 0])"
      ]
     },
     "execution_count": 25,
     "metadata": {},
     "output_type": "execute_result"
    }
   ],
   "source": [
    "encoded_y"
   ]
  },
  {
   "cell_type": "markdown",
   "metadata": {
    "slideshow": {
     "slide_type": "skip"
    }
   },
   "source": [
    "Plot PCA / t-SNE result by predicted classes"
   ]
  },
  {
   "cell_type": "code",
   "execution_count": 26,
   "metadata": {
    "slideshow": {
     "slide_type": "subslide"
    }
   },
   "outputs": [
    {
     "data": {
      "image/png": "[encoded data removed]",
      "text/plain": [
       "<matplotlib.figure.Figure at 0x7fc31e895fd0>"
      ]
     },
     "metadata": {},
     "output_type": "display_data"
    }
   ],
   "source": [
    "sns.pairplot(df, hue='class', vars=['PCA-t-SNE-c1', 'PCA-t-SNE-c2'], palette='viridis', \n",
    "             size=5, markers='o', plot_kws={'alpha':0.4});"
   ]
  },
  {
   "cell_type": "markdown",
   "metadata": {
    "slideshow": {
     "slide_type": "slide"
    }
   },
   "source": [
    "### Prepare deep learning for protein classification"
   ]
  },
  {
   "cell_type": "code",
   "execution_count": 27,
   "metadata": {},
   "outputs": [
    {
     "name": "stderr",
     "output_type": "stream",
     "text": [
      "Using TensorFlow backend.\n"
     ]
    }
   ],
   "source": [
    "from keras.models import Sequential\n",
    "from keras.layers import Dense, Dropout\n",
    "from keras.wrappers.scikit_learn import KerasClassifier\n",
    "from keras.utils import np_utils\n",
    "from sklearn.model_selection import cross_val_score, cross_val_predict\n",
    "from sklearn.model_selection import KFold\n",
    "from sklearn.preprocessing import LabelEncoder\n",
    "from sklearn.pipeline import Pipeline\n",
    "import numpy as np"
   ]
  },
  {
   "cell_type": "markdown",
   "metadata": {
    "slideshow": {
     "slide_type": "fragment"
    }
   },
   "source": [
    "Transform vectors in numpy array and save protein classes"
   ]
  },
  {
   "cell_type": "code",
   "execution_count": 46,
   "metadata": {
    "collapsed": true
   },
   "outputs": [],
   "source": [
    "df_subset = df.iloc[::1, :] # takes every x-th value in df"
   ]
  },
  {
   "cell_type": "code",
   "execution_count": 47,
   "metadata": {
    "collapsed": true,
    "slideshow": {
     "slide_type": "fragment"
    }
   },
   "outputs": [],
   "source": [
    "X = np.array([x.vec for x in df_subset['Protein_vector']])\n",
    "y = df_subset['class']"
   ]
  },
  {
   "cell_type": "code",
   "execution_count": 48,
   "metadata": {
    "slideshow": {
     "slide_type": "skip"
    }
   },
   "outputs": [
    {
     "data": {
      "text/html": [
       "<div>\n",
       "<table border=\"1\" class=\"dataframe\">\n",
       "  <thead>\n",
       "    <tr style=\"text-align: right;\">\n",
       "      <th></th>\n",
       "      <th>Unnamed: 0</th>\n",
       "      <th>SwissProtAccessionID</th>\n",
       "      <th>LongID</th>\n",
       "      <th>ProteinName</th>\n",
       "      <th>FamilyID</th>\n",
       "      <th>FamilyDescription</th>\n",
       "      <th>sequence</th>\n",
       "      <th>Protein_vector</th>\n",
       "      <th>PCA-t-SNE-c1</th>\n",
       "      <th>PCA-t-SNE-c2</th>\n",
       "      <th>class</th>\n",
       "    </tr>\n",
       "  </thead>\n",
       "  <tbody>\n",
       "    <tr>\n",
       "      <th>0</th>\n",
       "      <td>0</td>\n",
       "      <td>Q65P94</td>\n",
       "      <td>R14Z1_BACLD</td>\n",
       "      <td>30S ribosomal protein S14 type Z 1</td>\n",
       "      <td>Ribosomal_S14</td>\n",
       "      <td>Ribosomal protein S14p/S29e</td>\n",
       "      <td>MAKKSMIAKQKRTPKFKVQEYTRCERCGRPHSVIRKFKLCRICFRE...</td>\n",
       "      <td>100 dimensional vector</td>\n",
       "      <td>-11.926635</td>\n",
       "      <td>-4.509303</td>\n",
       "      <td>2</td>\n",
       "    </tr>\n",
       "    <tr>\n",
       "      <th>1</th>\n",
       "      <td>1</td>\n",
       "      <td>Q65IJ4</td>\n",
       "      <td>R14Z2_BACLD</td>\n",
       "      <td>30S ribosomal protein S14 type Z 2</td>\n",
       "      <td>Ribosomal_S14</td>\n",
       "      <td>Ribosomal protein S14p/S29e</td>\n",
       "      <td>MAKTSMIVKQKREQKFKVREYTRCERCGRPHSVIRKFKLCRICFRE...</td>\n",
       "      <td>100 dimensional vector</td>\n",
       "      <td>-11.677188</td>\n",
       "      <td>-4.321228</td>\n",
       "      <td>2</td>\n",
       "    </tr>\n",
       "    <tr>\n",
       "      <th>2</th>\n",
       "      <td>2</td>\n",
       "      <td>Q3V536</td>\n",
       "      <td>RR14_ACOCL</td>\n",
       "      <td>30S ribosomal protein S14, chloroplastic</td>\n",
       "      <td>Ribosomal_S14</td>\n",
       "      <td>Ribosomal protein S14p/S29e</td>\n",
       "      <td>MARKGLIEREKKRKKLEQKYHSIRGSSKKEIRKVPSLSDKWEIHGK...</td>\n",
       "      <td>100 dimensional vector</td>\n",
       "      <td>13.730684</td>\n",
       "      <td>12.500207</td>\n",
       "      <td>2</td>\n",
       "    </tr>\n",
       "    <tr>\n",
       "      <th>3</th>\n",
       "      <td>3</td>\n",
       "      <td>Q85FM1</td>\n",
       "      <td>RR14_ADICA</td>\n",
       "      <td>30S ribosomal protein S14, chloroplastic</td>\n",
       "      <td>Ribosomal_S14</td>\n",
       "      <td>Ribosomal protein S14p/S29e</td>\n",
       "      <td>MAKKSLIEKENSKKKLVKKYNLLRQFLRREIKNSLRIQDKLIISEK...</td>\n",
       "      <td>100 dimensional vector</td>\n",
       "      <td>3.863322</td>\n",
       "      <td>5.931167</td>\n",
       "      <td>2</td>\n",
       "    </tr>\n",
       "  </tbody>\n",
       "</table>\n",
       "</div>"
      ],
      "text/plain": [
       "   Unnamed: 0 SwissProtAccessionID       LongID  \\\n",
       "0           0               Q65P94  R14Z1_BACLD   \n",
       "1           1               Q65IJ4  R14Z2_BACLD   \n",
       "2           2               Q3V536   RR14_ACOCL   \n",
       "3           3               Q85FM1   RR14_ADICA   \n",
       "\n",
       "                                ProteinName       FamilyID  \\\n",
       "0        30S ribosomal protein S14 type Z 1  Ribosomal_S14   \n",
       "1        30S ribosomal protein S14 type Z 2  Ribosomal_S14   \n",
       "2  30S ribosomal protein S14, chloroplastic  Ribosomal_S14   \n",
       "3  30S ribosomal protein S14, chloroplastic  Ribosomal_S14   \n",
       "\n",
       "             FamilyDescription  \\\n",
       "0  Ribosomal protein S14p/S29e   \n",
       "1  Ribosomal protein S14p/S29e   \n",
       "2  Ribosomal protein S14p/S29e   \n",
       "3  Ribosomal protein S14p/S29e   \n",
       "\n",
       "                                            sequence          Protein_vector  \\\n",
       "0  MAKKSMIAKQKRTPKFKVQEYTRCERCGRPHSVIRKFKLCRICFRE...  100 dimensional vector   \n",
       "1  MAKTSMIVKQKREQKFKVREYTRCERCGRPHSVIRKFKLCRICFRE...  100 dimensional vector   \n",
       "2  MARKGLIEREKKRKKLEQKYHSIRGSSKKEIRKVPSLSDKWEIHGK...  100 dimensional vector   \n",
       "3  MAKKSLIEKENSKKKLVKKYNLLRQFLRREIKNSLRIQDKLIISEK...  100 dimensional vector   \n",
       "\n",
       "   PCA-t-SNE-c1  PCA-t-SNE-c2  class  \n",
       "0    -11.926635     -4.509303      2  \n",
       "1    -11.677188     -4.321228      2  \n",
       "2     13.730684     12.500207      2  \n",
       "3      3.863322      5.931167      2  "
      ]
     },
     "execution_count": 48,
     "metadata": {},
     "output_type": "execute_result"
    }
   ],
   "source": [
    "df.head(4)"
   ]
  },
  {
   "cell_type": "code",
   "execution_count": 49,
   "metadata": {
    "slideshow": {
     "slide_type": "fragment"
    }
   },
   "outputs": [],
   "source": [
    "# convert integers to dummy variables (i.e. one hot encoded)\n",
    "dummy_y = np_utils.to_categorical(y)"
   ]
  },
  {
   "cell_type": "code",
   "execution_count": 50,
   "metadata": {
    "scrolled": true,
    "slideshow": {
     "slide_type": "fragment"
    }
   },
   "outputs": [
    {
     "data": {
      "text/plain": [
       "0    2\n",
       "1    2\n",
       "2    2\n",
       "3    2\n",
       "4    2\n",
       "Name: class, dtype: int64"
      ]
     },
     "execution_count": 50,
     "metadata": {},
     "output_type": "execute_result"
    }
   ],
   "source": [
    "y[0:5]"
   ]
  },
  {
   "cell_type": "code",
   "execution_count": 51,
   "metadata": {},
   "outputs": [
    {
     "data": {
      "text/plain": [
       "array([[ 0.,  0.,  1.],\n",
       "       [ 0.,  0.,  1.],\n",
       "       [ 0.,  0.,  1.],\n",
       "       [ 0.,  0.,  1.],\n",
       "       [ 0.,  0.,  1.],\n",
       "       [ 0.,  0.,  1.],\n",
       "       [ 0.,  0.,  1.],\n",
       "       [ 0.,  0.,  1.],\n",
       "       [ 0.,  0.,  1.],\n",
       "       [ 0.,  0.,  1.]])"
      ]
     },
     "execution_count": 51,
     "metadata": {},
     "output_type": "execute_result"
    }
   ],
   "source": [
    "dummy_y[:10]"
   ]
  },
  {
   "cell_type": "markdown",
   "metadata": {
    "slideshow": {
     "slide_type": "slide"
    }
   },
   "source": [
    "Define deep learning model"
   ]
  },
  {
   "cell_type": "code",
   "execution_count": 52,
   "metadata": {
    "collapsed": true,
    "slideshow": {
     "slide_type": "fragment"
    }
   },
   "outputs": [],
   "source": [
    "def baseline_model():\n",
    "    # create model\n",
    "    model = Sequential()\n",
    "    # input layer\n",
    "    model.add(Dense(100, input_dim=100, kernel_initializer='normal', activation='relu'))\n",
    "    model.add(Dropout(0.5))\n",
    "    # hidden layer\n",
    "    model.add(Dense(100, kernel_initializer='normal', activation='relu'))\n",
    "    model.add(Dropout(0.5))\n",
    "    # output layer\n",
    "    model.add(Dense(3, kernel_initializer='normal', activation='sigmoid'))\n",
    "    # Compile model\n",
    "    model.compile(loss='categorical_crossentropy', optimizer='sgd', metrics=['accuracy'])\n",
    "    return model"
   ]
  },
  {
   "cell_type": "markdown",
   "metadata": {
    "slideshow": {
     "slide_type": "slide"
    }
   },
   "source": [
    "Define model settings"
   ]
  },
  {
   "cell_type": "code",
   "execution_count": 53,
   "metadata": {
    "collapsed": true,
    "slideshow": {
     "slide_type": "fragment"
    }
   },
   "outputs": [],
   "source": [
    "estimator = KerasClassifier(build_fn=baseline_model, nb_epoch=50, batch_size=32, verbose=0)"
   ]
  },
  {
   "cell_type": "code",
   "execution_count": 54,
   "metadata": {
    "slideshow": {
     "slide_type": "skip"
    }
   },
   "outputs": [
    {
     "data": {
      "text/plain": [
       "<keras.wrappers.scikit_learn.KerasClassifier at 0x7fc2da432050>"
      ]
     },
     "execution_count": 54,
     "metadata": {},
     "output_type": "execute_result"
    }
   ],
   "source": [
    "estimator"
   ]
  },
  {
   "cell_type": "markdown",
   "metadata": {
    "slideshow": {
     "slide_type": "fragment"
    }
   },
   "source": [
    "Define number of crossvalidation"
   ]
  },
  {
   "cell_type": "code",
   "execution_count": 55,
   "metadata": {
    "slideshow": {
     "slide_type": "fragment"
    }
   },
   "outputs": [],
   "source": [
    "kfold = KFold(n_splits=5, shuffle=True)"
   ]
  },
  {
   "cell_type": "markdown",
   "metadata": {
    "slideshow": {
     "slide_type": "slide"
    }
   },
   "source": [
    "Predict probabilities for classes"
   ]
  },
  {
   "cell_type": "code",
   "execution_count": 56,
   "metadata": {
    "slideshow": {
     "slide_type": "fragment"
    }
   },
   "outputs": [
    {
     "name": "stdout",
     "output_type": "stream",
     "text": [
      "0:00:21.593292\n"
     ]
    }
   ],
   "source": [
    "startTime = datetime.now()\n",
    "\n",
    "proba = cross_val_predict(estimator, X, dummy_y, cv=kfold, method='predict_proba')\n",
    "print (datetime.now() - startTime)\n"
   ]
  },
  {
   "cell_type": "markdown",
   "metadata": {
    "slideshow": {
     "slide_type": "subslide"
    }
   },
   "source": [
    "Get predicted class"
   ]
  },
  {
   "cell_type": "code",
   "execution_count": 57,
   "metadata": {
    "slideshow": {
     "slide_type": "fragment"
    }
   },
   "outputs": [],
   "source": [
    "prob_class = list()\n",
    "\n",
    "for X in proba:\n",
    "    \n",
    "    new_class = np.argmax(X)\n",
    "    prob_class.append(new_class)"
   ]
  },
  {
   "cell_type": "code",
   "execution_count": 58,
   "metadata": {
    "slideshow": {
     "slide_type": "skip"
    }
   },
   "outputs": [],
   "source": [
    "from sklearn.metrics import confusion_matrix, accuracy_score \n",
    "from matplotlib import pyplot as plt\n",
    "import seaborn as sns\n",
    "sns.set_style(\"whitegrid\", {'axes.grid' : False})\n",
    "sns.set_context('talk', font_scale=2)\n",
    "from helpers import confusion_matrix_plot"
   ]
  },
  {
   "cell_type": "code",
   "execution_count": 59,
   "metadata": {
    "slideshow": {
     "slide_type": "fragment"
    }
   },
   "outputs": [],
   "source": [
    "probs = np.asarray(prob_class)"
   ]
  },
  {
   "cell_type": "code",
   "execution_count": 60,
   "metadata": {
    "slideshow": {
     "slide_type": "fragment"
    }
   },
   "outputs": [
    {
     "data": {
      "text/plain": [
       "array([2, 2, 2, ..., 0, 0, 0])"
      ]
     },
     "execution_count": 60,
     "metadata": {},
     "output_type": "execute_result"
    }
   ],
   "source": [
    "probs"
   ]
  },
  {
   "cell_type": "code",
   "execution_count": 61,
   "metadata": {
    "slideshow": {
     "slide_type": "fragment"
    }
   },
   "outputs": [
    {
     "name": "stdout",
     "output_type": "stream",
     "text": [
      "Prediction accuracy: 97.43%\n"
     ]
    }
   ],
   "source": [
    "print(\"Prediction accuracy: %.2f%%\" % (accuracy_score(df_subset['class'], probs)*100))"
   ]
  },
  {
   "cell_type": "markdown",
   "metadata": {
    "slideshow": {
     "slide_type": "slide"
    }
   },
   "source": [
    "Get confusion matrix of prediction"
   ]
  },
  {
   "cell_type": "code",
   "execution_count": 62,
   "metadata": {
    "slideshow": {
     "slide_type": "fragment"
    }
   },
   "outputs": [],
   "source": [
    "cm = confusion_matrix(df_subset['class'], prob_class,labels=[0, 1, 2])"
   ]
  },
  {
   "cell_type": "code",
   "execution_count": 63,
   "metadata": {
    "slideshow": {
     "slide_type": "fragment"
    }
   },
   "outputs": [
    {
     "data": {
      "image/png": "[encoded data removed]",
      "text/plain": [
       "<matplotlib.figure.Figure at 0x7fc318767110>"
      ]
     },
     "metadata": {},
     "output_type": "display_data"
    }
   ],
   "source": [
    "confusion_matrix_plot(cm, names=[0,1,2]);"
   ]
  },
  {
   "cell_type": "markdown",
   "metadata": {
    "slideshow": {
     "slide_type": "fragment"
    }
   },
   "source": [
    "\n",
    "\n",
    "Copyright (C) 2017 by Sabrina Jaeger and Samo Turk, BioMed X GmbH\n",
    "\n",
    "This work is licensed under the Creative Commons Attribution-ShareAlike 4.0 License. To view a copy of this license, visit https://creativecommons.org/licenses/by-sa/4.0/ or send a letter to Creative Commons, 543 Howard Street, 5th Floor, San Francisco, California, 94105, USA.\n"
   ]
  }
 ],
 "metadata": {
  "anaconda-cloud": {},
  "kernelspec": {
   "display_name": "Python 2",
   "language": "python",
   "name": "python2"
  },
  "language_info": {
   "codemirror_mode": {
    "name": "ipython",
    "version": 2
   },
   "file_extension": ".py",
   "mimetype": "text/x-python",
   "name": "python",
   "nbconvert_exporter": "python",
   "pygments_lexer": "ipython2",
   "version": "2.7.13"
  }
 },
 "nbformat": 4,
 "nbformat_minor": 2
}

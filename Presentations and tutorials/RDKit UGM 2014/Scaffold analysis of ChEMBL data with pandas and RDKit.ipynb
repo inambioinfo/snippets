{
 "cells": [
  {
   "cell_type": "markdown",
   "metadata": {},
   "source": [
    "# Scaffold analysis of ChEMBL data with pandas and RDKit\n",
    "## Presentation/tutorial given at [RDKit UGM](https://github.com/rdkit/UGM_2014), October 2014, Darmstadt\n",
    "### Dr. Samo Turk\n",
    "#### BioMed X Innovation Center, Heidelberg  \n",
    "<img src=\"files/biomedx.png\">  "
   ]
  },
  {
   "cell_type": "markdown",
   "metadata": {},
   "source": [
    "<p style=\"font-size:20px;\"><strong>Python</strong></p>\n",
    "<p style=\"font-size:20px;\">[Python](http://www.python.org/) very popular programming language especially in science.</p>\n",
    "\n",
    "<p style=\"font-size:20px;\"><strong>pandas</strong></p>\n",
    "<p style=\"font-size:20px;\">[Pandas](http://pandas.pydata.org/) is an open source, BSD-licensed library providing high-performance, easy-to-use data structures and data analysis tools for the Python programming language.  \n",
    "No need for R!</p>\n",
    "\n",
    "<p style=\"font-size:20px;\"><strong>RDKit</strong></p>\n",
    "<p style=\"font-size:20px;\">[RDKit](http://www.rdkit.org/) is an open source chemistry toolkit.</p>\n",
    "\n",
    "<p style=\"font-size:20px;\"><strong>IPython</strong></p>\n",
    "<p style=\"font-size:20px;\">[IPython](http://ipython.org/) interactive Python shell. Has web-based interactive computational environment IPython Notebook.</p>\n",
    "\n",
    "<p style=\"font-size:20px;\"><strong>chembl_webresource_client</strong></p>\n",
    "<p style=\"font-size:20px;\">[chembl_webresource_client](https://github.com/chembl/chembl_webresource_client) Python client for accessing ChEMBL webservices.</p>\n",
    "\n",
    "### More notebooks: https://github.com/Team-SKI/snippets\n",
    "<br>\n",
    "<br>\n",
    "<br>\n",
    "<br>\n",
    "<br>\n",
    "<br>"
   ]
  },
  {
   "cell_type": "code",
   "execution_count": 1,
   "metadata": {
    "collapsed": false
   },
   "outputs": [],
   "source": [
    "import pandas as pd # Import pandas\n",
    "from chembl_webresource_client import *"
   ]
  },
  {
   "cell_type": "markdown",
   "metadata": {},
   "source": [
    "## chembl_webresource_client"
   ]
  },
  {
   "cell_type": "markdown",
   "metadata": {},
   "source": [
    "### Targets"
   ]
  },
  {
   "cell_type": "markdown",
   "metadata": {},
   "source": [
    "Target object handler for API access and check connection to the db"
   ]
  },
  {
   "cell_type": "code",
   "execution_count": 2,
   "metadata": {
    "collapsed": false
   },
   "outputs": [],
   "source": [
    "targets = TargetResource()"
   ]
  },
  {
   "cell_type": "code",
   "execution_count": 3,
   "metadata": {
    "collapsed": false
   },
   "outputs": [
    {
     "name": "stdout",
     "output_type": "stream",
     "text": [
      "True\n"
     ]
    }
   ],
   "source": [
    "print targets.status()"
   ]
  },
  {
   "cell_type": "markdown",
   "metadata": {},
   "source": [
    "#### ABL1 kinase \n",
    "uniprotID: **P00519**"
   ]
  },
  {
   "cell_type": "code",
   "execution_count": 4,
   "metadata": {
    "collapsed": false
   },
   "outputs": [
    {
     "data": {
      "text/plain": [
       "[{u'bioactivityCount': 10666,\n",
       "  u'chemblId': u'CHEMBL206',\n",
       "  u'compoundCount': 5809,\n",
       "  u'description': u'Estrogen receptor alpha',\n",
       "  u'geneNames': u'Unspecified',\n",
       "  u'organism': u'Homo sapiens',\n",
       "  u'preferredName': u'Estrogen receptor alpha',\n",
       "  u'proteinAccession': u'P03372',\n",
       "  u'synonyms': u'ESR1,Estradiol receptor,ER,ER-alpha,ESR ,Estrogen receptor,NR3A1,Nuclear receptor subfamily 3 group A member 1',\n",
       "  u'targetType': u'SINGLE PROTEIN'}]"
      ]
     },
     "execution_count": 4,
     "metadata": {},
     "output_type": "execute_result"
    }
   ],
   "source": [
    "targets.get(uniprot=['P03372'])"
   ]
  },
  {
   "cell_type": "markdown",
   "metadata": {},
   "source": [
    "Load targets in data frame"
   ]
  },
  {
   "cell_type": "code",
   "execution_count": 5,
   "metadata": {
    "collapsed": false
   },
   "outputs": [],
   "source": [
    "targetsDF = pd.DataFrame.from_dict(targets.get(uniprot=['P03372']))"
   ]
  },
  {
   "cell_type": "code",
   "execution_count": 6,
   "metadata": {
    "collapsed": false
   },
   "outputs": [
    {
     "data": {
      "text/html": [
       "<div>\n",
       "<table border=\"1\" class=\"dataframe\">\n",
       "  <thead>\n",
       "    <tr style=\"text-align: right;\">\n",
       "      <th></th>\n",
       "      <th>bioactivityCount</th>\n",
       "      <th>chemblId</th>\n",
       "      <th>compoundCount</th>\n",
       "      <th>description</th>\n",
       "      <th>geneNames</th>\n",
       "      <th>organism</th>\n",
       "      <th>preferredName</th>\n",
       "      <th>proteinAccession</th>\n",
       "      <th>synonyms</th>\n",
       "      <th>targetType</th>\n",
       "    </tr>\n",
       "  </thead>\n",
       "  <tbody>\n",
       "    <tr>\n",
       "      <th>0</th>\n",
       "      <td>10666</td>\n",
       "      <td>CHEMBL206</td>\n",
       "      <td>5809</td>\n",
       "      <td>Estrogen receptor alpha</td>\n",
       "      <td>Unspecified</td>\n",
       "      <td>Homo sapiens</td>\n",
       "      <td>Estrogen receptor alpha</td>\n",
       "      <td>P03372</td>\n",
       "      <td>ESR1,Estradiol receptor,ER,ER-alpha,ESR ,Estro...</td>\n",
       "      <td>SINGLE PROTEIN</td>\n",
       "    </tr>\n",
       "  </tbody>\n",
       "</table>\n",
       "</div>"
      ],
      "text/plain": [
       "   bioactivityCount   chemblId  compoundCount              description  \\\n",
       "0             10666  CHEMBL206           5809  Estrogen receptor alpha   \n",
       "\n",
       "     geneNames      organism            preferredName proteinAccession  \\\n",
       "0  Unspecified  Homo sapiens  Estrogen receptor alpha           P03372   \n",
       "\n",
       "                                            synonyms      targetType  \n",
       "0  ESR1,Estradiol receptor,ER,ER-alpha,ESR ,Estro...  SINGLE PROTEIN  "
      ]
     },
     "execution_count": 6,
     "metadata": {},
     "output_type": "execute_result"
    }
   ],
   "source": [
    "targetsDF"
   ]
  },
  {
   "cell_type": "markdown",
   "metadata": {},
   "source": [
    "## Bioactivities\n",
    "Download all bioactivities for targets"
   ]
  },
  {
   "cell_type": "code",
   "execution_count": 7,
   "metadata": {
    "collapsed": false
   },
   "outputs": [],
   "source": [
    "bioactsDF = pd.DataFrame.from_dict(targets.bioactivities('CHEMBL206'))"
   ]
  },
  {
   "cell_type": "code",
   "execution_count": 8,
   "metadata": {
    "collapsed": false
   },
   "outputs": [
    {
     "data": {
      "text/html": [
       "<div>\n",
       "<table border=\"1\" class=\"dataframe\">\n",
       "  <thead>\n",
       "    <tr style=\"text-align: right;\">\n",
       "      <th></th>\n",
       "      <th>activity_comment</th>\n",
       "      <th>assay_chemblid</th>\n",
       "      <th>assay_description</th>\n",
       "      <th>assay_type</th>\n",
       "      <th>bioactivity_type</th>\n",
       "      <th>ingredient_cmpd_chemblid</th>\n",
       "      <th>name_in_reference</th>\n",
       "      <th>operator</th>\n",
       "      <th>organism</th>\n",
       "      <th>parent_cmpd_chemblid</th>\n",
       "      <th>reference</th>\n",
       "      <th>target_chemblid</th>\n",
       "      <th>target_confidence</th>\n",
       "      <th>target_name</th>\n",
       "      <th>units</th>\n",
       "      <th>value</th>\n",
       "    </tr>\n",
       "  </thead>\n",
       "  <tbody>\n",
       "    <tr>\n",
       "      <th>0</th>\n",
       "      <td>Unspecified</td>\n",
       "      <td>CHEMBL677870</td>\n",
       "      <td>Binding affinity for estrogen receptor alpha</td>\n",
       "      <td>B</td>\n",
       "      <td>IC50</td>\n",
       "      <td>CHEMBL219763</td>\n",
       "      <td>4</td>\n",
       "      <td>=</td>\n",
       "      <td>Homo sapiens</td>\n",
       "      <td>CHEMBL219763</td>\n",
       "      <td>Bioorg. Med. Chem. Lett., (2003) 13:22:4089</td>\n",
       "      <td>CHEMBL206</td>\n",
       "      <td>9</td>\n",
       "      <td>Estrogen receptor alpha</td>\n",
       "      <td>nM</td>\n",
       "      <td>9.57</td>\n",
       "    </tr>\n",
       "  </tbody>\n",
       "</table>\n",
       "</div>"
      ],
      "text/plain": [
       "  activity_comment assay_chemblid  \\\n",
       "0      Unspecified   CHEMBL677870   \n",
       "\n",
       "                              assay_description assay_type bioactivity_type  \\\n",
       "0  Binding affinity for estrogen receptor alpha          B             IC50   \n",
       "\n",
       "  ingredient_cmpd_chemblid name_in_reference operator      organism  \\\n",
       "0             CHEMBL219763                 4        =  Homo sapiens   \n",
       "\n",
       "  parent_cmpd_chemblid                                    reference  \\\n",
       "0         CHEMBL219763  Bioorg. Med. Chem. Lett., (2003) 13:22:4089   \n",
       "\n",
       "  target_chemblid  target_confidence              target_name units value  \n",
       "0       CHEMBL206                  9  Estrogen receptor alpha    nM  9.57  "
      ]
     },
     "execution_count": 8,
     "metadata": {},
     "output_type": "execute_result"
    }
   ],
   "source": [
    "bioactsDF.head(1)"
   ]
  },
  {
   "cell_type": "markdown",
   "metadata": {},
   "source": [
    "Filter bioactivities (safe defaults)"
   ]
  },
  {
   "cell_type": "code",
   "execution_count": 9,
   "metadata": {
    "collapsed": false
   },
   "outputs": [],
   "source": [
    "bioactsDF = bioactsDF[(bioactsDF['bioactivity_type'] == 'IC50') &  # keep ony IC50\n",
    "                      (bioactsDF['operator'] == '=') & # only exact measurements\n",
    "                      (bioactsDF['assay_type'] == 'B') & # only binding data\n",
    "                      (bioactsDF['target_confidence'] == 9)] # only high target confidence"
   ]
  },
  {
   "cell_type": "code",
   "execution_count": 10,
   "metadata": {
    "collapsed": false
   },
   "outputs": [
    {
     "data": {
      "text/plain": [
       "(1605, 1354)"
      ]
     },
     "execution_count": 10,
     "metadata": {},
     "output_type": "execute_result"
    }
   ],
   "source": [
    "len(bioactsDF), len(bioactsDF['ingredient_cmpd_chemblid'].unique())"
   ]
  },
  {
   "cell_type": "markdown",
   "metadata": {},
   "source": [
    "## Compouds"
   ]
  },
  {
   "cell_type": "markdown",
   "metadata": {},
   "source": [
    "Compound object handler for API access and check connection to the db"
   ]
  },
  {
   "cell_type": "code",
   "execution_count": 11,
   "metadata": {
    "collapsed": false
   },
   "outputs": [],
   "source": [
    "compounds = CompoundResource()"
   ]
  },
  {
   "cell_type": "code",
   "execution_count": 12,
   "metadata": {
    "collapsed": false
   },
   "outputs": [
    {
     "data": {
      "text/plain": [
       "True"
      ]
     },
     "execution_count": 12,
     "metadata": {},
     "output_type": "execute_result"
    }
   ],
   "source": [
    "compounds.status()"
   ]
  },
  {
   "cell_type": "markdown",
   "metadata": {},
   "source": [
    "Load the compounds in the dataframe"
   ]
  },
  {
   "cell_type": "code",
   "execution_count": 13,
   "metadata": {
    "collapsed": false
   },
   "outputs": [],
   "source": [
    "cpdsDF = pd.DataFrame.from_dict(compounds.get(list(bioactsDF['ingredient_cmpd_chemblid'].unique())))"
   ]
  },
  {
   "cell_type": "code",
   "execution_count": 14,
   "metadata": {
    "collapsed": false
   },
   "outputs": [
    {
     "data": {
      "text/html": [
       "<div>\n",
       "<table border=\"1\" class=\"dataframe\">\n",
       "  <thead>\n",
       "    <tr style=\"text-align: right;\">\n",
       "      <th></th>\n",
       "      <th>acdAcidicPka</th>\n",
       "      <th>acdBasicPka</th>\n",
       "      <th>acdLogd</th>\n",
       "      <th>acdLogp</th>\n",
       "      <th>alogp</th>\n",
       "      <th>chemblId</th>\n",
       "      <th>knownDrug</th>\n",
       "      <th>molecularFormula</th>\n",
       "      <th>molecularWeight</th>\n",
       "      <th>numRo5Violations</th>\n",
       "      <th>passesRuleOfThree</th>\n",
       "      <th>preferredCompoundName</th>\n",
       "      <th>rotatableBonds</th>\n",
       "      <th>smiles</th>\n",
       "      <th>species</th>\n",
       "      <th>stdInChiKey</th>\n",
       "      <th>synonyms</th>\n",
       "    </tr>\n",
       "  </thead>\n",
       "  <tbody>\n",
       "    <tr>\n",
       "      <th>0</th>\n",
       "      <td>NaN</td>\n",
       "      <td>NaN</td>\n",
       "      <td>NaN</td>\n",
       "      <td>NaN</td>\n",
       "      <td>NaN</td>\n",
       "      <td>CHEMBL219763</td>\n",
       "      <td>No</td>\n",
       "      <td>C8H5B10O</td>\n",
       "      <td>NaN</td>\n",
       "      <td>NaN</td>\n",
       "      <td>No</td>\n",
       "      <td>NaN</td>\n",
       "      <td>NaN</td>\n",
       "      <td>NaN</td>\n",
       "      <td>NaN</td>\n",
       "      <td>NaN</td>\n",
       "      <td>NaN</td>\n",
       "    </tr>\n",
       "    <tr>\n",
       "      <th>1</th>\n",
       "      <td>7.69</td>\n",
       "      <td>NaN</td>\n",
       "      <td>0.33</td>\n",
       "      <td>0.50</td>\n",
       "      <td>3.31</td>\n",
       "      <td>CHEMBL370037</td>\n",
       "      <td>No</td>\n",
       "      <td>C16H12O3</td>\n",
       "      <td>252.26</td>\n",
       "      <td>0.0</td>\n",
       "      <td>No</td>\n",
       "      <td>NaN</td>\n",
       "      <td>1.0</td>\n",
       "      <td>CC1=C(C(=O)c2ccc(O)cc12)c3ccc(O)cc3</td>\n",
       "      <td>NEUTRAL</td>\n",
       "      <td>IOAPPLGKQYAVIJ-UHFFFAOYSA-N</td>\n",
       "      <td>NaN</td>\n",
       "    </tr>\n",
       "    <tr>\n",
       "      <th>2</th>\n",
       "      <td>9.72</td>\n",
       "      <td>9.66</td>\n",
       "      <td>3.54</td>\n",
       "      <td>5.74</td>\n",
       "      <td>5.88</td>\n",
       "      <td>CHEMBL180300</td>\n",
       "      <td>No</td>\n",
       "      <td>C27H29NO4S</td>\n",
       "      <td>463.59</td>\n",
       "      <td>1.0</td>\n",
       "      <td>No</td>\n",
       "      <td>NaN</td>\n",
       "      <td>6.0</td>\n",
       "      <td>C[C@@H](COc1ccc(cc1)[C@@H]2Oc3ccc(O)cc3S[C@@H]...</td>\n",
       "      <td>BASE</td>\n",
       "      <td>UZOOIPXOYYJULJ-RHLLTPQKSA-N</td>\n",
       "      <td>NaN</td>\n",
       "    </tr>\n",
       "    <tr>\n",
       "      <th>3</th>\n",
       "      <td>8.15</td>\n",
       "      <td>NaN</td>\n",
       "      <td>4.06</td>\n",
       "      <td>4.12</td>\n",
       "      <td>3.86</td>\n",
       "      <td>CHEMBL189073</td>\n",
       "      <td>No</td>\n",
       "      <td>C17H11NO3</td>\n",
       "      <td>277.27</td>\n",
       "      <td>0.0</td>\n",
       "      <td>No</td>\n",
       "      <td>NaN</td>\n",
       "      <td>1.0</td>\n",
       "      <td>Oc1ccc2c(noc2c1)c3cccc4ccc(O)cc34</td>\n",
       "      <td>NEUTRAL</td>\n",
       "      <td>UNFXWFVOAYBQPC-UHFFFAOYSA-N</td>\n",
       "      <td>NaN</td>\n",
       "    </tr>\n",
       "    <tr>\n",
       "      <th>4</th>\n",
       "      <td>9.30</td>\n",
       "      <td>NaN</td>\n",
       "      <td>3.73</td>\n",
       "      <td>3.74</td>\n",
       "      <td>3.95</td>\n",
       "      <td>CHEMBL365290</td>\n",
       "      <td>No</td>\n",
       "      <td>C15H12O3</td>\n",
       "      <td>240.25</td>\n",
       "      <td>0.0</td>\n",
       "      <td>No</td>\n",
       "      <td>NaN</td>\n",
       "      <td>1.0</td>\n",
       "      <td>Cc1cc(O)cc2cc(oc12)c3ccc(O)cc3</td>\n",
       "      <td>NEUTRAL</td>\n",
       "      <td>FUWUZPRNKPGRGX-UHFFFAOYSA-N</td>\n",
       "      <td>NaN</td>\n",
       "    </tr>\n",
       "  </tbody>\n",
       "</table>\n",
       "</div>"
      ],
      "text/plain": [
       "   acdAcidicPka  acdBasicPka  acdLogd  acdLogp  alogp      chemblId knownDrug  \\\n",
       "0           NaN          NaN      NaN      NaN    NaN  CHEMBL219763        No   \n",
       "1          7.69          NaN     0.33     0.50   3.31  CHEMBL370037        No   \n",
       "2          9.72         9.66     3.54     5.74   5.88  CHEMBL180300        No   \n",
       "3          8.15          NaN     4.06     4.12   3.86  CHEMBL189073        No   \n",
       "4          9.30          NaN     3.73     3.74   3.95  CHEMBL365290        No   \n",
       "\n",
       "  molecularFormula  molecularWeight  numRo5Violations passesRuleOfThree  \\\n",
       "0         C8H5B10O              NaN               NaN                No   \n",
       "1         C16H12O3           252.26               0.0                No   \n",
       "2       C27H29NO4S           463.59               1.0                No   \n",
       "3        C17H11NO3           277.27               0.0                No   \n",
       "4         C15H12O3           240.25               0.0                No   \n",
       "\n",
       "  preferredCompoundName  rotatableBonds  \\\n",
       "0                   NaN             NaN   \n",
       "1                   NaN             1.0   \n",
       "2                   NaN             6.0   \n",
       "3                   NaN             1.0   \n",
       "4                   NaN             1.0   \n",
       "\n",
       "                                              smiles  species  \\\n",
       "0                                                NaN      NaN   \n",
       "1                CC1=C(C(=O)c2ccc(O)cc12)c3ccc(O)cc3  NEUTRAL   \n",
       "2  C[C@@H](COc1ccc(cc1)[C@@H]2Oc3ccc(O)cc3S[C@@H]...     BASE   \n",
       "3                  Oc1ccc2c(noc2c1)c3cccc4ccc(O)cc34  NEUTRAL   \n",
       "4                     Cc1cc(O)cc2cc(oc12)c3ccc(O)cc3  NEUTRAL   \n",
       "\n",
       "                   stdInChiKey synonyms  \n",
       "0                          NaN      NaN  \n",
       "1  IOAPPLGKQYAVIJ-UHFFFAOYSA-N      NaN  \n",
       "2  UZOOIPXOYYJULJ-RHLLTPQKSA-N      NaN  \n",
       "3  UNFXWFVOAYBQPC-UHFFFAOYSA-N      NaN  \n",
       "4  FUWUZPRNKPGRGX-UHFFFAOYSA-N      NaN  "
      ]
     },
     "execution_count": 14,
     "metadata": {},
     "output_type": "execute_result"
    }
   ],
   "source": [
    "cpdsDF.head()"
   ]
  },
  {
   "cell_type": "code",
   "execution_count": 15,
   "metadata": {
    "collapsed": false
   },
   "outputs": [],
   "source": [
    "bioactsDF['value'] = bioactsDF['value'].astype(float) # making sure everything is float"
   ]
  },
  {
   "cell_type": "markdown",
   "metadata": {},
   "source": [
    "## Chemoinformatics"
   ]
  },
  {
   "cell_type": "code",
   "execution_count": 16,
   "metadata": {
    "collapsed": false
   },
   "outputs": [],
   "source": [
    "import rdkit.Chem as Chem\n",
    "from rdkit.Chem import Draw\n",
    "from rdkit.Chem import PandasTools\n",
    "from rdkit.Chem.Draw import IPythonConsole # Enables RDKit IPython integration"
   ]
  },
  {
   "cell_type": "code",
   "execution_count": 17,
   "metadata": {
    "collapsed": false
   },
   "outputs": [],
   "source": [
    "molnames = 'chemblId'\n",
    "smiles = 'smiles'"
   ]
  },
  {
   "cell_type": "markdown",
   "metadata": {},
   "source": [
    "Add molecule column"
   ]
  },
  {
   "cell_type": "code",
   "execution_count": 18,
   "metadata": {
    "collapsed": true
   },
   "outputs": [],
   "source": [
    "cpdsDF = cpdsDF[~cpdsDF['smiles'].isnull()].copy()"
   ]
  },
  {
   "cell_type": "code",
   "execution_count": 19,
   "metadata": {
    "collapsed": false
   },
   "outputs": [],
   "source": [
    "PandasTools.AddMoleculeColumnToFrame(cpdsDF, smilesCol='smiles')"
   ]
  },
  {
   "cell_type": "code",
   "execution_count": 20,
   "metadata": {
    "collapsed": false
   },
   "outputs": [],
   "source": [
    "cpdsDF = cpdsDF[[molnames, smiles, 'ROMol', 'knownDrug', 'preferredCompoundName']]"
   ]
  },
  {
   "cell_type": "markdown",
   "metadata": {},
   "source": [
    "#### Add bioactivities and ligand efficiency\n",
    "Ligand efficiency: *LE = 1.4 x pIC50/HAC*\n",
    "Not that ligand efficiency might not be scientifically valid: http://fbdd-lit.blogspot.de/search/label/LE"
   ]
  },
  {
   "cell_type": "code",
   "execution_count": 21,
   "metadata": {
    "collapsed": false
   },
   "outputs": [],
   "source": [
    "import numpy as np\n",
    "def getBioacts(cpd, target):\n",
    "    value = bioactsDF[(bioactsDF['ingredient_cmpd_chemblid'] == cpd)& # All rows of compound AND\n",
    "                     (bioactsDF['target_chemblid'] == target)]['value'].mean() # target. Get mean of values\n",
    "    return np.log10(value*10**-9)*-1 # returns pIC50\n",
    "\n",
    "def getLE(mol, pIC50): \n",
    "    return 1.4*pIC50/mol.GetNumHeavyAtoms()        "
   ]
  },
  {
   "cell_type": "code",
   "execution_count": 22,
   "metadata": {
    "collapsed": false
   },
   "outputs": [],
   "source": [
    "cpdsDF['pIC50'] = cpdsDF.apply(lambda x: getBioacts(x[molnames], 'CHEMBL206'), axis=1)"
   ]
  },
  {
   "cell_type": "code",
   "execution_count": 23,
   "metadata": {
    "collapsed": false
   },
   "outputs": [],
   "source": [
    "cpdsDF['LE'] = cpdsDF.apply(lambda x: getLE(x['ROMol'], x['pIC50']), axis=1)"
   ]
  },
  {
   "cell_type": "code",
   "execution_count": 24,
   "metadata": {
    "collapsed": false
   },
   "outputs": [
    {
     "data": {
      "text/html": [
       "<table border=\"1\" class=\"dataframe\">\n",
       "  <thead>\n",
       "    <tr style=\"text-align: right;\">\n",
       "      <th></th>\n",
       "      <th>chemblId</th>\n",
       "      <th>smiles</th>\n",
       "      <th>ROMol</th>\n",
       "      <th>knownDrug</th>\n",
       "      <th>preferredCompoundName</th>\n",
       "      <th>pIC50</th>\n",
       "      <th>LE</th>\n",
       "    </tr>\n",
       "  </thead>\n",
       "  <tbody>\n",
       "    <tr>\n",
       "      <th>1</th>\n",
       "      <td>CHEMBL370037</td>\n",
       "      <td>CC1=C(C(=O)c2ccc(O)cc12)c3ccc(O)cc3</td>\n",
       "      <td><img src=\"data:image/png;base64,iVBORw0KGgoAAAANSUhEUgAAAMgAAADICAYAAACtWK6eAAAV/ElEQVR4nO3deVRU5/kH8K8CwiyZGUQQQQ0BocGICG7JcUl+ClQTE4xmtCZFjQW1TYvWLGOOEVxQJ6Ra9EDteNIY8FDqnNMsmFgV12w21hWXxoXExsiiUECYGZaB5/fHlIm4vFG4syDP55w5586d4X2f8dyv9973bj2IiMAYu6Oeri6AMXfGAWFMgAPCmAAHhDEBDghjAhwQxgQ4IIwJcEAYE+CAMCbAAWFMgAPCmAAHhDEBDghjAhwQxgQ4IIwJcEAYE+CAMCbAAWFMgAPCmAAHhDEBDghjAhwQxgQ4IIwJcEAYE+CAMCbAAWFMgAPCmAAHhDEBDghjAhwQxgQ4IIwJcEAYE+CAMCbAAWFMgAPCmAAHhDEBDghjAhwQxgQ4IIwJcEAYE+CAMCbAAWFMgAPCmAAHhDEBDghjAhwQxgQ4IIwJcEAYE+CAMCbAAWFMgAPCmAAHhDEBDghjAhwQxgQ4IIwJcEAYE+CAMCbAAWFMgAPCmAAHhDEBDghjAhwQxgQ4IIwJcEAYE+CAMCbAAWFMgAPi5nJzcxEfH+/qMrotDoibi46OxsGDB1FbW+vqUrolDoibi46Ohr+/P/bv3+/qUrolDoib69GjByZOnIg9e/a4upRuiQPSBcTHx2PXrl2uLqNb6kFE5OoimFh5eTmCgoJw4cIFDBo0yNXldCu8BukCAgMDERUVxZtZLsAB6SISEhI4IC7AAeki4uPjsX//fjQ3N7u6lG6FA9JFjB8/HlarFf/85z9dXUq3wgHpInx8fDBu3DjezHIyDkgXEh8fzwFxMh7m7UKKi4sRGxuLiooK+Pn5ubqcbuGBW4OUlJTg1KlT+Pbbb1FZWQmTyeTqkiQTFRWFvn37Yu/eva4updt4oNYga9asQUFBAc6ePXvbZxqNBjKZDHK5HBqNBnK5HHK5HCqVCkqlEnK5HEqlEmq12v69lJQU9OjRwwW/5O7mzp0LT09PvPvuu64upVt4YAJy4sQJjB49Grt378bYsWNRX1+PGzduwGw2w2w2o7q6GhaLBWazGbW1tTCZTDCbzairq0NdXR3MZjNMJhNqa2thNptx/fp1BAUFYd++fW4Vkvz8fCxduhRXrlxxdSn497//DU9PT4SHh7umgEOHgKQk2/S2bcCTT9qme/QA2hbrm6c7gh4AVquVRo4cSXPnzpWszerqavL19SWj0ShZm1KoqKigHj160NmzZ11Ww9mzZ+mFF14gDw8PUiqVNHXqVLp69arzC4mKItqxg+iTT2zTbW5erDu5iD8QAdmwYQP17duXqqqqiIjo2rVr9unOWLVqFUVERFBzc3On25LSY489Rr/97W+psbHRqf2ePHmSpkyZQp6enjR//nz67rvv6NKlSzRx4kSSy+Wk1+vJarU6ryAfH6LGRqKGBtt0G9s648dXJ3T5gJSUlJBcLqe//e1v9nnPP/88vfjiix1qb/v27fT1118TEVFdXR0FBARQXl6eJLVK4eLFi6TRaEipVJK/vz8tWrSITp486dA+L1y4QFqtljw8PEir1dK5c+fafd7a2kq5ubnk5+dHMTExdPz4cYfWYzdkCK9BRFpbW2nChAmUmJhon1dQUEAajYZKS0s71GZycjKNGTPG/j4zM5PCwsKoqamps+V2WnV1NUVERFBycjJZrVYqKioirVZLXl5e9LOf/YzS09Pp8uXLkvVXUlJCSUlJ5OXlRVqtloqLi9t9/t///rfd+7KyMvv3dTodNTQ0SFYLmc1Eej1RWBhRZaVt3r59RP3721779//4XQ6ITV5eHmk0Gvv277Vr16hPnz60efPmDrf5n//8h7y9vWnXrl1ERGSxWCg4OJi2bNkiSc0dZbVa6ec//zmNGjXqtgWvqqqKDAYDxcTEUM+ePSkuLo5yc3PJZDJ1qK/S0lKaP38+9erViyZOnEiHDx++rb+lS5eSQqGgI0eO3Pb3O3bsoAEDBlB4eDgdOHCgQzXYtbQQ5eXZgtG3L1FWlm2Tykm6bEAqKirIz8+PcnJy7PPmzJlD48ePp9bW1k61/bvf/Y6GDx9ub2fTpk00cOBAaf9HvE/Lly+noKAg+5qxsbGRvvrqq9u+d+bMGdLpdOTv708ajYbmz59Pn3/++T31UV5eTqmpqSSXy+nJJ5+87e8qKirsn48fP17Ybm1tLaWmptr3V27cuHEfv5aIrFYig4Ho4YeJ+vWzTTt5n4uoCwfkl7/8JY0bN45aWlqIiGjXrl0kk8no/PnznW67rKyMFAoFffTRR0RkWxhDQkJo06ZNnW67I4xGI3l7e9OXX35pn7dw4UIKCQm56456Q0MDFRYWklarJU9PT4qMjCS9Xk9lZWW3fbe6upp0Oh0plUoaPnw4FRUV3dfnIl988QUNHjyYgoKC6MMPP7ynv/nkk0+ocupUIpWKKD2dqKbmnvuTWpcMSGFhIfn4+NjDUFdXRw8//DBlZGRI1odOp6MhQ4bYA2gwGCgwMLDDmy0ddebMGVIqle3WlNnZ2SSXy+9557y0tJSysrIoOjqaPDw8KC4ujoxGI12/fp3S09Opd+/eFB0dTYWFhe3WvrW1tcLP71VTUxPp9Xry9vYmrVZL165du+P39u3bR0888QTJ5XIyrl79476GC3W5gNTV1dHAgQNp9erV9nlLliyhmJgYSYdjKysrSaVS2UfHmpqaKCwsjDIzMyXr46dUV1dTeHg4paSk2OcdPHiQvLy8KD8//77ba21tpQMHDtDs2bNJoVDQoEGDqH///mQwGNoNQpjNZtLr9dSnTx8KDw8no9Fo/4+iM06fPk1PPPEE+fr6ksFgsM/fu3cvPf744ySXy0mn01GlGwSjTZcLyOLFi9uF4auvviIvL6877ix2Vnp6ervjIG1DmbW1tZL3dSur1UoJCQk0duxY+8J75coV6tu3L7366qudbv/48eMEgK5fv26f19DQQFlZWdS/f38KDQ2l3NxcyUfvmpubKTMzk+RyOU2aNIkmT55Mnp6eNG/ePElH4KTSpQJyaxiampooKiqKlixZ4pD+6urqyN/fn95//30isi20kZGRtGrVKof0d7O33nqLgoOD7fsMDQ0NNHr0aJo8ebIkB+OOHTtGPXv2tG8yFRcXU2RkJPn5+ZFer6f6+vpO9yFy6dIlGjFiBD311FOS7Dc6inQBudPY88GDRAMG2F4HD3aq+bYwLF682D4vIyODwsLCHLpfoNfr2+0Mb9++ndRqtSRH6u9m+/bt5O3t3W6Uavbs2RQWFiZZv4cOHSKlUml/X11dTRkZGU5ZO7YZNWoU/elPf3Jafx3h2IDcfK7MkCFEJSVEFRUdGpXIyMig0NBQexjOnTtHPj4+tG/fPimqvyuz2UzBwcH2bebW1lYaNmwYLVu2zCH9nT59mpRKZbtjOZs3byaFQkGnTp2SrJ9PP/2UAgMDJWvvXqSlpbU7qDt48GC3OkvhTjw7dTblrW496/XiRSAhwXZGzIULQFhY+8/lcsDHB9Bo8NnIkVhy6RI0Gg18fHwgl8uhVqvh4+OD1tZWbN26FUajEXK5HESEhQsXYubMmZgwYYKkP+FWMpkMOp0OGRkZmDNnDry9vbFy5Uq89NJLSE1NRUBAgGR91dTUYNq0aZg1axYWLlwIAPj888+xaNEiFBQUYOjQoZL1VV9fD4VCIVl799qnUqm863t3JG1Abj7FGAAGDQL27LG9j4gAPvsMqK8HGhqAGzcAk8k2XVsLFRHm19SguroaDQ0NsFgsqKmpQX19PSoqKuDp6YnY2FgAgMlkQnh4ONauXStp+XezYMEC/PGPf4TBYEBqaiqee+45DBkyBO+88w7eeecdSfpoaWnBjBkzEBgYiJycHADA1atXMWPGDCxevBjTpk2TpJ82rlg4OSC32rgRmDPHNp2XB/j62l53MOx/r7uJi4vDypUrYTAYoFQqnXrBUK9evfD666/jr3/9K1JTUwEAOp0OCxYswOXLl+Hr6wu5XA6ZTAaNRgOFQgGZTAaVSoWHHnoIMpnMfjFW2/d8b/l3SEtLw7lz53D06FF4eXmhsbERL7zwAmJiYrBu3TrJf5OrAtKvXz+X1nC/pAvIzReltE1PmABIdGHPunXrMGbMGLzxxhsIu3VTzQlSUlKQnJxsf3/06FH06tULoaGhqKmpQVVVFSwWC2pra1FfXw+LxYK6ujrcuHEDFovljpf+toVFpVLBZDKhoKAAgYGBAIBFixahsrISO3fuRM+e0l8Z7eo1SFNTE5qamrpRQBxs5MiRSEhIwKpVq5Cbm+v0/j09f/ynOnbsGDIzM1FUVIQn265iuwc1NTUwm832zUeTyQSLxYKKigosXboUhw8fxoQJE9DU1ITS0lIYjcbb1jRSMZlMLglI235PfX09AHBApLRq1SqMHj0aS5cuRWRkpEtqaG5uxrx58zB79uz7Cgdguy5eo9Hc8bPg4GBMnjwZkydPRmxsLAoLCyWo9u5cvQbpKgHpUnc1iY2NRWJiIlasWOGyGtavX4+qqiqsX79e0nYnTpyIpKQkzJs3zym3F+WA3JsuFRAAWLlyJT744AOcPHnS6X1/8803WLFiBTZu3Ai1Wi15+xs2bEBVVRUyMzMlb/tW7hAQT09PyGQyp9Zwv7pcQB577DHMnDnT6WuRtmMvTz/9NKZPn+6QPtRqNf785z9j9erVOHPmjEP6aOPq4yCu6L8julxAAGDFihXYuXMnvv76a6f1+e6776K4uNh+jMJRnnnmGWi1WvzqV79CS0uLw/pxhzWIu29eAV00IIMGDcLs2bORnp7ulP6uXr2K119/HXq9vt04vqNs3LgR33//PTZs2OCwPpy9gN46rMsBcbC0tDQcPHgQhw4dcnhfqampGDFiBFJSUhzeFwD07t0bBoMBy5cvx7lz5xzSx60LqCPXVm39AT/ulLtimLkjumxABg4ciOTkZLz11lsO7eeDDz7AP/7xD2zevNmpd1h87rnnkJiYiOTkZIcsvDcHpLGxEbGxsfjDH/4Aq9UqeV9t/QHgNYgzLVu2DMePH0dRUZF9Xk1NDbZs2YKCggIUFhZi3759OHbsGM6fP48ffvgB1dXV99x+dXU1XnnlFSxfvtwlt9fMyclBSUkJsrOzJW/75gXU29sbb7/9NrKzsxETE+OQh/Q0NDTA19e3ywWkS10wdSevvvoqjRgxwn7hz/nz52n48OEUHh5OQUFBpFarCcBtL4VCQQEBARQaGkqxsbE0duxYeuWVV9q1nZKSQrGxsS69s2JBQQHJ5XK6ePFip9qpqqoio9FISUlJ1K9fPxo4cCA988wz7e4fZjKZSKfTkZeXV8fuRHIfdDodzZw502HtS6XL37y6srISoaGhyM/Px7PPPnvX79XV1cFkMsFkMtnPEr75vclkgr+/P1566SUAwN69e/H000/jX//6F6Kjo531c+5o+vTpqKqqwoEDB+55M6+1tRUnTpzAnj17UFRUhC+//BIqlQpxcXFISEjA0KFDsWbNGuzevRtpaWl47bXX4OHhAcB2I/Dk5GSUl5cjOzsbzz//vKS/x2KxYMaMGXjkkUewadMmSduWnKsTKoVly5ZRVFSUJDcWILJdJBUeHk6vvfaaJO11VllZGfXu3fsnr747evQo6fV6iouLI4VCQSqVirRaLRkMBiopKbnj3xiNRgoICKDY2Fg6duyYfX5zczPp9Xry8fEhrVZLFRUVnf4djY2NlJ2dTUFBQRQSEkLl5eWdbtPRuvwaBACqqqrw+OOPQyaTwc/Pr93p5W3P+rj5lHS1Wg2lUgmZTIaHHnoIKpUKMpkMCoUCGo0Gb775Jv7+97+juLjYbY705uXl4Te/+Q2Ki4sRGhoKwLaPtHfvXvvr8uXLiImJwZQpU/Dss88iOjq63UmWd1NTUwOdToetW7diyZIlWLFiBXx8fAAAly5dwoIFC3DixAno9foOPTOloaEBGzduxPr166FSqbBu3TpMnz7dIWcpS+2BCAgAlJeXo7CwsN3p5TU1NfZngrSdSWs2m3Hjxg3U1dXBYrHYR1duFhMTg7Vr12LSpEku+CV3duDAAWzYsAGVlZVITEy0bzYplUrExcUhPj4eCQkJGDBgQIf7+OyzzzB//ny0tLTAYDDYr9YkImzbtg2///3vERUVhS1btiAiIuIn27NarXjvvfewZs0atLS0IC0tDS+//DK8vLw6XKPTuXT95SZqamqorKyMSkpK6OjRo2636r969Sp5eHjQzp07KSkpicaNG0cZGRl05MgRyTYr25jNZkpPTydvb29KSkpqd5OI7777jiZNmkQqlYpycnLu2rfVaiWDwUAhISEUGBhIBoPB6Y9qkAoHpAt4++23adiwYfb3b7zxBs2aNcuhfZ48eZJGjhxJgYGBtz1EaNu2baTVam+7y2JraysZjUYaPHgw+fr6OuX2QY7GAXFzra2tFBERQVlZWURku/1RQEAAFRQUOLzv5uZmysrKIqVSSVOmTKErV67c9btGo5GGDh1KarWa9Hq9Q4eInYkD4uYOHz5M3t7e9ttxfvzxx+Tr60sWi8VpNXz77beUkJBAarWasrKy2m1atd1PVyaTud1tQ6XAAXFzCxYsoGnTptnfT506lRYuXOiSWoxGI/Xp04fGjBlDeXl5NGbMGPLx8SGdTifJMLA74oC4MZPJRGq1mgoLC4nI9oAgLy8v+yPiXOGHH36gxMREGjlyJP3iF7+gb775xmW1OEOXuia9uyktKsL/hYTYh5vz8/Px6KOPYtSoUS6rKTg4GB999BFaWlrsR94fZBwQNzYoJwcfxscD/ztu8KnRiBdffNHFVdl0h3AAD9CBwgfO998DjzwCnD4NDB4MnDoFjB0L04ULUDjhoi1m4/7H+rurvDxg+HBbOADgL38BnnqKw+FkHBB3RAS89x7w8su2942NQH4+MHeuS8vqjjgg7uiLL4DycqBtf2PHDsDDAxCczs8cgwPijrZuBRITgbZ7b73/PjBrFtCrl0vL6o54FMsdVVUBv/61bbq0FNi9GzhyxLU1dVMcEHf08cc/ThcWAo8+CsTEuK6ebow3sdzRoUPAwIG2V2QksH+/qyvqtvg4iDsaOhRYu9b2ZK433wSKi11dUbfFAXFHMhlQW2sb7tVoAIvF1RV1W7wP4o5ufrajC+7HxX7EAXFHtz7bkbkMb2IxJsCjWIwJcEAYE+CAMCbAAWFMgAPCmAAHhDEBDghjAhwQxgQ4IIwJcEAYE+CAMCbAAWFMgAPCmAAHhDEBDghjAhwQxgQ4IIwJcEAYE+CAMCbAAWFMgAPCmAAHhDEBDghjAhwQxgQ4IIwJcEAYE+CAMCbAAWFMgAPCmAAHhDEBDghjAhwQxgQ4IIwJcEAYE+CAMCbAAWFMgAPCmAAHhDEBDghjAhwQxgQ4IIwJcEAYE+CAMCbAAWFMgAPCmAAHhDEBDghjAhwQxgQ4IIwJcEAYE+CAMCbAAWFMgAPCmAAHhDEBDghjAhwQxgQ4IIwJcEAYE+CAMCbAAWFMgAPCmAAHhDEBDghjAhwQxgT+H4lq+vi2AIpvAAAAAElFTkSuQmCC\" alt=\"Mol\"/></td>\n",
       "      <td>No</td>\n",
       "      <td>NaN</td>\n",
       "      <td>8.221849</td>\n",
       "      <td>0.60582</td>\n",
       "    </tr>\n",
       "  </tbody>\n",
       "</table>"
      ],
      "text/plain": [
       "       chemblId                               smiles                                                                                                                                                                                                                                                                                                                                                                                                                                                                                                                                                                                                                                                                                                                                                                                                                                                                                                                                                                                                                                                                                                                                                                                                                                                                                                                                                                                                                                                                                                                                                                                                                                                                                                                                                                                                                                                                                                                                                                                                                                                                                                                                                                                                                                                                                                                                                                                                                                                                                                                                                                                                                                                                                                                                                                                                                                                                                                                                                                                                                                                                                                                                                                                                                                                                                                                                                                                                                                                                                                                                                                                                                                                                                                                                                                                                                                                                                                                                                                                                                                                                                                                                                                                                                                                                                                                                                                                                                                                                                                                                                                                                                                                                                                                                                                                                                                                                                                                                                                                                                                                                                                                                                                                                                                                                                                                                                                                                                                                                                                                                                                                                                                                                                                                                                                                                                                                                                                                                                                                                                                                                                                                                                                                                                                                                                                                                                                                                                                                                                                                                                                                                                                                                                                                                                                                                                                                                                                                                                                                                                                                                                                                                                                                                                                                                                                                                                                                                                                                                                                                                                                                                                                                                                                                                                                                                                                                                                                                                      ROMol knownDrug preferredCompoundName     pIC50       LE\n",
       "1  CHEMBL370037  CC1=C(C(=O)c2ccc(O)cc12)c3ccc(O)cc3  <img src=\"data:image/png;base64,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\" alt=\"Mol\"/>        No                   NaN  8.221849  0.60582"
      ]
     },
     "execution_count": 24,
     "metadata": {},
     "output_type": "execute_result"
    }
   ],
   "source": [
    "cpdsDF.head(1)"
   ]
  },
  {
   "cell_type": "code",
   "execution_count": 25,
   "metadata": {
    "collapsed": false
   },
   "outputs": [
    {
     "data": {
      "text/plain": [
       "1346"
      ]
     },
     "execution_count": 25,
     "metadata": {},
     "output_type": "execute_result"
    }
   ],
   "source": [
    "len(cpdsDF)"
   ]
  },
  {
   "cell_type": "markdown",
   "metadata": {},
   "source": [
    "<br>\n",
    "<br>\n",
    "<br>\n",
    "<br>\n",
    "## Murcko scaffold decomposition\n",
    "  \n",
    "Bemis, G. W.; Murcko, M. A. “The Properties of Known Drugs. 1. Molecular Frameworks.” J. Med. Chem. 39:2887-93 (1996).  \n",
    "\n",
    "Decomposition of molecules to scaffolds or generic frameworks  \n",
    "\n",
    "Functionality present in RDKit. Added it to PandasTools \n",
    "<br>\n",
    "<br>\n",
    "<br>\n",
    "<br>\n",
    "<br>\n",
    "<br>\n",
    "<br>\n",
    "\n"
   ]
  },
  {
   "cell_type": "code",
   "execution_count": 26,
   "metadata": {
    "collapsed": false
   },
   "outputs": [],
   "source": [
    "from rdkit.Chem.Scaffolds import MurckoScaffold"
   ]
  },
  {
   "cell_type": "code",
   "execution_count": 27,
   "metadata": {
    "collapsed": false
   },
   "outputs": [],
   "source": [
    "mol  = Chem.MolFromSmiles(cpdsDF.ix[2]['smiles'])"
   ]
  },
  {
   "cell_type": "code",
   "execution_count": 28,
   "metadata": {
    "collapsed": false
   },
   "outputs": [],
   "source": [
    "scaffold = MurckoScaffold.GetScaffoldForMol(mol)\n",
    "generic = MurckoScaffold.MakeScaffoldGeneric(MurckoScaffold.GetScaffoldForMol(mol))"
   ]
  },
  {
   "cell_type": "code",
   "execution_count": 29,
   "metadata": {
    "collapsed": false
   },
   "outputs": [
    {
     "data": {
      "image/svg+xml": [
       "<svg baseProfile=\"full\" height=\"200px\" version=\"1.1\" width=\"600px\" xml:space=\"preserve\" xmlns:rdkit=\"http://www.rdkit.org/xml\" xmlns:svg=\"http://www.w3.org/2000/svg\" xmlns:xlink=\"http://www.w3.org/1999/xlink\">\n",
       "<g transform=\"translate(0,0)\"><rect height=\"200\" style=\"opacity:1.0;fill:#FFFFFF;stroke:none\" width=\"200\" x=\"0\" y=\"0\"> </rect>\n",
       "<path d=\"M 9.09091,109.372 25.9683,106.421\" style=\"fill:none;fill-rule:evenodd;stroke:#000000;stroke-width:2px;stroke-linecap:butt;stroke-linejoin:miter;stroke-opacity:1\"/>\n",
       "<path d=\"M 25.9683,106.421 42.8457,103.471\" style=\"fill:none;fill-rule:evenodd;stroke:#000000;stroke-width:2px;stroke-linecap:butt;stroke-linejoin:miter;stroke-opacity:1\"/>\n",
       "<path d=\"M 25.9683,106.421 27.1939,113.432\" style=\"fill:none;fill-rule:evenodd;stroke:#000000;stroke-width:2px;stroke-linecap:butt;stroke-linejoin:miter;stroke-opacity:1\"/>\n",
       "<path d=\"M 27.1939,113.432 28.4195,120.443\" style=\"fill:none;fill-rule:evenodd;stroke:#0000FF;stroke-width:2px;stroke-linecap:butt;stroke-linejoin:miter;stroke-opacity:1\"/>\n",
       "<path d=\"M 25.892,104.99 25.5544,105.049\" style=\"fill:none;fill-rule:evenodd;stroke:#000000;stroke-width:1px;stroke-linecap:butt;stroke-linejoin:miter;stroke-opacity:1\"/>\n",
       "<path d=\"M 25.8156,103.558 25.1405,103.676\" style=\"fill:none;fill-rule:evenodd;stroke:#000000;stroke-width:1px;stroke-linecap:butt;stroke-linejoin:miter;stroke-opacity:1\"/>\n",
       "<path d=\"M 25.7393,102.126 24.7267,102.303\" style=\"fill:none;fill-rule:evenodd;stroke:#000000;stroke-width:1px;stroke-linecap:butt;stroke-linejoin:miter;stroke-opacity:1\"/>\n",
       "<path d=\"M 25.663,100.695 24.3128,100.931\" style=\"fill:none;fill-rule:evenodd;stroke:#000000;stroke-width:1px;stroke-linecap:butt;stroke-linejoin:miter;stroke-opacity:1\"/>\n",
       "<path d=\"M 25.5866,99.263 23.8989,99.558\" style=\"fill:none;fill-rule:evenodd;stroke:#000000;stroke-width:1px;stroke-linecap:butt;stroke-linejoin:miter;stroke-opacity:1\"/>\n",
       "<path d=\"M 25.5103,97.8313 23.485,98.1853\" style=\"fill:none;fill-rule:evenodd;stroke:#000000;stroke-width:1px;stroke-linecap:butt;stroke-linejoin:miter;stroke-opacity:1\"/>\n",
       "<path d=\"M 25.4339,96.3996 23.0711,96.8126\" style=\"fill:none;fill-rule:evenodd;stroke:#000000;stroke-width:1px;stroke-linecap:butt;stroke-linejoin:miter;stroke-opacity:1\"/>\n",
       "<path d=\"M 25.3576,94.9679 22.6572,95.44\" style=\"fill:none;fill-rule:evenodd;stroke:#000000;stroke-width:1px;stroke-linecap:butt;stroke-linejoin:miter;stroke-opacity:1\"/>\n",
       "<path d=\"M 25.2813,93.5362 22.2433,94.0673\" style=\"fill:none;fill-rule:evenodd;stroke:#000000;stroke-width:1px;stroke-linecap:butt;stroke-linejoin:miter;stroke-opacity:1\"/>\n",
       "<path d=\"M 25.2049,92.1045 21.8294,92.6946\" style=\"fill:none;fill-rule:evenodd;stroke:#000000;stroke-width:1px;stroke-linecap:butt;stroke-linejoin:miter;stroke-opacity:1\"/>\n",
       "<path d=\"M 42.8457,103.471 47.1481,108.614\" style=\"fill:none;fill-rule:evenodd;stroke:#000000;stroke-width:2px;stroke-linecap:butt;stroke-linejoin:miter;stroke-opacity:1\"/>\n",
       "<path d=\"M 47.1481,108.614 51.4505,113.757\" style=\"fill:none;fill-rule:evenodd;stroke:#FF0000;stroke-width:2px;stroke-linecap:butt;stroke-linejoin:miter;stroke-opacity:1\"/>\n",
       "<path d=\"M 56.5065,116.146 63.6117,114.904\" style=\"fill:none;fill-rule:evenodd;stroke:#FF0000;stroke-width:2px;stroke-linecap:butt;stroke-linejoin:miter;stroke-opacity:1\"/>\n",
       "<path d=\"M 63.6117,114.904 70.7169,113.662\" style=\"fill:none;fill-rule:evenodd;stroke:#000000;stroke-width:2px;stroke-linecap:butt;stroke-linejoin:miter;stroke-opacity:1\"/>\n",
       "<path d=\"M 70.7169,113.662 81.7106,126.803\" style=\"fill:none;fill-rule:evenodd;stroke:#000000;stroke-width:2px;stroke-linecap:butt;stroke-linejoin:miter;stroke-opacity:1\"/>\n",
       "<path d=\"M 74.9942,113.434 82.6898,122.633\" style=\"fill:none;fill-rule:evenodd;stroke:#000000;stroke-width:2px;stroke-linecap:butt;stroke-linejoin:miter;stroke-opacity:1\"/>\n",
       "<path d=\"M 70.7169,113.662 76.6005,97.5705\" style=\"fill:none;fill-rule:evenodd;stroke:#000000;stroke-width:2px;stroke-linecap:butt;stroke-linejoin:miter;stroke-opacity:1\"/>\n",
       "<path d=\"M 81.7106,126.803 98.5881,123.853\" style=\"fill:none;fill-rule:evenodd;stroke:#000000;stroke-width:2px;stroke-linecap:butt;stroke-linejoin:miter;stroke-opacity:1\"/>\n",
       "<path d=\"M 98.5881,123.853 104.472,107.761\" style=\"fill:none;fill-rule:evenodd;stroke:#000000;stroke-width:2px;stroke-linecap:butt;stroke-linejoin:miter;stroke-opacity:1\"/>\n",
       "<path d=\"M 96.2523,120.262 100.371,108.998\" style=\"fill:none;fill-rule:evenodd;stroke:#000000;stroke-width:2px;stroke-linecap:butt;stroke-linejoin:miter;stroke-opacity:1\"/>\n",
       "<path d=\"M 104.472,107.761 93.478,94.6201\" style=\"fill:none;fill-rule:evenodd;stroke:#000000;stroke-width:2px;stroke-linecap:butt;stroke-linejoin:miter;stroke-opacity:1\"/>\n",
       "<path d=\"M 104.472,107.761 121.349,104.811\" style=\"fill:none;fill-rule:evenodd;stroke:#000000;stroke-width:2px;stroke-linecap:butt;stroke-linejoin:miter;stroke-opacity:1\"/>\n",
       "<path d=\"M 93.478,94.6201 76.6005,97.5705\" style=\"fill:none;fill-rule:evenodd;stroke:#000000;stroke-width:2px;stroke-linecap:butt;stroke-linejoin:miter;stroke-opacity:1\"/>\n",
       "<path d=\"M 91.5364,98.4382 79.7222,100.503\" style=\"fill:none;fill-rule:evenodd;stroke:#000000;stroke-width:2px;stroke-linecap:butt;stroke-linejoin:miter;stroke-opacity:1\"/>\n",
       "<path d=\"M 121.349,104.811 121.339,111.95\" style=\"fill:none;fill-rule:evenodd;stroke:#000000;stroke-width:2px;stroke-linecap:butt;stroke-linejoin:miter;stroke-opacity:1\"/>\n",
       "<path d=\"M 121.339,111.95 121.328,119.089\" style=\"fill:none;fill-rule:evenodd;stroke:#FF0000;stroke-width:2px;stroke-linecap:butt;stroke-linejoin:miter;stroke-opacity:1\"/>\n",
       "<path d=\"M 121.349,104.811 136.2,96.2661\" style=\"fill:none;fill-rule:evenodd;stroke:#000000;stroke-width:2px;stroke-linecap:butt;stroke-linejoin:miter;stroke-opacity:1\"/>\n",
       "<path d=\"M 120.624,103.118 120.055,103.5\" style=\"fill:none;fill-rule:evenodd;stroke:#000000;stroke-width:1px;stroke-linecap:butt;stroke-linejoin:miter;stroke-opacity:1\"/>\n",
       "<path d=\"M 119.898,101.425 118.761,102.19\" style=\"fill:none;fill-rule:evenodd;stroke:#000000;stroke-width:1px;stroke-linecap:butt;stroke-linejoin:miter;stroke-opacity:1\"/>\n",
       "<path d=\"M 119.172,99.7318 117.466,100.879\" style=\"fill:none;fill-rule:evenodd;stroke:#000000;stroke-width:1px;stroke-linecap:butt;stroke-linejoin:miter;stroke-opacity:1\"/>\n",
       "<path d=\"M 118.447,98.0387 116.172,99.5684\" style=\"fill:none;fill-rule:evenodd;stroke:#000000;stroke-width:1px;stroke-linecap:butt;stroke-linejoin:miter;stroke-opacity:1\"/>\n",
       "<path d=\"M 117.721,96.3457 114.878,98.2578\" style=\"fill:none;fill-rule:evenodd;stroke:#000000;stroke-width:1px;stroke-linecap:butt;stroke-linejoin:miter;stroke-opacity:1\"/>\n",
       "<path d=\"M 123.991,123.489 130.07,127.011\" style=\"fill:none;fill-rule:evenodd;stroke:#FF0000;stroke-width:2px;stroke-linecap:butt;stroke-linejoin:miter;stroke-opacity:1\"/>\n",
       "<path d=\"M 130.07,127.011 136.149,130.533\" style=\"fill:none;fill-rule:evenodd;stroke:#000000;stroke-width:2px;stroke-linecap:butt;stroke-linejoin:miter;stroke-opacity:1\"/>\n",
       "<path d=\"M 136.149,130.533 136.124,147.666\" style=\"fill:none;fill-rule:evenodd;stroke:#000000;stroke-width:2px;stroke-linecap:butt;stroke-linejoin:miter;stroke-opacity:1\"/>\n",
       "<path d=\"M 139.572,133.108 139.554,145.101\" style=\"fill:none;fill-rule:evenodd;stroke:#000000;stroke-width:2px;stroke-linecap:butt;stroke-linejoin:miter;stroke-opacity:1\"/>\n",
       "<path d=\"M 136.149,130.533 151,121.988\" style=\"fill:none;fill-rule:evenodd;stroke:#000000;stroke-width:2px;stroke-linecap:butt;stroke-linejoin:miter;stroke-opacity:1\"/>\n",
       "<path d=\"M 136.124,147.666 150.949,156.255\" style=\"fill:none;fill-rule:evenodd;stroke:#000000;stroke-width:2px;stroke-linecap:butt;stroke-linejoin:miter;stroke-opacity:1\"/>\n",
       "<path d=\"M 150.949,156.255 165.8,147.71\" style=\"fill:none;fill-rule:evenodd;stroke:#000000;stroke-width:2px;stroke-linecap:butt;stroke-linejoin:miter;stroke-opacity:1\"/>\n",
       "<path d=\"M 151.468,152.003 161.863,146.021\" style=\"fill:none;fill-rule:evenodd;stroke:#000000;stroke-width:2px;stroke-linecap:butt;stroke-linejoin:miter;stroke-opacity:1\"/>\n",
       "<path d=\"M 165.8,147.71 170.748,150.576\" style=\"fill:none;fill-rule:evenodd;stroke:#000000;stroke-width:2px;stroke-linecap:butt;stroke-linejoin:miter;stroke-opacity:1\"/>\n",
       "<path d=\"M 170.748,150.576 175.696,153.443\" style=\"fill:none;fill-rule:evenodd;stroke:#FF0000;stroke-width:2px;stroke-linecap:butt;stroke-linejoin:miter;stroke-opacity:1\"/>\n",
       "<path d=\"M 165.8,147.71 165.825,130.576\" style=\"fill:none;fill-rule:evenodd;stroke:#000000;stroke-width:2px;stroke-linecap:butt;stroke-linejoin:miter;stroke-opacity:1\"/>\n",
       "<path d=\"M 165.825,130.576 151,121.988\" style=\"fill:none;fill-rule:evenodd;stroke:#000000;stroke-width:2px;stroke-linecap:butt;stroke-linejoin:miter;stroke-opacity:1\"/>\n",
       "<path d=\"M 161.883,132.253 151.506,126.241\" style=\"fill:none;fill-rule:evenodd;stroke:#000000;stroke-width:2px;stroke-linecap:butt;stroke-linejoin:miter;stroke-opacity:1\"/>\n",
       "<path d=\"M 151,121.988 151.01,114.849\" style=\"fill:none;fill-rule:evenodd;stroke:#000000;stroke-width:2px;stroke-linecap:butt;stroke-linejoin:miter;stroke-opacity:1\"/>\n",
       "<path d=\"M 151.01,114.849 151.021,107.71\" style=\"fill:none;fill-rule:evenodd;stroke:#CCCC00;stroke-width:2px;stroke-linecap:butt;stroke-linejoin:miter;stroke-opacity:1\"/>\n",
       "<path d=\"M 148.738,103.53 142.469,99.8981\" style=\"fill:none;fill-rule:evenodd;stroke:#CCCC00;stroke-width:2px;stroke-linecap:butt;stroke-linejoin:miter;stroke-opacity:1\"/>\n",
       "<path d=\"M 142.469,99.8981 136.2,96.2661\" style=\"fill:none;fill-rule:evenodd;stroke:#000000;stroke-width:2px;stroke-linecap:butt;stroke-linejoin:miter;stroke-opacity:1\"/>\n",
       "<path d=\"M 136.2,96.2661 125.206,83.125\" style=\"fill:none;fill-rule:evenodd;stroke:#000000;stroke-width:2px;stroke-linecap:butt;stroke-linejoin:miter;stroke-opacity:1\"/>\n",
       "<path d=\"M 137.194,95.3511 136.931,95.1305\" style=\"fill:none;fill-rule:evenodd;stroke:#000000;stroke-width:1px;stroke-linecap:butt;stroke-linejoin:miter;stroke-opacity:1\"/>\n",
       "<path d=\"M 138.188,94.4361 137.663,93.9948\" style=\"fill:none;fill-rule:evenodd;stroke:#000000;stroke-width:1px;stroke-linecap:butt;stroke-linejoin:miter;stroke-opacity:1\"/>\n",
       "<path d=\"M 139.182,93.5212 138.395,92.8592\" style=\"fill:none;fill-rule:evenodd;stroke:#000000;stroke-width:1px;stroke-linecap:butt;stroke-linejoin:miter;stroke-opacity:1\"/>\n",
       "<path d=\"M 140.176,92.6062 139.127,91.7236\" style=\"fill:none;fill-rule:evenodd;stroke:#000000;stroke-width:1px;stroke-linecap:butt;stroke-linejoin:miter;stroke-opacity:1\"/>\n",
       "<path d=\"M 141.17,91.6912 139.859,90.5879\" style=\"fill:none;fill-rule:evenodd;stroke:#000000;stroke-width:1px;stroke-linecap:butt;stroke-linejoin:miter;stroke-opacity:1\"/>\n",
       "<path d=\"M 142.164,90.7762 140.591,89.4523\" style=\"fill:none;fill-rule:evenodd;stroke:#000000;stroke-width:1px;stroke-linecap:butt;stroke-linejoin:miter;stroke-opacity:1\"/>\n",
       "<path d=\"M 143.158,89.8612 141.322,88.3167\" style=\"fill:none;fill-rule:evenodd;stroke:#000000;stroke-width:1px;stroke-linecap:butt;stroke-linejoin:miter;stroke-opacity:1\"/>\n",
       "<path d=\"M 144.152,88.9462 142.054,87.181\" style=\"fill:none;fill-rule:evenodd;stroke:#000000;stroke-width:1px;stroke-linecap:butt;stroke-linejoin:miter;stroke-opacity:1\"/>\n",
       "<path d=\"M 145.146,88.0312 142.786,86.0454\" style=\"fill:none;fill-rule:evenodd;stroke:#000000;stroke-width:1px;stroke-linecap:butt;stroke-linejoin:miter;stroke-opacity:1\"/>\n",
       "<path d=\"M 146.14,87.1163 143.518,84.9098\" style=\"fill:none;fill-rule:evenodd;stroke:#000000;stroke-width:1px;stroke-linecap:butt;stroke-linejoin:miter;stroke-opacity:1\"/>\n",
       "<path d=\"M 125.206,83.125 108.328,86.0753\" style=\"fill:none;fill-rule:evenodd;stroke:#000000;stroke-width:2px;stroke-linecap:butt;stroke-linejoin:miter;stroke-opacity:1\"/>\n",
       "<path d=\"M 122.084,80.1921 110.27,82.2573\" style=\"fill:none;fill-rule:evenodd;stroke:#000000;stroke-width:2px;stroke-linecap:butt;stroke-linejoin:miter;stroke-opacity:1\"/>\n",
       "<path d=\"M 125.206,83.125 131.09,67.0336\" style=\"fill:none;fill-rule:evenodd;stroke:#000000;stroke-width:2px;stroke-linecap:butt;stroke-linejoin:miter;stroke-opacity:1\"/>\n",
       "<path d=\"M 108.328,86.0753 97.3347,72.9342\" style=\"fill:none;fill-rule:evenodd;stroke:#000000;stroke-width:2px;stroke-linecap:butt;stroke-linejoin:miter;stroke-opacity:1\"/>\n",
       "<path d=\"M 97.3347,72.9342 103.218,56.8428\" style=\"fill:none;fill-rule:evenodd;stroke:#000000;stroke-width:2px;stroke-linecap:butt;stroke-linejoin:miter;stroke-opacity:1\"/>\n",
       "<path d=\"M 101.436,71.6972 105.554,60.4332\" style=\"fill:none;fill-rule:evenodd;stroke:#000000;stroke-width:2px;stroke-linecap:butt;stroke-linejoin:miter;stroke-opacity:1\"/>\n",
       "<path d=\"M 103.218,56.8428 98.9159,51.7\" style=\"fill:none;fill-rule:evenodd;stroke:#000000;stroke-width:2px;stroke-linecap:butt;stroke-linejoin:miter;stroke-opacity:1\"/>\n",
       "<path d=\"M 98.9159,51.7 94.6135,46.5573\" style=\"fill:none;fill-rule:evenodd;stroke:#FF0000;stroke-width:2px;stroke-linecap:butt;stroke-linejoin:miter;stroke-opacity:1\"/>\n",
       "<path d=\"M 103.218,56.8428 120.096,53.8925\" style=\"fill:none;fill-rule:evenodd;stroke:#000000;stroke-width:2px;stroke-linecap:butt;stroke-linejoin:miter;stroke-opacity:1\"/>\n",
       "<path d=\"M 120.096,53.8925 131.09,67.0336\" style=\"fill:none;fill-rule:evenodd;stroke:#000000;stroke-width:2px;stroke-linecap:butt;stroke-linejoin:miter;stroke-opacity:1\"/>\n",
       "<path d=\"M 119.117,58.0624 126.812,67.2612\" style=\"fill:none;fill-rule:evenodd;stroke:#000000;stroke-width:2px;stroke-linecap:butt;stroke-linejoin:miter;stroke-opacity:1\"/>\n",
       "<path d=\"M 31.3937,124.51 37.8503,127.671\" style=\"fill:none;fill-rule:evenodd;stroke:#0000FF;stroke-width:2px;stroke-linecap:butt;stroke-linejoin:miter;stroke-opacity:1\"/>\n",
       "<path d=\"M 37.8503,127.671 44.3069,130.832\" style=\"fill:none;fill-rule:evenodd;stroke:#000000;stroke-width:2px;stroke-linecap:butt;stroke-linejoin:miter;stroke-opacity:1\"/>\n",
       "<path d=\"M 26.4436,125.854 21.7211,130.73\" style=\"fill:none;fill-rule:evenodd;stroke:#0000FF;stroke-width:2px;stroke-linecap:butt;stroke-linejoin:miter;stroke-opacity:1\"/>\n",
       "<path d=\"M 21.7211,130.73 16.9987,135.606\" style=\"fill:none;fill-rule:evenodd;stroke:#000000;stroke-width:2px;stroke-linecap:butt;stroke-linejoin:miter;stroke-opacity:1\"/>\n",
       "<path d=\"M 44.3069,130.832 41.8974,147.795\" style=\"fill:none;fill-rule:evenodd;stroke:#000000;stroke-width:2px;stroke-linecap:butt;stroke-linejoin:miter;stroke-opacity:1\"/>\n",
       "<path d=\"M 41.8974,147.795 25.02,150.746\" style=\"fill:none;fill-rule:evenodd;stroke:#000000;stroke-width:2px;stroke-linecap:butt;stroke-linejoin:miter;stroke-opacity:1\"/>\n",
       "<path d=\"M 25.02,150.746 16.9987,135.606\" style=\"fill:none;fill-rule:evenodd;stroke:#000000;stroke-width:2px;stroke-linecap:butt;stroke-linejoin:miter;stroke-opacity:1\"/>\n",
       "<text style=\"font-size:5px;font-style:normal;font-weight:normal;fill-opacity:1;stroke:none;font-family:sans-serif;text-anchor:start;fill:#FF0000\" x=\"51.1725\" y=\"119.468\"><tspan>O</tspan></text>\n",
       "<text style=\"font-size:5px;font-style:normal;font-weight:normal;fill-opacity:1;stroke:none;font-family:sans-serif;text-anchor:start;fill:#FF0000\" x=\"118.657\" y=\"124.8\"><tspan>O</tspan></text>\n",
       "<text style=\"font-size:5px;font-style:normal;font-weight:normal;fill-opacity:1;stroke:none;font-family:sans-serif;text-anchor:start;fill:#FF0000\" x=\"175.483\" y=\"159.154\"><tspan>OH</tspan></text>\n",
       "<text style=\"font-size:5px;font-style:normal;font-weight:normal;fill-opacity:1;stroke:none;font-family:sans-serif;text-anchor:start;fill:#CCCC00\" x=\"148.738\" y=\"107.71\"><tspan>S</tspan></text>\n",
       "<text style=\"font-size:5px;font-style:normal;font-weight:normal;fill-opacity:1;stroke:none;font-family:sans-serif;text-anchor:start;fill:#FF0000\" x=\"87.0825\" y=\"46.5573\"><tspan>OH</tspan></text>\n",
       "<text style=\"font-size:5px;font-style:normal;font-weight:normal;fill-opacity:1;stroke:none;font-family:sans-serif;text-anchor:start;fill:#0000FF\" x=\"26.4436\" y=\"126.154\"><tspan>N</tspan></text>\n",
       "<text style=\"font-size:5px;font-style:normal;font-weight:normal;fill-opacity:1;stroke:none;font-family:sans-serif;text-anchor:start;fill:#000000\" x=\"20.543\" y=\"92.3996\"><tspan>H</tspan></text>\n",
       "<text style=\"font-size:5px;font-style:normal;font-weight:normal;fill-opacity:1;stroke:none;font-family:sans-serif;text-anchor:start;fill:#000000\" x=\"111.904\" y=\"97.3017\"><tspan>H</tspan></text>\n",
       "<text style=\"font-size:5px;font-style:normal;font-weight:normal;fill-opacity:1;stroke:none;font-family:sans-serif;text-anchor:start;fill:#000000\" x=\"144.757\" y=\"86.013\"><tspan>H</tspan></text>\n",
       "</g>\n",
       "<g transform=\"translate(200,0)\"><rect height=\"200\" style=\"opacity:1.0;fill:#FFFFFF;stroke:none\" width=\"200\" x=\"0\" y=\"0\"> </rect>\n",
       "<path d=\"M 48.2908,126.254 63.6963,119.596\" style=\"fill:none;fill-rule:evenodd;stroke:#000000;stroke-width:2px;stroke-linecap:butt;stroke-linejoin:miter;stroke-opacity:1\"/>\n",
       "<path d=\"M 48.2908,126.254 42.7689,122.148\" style=\"fill:none;fill-rule:evenodd;stroke:#000000;stroke-width:2px;stroke-linecap:butt;stroke-linejoin:miter;stroke-opacity:1\"/>\n",
       "<path d=\"M 42.7689,122.148 37.247,118.043\" style=\"fill:none;fill-rule:evenodd;stroke:#0000FF;stroke-width:2px;stroke-linecap:butt;stroke-linejoin:miter;stroke-opacity:1\"/>\n",
       "<path d=\"M 63.6963,119.596 69.1242,123.632\" style=\"fill:none;fill-rule:evenodd;stroke:#000000;stroke-width:2px;stroke-linecap:butt;stroke-linejoin:miter;stroke-opacity:1\"/>\n",
       "<path d=\"M 69.1242,123.632 74.5521,127.667\" style=\"fill:none;fill-rule:evenodd;stroke:#FF0000;stroke-width:2px;stroke-linecap:butt;stroke-linejoin:miter;stroke-opacity:1\"/>\n",
       "<path d=\"M 79.7769,128.48 86.1734,125.716\" style=\"fill:none;fill-rule:evenodd;stroke:#FF0000;stroke-width:2px;stroke-linecap:butt;stroke-linejoin:miter;stroke-opacity:1\"/>\n",
       "<path d=\"M 86.1734,125.716 92.57,122.952\" style=\"fill:none;fill-rule:evenodd;stroke:#000000;stroke-width:2px;stroke-linecap:butt;stroke-linejoin:miter;stroke-opacity:1\"/>\n",
       "<path d=\"M 92.57,122.952 106.038,132.965\" style=\"fill:none;fill-rule:evenodd;stroke:#000000;stroke-width:2px;stroke-linecap:butt;stroke-linejoin:miter;stroke-opacity:1\"/>\n",
       "<path d=\"M 96.5928,121.76 106.02,128.769\" style=\"fill:none;fill-rule:evenodd;stroke:#000000;stroke-width:2px;stroke-linecap:butt;stroke-linejoin:miter;stroke-opacity:1\"/>\n",
       "<path d=\"M 92.57,122.952 94.5074,106.282\" style=\"fill:none;fill-rule:evenodd;stroke:#000000;stroke-width:2px;stroke-linecap:butt;stroke-linejoin:miter;stroke-opacity:1\"/>\n",
       "<path d=\"M 106.038,132.965 121.444,126.308\" style=\"fill:none;fill-rule:evenodd;stroke:#000000;stroke-width:2px;stroke-linecap:butt;stroke-linejoin:miter;stroke-opacity:1\"/>\n",
       "<path d=\"M 121.444,126.308 123.381,109.638\" style=\"fill:none;fill-rule:evenodd;stroke:#000000;stroke-width:2px;stroke-linecap:butt;stroke-linejoin:miter;stroke-opacity:1\"/>\n",
       "<path d=\"M 118.4,123.42 119.756,111.751\" style=\"fill:none;fill-rule:evenodd;stroke:#000000;stroke-width:2px;stroke-linecap:butt;stroke-linejoin:miter;stroke-opacity:1\"/>\n",
       "<path d=\"M 123.381,109.638 109.913,99.6246\" style=\"fill:none;fill-rule:evenodd;stroke:#000000;stroke-width:2px;stroke-linecap:butt;stroke-linejoin:miter;stroke-opacity:1\"/>\n",
       "<path d=\"M 123.381,109.638 138.787,102.98\" style=\"fill:none;fill-rule:evenodd;stroke:#000000;stroke-width:2px;stroke-linecap:butt;stroke-linejoin:miter;stroke-opacity:1\"/>\n",
       "<path d=\"M 109.913,99.6246 94.5074,106.282\" style=\"fill:none;fill-rule:evenodd;stroke:#000000;stroke-width:2px;stroke-linecap:butt;stroke-linejoin:miter;stroke-opacity:1\"/>\n",
       "<path d=\"M 108.933,103.704 98.1496,108.364\" style=\"fill:none;fill-rule:evenodd;stroke:#000000;stroke-width:2px;stroke-linecap:butt;stroke-linejoin:miter;stroke-opacity:1\"/>\n",
       "<path d=\"M 138.787,102.98 140.395,109.745\" style=\"fill:none;fill-rule:evenodd;stroke:#000000;stroke-width:2px;stroke-linecap:butt;stroke-linejoin:miter;stroke-opacity:1\"/>\n",
       "<path d=\"M 140.395,109.745 142.003,116.511\" style=\"fill:none;fill-rule:evenodd;stroke:#FF0000;stroke-width:2px;stroke-linecap:butt;stroke-linejoin:miter;stroke-opacity:1\"/>\n",
       "<path d=\"M 138.787,102.98 150.986,91.4554\" style=\"fill:none;fill-rule:evenodd;stroke:#000000;stroke-width:2px;stroke-linecap:butt;stroke-linejoin:miter;stroke-opacity:1\"/>\n",
       "<path d=\"M 137.698,101.522 137.244,102.016\" style=\"fill:none;fill-rule:evenodd;stroke:#000000;stroke-width:1px;stroke-linecap:butt;stroke-linejoin:miter;stroke-opacity:1\"/>\n",
       "<path d=\"M 136.61,100.065 135.701,101.053\" style=\"fill:none;fill-rule:evenodd;stroke:#000000;stroke-width:1px;stroke-linecap:butt;stroke-linejoin:miter;stroke-opacity:1\"/>\n",
       "<path d=\"M 135.522,98.607 134.158,100.089\" style=\"fill:none;fill-rule:evenodd;stroke:#000000;stroke-width:1px;stroke-linecap:butt;stroke-linejoin:miter;stroke-opacity:1\"/>\n",
       "<path d=\"M 134.434,97.1492 132.615,99.125\" style=\"fill:none;fill-rule:evenodd;stroke:#000000;stroke-width:1px;stroke-linecap:butt;stroke-linejoin:miter;stroke-opacity:1\"/>\n",
       "<path d=\"M 133.345,95.6915 131.072,98.1612\" style=\"fill:none;fill-rule:evenodd;stroke:#000000;stroke-width:1px;stroke-linecap:butt;stroke-linejoin:miter;stroke-opacity:1\"/>\n",
       "<path d=\"M 145.28,120.088 152.014,122.099\" style=\"fill:none;fill-rule:evenodd;stroke:#FF0000;stroke-width:2px;stroke-linecap:butt;stroke-linejoin:miter;stroke-opacity:1\"/>\n",
       "<path d=\"M 152.014,122.099 158.748,124.11\" style=\"fill:none;fill-rule:evenodd;stroke:#000000;stroke-width:2px;stroke-linecap:butt;stroke-linejoin:miter;stroke-opacity:1\"/>\n",
       "<path d=\"M 158.748,124.11 162.629,140.438\" style=\"fill:none;fill-rule:evenodd;stroke:#000000;stroke-width:2px;stroke-linecap:butt;stroke-linejoin:miter;stroke-opacity:1\"/>\n",
       "<path d=\"M 162.596,125.783 165.312,137.213\" style=\"fill:none;fill-rule:evenodd;stroke:#000000;stroke-width:2px;stroke-linecap:butt;stroke-linejoin:miter;stroke-opacity:1\"/>\n",
       "<path d=\"M 158.748,124.11 170.948,112.586\" style=\"fill:none;fill-rule:evenodd;stroke:#000000;stroke-width:2px;stroke-linecap:butt;stroke-linejoin:miter;stroke-opacity:1\"/>\n",
       "<path d=\"M 162.629,140.438 178.71,145.241\" style=\"fill:none;fill-rule:evenodd;stroke:#000000;stroke-width:2px;stroke-linecap:butt;stroke-linejoin:miter;stroke-opacity:1\"/>\n",
       "<path d=\"M 178.71,145.241 190.909,133.716\" style=\"fill:none;fill-rule:evenodd;stroke:#000000;stroke-width:2px;stroke-linecap:butt;stroke-linejoin:miter;stroke-opacity:1\"/>\n",
       "<path d=\"M 178.235,141.072 186.774,133.005\" style=\"fill:none;fill-rule:evenodd;stroke:#000000;stroke-width:2px;stroke-linecap:butt;stroke-linejoin:miter;stroke-opacity:1\"/>\n",
       "<path d=\"M 190.909,133.716 187.028,117.388\" style=\"fill:none;fill-rule:evenodd;stroke:#000000;stroke-width:2px;stroke-linecap:butt;stroke-linejoin:miter;stroke-opacity:1\"/>\n",
       "<path d=\"M 187.028,117.388 170.948,112.586\" style=\"fill:none;fill-rule:evenodd;stroke:#000000;stroke-width:2px;stroke-linecap:butt;stroke-linejoin:miter;stroke-opacity:1\"/>\n",
       "<path d=\"M 183.655,119.884 172.399,116.522\" style=\"fill:none;fill-rule:evenodd;stroke:#000000;stroke-width:2px;stroke-linecap:butt;stroke-linejoin:miter;stroke-opacity:1\"/>\n",
       "<path d=\"M 170.948,112.586 169.339,105.82\" style=\"fill:none;fill-rule:evenodd;stroke:#000000;stroke-width:2px;stroke-linecap:butt;stroke-linejoin:miter;stroke-opacity:1\"/>\n",
       "<path d=\"M 169.339,105.82 167.731,99.0552\" style=\"fill:none;fill-rule:evenodd;stroke:#CCCC00;stroke-width:2px;stroke-linecap:butt;stroke-linejoin:miter;stroke-opacity:1\"/>\n",
       "<path d=\"M 164.827,95.5892 157.906,93.5223\" style=\"fill:none;fill-rule:evenodd;stroke:#CCCC00;stroke-width:2px;stroke-linecap:butt;stroke-linejoin:miter;stroke-opacity:1\"/>\n",
       "<path d=\"M 157.906,93.5223 150.986,91.4554\" style=\"fill:none;fill-rule:evenodd;stroke:#000000;stroke-width:2px;stroke-linecap:butt;stroke-linejoin:miter;stroke-opacity:1\"/>\n",
       "<path d=\"M 150.986,91.4554 137.518,81.4425\" style=\"fill:none;fill-rule:evenodd;stroke:#000000;stroke-width:2px;stroke-linecap:butt;stroke-linejoin:miter;stroke-opacity:1\"/>\n",
       "<path d=\"M 151.748,90.3101 151.448,90.1597\" style=\"fill:none;fill-rule:evenodd;stroke:#000000;stroke-width:1px;stroke-linecap:butt;stroke-linejoin:miter;stroke-opacity:1\"/>\n",
       "<path d=\"M 152.51,89.1648 151.91,88.864\" style=\"fill:none;fill-rule:evenodd;stroke:#000000;stroke-width:1px;stroke-linecap:butt;stroke-linejoin:miter;stroke-opacity:1\"/>\n",
       "<path d=\"M 153.272,88.0195 152.372,87.5682\" style=\"fill:none;fill-rule:evenodd;stroke:#000000;stroke-width:1px;stroke-linecap:butt;stroke-linejoin:miter;stroke-opacity:1\"/>\n",
       "<path d=\"M 154.034,86.8743 152.834,86.2725\" style=\"fill:none;fill-rule:evenodd;stroke:#000000;stroke-width:1px;stroke-linecap:butt;stroke-linejoin:miter;stroke-opacity:1\"/>\n",
       "<path d=\"M 154.796,85.729 153.296,84.9767\" style=\"fill:none;fill-rule:evenodd;stroke:#000000;stroke-width:1px;stroke-linecap:butt;stroke-linejoin:miter;stroke-opacity:1\"/>\n",
       "<path d=\"M 155.558,84.5837 153.758,83.681\" style=\"fill:none;fill-rule:evenodd;stroke:#000000;stroke-width:1px;stroke-linecap:butt;stroke-linejoin:miter;stroke-opacity:1\"/>\n",
       "<path d=\"M 156.32,83.4384 154.22,82.3853\" style=\"fill:none;fill-rule:evenodd;stroke:#000000;stroke-width:1px;stroke-linecap:butt;stroke-linejoin:miter;stroke-opacity:1\"/>\n",
       "<path d=\"M 157.082,82.2931 154.682,81.0895\" style=\"fill:none;fill-rule:evenodd;stroke:#000000;stroke-width:1px;stroke-linecap:butt;stroke-linejoin:miter;stroke-opacity:1\"/>\n",
       "<path d=\"M 157.844,81.1478 155.144,79.7938\" style=\"fill:none;fill-rule:evenodd;stroke:#000000;stroke-width:1px;stroke-linecap:butt;stroke-linejoin:miter;stroke-opacity:1\"/>\n",
       "<path d=\"M 158.606,80.0025 155.605,78.4981\" style=\"fill:none;fill-rule:evenodd;stroke:#000000;stroke-width:1px;stroke-linecap:butt;stroke-linejoin:miter;stroke-opacity:1\"/>\n",
       "<path d=\"M 137.518,81.4425 139.455,64.7723\" style=\"fill:none;fill-rule:evenodd;stroke:#000000;stroke-width:2px;stroke-linecap:butt;stroke-linejoin:miter;stroke-opacity:1\"/>\n",
       "<path d=\"M 134.474,78.5545 135.831,66.8854\" style=\"fill:none;fill-rule:evenodd;stroke:#000000;stroke-width:2px;stroke-linecap:butt;stroke-linejoin:miter;stroke-opacity:1\"/>\n",
       "<path d=\"M 137.518,81.4425 122.112,88.0998\" style=\"fill:none;fill-rule:evenodd;stroke:#000000;stroke-width:2px;stroke-linecap:butt;stroke-linejoin:miter;stroke-opacity:1\"/>\n",
       "<path d=\"M 139.455,64.7723 125.987,54.7594\" style=\"fill:none;fill-rule:evenodd;stroke:#000000;stroke-width:2px;stroke-linecap:butt;stroke-linejoin:miter;stroke-opacity:1\"/>\n",
       "<path d=\"M 125.987,54.7594 110.582,61.4167\" style=\"fill:none;fill-rule:evenodd;stroke:#000000;stroke-width:2px;stroke-linecap:butt;stroke-linejoin:miter;stroke-opacity:1\"/>\n",
       "<path d=\"M 125.008,58.8391 114.224,63.4992\" style=\"fill:none;fill-rule:evenodd;stroke:#000000;stroke-width:2px;stroke-linecap:butt;stroke-linejoin:miter;stroke-opacity:1\"/>\n",
       "<path d=\"M 110.582,61.4167 108.644,78.0869\" style=\"fill:none;fill-rule:evenodd;stroke:#000000;stroke-width:2px;stroke-linecap:butt;stroke-linejoin:miter;stroke-opacity:1\"/>\n",
       "<path d=\"M 108.644,78.0869 122.112,88.0998\" style=\"fill:none;fill-rule:evenodd;stroke:#000000;stroke-width:2px;stroke-linecap:butt;stroke-linejoin:miter;stroke-opacity:1\"/>\n",
       "<path d=\"M 112.667,76.8952 122.095,83.9042\" style=\"fill:none;fill-rule:evenodd;stroke:#000000;stroke-width:2px;stroke-linecap:butt;stroke-linejoin:miter;stroke-opacity:1\"/>\n",
       "<path d=\"M 32.3983,116.999 25.602,119.125\" style=\"fill:none;fill-rule:evenodd;stroke:#0000FF;stroke-width:2px;stroke-linecap:butt;stroke-linejoin:miter;stroke-opacity:1\"/>\n",
       "<path d=\"M 25.602,119.125 18.8057,121.251\" style=\"fill:none;fill-rule:evenodd;stroke:#000000;stroke-width:2px;stroke-linecap:butt;stroke-linejoin:miter;stroke-opacity:1\"/>\n",
       "<path d=\"M 34.8534,113.444 34.9302,106.452\" style=\"fill:none;fill-rule:evenodd;stroke:#0000FF;stroke-width:2px;stroke-linecap:butt;stroke-linejoin:miter;stroke-opacity:1\"/>\n",
       "<path d=\"M 34.9302,106.452 35.0069,99.4594\" style=\"fill:none;fill-rule:evenodd;stroke:#000000;stroke-width:2px;stroke-linecap:butt;stroke-linejoin:miter;stroke-opacity:1\"/>\n",
       "<path d=\"M 18.8057,121.251 9.09091,107.567\" style=\"fill:none;fill-rule:evenodd;stroke:#000000;stroke-width:2px;stroke-linecap:butt;stroke-linejoin:miter;stroke-opacity:1\"/>\n",
       "<path d=\"M 9.09091,107.567 19.1038,94.0985\" style=\"fill:none;fill-rule:evenodd;stroke:#000000;stroke-width:2px;stroke-linecap:butt;stroke-linejoin:miter;stroke-opacity:1\"/>\n",
       "<path d=\"M 19.1038,94.0985 35.0069,99.4594\" style=\"fill:none;fill-rule:evenodd;stroke:#000000;stroke-width:2px;stroke-linecap:butt;stroke-linejoin:miter;stroke-opacity:1\"/>\n",
       "<text style=\"font-size:5px;font-style:normal;font-weight:normal;fill-opacity:1;stroke:none;font-family:sans-serif;text-anchor:start;fill:#FF0000\" x=\"74.5521\" y=\"132.406\"><tspan>O</tspan></text>\n",
       "<text style=\"font-size:5px;font-style:normal;font-weight:normal;fill-opacity:1;stroke:none;font-family:sans-serif;text-anchor:start;fill:#FF0000\" x=\"140.055\" y=\"122.105\"><tspan>O</tspan></text>\n",
       "<text style=\"font-size:5px;font-style:normal;font-weight:normal;fill-opacity:1;stroke:none;font-family:sans-serif;text-anchor:start;fill:#CCCC00\" x=\"164.827\" y=\"99.0552\"><tspan>S</tspan></text>\n",
       "<text style=\"font-size:5px;font-style:normal;font-weight:normal;fill-opacity:1;stroke:none;font-family:sans-serif;text-anchor:start;fill:#0000FF\" x=\"32.3983\" y=\"119.038\"><tspan>N</tspan></text>\n",
       "<text style=\"font-size:5px;font-style:normal;font-weight:normal;fill-opacity:1;stroke:none;font-family:sans-serif;text-anchor:start;fill:#000000\" x=\"127.36\" y=\"97.4921\"><tspan>H</tspan></text>\n",
       "<text style=\"font-size:5px;font-style:normal;font-weight:normal;fill-opacity:1;stroke:none;font-family:sans-serif;text-anchor:start;fill:#000000\" x=\"156.084\" y=\"79.2503\"><tspan>H</tspan></text>\n",
       "</g>\n",
       "<g transform=\"translate(400,0)\"><rect height=\"200\" style=\"opacity:1.0;fill:#FFFFFF;stroke:none\" width=\"200\" x=\"0\" y=\"0\"> </rect>\n",
       "<path d=\"M 44.2401,126.091 59.6575,121.523\" style=\"fill:none;fill-rule:evenodd;stroke:#000000;stroke-width:2px;stroke-linecap:butt;stroke-linejoin:miter;stroke-opacity:1\"/>\n",
       "<path d=\"M 44.2401,126.091 32.5752,115.023\" style=\"fill:none;fill-rule:evenodd;stroke:#000000;stroke-width:2px;stroke-linecap:butt;stroke-linejoin:miter;stroke-opacity:1\"/>\n",
       "<path d=\"M 59.6575,121.523 71.3224,132.59\" style=\"fill:none;fill-rule:evenodd;stroke:#000000;stroke-width:2px;stroke-linecap:butt;stroke-linejoin:miter;stroke-opacity:1\"/>\n",
       "<path d=\"M 71.3224,132.59 86.7398,128.022\" style=\"fill:none;fill-rule:evenodd;stroke:#000000;stroke-width:2px;stroke-linecap:butt;stroke-linejoin:miter;stroke-opacity:1\"/>\n",
       "<path d=\"M 86.7398,128.022 98.4047,139.09\" style=\"fill:none;fill-rule:evenodd;stroke:#000000;stroke-width:2px;stroke-linecap:butt;stroke-linejoin:miter;stroke-opacity:1\"/>\n",
       "<path d=\"M 86.7398,128.022 90.4923,112.386\" style=\"fill:none;fill-rule:evenodd;stroke:#000000;stroke-width:2px;stroke-linecap:butt;stroke-linejoin:miter;stroke-opacity:1\"/>\n",
       "<path d=\"M 98.4047,139.09 113.822,134.522\" style=\"fill:none;fill-rule:evenodd;stroke:#000000;stroke-width:2px;stroke-linecap:butt;stroke-linejoin:miter;stroke-opacity:1\"/>\n",
       "<path d=\"M 113.822,134.522 117.575,118.886\" style=\"fill:none;fill-rule:evenodd;stroke:#000000;stroke-width:2px;stroke-linecap:butt;stroke-linejoin:miter;stroke-opacity:1\"/>\n",
       "<path d=\"M 117.575,118.886 105.91,107.818\" style=\"fill:none;fill-rule:evenodd;stroke:#000000;stroke-width:2px;stroke-linecap:butt;stroke-linejoin:miter;stroke-opacity:1\"/>\n",
       "<path d=\"M 117.575,118.886 132.992,114.318\" style=\"fill:none;fill-rule:evenodd;stroke:#000000;stroke-width:2px;stroke-linecap:butt;stroke-linejoin:miter;stroke-opacity:1\"/>\n",
       "<path d=\"M 105.91,107.818 90.4923,112.386\" style=\"fill:none;fill-rule:evenodd;stroke:#000000;stroke-width:2px;stroke-linecap:butt;stroke-linejoin:miter;stroke-opacity:1\"/>\n",
       "<path d=\"M 132.992,114.318 144.657,125.385\" style=\"fill:none;fill-rule:evenodd;stroke:#000000;stroke-width:2px;stroke-linecap:butt;stroke-linejoin:miter;stroke-opacity:1\"/>\n",
       "<path d=\"M 132.992,114.318 136.745,98.6815\" style=\"fill:none;fill-rule:evenodd;stroke:#000000;stroke-width:2px;stroke-linecap:butt;stroke-linejoin:miter;stroke-opacity:1\"/>\n",
       "<path d=\"M 144.657,125.385 160.074,120.817\" style=\"fill:none;fill-rule:evenodd;stroke:#000000;stroke-width:2px;stroke-linecap:butt;stroke-linejoin:miter;stroke-opacity:1\"/>\n",
       "<path d=\"M 160.074,120.817 171.739,131.885\" style=\"fill:none;fill-rule:evenodd;stroke:#000000;stroke-width:2px;stroke-linecap:butt;stroke-linejoin:miter;stroke-opacity:1\"/>\n",
       "<path d=\"M 160.074,120.817 163.827,105.181\" style=\"fill:none;fill-rule:evenodd;stroke:#000000;stroke-width:2px;stroke-linecap:butt;stroke-linejoin:miter;stroke-opacity:1\"/>\n",
       "<path d=\"M 171.739,131.885 187.157,127.317\" style=\"fill:none;fill-rule:evenodd;stroke:#000000;stroke-width:2px;stroke-linecap:butt;stroke-linejoin:miter;stroke-opacity:1\"/>\n",
       "<path d=\"M 187.157,127.317 190.909,111.681\" style=\"fill:none;fill-rule:evenodd;stroke:#000000;stroke-width:2px;stroke-linecap:butt;stroke-linejoin:miter;stroke-opacity:1\"/>\n",
       "<path d=\"M 190.909,111.681 179.244,100.613\" style=\"fill:none;fill-rule:evenodd;stroke:#000000;stroke-width:2px;stroke-linecap:butt;stroke-linejoin:miter;stroke-opacity:1\"/>\n",
       "<path d=\"M 179.244,100.613 163.827,105.181\" style=\"fill:none;fill-rule:evenodd;stroke:#000000;stroke-width:2px;stroke-linecap:butt;stroke-linejoin:miter;stroke-opacity:1\"/>\n",
       "<path d=\"M 163.827,105.181 152.162,94.1133\" style=\"fill:none;fill-rule:evenodd;stroke:#000000;stroke-width:2px;stroke-linecap:butt;stroke-linejoin:miter;stroke-opacity:1\"/>\n",
       "<path d=\"M 152.162,94.1133 136.745,98.6815\" style=\"fill:none;fill-rule:evenodd;stroke:#000000;stroke-width:2px;stroke-linecap:butt;stroke-linejoin:miter;stroke-opacity:1\"/>\n",
       "<path d=\"M 136.745,98.6815 125.08,87.6138\" style=\"fill:none;fill-rule:evenodd;stroke:#000000;stroke-width:2px;stroke-linecap:butt;stroke-linejoin:miter;stroke-opacity:1\"/>\n",
       "<path d=\"M 125.08,87.6138 128.832,71.9778\" style=\"fill:none;fill-rule:evenodd;stroke:#000000;stroke-width:2px;stroke-linecap:butt;stroke-linejoin:miter;stroke-opacity:1\"/>\n",
       "<path d=\"M 125.08,87.6138 109.662,92.182\" style=\"fill:none;fill-rule:evenodd;stroke:#000000;stroke-width:2px;stroke-linecap:butt;stroke-linejoin:miter;stroke-opacity:1\"/>\n",
       "<path d=\"M 128.832,71.9778 117.167,60.9101\" style=\"fill:none;fill-rule:evenodd;stroke:#000000;stroke-width:2px;stroke-linecap:butt;stroke-linejoin:miter;stroke-opacity:1\"/>\n",
       "<path d=\"M 117.167,60.9101 101.75,65.4783\" style=\"fill:none;fill-rule:evenodd;stroke:#000000;stroke-width:2px;stroke-linecap:butt;stroke-linejoin:miter;stroke-opacity:1\"/>\n",
       "<path d=\"M 101.75,65.4783 97.9973,81.1143\" style=\"fill:none;fill-rule:evenodd;stroke:#000000;stroke-width:2px;stroke-linecap:butt;stroke-linejoin:miter;stroke-opacity:1\"/>\n",
       "<path d=\"M 97.9973,81.1143 109.662,92.182\" style=\"fill:none;fill-rule:evenodd;stroke:#000000;stroke-width:2px;stroke-linecap:butt;stroke-linejoin:miter;stroke-opacity:1\"/>\n",
       "<path d=\"M 32.5752,115.023 16.7648,117.955\" style=\"fill:none;fill-rule:evenodd;stroke:#000000;stroke-width:2px;stroke-linecap:butt;stroke-linejoin:miter;stroke-opacity:1\"/>\n",
       "<path d=\"M 32.5752,115.023 34.6728,99.0806\" style=\"fill:none;fill-rule:evenodd;stroke:#000000;stroke-width:2px;stroke-linecap:butt;stroke-linejoin:miter;stroke-opacity:1\"/>\n",
       "<path d=\"M 16.7648,117.955 9.09091,103.824\" style=\"fill:none;fill-rule:evenodd;stroke:#000000;stroke-width:2px;stroke-linecap:butt;stroke-linejoin:miter;stroke-opacity:1\"/>\n",
       "<path d=\"M 9.09091,103.824 20.1587,92.1592\" style=\"fill:none;fill-rule:evenodd;stroke:#000000;stroke-width:2px;stroke-linecap:butt;stroke-linejoin:miter;stroke-opacity:1\"/>\n",
       "<path d=\"M 20.1587,92.1592 34.6728,99.0806\" style=\"fill:none;fill-rule:evenodd;stroke:#000000;stroke-width:2px;stroke-linecap:butt;stroke-linejoin:miter;stroke-opacity:1\"/>\n",
       "</g></svg>"
      ],
      "text/plain": [
       "<IPython.core.display.SVG object>"
      ]
     },
     "execution_count": 29,
     "metadata": {},
     "output_type": "execute_result"
    }
   ],
   "source": [
    "Draw.MolsToGridImage([mol, scaffold, generic])"
   ]
  },
  {
   "cell_type": "markdown",
   "metadata": {},
   "source": [
    "<br>\n",
    "<br>\n",
    "<br>\n",
    "## AddMurckoToFrame(pandasFrame, MurcoCol=, Generic=False)\n",
    "Add column with SMILES of scaffolds (or generic frameworks)\n",
    "<br>\n",
    "<br>\n",
    "<br>"
   ]
  },
  {
   "cell_type": "code",
   "execution_count": 30,
   "metadata": {
    "collapsed": false
   },
   "outputs": [],
   "source": [
    "PandasTools.AddMurckoToFrame(cpdsDF)"
   ]
  },
  {
   "cell_type": "code",
   "execution_count": 31,
   "metadata": {
    "collapsed": false
   },
   "outputs": [],
   "source": [
    "cpdsDF = cpdsDF[~(cpdsDF['Murcko_SMILES'] == '')].copy()"
   ]
  },
  {
   "cell_type": "markdown",
   "metadata": {},
   "source": [
    "<br>\n",
    "<br>\n",
    "<br>\n",
    "##### AlignToScaffold(dataframe, molCol=, scaffoldCol=)\n",
    "Aligns compounds to scaffolds\n",
    "<br>\n",
    "<br>\n",
    "<br>"
   ]
  },
  {
   "cell_type": "code",
   "execution_count": 32,
   "metadata": {
    "collapsed": false
   },
   "outputs": [],
   "source": [
    "PandasTools.AlignToScaffold(cpdsDF, molCol='ROMol', scaffoldCol='Murcko_SMILES')"
   ]
  },
  {
   "cell_type": "code",
   "execution_count": 33,
   "metadata": {
    "collapsed": false
   },
   "outputs": [
    {
     "data": {
      "text/html": [
       "<table border=\"1\" class=\"dataframe\">\n",
       "  <thead>\n",
       "    <tr style=\"text-align: right;\">\n",
       "      <th></th>\n",
       "      <th>chemblId</th>\n",
       "      <th>smiles</th>\n",
       "      <th>ROMol</th>\n",
       "      <th>knownDrug</th>\n",
       "      <th>preferredCompoundName</th>\n",
       "      <th>pIC50</th>\n",
       "      <th>LE</th>\n",
       "      <th>Murcko_SMILES</th>\n",
       "    </tr>\n",
       "  </thead>\n",
       "  <tbody>\n",
       "    <tr>\n",
       "      <th>1</th>\n",
       "      <td>CHEMBL370037</td>\n",
       "      <td>CC1=C(C(=O)c2ccc(O)cc12)c3ccc(O)cc3</td>\n",
       "      <td><img src=\"data:image/png;base64,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\" alt=\"Mol\"/></td>\n",
       "      <td>No</td>\n",
       "      <td>NaN</td>\n",
       "      <td>8.221849</td>\n",
       "      <td>0.60582</td>\n",
       "      <td>O=C1C(c2ccccc2)=Cc2ccccc21</td>\n",
       "    </tr>\n",
       "  </tbody>\n",
       "</table>"
      ],
      "text/plain": [
       "       chemblId                               smiles                                                                                                                                                                                                                                                                                                                                                                                                                                                                                                                                                                                                                                                                                                                                                                                                                                                                                                                                                                                                                                                                                                                                                                                                                                                                                                                                                                                                                                                                                                                                                                                                                                                                                                                                                                                                                                                                                                                                                                                                                                                                                                                                                                                                                                                                                                                                                                                                                                                                                                                                                                                                                                                                                                                                                                                                                                                                                                                                                                                                                                                                                                                                                                                                                                                                                                                                                                                                                                                                                                                                                                                                                                                                                                                                                                                                                                                                                                                                                                                                                                                                                                                                                                                                                                                                                                                                                                                                                                                                                                                                                                                                                                                                                                                                                                                                                                                                                                                                                                                                                                                                                                                                                                                                                                                                                                                                                                                                                                                                                                                                                                                                                                                                                                                                                                                                                                                                                                                                                                                                                                                                                                                                                                                                                                                                                                                                                                                                                                                                                                  ROMol knownDrug preferredCompoundName     pIC50       LE               Murcko_SMILES\n",
       "1  CHEMBL370037  CC1=C(C(=O)c2ccc(O)cc12)c3ccc(O)cc3  <img src=\"data:image/png;base64,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\" alt=\"Mol\"/>        No                   NaN  8.221849  0.60582  O=C1C(c2ccccc2)=Cc2ccccc21"
      ]
     },
     "execution_count": 33,
     "metadata": {},
     "output_type": "execute_result"
    }
   ],
   "source": [
    "cpdsDF.head(1)"
   ]
  },
  {
   "cell_type": "markdown",
   "metadata": {},
   "source": [
    "Now we can use pandas **groupby()** functionality and group by scaffolds and create a new frame with scaffolds sorted by number of members"
   ]
  },
  {
   "cell_type": "code",
   "execution_count": 34,
   "metadata": {
    "collapsed": false
   },
   "outputs": [
    {
     "name": "stderr",
     "output_type": "stream",
     "text": [
      "-c:1: FutureWarning: sort(columns=....) is deprecated, use sort_values(by=.....)\n"
     ]
    }
   ],
   "source": [
    "sortedScaffolds = cpdsDF.groupby(['Murcko_SMILES']).count().sort(smiles, ascending=False)"
   ]
  },
  {
   "cell_type": "code",
   "execution_count": 35,
   "metadata": {
    "collapsed": false
   },
   "outputs": [
    {
     "data": {
      "text/html": [
       "<table border=\"1\" class=\"dataframe\">\n",
       "  <thead>\n",
       "    <tr style=\"text-align: right;\">\n",
       "      <th></th>\n",
       "      <th>count</th>\n",
       "      <th>Murcko_SMILES</th>\n",
       "    </tr>\n",
       "  </thead>\n",
       "  <tbody>\n",
       "    <tr>\n",
       "      <th>1</th>\n",
       "      <td>66</td>\n",
       "      <td>c1ccc(-c2ccc3ccccc3c2)cc1</td>\n",
       "    </tr>\n",
       "    <tr>\n",
       "      <th>2</th>\n",
       "      <td>55</td>\n",
       "      <td>c1ccc(-c2nc3ccccc3o2)cc1</td>\n",
       "    </tr>\n",
       "    <tr>\n",
       "      <th>3</th>\n",
       "      <td>38</td>\n",
       "      <td>O=c1oc2ccccc2c2ccccc12</td>\n",
       "    </tr>\n",
       "    <tr>\n",
       "      <th>4</th>\n",
       "      <td>31</td>\n",
       "      <td>c1ccc(C2Sc3ccccc3OC2c2ccc(OCCN3CCCC3)cc2)cc1</td>\n",
       "    </tr>\n",
       "    <tr>\n",
       "      <th>5</th>\n",
       "      <td>29</td>\n",
       "      <td>c1ccc(-c2cc3ccccc3n2Cc2ccc(OCCN3CCCCC3)cc2)cc1</td>\n",
       "    </tr>\n",
       "  </tbody>\n",
       "</table>"
      ],
      "text/plain": [
       "   count                                   Murcko_SMILES\n",
       "1     66                       c1ccc(-c2ccc3ccccc3c2)cc1\n",
       "2     55                        c1ccc(-c2nc3ccccc3o2)cc1\n",
       "3     38                          O=c1oc2ccccc2c2ccccc12\n",
       "4     31    c1ccc(C2Sc3ccccc3OC2c2ccc(OCCN3CCCC3)cc2)cc1\n",
       "5     29  c1ccc(-c2cc3ccccc3n2Cc2ccc(OCCN3CCCCC3)cc2)cc1"
      ]
     },
     "execution_count": 35,
     "metadata": {},
     "output_type": "execute_result"
    }
   ],
   "source": [
    "sortedScaffolds = sortedScaffolds[[smiles]] # Keep only smiles column\n",
    "sortedScaffolds = sortedScaffolds.rename(columns={smiles:'count'}) # rename smiles column to count\n",
    "sortedScaffolds['Murcko_SMILES'] = sortedScaffolds.index # actual SMILES are only in index column, move it\n",
    "sortedScaffolds.index = range(len(sortedScaffolds)+1)[1:]\n",
    "sortedScaffolds.head()"
   ]
  },
  {
   "cell_type": "code",
   "execution_count": 36,
   "metadata": {
    "collapsed": false
   },
   "outputs": [
    {
     "data": {
      "text/plain": [
       "545"
      ]
     },
     "execution_count": 36,
     "metadata": {},
     "output_type": "execute_result"
    }
   ],
   "source": [
    "len(sortedScaffolds)"
   ]
  },
  {
   "cell_type": "markdown",
   "metadata": {},
   "source": [
    "Add RDKit's ROMol column to scaffolds dataframe so we can visualize it"
   ]
  },
  {
   "cell_type": "code",
   "execution_count": 37,
   "metadata": {
    "collapsed": false
   },
   "outputs": [],
   "source": [
    "PandasTools.AddMoleculeColumnToFrame(sortedScaffolds, smilesCol='Murcko_SMILES')"
   ]
  },
  {
   "cell_type": "markdown",
   "metadata": {},
   "source": [
    "<br>\n",
    "<br>\n",
    "<br>\n",
    "#### FrameToGridImage(pandasFrame, legendsCol=, molsPerRow=)\n",
    "Visualize molecules in data frame as a grid image\n",
    "<br>\n",
    "<br>\n",
    "<br>"
   ]
  },
  {
   "cell_type": "code",
   "execution_count": 38,
   "metadata": {
    "collapsed": false
   },
   "outputs": [
    {
     "data": {
      "image/svg+xml": [
       "<svg baseProfile=\"full\" height=\"400px\" version=\"1.1\" width=\"800px\" xml:space=\"preserve\" xmlns:rdkit=\"http://www.rdkit.org/xml\" xmlns:svg=\"http://www.w3.org/2000/svg\" xmlns:xlink=\"http://www.w3.org/1999/xlink\">\n",
       "<g transform=\"translate(0,0)\"><rect height=\"200\" style=\"opacity:1.0;fill:#FFFFFF;stroke:none\" width=\"200\" x=\"0\" y=\"0\"> </rect>\n",
       "<path d=\"M 9.09091,89.2129 26.8846,67.9195\" style=\"fill:none;fill-rule:evenodd;stroke:#000000;stroke-width:2px;stroke-linecap:butt;stroke-linejoin:miter;stroke-opacity:1\"/>\n",
       "<path d=\"M 16.0186,89.5776 28.4742,74.6723\" style=\"fill:none;fill-rule:evenodd;stroke:#000000;stroke-width:2px;stroke-linecap:butt;stroke-linejoin:miter;stroke-opacity:1\"/>\n",
       "<path d=\"M 9.09091,89.2129 18.6347,115.269\" style=\"fill:none;fill-rule:evenodd;stroke:#000000;stroke-width:2px;stroke-linecap:butt;stroke-linejoin:miter;stroke-opacity:1\"/>\n",
       "<path d=\"M 26.8846,67.9195 54.222,72.6826\" style=\"fill:none;fill-rule:evenodd;stroke:#000000;stroke-width:2px;stroke-linecap:butt;stroke-linejoin:miter;stroke-opacity:1\"/>\n",
       "<path d=\"M 54.222,72.6826 63.7658,98.739\" style=\"fill:none;fill-rule:evenodd;stroke:#000000;stroke-width:2px;stroke-linecap:butt;stroke-linejoin:miter;stroke-opacity:1\"/>\n",
       "<path d=\"M 50.4423,78.4998 57.1229,96.7393\" style=\"fill:none;fill-rule:evenodd;stroke:#000000;stroke-width:2px;stroke-linecap:butt;stroke-linejoin:miter;stroke-opacity:1\"/>\n",
       "<path d=\"M 63.7658,98.739 91.1032,103.502\" style=\"fill:none;fill-rule:evenodd;stroke:#000000;stroke-width:2px;stroke-linecap:butt;stroke-linejoin:miter;stroke-opacity:1\"/>\n",
       "<path d=\"M 63.7658,98.739 45.9721,120.032\" style=\"fill:none;fill-rule:evenodd;stroke:#000000;stroke-width:2px;stroke-linecap:butt;stroke-linejoin:miter;stroke-opacity:1\"/>\n",
       "<path d=\"M 91.1032,103.502 100.647,129.559\" style=\"fill:none;fill-rule:evenodd;stroke:#000000;stroke-width:2px;stroke-linecap:butt;stroke-linejoin:miter;stroke-opacity:1\"/>\n",
       "<path d=\"M 97.746,105.502 104.427,123.741\" style=\"fill:none;fill-rule:evenodd;stroke:#000000;stroke-width:2px;stroke-linecap:butt;stroke-linejoin:miter;stroke-opacity:1\"/>\n",
       "<path d=\"M 91.1032,103.502 108.897,82.2087\" style=\"fill:none;fill-rule:evenodd;stroke:#000000;stroke-width:2px;stroke-linecap:butt;stroke-linejoin:miter;stroke-opacity:1\"/>\n",
       "<path d=\"M 100.647,129.559 127.984,134.322\" style=\"fill:none;fill-rule:evenodd;stroke:#000000;stroke-width:2px;stroke-linecap:butt;stroke-linejoin:miter;stroke-opacity:1\"/>\n",
       "<path d=\"M 127.984,134.322 145.778,113.028\" style=\"fill:none;fill-rule:evenodd;stroke:#000000;stroke-width:2px;stroke-linecap:butt;stroke-linejoin:miter;stroke-opacity:1\"/>\n",
       "<path d=\"M 126.395,127.569 138.85,112.663\" style=\"fill:none;fill-rule:evenodd;stroke:#000000;stroke-width:2px;stroke-linecap:butt;stroke-linejoin:miter;stroke-opacity:1\"/>\n",
       "<path d=\"M 145.778,113.028 173.115,117.791\" style=\"fill:none;fill-rule:evenodd;stroke:#000000;stroke-width:2px;stroke-linecap:butt;stroke-linejoin:miter;stroke-opacity:1\"/>\n",
       "<path d=\"M 145.778,113.028 136.234,86.9718\" style=\"fill:none;fill-rule:evenodd;stroke:#000000;stroke-width:2px;stroke-linecap:butt;stroke-linejoin:miter;stroke-opacity:1\"/>\n",
       "<path d=\"M 173.115,117.791 190.909,96.4979\" style=\"fill:none;fill-rule:evenodd;stroke:#000000;stroke-width:2px;stroke-linecap:butt;stroke-linejoin:miter;stroke-opacity:1\"/>\n",
       "<path d=\"M 171.526,111.039 183.981,96.1332\" style=\"fill:none;fill-rule:evenodd;stroke:#000000;stroke-width:2px;stroke-linecap:butt;stroke-linejoin:miter;stroke-opacity:1\"/>\n",
       "<path d=\"M 190.909,96.4979 181.365,70.4415\" style=\"fill:none;fill-rule:evenodd;stroke:#000000;stroke-width:2px;stroke-linecap:butt;stroke-linejoin:miter;stroke-opacity:1\"/>\n",
       "<path d=\"M 181.365,70.4415 154.028,65.6784\" style=\"fill:none;fill-rule:evenodd;stroke:#000000;stroke-width:2px;stroke-linecap:butt;stroke-linejoin:miter;stroke-opacity:1\"/>\n",
       "<path d=\"M 176.312,75.1945 157.176,71.8604\" style=\"fill:none;fill-rule:evenodd;stroke:#000000;stroke-width:2px;stroke-linecap:butt;stroke-linejoin:miter;stroke-opacity:1\"/>\n",
       "<path d=\"M 154.028,65.6784 136.234,86.9718\" style=\"fill:none;fill-rule:evenodd;stroke:#000000;stroke-width:2px;stroke-linecap:butt;stroke-linejoin:miter;stroke-opacity:1\"/>\n",
       "<path d=\"M 136.234,86.9718 108.897,82.2087\" style=\"fill:none;fill-rule:evenodd;stroke:#000000;stroke-width:2px;stroke-linecap:butt;stroke-linejoin:miter;stroke-opacity:1\"/>\n",
       "<path d=\"M 131.181,91.7248 112.045,88.3907\" style=\"fill:none;fill-rule:evenodd;stroke:#000000;stroke-width:2px;stroke-linecap:butt;stroke-linejoin:miter;stroke-opacity:1\"/>\n",
       "<path d=\"M 45.9721,120.032 18.6347,115.269\" style=\"fill:none;fill-rule:evenodd;stroke:#000000;stroke-width:2px;stroke-linecap:butt;stroke-linejoin:miter;stroke-opacity:1\"/>\n",
       "<path d=\"M 42.8241,113.85 23.6879,110.516\" style=\"fill:none;fill-rule:evenodd;stroke:#000000;stroke-width:2px;stroke-linecap:butt;stroke-linejoin:miter;stroke-opacity:1\"/>\n",
       "<text style=\"font-size:12px;font-style:normal;font-weight:normal;fill-opacity:1;stroke:none;font-family:sans-serif;text-anchor:start;fill:#000000\" x=\"91.9904\" y=\"194\"><tspan>66</tspan></text>\n",
       "</g>\n",
       "<g transform=\"translate(200,0)\"><rect height=\"200\" style=\"opacity:1.0;fill:#FFFFFF;stroke:none\" width=\"200\" x=\"0\" y=\"0\"> </rect>\n",
       "<path d=\"M 100,190.909 74.8905,176.412\" style=\"fill:none;fill-rule:evenodd;stroke:#000000;stroke-width:2px;stroke-linecap:butt;stroke-linejoin:miter;stroke-opacity:1\"/>\n",
       "<path d=\"M 99.133,183.713 81.5563,173.565\" style=\"fill:none;fill-rule:evenodd;stroke:#000000;stroke-width:2px;stroke-linecap:butt;stroke-linejoin:miter;stroke-opacity:1\"/>\n",
       "<path d=\"M 100,190.909 125.11,176.412\" style=\"fill:none;fill-rule:evenodd;stroke:#000000;stroke-width:2px;stroke-linecap:butt;stroke-linejoin:miter;stroke-opacity:1\"/>\n",
       "<path d=\"M 74.8905,176.412 74.8905,147.418\" style=\"fill:none;fill-rule:evenodd;stroke:#000000;stroke-width:2px;stroke-linecap:butt;stroke-linejoin:miter;stroke-opacity:1\"/>\n",
       "<path d=\"M 74.8905,147.418 100,132.921\" style=\"fill:none;fill-rule:evenodd;stroke:#000000;stroke-width:2px;stroke-linecap:butt;stroke-linejoin:miter;stroke-opacity:1\"/>\n",
       "<path d=\"M 81.5563,150.265 99.133,140.118\" style=\"fill:none;fill-rule:evenodd;stroke:#000000;stroke-width:2px;stroke-linecap:butt;stroke-linejoin:miter;stroke-opacity:1\"/>\n",
       "<path d=\"M 100,132.921 100,103.927\" style=\"fill:none;fill-rule:evenodd;stroke:#000000;stroke-width:2px;stroke-linecap:butt;stroke-linejoin:miter;stroke-opacity:1\"/>\n",
       "<path d=\"M 100,132.921 125.11,147.418\" style=\"fill:none;fill-rule:evenodd;stroke:#000000;stroke-width:2px;stroke-linecap:butt;stroke-linejoin:miter;stroke-opacity:1\"/>\n",
       "<path d=\"M 100,103.927 109.634,96.9275\" style=\"fill:none;fill-rule:evenodd;stroke:#000000;stroke-width:2px;stroke-linecap:butt;stroke-linejoin:miter;stroke-opacity:1\"/>\n",
       "<path d=\"M 109.634,96.9275 119.268,89.9279\" style=\"fill:none;fill-rule:evenodd;stroke:#0000FF;stroke-width:2px;stroke-linecap:butt;stroke-linejoin:miter;stroke-opacity:1\"/>\n",
       "<path d=\"M 99.4818,97.1359 106.226,92.2362\" style=\"fill:none;fill-rule:evenodd;stroke:#000000;stroke-width:2px;stroke-linecap:butt;stroke-linejoin:miter;stroke-opacity:1\"/>\n",
       "<path d=\"M 106.226,92.2362 112.97,87.3365\" style=\"fill:none;fill-rule:evenodd;stroke:#0000FF;stroke-width:2px;stroke-linecap:butt;stroke-linejoin:miter;stroke-opacity:1\"/>\n",
       "<path d=\"M 100,103.927 90.5283,97.0456\" style=\"fill:none;fill-rule:evenodd;stroke:#000000;stroke-width:2px;stroke-linecap:butt;stroke-linejoin:miter;stroke-opacity:1\"/>\n",
       "<path d=\"M 90.5283,97.0456 81.0566,90.164\" style=\"fill:none;fill-rule:evenodd;stroke:#FF0000;stroke-width:2px;stroke-linecap:butt;stroke-linejoin:miter;stroke-opacity:1\"/>\n",
       "<path d=\"M 121.887,82.0526 118.192,70.6813\" style=\"fill:none;fill-rule:evenodd;stroke:#0000FF;stroke-width:2px;stroke-linecap:butt;stroke-linejoin:miter;stroke-opacity:1\"/>\n",
       "<path d=\"M 118.192,70.6813 114.497,59.31\" style=\"fill:none;fill-rule:evenodd;stroke:#000000;stroke-width:2px;stroke-linecap:butt;stroke-linejoin:miter;stroke-opacity:1\"/>\n",
       "<path d=\"M 114.497,59.31 128.994,34.2004\" style=\"fill:none;fill-rule:evenodd;stroke:#000000;stroke-width:2px;stroke-linecap:butt;stroke-linejoin:miter;stroke-opacity:1\"/>\n",
       "<path d=\"M 111.65,52.6441 121.798,35.0675\" style=\"fill:none;fill-rule:evenodd;stroke:#000000;stroke-width:2px;stroke-linecap:butt;stroke-linejoin:miter;stroke-opacity:1\"/>\n",
       "<path d=\"M 114.497,59.31 85.503,59.31\" style=\"fill:none;fill-rule:evenodd;stroke:#000000;stroke-width:2px;stroke-linecap:butt;stroke-linejoin:miter;stroke-opacity:1\"/>\n",
       "<path d=\"M 128.994,34.2004 114.497,9.09091\" style=\"fill:none;fill-rule:evenodd;stroke:#000000;stroke-width:2px;stroke-linecap:butt;stroke-linejoin:miter;stroke-opacity:1\"/>\n",
       "<path d=\"M 114.497,9.09091 85.503,9.09091\" style=\"fill:none;fill-rule:evenodd;stroke:#000000;stroke-width:2px;stroke-linecap:butt;stroke-linejoin:miter;stroke-opacity:1\"/>\n",
       "<path d=\"M 110.148,14.8897 89.8521,14.8897\" style=\"fill:none;fill-rule:evenodd;stroke:#000000;stroke-width:2px;stroke-linecap:butt;stroke-linejoin:miter;stroke-opacity:1\"/>\n",
       "<path d=\"M 85.503,9.09091 71.006,34.2004\" style=\"fill:none;fill-rule:evenodd;stroke:#000000;stroke-width:2px;stroke-linecap:butt;stroke-linejoin:miter;stroke-opacity:1\"/>\n",
       "<path d=\"M 71.006,34.2004 85.503,59.31\" style=\"fill:none;fill-rule:evenodd;stroke:#000000;stroke-width:2px;stroke-linecap:butt;stroke-linejoin:miter;stroke-opacity:1\"/>\n",
       "<path d=\"M 78.2025,35.0675 88.3504,52.6441\" style=\"fill:none;fill-rule:evenodd;stroke:#000000;stroke-width:2px;stroke-linecap:butt;stroke-linejoin:miter;stroke-opacity:1\"/>\n",
       "<path d=\"M 85.503,59.31 81.8082,70.6813\" style=\"fill:none;fill-rule:evenodd;stroke:#000000;stroke-width:2px;stroke-linecap:butt;stroke-linejoin:miter;stroke-opacity:1\"/>\n",
       "<path d=\"M 81.8082,70.6813 78.1135,82.0526\" style=\"fill:none;fill-rule:evenodd;stroke:#FF0000;stroke-width:2px;stroke-linecap:butt;stroke-linejoin:miter;stroke-opacity:1\"/>\n",
       "<path d=\"M 125.11,147.418 125.11,176.412\" style=\"fill:none;fill-rule:evenodd;stroke:#000000;stroke-width:2px;stroke-linecap:butt;stroke-linejoin:miter;stroke-opacity:1\"/>\n",
       "<path d=\"M 119.311,151.767 119.311,172.063\" style=\"fill:none;fill-rule:evenodd;stroke:#000000;stroke-width:2px;stroke-linecap:butt;stroke-linejoin:miter;stroke-opacity:1\"/>\n",
       "<text style=\"font-size:9px;font-style:normal;font-weight:normal;fill-opacity:1;stroke:none;font-family:sans-serif;text-anchor:start;fill:#0000FF\" x=\"119.268\" y=\"91.7172\"><tspan>N</tspan></text>\n",
       "<text style=\"font-size:9px;font-style:normal;font-weight:normal;fill-opacity:1;stroke:none;font-family:sans-serif;text-anchor:start;fill:#FF0000\" x=\"72.0301\" y=\"91.7172\"><tspan>O</tspan></text>\n",
       "<text style=\"font-size:12px;font-style:normal;font-weight:normal;fill-opacity:1;stroke:none;font-family:sans-serif;text-anchor:start;fill:#000000\" x=\"91.9904\" y=\"194\"><tspan>55</tspan></text>\n",
       "</g>\n",
       "<g transform=\"translate(400,0)\"><rect height=\"200\" style=\"opacity:1.0;fill:#FFFFFF;stroke:none\" width=\"200\" x=\"0\" y=\"0\"> </rect>\n",
       "<path d=\"M 59.8671,161.242 68.5528,149.633\" style=\"fill:none;fill-rule:evenodd;stroke:#FF0000;stroke-width:2px;stroke-linecap:butt;stroke-linejoin:miter;stroke-opacity:1\"/>\n",
       "<path d=\"M 68.5528,149.633 77.2386,138.023\" style=\"fill:none;fill-rule:evenodd;stroke:#000000;stroke-width:2px;stroke-linecap:butt;stroke-linejoin:miter;stroke-opacity:1\"/>\n",
       "<path d=\"M 54.0024,156.855 62.6882,145.245\" style=\"fill:none;fill-rule:evenodd;stroke:#FF0000;stroke-width:2px;stroke-linecap:butt;stroke-linejoin:miter;stroke-opacity:1\"/>\n",
       "<path d=\"M 62.6882,145.245 71.3739,133.635\" style=\"fill:none;fill-rule:evenodd;stroke:#000000;stroke-width:2px;stroke-linecap:butt;stroke-linejoin:miter;stroke-opacity:1\"/>\n",
       "<path d=\"M 74.3063,135.829 89.6378,137.657\" style=\"fill:none;fill-rule:evenodd;stroke:#000000;stroke-width:2px;stroke-linecap:butt;stroke-linejoin:miter;stroke-opacity:1\"/>\n",
       "<path d=\"M 89.6378,137.657 104.969,139.486\" style=\"fill:none;fill-rule:evenodd;stroke:#FF0000;stroke-width:2px;stroke-linecap:butt;stroke-linejoin:miter;stroke-opacity:1\"/>\n",
       "<path d=\"M 74.3063,135.829 59.8804,102.169\" style=\"fill:none;fill-rule:evenodd;stroke:#000000;stroke-width:2px;stroke-linecap:butt;stroke-linejoin:miter;stroke-opacity:1\"/>\n",
       "<path d=\"M 115.236,134.062 123.922,122.452\" style=\"fill:none;fill-rule:evenodd;stroke:#FF0000;stroke-width:2px;stroke-linecap:butt;stroke-linejoin:miter;stroke-opacity:1\"/>\n",
       "<path d=\"M 123.922,122.452 132.608,110.843\" style=\"fill:none;fill-rule:evenodd;stroke:#000000;stroke-width:2px;stroke-linecap:butt;stroke-linejoin:miter;stroke-opacity:1\"/>\n",
       "<path d=\"M 132.608,110.843 168.971,115.18\" style=\"fill:none;fill-rule:evenodd;stroke:#000000;stroke-width:2px;stroke-linecap:butt;stroke-linejoin:miter;stroke-opacity:1\"/>\n",
       "<path d=\"M 138.93,104.22 164.384,107.256\" style=\"fill:none;fill-rule:evenodd;stroke:#000000;stroke-width:2px;stroke-linecap:butt;stroke-linejoin:miter;stroke-opacity:1\"/>\n",
       "<path d=\"M 132.608,110.843 118.182,77.1822\" style=\"fill:none;fill-rule:evenodd;stroke:#000000;stroke-width:2px;stroke-linecap:butt;stroke-linejoin:miter;stroke-opacity:1\"/>\n",
       "<path d=\"M 168.971,115.18 190.909,85.8562\" style=\"fill:none;fill-rule:evenodd;stroke:#000000;stroke-width:2px;stroke-linecap:butt;stroke-linejoin:miter;stroke-opacity:1\"/>\n",
       "<path d=\"M 190.909,85.8562 176.483,52.1959\" style=\"fill:none;fill-rule:evenodd;stroke:#000000;stroke-width:2px;stroke-linecap:butt;stroke-linejoin:miter;stroke-opacity:1\"/>\n",
       "<path d=\"M 182.013,83.6923 171.915,60.1301\" style=\"fill:none;fill-rule:evenodd;stroke:#000000;stroke-width:2px;stroke-linecap:butt;stroke-linejoin:miter;stroke-opacity:1\"/>\n",
       "<path d=\"M 176.483,52.1959 140.12,47.8589\" style=\"fill:none;fill-rule:evenodd;stroke:#000000;stroke-width:2px;stroke-linecap:butt;stroke-linejoin:miter;stroke-opacity:1\"/>\n",
       "<path d=\"M 140.12,47.8589 118.182,77.1822\" style=\"fill:none;fill-rule:evenodd;stroke:#000000;stroke-width:2px;stroke-linecap:butt;stroke-linejoin:miter;stroke-opacity:1\"/>\n",
       "<path d=\"M 142.694,56.6449 127.337,77.1712\" style=\"fill:none;fill-rule:evenodd;stroke:#000000;stroke-width:2px;stroke-linecap:butt;stroke-linejoin:miter;stroke-opacity:1\"/>\n",
       "<path d=\"M 118.182,77.1822 81.8182,72.8452\" style=\"fill:none;fill-rule:evenodd;stroke:#000000;stroke-width:2px;stroke-linecap:butt;stroke-linejoin:miter;stroke-opacity:1\"/>\n",
       "<path d=\"M 81.8182,72.8452 67.3923,39.1848\" style=\"fill:none;fill-rule:evenodd;stroke:#000000;stroke-width:2px;stroke-linecap:butt;stroke-linejoin:miter;stroke-opacity:1\"/>\n",
       "<path d=\"M 72.9222,70.6813 62.8241,47.1191\" style=\"fill:none;fill-rule:evenodd;stroke:#000000;stroke-width:2px;stroke-linecap:butt;stroke-linejoin:miter;stroke-opacity:1\"/>\n",
       "<path d=\"M 81.8182,72.8452 59.8804,102.169\" style=\"fill:none;fill-rule:evenodd;stroke:#000000;stroke-width:2px;stroke-linecap:butt;stroke-linejoin:miter;stroke-opacity:1\"/>\n",
       "<path d=\"M 67.3923,39.1848 31.0287,34.8478\" style=\"fill:none;fill-rule:evenodd;stroke:#000000;stroke-width:2px;stroke-linecap:butt;stroke-linejoin:miter;stroke-opacity:1\"/>\n",
       "<path d=\"M 31.0287,34.8478 9.09091,64.1712\" style=\"fill:none;fill-rule:evenodd;stroke:#000000;stroke-width:2px;stroke-linecap:butt;stroke-linejoin:miter;stroke-opacity:1\"/>\n",
       "<path d=\"M 33.6027,43.6339 18.2462,64.1602\" style=\"fill:none;fill-rule:evenodd;stroke:#000000;stroke-width:2px;stroke-linecap:butt;stroke-linejoin:miter;stroke-opacity:1\"/>\n",
       "<path d=\"M 9.09091,64.1712 23.5168,97.8315\" style=\"fill:none;fill-rule:evenodd;stroke:#000000;stroke-width:2px;stroke-linecap:butt;stroke-linejoin:miter;stroke-opacity:1\"/>\n",
       "<path d=\"M 23.5168,97.8315 59.8804,102.169\" style=\"fill:none;fill-rule:evenodd;stroke:#000000;stroke-width:2px;stroke-linecap:butt;stroke-linejoin:miter;stroke-opacity:1\"/>\n",
       "<path d=\"M 29.8387,91.2093 55.2933,94.2452\" style=\"fill:none;fill-rule:evenodd;stroke:#000000;stroke-width:2px;stroke-linecap:butt;stroke-linejoin:miter;stroke-opacity:1\"/>\n",
       "<text style=\"font-size:12px;font-style:normal;font-weight:normal;fill-opacity:1;stroke:none;font-family:sans-serif;text-anchor:start;fill:#FF0000\" x=\"46.6679\" y=\"171.256\"><tspan>O</tspan></text>\n",
       "<text style=\"font-size:12px;font-style:normal;font-weight:normal;fill-opacity:1;stroke:none;font-family:sans-serif;text-anchor:start;fill:#FF0000\" x=\"104.969\" y=\"146.269\"><tspan>O</tspan></text>\n",
       "<text style=\"font-size:12px;font-style:normal;font-weight:normal;fill-opacity:1;stroke:none;font-family:sans-serif;text-anchor:start;fill:#000000\" x=\"91.9904\" y=\"194\"><tspan>38</tspan></text>\n",
       "</g>\n",
       "<g transform=\"translate(600,0)\"><rect height=\"200\" style=\"opacity:1.0;fill:#FFFFFF;stroke:none\" width=\"200\" x=\"0\" y=\"0\"> </rect>\n",
       "<path d=\"M 139.25,151.488 127.025,139.941\" style=\"fill:none;fill-rule:evenodd;stroke:#000000;stroke-width:2px;stroke-linecap:butt;stroke-linejoin:miter;stroke-opacity:1\"/>\n",
       "<path d=\"M 139.726,147.311 131.168,139.228\" style=\"fill:none;fill-rule:evenodd;stroke:#000000;stroke-width:2px;stroke-linecap:butt;stroke-linejoin:miter;stroke-opacity:1\"/>\n",
       "<path d=\"M 139.25,151.488 155.362,146.674\" style=\"fill:none;fill-rule:evenodd;stroke:#000000;stroke-width:2px;stroke-linecap:butt;stroke-linejoin:miter;stroke-opacity:1\"/>\n",
       "<path d=\"M 127.025,139.941 130.912,123.581\" style=\"fill:none;fill-rule:evenodd;stroke:#000000;stroke-width:2px;stroke-linecap:butt;stroke-linejoin:miter;stroke-opacity:1\"/>\n",
       "<path d=\"M 130.912,123.581 147.024,118.767\" style=\"fill:none;fill-rule:evenodd;stroke:#000000;stroke-width:2px;stroke-linecap:butt;stroke-linejoin:miter;stroke-opacity:1\"/>\n",
       "<path d=\"M 134.292,126.081 145.57,122.712\" style=\"fill:none;fill-rule:evenodd;stroke:#000000;stroke-width:2px;stroke-linecap:butt;stroke-linejoin:miter;stroke-opacity:1\"/>\n",
       "<path d=\"M 147.024,118.767 150.911,102.407\" style=\"fill:none;fill-rule:evenodd;stroke:#000000;stroke-width:2px;stroke-linecap:butt;stroke-linejoin:miter;stroke-opacity:1\"/>\n",
       "<path d=\"M 147.024,118.767 159.249,130.314\" style=\"fill:none;fill-rule:evenodd;stroke:#000000;stroke-width:2px;stroke-linecap:butt;stroke-linejoin:miter;stroke-opacity:1\"/>\n",
       "<path d=\"M 150.911,102.407 157.845,100.335\" style=\"fill:none;fill-rule:evenodd;stroke:#000000;stroke-width:2px;stroke-linecap:butt;stroke-linejoin:miter;stroke-opacity:1\"/>\n",
       "<path d=\"M 157.845,100.335 164.779,98.2635\" style=\"fill:none;fill-rule:evenodd;stroke:#CCCC00;stroke-width:2px;stroke-linecap:butt;stroke-linejoin:miter;stroke-opacity:1\"/>\n",
       "<path d=\"M 150.911,102.407 138.686,90.8605\" style=\"fill:none;fill-rule:evenodd;stroke:#000000;stroke-width:2px;stroke-linecap:butt;stroke-linejoin:miter;stroke-opacity:1\"/>\n",
       "<path d=\"M 167.689,94.7904 169.3,88.0116\" style=\"fill:none;fill-rule:evenodd;stroke:#CCCC00;stroke-width:2px;stroke-linecap:butt;stroke-linejoin:miter;stroke-opacity:1\"/>\n",
       "<path d=\"M 169.3,88.0116 170.91,81.2327\" style=\"fill:none;fill-rule:evenodd;stroke:#000000;stroke-width:2px;stroke-linecap:butt;stroke-linejoin:miter;stroke-opacity:1\"/>\n",
       "<path d=\"M 170.91,81.2327 187.022,76.4188\" style=\"fill:none;fill-rule:evenodd;stroke:#000000;stroke-width:2px;stroke-linecap:butt;stroke-linejoin:miter;stroke-opacity:1\"/>\n",
       "<path d=\"M 172.364,77.2882 183.642,73.9185\" style=\"fill:none;fill-rule:evenodd;stroke:#000000;stroke-width:2px;stroke-linecap:butt;stroke-linejoin:miter;stroke-opacity:1\"/>\n",
       "<path d=\"M 170.91,81.2327 158.685,69.6863\" style=\"fill:none;fill-rule:evenodd;stroke:#000000;stroke-width:2px;stroke-linecap:butt;stroke-linejoin:miter;stroke-opacity:1\"/>\n",
       "<path d=\"M 187.022,76.4188 190.909,60.0585\" style=\"fill:none;fill-rule:evenodd;stroke:#000000;stroke-width:2px;stroke-linecap:butt;stroke-linejoin:miter;stroke-opacity:1\"/>\n",
       "<path d=\"M 190.909,60.0585 178.684,48.5121\" style=\"fill:none;fill-rule:evenodd;stroke:#000000;stroke-width:2px;stroke-linecap:butt;stroke-linejoin:miter;stroke-opacity:1\"/>\n",
       "<path d=\"M 186.766,60.7715 178.209,52.689\" style=\"fill:none;fill-rule:evenodd;stroke:#000000;stroke-width:2px;stroke-linecap:butt;stroke-linejoin:miter;stroke-opacity:1\"/>\n",
       "<path d=\"M 178.684,48.5121 162.572,53.326\" style=\"fill:none;fill-rule:evenodd;stroke:#000000;stroke-width:2px;stroke-linecap:butt;stroke-linejoin:miter;stroke-opacity:1\"/>\n",
       "<path d=\"M 162.572,53.326 158.685,69.6863\" style=\"fill:none;fill-rule:evenodd;stroke:#000000;stroke-width:2px;stroke-linecap:butt;stroke-linejoin:miter;stroke-opacity:1\"/>\n",
       "<path d=\"M 165.261,56.5574 162.54,68.0097\" style=\"fill:none;fill-rule:evenodd;stroke:#000000;stroke-width:2px;stroke-linecap:butt;stroke-linejoin:miter;stroke-opacity:1\"/>\n",
       "<path d=\"M 158.685,69.6863 151.938,71.7022\" style=\"fill:none;fill-rule:evenodd;stroke:#000000;stroke-width:2px;stroke-linecap:butt;stroke-linejoin:miter;stroke-opacity:1\"/>\n",
       "<path d=\"M 151.938,71.7022 145.191,73.7181\" style=\"fill:none;fill-rule:evenodd;stroke:#FF0000;stroke-width:2px;stroke-linecap:butt;stroke-linejoin:miter;stroke-opacity:1\"/>\n",
       "<path d=\"M 141.907,77.3028 140.297,84.0817\" style=\"fill:none;fill-rule:evenodd;stroke:#FF0000;stroke-width:2px;stroke-linecap:butt;stroke-linejoin:miter;stroke-opacity:1\"/>\n",
       "<path d=\"M 140.297,84.0817 138.686,90.8605\" style=\"fill:none;fill-rule:evenodd;stroke:#000000;stroke-width:2px;stroke-linecap:butt;stroke-linejoin:miter;stroke-opacity:1\"/>\n",
       "<path d=\"M 138.686,90.8605 122.574,95.6744\" style=\"fill:none;fill-rule:evenodd;stroke:#000000;stroke-width:2px;stroke-linecap:butt;stroke-linejoin:miter;stroke-opacity:1\"/>\n",
       "<path d=\"M 122.574,95.6744 110.349,84.128\" style=\"fill:none;fill-rule:evenodd;stroke:#000000;stroke-width:2px;stroke-linecap:butt;stroke-linejoin:miter;stroke-opacity:1\"/>\n",
       "<path d=\"M 118.431,96.3874 109.874,88.3049\" style=\"fill:none;fill-rule:evenodd;stroke:#000000;stroke-width:2px;stroke-linecap:butt;stroke-linejoin:miter;stroke-opacity:1\"/>\n",
       "<path d=\"M 122.574,95.6744 118.687,112.035\" style=\"fill:none;fill-rule:evenodd;stroke:#000000;stroke-width:2px;stroke-linecap:butt;stroke-linejoin:miter;stroke-opacity:1\"/>\n",
       "<path d=\"M 110.349,84.128 94.2372,88.9419\" style=\"fill:none;fill-rule:evenodd;stroke:#000000;stroke-width:2px;stroke-linecap:butt;stroke-linejoin:miter;stroke-opacity:1\"/>\n",
       "<path d=\"M 94.2372,88.9419 90.3502,105.302\" style=\"fill:none;fill-rule:evenodd;stroke:#000000;stroke-width:2px;stroke-linecap:butt;stroke-linejoin:miter;stroke-opacity:1\"/>\n",
       "<path d=\"M 96.9263,92.1733 94.2053,103.626\" style=\"fill:none;fill-rule:evenodd;stroke:#000000;stroke-width:2px;stroke-linecap:butt;stroke-linejoin:miter;stroke-opacity:1\"/>\n",
       "<path d=\"M 90.3502,105.302 83.603,107.318\" style=\"fill:none;fill-rule:evenodd;stroke:#000000;stroke-width:2px;stroke-linecap:butt;stroke-linejoin:miter;stroke-opacity:1\"/>\n",
       "<path d=\"M 83.603,107.318 76.8558,109.334\" style=\"fill:none;fill-rule:evenodd;stroke:#FF0000;stroke-width:2px;stroke-linecap:butt;stroke-linejoin:miter;stroke-opacity:1\"/>\n",
       "<path d=\"M 90.3502,105.302 102.575,116.849\" style=\"fill:none;fill-rule:evenodd;stroke:#000000;stroke-width:2px;stroke-linecap:butt;stroke-linejoin:miter;stroke-opacity:1\"/>\n",
       "<path d=\"M 71.6207,107.644 66.817,103.107\" style=\"fill:none;fill-rule:evenodd;stroke:#FF0000;stroke-width:2px;stroke-linecap:butt;stroke-linejoin:miter;stroke-opacity:1\"/>\n",
       "<path d=\"M 66.817,103.107 62.0133,98.5696\" style=\"fill:none;fill-rule:evenodd;stroke:#000000;stroke-width:2px;stroke-linecap:butt;stroke-linejoin:miter;stroke-opacity:1\"/>\n",
       "<path d=\"M 62.0133,98.5696 45.9013,103.384\" style=\"fill:none;fill-rule:evenodd;stroke:#000000;stroke-width:2px;stroke-linecap:butt;stroke-linejoin:miter;stroke-opacity:1\"/>\n",
       "<path d=\"M 45.9013,103.384 41.0034,98.7575\" style=\"fill:none;fill-rule:evenodd;stroke:#000000;stroke-width:2px;stroke-linecap:butt;stroke-linejoin:miter;stroke-opacity:1\"/>\n",
       "<path d=\"M 41.0034,98.7575 36.1055,94.1314\" style=\"fill:none;fill-rule:evenodd;stroke:#0000FF;stroke-width:2px;stroke-linecap:butt;stroke-linejoin:miter;stroke-opacity:1\"/>\n",
       "<path d=\"M 31.2472,92.2932 24.1983,93.6169\" style=\"fill:none;fill-rule:evenodd;stroke:#0000FF;stroke-width:2px;stroke-linecap:butt;stroke-linejoin:miter;stroke-opacity:1\"/>\n",
       "<path d=\"M 24.1983,93.6169 17.1495,94.9405\" style=\"fill:none;fill-rule:evenodd;stroke:#000000;stroke-width:2px;stroke-linecap:butt;stroke-linejoin:miter;stroke-opacity:1\"/>\n",
       "<path d=\"M 34.0386,89.0345 34.9353,82.0973\" style=\"fill:none;fill-rule:evenodd;stroke:#0000FF;stroke-width:2px;stroke-linecap:butt;stroke-linejoin:miter;stroke-opacity:1\"/>\n",
       "<path d=\"M 34.9353,82.0973 35.832,75.1601\" style=\"fill:none;fill-rule:evenodd;stroke:#000000;stroke-width:2px;stroke-linecap:butt;stroke-linejoin:miter;stroke-opacity:1\"/>\n",
       "<path d=\"M 17.1495,94.9405 9.09091,80.1814\" style=\"fill:none;fill-rule:evenodd;stroke:#000000;stroke-width:2px;stroke-linecap:butt;stroke-linejoin:miter;stroke-opacity:1\"/>\n",
       "<path d=\"M 9.09091,80.1814 20.6373,67.9565\" style=\"fill:none;fill-rule:evenodd;stroke:#000000;stroke-width:2px;stroke-linecap:butt;stroke-linejoin:miter;stroke-opacity:1\"/>\n",
       "<path d=\"M 20.6373,67.9565 35.832,75.1601\" style=\"fill:none;fill-rule:evenodd;stroke:#000000;stroke-width:2px;stroke-linecap:butt;stroke-linejoin:miter;stroke-opacity:1\"/>\n",
       "<path d=\"M 102.575,116.849 118.687,112.035\" style=\"fill:none;fill-rule:evenodd;stroke:#000000;stroke-width:2px;stroke-linecap:butt;stroke-linejoin:miter;stroke-opacity:1\"/>\n",
       "<path d=\"M 104.029,112.904 115.308,109.534\" style=\"fill:none;fill-rule:evenodd;stroke:#000000;stroke-width:2px;stroke-linecap:butt;stroke-linejoin:miter;stroke-opacity:1\"/>\n",
       "<path d=\"M 159.249,130.314 155.362,146.674\" style=\"fill:none;fill-rule:evenodd;stroke:#000000;stroke-width:2px;stroke-linecap:butt;stroke-linejoin:miter;stroke-opacity:1\"/>\n",
       "<path d=\"M 155.394,131.99 152.673,143.443\" style=\"fill:none;fill-rule:evenodd;stroke:#000000;stroke-width:2px;stroke-linecap:butt;stroke-linejoin:miter;stroke-opacity:1\"/>\n",
       "<text style=\"font-size:5px;font-style:normal;font-weight:normal;fill-opacity:1;stroke:none;font-family:sans-serif;text-anchor:start;fill:#CCCC00\" x=\"164.779\" y=\"100.396\"><tspan>S</tspan></text>\n",
       "<text style=\"font-size:5px;font-style:normal;font-weight:normal;fill-opacity:1;stroke:none;font-family:sans-serif;text-anchor:start;fill:#FF0000\" x=\"139.956\" y=\"77.3028\"><tspan>O</tspan></text>\n",
       "<text style=\"font-size:5px;font-style:normal;font-weight:normal;fill-opacity:1;stroke:none;font-family:sans-serif;text-anchor:start;fill:#FF0000\" x=\"71.6207\" y=\"112.919\"><tspan>O</tspan></text>\n",
       "<text style=\"font-size:5px;font-style:normal;font-weight:normal;fill-opacity:1;stroke:none;font-family:sans-serif;text-anchor:start;fill:#0000FF\" x=\"31.2472\" y=\"94.6397\"><tspan>N</tspan></text>\n",
       "<text style=\"font-size:11px;font-style:normal;font-weight:normal;fill-opacity:1;stroke:none;font-family:sans-serif;text-anchor:start;fill:#000000\" x=\"91.9904\" y=\"194\"><tspan>31</tspan></text>\n",
       "</g>\n",
       "<g transform=\"translate(0,200)\"><rect height=\"200\" style=\"opacity:1.0;fill:#FFFFFF;stroke:none\" width=\"200\" x=\"0\" y=\"0\"> </rect>\n",
       "<path d=\"M 10.5418,75.8262 24.6981,69.3285\" style=\"fill:none;fill-rule:evenodd;stroke:#000000;stroke-width:2px;stroke-linecap:butt;stroke-linejoin:miter;stroke-opacity:1\"/>\n",
       "<path d=\"M 13.9648,77.6828 23.8742,73.1344\" style=\"fill:none;fill-rule:evenodd;stroke:#000000;stroke-width:2px;stroke-linecap:butt;stroke-linejoin:miter;stroke-opacity:1\"/>\n",
       "<path d=\"M 10.5418,75.8262 9.09091,91.3348\" style=\"fill:none;fill-rule:evenodd;stroke:#000000;stroke-width:2px;stroke-linecap:butt;stroke-linejoin:miter;stroke-opacity:1\"/>\n",
       "<path d=\"M 24.6981,69.3285 37.4034,78.3393\" style=\"fill:none;fill-rule:evenodd;stroke:#000000;stroke-width:2px;stroke-linecap:butt;stroke-linejoin:miter;stroke-opacity:1\"/>\n",
       "<path d=\"M 37.4034,78.3393 35.9525,93.8478\" style=\"fill:none;fill-rule:evenodd;stroke:#000000;stroke-width:2px;stroke-linecap:butt;stroke-linejoin:miter;stroke-opacity:1\"/>\n",
       "<path d=\"M 34.0841,80.3754 33.0684,91.2314\" style=\"fill:none;fill-rule:evenodd;stroke:#000000;stroke-width:2px;stroke-linecap:butt;stroke-linejoin:miter;stroke-opacity:1\"/>\n",
       "<path d=\"M 35.9525,93.8478 48.6578,102.859\" style=\"fill:none;fill-rule:evenodd;stroke:#000000;stroke-width:2px;stroke-linecap:butt;stroke-linejoin:miter;stroke-opacity:1\"/>\n",
       "<path d=\"M 35.9525,93.8478 21.7962,100.346\" style=\"fill:none;fill-rule:evenodd;stroke:#000000;stroke-width:2px;stroke-linecap:butt;stroke-linejoin:miter;stroke-opacity:1\"/>\n",
       "<path d=\"M 48.6578,102.859 48.8359,118.434\" style=\"fill:none;fill-rule:evenodd;stroke:#000000;stroke-width:2px;stroke-linecap:butt;stroke-linejoin:miter;stroke-opacity:1\"/>\n",
       "<path d=\"M 51.7996,105.159 51.9242,116.062\" style=\"fill:none;fill-rule:evenodd;stroke:#000000;stroke-width:2px;stroke-linecap:butt;stroke-linejoin:miter;stroke-opacity:1\"/>\n",
       "<path d=\"M 48.6578,102.859 54.9117,100.747\" style=\"fill:none;fill-rule:evenodd;stroke:#000000;stroke-width:2px;stroke-linecap:butt;stroke-linejoin:miter;stroke-opacity:1\"/>\n",
       "<path d=\"M 54.9117,100.747 61.1656,98.6359\" style=\"fill:none;fill-rule:evenodd;stroke:#0000FF;stroke-width:2px;stroke-linecap:butt;stroke-linejoin:miter;stroke-opacity:1\"/>\n",
       "<path d=\"M 48.8359,118.434 63.7039,123.078\" style=\"fill:none;fill-rule:evenodd;stroke:#000000;stroke-width:2px;stroke-linecap:butt;stroke-linejoin:miter;stroke-opacity:1\"/>\n",
       "<path d=\"M 63.7039,123.078 70.2016,137.234\" style=\"fill:none;fill-rule:evenodd;stroke:#000000;stroke-width:2px;stroke-linecap:butt;stroke-linejoin:miter;stroke-opacity:1\"/>\n",
       "<path d=\"M 67.5098,123.901 72.0582,133.811\" style=\"fill:none;fill-rule:evenodd;stroke:#000000;stroke-width:2px;stroke-linecap:butt;stroke-linejoin:miter;stroke-opacity:1\"/>\n",
       "<path d=\"M 63.7039,123.078 72.7147,110.372\" style=\"fill:none;fill-rule:evenodd;stroke:#000000;stroke-width:2px;stroke-linecap:butt;stroke-linejoin:miter;stroke-opacity:1\"/>\n",
       "<path d=\"M 70.2016,137.234 85.7101,138.685\" style=\"fill:none;fill-rule:evenodd;stroke:#000000;stroke-width:2px;stroke-linecap:butt;stroke-linejoin:miter;stroke-opacity:1\"/>\n",
       "<path d=\"M 85.7101,138.685 94.7209,125.979\" style=\"fill:none;fill-rule:evenodd;stroke:#000000;stroke-width:2px;stroke-linecap:butt;stroke-linejoin:miter;stroke-opacity:1\"/>\n",
       "<path d=\"M 84.5207,134.977 90.8282,126.083\" style=\"fill:none;fill-rule:evenodd;stroke:#000000;stroke-width:2px;stroke-linecap:butt;stroke-linejoin:miter;stroke-opacity:1\"/>\n",
       "<path d=\"M 94.7209,125.979 88.2232,111.823\" style=\"fill:none;fill-rule:evenodd;stroke:#000000;stroke-width:2px;stroke-linecap:butt;stroke-linejoin:miter;stroke-opacity:1\"/>\n",
       "<path d=\"M 88.2232,111.823 72.7147,110.372\" style=\"fill:none;fill-rule:evenodd;stroke:#000000;stroke-width:2px;stroke-linecap:butt;stroke-linejoin:miter;stroke-opacity:1\"/>\n",
       "<path d=\"M 85.6067,114.707 74.7508,113.692\" style=\"fill:none;fill-rule:evenodd;stroke:#000000;stroke-width:2px;stroke-linecap:butt;stroke-linejoin:miter;stroke-opacity:1\"/>\n",
       "<path d=\"M 72.7147,110.372 69.0311,105.422\" style=\"fill:none;fill-rule:evenodd;stroke:#000000;stroke-width:2px;stroke-linecap:butt;stroke-linejoin:miter;stroke-opacity:1\"/>\n",
       "<path d=\"M 69.0311,105.422 65.3476,100.472\" style=\"fill:none;fill-rule:evenodd;stroke:#0000FF;stroke-width:2px;stroke-linecap:butt;stroke-linejoin:miter;stroke-opacity:1\"/>\n",
       "<path d=\"M 64.2265,95.2802 66.1429,89.1442\" style=\"fill:none;fill-rule:evenodd;stroke:#0000FF;stroke-width:2px;stroke-linecap:butt;stroke-linejoin:miter;stroke-opacity:1\"/>\n",
       "<path d=\"M 66.1429,89.1442 68.0593,83.0083\" style=\"fill:none;fill-rule:evenodd;stroke:#000000;stroke-width:2px;stroke-linecap:butt;stroke-linejoin:miter;stroke-opacity:1\"/>\n",
       "<path d=\"M 68.0593,83.0083 83.2572,79.5958\" style=\"fill:none;fill-rule:evenodd;stroke:#000000;stroke-width:2px;stroke-linecap:butt;stroke-linejoin:miter;stroke-opacity:1\"/>\n",
       "<path d=\"M 83.2572,79.5958 93.8114,91.0513\" style=\"fill:none;fill-rule:evenodd;stroke:#000000;stroke-width:2px;stroke-linecap:butt;stroke-linejoin:miter;stroke-opacity:1\"/>\n",
       "<path d=\"M 87.1314,79.2033 94.5193,87.2221\" style=\"fill:none;fill-rule:evenodd;stroke:#000000;stroke-width:2px;stroke-linecap:butt;stroke-linejoin:miter;stroke-opacity:1\"/>\n",
       "<path d=\"M 83.2572,79.5958 87.9008,64.7278\" style=\"fill:none;fill-rule:evenodd;stroke:#000000;stroke-width:2px;stroke-linecap:butt;stroke-linejoin:miter;stroke-opacity:1\"/>\n",
       "<path d=\"M 93.8114,91.0513 109.009,87.6388\" style=\"fill:none;fill-rule:evenodd;stroke:#000000;stroke-width:2px;stroke-linecap:butt;stroke-linejoin:miter;stroke-opacity:1\"/>\n",
       "<path d=\"M 109.009,87.6388 113.653,72.7708\" style=\"fill:none;fill-rule:evenodd;stroke:#000000;stroke-width:2px;stroke-linecap:butt;stroke-linejoin:miter;stroke-opacity:1\"/>\n",
       "<path d=\"M 106.732,84.4799 109.983,74.0723\" style=\"fill:none;fill-rule:evenodd;stroke:#000000;stroke-width:2px;stroke-linecap:butt;stroke-linejoin:miter;stroke-opacity:1\"/>\n",
       "<path d=\"M 113.653,72.7708 120.039,71.3368\" style=\"fill:none;fill-rule:evenodd;stroke:#000000;stroke-width:2px;stroke-linecap:butt;stroke-linejoin:miter;stroke-opacity:1\"/>\n",
       "<path d=\"M 120.039,71.3368 126.426,69.9027\" style=\"fill:none;fill-rule:evenodd;stroke:#FF0000;stroke-width:2px;stroke-linecap:butt;stroke-linejoin:miter;stroke-opacity:1\"/>\n",
       "<path d=\"M 113.653,72.7708 103.099,61.3153\" style=\"fill:none;fill-rule:evenodd;stroke:#000000;stroke-width:2px;stroke-linecap:butt;stroke-linejoin:miter;stroke-opacity:1\"/>\n",
       "<path d=\"M 131.243,71.9544 135.324,76.3841\" style=\"fill:none;fill-rule:evenodd;stroke:#FF0000;stroke-width:2px;stroke-linecap:butt;stroke-linejoin:miter;stroke-opacity:1\"/>\n",
       "<path d=\"M 135.324,76.3841 139.405,80.8138\" style=\"fill:none;fill-rule:evenodd;stroke:#000000;stroke-width:2px;stroke-linecap:butt;stroke-linejoin:miter;stroke-opacity:1\"/>\n",
       "<path d=\"M 139.405,80.8138 154.603,77.4013\" style=\"fill:none;fill-rule:evenodd;stroke:#000000;stroke-width:2px;stroke-linecap:butt;stroke-linejoin:miter;stroke-opacity:1\"/>\n",
       "<path d=\"M 154.603,77.4013 158.755,81.9079\" style=\"fill:none;fill-rule:evenodd;stroke:#000000;stroke-width:2px;stroke-linecap:butt;stroke-linejoin:miter;stroke-opacity:1\"/>\n",
       "<path d=\"M 158.755,81.9079 162.907,86.4145\" style=\"fill:none;fill-rule:evenodd;stroke:#0000FF;stroke-width:2px;stroke-linecap:butt;stroke-linejoin:miter;stroke-opacity:1\"/>\n",
       "<path d=\"M 164.346,91.4528 162.43,97.5888\" style=\"fill:none;fill-rule:evenodd;stroke:#0000FF;stroke-width:2px;stroke-linecap:butt;stroke-linejoin:miter;stroke-opacity:1\"/>\n",
       "<path d=\"M 162.43,97.5888 160.513,103.725\" style=\"fill:none;fill-rule:evenodd;stroke:#000000;stroke-width:2px;stroke-linecap:butt;stroke-linejoin:miter;stroke-opacity:1\"/>\n",
       "<path d=\"M 167.407,88.3516 173.881,86.8979\" style=\"fill:none;fill-rule:evenodd;stroke:#0000FF;stroke-width:2px;stroke-linecap:butt;stroke-linejoin:miter;stroke-opacity:1\"/>\n",
       "<path d=\"M 173.881,86.8979 180.355,85.4443\" style=\"fill:none;fill-rule:evenodd;stroke:#000000;stroke-width:2px;stroke-linecap:butt;stroke-linejoin:miter;stroke-opacity:1\"/>\n",
       "<path d=\"M 160.513,103.725 171.068,115.18\" style=\"fill:none;fill-rule:evenodd;stroke:#000000;stroke-width:2px;stroke-linecap:butt;stroke-linejoin:miter;stroke-opacity:1\"/>\n",
       "<path d=\"M 171.068,115.18 186.265,111.768\" style=\"fill:none;fill-rule:evenodd;stroke:#000000;stroke-width:2px;stroke-linecap:butt;stroke-linejoin:miter;stroke-opacity:1\"/>\n",
       "<path d=\"M 186.265,111.768 190.909,96.8998\" style=\"fill:none;fill-rule:evenodd;stroke:#000000;stroke-width:2px;stroke-linecap:butt;stroke-linejoin:miter;stroke-opacity:1\"/>\n",
       "<path d=\"M 190.909,96.8998 180.355,85.4443\" style=\"fill:none;fill-rule:evenodd;stroke:#000000;stroke-width:2px;stroke-linecap:butt;stroke-linejoin:miter;stroke-opacity:1\"/>\n",
       "<path d=\"M 103.099,61.3153 87.9008,64.7278\" style=\"fill:none;fill-rule:evenodd;stroke:#000000;stroke-width:2px;stroke-linecap:butt;stroke-linejoin:miter;stroke-opacity:1\"/>\n",
       "<path d=\"M 101.501,64.8668 90.863,67.2555\" style=\"fill:none;fill-rule:evenodd;stroke:#000000;stroke-width:2px;stroke-linecap:butt;stroke-linejoin:miter;stroke-opacity:1\"/>\n",
       "<path d=\"M 21.7962,100.346 9.09091,91.3348\" style=\"fill:none;fill-rule:evenodd;stroke:#000000;stroke-width:2px;stroke-linecap:butt;stroke-linejoin:miter;stroke-opacity:1\"/>\n",
       "<path d=\"M 21.6926,96.4529 12.7989,90.1453\" style=\"fill:none;fill-rule:evenodd;stroke:#000000;stroke-width:2px;stroke-linecap:butt;stroke-linejoin:miter;stroke-opacity:1\"/>\n",
       "<text style=\"font-size:5px;font-style:normal;font-weight:normal;fill-opacity:1;stroke:none;font-family:sans-serif;text-anchor:start;fill:#0000FF\" x=\"61.1656\" y=\"100.472\"><tspan>N</tspan></text>\n",
       "<text style=\"font-size:5px;font-style:normal;font-weight:normal;fill-opacity:1;stroke:none;font-family:sans-serif;text-anchor:start;fill:#FF0000\" x=\"126.426\" y=\"71.9544\"><tspan>O</tspan></text>\n",
       "<text style=\"font-size:5px;font-style:normal;font-weight:normal;fill-opacity:1;stroke:none;font-family:sans-serif;text-anchor:start;fill:#0000FF\" x=\"162.907\" y=\"91.4528\"><tspan>N</tspan></text>\n",
       "<text style=\"font-size:12px;font-style:normal;font-weight:normal;fill-opacity:1;stroke:none;font-family:sans-serif;text-anchor:start;fill:#000000\" x=\"91.9904\" y=\"194\"><tspan>29</tspan></text>\n",
       "</g>\n",
       "<g transform=\"translate(200,200)\"><rect height=\"200\" style=\"opacity:1.0;fill:#FFFFFF;stroke:none\" width=\"200\" x=\"0\" y=\"0\"> </rect>\n",
       "<path d=\"M 91.6598,60.0336 108.34,82.184\" style=\"fill:none;fill-rule:evenodd;stroke:#000000;stroke-width:2px;stroke-linecap:butt;stroke-linejoin:miter;stroke-opacity:1\"/>\n",
       "<path d=\"M 89.7318,66.6922 101.408,82.1975\" style=\"fill:none;fill-rule:evenodd;stroke:#000000;stroke-width:2px;stroke-linecap:butt;stroke-linejoin:miter;stroke-opacity:1\"/>\n",
       "<path d=\"M 91.6598,60.0336 64.1369,63.404\" style=\"fill:none;fill-rule:evenodd;stroke:#000000;stroke-width:2px;stroke-linecap:butt;stroke-linejoin:miter;stroke-opacity:1\"/>\n",
       "<path d=\"M 108.34,82.184 135.863,78.8136\" style=\"fill:none;fill-rule:evenodd;stroke:#000000;stroke-width:2px;stroke-linecap:butt;stroke-linejoin:miter;stroke-opacity:1\"/>\n",
       "<path d=\"M 108.34,82.184 97.4976,107.705\" style=\"fill:none;fill-rule:evenodd;stroke:#000000;stroke-width:2px;stroke-linecap:butt;stroke-linejoin:miter;stroke-opacity:1\"/>\n",
       "<path d=\"M 135.863,78.8136 152.543,100.964\" style=\"fill:none;fill-rule:evenodd;stroke:#000000;stroke-width:2px;stroke-linecap:butt;stroke-linejoin:miter;stroke-opacity:1\"/>\n",
       "<path d=\"M 142.795,78.8001 154.472,94.3053\" style=\"fill:none;fill-rule:evenodd;stroke:#000000;stroke-width:2px;stroke-linecap:butt;stroke-linejoin:miter;stroke-opacity:1\"/>\n",
       "<path d=\"M 135.863,78.8136 146.706,53.2928\" style=\"fill:none;fill-rule:evenodd;stroke:#000000;stroke-width:2px;stroke-linecap:butt;stroke-linejoin:miter;stroke-opacity:1\"/>\n",
       "<path d=\"M 152.543,100.964 180.066,97.5935\" style=\"fill:none;fill-rule:evenodd;stroke:#000000;stroke-width:2px;stroke-linecap:butt;stroke-linejoin:miter;stroke-opacity:1\"/>\n",
       "<path d=\"M 180.066,97.5935 190.909,72.0727\" style=\"fill:none;fill-rule:evenodd;stroke:#000000;stroke-width:2px;stroke-linecap:butt;stroke-linejoin:miter;stroke-opacity:1\"/>\n",
       "<path d=\"M 176.589,91.5969 184.179,73.7323\" style=\"fill:none;fill-rule:evenodd;stroke:#000000;stroke-width:2px;stroke-linecap:butt;stroke-linejoin:miter;stroke-opacity:1\"/>\n",
       "<path d=\"M 190.909,72.0727 174.229,49.9224\" style=\"fill:none;fill-rule:evenodd;stroke:#000000;stroke-width:2px;stroke-linecap:butt;stroke-linejoin:miter;stroke-opacity:1\"/>\n",
       "<path d=\"M 174.229,49.9224 146.706,53.2928\" style=\"fill:none;fill-rule:evenodd;stroke:#000000;stroke-width:2px;stroke-linecap:butt;stroke-linejoin:miter;stroke-opacity:1\"/>\n",
       "<path d=\"M 170.774,55.9325 151.508,58.2918\" style=\"fill:none;fill-rule:evenodd;stroke:#000000;stroke-width:2px;stroke-linecap:butt;stroke-linejoin:miter;stroke-opacity:1\"/>\n",
       "<path d=\"M 97.4976,107.705 69.9746,111.075\" style=\"fill:none;fill-rule:evenodd;stroke:#000000;stroke-width:2px;stroke-linecap:butt;stroke-linejoin:miter;stroke-opacity:1\"/>\n",
       "<path d=\"M 94.0432,113.715 74.7771,116.074\" style=\"fill:none;fill-rule:evenodd;stroke:#000000;stroke-width:2px;stroke-linecap:butt;stroke-linejoin:miter;stroke-opacity:1\"/>\n",
       "<path d=\"M 97.4976,107.705 114.178,129.855\" style=\"fill:none;fill-rule:evenodd;stroke:#000000;stroke-width:2px;stroke-linecap:butt;stroke-linejoin:miter;stroke-opacity:1\"/>\n",
       "<path d=\"M 69.9746,111.075 59.132,136.596\" style=\"fill:none;fill-rule:evenodd;stroke:#000000;stroke-width:2px;stroke-linecap:butt;stroke-linejoin:miter;stroke-opacity:1\"/>\n",
       "<path d=\"M 59.132,136.596 75.8123,158.746\" style=\"fill:none;fill-rule:evenodd;stroke:#000000;stroke-width:2px;stroke-linecap:butt;stroke-linejoin:miter;stroke-opacity:1\"/>\n",
       "<path d=\"M 66.0641,136.582 77.7403,152.088\" style=\"fill:none;fill-rule:evenodd;stroke:#000000;stroke-width:2px;stroke-linecap:butt;stroke-linejoin:miter;stroke-opacity:1\"/>\n",
       "<path d=\"M 75.8123,158.746 103.335,155.376\" style=\"fill:none;fill-rule:evenodd;stroke:#000000;stroke-width:2px;stroke-linecap:butt;stroke-linejoin:miter;stroke-opacity:1\"/>\n",
       "<path d=\"M 103.335,155.376 114.178,129.855\" style=\"fill:none;fill-rule:evenodd;stroke:#000000;stroke-width:2px;stroke-linecap:butt;stroke-linejoin:miter;stroke-opacity:1\"/>\n",
       "<path d=\"M 99.8575,149.379 107.447,131.515\" style=\"fill:none;fill-rule:evenodd;stroke:#000000;stroke-width:2px;stroke-linecap:butt;stroke-linejoin:miter;stroke-opacity:1\"/>\n",
       "<path d=\"M 64.1369,63.404 47.4565,41.2536\" style=\"fill:none;fill-rule:evenodd;stroke:#000000;stroke-width:2px;stroke-linecap:butt;stroke-linejoin:miter;stroke-opacity:1\"/>\n",
       "<path d=\"M 57.2047,63.4175 45.5285,47.9122\" style=\"fill:none;fill-rule:evenodd;stroke:#000000;stroke-width:2px;stroke-linecap:butt;stroke-linejoin:miter;stroke-opacity:1\"/>\n",
       "<path d=\"M 64.1369,63.404 53.2942,88.9248\" style=\"fill:none;fill-rule:evenodd;stroke:#000000;stroke-width:2px;stroke-linecap:butt;stroke-linejoin:miter;stroke-opacity:1\"/>\n",
       "<path d=\"M 47.4565,41.2536 19.9335,44.624\" style=\"fill:none;fill-rule:evenodd;stroke:#000000;stroke-width:2px;stroke-linecap:butt;stroke-linejoin:miter;stroke-opacity:1\"/>\n",
       "<path d=\"M 19.9335,44.624 9.09091,70.1448\" style=\"fill:none;fill-rule:evenodd;stroke:#000000;stroke-width:2px;stroke-linecap:butt;stroke-linejoin:miter;stroke-opacity:1\"/>\n",
       "<path d=\"M 23.4113,50.6207 15.8215,68.4852\" style=\"fill:none;fill-rule:evenodd;stroke:#000000;stroke-width:2px;stroke-linecap:butt;stroke-linejoin:miter;stroke-opacity:1\"/>\n",
       "<path d=\"M 9.09091,70.1448 25.7713,92.2952\" style=\"fill:none;fill-rule:evenodd;stroke:#000000;stroke-width:2px;stroke-linecap:butt;stroke-linejoin:miter;stroke-opacity:1\"/>\n",
       "<path d=\"M 25.7713,92.2952 53.2942,88.9248\" style=\"fill:none;fill-rule:evenodd;stroke:#000000;stroke-width:2px;stroke-linecap:butt;stroke-linejoin:miter;stroke-opacity:1\"/>\n",
       "<path d=\"M 29.2256,86.2851 48.4917,83.9258\" style=\"fill:none;fill-rule:evenodd;stroke:#000000;stroke-width:2px;stroke-linecap:butt;stroke-linejoin:miter;stroke-opacity:1\"/>\n",
       "<text style=\"font-size:12px;font-style:normal;font-weight:normal;fill-opacity:1;stroke:none;font-family:sans-serif;text-anchor:start;fill:#000000\" x=\"91.9904\" y=\"194\"><tspan>26</tspan></text>\n",
       "</g>\n",
       "<g transform=\"translate(400,200)\"><rect height=\"200\" style=\"opacity:1.0;fill:#FFFFFF;stroke:none\" width=\"200\" x=\"0\" y=\"0\"> </rect>\n",
       "<path d=\"M 25.8505,136.004 35.4458,127.907\" style=\"fill:none;fill-rule:evenodd;stroke:#FF0000;stroke-width:2px;stroke-linecap:butt;stroke-linejoin:miter;stroke-opacity:1\"/>\n",
       "<path d=\"M 35.4458,127.907 45.0411,119.809\" style=\"fill:none;fill-rule:evenodd;stroke:#000000;stroke-width:2px;stroke-linecap:butt;stroke-linejoin:miter;stroke-opacity:1\"/>\n",
       "<path d=\"M 21.783,131.184 31.3783,123.087\" style=\"fill:none;fill-rule:evenodd;stroke:#FF0000;stroke-width:2px;stroke-linecap:butt;stroke-linejoin:miter;stroke-opacity:1\"/>\n",
       "<path d=\"M 31.3783,123.087 40.9736,114.989\" style=\"fill:none;fill-rule:evenodd;stroke:#000000;stroke-width:2px;stroke-linecap:butt;stroke-linejoin:miter;stroke-opacity:1\"/>\n",
       "<path d=\"M 43.0073,117.399 72.6696,128.101\" style=\"fill:none;fill-rule:evenodd;stroke:#000000;stroke-width:2px;stroke-linecap:butt;stroke-linejoin:miter;stroke-opacity:1\"/>\n",
       "<path d=\"M 43.0073,117.399 37.4443,86.3602\" style=\"fill:none;fill-rule:evenodd;stroke:#000000;stroke-width:2px;stroke-linecap:butt;stroke-linejoin:miter;stroke-opacity:1\"/>\n",
       "<path d=\"M 72.6696,128.101 96.7687,107.764\" style=\"fill:none;fill-rule:evenodd;stroke:#000000;stroke-width:2px;stroke-linecap:butt;stroke-linejoin:miter;stroke-opacity:1\"/>\n",
       "<path d=\"M 72.217,120.231 89.0864,105.995\" style=\"fill:none;fill-rule:evenodd;stroke:#000000;stroke-width:2px;stroke-linecap:butt;stroke-linejoin:miter;stroke-opacity:1\"/>\n",
       "<path d=\"M 96.7687,107.764 128.008,112.065\" style=\"fill:none;fill-rule:evenodd;stroke:#000000;stroke-width:2px;stroke-linecap:butt;stroke-linejoin:miter;stroke-opacity:1\"/>\n",
       "<path d=\"M 96.7687,107.764 91.2057,76.7247\" style=\"fill:none;fill-rule:evenodd;stroke:#000000;stroke-width:2px;stroke-linecap:butt;stroke-linejoin:miter;stroke-opacity:1\"/>\n",
       "<path d=\"M 128.008,112.065 145.715,138.158\" style=\"fill:none;fill-rule:evenodd;stroke:#000000;stroke-width:2px;stroke-linecap:butt;stroke-linejoin:miter;stroke-opacity:1\"/>\n",
       "<path d=\"M 135.882,112.437 148.277,130.702\" style=\"fill:none;fill-rule:evenodd;stroke:#000000;stroke-width:2px;stroke-linecap:butt;stroke-linejoin:miter;stroke-opacity:1\"/>\n",
       "<path d=\"M 128.008,112.065 141.752,83.6836\" style=\"fill:none;fill-rule:evenodd;stroke:#000000;stroke-width:2px;stroke-linecap:butt;stroke-linejoin:miter;stroke-opacity:1\"/>\n",
       "<path d=\"M 145.715,138.158 177.165,135.87\" style=\"fill:none;fill-rule:evenodd;stroke:#000000;stroke-width:2px;stroke-linecap:butt;stroke-linejoin:miter;stroke-opacity:1\"/>\n",
       "<path d=\"M 177.165,135.87 190.909,107.488\" style=\"fill:none;fill-rule:evenodd;stroke:#000000;stroke-width:2px;stroke-linecap:butt;stroke-linejoin:miter;stroke-opacity:1\"/>\n",
       "<path d=\"M 173.551,128.864 183.171,108.997\" style=\"fill:none;fill-rule:evenodd;stroke:#000000;stroke-width:2px;stroke-linecap:butt;stroke-linejoin:miter;stroke-opacity:1\"/>\n",
       "<path d=\"M 190.909,107.488 173.202,81.3955\" style=\"fill:none;fill-rule:evenodd;stroke:#000000;stroke-width:2px;stroke-linecap:butt;stroke-linejoin:miter;stroke-opacity:1\"/>\n",
       "<path d=\"M 173.202,81.3955 141.752,83.6836\" style=\"fill:none;fill-rule:evenodd;stroke:#000000;stroke-width:2px;stroke-linecap:butt;stroke-linejoin:miter;stroke-opacity:1\"/>\n",
       "<path d=\"M 168.942,88.0288 146.927,89.6305\" style=\"fill:none;fill-rule:evenodd;stroke:#000000;stroke-width:2px;stroke-linecap:butt;stroke-linejoin:miter;stroke-opacity:1\"/>\n",
       "<path d=\"M 141.752,83.6836 119.007,61.8423\" style=\"fill:none;fill-rule:evenodd;stroke:#000000;stroke-width:2px;stroke-linecap:butt;stroke-linejoin:miter;stroke-opacity:1\"/>\n",
       "<path d=\"M 119.007,61.8423 91.2057,76.7247\" style=\"fill:none;fill-rule:evenodd;stroke:#000000;stroke-width:2px;stroke-linecap:butt;stroke-linejoin:miter;stroke-opacity:1\"/>\n",
       "<path d=\"M 91.2057,76.7247 61.5434,66.0229\" style=\"fill:none;fill-rule:evenodd;stroke:#000000;stroke-width:2px;stroke-linecap:butt;stroke-linejoin:miter;stroke-opacity:1\"/>\n",
       "<path d=\"M 61.5434,66.0229 37.4443,86.3602\" style=\"fill:none;fill-rule:evenodd;stroke:#000000;stroke-width:2px;stroke-linecap:butt;stroke-linejoin:miter;stroke-opacity:1\"/>\n",
       "<text style=\"font-size:10px;font-style:normal;font-weight:normal;fill-opacity:1;stroke:none;font-family:sans-serif;text-anchor:start;fill:#FF0000\" x=\"13.9995\" y=\"142.992\"><tspan>O</tspan></text>\n",
       "<text style=\"font-size:12px;font-style:normal;font-weight:normal;fill-opacity:1;stroke:none;font-family:sans-serif;text-anchor:start;fill:#000000\" x=\"91.9904\" y=\"194\"><tspan>26</tspan></text>\n",
       "</g>\n",
       "<g transform=\"translate(600,200)\"><rect height=\"200\" style=\"opacity:1.0;fill:#FFFFFF;stroke:none\" width=\"200\" x=\"0\" y=\"0\"> </rect>\n",
       "<path d=\"M 126.468,142.291 144.088,118.744\" style=\"fill:none;fill-rule:evenodd;stroke:#000000;stroke-width:2px;stroke-linecap:butt;stroke-linejoin:miter;stroke-opacity:1\"/>\n",
       "<path d=\"M 124.402,135.235 136.735,118.752\" style=\"fill:none;fill-rule:evenodd;stroke:#000000;stroke-width:2px;stroke-linecap:butt;stroke-linejoin:miter;stroke-opacity:1\"/>\n",
       "<path d=\"M 126.468,142.291 97.2662,138.806\" style=\"fill:none;fill-rule:evenodd;stroke:#000000;stroke-width:2px;stroke-linecap:butt;stroke-linejoin:miter;stroke-opacity:1\"/>\n",
       "<path d=\"M 144.088,118.744 173.29,122.229\" style=\"fill:none;fill-rule:evenodd;stroke:#000000;stroke-width:2px;stroke-linecap:butt;stroke-linejoin:miter;stroke-opacity:1\"/>\n",
       "<path d=\"M 144.088,118.744 132.505,91.7113\" style=\"fill:none;fill-rule:evenodd;stroke:#000000;stroke-width:2px;stroke-linecap:butt;stroke-linejoin:miter;stroke-opacity:1\"/>\n",
       "<path d=\"M 173.29,122.229 190.909,98.6813\" style=\"fill:none;fill-rule:evenodd;stroke:#000000;stroke-width:2px;stroke-linecap:butt;stroke-linejoin:miter;stroke-opacity:1\"/>\n",
       "<path d=\"M 190.909,98.6813 179.326,71.6489\" style=\"fill:none;fill-rule:evenodd;stroke:#000000;stroke-width:2px;stroke-linecap:butt;stroke-linejoin:miter;stroke-opacity:1\"/>\n",
       "<path d=\"M 179.326,71.6489 150.124,68.1639\" style=\"fill:none;fill-rule:evenodd;stroke:#000000;stroke-width:2px;stroke-linecap:butt;stroke-linejoin:miter;stroke-opacity:1\"/>\n",
       "<path d=\"M 150.124,68.1639 132.505,91.7113\" style=\"fill:none;fill-rule:evenodd;stroke:#000000;stroke-width:2px;stroke-linecap:butt;stroke-linejoin:miter;stroke-opacity:1\"/>\n",
       "<path d=\"M 132.505,91.7113 103.302,88.2263\" style=\"fill:none;fill-rule:evenodd;stroke:#000000;stroke-width:2px;stroke-linecap:butt;stroke-linejoin:miter;stroke-opacity:1\"/>\n",
       "<path d=\"M 103.302,88.2263 91.7194,61.1939\" style=\"fill:none;fill-rule:evenodd;stroke:#000000;stroke-width:2px;stroke-linecap:butt;stroke-linejoin:miter;stroke-opacity:1\"/>\n",
       "<path d=\"M 103.302,88.2263 85.6832,111.774\" style=\"fill:none;fill-rule:evenodd;stroke:#000000;stroke-width:2px;stroke-linecap:butt;stroke-linejoin:miter;stroke-opacity:1\"/>\n",
       "<path d=\"M 91.7194,61.1939 62.5171,57.709\" style=\"fill:none;fill-rule:evenodd;stroke:#000000;stroke-width:2px;stroke-linecap:butt;stroke-linejoin:miter;stroke-opacity:1\"/>\n",
       "<path d=\"M 62.5171,57.709 44.8979,81.2563\" style=\"fill:none;fill-rule:evenodd;stroke:#000000;stroke-width:2px;stroke-linecap:butt;stroke-linejoin:miter;stroke-opacity:1\"/>\n",
       "<path d=\"M 44.8979,81.2563 15.6093,83.919\" style=\"fill:none;fill-rule:evenodd;stroke:#000000;stroke-width:2px;stroke-linecap:butt;stroke-linejoin:miter;stroke-opacity:1\"/>\n",
       "<path d=\"M 44.8979,81.2563 56.481,108.289\" style=\"fill:none;fill-rule:evenodd;stroke:#000000;stroke-width:2px;stroke-linecap:butt;stroke-linejoin:miter;stroke-opacity:1\"/>\n",
       "<path d=\"M 15.6093,83.919 9.09091,112.597\" style=\"fill:none;fill-rule:evenodd;stroke:#000000;stroke-width:2px;stroke-linecap:butt;stroke-linejoin:miter;stroke-opacity:1\"/>\n",
       "<path d=\"M 9.09091,112.597 34.351,127.658\" style=\"fill:none;fill-rule:evenodd;stroke:#000000;stroke-width:2px;stroke-linecap:butt;stroke-linejoin:miter;stroke-opacity:1\"/>\n",
       "<path d=\"M 34.351,127.658 56.481,108.289\" style=\"fill:none;fill-rule:evenodd;stroke:#000000;stroke-width:2px;stroke-linecap:butt;stroke-linejoin:miter;stroke-opacity:1\"/>\n",
       "<path d=\"M 56.481,108.289 85.6832,111.774\" style=\"fill:none;fill-rule:evenodd;stroke:#000000;stroke-width:2px;stroke-linecap:butt;stroke-linejoin:miter;stroke-opacity:1\"/>\n",
       "<path d=\"M 85.6832,111.774 97.2662,138.806\" style=\"fill:none;fill-rule:evenodd;stroke:#000000;stroke-width:2px;stroke-linecap:butt;stroke-linejoin:miter;stroke-opacity:1\"/>\n",
       "<text style=\"font-size:12px;font-style:normal;font-weight:normal;fill-opacity:1;stroke:none;font-family:sans-serif;text-anchor:start;fill:#000000\" x=\"91.9904\" y=\"194\"><tspan>25</tspan></text>\n",
       "</g></svg>"
      ],
      "text/plain": [
       "<IPython.core.display.SVG object>"
      ]
     },
     "execution_count": 38,
     "metadata": {},
     "output_type": "execute_result"
    }
   ],
   "source": [
    "PandasTools.FrameToGridImage(sortedScaffolds.dropna().head(8), legendsCol='count', \n",
    "                             molsPerRow=4) # dropna() drops compounds without scaffold"
   ]
  },
  {
   "cell_type": "markdown",
   "metadata": {},
   "source": [
    "Get compounds that belong to certain scaffold"
   ]
  },
  {
   "cell_type": "code",
   "execution_count": 39,
   "metadata": {
    "collapsed": false
   },
   "outputs": [
    {
     "data": {
      "image/svg+xml": [
       "<svg baseProfile=\"full\" height=\"200px\" version=\"1.1\" width=\"800px\" xml:space=\"preserve\" xmlns:rdkit=\"http://www.rdkit.org/xml\" xmlns:svg=\"http://www.w3.org/2000/svg\" xmlns:xlink=\"http://www.w3.org/1999/xlink\">\n",
       "<g transform=\"translate(0,0)\"><rect height=\"200\" style=\"opacity:1.0;fill:#FFFFFF;stroke:none\" width=\"200\" x=\"0\" y=\"0\"> </rect>\n",
       "<path d=\"M 26.1457,79.0826 32.388,80.9222\" style=\"fill:none;fill-rule:evenodd;stroke:#FF0000;stroke-width:2px;stroke-linecap:butt;stroke-linejoin:miter;stroke-opacity:1\"/>\n",
       "<path d=\"M 32.388,80.9222 38.6303,82.7619\" style=\"fill:none;fill-rule:evenodd;stroke:#000000;stroke-width:2px;stroke-linecap:butt;stroke-linejoin:miter;stroke-opacity:1\"/>\n",
       "<path d=\"M 38.6303,82.7619 43.0779,101.174\" style=\"fill:none;fill-rule:evenodd;stroke:#000000;stroke-width:2px;stroke-linecap:butt;stroke-linejoin:miter;stroke-opacity:1\"/>\n",
       "<path d=\"M 42.98,84.6342 46.0933,97.523\" style=\"fill:none;fill-rule:evenodd;stroke:#000000;stroke-width:2px;stroke-linecap:butt;stroke-linejoin:miter;stroke-opacity:1\"/>\n",
       "<path d=\"M 38.6303,82.7619 52.3523,69.7038\" style=\"fill:none;fill-rule:evenodd;stroke:#000000;stroke-width:2px;stroke-linecap:butt;stroke-linejoin:miter;stroke-opacity:1\"/>\n",
       "<path d=\"M 43.0779,101.174 61.2475,106.529\" style=\"fill:none;fill-rule:evenodd;stroke:#000000;stroke-width:2px;stroke-linecap:butt;stroke-linejoin:miter;stroke-opacity:1\"/>\n",
       "<path d=\"M 61.2475,106.529 65.6951,124.942\" style=\"fill:none;fill-rule:evenodd;stroke:#000000;stroke-width:2px;stroke-linecap:butt;stroke-linejoin:miter;stroke-opacity:1\"/>\n",
       "<path d=\"M 61.2475,106.529 74.9694,93.471\" style=\"fill:none;fill-rule:evenodd;stroke:#000000;stroke-width:2px;stroke-linecap:butt;stroke-linejoin:miter;stroke-opacity:1\"/>\n",
       "<path d=\"M 60.6942,101.826 70.2995,92.6853\" style=\"fill:none;fill-rule:evenodd;stroke:#000000;stroke-width:2px;stroke-linecap:butt;stroke-linejoin:miter;stroke-opacity:1\"/>\n",
       "<path d=\"M 64.3893,123.569 50.6673,136.627\" style=\"fill:none;fill-rule:evenodd;stroke:#000000;stroke-width:2px;stroke-linecap:butt;stroke-linejoin:miter;stroke-opacity:1\"/>\n",
       "<path d=\"M 67.0009,126.314 53.2789,139.372\" style=\"fill:none;fill-rule:evenodd;stroke:#000000;stroke-width:2px;stroke-linecap:butt;stroke-linejoin:miter;stroke-opacity:1\"/>\n",
       "<path d=\"M 74.9694,93.471 93.139,98.8256\" style=\"fill:none;fill-rule:evenodd;stroke:#000000;stroke-width:2px;stroke-linecap:butt;stroke-linejoin:miter;stroke-opacity:1\"/>\n",
       "<path d=\"M 74.9694,93.471 70.5219,75.0584\" style=\"fill:none;fill-rule:evenodd;stroke:#000000;stroke-width:2px;stroke-linecap:butt;stroke-linejoin:miter;stroke-opacity:1\"/>\n",
       "<path d=\"M 93.139,98.8256 106.861,85.7675\" style=\"fill:none;fill-rule:evenodd;stroke:#000000;stroke-width:2px;stroke-linecap:butt;stroke-linejoin:miter;stroke-opacity:1\"/>\n",
       "<path d=\"M 92.5857,94.1225 102.191,84.9818\" style=\"fill:none;fill-rule:evenodd;stroke:#000000;stroke-width:2px;stroke-linecap:butt;stroke-linejoin:miter;stroke-opacity:1\"/>\n",
       "<path d=\"M 106.861,85.7675 102.413,67.3549\" style=\"fill:none;fill-rule:evenodd;stroke:#000000;stroke-width:2px;stroke-linecap:butt;stroke-linejoin:miter;stroke-opacity:1\"/>\n",
       "<path d=\"M 106.861,85.7675 125.031,91.1221\" style=\"fill:none;fill-rule:evenodd;stroke:#000000;stroke-width:2px;stroke-linecap:butt;stroke-linejoin:miter;stroke-opacity:1\"/>\n",
       "<path d=\"M 102.413,67.3549 84.2438,62.0004\" style=\"fill:none;fill-rule:evenodd;stroke:#000000;stroke-width:2px;stroke-linecap:butt;stroke-linejoin:miter;stroke-opacity:1\"/>\n",
       "<path d=\"M 98.617,70.1857 85.8983,66.4375\" style=\"fill:none;fill-rule:evenodd;stroke:#000000;stroke-width:2px;stroke-linecap:butt;stroke-linejoin:miter;stroke-opacity:1\"/>\n",
       "<path d=\"M 84.2438,62.0004 70.5219,75.0584\" style=\"fill:none;fill-rule:evenodd;stroke:#000000;stroke-width:2px;stroke-linecap:butt;stroke-linejoin:miter;stroke-opacity:1\"/>\n",
       "<path d=\"M 70.5219,75.0584 52.3523,69.7038\" style=\"fill:none;fill-rule:evenodd;stroke:#000000;stroke-width:2px;stroke-linecap:butt;stroke-linejoin:miter;stroke-opacity:1\"/>\n",
       "<path d=\"M 66.7255,77.8891 54.0068,74.1409\" style=\"fill:none;fill-rule:evenodd;stroke:#000000;stroke-width:2px;stroke-linecap:butt;stroke-linejoin:miter;stroke-opacity:1\"/>\n",
       "<path d=\"M 125.031,91.1221 129.478,109.535\" style=\"fill:none;fill-rule:evenodd;stroke:#000000;stroke-width:2px;stroke-linecap:butt;stroke-linejoin:miter;stroke-opacity:1\"/>\n",
       "<path d=\"M 129.38,92.9945 132.494,105.883\" style=\"fill:none;fill-rule:evenodd;stroke:#000000;stroke-width:2px;stroke-linecap:butt;stroke-linejoin:miter;stroke-opacity:1\"/>\n",
       "<path d=\"M 125.031,91.1221 138.753,78.0641\" style=\"fill:none;fill-rule:evenodd;stroke:#000000;stroke-width:2px;stroke-linecap:butt;stroke-linejoin:miter;stroke-opacity:1\"/>\n",
       "<path d=\"M 129.478,109.535 147.648,114.889\" style=\"fill:none;fill-rule:evenodd;stroke:#000000;stroke-width:2px;stroke-linecap:butt;stroke-linejoin:miter;stroke-opacity:1\"/>\n",
       "<path d=\"M 147.648,114.889 161.37,101.831\" style=\"fill:none;fill-rule:evenodd;stroke:#000000;stroke-width:2px;stroke-linecap:butt;stroke-linejoin:miter;stroke-opacity:1\"/>\n",
       "<path d=\"M 147.094,110.186 156.7,101.046\" style=\"fill:none;fill-rule:evenodd;stroke:#000000;stroke-width:2px;stroke-linecap:butt;stroke-linejoin:miter;stroke-opacity:1\"/>\n",
       "<path d=\"M 161.37,101.831 167.612,103.671\" style=\"fill:none;fill-rule:evenodd;stroke:#000000;stroke-width:2px;stroke-linecap:butt;stroke-linejoin:miter;stroke-opacity:1\"/>\n",
       "<path d=\"M 167.612,103.671 173.854,105.51\" style=\"fill:none;fill-rule:evenodd;stroke:#FF0000;stroke-width:2px;stroke-linecap:butt;stroke-linejoin:miter;stroke-opacity:1\"/>\n",
       "<path d=\"M 161.37,101.831 156.922,83.4186\" style=\"fill:none;fill-rule:evenodd;stroke:#000000;stroke-width:2px;stroke-linecap:butt;stroke-linejoin:miter;stroke-opacity:1\"/>\n",
       "<path d=\"M 156.922,83.4186 162.625,77.9914\" style=\"fill:none;fill-rule:evenodd;stroke:#000000;stroke-width:2px;stroke-linecap:butt;stroke-linejoin:miter;stroke-opacity:1\"/>\n",
       "<path d=\"M 162.625,77.9914 168.328,72.5642\" style=\"fill:none;fill-rule:evenodd;stroke:#33CCCC;stroke-width:2px;stroke-linecap:butt;stroke-linejoin:miter;stroke-opacity:1\"/>\n",
       "<path d=\"M 156.922,83.4186 138.753,78.0641\" style=\"fill:none;fill-rule:evenodd;stroke:#000000;stroke-width:2px;stroke-linecap:butt;stroke-linejoin:miter;stroke-opacity:1\"/>\n",
       "<path d=\"M 153.126,86.2494 140.407,82.5012\" style=\"fill:none;fill-rule:evenodd;stroke:#000000;stroke-width:2px;stroke-linecap:butt;stroke-linejoin:miter;stroke-opacity:1\"/>\n",
       "<text style=\"font-size:6px;font-style:normal;font-weight:normal;fill-opacity:1;stroke:none;font-family:sans-serif;text-anchor:start;fill:#FF0000\" x=\"14.7758\" y=\"80.5643\"><tspan>HO</tspan></text>\n",
       "<text style=\"font-size:6px;font-style:normal;font-weight:normal;fill-opacity:1;stroke:none;font-family:sans-serif;text-anchor:start;fill:#FF0000\" x=\"173.854\" y=\"110.343\"><tspan>OH</tspan></text>\n",
       "<text style=\"font-size:6px;font-style:normal;font-weight:normal;fill-opacity:1;stroke:none;font-family:sans-serif;text-anchor:start;fill:#33CCCC\" x=\"168.328\" y=\"73.5176\"><tspan>F</tspan></text>\n",
       "<text style=\"font-size:12px;font-style:normal;font-weight:normal;fill-opacity:1;stroke:none;font-family:sans-serif;text-anchor:start;fill:#000000\" x=\"45.9568\" y=\"194\"><tspan>CHEMBL191648</tspan></text>\n",
       "</g>\n",
       "<g transform=\"translate(200,0)\"><rect height=\"200\" style=\"opacity:1.0;fill:#FFFFFF;stroke:none\" width=\"200\" x=\"0\" y=\"0\"> </rect>\n",
       "<path d=\"M 25.8911,81.735 32.3818,81.1401\" style=\"fill:none;fill-rule:evenodd;stroke:#FF0000;stroke-width:2px;stroke-linecap:butt;stroke-linejoin:miter;stroke-opacity:1\"/>\n",
       "<path d=\"M 32.3818,81.1401 38.8726,80.5452\" style=\"fill:none;fill-rule:evenodd;stroke:#000000;stroke-width:2px;stroke-linecap:butt;stroke-linejoin:miter;stroke-opacity:1\"/>\n",
       "<path d=\"M 38.8726,80.5452 46.6885,63.6016\" style=\"fill:none;fill-rule:evenodd;stroke:#000000;stroke-width:2px;stroke-linecap:butt;stroke-linejoin:miter;stroke-opacity:1\"/>\n",
       "<path d=\"M 43.4337,79.5669 48.9048,67.7063\" style=\"fill:none;fill-rule:evenodd;stroke:#000000;stroke-width:2px;stroke-linecap:butt;stroke-linejoin:miter;stroke-opacity:1\"/>\n",
       "<path d=\"M 38.8726,80.5452 49.6382,95.7858\" style=\"fill:none;fill-rule:evenodd;stroke:#000000;stroke-width:2px;stroke-linecap:butt;stroke-linejoin:miter;stroke-opacity:1\"/>\n",
       "<path d=\"M 46.6885,63.6016 65.27,61.8986\" style=\"fill:none;fill-rule:evenodd;stroke:#000000;stroke-width:2px;stroke-linecap:butt;stroke-linejoin:miter;stroke-opacity:1\"/>\n",
       "<path d=\"M 65.27,61.8986 76.0356,77.1392\" style=\"fill:none;fill-rule:evenodd;stroke:#000000;stroke-width:2px;stroke-linecap:butt;stroke-linejoin:miter;stroke-opacity:1\"/>\n",
       "<path d=\"M 63.8367,66.3378 71.3727,77.0062\" style=\"fill:none;fill-rule:evenodd;stroke:#000000;stroke-width:2px;stroke-linecap:butt;stroke-linejoin:miter;stroke-opacity:1\"/>\n",
       "<path d=\"M 76.0356,77.1392 94.6172,75.4361\" style=\"fill:none;fill-rule:evenodd;stroke:#000000;stroke-width:2px;stroke-linecap:butt;stroke-linejoin:miter;stroke-opacity:1\"/>\n",
       "<path d=\"M 76.0356,77.1392 68.2197,94.0827\" style=\"fill:none;fill-rule:evenodd;stroke:#000000;stroke-width:2px;stroke-linecap:butt;stroke-linejoin:miter;stroke-opacity:1\"/>\n",
       "<path d=\"M 94.6172,75.4361 105.383,90.6767\" style=\"fill:none;fill-rule:evenodd;stroke:#000000;stroke-width:2px;stroke-linecap:butt;stroke-linejoin:miter;stroke-opacity:1\"/>\n",
       "<path d=\"M 93.1839,79.8753 100.72,90.5437\" style=\"fill:none;fill-rule:evenodd;stroke:#000000;stroke-width:2px;stroke-linecap:butt;stroke-linejoin:miter;stroke-opacity:1\"/>\n",
       "<path d=\"M 105.383,90.6767 97.5669,107.62\" style=\"fill:none;fill-rule:evenodd;stroke:#000000;stroke-width:2px;stroke-linecap:butt;stroke-linejoin:miter;stroke-opacity:1\"/>\n",
       "<path d=\"M 105.383,90.6767 123.964,88.9737\" style=\"fill:none;fill-rule:evenodd;stroke:#000000;stroke-width:2px;stroke-linecap:butt;stroke-linejoin:miter;stroke-opacity:1\"/>\n",
       "<path d=\"M 97.5669,107.62 78.9854,109.323\" style=\"fill:none;fill-rule:evenodd;stroke:#000000;stroke-width:2px;stroke-linecap:butt;stroke-linejoin:miter;stroke-opacity:1\"/>\n",
       "<path d=\"M 94.4391,104.159 81.432,105.352\" style=\"fill:none;fill-rule:evenodd;stroke:#000000;stroke-width:2px;stroke-linecap:butt;stroke-linejoin:miter;stroke-opacity:1\"/>\n",
       "<path d=\"M 78.9854,109.323 71.1695,126.267\" style=\"fill:none;fill-rule:evenodd;stroke:#000000;stroke-width:2px;stroke-linecap:butt;stroke-linejoin:miter;stroke-opacity:1\"/>\n",
       "<path d=\"M 78.9854,109.323 68.2197,94.0827\" style=\"fill:none;fill-rule:evenodd;stroke:#000000;stroke-width:2px;stroke-linecap:butt;stroke-linejoin:miter;stroke-opacity:1\"/>\n",
       "<path d=\"M 71.1695,126.267 67.9788,133.184\" style=\"fill:none;fill-rule:evenodd;stroke:#000000;stroke-width:2px;stroke-linecap:butt;stroke-linejoin:miter;stroke-opacity:1\"/>\n",
       "<path d=\"M 67.9788,133.184 64.7881,140.101\" style=\"fill:none;fill-rule:evenodd;stroke:#0000FF;stroke-width:2px;stroke-linecap:butt;stroke-linejoin:miter;stroke-opacity:1\"/>\n",
       "<path d=\"M 66.8236,126.779 64.1115,132.658\" style=\"fill:none;fill-rule:evenodd;stroke:#000000;stroke-width:2px;stroke-linecap:butt;stroke-linejoin:miter;stroke-opacity:1\"/>\n",
       "<path d=\"M 64.1115,132.658 61.3994,138.537\" style=\"fill:none;fill-rule:evenodd;stroke:#0000FF;stroke-width:2px;stroke-linecap:butt;stroke-linejoin:miter;stroke-opacity:1\"/>\n",
       "<path d=\"M 73.601,129.905 70.8889,135.784\" style=\"fill:none;fill-rule:evenodd;stroke:#000000;stroke-width:2px;stroke-linecap:butt;stroke-linejoin:miter;stroke-opacity:1\"/>\n",
       "<path d=\"M 70.8889,135.784 68.1769,141.664\" style=\"fill:none;fill-rule:evenodd;stroke:#0000FF;stroke-width:2px;stroke-linecap:butt;stroke-linejoin:miter;stroke-opacity:1\"/>\n",
       "<path d=\"M 68.2197,94.0827 49.6382,95.7858\" style=\"fill:none;fill-rule:evenodd;stroke:#000000;stroke-width:2px;stroke-linecap:butt;stroke-linejoin:miter;stroke-opacity:1\"/>\n",
       "<path d=\"M 65.0919,90.6219 52.0848,91.814\" style=\"fill:none;fill-rule:evenodd;stroke:#000000;stroke-width:2px;stroke-linecap:butt;stroke-linejoin:miter;stroke-opacity:1\"/>\n",
       "<path d=\"M 123.964,88.9737 134.73,104.214\" style=\"fill:none;fill-rule:evenodd;stroke:#000000;stroke-width:2px;stroke-linecap:butt;stroke-linejoin:miter;stroke-opacity:1\"/>\n",
       "<path d=\"M 128.627,89.1066 136.163,99.775\" style=\"fill:none;fill-rule:evenodd;stroke:#000000;stroke-width:2px;stroke-linecap:butt;stroke-linejoin:miter;stroke-opacity:1\"/>\n",
       "<path d=\"M 123.964,88.9737 131.78,72.0301\" style=\"fill:none;fill-rule:evenodd;stroke:#000000;stroke-width:2px;stroke-linecap:butt;stroke-linejoin:miter;stroke-opacity:1\"/>\n",
       "<path d=\"M 134.73,104.214 153.312,102.511\" style=\"fill:none;fill-rule:evenodd;stroke:#000000;stroke-width:2px;stroke-linecap:butt;stroke-linejoin:miter;stroke-opacity:1\"/>\n",
       "<path d=\"M 153.312,102.511 157.596,108.577\" style=\"fill:none;fill-rule:evenodd;stroke:#000000;stroke-width:2px;stroke-linecap:butt;stroke-linejoin:miter;stroke-opacity:1\"/>\n",
       "<path d=\"M 157.596,108.577 161.88,114.642\" style=\"fill:none;fill-rule:evenodd;stroke:#33CCCC;stroke-width:2px;stroke-linecap:butt;stroke-linejoin:miter;stroke-opacity:1\"/>\n",
       "<path d=\"M 153.312,102.511 161.127,85.5676\" style=\"fill:none;fill-rule:evenodd;stroke:#000000;stroke-width:2px;stroke-linecap:butt;stroke-linejoin:miter;stroke-opacity:1\"/>\n",
       "<path d=\"M 151.095,98.4065 156.566,86.546\" style=\"fill:none;fill-rule:evenodd;stroke:#000000;stroke-width:2px;stroke-linecap:butt;stroke-linejoin:miter;stroke-opacity:1\"/>\n",
       "<path d=\"M 161.127,85.5676 167.618,84.9727\" style=\"fill:none;fill-rule:evenodd;stroke:#000000;stroke-width:2px;stroke-linecap:butt;stroke-linejoin:miter;stroke-opacity:1\"/>\n",
       "<path d=\"M 167.618,84.9727 174.109,84.3778\" style=\"fill:none;fill-rule:evenodd;stroke:#FF0000;stroke-width:2px;stroke-linecap:butt;stroke-linejoin:miter;stroke-opacity:1\"/>\n",
       "<path d=\"M 161.127,85.5676 150.362,70.327\" style=\"fill:none;fill-rule:evenodd;stroke:#000000;stroke-width:2px;stroke-linecap:butt;stroke-linejoin:miter;stroke-opacity:1\"/>\n",
       "<path d=\"M 150.362,70.327 131.78,72.0301\" style=\"fill:none;fill-rule:evenodd;stroke:#000000;stroke-width:2px;stroke-linecap:butt;stroke-linejoin:miter;stroke-opacity:1\"/>\n",
       "<path d=\"M 147.915,74.2988 134.908,75.4909\" style=\"fill:none;fill-rule:evenodd;stroke:#000000;stroke-width:2px;stroke-linecap:butt;stroke-linejoin:miter;stroke-opacity:1\"/>\n",
       "<path d=\"M 131.78,72.0301 127.496,65.9647\" style=\"fill:none;fill-rule:evenodd;stroke:#000000;stroke-width:2px;stroke-linecap:butt;stroke-linejoin:miter;stroke-opacity:1\"/>\n",
       "<path d=\"M 127.496,65.9647 123.211,59.8994\" style=\"fill:none;fill-rule:evenodd;stroke:#33CCCC;stroke-width:2px;stroke-linecap:butt;stroke-linejoin:miter;stroke-opacity:1\"/>\n",
       "<text style=\"font-size:6px;font-style:normal;font-weight:normal;fill-opacity:1;stroke:none;font-family:sans-serif;text-anchor:start;fill:#FF0000\" x=\"14.691\" y=\"85.3581\"><tspan>HO</tspan></text>\n",
       "<text style=\"font-size:6px;font-style:normal;font-weight:normal;fill-opacity:1;stroke:none;font-family:sans-serif;text-anchor:start;fill:#0000FF\" x=\"60.6581\" y=\"146.32\"><tspan>N</tspan></text>\n",
       "<text style=\"font-size:6px;font-style:normal;font-weight:normal;fill-opacity:1;stroke:none;font-family:sans-serif;text-anchor:start;fill:#33CCCC\" x=\"161.796\" y=\"120.862\"><tspan>F</tspan></text>\n",
       "<text style=\"font-size:6px;font-style:normal;font-weight:normal;fill-opacity:1;stroke:none;font-family:sans-serif;text-anchor:start;fill:#FF0000\" x=\"174.109\" y=\"86.9745\"><tspan>OH</tspan></text>\n",
       "<text style=\"font-size:6px;font-style:normal;font-weight:normal;fill-opacity:1;stroke:none;font-family:sans-serif;text-anchor:start;fill:#33CCCC\" x=\"118.734\" y=\"59.8994\"><tspan>F</tspan></text>\n",
       "<text style=\"font-size:12px;font-style:normal;font-weight:normal;fill-opacity:1;stroke:none;font-family:sans-serif;text-anchor:start;fill:#000000\" x=\"45.9568\" y=\"194\"><tspan>CHEMBL194326</tspan></text>\n",
       "</g>\n",
       "<g transform=\"translate(400,0)\"><rect height=\"200\" style=\"opacity:1.0;fill:#FFFFFF;stroke:none\" width=\"200\" x=\"0\" y=\"0\"> </rect>\n",
       "<path d=\"M 71.6312,128.431 64.4708,111.194\" style=\"fill:none;fill-rule:evenodd;stroke:#000000;stroke-width:2px;stroke-linecap:butt;stroke-linejoin:miter;stroke-opacity:1\"/>\n",
       "<path d=\"M 64.4708,111.194 45.9628,108.776\" style=\"fill:none;fill-rule:evenodd;stroke:#000000;stroke-width:2px;stroke-linecap:butt;stroke-linejoin:miter;stroke-opacity:1\"/>\n",
       "<path d=\"M 62.1781,107.129 49.2225,105.437\" style=\"fill:none;fill-rule:evenodd;stroke:#000000;stroke-width:2px;stroke-linecap:butt;stroke-linejoin:miter;stroke-opacity:1\"/>\n",
       "<path d=\"M 64.4708,111.194 75.8183,96.3739\" style=\"fill:none;fill-rule:evenodd;stroke:#000000;stroke-width:2px;stroke-linecap:butt;stroke-linejoin:miter;stroke-opacity:1\"/>\n",
       "<path d=\"M 45.9628,108.776 38.8024,91.539\" style=\"fill:none;fill-rule:evenodd;stroke:#000000;stroke-width:2px;stroke-linecap:butt;stroke-linejoin:miter;stroke-opacity:1\"/>\n",
       "<path d=\"M 38.8024,91.539 32.3493,90.6962\" style=\"fill:none;fill-rule:evenodd;stroke:#000000;stroke-width:2px;stroke-linecap:butt;stroke-linejoin:miter;stroke-opacity:1\"/>\n",
       "<path d=\"M 32.3493,90.6962 25.8963,89.8533\" style=\"fill:none;fill-rule:evenodd;stroke:#FF0000;stroke-width:2px;stroke-linecap:butt;stroke-linejoin:miter;stroke-opacity:1\"/>\n",
       "<path d=\"M 38.8024,91.539 50.1499,76.7194\" style=\"fill:none;fill-rule:evenodd;stroke:#000000;stroke-width:2px;stroke-linecap:butt;stroke-linejoin:miter;stroke-opacity:1\"/>\n",
       "<path d=\"M 43.4685,91.5856 51.4117,81.2118\" style=\"fill:none;fill-rule:evenodd;stroke:#000000;stroke-width:2px;stroke-linecap:butt;stroke-linejoin:miter;stroke-opacity:1\"/>\n",
       "<path d=\"M 50.1499,76.7194 68.6579,79.1368\" style=\"fill:none;fill-rule:evenodd;stroke:#000000;stroke-width:2px;stroke-linecap:butt;stroke-linejoin:miter;stroke-opacity:1\"/>\n",
       "<path d=\"M 68.6579,79.1368 75.8183,96.3739\" style=\"fill:none;fill-rule:evenodd;stroke:#000000;stroke-width:2px;stroke-linecap:butt;stroke-linejoin:miter;stroke-opacity:1\"/>\n",
       "<path d=\"M 66.2845,83.1545 71.2968,95.2204\" style=\"fill:none;fill-rule:evenodd;stroke:#000000;stroke-width:2px;stroke-linecap:butt;stroke-linejoin:miter;stroke-opacity:1\"/>\n",
       "<path d=\"M 75.8183,96.3739 94.3262,98.7913\" style=\"fill:none;fill-rule:evenodd;stroke:#000000;stroke-width:2px;stroke-linecap:butt;stroke-linejoin:miter;stroke-opacity:1\"/>\n",
       "<path d=\"M 94.3262,98.7913 101.487,116.028\" style=\"fill:none;fill-rule:evenodd;stroke:#000000;stroke-width:2px;stroke-linecap:butt;stroke-linejoin:miter;stroke-opacity:1\"/>\n",
       "<path d=\"M 98.8477,99.9448 103.86,112.011\" style=\"fill:none;fill-rule:evenodd;stroke:#000000;stroke-width:2px;stroke-linecap:butt;stroke-linejoin:miter;stroke-opacity:1\"/>\n",
       "<path d=\"M 94.3262,98.7913 105.674,83.9717\" style=\"fill:none;fill-rule:evenodd;stroke:#000000;stroke-width:2px;stroke-linecap:butt;stroke-linejoin:miter;stroke-opacity:1\"/>\n",
       "<path d=\"M 101.487,116.028 119.995,118.446\" style=\"fill:none;fill-rule:evenodd;stroke:#000000;stroke-width:2px;stroke-linecap:butt;stroke-linejoin:miter;stroke-opacity:1\"/>\n",
       "<path d=\"M 119.995,118.446 131.342,103.626\" style=\"fill:none;fill-rule:evenodd;stroke:#000000;stroke-width:2px;stroke-linecap:butt;stroke-linejoin:miter;stroke-opacity:1\"/>\n",
       "<path d=\"M 118.733,113.953 126.676,103.58\" style=\"fill:none;fill-rule:evenodd;stroke:#000000;stroke-width:2px;stroke-linecap:butt;stroke-linejoin:miter;stroke-opacity:1\"/>\n",
       "<path d=\"M 131.342,103.626 149.85,106.044\" style=\"fill:none;fill-rule:evenodd;stroke:#000000;stroke-width:2px;stroke-linecap:butt;stroke-linejoin:miter;stroke-opacity:1\"/>\n",
       "<path d=\"M 131.342,103.626 124.182,86.3891\" style=\"fill:none;fill-rule:evenodd;stroke:#000000;stroke-width:2px;stroke-linecap:butt;stroke-linejoin:miter;stroke-opacity:1\"/>\n",
       "<path d=\"M 149.85,106.044 152.784,113.107\" style=\"fill:none;fill-rule:evenodd;stroke:#000000;stroke-width:2px;stroke-linecap:butt;stroke-linejoin:miter;stroke-opacity:1\"/>\n",
       "<path d=\"M 152.784,113.107 155.718,120.17\" style=\"fill:none;fill-rule:evenodd;stroke:#00CC00;stroke-width:2px;stroke-linecap:butt;stroke-linejoin:miter;stroke-opacity:1\"/>\n",
       "<path d=\"M 149.85,106.044 161.198,91.2239\" style=\"fill:none;fill-rule:evenodd;stroke:#000000;stroke-width:2px;stroke-linecap:butt;stroke-linejoin:miter;stroke-opacity:1\"/>\n",
       "<path d=\"M 148.588,101.551 156.532,91.1774\" style=\"fill:none;fill-rule:evenodd;stroke:#000000;stroke-width:2px;stroke-linecap:butt;stroke-linejoin:miter;stroke-opacity:1\"/>\n",
       "<path d=\"M 161.198,91.2239 167.651,92.0668\" style=\"fill:none;fill-rule:evenodd;stroke:#000000;stroke-width:2px;stroke-linecap:butt;stroke-linejoin:miter;stroke-opacity:1\"/>\n",
       "<path d=\"M 167.651,92.0668 174.104,92.9096\" style=\"fill:none;fill-rule:evenodd;stroke:#FF0000;stroke-width:2px;stroke-linecap:butt;stroke-linejoin:miter;stroke-opacity:1\"/>\n",
       "<path d=\"M 161.198,91.2239 154.037,73.9869\" style=\"fill:none;fill-rule:evenodd;stroke:#000000;stroke-width:2px;stroke-linecap:butt;stroke-linejoin:miter;stroke-opacity:1\"/>\n",
       "<path d=\"M 154.037,73.9869 135.529,71.5694\" style=\"fill:none;fill-rule:evenodd;stroke:#000000;stroke-width:2px;stroke-linecap:butt;stroke-linejoin:miter;stroke-opacity:1\"/>\n",
       "<path d=\"M 150.777,77.3258 137.822,75.6336\" style=\"fill:none;fill-rule:evenodd;stroke:#000000;stroke-width:2px;stroke-linecap:butt;stroke-linejoin:miter;stroke-opacity:1\"/>\n",
       "<path d=\"M 135.529,71.5694 124.182,86.3891\" style=\"fill:none;fill-rule:evenodd;stroke:#000000;stroke-width:2px;stroke-linecap:butt;stroke-linejoin:miter;stroke-opacity:1\"/>\n",
       "<path d=\"M 124.182,86.3891 105.674,83.9717\" style=\"fill:none;fill-rule:evenodd;stroke:#000000;stroke-width:2px;stroke-linecap:butt;stroke-linejoin:miter;stroke-opacity:1\"/>\n",
       "<path d=\"M 120.922,89.728 107.966,88.0359\" style=\"fill:none;fill-rule:evenodd;stroke:#000000;stroke-width:2px;stroke-linecap:butt;stroke-linejoin:miter;stroke-opacity:1\"/>\n",
       "<text style=\"font-size:6px;font-style:normal;font-weight:normal;fill-opacity:1;stroke:none;font-family:sans-serif;text-anchor:start;fill:#FF0000\" x=\"14.6927\" y=\"92.2325\"><tspan>HO</tspan></text>\n",
       "<text style=\"font-size:6px;font-style:normal;font-weight:normal;fill-opacity:1;stroke:none;font-family:sans-serif;text-anchor:start;fill:#00CC00\" x=\"153.485\" y=\"126.391\"><tspan>Cl</tspan></text>\n",
       "<text style=\"font-size:6px;font-style:normal;font-weight:normal;fill-opacity:1;stroke:none;font-family:sans-serif;text-anchor:start;fill:#FF0000\" x=\"174.104\" y=\"96.7522\"><tspan>OH</tspan></text>\n",
       "<text style=\"font-size:12px;font-style:normal;font-weight:normal;fill-opacity:1;stroke:none;font-family:sans-serif;text-anchor:start;fill:#000000\" x=\"45.9568\" y=\"194\"><tspan>CHEMBL191300</tspan></text>\n",
       "</g>\n",
       "<g transform=\"translate(600,0)\"><rect height=\"200\" style=\"opacity:1.0;fill:#FFFFFF;stroke:none\" width=\"200\" x=\"0\" y=\"0\"> </rect>\n",
       "<path d=\"M 25.8963,89.8533 32.3493,90.6962\" style=\"fill:none;fill-rule:evenodd;stroke:#FF0000;stroke-width:2px;stroke-linecap:butt;stroke-linejoin:miter;stroke-opacity:1\"/>\n",
       "<path d=\"M 32.3493,90.6962 38.8024,91.539\" style=\"fill:none;fill-rule:evenodd;stroke:#000000;stroke-width:2px;stroke-linecap:butt;stroke-linejoin:miter;stroke-opacity:1\"/>\n",
       "<path d=\"M 38.8024,91.539 50.1499,76.7194\" style=\"fill:none;fill-rule:evenodd;stroke:#000000;stroke-width:2px;stroke-linecap:butt;stroke-linejoin:miter;stroke-opacity:1\"/>\n",
       "<path d=\"M 43.4685,91.5856 51.4117,81.2118\" style=\"fill:none;fill-rule:evenodd;stroke:#000000;stroke-width:2px;stroke-linecap:butt;stroke-linejoin:miter;stroke-opacity:1\"/>\n",
       "<path d=\"M 38.8024,91.539 45.9628,108.776\" style=\"fill:none;fill-rule:evenodd;stroke:#000000;stroke-width:2px;stroke-linecap:butt;stroke-linejoin:miter;stroke-opacity:1\"/>\n",
       "<path d=\"M 50.1499,76.7194 68.6579,79.1368\" style=\"fill:none;fill-rule:evenodd;stroke:#000000;stroke-width:2px;stroke-linecap:butt;stroke-linejoin:miter;stroke-opacity:1\"/>\n",
       "<path d=\"M 68.6579,79.1368 75.8183,96.3739\" style=\"fill:none;fill-rule:evenodd;stroke:#000000;stroke-width:2px;stroke-linecap:butt;stroke-linejoin:miter;stroke-opacity:1\"/>\n",
       "<path d=\"M 66.2845,83.1545 71.2968,95.2204\" style=\"fill:none;fill-rule:evenodd;stroke:#000000;stroke-width:2px;stroke-linecap:butt;stroke-linejoin:miter;stroke-opacity:1\"/>\n",
       "<path d=\"M 75.8183,96.3739 64.4708,111.194\" style=\"fill:none;fill-rule:evenodd;stroke:#000000;stroke-width:2px;stroke-linecap:butt;stroke-linejoin:miter;stroke-opacity:1\"/>\n",
       "<path d=\"M 75.8183,96.3739 94.3262,98.7913\" style=\"fill:none;fill-rule:evenodd;stroke:#000000;stroke-width:2px;stroke-linecap:butt;stroke-linejoin:miter;stroke-opacity:1\"/>\n",
       "<path d=\"M 64.4708,111.194 67.4049,118.257\" style=\"fill:none;fill-rule:evenodd;stroke:#000000;stroke-width:2px;stroke-linecap:butt;stroke-linejoin:miter;stroke-opacity:1\"/>\n",
       "<path d=\"M 67.4049,118.257 70.3389,125.32\" style=\"fill:none;fill-rule:evenodd;stroke:#33CCCC;stroke-width:2px;stroke-linecap:butt;stroke-linejoin:miter;stroke-opacity:1\"/>\n",
       "<path d=\"M 64.4708,111.194 45.9628,108.776\" style=\"fill:none;fill-rule:evenodd;stroke:#000000;stroke-width:2px;stroke-linecap:butt;stroke-linejoin:miter;stroke-opacity:1\"/>\n",
       "<path d=\"M 62.1781,107.129 49.2225,105.437\" style=\"fill:none;fill-rule:evenodd;stroke:#000000;stroke-width:2px;stroke-linecap:butt;stroke-linejoin:miter;stroke-opacity:1\"/>\n",
       "<path d=\"M 94.3262,98.7913 101.487,116.028\" style=\"fill:none;fill-rule:evenodd;stroke:#000000;stroke-width:2px;stroke-linecap:butt;stroke-linejoin:miter;stroke-opacity:1\"/>\n",
       "<path d=\"M 98.8477,99.9448 103.86,112.011\" style=\"fill:none;fill-rule:evenodd;stroke:#000000;stroke-width:2px;stroke-linecap:butt;stroke-linejoin:miter;stroke-opacity:1\"/>\n",
       "<path d=\"M 94.3262,98.7913 105.674,83.9717\" style=\"fill:none;fill-rule:evenodd;stroke:#000000;stroke-width:2px;stroke-linecap:butt;stroke-linejoin:miter;stroke-opacity:1\"/>\n",
       "<path d=\"M 101.487,116.028 119.995,118.446\" style=\"fill:none;fill-rule:evenodd;stroke:#000000;stroke-width:2px;stroke-linecap:butt;stroke-linejoin:miter;stroke-opacity:1\"/>\n",
       "<path d=\"M 119.995,118.446 131.342,103.626\" style=\"fill:none;fill-rule:evenodd;stroke:#000000;stroke-width:2px;stroke-linecap:butt;stroke-linejoin:miter;stroke-opacity:1\"/>\n",
       "<path d=\"M 118.733,113.953 126.676,103.58\" style=\"fill:none;fill-rule:evenodd;stroke:#000000;stroke-width:2px;stroke-linecap:butt;stroke-linejoin:miter;stroke-opacity:1\"/>\n",
       "<path d=\"M 131.342,103.626 149.85,106.044\" style=\"fill:none;fill-rule:evenodd;stroke:#000000;stroke-width:2px;stroke-linecap:butt;stroke-linejoin:miter;stroke-opacity:1\"/>\n",
       "<path d=\"M 131.342,103.626 124.182,86.3891\" style=\"fill:none;fill-rule:evenodd;stroke:#000000;stroke-width:2px;stroke-linecap:butt;stroke-linejoin:miter;stroke-opacity:1\"/>\n",
       "<path d=\"M 149.85,106.044 152.784,113.107\" style=\"fill:none;fill-rule:evenodd;stroke:#000000;stroke-width:2px;stroke-linecap:butt;stroke-linejoin:miter;stroke-opacity:1\"/>\n",
       "<path d=\"M 152.784,113.107 155.718,120.17\" style=\"fill:none;fill-rule:evenodd;stroke:#00CC00;stroke-width:2px;stroke-linecap:butt;stroke-linejoin:miter;stroke-opacity:1\"/>\n",
       "<path d=\"M 149.85,106.044 161.198,91.2239\" style=\"fill:none;fill-rule:evenodd;stroke:#000000;stroke-width:2px;stroke-linecap:butt;stroke-linejoin:miter;stroke-opacity:1\"/>\n",
       "<path d=\"M 148.588,101.551 156.532,91.1774\" style=\"fill:none;fill-rule:evenodd;stroke:#000000;stroke-width:2px;stroke-linecap:butt;stroke-linejoin:miter;stroke-opacity:1\"/>\n",
       "<path d=\"M 161.198,91.2239 167.651,92.0668\" style=\"fill:none;fill-rule:evenodd;stroke:#000000;stroke-width:2px;stroke-linecap:butt;stroke-linejoin:miter;stroke-opacity:1\"/>\n",
       "<path d=\"M 167.651,92.0668 174.104,92.9096\" style=\"fill:none;fill-rule:evenodd;stroke:#FF0000;stroke-width:2px;stroke-linecap:butt;stroke-linejoin:miter;stroke-opacity:1\"/>\n",
       "<path d=\"M 161.198,91.2239 154.037,73.9869\" style=\"fill:none;fill-rule:evenodd;stroke:#000000;stroke-width:2px;stroke-linecap:butt;stroke-linejoin:miter;stroke-opacity:1\"/>\n",
       "<path d=\"M 154.037,73.9869 135.529,71.5694\" style=\"fill:none;fill-rule:evenodd;stroke:#000000;stroke-width:2px;stroke-linecap:butt;stroke-linejoin:miter;stroke-opacity:1\"/>\n",
       "<path d=\"M 150.777,77.3258 137.822,75.6336\" style=\"fill:none;fill-rule:evenodd;stroke:#000000;stroke-width:2px;stroke-linecap:butt;stroke-linejoin:miter;stroke-opacity:1\"/>\n",
       "<path d=\"M 135.529,71.5694 124.182,86.3891\" style=\"fill:none;fill-rule:evenodd;stroke:#000000;stroke-width:2px;stroke-linecap:butt;stroke-linejoin:miter;stroke-opacity:1\"/>\n",
       "<path d=\"M 124.182,86.3891 105.674,83.9717\" style=\"fill:none;fill-rule:evenodd;stroke:#000000;stroke-width:2px;stroke-linecap:butt;stroke-linejoin:miter;stroke-opacity:1\"/>\n",
       "<path d=\"M 120.922,89.728 107.966,88.0359\" style=\"fill:none;fill-rule:evenodd;stroke:#000000;stroke-width:2px;stroke-linecap:butt;stroke-linejoin:miter;stroke-opacity:1\"/>\n",
       "<text style=\"font-size:6px;font-style:normal;font-weight:normal;fill-opacity:1;stroke:none;font-family:sans-serif;text-anchor:start;fill:#FF0000\" x=\"14.6927\" y=\"92.2325\"><tspan>HO</tspan></text>\n",
       "<text style=\"font-size:6px;font-style:normal;font-weight:normal;fill-opacity:1;stroke:none;font-family:sans-serif;text-anchor:start;fill:#33CCCC\" x=\"69.3494\" y=\"131.541\"><tspan>F</tspan></text>\n",
       "<text style=\"font-size:6px;font-style:normal;font-weight:normal;fill-opacity:1;stroke:none;font-family:sans-serif;text-anchor:start;fill:#00CC00\" x=\"153.485\" y=\"126.391\"><tspan>Cl</tspan></text>\n",
       "<text style=\"font-size:6px;font-style:normal;font-weight:normal;fill-opacity:1;stroke:none;font-family:sans-serif;text-anchor:start;fill:#FF0000\" x=\"174.104\" y=\"96.7522\"><tspan>OH</tspan></text>\n",
       "<text style=\"font-size:12px;font-style:normal;font-weight:normal;fill-opacity:1;stroke:none;font-family:sans-serif;text-anchor:start;fill:#000000\" x=\"45.9568\" y=\"194\"><tspan>CHEMBL447837</tspan></text>\n",
       "</g></svg>"
      ],
      "text/plain": [
       "<IPython.core.display.SVG object>"
      ]
     },
     "execution_count": 39,
     "metadata": {},
     "output_type": "execute_result"
    }
   ],
   "source": [
    "PandasTools.FrameToGridImage(cpdsDF[cpdsDF['Murcko_SMILES'] == 'c1ccc(-c2ccc3ccccc3c2)cc1'].head(4),\n",
    "                            legendsCol=molnames, molsPerRow=4)"
   ]
  },
  {
   "cell_type": "code",
   "execution_count": 40,
   "metadata": {
    "collapsed": false
   },
   "outputs": [
    {
     "data": {
      "text/plain": [
       "8.0"
      ]
     },
     "execution_count": 40,
     "metadata": {},
     "output_type": "execute_result"
    }
   ],
   "source": [
    "cpdsDF[cpdsDF['Murcko_SMILES'] == 'c1ccc(-c2ccc3ccccc3c2)cc1'\n",
    "       ]['pIC50'].max() # min(), mean(), sum(), anything you can do with pandas Series"
   ]
  },
  {
   "cell_type": "markdown",
   "metadata": {},
   "source": [
    "## Exploratory plots"
   ]
  },
  {
   "cell_type": "code",
   "execution_count": 41,
   "metadata": {
    "collapsed": false
   },
   "outputs": [
    {
     "name": "stderr",
     "output_type": "stream",
     "text": [
      "/home/samo/anaconda/lib/python2.7/site-packages/matplotlib/font_manager.py:273: UserWarning: Matplotlib is building the font cache using fc-list. This may take a moment.\n",
      "  warnings.warn('Matplotlib is building the font cache using fc-list. This may take a moment.')\n"
     ]
    }
   ],
   "source": [
    "%matplotlib inline"
   ]
  },
  {
   "cell_type": "code",
   "execution_count": 42,
   "metadata": {
    "collapsed": false
   },
   "outputs": [],
   "source": [
    "import pylab"
   ]
  },
  {
   "cell_type": "markdown",
   "metadata": {},
   "source": [
    "####  pIC50s of compounds with certain scaffolds"
   ]
  },
  {
   "cell_type": "code",
   "execution_count": 43,
   "metadata": {
    "collapsed": false
   },
   "outputs": [],
   "source": [
    "data = [cpdsDF[cpdsDF['Murcko_SMILES'] == x]['pIC50'] for x in sortedScaffolds['Murcko_SMILES'].head(8)]\n",
    "data.append(cpdsDF[cpdsDF['knownDrug'] == 'Yes']['pIC50'])"
   ]
  },
  {
   "cell_type": "code",
   "execution_count": 44,
   "metadata": {
    "collapsed": false
   },
   "outputs": [
    {
     "data": {
      "image/png": "[encoded data removed]",
      "text/plain": [
       "<matplotlib.figure.Figure at 0x7f820e33e910>"
      ]
     },
     "metadata": {},
     "output_type": "display_data"
    }
   ],
   "source": [
    "pylab.boxplot(data)\n",
    "pylab.show()"
   ]
  },
  {
   "cell_type": "markdown",
   "metadata": {},
   "source": [
    "####  Ligand efficiencies of compounds with certain scaffolds"
   ]
  },
  {
   "cell_type": "code",
   "execution_count": 45,
   "metadata": {
    "collapsed": false
   },
   "outputs": [],
   "source": [
    "data = [cpdsDF[cpdsDF['Murcko_SMILES'] == x]['LE'] for x in sortedScaffolds['Murcko_SMILES'].head(8)]\n",
    "data.append(cpdsDF[cpdsDF['knownDrug'] == 'Yes']['LE'])"
   ]
  },
  {
   "cell_type": "code",
   "execution_count": 46,
   "metadata": {
    "collapsed": false
   },
   "outputs": [
    {
     "data": {
      "image/png": "[encoded data removed]",
      "text/plain": [
       "<matplotlib.figure.Figure at 0x7f820e23b1d0>"
      ]
     },
     "metadata": {},
     "output_type": "display_data"
    }
   ],
   "source": [
    "pylab.boxplot(data)\n",
    "pylab.show()"
   ]
  },
  {
   "cell_type": "markdown",
   "metadata": {},
   "source": [
    "<br>\n",
    "<br>\n",
    "<br>\n",
    "<br>\n",
    "<br>\n",
    "<br>\n",
    "\n",
    "### Check our GitHub https://github.com/Team-SKI/snippets\n",
    "### Check our web page http://www.bio.mx.\n",
    "<img src=\"files/biomedx.png\">  \n",
    "<br>\n",
    "<img src=\"files/merck.jpeg\">  \n",
    "<br>\n",
    "<img src=\"files/rdkit.png\">  \n",
    "<br>\n",
    "\n",
    "\n",
    "# Thank you!\n",
    "\n",
    "<br>\n",
    "<br>\n",
    "<br>\n",
    "<br>\n",
    "<br>\n",
    "<br>"
   ]
  },
  {
   "cell_type": "markdown",
   "metadata": {},
   "source": [
    "Copyright (C) 2013, 2014 by Samo Turk, [BioMed X GmbH](http://www.bio.mx)\n",
    "\n",
    "This work is licensed under the Creative Commons Attribution-ShareAlike 3.0 License. To view a copy of this license, visit http://creativecommons.org/licenses/by-sa/3.0/ or send a letter to Creative Commons, 543 Howard Street, 5th Floor, San Francisco, California, 94105, USA.\n"
   ]
  },
  {
   "cell_type": "code",
   "execution_count": null,
   "metadata": {
    "collapsed": false
   },
   "outputs": [],
   "source": []
  }
 ],
 "metadata": {
  "kernelspec": {
   "display_name": "Python 2",
   "language": "python2",
   "name": "python2"
  },
  "language_info": {
   "codemirror_mode": {
    "name": "ipython",
    "version": 2
   },
   "file_extension": ".py",
   "mimetype": "text/x-python",
   "name": "python",
   "nbconvert_exporter": "python",
   "pygments_lexer": "ipython2",
   "version": "2.7.12"
  }
 },
 "nbformat": 4,
 "nbformat_minor": 0
}

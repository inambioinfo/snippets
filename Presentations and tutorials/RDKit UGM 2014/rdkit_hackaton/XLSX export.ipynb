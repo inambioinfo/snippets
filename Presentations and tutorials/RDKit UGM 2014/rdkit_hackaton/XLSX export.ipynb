{
 "metadata": {
  "name": "",
  "signature": "sha256:d1c239959bbfc2922992b270c32e0a3f52ded415ef8c116012f7cc9a9a74d1dd"
 },
 "nbformat": 3,
 "nbformat_minor": 0,
 "worksheets": [
  {
   "cells": [
    {
     "cell_type": "markdown",
     "metadata": {},
     "source": [
      "# Demo of SaveXlsxFromFrame function"
     ]
    },
    {
     "cell_type": "code",
     "collapsed": false,
     "input": [
      "import rdkit.Chem as Chem\n",
      "from rdkit.Chem import Draw\n",
      "from rdkit.Chem import PandasTools\n",
      "from rdkit.Chem.Draw import IPythonConsole # Enables RDKit IPython integration\n",
      "import pandas as pd"
     ],
     "language": "python",
     "metadata": {},
     "outputs": [],
     "prompt_number": 1
    },
    {
     "cell_type": "markdown",
     "metadata": {},
     "source": [
      "Load data"
     ]
    },
    {
     "cell_type": "code",
     "collapsed": false,
     "input": [
      "df = pd.read_csv('drugs.smi', delimiter=\"\\s\")"
     ],
     "language": "python",
     "metadata": {},
     "outputs": [
      {
       "output_type": "stream",
       "stream": "stderr",
       "text": [
        "/usr/lib/python2.7/site-packages/pandas/io/parsers.py:635: ParserWarning: Falling back to the 'python' engine because the 'c' engine does not support regex separators; you can avoid this warning by specifying engine='python'.\n",
        "  ParserWarning)\n"
       ]
      }
     ],
     "prompt_number": 2
    },
    {
     "cell_type": "code",
     "collapsed": false,
     "input": [
      "df.columns"
     ],
     "language": "python",
     "metadata": {},
     "outputs": [
      {
       "metadata": {},
       "output_type": "pyout",
       "prompt_number": 3,
       "text": [
        "Index([u'SMILES', u'Name'], dtype='object')"
       ]
      }
     ],
     "prompt_number": 3
    },
    {
     "cell_type": "code",
     "collapsed": false,
     "input": [
      "smiles = 'SMILES'\n",
      "names = 'Name'"
     ],
     "language": "python",
     "metadata": {},
     "outputs": [],
     "prompt_number": 4
    },
    {
     "cell_type": "code",
     "collapsed": false,
     "input": [
      "df = df[df[smiles].notnull()]"
     ],
     "language": "python",
     "metadata": {},
     "outputs": [],
     "prompt_number": 5
    },
    {
     "cell_type": "markdown",
     "metadata": {},
     "source": [
      "Add mol objects"
     ]
    },
    {
     "cell_type": "code",
     "collapsed": false,
     "input": [
      "PandasTools.AddMoleculeColumnToFrame(df, smilesCol=smiles)"
     ],
     "language": "python",
     "metadata": {},
     "outputs": [],
     "prompt_number": 6
    },
    {
     "cell_type": "markdown",
     "metadata": {},
     "source": [
      "Add some columns with number"
     ]
    },
    {
     "cell_type": "code",
     "collapsed": false,
     "input": [
      "from rdkit.Chem import Descriptors\n",
      "df['logp'] = df['ROMol'].map(Descriptors.MolLogP)\n",
      "df['mw'] = df['ROMol'].map(Descriptors.MolWt)\n",
      "df['hac'] = df['ROMol'].map(Descriptors.HeavyAtomCount)"
     ],
     "language": "python",
     "metadata": {},
     "outputs": [],
     "prompt_number": 7
    },
    {
     "cell_type": "code",
     "collapsed": false,
     "input": [
      "len(df)"
     ],
     "language": "python",
     "metadata": {},
     "outputs": [
      {
       "metadata": {},
       "output_type": "pyout",
       "prompt_number": 8,
       "text": [
        "1000"
       ]
      }
     ],
     "prompt_number": 8
    },
    {
     "cell_type": "markdown",
     "metadata": {},
     "source": [
      "Check dtypes of columns"
     ]
    },
    {
     "cell_type": "code",
     "collapsed": false,
     "input": [
      "df.dtypes"
     ],
     "language": "python",
     "metadata": {},
     "outputs": [
      {
       "metadata": {},
       "output_type": "pyout",
       "prompt_number": 9,
       "text": [
        "SMILES     object\n",
        "Name       object\n",
        "ROMol      object\n",
        "logp      float64\n",
        "mw        float64\n",
        "hac         int64\n",
        "dtype: object"
       ]
      }
     ],
     "prompt_number": 9
    },
    {
     "cell_type": "code",
     "collapsed": false,
     "input": [
      "df.head(1)"
     ],
     "language": "python",
     "metadata": {},
     "outputs": [
      {
       "html": [
        "<div style=\"max-height:1000px;max-width:1500px;overflow:auto;\">\n",
        "<table border=\"1\" class=\"dataframe\">\n",
        "  <thead>\n",
        "    <tr style=\"text-align: right;\">\n",
        "      <th></th>\n",
        "      <th>SMILES</th>\n",
        "      <th>Name</th>\n",
        "      <th>ROMol</th>\n",
        "      <th>logp</th>\n",
        "      <th>mw</th>\n",
        "      <th>hac</th>\n",
        "    </tr>\n",
        "  </thead>\n",
        "  <tbody>\n",
        "    <tr>\n",
        "      <th>0</th>\n",
        "      <td> NC1=NCC(c2ccccc2)O1</td>\n",
        "      <td> CHEMBL106258</td>\n",
        "      <td> <img src=\"data:image/png;base64,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\" alt=\"Mol\"/></td>\n",
        "      <td> 1.0726</td>\n",
        "      <td> 162.192</td>\n",
        "      <td> 12</td>\n",
        "    </tr>\n",
        "  </tbody>\n",
        "</table>\n",
        "</div>"
       ],
       "metadata": {},
       "output_type": "pyout",
       "prompt_number": 10,
       "text": [
        "                SMILES          Name                                                                                                                                                                                                                                                                                                                                                                                                                                                                                                                                                                                                                                                                                                                                                                                                                                                                                                                                                                                                                                                                                                                                                                                                                                                                                                                                                                                                                                                                                                                                                                                                                                                                                                                                                                                                                                                                                                                                                                                                                                                                                                                                                                                                                                                                                                                                                                                                                                                                                                                                                                                                                                                                                                                                                                                                                                                                                                                                                                                                                                                                                                                                                                                                                                                                                                                                                                                                                                                                                                                                                                                                                                                                                                                                                                                                                                                                                                                                                                                                                                                                                                                                                                                                                                                                                                                                                                                                                                                                                                                                                                                                                                                                                                                                                                                                                                                                                                                                                                                                                                                                                                                                                                                                                                                                                                                                                                                                                                                                                                                                                                                                                                                                                                                                                                                                                                                                                                                                                                                                                                                                                                                                                                                                                                                                                                                                                                                                                                                                                                                                                                                                                                                                                                                                                                                                                                                                                                                                                                                                                                                                                                                                                                                                                                                                                                                                                                                                                                                                                                                                                                                                                                                                                                                                                                                                                                                                                                                                                                                                                                                                                                                                                                                                                                                                                                                                                                                                                                                                                                                                                                                                                                                                                                                                                                                                                                                                                                                                                                                                                                                                                                                                                                                                                                                                                                                                                                                                                                                                                                                                                                                                                                                                                                                                                                                                                                                                                                                                                                                                                                                                                                                                                                                                                                                                                                                                                                                                                                                                                                                                                                                                                                                  ROMol    logp       mw  hac\n",
        "0  NC1=NCC(c2ccccc2)O1  CHEMBL106258  <img src=\"data:image/png;base64,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\" alt=\"Mol\"/>  1.0726  162.192   12"
       ]
      }
     ],
     "prompt_number": 10
    },
    {
     "cell_type": "code",
     "collapsed": false,
     "input": [
      "len(df)"
     ],
     "language": "python",
     "metadata": {},
     "outputs": [
      {
       "metadata": {},
       "output_type": "pyout",
       "prompt_number": 11,
       "text": [
        "1000"
       ]
      }
     ],
     "prompt_number": 11
    },
    {
     "cell_type": "code",
     "collapsed": false,
     "input": [
      "import numpy as np\n",
      "import os\n",
      "from cStringIO import StringIO\n",
      "\n",
      "def SaveXlsxFromFrame(frame, outFile, molCol='ROMol', size=(300,300)):\n",
      "    \"\"\"\n",
      "    Saves pandas DataFrame as a xlsx file with embedded images.\n",
      "    It maps numpy data types to excel cell types:\n",
      "    int, float -> number\n",
      "    datetime -> datetime\n",
      "    object -> string (limited to 32k character - xlsx limitations)\n",
      " \n",
      "    Cells with compound images are a bit larger than images due to excel.\n",
      "    Column width weirdness explained (from xlsxwriter docs):\n",
      "    The width corresponds to the column width value that is specified in Excel. \n",
      "    It is approximately equal to the length of a string in the default font of Calibri 11. \n",
      "    Unfortunately, there is no way to specify \u201cAutoFit\u201d for a column in the Excel file format.\n",
      "    This feature is only available at runtime from within Excel.\n",
      "    \"\"\"\n",
      "    \n",
      "    import xlsxwriter # don't want to make this a RDKit dependency\n",
      "       \n",
      "    cols = list(frame.columns)\n",
      "    print cols\n",
      "    cols.remove(molCol)\n",
      "    dataTypes = dict(frame.dtypes)\n",
      "\n",
      "    workbook = xlsxwriter.Workbook(outFile) # New workbook\n",
      "    worksheet = workbook.add_worksheet() # New work sheet\n",
      "    worksheet.set_column('A:A', size[0]/6.) # column width\n",
      "    \n",
      "    # Write first row with column names\n",
      "    c2 = 1\n",
      "    for x in cols:\n",
      "        worksheet.write_string(0, c2, x)\n",
      "        c2 += 1\n",
      "    \n",
      "    c = 1\n",
      "    for index, row in frame.iterrows():\n",
      "        image_data = StringIO()\n",
      "        img = Draw.MolToImage(row[molCol], size=size)\n",
      "        img.save(image_data, format='PNG')\n",
      "        \n",
      "        worksheet.set_row(c, height=size[1]) # looks like height is not in px?\n",
      "        worksheet.insert_image(c, 0, \"f\", {'image_data': image_data})\n",
      "\n",
      "        \n",
      "        for c2, x in enumerate(cols, start=1):\n",
      "            if str(dataTypes[x]) == \"object\":\n",
      "                worksheet.write_string(c, c2, str(row[x])[:32000]) # string length is limited in xlsx\n",
      "            elif ('float' in str(dataTypes[x])) or ('int' in str(dataTypes[x])):\n",
      "                if (row[x] != np.nan) or (row[x] != np.inf):\n",
      "                    worksheet.write_number(c, c2, row[x])\n",
      "            elif 'datetime' in str(dataTypes[x]):\n",
      "                worksheet.write_datetime(c, c2, row[x])\n",
      "        c += 1\n",
      "\n",
      "    workbook.close()\n",
      "    image_data.close()"
     ],
     "language": "python",
     "metadata": {},
     "outputs": [],
     "prompt_number": 12
    },
    {
     "cell_type": "markdown",
     "metadata": {},
     "source": [
      "#### Lets write selected columns and first 500 compounds"
     ]
    },
    {
     "cell_type": "code",
     "collapsed": false,
     "input": [
      "% time SaveXlsxFromFrame(df[['ROMol', smiles, names, 'logp', 'hac']][:500], 'demo.xlsx', size=(200,200))"
     ],
     "language": "python",
     "metadata": {},
     "outputs": [
      {
       "output_type": "stream",
       "stream": "stdout",
       "text": [
        "['ROMol', 'SMILES', 'Name', 'logp', 'hac']\n",
        "CPU times: user 4.52 s, sys: 46.7 ms, total: 4.57 s"
       ]
      },
      {
       "output_type": "stream",
       "stream": "stdout",
       "text": [
        "\n",
        "Wall time: 4.58 s\n"
       ]
      }
     ],
     "prompt_number": 13
    },
    {
     "cell_type": "markdown",
     "metadata": {},
     "source": [
      "\n",
      "\n",
      "Copyright (C) 2014 by Samo Turk, [BioMed X GmbH](http://bio.mx)\n",
      "\n",
      "This work is licensed under the Creative Commons Attribution-ShareAlike 3.0 License. To view a copy of this license, visit http://creativecommons.org/licenses/by-sa/3.0/ or send a letter to Creative Commons, 543 Howard Street, 5th Floor, San Francisco, California, 94105, USA.\n"
     ]
    }
   ],
   "metadata": {}
  }
 ]
}